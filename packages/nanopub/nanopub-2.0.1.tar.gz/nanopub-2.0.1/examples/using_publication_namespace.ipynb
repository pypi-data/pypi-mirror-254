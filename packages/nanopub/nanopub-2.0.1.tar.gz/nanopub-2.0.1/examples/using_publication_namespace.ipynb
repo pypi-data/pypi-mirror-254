{
 "cells": [
  {
   "cell_type": "code",
   "execution_count": 3,
   "metadata": {},
   "outputs": [],
   "source": [
    "import rdflib\n",
    "from nanopub import Publication, NanopubClient"
   ]
  },
  {
   "cell_type": "markdown",
   "metadata": {},
   "source": [
    "## Using the nanopublication namespace within assertions\n",
    "\n",
    "Upon publication, any blank nodes in the rdf graph are replaced with the nanopub's URI, with the blank node name as a\n",
    "fragment. For example, if the blank node is called 'step', that would result in a URI composed of the nanopub's (base)\n",
    "URI, followed by #step. We can thus use blank nodes to refer to new concepts, making use of the namespace of the \n",
    "to-be-published URI."
   ]
  },
  {
   "cell_type": "code",
   "execution_count": 4,
   "metadata": {},
   "outputs": [
    {
     "name": "stderr",
     "output_type": "stream",
     "text": [
      "/Users/svenvanderburg/projects/fair-workflows/nanopub/nanopub/profile.py:51: YAMLLoadWarning: calling yaml.load() without Loader=... is deprecated, as the default Loader is unsafe. Please read https://msg.pyyaml.org/load for full details.\n",
      "  return yaml.load(f)\n"
     ]
    }
   ],
   "source": [
    "my_assertion = rdflib.Graph()\n",
    "\n",
    "# We want to introduce a new concept in our publication: Tim Berners Lee\n",
    "tim = rdflib.BNode('timbernerslee')\n",
    "\n",
    "# We assert that he is a person\n",
    "my_assertion.add((tim, rdflib.RDF.type, rdflib.FOAF.Person) )\n",
    "\n",
    "# And create a publication object for this assertion\n",
    "publication = Publication.from_assertion(assertion_rdf=my_assertion)"
   ]
  },
  {
   "cell_type": "code",
   "execution_count": 5,
   "metadata": {},
   "outputs": [
    {
     "name": "stdout",
     "output_type": "stream",
     "text": [
      "@prefix : <http://purl.org/nanopub/temp/mynanopub#> .\n",
      "\n",
      ":assertion {\n",
      "    :timbernerslee a <http://xmlns.com/foaf/0.1/Person> .\n",
      "}\n",
      "\n",
      "\n"
     ]
    }
   ],
   "source": [
    "# The assertion now uses a dummy namespace (http://purl.org/nanopub/temp/mynanopub#) that will later be replaced with the nanopub uri\n",
    "print(publication.assertion.serialize(format='trig').decode())"
   ]
  },
  {
   "cell_type": "code",
   "execution_count": 6,
   "metadata": {},
   "outputs": [
    {
     "name": "stdout",
     "output_type": "stream",
     "text": [
      "Published to http://purl.org/np/RAFGh8DInBCSiRSD4ih315Z3zNcM3DZ-NN6HpZYDxq7Mk\n"
     ]
    }
   ],
   "source": [
    "# Let's publish this to the test server\n",
    "client = NanopubClient(use_test_server=True)\n",
    "pubinfo = client.publish(publication)"
   ]
  },
  {
   "cell_type": "code",
   "execution_count": 7,
   "metadata": {},
   "outputs": [
    {
     "name": "stdout",
     "output_type": "stream",
     "text": [
      "@prefix sub: <http://purl.org/np/RAFGh8DInBCSiRSD4ih315Z3zNcM3DZ-NN6HpZYDxq7Mk#> .\n",
      "\n",
      "sub:assertion {\n",
      "    sub:timbernerslee a <http://xmlns.com/foaf/0.1/Person> .\n",
      "}\n",
      "\n",
      "\n"
     ]
    }
   ],
   "source": [
    "# Let's fetch the freshly published nanopub:\n",
    "published = client.fetch(pubinfo['nanopub_uri'])\n",
    "\n",
    "# As you see the dummy namespace has been replaced with the nanopub URI namespace!\n",
    "print(published.assertion.serialize(format='trig').decode())"
   ]
  },
  {
   "cell_type": "markdown",
   "metadata": {},
   "source": [
    "## Introducing a concept\n",
    "You can optionally specify that the ```Publication``` introduces a particular concept using blank nodes. \n",
    "The pubinfo graph will note that this nanopub npx:introduces the concept. The concept should be a blank node \n",
    "(rdflib.term.BNode), and is converted to a URI derived from the nanopub's URI with a fragment (#) made from the blank\n",
    "node's name."
   ]
  },
  {
   "cell_type": "code",
   "execution_count": 8,
   "metadata": {},
   "outputs": [],
   "source": [
    "# We can create a publication introducing this new concept\n",
    "publication = Publication.from_assertion(assertion_rdf=my_assertion,\n",
    "                                         introduces_concept=tim)"
   ]
  },
  {
   "cell_type": "code",
   "execution_count": 9,
   "metadata": {},
   "outputs": [
    {
     "name": "stdout",
     "output_type": "stream",
     "text": [
      "Published to http://purl.org/np/RAdpeRop9Ow5ArTRivUWkw7ArCI--J5K1vN3J9fw9gnuk\n",
      "Published concept to http://purl.org/np/RAdpeRop9Ow5ArTRivUWkw7ArCI--J5K1vN3J9fw9gnuk#timbernerslee\n"
     ]
    }
   ],
   "source": [
    "# Let's publish this to the test server\n",
    "client = NanopubClient(use_test_server=True)\n",
    "pubinfo = client.publish(publication)"
   ]
  },
  {
   "cell_type": "code",
   "execution_count": 10,
   "metadata": {},
   "outputs": [
    {
     "data": {
      "text/plain": [
       "'http://purl.org/np/RAdpeRop9Ow5ArTRivUWkw7ArCI--J5K1vN3J9fw9gnuk#timbernerslee'"
      ]
     },
     "execution_count": 10,
     "metadata": {},
     "output_type": "execute_result"
    }
   ],
   "source": [
    "# pubinfo now contains the concept uri\n",
    "pubinfo['concept_uri']"
   ]
  },
  {
   "cell_type": "code",
   "execution_count": 11,
   "metadata": {},
   "outputs": [],
   "source": [
    "# Let's fetch the freshly published nanopub:\n",
    "published = client.fetch(pubinfo['nanopub_uri'])"
   ]
  },
  {
   "cell_type": "code",
   "execution_count": 12,
   "metadata": {},
   "outputs": [
    {
     "name": "stdout",
     "output_type": "stream",
     "text": [
      "@prefix npx: <http://purl.org/nanopub/x/> .\n",
      "@prefix prov: <http://www.w3.org/ns/prov#> .\n",
      "@prefix sub: <http://purl.org/np/RAdpeRop9Ow5ArTRivUWkw7ArCI--J5K1vN3J9fw9gnuk#> .\n",
      "@prefix this: <http://purl.org/np/RAdpeRop9Ow5ArTRivUWkw7ArCI--J5K1vN3J9fw9gnuk> .\n",
      "@prefix xsd: <http://www.w3.org/2001/XMLSchema#> .\n",
      "\n",
      "sub:pubinfo {\n",
      "    sub:sig npx:hasAlgorithm \"RSA\" ;\n",
      "        npx:hasPublicKey \"MIGfMA0GCSqGSIb3DQEBAQUAA4GNADCBiQKBgQCmso7vmRO/Cp4Pt0RkJJkV5qfc1WFYU/jMtkdxxb5+lfIVXNV97XQnM1Tj4fkb/W6jkP6fHl8mj8Q7hl7VgUnQ6I+B7cMGpxW9Z8Br+JNx8DPMMt08VCH5+JMENPRKl91r7rF/YPWCAgL9eqXSixCNMNAj5RBmMTQoPuRkpgmt1wIDAQAB\" ;\n",
      "        npx:hasSignature \"ECl9+3rpTErXr72pZWXlNVVEVWu0p1L1y1r46wzCs9Gj4A/Q+joB6gcf51S/HVnNgq0mHSPWJspcqvi5bp8i3ogMI5nz8SGWbgSoDsFVW9XN7xoy7mQ2LUfCTUZYNRic2nH9Bo3k9RnooSP79dFpINC7g0RRnNcl/D+SVUPYqBQ=\" ;\n",
      "        npx:hasSignatureTarget this: .\n",
      "\n",
      "    this: npx:introduces sub:timbernerslee ;\n",
      "        prov:generatedAtTime \"2020-11-30T12:42:42.151969\"^^xsd:dateTime ;\n",
      "        prov:wasAttributedTo <https://orcid.org/0000-0000-0000-0000> .\n",
      "}\n",
      "\n",
      "\n"
     ]
    }
   ],
   "source": [
    "# The publication info subgraph notes that this nanopub introduces Tim Berners Lee\n",
    "print(published.pubinfo.serialize(format='trig').decode())"
   ]
  },
  {
   "cell_type": "code",
   "execution_count": null,
   "metadata": {},
   "outputs": [],
   "source": []
  }
 ],
 "metadata": {
  "kernelspec": {
   "display_name": "Python [conda env:fair3.6] *",
   "language": "python",
   "name": "conda-env-fair3.6-py"
  },
  "language_info": {
   "codemirror_mode": {
    "name": "ipython",
    "version": 3
   },
   "file_extension": ".py",
   "mimetype": "text/x-python",
   "name": "python",
   "nbconvert_exporter": "python",
   "pygments_lexer": "ipython3",
   "version": "3.6.10"
  }
 },
 "nbformat": 4,
 "nbformat_minor": 4
}
