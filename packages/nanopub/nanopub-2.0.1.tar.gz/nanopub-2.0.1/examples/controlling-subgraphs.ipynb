{
 "cells": [
  {
   "cell_type": "markdown",
   "metadata": {},
   "source": [
    "# Controlling publication info and provenance"
   ]
  },
  {
   "cell_type": "code",
   "execution_count": 4,
   "metadata": {},
   "outputs": [],
   "source": [
    "import rdflib\n",
    "from nanopub import namespaces, Nanopub, NanopubConf"
   ]
  },
  {
   "cell_type": "markdown",
   "metadata": {},
   "source": [
    "## Specifying where the nanopublication is derived from\n",
    "You can specify that the nanopub's assertion is derived from another URI (such as an existing nanopublication):"
   ]
  },
  {
   "cell_type": "code",
   "execution_count": 8,
   "metadata": {},
   "outputs": [],
   "source": [
    "my_assertion = rdflib.Graph()\n",
    "my_assertion.add((\n",
    "    rdflib.URIRef('https://www.example.org/timbernerslee'),\n",
    "    rdflib.RDF.type,\n",
    "    rdflib.FOAF.Person\n",
    "))\n",
    "\n",
    "np = Nanopub(\n",
    "    rdf=my_assertion,\n",
    "    conf=NanopubConf(\n",
    "        derived_from=rdflib.URIRef('http://www.example.org/another-nanopublication')\n",
    "    )\n",
    ")"
   ]
  },
  {
   "cell_type": "code",
   "execution_count": 9,
   "metadata": {},
   "outputs": [
    {
     "name": "stdout",
     "output_type": "stream",
     "text": [
      "@prefix ns1: <http://purl.org/nanopub/temp/np#> .\n",
      "@prefix prov: <http://www.w3.org/ns/prov#> .\n",
      "\n",
      "ns1:provenance {\n",
      "    ns1:assertion prov:wasDerivedFrom <http://www.example.org/another-nanopublication> .\n",
      "}\n",
      "\n",
      "\n"
     ]
    }
   ],
   "source": [
    "print(np.provenance.serialize(format='trig'))"
   ]
  },
  {
   "cell_type": "markdown",
   "metadata": {},
   "source": [
    "## Attributing the assertion to someone\n",
    "You can attribute the assertion to someone by specifying the `assertion_attributed_to` argument:"
   ]
  },
  {
   "cell_type": "code",
   "execution_count": 10,
   "metadata": {},
   "outputs": [],
   "source": [
    "np = Nanopub(\n",
    "    rdf=my_assertion,\n",
    "    conf=NanopubConf(\n",
    "        assertion_attributed_to=rdflib.URIRef('https://orcid.org/0000-0000-0000-0000')\n",
    "    )\n",
    ")"
   ]
  },
  {
   "cell_type": "code",
   "execution_count": 11,
   "metadata": {},
   "outputs": [
    {
     "name": "stdout",
     "output_type": "stream",
     "text": [
      "@prefix ns1: <http://purl.org/nanopub/temp/np#> .\n",
      "@prefix orcid: <https://orcid.org/> .\n",
      "@prefix prov: <http://www.w3.org/ns/prov#> .\n",
      "\n",
      "ns1:provenance {\n",
      "    ns1:assertion prov:wasAttributedTo orcid:0000-0000-0000-0000 .\n",
      "}\n",
      "\n",
      "\n"
     ]
    }
   ],
   "source": [
    "print(np.provenance.serialize(format='trig'))"
   ]
  },
  {
   "cell_type": "code",
   "execution_count": 12,
   "metadata": {},
   "outputs": [],
   "source": [
    "from nanopub import load_profile\n",
    "\n",
    "np = Nanopub(\n",
    "    rdf=my_assertion,\n",
    "    conf=NanopubConf(\n",
    "        profile=load_profile(),\n",
    "        attribute_assertion_to_profile=True\n",
    "    )\n",
    ")"
   ]
  },
  {
   "cell_type": "code",
   "execution_count": 14,
   "metadata": {},
   "outputs": [
    {
     "name": "stdout",
     "output_type": "stream",
     "text": [
      "@prefix : <http://purl.org/nanopub/temp/mynanopub#> .\n",
      "@prefix prov: <http://www.w3.org/ns/prov#> .\n",
      "@prefix xsd: <http://www.w3.org/2001/XMLSchema#> .\n",
      "\n",
      ":provenance {\n",
      "    :assertion prov:generatedAtTime \"2020-11-30T13:10:49.919716\"^^xsd:dateTime ;\n",
      "        prov:wasAttributedTo <https://orcid.org/0000-0000-0000-0000> .\n",
      "}\n",
      "\n",
      "\n"
     ]
    }
   ],
   "source": [
    "print(np.provenance.serialize(format='trig'))"
   ]
  },
  {
   "cell_type": "code",
   "execution_count": null,
   "metadata": {},
   "outputs": [],
   "source": []
  }
 ],
 "metadata": {
  "kernelspec": {
   "display_name": "Python 3.9.13 ('.venv': venv)",
   "language": "python",
   "name": "python3"
  },
  "language_info": {
   "codemirror_mode": {
    "name": "ipython",
    "version": 3
   },
   "file_extension": ".py",
   "mimetype": "text/x-python",
   "name": "python",
   "nbconvert_exporter": "python",
   "pygments_lexer": "ipython3",
   "version": "3.9.13"
  },
  "vscode": {
   "interpreter": {
    "hash": "f5c57158c507357b65d5a3da3caabff05a2e168ca5a960d016907ac5435d4ab1"
   }
  }
 },
 "nbformat": 4,
 "nbformat_minor": 4
}
