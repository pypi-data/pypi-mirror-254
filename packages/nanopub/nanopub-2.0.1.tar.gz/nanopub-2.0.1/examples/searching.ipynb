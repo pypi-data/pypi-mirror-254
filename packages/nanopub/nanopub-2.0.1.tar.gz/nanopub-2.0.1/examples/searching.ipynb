{
 "cells": [
  {
   "cell_type": "code",
   "execution_count": 1,
   "metadata": {},
   "outputs": [],
   "source": [
    "from pprint import pprint\n",
    "from nanopub import NanopubClient, profile"
   ]
  },
  {
   "cell_type": "code",
   "execution_count": 14,
   "metadata": {},
   "outputs": [],
   "source": [
    "client = NanopubClient()"
   ]
  },
  {
   "cell_type": "code",
   "execution_count": 15,
   "metadata": {},
   "outputs": [],
   "source": [
    "results = client.find_nanopubs_with_text('fair')"
   ]
  },
  {
   "cell_type": "code",
   "execution_count": 16,
   "metadata": {},
   "outputs": [
    {
     "name": "stdout",
     "output_type": "stream",
     "text": [
      "{'date': '2020-11-24T14:45:04.382Z',\n",
      " 'description': 'available FAIR-enabling resource',\n",
      " 'np': 'http://purl.org/np/RAXYLS67FL2dZTbRNTwSSkwo2Zn5XmE5wUMwAV4Uxeda4'}\n"
     ]
    }
   ],
   "source": [
    "pprint(next(results))"
   ]
  },
  {
   "cell_type": "code",
   "execution_count": 17,
   "metadata": {},
   "outputs": [],
   "source": [
    "results = client.find_nanopubs_with_pattern(\n",
    "                pred='http://www.w3.org/1999/02/22-rdf-syntax-ns#type',\n",
    "                obj='http://www.w3.org/1999/02/22-rdf-syntax-ns#Statement')"
   ]
  },
  {
   "cell_type": "code",
   "execution_count": 18,
   "metadata": {},
   "outputs": [
    {
     "name": "stdout",
     "output_type": "stream",
     "text": [
      "{'date': '2020-06-30T06:49:07.780Z',\n",
      " 'description': '',\n",
      " 'np': 'http://purl.org/np/RAOSnkAwBowEh2VQ9Ki_c3wtUe4M5ZNnq_iMVd_aqtFLQ'}\n"
     ]
    }
   ],
   "source": [
    "pprint(next(results))"
   ]
  },
  {
   "cell_type": "code",
   "execution_count": 19,
   "metadata": {},
   "outputs": [],
   "source": [
    "results = client.find_things('http://purl.org/net/p-plan#Step', searchterm= 'procedure')"
   ]
  },
  {
   "cell_type": "code",
   "execution_count": 20,
   "metadata": {},
   "outputs": [
    {
     "name": "stdout",
     "output_type": "stream",
     "text": [
      "{'date': '2020-10-27T13:48:21.458Z',\n",
      " 'description': 'String describing the procedure that happens in this step',\n",
      " 'np': 'http://purl.org/np/RAM9FwSpQv90LiA9gE2l0B5dDDl2FqBzeplDYoqqgygtQ'}\n"
     ]
    }
   ],
   "source": [
    "pprint(next(results))"
   ]
  },
  {
   "cell_type": "code",
   "execution_count": 22,
   "metadata": {},
   "outputs": [
    {
     "name": "stdout",
     "output_type": "stream",
     "text": [
      "{'date': '2020-10-27T10:58:45.317Z',\n",
      " 'description': 'Arrange the chicken pieces in a single layer in a 9x13-inch '\n",
      "                'baking dish. Season the chicken liberally with salt, pepper, '\n",
      "                'and the paprika; set aside.',\n",
      " 'np': 'http://purl.org/np/RAfAJos5jSLTQ4sBoJj2Orau3xxa3AMa2QSvoEVLVtUwE'}\n"
     ]
    }
   ],
   "source": [
    "results = client.find_things('http://purl.org/net/p-plan#Step')\n",
    "pprint(next(results))"
   ]
  },
  {
   "cell_type": "code",
   "execution_count": 2,
   "metadata": {},
   "outputs": [],
   "source": [
    "from nanopub import NanopubClient, profile\n",
    "# Search for nanopublications containing the text test,\n",
    "# filtering on publications signed with my publication key.\n",
    "client = NanopubClient(use_test_server=True)\n",
    "my_public_key = profile.public_key\n",
    "results = client.find_nanopubs_with_text('test', pubkey=my_public_key)"
   ]
  },
  {
   "cell_type": "code",
   "execution_count": 3,
   "metadata": {},
   "outputs": [
    {
     "data": {
      "text/plain": [
       "[{'np': 'http://purl.org/np/RAwNAVOl2lydH8HqRK9v85Yx2L-T1o6EIuS1KCpEWmDpk',\n",
       "  'description': 'Test',\n",
       "  'date': '2020-12-03T15:52:24.167Z'},\n",
       " {'np': 'http://purl.org/np/RAwNAVOl2lydH8HqRK9v85Yx2L-T1o6EIuS1KCpEWmDpk',\n",
       "  'description': 'This is a test workflow.',\n",
       "  'date': '2020-12-03T15:52:24.167Z'}]"
      ]
     },
     "execution_count": 3,
     "metadata": {},
     "output_type": "execute_result"
    }
   ],
   "source": [
    "results"
   ]
  },
  {
   "cell_type": "code",
   "execution_count": null,
   "metadata": {},
   "outputs": [],
   "source": []
  }
 ],
 "metadata": {
  "kernelspec": {
   "display_name": "Python 3 (ipykernel)",
   "language": "python",
   "name": "python3"
  },
  "language_info": {
   "codemirror_mode": {
    "name": "ipython",
    "version": 3
   },
   "file_extension": ".py",
   "mimetype": "text/x-python",
   "name": "python",
   "nbconvert_exporter": "python",
   "pygments_lexer": "ipython3",
   "version": "3.9.13"
  }
 },
 "nbformat": 4,
 "nbformat_minor": 4
}
