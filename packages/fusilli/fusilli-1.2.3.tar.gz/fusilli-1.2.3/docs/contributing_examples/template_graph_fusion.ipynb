{
  "cells": [
    {
      "cell_type": "markdown",
      "metadata": {},
      "source": [
        "\n# Fusion Model Template: Graph-based Fusion\n\nThis template is for creating your own fusion model that is graph-based. An example of a graph-based fusion model is :class:`~fusilli.fusionmodels.tabularfusion.edge_corr_gnn.EdgeCorrGNN`.\n\n<div class=\"alert alert-info\"><h4>Note</h4><p>I recommend looking at `how_to_contribute_a_template_other_fusion` before looking at this template, as I will skip over some of the details that are covered in that template (particularly regarding documentation and idiosyncrasies of the fusion model template).</p></div>\n\n\nBuilding a graph-based fusion model is a bit different to the general template in\n`how_to_contribute_a_template_other_fusion`. The main difference is that you need to create a method that will create the graph structure from the input data.\n\nFor the :class:`~fusilli.fusionmodels.tabularfusion.edge_corr_gnn.EdgeCorrGNN`, this is done in the :class:`~fusilli.fusionmodels.tabularfusion.edge_corr_gnn.EdgeCorrGraphMaker` class, which is in the same ``.py`` file as the :class:`~fusilli.fusionmodels.tabularfusion.edge_corr_gnn.EdgeCorrGNN` class.\n\nFirst, let's look at creating the graph-maker class.\n"
      ]
    },
    {
      "cell_type": "markdown",
      "metadata": {},
      "source": [
        "## Creating the Graph-Maker Class\n\nThe graph will probably be created with the ``PyTorch Geometric`` library, which is a library for creating graph-based models in PyTorch.\n\nLet's import the libraries that we need:\n\n"
      ]
    },
    {
      "cell_type": "code",
      "execution_count": null,
      "metadata": {
        "collapsed": false
      },
      "outputs": [],
      "source": [
        "# sphinx_gallery_thumbnail_path = '_static/EdgeCorrGNN.png'\n\nimport numpy as np\nimport torch\nimport torch.nn as nn\n\nfrom torch_geometric.data import Data\n\nfrom fusilli.fusionmodels.base_model import ParentFusionModel\nfrom fusilli.utils import check_model_validity"
      ]
    },
    {
      "cell_type": "markdown",
      "metadata": {},
      "source": [
        "Now let's create the graph-maker class.\n\nThe graph-maker class must have the following methods:\n\n- ``__init__``: This method initialises the graph-maker class. It must take a ``torch.utils.data.Dataset`` as an argument (created in :meth:`.TrainTestGraphDataModule.setup` or :meth:`.KFoldGraphDataModule.setup`).\n- ``check_params``: This method checks the parameters of the graph-maker class. It should raise a ``ValueError`` if the parameters are invalid. This will check validity of any modifications made to the model as well.\n- ``make_graph``: This method creates the graph data structure. It must return a ``torch_geometric.data.Data`` object.\n\n\n\n"
      ]
    },
    {
      "cell_type": "code",
      "execution_count": null,
      "metadata": {
        "collapsed": false
      },
      "outputs": [],
      "source": [
        "class TemplateGraphMaker:\n    def __init__(self, dataset):\n        self.dataset = dataset\n\n        # other attributes for the graph maker go here\n\n    def check_params(self):\n        # check the parameters of the graph maker here\n\n        pass\n\n    def make_graph(self):\n        # create the graph here with self.dataset\n\n        self.check_params()\n\n        modality_1_data = self.dataset[:][0]\n        modality_2_data = self.dataset[:][1]\n        labels = self.dataset[:][2]\n\n        # some code to create the graph to get out:\n        # - node attributes\n        # - edge attributes\n        # - edge indices\n\n        # replace the strings with the actual graph data\n\n        data = Data(\n            x=\"node attributes\",\n            edge_attr=\"edge attributes\",\n            edge_index=\"edge indices\",\n            y=\"labels\"\n        )\n\n        return data"
      ]
    },
    {
      "cell_type": "markdown",
      "metadata": {},
      "source": [
        "## Creating the Fusion Model Class\n\nNow let's create the fusion model class that will take in the graph data structure and perform the prediction.\n\nIn addition to the class-level attributes for every fusion model, a graph-based fusion model class **must** have a class-level attribute ``graph_maker`` that is the graph-maker class that we created above.\n\nVery similar to the general fusion model template in `how_to_contribute_a_template_other_fusion`, the fusion model class must have the following methods:\n\n- ``__init__``: initialising with input parameters ``prediction_task``, ``data_dims``, and ``multiclass_dimensions``.\n- ``calc_fused_layers``: checking the parameters of the fusion model if they're modified and recalculate the layers of the fusion model where necessary.\n- ``forward``: the forward pass of the fusion model. Takes ``x`` as input but in this example, this is a tuple of the node features, edge indices, and edge attributes.\n\n<div class=\"alert alert-info\"><h4>Note</h4><p>The graph-maker class returns a ``torch_geometric.data.Data`` object, but in :func:`~.prepare_fusion_data`, this is converted to ``torch_geometric.data.lightning.LightningNodeData`` object, which lets you use the ``torch_geometric`` library with PyTorch Lightning.</p></div>\n\n\n"
      ]
    },
    {
      "cell_type": "code",
      "execution_count": null,
      "metadata": {
        "collapsed": false
      },
      "outputs": [],
      "source": [
        "from torch_geometric.nn import GCNConv\n\n\nclass TemplateGraphFusionModel(ParentFusionModel, nn.Module):\n    method_name = \"Template Graph Fusion Model\"\n    modality_type = \"tabular_tabular\"\n    fusion_type = \"graph\"\n\n    graph_maker = TemplateGraphMaker\n\n    def __init__(self, prediction_task, data_dims, multiclass_dimensions):\n        ParentFusionModel.__init__(self, prediction_task, data_dims, multiclass_dimensions)\n\n        self.prediction_task = prediction_task\n\n        # create some graph convolutional layers here. For example, GCNConv from PyTorch Geometric\n        self.graph_layers = nn.Sequential(\n            GCNConv(1, 64),\n            GCNConv(64, 128),\n            GCNConv(128, 256),\n        )\n\n        self.calc_fused_layers()\n\n    def calc_fused_layers(self):\n        # checks on the parameters of the fusion model go here\n\n        # calculate the final prediction layer here and the input dimension for it\n\n        self.fused_dim = 256  # for example\n\n        self.set_final_pred_layers(self.fused_dim)\n\n    def forward(self, x):\n        # x is a tuple of the node features, edge indices, and edge attributes\n        x_n, edge_index, edge_attr = x\n\n        for layer in self.graph_conv_layers:\n            x_n = layer(x_n, edge_index, edge_attr)\n            x_n = x_n.relu()\n\n        out = self.final_prediction(x_n)\n\n        # must return a list of outputs\n\n        return [\n            out,\n        ]"
      ]
    }
  ],
  "metadata": {
    "kernelspec": {
      "display_name": "Python 3",
      "language": "python",
      "name": "python3"
    },
    "language_info": {
      "codemirror_mode": {
        "name": "ipython",
        "version": 3
      },
      "file_extension": ".py",
      "mimetype": "text/x-python",
      "name": "python",
      "nbconvert_exporter": "python",
      "pygments_lexer": "ipython3",
      "version": "3.9.16"
    }
  },
  "nbformat": 4,
  "nbformat_minor": 0
}