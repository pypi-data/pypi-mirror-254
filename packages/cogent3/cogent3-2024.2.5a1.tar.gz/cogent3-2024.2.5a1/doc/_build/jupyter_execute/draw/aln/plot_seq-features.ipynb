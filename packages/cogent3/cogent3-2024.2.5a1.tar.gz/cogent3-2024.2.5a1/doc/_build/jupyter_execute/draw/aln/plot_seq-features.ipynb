{
 "cells": [
  {
   "cell_type": "code",
   "execution_count": 1,
   "id": "31daebad",
   "metadata": {
    "execution": {
     "iopub.execute_input": "2023-12-15T00:09:43.713196Z",
     "iopub.status.busy": "2023-12-15T00:09:43.712821Z",
     "iopub.status.idle": "2023-12-15T00:09:43.725502Z",
     "shell.execute_reply": "2023-12-15T00:09:43.725015Z"
    }
   },
   "outputs": [],
   "source": [
    "import set_working_directory"
   ]
  },
  {
   "cell_type": "code",
   "execution_count": 2,
   "id": "36e066ef",
   "metadata": {
    "execution": {
     "iopub.execute_input": "2023-12-15T00:09:43.728084Z",
     "iopub.status.busy": "2023-12-15T00:09:43.727879Z",
     "iopub.status.idle": "2023-12-15T00:09:46.556662Z",
     "shell.execute_reply": "2023-12-15T00:09:46.556303Z"
    }
   },
   "outputs": [
    {
     "data": {
      "text/html": [
       "<style>\n",
       ".c3seq table {margin: 10px 0;}\n",
       ".c3seq td { border: none !important; text-align: left !important; }\n",
       ".c3seq tr:not(.num_row) td span {margin: 0 2px;}\n",
       ".c3seq tr:nth-child(even) {background: #f7f7f7;}\n",
       ".c3seq .num_row {background-color:rgba(161, 195, 209, 0.5) !important; border-top: solid 1px black; }\n",
       ".c3seq .label { font-size: 12pt ; text-align: right !important; color: black !important; padding: 0 4px; }\n",
       ".c3seq .T_dna{font-family: \"Lucida Console\",monospace !important; font-size: 12pt !important; color: blue; }\n",
       ".c3seq .C_dna{font-family: \"Lucida Console\",monospace !important; font-size: 12pt !important; color: black; }\n",
       ".c3seq .A_dna{font-family: \"Lucida Console\",monospace !important; font-size: 12pt !important; color: #FF0102; }\n",
       ".c3seq .G_dna{font-family: \"Lucida Console\",monospace !important; font-size: 12pt !important; color: green; }\n",
       ".c3seq .terminal_ambig_dna{font-family: \"Lucida Console\",monospace !important; font-size: 12pt !important; color: gray; }\n",
       ".c3seq .ambig_dna{font-family: \"Lucida Console\",monospace !important; font-size: 12pt !important; color: gray; }\n",
       "</style>\n",
       "<div class=\"c3seq\">\n",
       "<table>\n",
       "<tr class=\"num_row\"><td></td><td><b>0</b></td></tr>\n",
       "<tr><td class=\"label\">I</td><td><span class=\"G_dna\">G</span><span class=\"C_dna\">C</span><span class=\"C_dna\">C</span><span class=\"T_dna\">T</span><span class=\"A_dna\">A</span><span class=\"A_dna\">A</span><span class=\"G_dna\">G</span><span class=\"C_dna\">C</span><span class=\"C_dna\">C</span><span class=\"T_dna\">T</span><span class=\"A_dna\">A</span><span class=\"A_dna\">A</span><span class=\"G_dna\">G</span><span class=\"C_dna\">C</span><span class=\"C_dna\">C</span><span class=\"T_dna\">T</span><span class=\"A_dna\">A</span><span class=\"A_dna\">A</span><span class=\"G_dna\">G</span><span class=\"C_dna\">C</span><span class=\"C_dna\">C</span><span class=\"T_dna\">T</span><span class=\"A_dna\">A</span><span class=\"A_dna\">A</span><span class=\"G_dna\">G</span><span class=\"C_dna\">C</span><span class=\"C_dna\">C</span><span class=\"T_dna\">T</span><span class=\"A_dna\">A</span><span class=\"A_dna\">A</span><span class=\"G_dna\">G</span><span class=\"C_dna\">C</span><span class=\"C_dna\">C</span><span class=\"T_dna\">T</span><span class=\"A_dna\">A</span><span class=\"A_dna\">A</span><span class=\"G_dna\">G</span><span class=\"C_dna\">C</span><span class=\"C_dna\">C</span><span class=\"T_dna\">T</span><span class=\"A_dna\">A</span><span class=\"A_dna\">A</span><span class=\"G_dna\">G</span><span class=\"C_dna\">C</span><span class=\"C_dna\">C</span><span class=\"T_dna\">T</span><span class=\"A_dna\">A</span><span class=\"A_dna\">A</span><span class=\"G_dna\">G</span><span class=\"C_dna\">C</span><span class=\"C_dna\">C</span><span class=\"T_dna\">T</span><span class=\"A_dna\">A</span><span class=\"A_dna\">A</span><span class=\"G_dna\">G</span><span class=\"C_dna\">C</span><span class=\"C_dna\">C</span><span class=\"T_dna\">T</span><span class=\"A_dna\">A</span><span class=\"A_dna\">A</span></td></tr>\n",
       "</table>\n",
       "<p><i>DnaSequence, length=15,072,434 (truncated to 60)</i></p>\n",
       "</div>"
      ],
      "text/plain": [
       "DnaSequence(GCCTAAG... 15,072,434)"
      ]
     },
     "execution_count": 2,
     "metadata": {},
     "output_type": "execute_result"
    }
   ],
   "source": [
    "from cogent3 import load_seq\n",
    "\n",
    "seq = load_seq(\"data/C-elegans-chromosome-I.gb\", moltype=\"dna\")\n",
    "seq"
   ]
  },
  {
   "cell_type": "code",
   "execution_count": 3,
   "id": "cca38b29",
   "metadata": {
    "execution": {
     "iopub.execute_input": "2023-12-15T00:09:46.558166Z",
     "iopub.status.busy": "2023-12-15T00:09:46.558025Z",
     "iopub.status.idle": "2023-12-15T00:09:46.559931Z",
     "shell.execute_reply": "2023-12-15T00:09:46.559680Z"
    }
   },
   "outputs": [],
   "source": [
    "seq = seq[25000:35000]"
   ]
  },
  {
   "cell_type": "code",
   "execution_count": 4,
   "id": "6cf126c0",
   "metadata": {
    "execution": {
     "iopub.execute_input": "2023-12-15T00:09:46.561145Z",
     "iopub.status.busy": "2023-12-15T00:09:46.561055Z",
     "iopub.status.idle": "2023-12-15T00:09:46.664960Z",
     "shell.execute_reply": "2023-12-15T00:09:46.664701Z"
    }
   },
   "outputs": [
    {
     "data": {
      "text/html": [
       "<script type=\"text/javascript\">\n",
       "window.PlotlyConfig = {MathJaxConfig: 'local'};\n",
       "if (window.MathJax && window.MathJax.Hub && window.MathJax.Hub.Config) {window.MathJax.Hub.Config({SVG: {font: \"STIX-Web\"}});}\n",
       "if (typeof require !== 'undefined') {\n",
       "require.undef(\"plotly\");\n",
       "requirejs.config({\n",
       "    paths: {\n",
       "        'plotly': ['https://cdn.plot.ly/plotly-2.20.0.min']\n",
       "    }\n",
       "});\n",
       "require(['plotly'], function(Plotly) {\n",
       "    window._Plotly = Plotly;\n",
       "});\n",
       "}\n",
       "</script>\n"
      ]
     },
     "metadata": {},
     "output_type": "display_data"
    },
    {
     "data": {
      "application/vnd.plotly.v1+json": {
       "config": {
        "plotlyServerURL": "https://plot.ly"
       },
       "data": [
        {
         "fill": "toself",
         "fillcolor": "rgba(0,0,100,0.75)",
         "hoverinfo": "text",
         "legendgroup": "exon",
         "line": {
          "color": "rgba(0,0,100,0.75)"
         },
         "mode": "lines",
         "name": "exon",
         "showlegend": true,
         "text": "exon-22004",
         "type": "scatter",
         "x": [
          1781.0,
          1781.0,
          1741.8,
          1741.8,
          1732.0,
          1741.8,
          1741.8,
          1781.0
         ],
         "y": [
          0.3,
          0.55,
          0.55,
          0.6,
          0.425,
          0.25,
          0.3,
          0.3
         ]
        },
        {
         "fill": "toself",
         "fillcolor": "rgba(0,0,100,0.75)",
         "hoverinfo": "text",
         "legendgroup": "exon",
         "line": {
          "color": "rgba(0,0,100,0.75)"
         },
         "mode": "lines",
         "name": "exon",
         "showlegend": false,
         "text": "exon-23652",
         "type": "scatter",
         "x": [
          7414.0,
          7430.8,
          7430.8,
          7435.0,
          7430.8,
          7430.8,
          7414.0,
          7414.0
         ],
         "y": [
          0.3,
          0.3,
          0.25,
          0.425,
          0.6,
          0.55,
          0.55,
          0.3
         ]
        },
        {
         "fill": "toself",
         "fillcolor": "rgba(0,0,100,0.75)",
         "hoverinfo": "text",
         "legendgroup": "exon",
         "line": {
          "color": "rgba(0,0,100,0.75)"
         },
         "mode": "lines",
         "name": "exon",
         "showlegend": false,
         "text": "exon-22002",
         "type": "scatter",
         "x": [
          1524.0,
          1524.0,
          1400.8,
          1400.8,
          1370.0,
          1400.8,
          1400.8,
          1524.0
         ],
         "y": [
          0.3,
          0.55,
          0.55,
          0.6,
          0.425,
          0.25,
          0.3,
          0.3
         ]
        },
        {
         "fill": "toself",
         "fillcolor": "rgba(0,0,100,0.75)",
         "hoverinfo": "text",
         "legendgroup": "exon",
         "line": {
          "color": "rgba(0,0,100,0.75)"
         },
         "mode": "lines",
         "name": "exon",
         "showlegend": false,
         "text": "exon-22007 (incomplete)",
         "type": "scatter",
         "x": [
          90.0,
          90.0,
          18.0,
          18.0,
          0.0,
          18.0,
          18.0,
          90.0
         ],
         "y": [
          0.3,
          0.55,
          0.55,
          0.6,
          0.425,
          0.25,
          0.3,
          0.3
         ]
        },
        {
         "fill": "toself",
         "fillcolor": "rgba(0,0,100,0.75)",
         "hoverinfo": "text",
         "legendgroup": "exon",
         "line": {
          "color": "rgba(0,0,100,0.75)"
         },
         "mode": "lines",
         "name": "exon",
         "showlegend": false,
         "text": "exon-22011",
         "type": "scatter",
         "x": [
          4367.0,
          4367.0,
          4152.6,
          4152.6,
          4099.0,
          4152.6,
          4152.6,
          4367.0
         ],
         "y": [
          0.3,
          0.55,
          0.55,
          0.6,
          0.425,
          0.25,
          0.3,
          0.3
         ]
        },
        {
         "fill": "toself",
         "fillcolor": "rgba(0,0,100,0.75)",
         "hoverinfo": "text",
         "legendgroup": "exon",
         "line": {
          "color": "rgba(0,0,100,0.75)"
         },
         "mode": "lines",
         "name": "exon",
         "showlegend": false,
         "text": "exon-23626",
         "type": "scatter",
         "x": [
          6522.0,
          6538.8,
          6538.8,
          6543.0,
          6538.8,
          6538.8,
          6522.0,
          6522.0
         ],
         "y": [
          0.3,
          0.3,
          0.25,
          0.425,
          0.6,
          0.55,
          0.55,
          0.3
         ]
        },
        {
         "fill": "toself",
         "fillcolor": "rgba(0,0,100,0.75)",
         "hoverinfo": "text",
         "legendgroup": "exon",
         "line": {
          "color": "rgba(0,0,100,0.75)"
         },
         "mode": "lines",
         "name": "exon",
         "showlegend": false,
         "text": "exon-22003",
         "type": "scatter",
         "x": [
          1681.0,
          1681.0,
          1607.4,
          1607.4,
          1589.0,
          1607.4,
          1607.4,
          1681.0
         ],
         "y": [
          0.3,
          0.55,
          0.55,
          0.6,
          0.425,
          0.25,
          0.3,
          0.3
         ]
        },
        {
         "fill": "toself",
         "fillcolor": "rgba(0,0,100,0.75)",
         "hoverinfo": "text",
         "legendgroup": "exon",
         "line": {
          "color": "rgba(0,0,100,0.75)"
         },
         "mode": "lines",
         "name": "exon",
         "showlegend": false,
         "text": "exon-22016",
         "type": "scatter",
         "x": [
          8150.0,
          8150.0,
          8058.8,
          8058.8,
          8036.0,
          8058.8,
          8058.8,
          8150.0
         ],
         "y": [
          0.3,
          0.55,
          0.55,
          0.6,
          0.425,
          0.25,
          0.3,
          0.3
         ]
        },
        {
         "fill": "toself",
         "fillcolor": "rgba(0,0,100,0.75)",
         "hoverinfo": "text",
         "legendgroup": "exon",
         "line": {
          "color": "rgba(0,0,100,0.75)"
         },
         "mode": "lines",
         "name": "exon",
         "showlegend": false,
         "text": "exon-21997",
         "type": "scatter",
         "x": [
          472.0,
          472.0,
          312.0,
          312.0,
          272.0,
          312.0,
          312.0,
          472.0
         ],
         "y": [
          0.3,
          0.55,
          0.55,
          0.6,
          0.425,
          0.25,
          0.3,
          0.3
         ]
        },
        {
         "fill": "toself",
         "fillcolor": "rgba(0,0,100,0.75)",
         "hoverinfo": "text",
         "legendgroup": "exon",
         "line": {
          "color": "rgba(0,0,100,0.75)"
         },
         "mode": "lines",
         "name": "exon",
         "showlegend": false,
         "text": "exon-22009",
         "type": "scatter",
         "x": [
          1643.0,
          1643.0,
          1599.8,
          1599.8,
          1589.0,
          1599.8,
          1599.8,
          1643.0
         ],
         "y": [
          0.3,
          0.55,
          0.55,
          0.6,
          0.425,
          0.25,
          0.3,
          0.3
         ]
        },
        {
         "fill": "toself",
         "fillcolor": "rgba(0,0,100,0.75)",
         "hoverinfo": "text",
         "legendgroup": "exon",
         "line": {
          "color": "rgba(0,0,100,0.75)"
         },
         "mode": "lines",
         "name": "exon",
         "showlegend": false,
         "text": "exon-21996",
         "type": "scatter",
         "x": [
          1690.0,
          1690.0,
          1609.2,
          1609.2,
          1589.0,
          1609.2,
          1609.2,
          1690.0
         ],
         "y": [
          0.3,
          0.55,
          0.55,
          0.6,
          0.425,
          0.25,
          0.3,
          0.3
         ]
        },
        {
         "fill": "toself",
         "fillcolor": "rgba(0,0,100,0.75)",
         "hoverinfo": "text",
         "legendgroup": "exon",
         "line": {
          "color": "rgba(0,0,100,0.75)"
         },
         "mode": "lines",
         "name": "exon",
         "showlegend": false,
         "text": "exon-22017",
         "type": "scatter",
         "x": [
          7542.0,
          7542.0,
          7437.2,
          7437.2,
          7411.0,
          7437.2,
          7437.2,
          7542.0
         ],
         "y": [
          0.3,
          0.55,
          0.55,
          0.6,
          0.425,
          0.25,
          0.3,
          0.3
         ]
        },
        {
         "fill": "toself",
         "fillcolor": "rgba(0,0,100,0.75)",
         "hoverinfo": "text",
         "legendgroup": "exon",
         "line": {
          "color": "rgba(0,0,100,0.75)"
         },
         "mode": "lines",
         "name": "exon",
         "showlegend": false,
         "text": "exon-22014",
         "type": "scatter",
         "x": [
          3405.0,
          3405.0,
          2751.4,
          2751.4,
          2588.0,
          2751.4,
          2751.4,
          3405.0
         ],
         "y": [
          0.3,
          0.55,
          0.55,
          0.6,
          0.425,
          0.25,
          0.3,
          0.3
         ]
        },
        {
         "fill": "toself",
         "fillcolor": "rgba(0,0,100,0.75)",
         "hoverinfo": "text",
         "legendgroup": "exon",
         "line": {
          "color": "rgba(0,0,100,0.75)"
         },
         "mode": "lines",
         "name": "exon",
         "showlegend": false,
         "text": "exon-22015",
         "type": "scatter",
         "x": [
          3405.0,
          3405.0,
          2753.0,
          2753.0,
          2590.0,
          2753.0,
          2753.0,
          3405.0
         ],
         "y": [
          0.3,
          0.55,
          0.55,
          0.6,
          0.425,
          0.25,
          0.3,
          0.3
         ]
        },
        {
         "fill": "toself",
         "fillcolor": "rgba(0,0,100,0.75)",
         "hoverinfo": "text",
         "legendgroup": "exon",
         "line": {
          "color": "rgba(0,0,100,0.75)"
         },
         "mode": "lines",
         "name": "exon",
         "showlegend": false,
         "text": "exon-22012",
         "type": "scatter",
         "x": [
          5424.0,
          5424.0,
          4899.2,
          4899.2,
          4768.0,
          4899.2,
          4899.2,
          5424.0
         ],
         "y": [
          0.3,
          0.55,
          0.55,
          0.6,
          0.425,
          0.25,
          0.3,
          0.3
         ]
        },
        {
         "fill": "toself",
         "fillcolor": "rgba(0,0,100,0.75)",
         "hoverinfo": "text",
         "legendgroup": "exon",
         "line": {
          "color": "rgba(0,0,100,0.75)"
         },
         "mode": "lines",
         "name": "exon",
         "showlegend": false,
         "text": "exon-22018",
         "type": "scatter",
         "x": [
          7072.0,
          7072.0,
          6828.8,
          6828.8,
          6768.0,
          6828.8,
          6828.8,
          7072.0
         ],
         "y": [
          0.3,
          0.55,
          0.55,
          0.6,
          0.425,
          0.25,
          0.3,
          0.3
         ]
        },
        {
         "fill": "toself",
         "fillcolor": "rgba(0,0,100,0.75)",
         "hoverinfo": "text",
         "legendgroup": "exon",
         "line": {
          "color": "rgba(0,0,100,0.75)"
         },
         "mode": "lines",
         "name": "exon",
         "showlegend": false,
         "text": "exon-22013",
         "type": "scatter",
         "x": [
          7548.0,
          7548.0,
          7438.4,
          7438.4,
          7411.0,
          7438.4,
          7438.4,
          7548.0
         ],
         "y": [
          0.3,
          0.55,
          0.55,
          0.6,
          0.425,
          0.25,
          0.3,
          0.3
         ]
        },
        {
         "fill": "toself",
         "hoverinfo": "text",
         "legendgroup": "misc_feature",
         "mode": "lines",
         "name": "misc_feature",
         "showlegend": true,
         "text": "misc_feature-25028 (incomplete)",
         "type": "scatter",
         "x": [
          0,
          0,
          10000,
          10000,
          0
         ],
         "y": [
          0.85,
          1.1,
          1.1,
          0.85,
          0.85
         ]
        },
        {
         "fill": "toself",
         "fillcolor": "rgba(0,0,150,0.75)",
         "hoverinfo": "text",
         "legendgroup": "CDS",
         "line": {
          "color": "rgba(0,0,150,0.75)"
         },
         "mode": "lines",
         "name": "CDS",
         "showlegend": true,
         "text": "WBGene00022279",
         "type": "scatter",
         "x": [
          7411,
          7411,
          7482,
          7482,
          7411,
          null,
          7411,
          7072,
          null,
          6768,
          6768,
          7072,
          7072,
          6768,
          null,
          6768,
          5424,
          null,
          4768,
          4768,
          5424,
          5424,
          4768,
          null,
          4768,
          4367,
          null,
          4099,
          4099,
          4367,
          4367,
          4099,
          null,
          4099,
          3405,
          null,
          3405.0,
          3405.0,
          3304.2,
          3304.2,
          3279.0,
          3304.2,
          3304.2,
          3405.0
         ],
         "y": [
          1.4000000000000001,
          1.6500000000000001,
          1.6500000000000001,
          1.4000000000000001,
          1.4000000000000001,
          null,
          1.5250000000000001,
          1.5250000000000001,
          null,
          1.4000000000000001,
          1.6500000000000001,
          1.6500000000000001,
          1.4000000000000001,
          1.4000000000000001,
          null,
          1.5250000000000001,
          1.5250000000000001,
          null,
          1.4000000000000001,
          1.6500000000000001,
          1.6500000000000001,
          1.4000000000000001,
          1.4000000000000001,
          null,
          1.5250000000000001,
          1.5250000000000001,
          null,
          1.4000000000000001,
          1.6500000000000001,
          1.6500000000000001,
          1.4000000000000001,
          1.4000000000000001,
          null,
          1.5250000000000001,
          1.5250000000000001,
          null,
          1.4000000000000001,
          1.6500000000000001,
          1.6500000000000001,
          1.7000000000000002,
          1.5250000000000001,
          1.35,
          1.4000000000000001,
          1.4000000000000001
         ]
        },
        {
         "fill": "toself",
         "fillcolor": "rgba(0,0,150,0.75)",
         "hoverinfo": "text",
         "legendgroup": "CDS",
         "line": {
          "color": "rgba(0,0,150,0.75)"
         },
         "mode": "lines",
         "name": "CDS",
         "showlegend": false,
         "text": "WBGene00022278 (incomplete)",
         "type": "scatter",
         "x": [
          1589,
          1589,
          1643,
          1643,
          1589,
          null,
          1589,
          1524,
          null,
          1370,
          1370,
          1524,
          1524,
          1370,
          null,
          1370,
          472,
          null,
          272,
          272,
          472,
          472,
          272,
          null,
          272,
          90,
          null,
          90.0,
          90.0,
          18.0,
          18.0,
          0.0,
          18.0,
          18.0,
          90.0
         ],
         "y": [
          1.4000000000000001,
          1.6500000000000001,
          1.6500000000000001,
          1.4000000000000001,
          1.4000000000000001,
          null,
          1.5250000000000001,
          1.5250000000000001,
          null,
          1.4000000000000001,
          1.6500000000000001,
          1.6500000000000001,
          1.4000000000000001,
          1.4000000000000001,
          null,
          1.5250000000000001,
          1.5250000000000001,
          null,
          1.4000000000000001,
          1.6500000000000001,
          1.6500000000000001,
          1.4000000000000001,
          1.4000000000000001,
          null,
          1.5250000000000001,
          1.5250000000000001,
          null,
          1.4000000000000001,
          1.6500000000000001,
          1.6500000000000001,
          1.7000000000000002,
          1.5250000000000001,
          1.35,
          1.4000000000000001,
          1.4000000000000001
         ]
        },
        {
         "fill": "toself",
         "fillcolor": "rgba(0,0,150,0.75)",
         "hoverinfo": "text",
         "legendgroup": "CDS",
         "line": {
          "color": "rgba(0,0,150,0.75)"
         },
         "mode": "lines",
         "name": "CDS",
         "showlegend": false,
         "text": "WBGene00022278 (incomplete)",
         "type": "scatter",
         "x": [
          1732,
          1732,
          1778,
          1778,
          1732,
          null,
          1732,
          1690,
          null,
          1589,
          1589,
          1690,
          1690,
          1589,
          null,
          1589,
          1524,
          null,
          1370,
          1370,
          1524,
          1524,
          1370,
          null,
          1370,
          472,
          null,
          272,
          272,
          472,
          472,
          272,
          null,
          272,
          90,
          null,
          90.0,
          90.0,
          18.0,
          18.0,
          0.0,
          18.0,
          18.0,
          90.0
         ],
         "y": [
          1.4000000000000001,
          1.6500000000000001,
          1.6500000000000001,
          1.4000000000000001,
          1.4000000000000001,
          null,
          1.5250000000000001,
          1.5250000000000001,
          null,
          1.4000000000000001,
          1.6500000000000001,
          1.6500000000000001,
          1.4000000000000001,
          1.4000000000000001,
          null,
          1.5250000000000001,
          1.5250000000000001,
          null,
          1.4000000000000001,
          1.6500000000000001,
          1.6500000000000001,
          1.4000000000000001,
          1.4000000000000001,
          null,
          1.5250000000000001,
          1.5250000000000001,
          null,
          1.4000000000000001,
          1.6500000000000001,
          1.6500000000000001,
          1.4000000000000001,
          1.4000000000000001,
          null,
          1.5250000000000001,
          1.5250000000000001,
          null,
          1.4000000000000001,
          1.6500000000000001,
          1.6500000000000001,
          1.7000000000000002,
          1.5250000000000001,
          1.35,
          1.4000000000000001,
          1.4000000000000001
         ]
        },
        {
         "fill": "toself",
         "fillcolor": "rgba(0,0,150,0.75)",
         "hoverinfo": "text",
         "legendgroup": "CDS",
         "line": {
          "color": "rgba(0,0,150,0.75)"
         },
         "mode": "lines",
         "name": "CDS",
         "showlegend": false,
         "text": "WBGene00022278 (incomplete)",
         "type": "scatter",
         "x": [
          1732,
          1732,
          1778,
          1778,
          1732,
          null,
          1732,
          1681,
          null,
          1589,
          1589,
          1681,
          1681,
          1589,
          null,
          1589,
          1524,
          null,
          1370,
          1370,
          1524,
          1524,
          1370,
          null,
          1370,
          472,
          null,
          272,
          272,
          472,
          472,
          272,
          null,
          272,
          90,
          null,
          90.0,
          90.0,
          18.0,
          18.0,
          0.0,
          18.0,
          18.0,
          90.0
         ],
         "y": [
          1.4000000000000001,
          1.6500000000000001,
          1.6500000000000001,
          1.4000000000000001,
          1.4000000000000001,
          null,
          1.5250000000000001,
          1.5250000000000001,
          null,
          1.4000000000000001,
          1.6500000000000001,
          1.6500000000000001,
          1.4000000000000001,
          1.4000000000000001,
          null,
          1.5250000000000001,
          1.5250000000000001,
          null,
          1.4000000000000001,
          1.6500000000000001,
          1.6500000000000001,
          1.4000000000000001,
          1.4000000000000001,
          null,
          1.5250000000000001,
          1.5250000000000001,
          null,
          1.4000000000000001,
          1.6500000000000001,
          1.6500000000000001,
          1.4000000000000001,
          1.4000000000000001,
          null,
          1.5250000000000001,
          1.5250000000000001,
          null,
          1.4000000000000001,
          1.6500000000000001,
          1.6500000000000001,
          1.7000000000000002,
          1.5250000000000001,
          1.35,
          1.4000000000000001,
          1.4000000000000001
         ]
        },
        {
         "fill": "toself",
         "hoverinfo": "text",
         "legendgroup": "source",
         "mode": "lines",
         "name": "source",
         "showlegend": true,
         "text": "taxon:6239 (incomplete)",
         "type": "scatter",
         "x": [
          0,
          0,
          10000,
          10000,
          0
         ],
         "y": [
          1.9500000000000002,
          2.2,
          2.2,
          1.9500000000000002,
          1.9500000000000002
         ]
        },
        {
         "fill": "toself",
         "fillcolor": "rgba(140,102,139,0.75)",
         "hoverinfo": "text",
         "legendgroup": "mRNA",
         "line": {
          "color": "rgba(140,102,139,0.75)"
         },
         "mode": "lines",
         "name": "mRNA",
         "showlegend": true,
         "text": "WBGene00022278 (incomplete)",
         "type": "scatter",
         "x": [
          1732,
          1732,
          1781,
          1781,
          1732,
          null,
          1732,
          1681,
          null,
          1589,
          1589,
          1681,
          1681,
          1589,
          null,
          1589,
          1524,
          null,
          1370,
          1370,
          1524,
          1524,
          1370,
          null,
          1370,
          472,
          null,
          272,
          272,
          472,
          472,
          272,
          null,
          272,
          90,
          null,
          90.0,
          90.0,
          18.0,
          18.0,
          0.0,
          18.0,
          18.0,
          90.0
         ],
         "y": [
          2.5,
          2.75,
          2.75,
          2.5,
          2.5,
          null,
          2.625,
          2.625,
          null,
          2.5,
          2.75,
          2.75,
          2.5,
          2.5,
          null,
          2.625,
          2.625,
          null,
          2.5,
          2.75,
          2.75,
          2.5,
          2.5,
          null,
          2.625,
          2.625,
          null,
          2.5,
          2.75,
          2.75,
          2.5,
          2.5,
          null,
          2.625,
          2.625,
          null,
          2.5,
          2.75,
          2.75,
          2.8,
          2.625,
          2.45,
          2.5,
          2.5
         ]
        },
        {
         "fill": "toself",
         "fillcolor": "rgba(140,102,139,0.75)",
         "hoverinfo": "text",
         "legendgroup": "mRNA",
         "line": {
          "color": "rgba(140,102,139,0.75)"
         },
         "mode": "lines",
         "name": "mRNA",
         "showlegend": false,
         "text": "WBGene00022278 (incomplete)",
         "type": "scatter",
         "x": [
          1589,
          1589,
          1643,
          1643,
          1589,
          null,
          1589,
          1524,
          null,
          1370,
          1370,
          1524,
          1524,
          1370,
          null,
          1370,
          472,
          null,
          272,
          272,
          472,
          472,
          272,
          null,
          272,
          90,
          null,
          90.0,
          90.0,
          18.0,
          18.0,
          0.0,
          18.0,
          18.0,
          90.0
         ],
         "y": [
          2.5,
          2.75,
          2.75,
          2.5,
          2.5,
          null,
          2.625,
          2.625,
          null,
          2.5,
          2.75,
          2.75,
          2.5,
          2.5,
          null,
          2.625,
          2.625,
          null,
          2.5,
          2.75,
          2.75,
          2.5,
          2.5,
          null,
          2.625,
          2.625,
          null,
          2.5,
          2.75,
          2.75,
          2.8,
          2.625,
          2.45,
          2.5,
          2.5
         ]
        },
        {
         "fill": "toself",
         "fillcolor": "rgba(140,102,139,0.75)",
         "hoverinfo": "text",
         "legendgroup": "mRNA",
         "line": {
          "color": "rgba(140,102,139,0.75)"
         },
         "mode": "lines",
         "name": "mRNA",
         "showlegend": false,
         "text": "WBGene00022278 (incomplete)",
         "type": "scatter",
         "x": [
          1732,
          1732,
          1781,
          1781,
          1732,
          null,
          1732,
          1690,
          null,
          1589,
          1589,
          1690,
          1690,
          1589,
          null,
          1589,
          1524,
          null,
          1370,
          1370,
          1524,
          1524,
          1370,
          null,
          1370,
          472,
          null,
          272,
          272,
          472,
          472,
          272,
          null,
          272,
          90,
          null,
          90.0,
          90.0,
          18.0,
          18.0,
          0.0,
          18.0,
          18.0,
          90.0
         ],
         "y": [
          2.5,
          2.75,
          2.75,
          2.5,
          2.5,
          null,
          2.625,
          2.625,
          null,
          2.5,
          2.75,
          2.75,
          2.5,
          2.5,
          null,
          2.625,
          2.625,
          null,
          2.5,
          2.75,
          2.75,
          2.5,
          2.5,
          null,
          2.625,
          2.625,
          null,
          2.5,
          2.75,
          2.75,
          2.5,
          2.5,
          null,
          2.625,
          2.625,
          null,
          2.5,
          2.75,
          2.75,
          2.8,
          2.625,
          2.45,
          2.5,
          2.5
         ]
        },
        {
         "fill": "toself",
         "fillcolor": "rgba(140,102,139,0.75)",
         "hoverinfo": "text",
         "legendgroup": "mRNA",
         "line": {
          "color": "rgba(140,102,139,0.75)"
         },
         "mode": "lines",
         "name": "mRNA",
         "showlegend": false,
         "text": "WBGene00022279",
         "type": "scatter",
         "x": [
          7411,
          7411,
          7548,
          7548,
          7411,
          null,
          7411,
          7072,
          null,
          6768,
          6768,
          7072,
          7072,
          6768,
          null,
          6768,
          5424,
          null,
          4768,
          4768,
          5424,
          5424,
          4768,
          null,
          4768,
          4367,
          null,
          4099,
          4099,
          4367,
          4367,
          4099,
          null,
          4099,
          3405,
          null,
          3405.0,
          3405.0,
          2753.0,
          2753.0,
          2590.0,
          2753.0,
          2753.0,
          3405.0
         ],
         "y": [
          2.5,
          2.75,
          2.75,
          2.5,
          2.5,
          null,
          2.625,
          2.625,
          null,
          2.5,
          2.75,
          2.75,
          2.5,
          2.5,
          null,
          2.625,
          2.625,
          null,
          2.5,
          2.75,
          2.75,
          2.5,
          2.5,
          null,
          2.625,
          2.625,
          null,
          2.5,
          2.75,
          2.75,
          2.5,
          2.5,
          null,
          2.625,
          2.625,
          null,
          2.5,
          2.75,
          2.75,
          2.8,
          2.625,
          2.45,
          2.5,
          2.5
         ]
        },
        {
         "fill": "toself",
         "fillcolor": "rgba(140,102,139,0.75)",
         "hoverinfo": "text",
         "legendgroup": "mRNA",
         "line": {
          "color": "rgba(140,102,139,0.75)"
         },
         "mode": "lines",
         "name": "mRNA",
         "showlegend": false,
         "text": "WBGene00022279",
         "type": "scatter",
         "x": [
          8036,
          8036,
          8150,
          8150,
          8036,
          null,
          8036,
          7542,
          null,
          7411,
          7411,
          7542,
          7542,
          7411,
          null,
          7411,
          7072,
          null,
          6768,
          6768,
          7072,
          7072,
          6768,
          null,
          6768,
          5424,
          null,
          4768,
          4768,
          5424,
          5424,
          4768,
          null,
          4768,
          4367,
          null,
          4099,
          4099,
          4367,
          4367,
          4099,
          null,
          4099,
          3405,
          null,
          3405.0,
          3405.0,
          2751.4,
          2751.4,
          2588.0,
          2751.4,
          2751.4,
          3405.0
         ],
         "y": [
          2.5,
          2.75,
          2.75,
          2.5,
          2.5,
          null,
          2.625,
          2.625,
          null,
          2.5,
          2.75,
          2.75,
          2.5,
          2.5,
          null,
          2.625,
          2.625,
          null,
          2.5,
          2.75,
          2.75,
          2.5,
          2.5,
          null,
          2.625,
          2.625,
          null,
          2.5,
          2.75,
          2.75,
          2.5,
          2.5,
          null,
          2.625,
          2.625,
          null,
          2.5,
          2.75,
          2.75,
          2.5,
          2.5,
          null,
          2.625,
          2.625,
          null,
          2.5,
          2.75,
          2.75,
          2.8,
          2.625,
          2.45,
          2.5,
          2.5
         ]
        },
        {
         "fill": "toself",
         "fillcolor": "rgba(161,0,0,0.75)",
         "hoverinfo": "text",
         "legendgroup": "gene",
         "line": {
          "color": "rgba(161,0,0,0.75)"
         },
         "mode": "lines",
         "name": "gene",
         "showlegend": true,
         "text": "WBGene00173569",
         "type": "scatter",
         "x": [
          7414.0,
          7430.8,
          7430.8,
          7435.0,
          7430.8,
          7430.8,
          7414.0,
          7414.0
         ],
         "y": [
          3.0999999999999996,
          3.0999999999999996,
          3.05,
          3.2249999999999996,
          3.3999999999999995,
          3.3499999999999996,
          3.3499999999999996,
          3.0999999999999996
         ]
        },
        {
         "fill": "toself",
         "fillcolor": "rgba(161,0,0,0.75)",
         "hoverinfo": "text",
         "legendgroup": "gene",
         "line": {
          "color": "rgba(161,0,0,0.75)"
         },
         "mode": "lines",
         "name": "gene",
         "showlegend": false,
         "text": "WBGene00170953",
         "type": "scatter",
         "x": [
          6522.0,
          6538.8,
          6538.8,
          6543.0,
          6538.8,
          6538.8,
          6522.0,
          6522.0
         ],
         "y": [
          3.0999999999999996,
          3.0999999999999996,
          3.05,
          3.2249999999999996,
          3.3999999999999995,
          3.3499999999999996,
          3.3499999999999996,
          3.0999999999999996
         ]
        },
        {
         "fill": "toself",
         "fillcolor": "rgba(161,0,0,0.75)",
         "hoverinfo": "text",
         "legendgroup": "gene",
         "line": {
          "color": "rgba(161,0,0,0.75)"
         },
         "mode": "lines",
         "name": "gene",
         "showlegend": false,
         "text": "WBGene00022279",
         "type": "scatter",
         "x": [
          8150.0,
          8150.0,
          3700.3999999999996,
          3700.3999999999996,
          2588.0,
          3700.3999999999996,
          3700.3999999999996,
          8150.0
         ],
         "y": [
          3.0999999999999996,
          3.3499999999999996,
          3.3499999999999996,
          3.3999999999999995,
          3.2249999999999996,
          3.05,
          3.0999999999999996,
          3.0999999999999996
         ]
        },
        {
         "fill": "toself",
         "fillcolor": "rgba(161,0,0,0.75)",
         "hoverinfo": "text",
         "legendgroup": "gene",
         "line": {
          "color": "rgba(161,0,0,0.75)"
         },
         "mode": "lines",
         "name": "gene",
         "showlegend": false,
         "text": "WBGene00022278 (incomplete)",
         "type": "scatter",
         "x": [
          1781.0,
          1781.0,
          356.20000000000005,
          356.20000000000005,
          0.0,
          356.20000000000005,
          356.20000000000005,
          1781.0
         ],
         "y": [
          3.0999999999999996,
          3.3499999999999996,
          3.3499999999999996,
          3.3999999999999995,
          3.2249999999999996,
          3.05,
          3.0999999999999996,
          3.0999999999999996
         ]
        },
        {
         "fill": "toself",
         "hoverinfo": "text",
         "legendgroup": "misc_RNA",
         "mode": "lines",
         "name": "misc_RNA",
         "showlegend": true,
         "text": "WBGene00173569",
         "type": "scatter",
         "x": [
          7414,
          7414,
          7435,
          7435,
          7414
         ],
         "y": [
          3.6499999999999995,
          3.8999999999999995,
          3.8999999999999995,
          3.6499999999999995,
          3.6499999999999995
         ]
        },
        {
         "fill": "toself",
         "hoverinfo": "text",
         "legendgroup": "misc_RNA",
         "mode": "lines",
         "name": "misc_RNA",
         "showlegend": false,
         "text": "WBGene00170953",
         "type": "scatter",
         "x": [
          6522,
          6522,
          6543,
          6543,
          6522
         ],
         "y": [
          3.6499999999999995,
          3.8999999999999995,
          3.8999999999999995,
          3.6499999999999995,
          3.6499999999999995
         ]
        }
       ],
       "layout": {
        "autosize": false,
        "font": {
         "family": "Balto",
         "size": 14
        },
        "height": 400,
        "hovermode": "closest",
        "margin": {
         "b": 50,
         "l": 50,
         "pad": 4,
         "r": 50,
         "t": 50
        },
        "showlegend": true,
        "template": {
         "data": {
          "bar": [
           {
            "error_x": {
             "color": "#2a3f5f"
            },
            "error_y": {
             "color": "#2a3f5f"
            },
            "marker": {
             "line": {
              "color": "#E5ECF6",
              "width": 0.5
             },
             "pattern": {
              "fillmode": "overlay",
              "size": 10,
              "solidity": 0.2
             }
            },
            "type": "bar"
           }
          ],
          "barpolar": [
           {
            "marker": {
             "line": {
              "color": "#E5ECF6",
              "width": 0.5
             },
             "pattern": {
              "fillmode": "overlay",
              "size": 10,
              "solidity": 0.2
             }
            },
            "type": "barpolar"
           }
          ],
          "carpet": [
           {
            "aaxis": {
             "endlinecolor": "#2a3f5f",
             "gridcolor": "white",
             "linecolor": "white",
             "minorgridcolor": "white",
             "startlinecolor": "#2a3f5f"
            },
            "baxis": {
             "endlinecolor": "#2a3f5f",
             "gridcolor": "white",
             "linecolor": "white",
             "minorgridcolor": "white",
             "startlinecolor": "#2a3f5f"
            },
            "type": "carpet"
           }
          ],
          "choropleth": [
           {
            "colorbar": {
             "outlinewidth": 0,
             "ticks": ""
            },
            "type": "choropleth"
           }
          ],
          "contour": [
           {
            "colorbar": {
             "outlinewidth": 0,
             "ticks": ""
            },
            "colorscale": [
             [
              0.0,
              "#0d0887"
             ],
             [
              0.1111111111111111,
              "#46039f"
             ],
             [
              0.2222222222222222,
              "#7201a8"
             ],
             [
              0.3333333333333333,
              "#9c179e"
             ],
             [
              0.4444444444444444,
              "#bd3786"
             ],
             [
              0.5555555555555556,
              "#d8576b"
             ],
             [
              0.6666666666666666,
              "#ed7953"
             ],
             [
              0.7777777777777778,
              "#fb9f3a"
             ],
             [
              0.8888888888888888,
              "#fdca26"
             ],
             [
              1.0,
              "#f0f921"
             ]
            ],
            "type": "contour"
           }
          ],
          "contourcarpet": [
           {
            "colorbar": {
             "outlinewidth": 0,
             "ticks": ""
            },
            "type": "contourcarpet"
           }
          ],
          "heatmap": [
           {
            "colorbar": {
             "outlinewidth": 0,
             "ticks": ""
            },
            "colorscale": [
             [
              0.0,
              "#0d0887"
             ],
             [
              0.1111111111111111,
              "#46039f"
             ],
             [
              0.2222222222222222,
              "#7201a8"
             ],
             [
              0.3333333333333333,
              "#9c179e"
             ],
             [
              0.4444444444444444,
              "#bd3786"
             ],
             [
              0.5555555555555556,
              "#d8576b"
             ],
             [
              0.6666666666666666,
              "#ed7953"
             ],
             [
              0.7777777777777778,
              "#fb9f3a"
             ],
             [
              0.8888888888888888,
              "#fdca26"
             ],
             [
              1.0,
              "#f0f921"
             ]
            ],
            "type": "heatmap"
           }
          ],
          "heatmapgl": [
           {
            "colorbar": {
             "outlinewidth": 0,
             "ticks": ""
            },
            "colorscale": [
             [
              0.0,
              "#0d0887"
             ],
             [
              0.1111111111111111,
              "#46039f"
             ],
             [
              0.2222222222222222,
              "#7201a8"
             ],
             [
              0.3333333333333333,
              "#9c179e"
             ],
             [
              0.4444444444444444,
              "#bd3786"
             ],
             [
              0.5555555555555556,
              "#d8576b"
             ],
             [
              0.6666666666666666,
              "#ed7953"
             ],
             [
              0.7777777777777778,
              "#fb9f3a"
             ],
             [
              0.8888888888888888,
              "#fdca26"
             ],
             [
              1.0,
              "#f0f921"
             ]
            ],
            "type": "heatmapgl"
           }
          ],
          "histogram": [
           {
            "marker": {
             "pattern": {
              "fillmode": "overlay",
              "size": 10,
              "solidity": 0.2
             }
            },
            "type": "histogram"
           }
          ],
          "histogram2d": [
           {
            "colorbar": {
             "outlinewidth": 0,
             "ticks": ""
            },
            "colorscale": [
             [
              0.0,
              "#0d0887"
             ],
             [
              0.1111111111111111,
              "#46039f"
             ],
             [
              0.2222222222222222,
              "#7201a8"
             ],
             [
              0.3333333333333333,
              "#9c179e"
             ],
             [
              0.4444444444444444,
              "#bd3786"
             ],
             [
              0.5555555555555556,
              "#d8576b"
             ],
             [
              0.6666666666666666,
              "#ed7953"
             ],
             [
              0.7777777777777778,
              "#fb9f3a"
             ],
             [
              0.8888888888888888,
              "#fdca26"
             ],
             [
              1.0,
              "#f0f921"
             ]
            ],
            "type": "histogram2d"
           }
          ],
          "histogram2dcontour": [
           {
            "colorbar": {
             "outlinewidth": 0,
             "ticks": ""
            },
            "colorscale": [
             [
              0.0,
              "#0d0887"
             ],
             [
              0.1111111111111111,
              "#46039f"
             ],
             [
              0.2222222222222222,
              "#7201a8"
             ],
             [
              0.3333333333333333,
              "#9c179e"
             ],
             [
              0.4444444444444444,
              "#bd3786"
             ],
             [
              0.5555555555555556,
              "#d8576b"
             ],
             [
              0.6666666666666666,
              "#ed7953"
             ],
             [
              0.7777777777777778,
              "#fb9f3a"
             ],
             [
              0.8888888888888888,
              "#fdca26"
             ],
             [
              1.0,
              "#f0f921"
             ]
            ],
            "type": "histogram2dcontour"
           }
          ],
          "mesh3d": [
           {
            "colorbar": {
             "outlinewidth": 0,
             "ticks": ""
            },
            "type": "mesh3d"
           }
          ],
          "parcoords": [
           {
            "line": {
             "colorbar": {
              "outlinewidth": 0,
              "ticks": ""
             }
            },
            "type": "parcoords"
           }
          ],
          "pie": [
           {
            "automargin": true,
            "type": "pie"
           }
          ],
          "scatter": [
           {
            "fillpattern": {
             "fillmode": "overlay",
             "size": 10,
             "solidity": 0.2
            },
            "type": "scatter"
           }
          ],
          "scatter3d": [
           {
            "line": {
             "colorbar": {
              "outlinewidth": 0,
              "ticks": ""
             }
            },
            "marker": {
             "colorbar": {
              "outlinewidth": 0,
              "ticks": ""
             }
            },
            "type": "scatter3d"
           }
          ],
          "scattercarpet": [
           {
            "marker": {
             "colorbar": {
              "outlinewidth": 0,
              "ticks": ""
             }
            },
            "type": "scattercarpet"
           }
          ],
          "scattergeo": [
           {
            "marker": {
             "colorbar": {
              "outlinewidth": 0,
              "ticks": ""
             }
            },
            "type": "scattergeo"
           }
          ],
          "scattergl": [
           {
            "marker": {
             "colorbar": {
              "outlinewidth": 0,
              "ticks": ""
             }
            },
            "type": "scattergl"
           }
          ],
          "scattermapbox": [
           {
            "marker": {
             "colorbar": {
              "outlinewidth": 0,
              "ticks": ""
             }
            },
            "type": "scattermapbox"
           }
          ],
          "scatterpolar": [
           {
            "marker": {
             "colorbar": {
              "outlinewidth": 0,
              "ticks": ""
             }
            },
            "type": "scatterpolar"
           }
          ],
          "scatterpolargl": [
           {
            "marker": {
             "colorbar": {
              "outlinewidth": 0,
              "ticks": ""
             }
            },
            "type": "scatterpolargl"
           }
          ],
          "scatterternary": [
           {
            "marker": {
             "colorbar": {
              "outlinewidth": 0,
              "ticks": ""
             }
            },
            "type": "scatterternary"
           }
          ],
          "surface": [
           {
            "colorbar": {
             "outlinewidth": 0,
             "ticks": ""
            },
            "colorscale": [
             [
              0.0,
              "#0d0887"
             ],
             [
              0.1111111111111111,
              "#46039f"
             ],
             [
              0.2222222222222222,
              "#7201a8"
             ],
             [
              0.3333333333333333,
              "#9c179e"
             ],
             [
              0.4444444444444444,
              "#bd3786"
             ],
             [
              0.5555555555555556,
              "#d8576b"
             ],
             [
              0.6666666666666666,
              "#ed7953"
             ],
             [
              0.7777777777777778,
              "#fb9f3a"
             ],
             [
              0.8888888888888888,
              "#fdca26"
             ],
             [
              1.0,
              "#f0f921"
             ]
            ],
            "type": "surface"
           }
          ],
          "table": [
           {
            "cells": {
             "fill": {
              "color": "#EBF0F8"
             },
             "line": {
              "color": "white"
             }
            },
            "header": {
             "fill": {
              "color": "#C8D4E3"
             },
             "line": {
              "color": "white"
             }
            },
            "type": "table"
           }
          ]
         },
         "layout": {
          "annotationdefaults": {
           "arrowcolor": "#2a3f5f",
           "arrowhead": 0,
           "arrowwidth": 1
          },
          "autotypenumbers": "strict",
          "coloraxis": {
           "colorbar": {
            "outlinewidth": 0,
            "ticks": ""
           }
          },
          "colorscale": {
           "diverging": [
            [
             0,
             "#8e0152"
            ],
            [
             0.1,
             "#c51b7d"
            ],
            [
             0.2,
             "#de77ae"
            ],
            [
             0.3,
             "#f1b6da"
            ],
            [
             0.4,
             "#fde0ef"
            ],
            [
             0.5,
             "#f7f7f7"
            ],
            [
             0.6,
             "#e6f5d0"
            ],
            [
             0.7,
             "#b8e186"
            ],
            [
             0.8,
             "#7fbc41"
            ],
            [
             0.9,
             "#4d9221"
            ],
            [
             1,
             "#276419"
            ]
           ],
           "sequential": [
            [
             0.0,
             "#0d0887"
            ],
            [
             0.1111111111111111,
             "#46039f"
            ],
            [
             0.2222222222222222,
             "#7201a8"
            ],
            [
             0.3333333333333333,
             "#9c179e"
            ],
            [
             0.4444444444444444,
             "#bd3786"
            ],
            [
             0.5555555555555556,
             "#d8576b"
            ],
            [
             0.6666666666666666,
             "#ed7953"
            ],
            [
             0.7777777777777778,
             "#fb9f3a"
            ],
            [
             0.8888888888888888,
             "#fdca26"
            ],
            [
             1.0,
             "#f0f921"
            ]
           ],
           "sequentialminus": [
            [
             0.0,
             "#0d0887"
            ],
            [
             0.1111111111111111,
             "#46039f"
            ],
            [
             0.2222222222222222,
             "#7201a8"
            ],
            [
             0.3333333333333333,
             "#9c179e"
            ],
            [
             0.4444444444444444,
             "#bd3786"
            ],
            [
             0.5555555555555556,
             "#d8576b"
            ],
            [
             0.6666666666666666,
             "#ed7953"
            ],
            [
             0.7777777777777778,
             "#fb9f3a"
            ],
            [
             0.8888888888888888,
             "#fdca26"
            ],
            [
             1.0,
             "#f0f921"
            ]
           ]
          },
          "colorway": [
           "#636efa",
           "#EF553B",
           "#00cc96",
           "#ab63fa",
           "#FFA15A",
           "#19d3f3",
           "#FF6692",
           "#B6E880",
           "#FF97FF",
           "#FECB52"
          ],
          "font": {
           "color": "#2a3f5f"
          },
          "geo": {
           "bgcolor": "white",
           "lakecolor": "white",
           "landcolor": "#E5ECF6",
           "showlakes": true,
           "showland": true,
           "subunitcolor": "white"
          },
          "hoverlabel": {
           "align": "left"
          },
          "hovermode": "closest",
          "mapbox": {
           "style": "light"
          },
          "paper_bgcolor": "white",
          "plot_bgcolor": "#E5ECF6",
          "polar": {
           "angularaxis": {
            "gridcolor": "white",
            "linecolor": "white",
            "ticks": ""
           },
           "bgcolor": "#E5ECF6",
           "radialaxis": {
            "gridcolor": "white",
            "linecolor": "white",
            "ticks": ""
           }
          },
          "scene": {
           "xaxis": {
            "backgroundcolor": "#E5ECF6",
            "gridcolor": "white",
            "gridwidth": 2,
            "linecolor": "white",
            "showbackground": true,
            "ticks": "",
            "zerolinecolor": "white"
           },
           "yaxis": {
            "backgroundcolor": "#E5ECF6",
            "gridcolor": "white",
            "gridwidth": 2,
            "linecolor": "white",
            "showbackground": true,
            "ticks": "",
            "zerolinecolor": "white"
           },
           "zaxis": {
            "backgroundcolor": "#E5ECF6",
            "gridcolor": "white",
            "gridwidth": 2,
            "linecolor": "white",
            "showbackground": true,
            "ticks": "",
            "zerolinecolor": "white"
           }
          },
          "shapedefaults": {
           "line": {
            "color": "#2a3f5f"
           }
          },
          "ternary": {
           "aaxis": {
            "gridcolor": "white",
            "linecolor": "white",
            "ticks": ""
           },
           "baxis": {
            "gridcolor": "white",
            "linecolor": "white",
            "ticks": ""
           },
           "bgcolor": "#E5ECF6",
           "caxis": {
            "gridcolor": "white",
            "linecolor": "white",
            "ticks": ""
           }
          },
          "title": {
           "x": 0.05
          },
          "xaxis": {
           "automargin": true,
           "gridcolor": "white",
           "linecolor": "white",
           "ticks": "",
           "title": {
            "standoff": 15
           },
           "zerolinecolor": "white",
           "zerolinewidth": 2
          },
          "yaxis": {
           "automargin": true,
           "gridcolor": "white",
           "linecolor": "white",
           "ticks": "",
           "title": {
            "standoff": 15
           },
           "zerolinecolor": "white",
           "zerolinewidth": 2
          }
         }
        },
        "title": {
         "text": "I"
        },
        "width": 700,
        "xaxis": {
         "range": [
          0,
          10000
         ],
         "showline": true,
         "zeroline": false
        },
        "yaxis": {
         "range": [
          0,
          4.1499999999999995
         ],
         "showline": true,
         "visible": false,
         "zeroline": true
        }
       }
      },
      "text/html": [
       "<div>                            <div id=\"70ba3f30-6bd0-49d4-aad7-ec15d83f2339\" class=\"plotly-graph-div\" style=\"height:400px; width:700px;\"></div>            <script type=\"text/javascript\">                require([\"plotly\"], function(Plotly) {                    window.PLOTLYENV=window.PLOTLYENV || {};                                    if (document.getElementById(\"70ba3f30-6bd0-49d4-aad7-ec15d83f2339\")) {                    Plotly.newPlot(                        \"70ba3f30-6bd0-49d4-aad7-ec15d83f2339\",                        [{\"fill\":\"toself\",\"fillcolor\":\"rgba(0,0,100,0.75)\",\"hoverinfo\":\"text\",\"legendgroup\":\"exon\",\"line\":{\"color\":\"rgba(0,0,100,0.75)\"},\"mode\":\"lines\",\"name\":\"exon\",\"showlegend\":true,\"text\":\"exon-22004\",\"x\":[1781.0,1781.0,1741.8,1741.8,1732.0,1741.8,1741.8,1781.0],\"y\":[0.3,0.55,0.55,0.6,0.425,0.25,0.3,0.3],\"type\":\"scatter\"},{\"fill\":\"toself\",\"fillcolor\":\"rgba(0,0,100,0.75)\",\"hoverinfo\":\"text\",\"legendgroup\":\"exon\",\"line\":{\"color\":\"rgba(0,0,100,0.75)\"},\"mode\":\"lines\",\"name\":\"exon\",\"showlegend\":false,\"text\":\"exon-23652\",\"x\":[7414.0,7430.8,7430.8,7435.0,7430.8,7430.8,7414.0,7414.0],\"y\":[0.3,0.3,0.25,0.425,0.6,0.55,0.55,0.3],\"type\":\"scatter\"},{\"fill\":\"toself\",\"fillcolor\":\"rgba(0,0,100,0.75)\",\"hoverinfo\":\"text\",\"legendgroup\":\"exon\",\"line\":{\"color\":\"rgba(0,0,100,0.75)\"},\"mode\":\"lines\",\"name\":\"exon\",\"showlegend\":false,\"text\":\"exon-22002\",\"x\":[1524.0,1524.0,1400.8,1400.8,1370.0,1400.8,1400.8,1524.0],\"y\":[0.3,0.55,0.55,0.6,0.425,0.25,0.3,0.3],\"type\":\"scatter\"},{\"fill\":\"toself\",\"fillcolor\":\"rgba(0,0,100,0.75)\",\"hoverinfo\":\"text\",\"legendgroup\":\"exon\",\"line\":{\"color\":\"rgba(0,0,100,0.75)\"},\"mode\":\"lines\",\"name\":\"exon\",\"showlegend\":false,\"text\":\"exon-22007 (incomplete)\",\"x\":[90.0,90.0,18.0,18.0,0.0,18.0,18.0,90.0],\"y\":[0.3,0.55,0.55,0.6,0.425,0.25,0.3,0.3],\"type\":\"scatter\"},{\"fill\":\"toself\",\"fillcolor\":\"rgba(0,0,100,0.75)\",\"hoverinfo\":\"text\",\"legendgroup\":\"exon\",\"line\":{\"color\":\"rgba(0,0,100,0.75)\"},\"mode\":\"lines\",\"name\":\"exon\",\"showlegend\":false,\"text\":\"exon-22011\",\"x\":[4367.0,4367.0,4152.6,4152.6,4099.0,4152.6,4152.6,4367.0],\"y\":[0.3,0.55,0.55,0.6,0.425,0.25,0.3,0.3],\"type\":\"scatter\"},{\"fill\":\"toself\",\"fillcolor\":\"rgba(0,0,100,0.75)\",\"hoverinfo\":\"text\",\"legendgroup\":\"exon\",\"line\":{\"color\":\"rgba(0,0,100,0.75)\"},\"mode\":\"lines\",\"name\":\"exon\",\"showlegend\":false,\"text\":\"exon-23626\",\"x\":[6522.0,6538.8,6538.8,6543.0,6538.8,6538.8,6522.0,6522.0],\"y\":[0.3,0.3,0.25,0.425,0.6,0.55,0.55,0.3],\"type\":\"scatter\"},{\"fill\":\"toself\",\"fillcolor\":\"rgba(0,0,100,0.75)\",\"hoverinfo\":\"text\",\"legendgroup\":\"exon\",\"line\":{\"color\":\"rgba(0,0,100,0.75)\"},\"mode\":\"lines\",\"name\":\"exon\",\"showlegend\":false,\"text\":\"exon-22003\",\"x\":[1681.0,1681.0,1607.4,1607.4,1589.0,1607.4,1607.4,1681.0],\"y\":[0.3,0.55,0.55,0.6,0.425,0.25,0.3,0.3],\"type\":\"scatter\"},{\"fill\":\"toself\",\"fillcolor\":\"rgba(0,0,100,0.75)\",\"hoverinfo\":\"text\",\"legendgroup\":\"exon\",\"line\":{\"color\":\"rgba(0,0,100,0.75)\"},\"mode\":\"lines\",\"name\":\"exon\",\"showlegend\":false,\"text\":\"exon-22016\",\"x\":[8150.0,8150.0,8058.8,8058.8,8036.0,8058.8,8058.8,8150.0],\"y\":[0.3,0.55,0.55,0.6,0.425,0.25,0.3,0.3],\"type\":\"scatter\"},{\"fill\":\"toself\",\"fillcolor\":\"rgba(0,0,100,0.75)\",\"hoverinfo\":\"text\",\"legendgroup\":\"exon\",\"line\":{\"color\":\"rgba(0,0,100,0.75)\"},\"mode\":\"lines\",\"name\":\"exon\",\"showlegend\":false,\"text\":\"exon-21997\",\"x\":[472.0,472.0,312.0,312.0,272.0,312.0,312.0,472.0],\"y\":[0.3,0.55,0.55,0.6,0.425,0.25,0.3,0.3],\"type\":\"scatter\"},{\"fill\":\"toself\",\"fillcolor\":\"rgba(0,0,100,0.75)\",\"hoverinfo\":\"text\",\"legendgroup\":\"exon\",\"line\":{\"color\":\"rgba(0,0,100,0.75)\"},\"mode\":\"lines\",\"name\":\"exon\",\"showlegend\":false,\"text\":\"exon-22009\",\"x\":[1643.0,1643.0,1599.8,1599.8,1589.0,1599.8,1599.8,1643.0],\"y\":[0.3,0.55,0.55,0.6,0.425,0.25,0.3,0.3],\"type\":\"scatter\"},{\"fill\":\"toself\",\"fillcolor\":\"rgba(0,0,100,0.75)\",\"hoverinfo\":\"text\",\"legendgroup\":\"exon\",\"line\":{\"color\":\"rgba(0,0,100,0.75)\"},\"mode\":\"lines\",\"name\":\"exon\",\"showlegend\":false,\"text\":\"exon-21996\",\"x\":[1690.0,1690.0,1609.2,1609.2,1589.0,1609.2,1609.2,1690.0],\"y\":[0.3,0.55,0.55,0.6,0.425,0.25,0.3,0.3],\"type\":\"scatter\"},{\"fill\":\"toself\",\"fillcolor\":\"rgba(0,0,100,0.75)\",\"hoverinfo\":\"text\",\"legendgroup\":\"exon\",\"line\":{\"color\":\"rgba(0,0,100,0.75)\"},\"mode\":\"lines\",\"name\":\"exon\",\"showlegend\":false,\"text\":\"exon-22017\",\"x\":[7542.0,7542.0,7437.2,7437.2,7411.0,7437.2,7437.2,7542.0],\"y\":[0.3,0.55,0.55,0.6,0.425,0.25,0.3,0.3],\"type\":\"scatter\"},{\"fill\":\"toself\",\"fillcolor\":\"rgba(0,0,100,0.75)\",\"hoverinfo\":\"text\",\"legendgroup\":\"exon\",\"line\":{\"color\":\"rgba(0,0,100,0.75)\"},\"mode\":\"lines\",\"name\":\"exon\",\"showlegend\":false,\"text\":\"exon-22014\",\"x\":[3405.0,3405.0,2751.4,2751.4,2588.0,2751.4,2751.4,3405.0],\"y\":[0.3,0.55,0.55,0.6,0.425,0.25,0.3,0.3],\"type\":\"scatter\"},{\"fill\":\"toself\",\"fillcolor\":\"rgba(0,0,100,0.75)\",\"hoverinfo\":\"text\",\"legendgroup\":\"exon\",\"line\":{\"color\":\"rgba(0,0,100,0.75)\"},\"mode\":\"lines\",\"name\":\"exon\",\"showlegend\":false,\"text\":\"exon-22015\",\"x\":[3405.0,3405.0,2753.0,2753.0,2590.0,2753.0,2753.0,3405.0],\"y\":[0.3,0.55,0.55,0.6,0.425,0.25,0.3,0.3],\"type\":\"scatter\"},{\"fill\":\"toself\",\"fillcolor\":\"rgba(0,0,100,0.75)\",\"hoverinfo\":\"text\",\"legendgroup\":\"exon\",\"line\":{\"color\":\"rgba(0,0,100,0.75)\"},\"mode\":\"lines\",\"name\":\"exon\",\"showlegend\":false,\"text\":\"exon-22012\",\"x\":[5424.0,5424.0,4899.2,4899.2,4768.0,4899.2,4899.2,5424.0],\"y\":[0.3,0.55,0.55,0.6,0.425,0.25,0.3,0.3],\"type\":\"scatter\"},{\"fill\":\"toself\",\"fillcolor\":\"rgba(0,0,100,0.75)\",\"hoverinfo\":\"text\",\"legendgroup\":\"exon\",\"line\":{\"color\":\"rgba(0,0,100,0.75)\"},\"mode\":\"lines\",\"name\":\"exon\",\"showlegend\":false,\"text\":\"exon-22018\",\"x\":[7072.0,7072.0,6828.8,6828.8,6768.0,6828.8,6828.8,7072.0],\"y\":[0.3,0.55,0.55,0.6,0.425,0.25,0.3,0.3],\"type\":\"scatter\"},{\"fill\":\"toself\",\"fillcolor\":\"rgba(0,0,100,0.75)\",\"hoverinfo\":\"text\",\"legendgroup\":\"exon\",\"line\":{\"color\":\"rgba(0,0,100,0.75)\"},\"mode\":\"lines\",\"name\":\"exon\",\"showlegend\":false,\"text\":\"exon-22013\",\"x\":[7548.0,7548.0,7438.4,7438.4,7411.0,7438.4,7438.4,7548.0],\"y\":[0.3,0.55,0.55,0.6,0.425,0.25,0.3,0.3],\"type\":\"scatter\"},{\"fill\":\"toself\",\"hoverinfo\":\"text\",\"legendgroup\":\"misc_feature\",\"mode\":\"lines\",\"name\":\"misc_feature\",\"showlegend\":true,\"text\":\"misc_feature-25028 (incomplete)\",\"x\":[0,0,10000,10000,0],\"y\":[0.85,1.1,1.1,0.85,0.85],\"type\":\"scatter\"},{\"fill\":\"toself\",\"fillcolor\":\"rgba(0,0,150,0.75)\",\"hoverinfo\":\"text\",\"legendgroup\":\"CDS\",\"line\":{\"color\":\"rgba(0,0,150,0.75)\"},\"mode\":\"lines\",\"name\":\"CDS\",\"showlegend\":true,\"text\":\"WBGene00022279\",\"x\":[7411,7411,7482,7482,7411,null,7411,7072,null,6768,6768,7072,7072,6768,null,6768,5424,null,4768,4768,5424,5424,4768,null,4768,4367,null,4099,4099,4367,4367,4099,null,4099,3405,null,3405.0,3405.0,3304.2,3304.2,3279.0,3304.2,3304.2,3405.0],\"y\":[1.4000000000000001,1.6500000000000001,1.6500000000000001,1.4000000000000001,1.4000000000000001,null,1.5250000000000001,1.5250000000000001,null,1.4000000000000001,1.6500000000000001,1.6500000000000001,1.4000000000000001,1.4000000000000001,null,1.5250000000000001,1.5250000000000001,null,1.4000000000000001,1.6500000000000001,1.6500000000000001,1.4000000000000001,1.4000000000000001,null,1.5250000000000001,1.5250000000000001,null,1.4000000000000001,1.6500000000000001,1.6500000000000001,1.4000000000000001,1.4000000000000001,null,1.5250000000000001,1.5250000000000001,null,1.4000000000000001,1.6500000000000001,1.6500000000000001,1.7000000000000002,1.5250000000000001,1.35,1.4000000000000001,1.4000000000000001],\"type\":\"scatter\"},{\"fill\":\"toself\",\"fillcolor\":\"rgba(0,0,150,0.75)\",\"hoverinfo\":\"text\",\"legendgroup\":\"CDS\",\"line\":{\"color\":\"rgba(0,0,150,0.75)\"},\"mode\":\"lines\",\"name\":\"CDS\",\"showlegend\":false,\"text\":\"WBGene00022278 (incomplete)\",\"x\":[1589,1589,1643,1643,1589,null,1589,1524,null,1370,1370,1524,1524,1370,null,1370,472,null,272,272,472,472,272,null,272,90,null,90.0,90.0,18.0,18.0,0.0,18.0,18.0,90.0],\"y\":[1.4000000000000001,1.6500000000000001,1.6500000000000001,1.4000000000000001,1.4000000000000001,null,1.5250000000000001,1.5250000000000001,null,1.4000000000000001,1.6500000000000001,1.6500000000000001,1.4000000000000001,1.4000000000000001,null,1.5250000000000001,1.5250000000000001,null,1.4000000000000001,1.6500000000000001,1.6500000000000001,1.4000000000000001,1.4000000000000001,null,1.5250000000000001,1.5250000000000001,null,1.4000000000000001,1.6500000000000001,1.6500000000000001,1.7000000000000002,1.5250000000000001,1.35,1.4000000000000001,1.4000000000000001],\"type\":\"scatter\"},{\"fill\":\"toself\",\"fillcolor\":\"rgba(0,0,150,0.75)\",\"hoverinfo\":\"text\",\"legendgroup\":\"CDS\",\"line\":{\"color\":\"rgba(0,0,150,0.75)\"},\"mode\":\"lines\",\"name\":\"CDS\",\"showlegend\":false,\"text\":\"WBGene00022278 (incomplete)\",\"x\":[1732,1732,1778,1778,1732,null,1732,1690,null,1589,1589,1690,1690,1589,null,1589,1524,null,1370,1370,1524,1524,1370,null,1370,472,null,272,272,472,472,272,null,272,90,null,90.0,90.0,18.0,18.0,0.0,18.0,18.0,90.0],\"y\":[1.4000000000000001,1.6500000000000001,1.6500000000000001,1.4000000000000001,1.4000000000000001,null,1.5250000000000001,1.5250000000000001,null,1.4000000000000001,1.6500000000000001,1.6500000000000001,1.4000000000000001,1.4000000000000001,null,1.5250000000000001,1.5250000000000001,null,1.4000000000000001,1.6500000000000001,1.6500000000000001,1.4000000000000001,1.4000000000000001,null,1.5250000000000001,1.5250000000000001,null,1.4000000000000001,1.6500000000000001,1.6500000000000001,1.4000000000000001,1.4000000000000001,null,1.5250000000000001,1.5250000000000001,null,1.4000000000000001,1.6500000000000001,1.6500000000000001,1.7000000000000002,1.5250000000000001,1.35,1.4000000000000001,1.4000000000000001],\"type\":\"scatter\"},{\"fill\":\"toself\",\"fillcolor\":\"rgba(0,0,150,0.75)\",\"hoverinfo\":\"text\",\"legendgroup\":\"CDS\",\"line\":{\"color\":\"rgba(0,0,150,0.75)\"},\"mode\":\"lines\",\"name\":\"CDS\",\"showlegend\":false,\"text\":\"WBGene00022278 (incomplete)\",\"x\":[1732,1732,1778,1778,1732,null,1732,1681,null,1589,1589,1681,1681,1589,null,1589,1524,null,1370,1370,1524,1524,1370,null,1370,472,null,272,272,472,472,272,null,272,90,null,90.0,90.0,18.0,18.0,0.0,18.0,18.0,90.0],\"y\":[1.4000000000000001,1.6500000000000001,1.6500000000000001,1.4000000000000001,1.4000000000000001,null,1.5250000000000001,1.5250000000000001,null,1.4000000000000001,1.6500000000000001,1.6500000000000001,1.4000000000000001,1.4000000000000001,null,1.5250000000000001,1.5250000000000001,null,1.4000000000000001,1.6500000000000001,1.6500000000000001,1.4000000000000001,1.4000000000000001,null,1.5250000000000001,1.5250000000000001,null,1.4000000000000001,1.6500000000000001,1.6500000000000001,1.4000000000000001,1.4000000000000001,null,1.5250000000000001,1.5250000000000001,null,1.4000000000000001,1.6500000000000001,1.6500000000000001,1.7000000000000002,1.5250000000000001,1.35,1.4000000000000001,1.4000000000000001],\"type\":\"scatter\"},{\"fill\":\"toself\",\"hoverinfo\":\"text\",\"legendgroup\":\"source\",\"mode\":\"lines\",\"name\":\"source\",\"showlegend\":true,\"text\":\"taxon:6239 (incomplete)\",\"x\":[0,0,10000,10000,0],\"y\":[1.9500000000000002,2.2,2.2,1.9500000000000002,1.9500000000000002],\"type\":\"scatter\"},{\"fill\":\"toself\",\"fillcolor\":\"rgba(140,102,139,0.75)\",\"hoverinfo\":\"text\",\"legendgroup\":\"mRNA\",\"line\":{\"color\":\"rgba(140,102,139,0.75)\"},\"mode\":\"lines\",\"name\":\"mRNA\",\"showlegend\":true,\"text\":\"WBGene00022278 (incomplete)\",\"x\":[1732,1732,1781,1781,1732,null,1732,1681,null,1589,1589,1681,1681,1589,null,1589,1524,null,1370,1370,1524,1524,1370,null,1370,472,null,272,272,472,472,272,null,272,90,null,90.0,90.0,18.0,18.0,0.0,18.0,18.0,90.0],\"y\":[2.5,2.75,2.75,2.5,2.5,null,2.625,2.625,null,2.5,2.75,2.75,2.5,2.5,null,2.625,2.625,null,2.5,2.75,2.75,2.5,2.5,null,2.625,2.625,null,2.5,2.75,2.75,2.5,2.5,null,2.625,2.625,null,2.5,2.75,2.75,2.8,2.625,2.45,2.5,2.5],\"type\":\"scatter\"},{\"fill\":\"toself\",\"fillcolor\":\"rgba(140,102,139,0.75)\",\"hoverinfo\":\"text\",\"legendgroup\":\"mRNA\",\"line\":{\"color\":\"rgba(140,102,139,0.75)\"},\"mode\":\"lines\",\"name\":\"mRNA\",\"showlegend\":false,\"text\":\"WBGene00022278 (incomplete)\",\"x\":[1589,1589,1643,1643,1589,null,1589,1524,null,1370,1370,1524,1524,1370,null,1370,472,null,272,272,472,472,272,null,272,90,null,90.0,90.0,18.0,18.0,0.0,18.0,18.0,90.0],\"y\":[2.5,2.75,2.75,2.5,2.5,null,2.625,2.625,null,2.5,2.75,2.75,2.5,2.5,null,2.625,2.625,null,2.5,2.75,2.75,2.5,2.5,null,2.625,2.625,null,2.5,2.75,2.75,2.8,2.625,2.45,2.5,2.5],\"type\":\"scatter\"},{\"fill\":\"toself\",\"fillcolor\":\"rgba(140,102,139,0.75)\",\"hoverinfo\":\"text\",\"legendgroup\":\"mRNA\",\"line\":{\"color\":\"rgba(140,102,139,0.75)\"},\"mode\":\"lines\",\"name\":\"mRNA\",\"showlegend\":false,\"text\":\"WBGene00022278 (incomplete)\",\"x\":[1732,1732,1781,1781,1732,null,1732,1690,null,1589,1589,1690,1690,1589,null,1589,1524,null,1370,1370,1524,1524,1370,null,1370,472,null,272,272,472,472,272,null,272,90,null,90.0,90.0,18.0,18.0,0.0,18.0,18.0,90.0],\"y\":[2.5,2.75,2.75,2.5,2.5,null,2.625,2.625,null,2.5,2.75,2.75,2.5,2.5,null,2.625,2.625,null,2.5,2.75,2.75,2.5,2.5,null,2.625,2.625,null,2.5,2.75,2.75,2.5,2.5,null,2.625,2.625,null,2.5,2.75,2.75,2.8,2.625,2.45,2.5,2.5],\"type\":\"scatter\"},{\"fill\":\"toself\",\"fillcolor\":\"rgba(140,102,139,0.75)\",\"hoverinfo\":\"text\",\"legendgroup\":\"mRNA\",\"line\":{\"color\":\"rgba(140,102,139,0.75)\"},\"mode\":\"lines\",\"name\":\"mRNA\",\"showlegend\":false,\"text\":\"WBGene00022279\",\"x\":[7411,7411,7548,7548,7411,null,7411,7072,null,6768,6768,7072,7072,6768,null,6768,5424,null,4768,4768,5424,5424,4768,null,4768,4367,null,4099,4099,4367,4367,4099,null,4099,3405,null,3405.0,3405.0,2753.0,2753.0,2590.0,2753.0,2753.0,3405.0],\"y\":[2.5,2.75,2.75,2.5,2.5,null,2.625,2.625,null,2.5,2.75,2.75,2.5,2.5,null,2.625,2.625,null,2.5,2.75,2.75,2.5,2.5,null,2.625,2.625,null,2.5,2.75,2.75,2.5,2.5,null,2.625,2.625,null,2.5,2.75,2.75,2.8,2.625,2.45,2.5,2.5],\"type\":\"scatter\"},{\"fill\":\"toself\",\"fillcolor\":\"rgba(140,102,139,0.75)\",\"hoverinfo\":\"text\",\"legendgroup\":\"mRNA\",\"line\":{\"color\":\"rgba(140,102,139,0.75)\"},\"mode\":\"lines\",\"name\":\"mRNA\",\"showlegend\":false,\"text\":\"WBGene00022279\",\"x\":[8036,8036,8150,8150,8036,null,8036,7542,null,7411,7411,7542,7542,7411,null,7411,7072,null,6768,6768,7072,7072,6768,null,6768,5424,null,4768,4768,5424,5424,4768,null,4768,4367,null,4099,4099,4367,4367,4099,null,4099,3405,null,3405.0,3405.0,2751.4,2751.4,2588.0,2751.4,2751.4,3405.0],\"y\":[2.5,2.75,2.75,2.5,2.5,null,2.625,2.625,null,2.5,2.75,2.75,2.5,2.5,null,2.625,2.625,null,2.5,2.75,2.75,2.5,2.5,null,2.625,2.625,null,2.5,2.75,2.75,2.5,2.5,null,2.625,2.625,null,2.5,2.75,2.75,2.5,2.5,null,2.625,2.625,null,2.5,2.75,2.75,2.8,2.625,2.45,2.5,2.5],\"type\":\"scatter\"},{\"fill\":\"toself\",\"fillcolor\":\"rgba(161,0,0,0.75)\",\"hoverinfo\":\"text\",\"legendgroup\":\"gene\",\"line\":{\"color\":\"rgba(161,0,0,0.75)\"},\"mode\":\"lines\",\"name\":\"gene\",\"showlegend\":true,\"text\":\"WBGene00173569\",\"x\":[7414.0,7430.8,7430.8,7435.0,7430.8,7430.8,7414.0,7414.0],\"y\":[3.0999999999999996,3.0999999999999996,3.05,3.2249999999999996,3.3999999999999995,3.3499999999999996,3.3499999999999996,3.0999999999999996],\"type\":\"scatter\"},{\"fill\":\"toself\",\"fillcolor\":\"rgba(161,0,0,0.75)\",\"hoverinfo\":\"text\",\"legendgroup\":\"gene\",\"line\":{\"color\":\"rgba(161,0,0,0.75)\"},\"mode\":\"lines\",\"name\":\"gene\",\"showlegend\":false,\"text\":\"WBGene00170953\",\"x\":[6522.0,6538.8,6538.8,6543.0,6538.8,6538.8,6522.0,6522.0],\"y\":[3.0999999999999996,3.0999999999999996,3.05,3.2249999999999996,3.3999999999999995,3.3499999999999996,3.3499999999999996,3.0999999999999996],\"type\":\"scatter\"},{\"fill\":\"toself\",\"fillcolor\":\"rgba(161,0,0,0.75)\",\"hoverinfo\":\"text\",\"legendgroup\":\"gene\",\"line\":{\"color\":\"rgba(161,0,0,0.75)\"},\"mode\":\"lines\",\"name\":\"gene\",\"showlegend\":false,\"text\":\"WBGene00022279\",\"x\":[8150.0,8150.0,3700.3999999999996,3700.3999999999996,2588.0,3700.3999999999996,3700.3999999999996,8150.0],\"y\":[3.0999999999999996,3.3499999999999996,3.3499999999999996,3.3999999999999995,3.2249999999999996,3.05,3.0999999999999996,3.0999999999999996],\"type\":\"scatter\"},{\"fill\":\"toself\",\"fillcolor\":\"rgba(161,0,0,0.75)\",\"hoverinfo\":\"text\",\"legendgroup\":\"gene\",\"line\":{\"color\":\"rgba(161,0,0,0.75)\"},\"mode\":\"lines\",\"name\":\"gene\",\"showlegend\":false,\"text\":\"WBGene00022278 (incomplete)\",\"x\":[1781.0,1781.0,356.20000000000005,356.20000000000005,0.0,356.20000000000005,356.20000000000005,1781.0],\"y\":[3.0999999999999996,3.3499999999999996,3.3499999999999996,3.3999999999999995,3.2249999999999996,3.05,3.0999999999999996,3.0999999999999996],\"type\":\"scatter\"},{\"fill\":\"toself\",\"hoverinfo\":\"text\",\"legendgroup\":\"misc_RNA\",\"mode\":\"lines\",\"name\":\"misc_RNA\",\"showlegend\":true,\"text\":\"WBGene00173569\",\"x\":[7414,7414,7435,7435,7414],\"y\":[3.6499999999999995,3.8999999999999995,3.8999999999999995,3.6499999999999995,3.6499999999999995],\"type\":\"scatter\"},{\"fill\":\"toself\",\"hoverinfo\":\"text\",\"legendgroup\":\"misc_RNA\",\"mode\":\"lines\",\"name\":\"misc_RNA\",\"showlegend\":false,\"text\":\"WBGene00170953\",\"x\":[6522,6522,6543,6543,6522],\"y\":[3.6499999999999995,3.8999999999999995,3.8999999999999995,3.6499999999999995,3.6499999999999995],\"type\":\"scatter\"}],                        {\"autosize\":false,\"font\":{\"family\":\"Balto\",\"size\":14},\"height\":400,\"hovermode\":\"closest\",\"margin\":{\"b\":50,\"l\":50,\"pad\":4,\"r\":50,\"t\":50},\"showlegend\":true,\"title\":{\"text\":\"I\"},\"width\":700,\"xaxis\":{\"range\":[0,10000],\"showline\":true,\"zeroline\":false},\"yaxis\":{\"range\":[0,4.1499999999999995],\"showline\":true,\"visible\":false,\"zeroline\":true},\"template\":{\"data\":{\"histogram2dcontour\":[{\"type\":\"histogram2dcontour\",\"colorbar\":{\"outlinewidth\":0,\"ticks\":\"\"},\"colorscale\":[[0.0,\"#0d0887\"],[0.1111111111111111,\"#46039f\"],[0.2222222222222222,\"#7201a8\"],[0.3333333333333333,\"#9c179e\"],[0.4444444444444444,\"#bd3786\"],[0.5555555555555556,\"#d8576b\"],[0.6666666666666666,\"#ed7953\"],[0.7777777777777778,\"#fb9f3a\"],[0.8888888888888888,\"#fdca26\"],[1.0,\"#f0f921\"]]}],\"choropleth\":[{\"type\":\"choropleth\",\"colorbar\":{\"outlinewidth\":0,\"ticks\":\"\"}}],\"histogram2d\":[{\"type\":\"histogram2d\",\"colorbar\":{\"outlinewidth\":0,\"ticks\":\"\"},\"colorscale\":[[0.0,\"#0d0887\"],[0.1111111111111111,\"#46039f\"],[0.2222222222222222,\"#7201a8\"],[0.3333333333333333,\"#9c179e\"],[0.4444444444444444,\"#bd3786\"],[0.5555555555555556,\"#d8576b\"],[0.6666666666666666,\"#ed7953\"],[0.7777777777777778,\"#fb9f3a\"],[0.8888888888888888,\"#fdca26\"],[1.0,\"#f0f921\"]]}],\"heatmap\":[{\"type\":\"heatmap\",\"colorbar\":{\"outlinewidth\":0,\"ticks\":\"\"},\"colorscale\":[[0.0,\"#0d0887\"],[0.1111111111111111,\"#46039f\"],[0.2222222222222222,\"#7201a8\"],[0.3333333333333333,\"#9c179e\"],[0.4444444444444444,\"#bd3786\"],[0.5555555555555556,\"#d8576b\"],[0.6666666666666666,\"#ed7953\"],[0.7777777777777778,\"#fb9f3a\"],[0.8888888888888888,\"#fdca26\"],[1.0,\"#f0f921\"]]}],\"heatmapgl\":[{\"type\":\"heatmapgl\",\"colorbar\":{\"outlinewidth\":0,\"ticks\":\"\"},\"colorscale\":[[0.0,\"#0d0887\"],[0.1111111111111111,\"#46039f\"],[0.2222222222222222,\"#7201a8\"],[0.3333333333333333,\"#9c179e\"],[0.4444444444444444,\"#bd3786\"],[0.5555555555555556,\"#d8576b\"],[0.6666666666666666,\"#ed7953\"],[0.7777777777777778,\"#fb9f3a\"],[0.8888888888888888,\"#fdca26\"],[1.0,\"#f0f921\"]]}],\"contourcarpet\":[{\"type\":\"contourcarpet\",\"colorbar\":{\"outlinewidth\":0,\"ticks\":\"\"}}],\"contour\":[{\"type\":\"contour\",\"colorbar\":{\"outlinewidth\":0,\"ticks\":\"\"},\"colorscale\":[[0.0,\"#0d0887\"],[0.1111111111111111,\"#46039f\"],[0.2222222222222222,\"#7201a8\"],[0.3333333333333333,\"#9c179e\"],[0.4444444444444444,\"#bd3786\"],[0.5555555555555556,\"#d8576b\"],[0.6666666666666666,\"#ed7953\"],[0.7777777777777778,\"#fb9f3a\"],[0.8888888888888888,\"#fdca26\"],[1.0,\"#f0f921\"]]}],\"surface\":[{\"type\":\"surface\",\"colorbar\":{\"outlinewidth\":0,\"ticks\":\"\"},\"colorscale\":[[0.0,\"#0d0887\"],[0.1111111111111111,\"#46039f\"],[0.2222222222222222,\"#7201a8\"],[0.3333333333333333,\"#9c179e\"],[0.4444444444444444,\"#bd3786\"],[0.5555555555555556,\"#d8576b\"],[0.6666666666666666,\"#ed7953\"],[0.7777777777777778,\"#fb9f3a\"],[0.8888888888888888,\"#fdca26\"],[1.0,\"#f0f921\"]]}],\"mesh3d\":[{\"type\":\"mesh3d\",\"colorbar\":{\"outlinewidth\":0,\"ticks\":\"\"}}],\"scatter\":[{\"fillpattern\":{\"fillmode\":\"overlay\",\"size\":10,\"solidity\":0.2},\"type\":\"scatter\"}],\"parcoords\":[{\"type\":\"parcoords\",\"line\":{\"colorbar\":{\"outlinewidth\":0,\"ticks\":\"\"}}}],\"scatterpolargl\":[{\"type\":\"scatterpolargl\",\"marker\":{\"colorbar\":{\"outlinewidth\":0,\"ticks\":\"\"}}}],\"bar\":[{\"error_x\":{\"color\":\"#2a3f5f\"},\"error_y\":{\"color\":\"#2a3f5f\"},\"marker\":{\"line\":{\"color\":\"#E5ECF6\",\"width\":0.5},\"pattern\":{\"fillmode\":\"overlay\",\"size\":10,\"solidity\":0.2}},\"type\":\"bar\"}],\"scattergeo\":[{\"type\":\"scattergeo\",\"marker\":{\"colorbar\":{\"outlinewidth\":0,\"ticks\":\"\"}}}],\"scatterpolar\":[{\"type\":\"scatterpolar\",\"marker\":{\"colorbar\":{\"outlinewidth\":0,\"ticks\":\"\"}}}],\"histogram\":[{\"marker\":{\"pattern\":{\"fillmode\":\"overlay\",\"size\":10,\"solidity\":0.2}},\"type\":\"histogram\"}],\"scattergl\":[{\"type\":\"scattergl\",\"marker\":{\"colorbar\":{\"outlinewidth\":0,\"ticks\":\"\"}}}],\"scatter3d\":[{\"type\":\"scatter3d\",\"line\":{\"colorbar\":{\"outlinewidth\":0,\"ticks\":\"\"}},\"marker\":{\"colorbar\":{\"outlinewidth\":0,\"ticks\":\"\"}}}],\"scattermapbox\":[{\"type\":\"scattermapbox\",\"marker\":{\"colorbar\":{\"outlinewidth\":0,\"ticks\":\"\"}}}],\"scatterternary\":[{\"type\":\"scatterternary\",\"marker\":{\"colorbar\":{\"outlinewidth\":0,\"ticks\":\"\"}}}],\"scattercarpet\":[{\"type\":\"scattercarpet\",\"marker\":{\"colorbar\":{\"outlinewidth\":0,\"ticks\":\"\"}}}],\"carpet\":[{\"aaxis\":{\"endlinecolor\":\"#2a3f5f\",\"gridcolor\":\"white\",\"linecolor\":\"white\",\"minorgridcolor\":\"white\",\"startlinecolor\":\"#2a3f5f\"},\"baxis\":{\"endlinecolor\":\"#2a3f5f\",\"gridcolor\":\"white\",\"linecolor\":\"white\",\"minorgridcolor\":\"white\",\"startlinecolor\":\"#2a3f5f\"},\"type\":\"carpet\"}],\"table\":[{\"cells\":{\"fill\":{\"color\":\"#EBF0F8\"},\"line\":{\"color\":\"white\"}},\"header\":{\"fill\":{\"color\":\"#C8D4E3\"},\"line\":{\"color\":\"white\"}},\"type\":\"table\"}],\"barpolar\":[{\"marker\":{\"line\":{\"color\":\"#E5ECF6\",\"width\":0.5},\"pattern\":{\"fillmode\":\"overlay\",\"size\":10,\"solidity\":0.2}},\"type\":\"barpolar\"}],\"pie\":[{\"automargin\":true,\"type\":\"pie\"}]},\"layout\":{\"autotypenumbers\":\"strict\",\"colorway\":[\"#636efa\",\"#EF553B\",\"#00cc96\",\"#ab63fa\",\"#FFA15A\",\"#19d3f3\",\"#FF6692\",\"#B6E880\",\"#FF97FF\",\"#FECB52\"],\"font\":{\"color\":\"#2a3f5f\"},\"hovermode\":\"closest\",\"hoverlabel\":{\"align\":\"left\"},\"paper_bgcolor\":\"white\",\"plot_bgcolor\":\"#E5ECF6\",\"polar\":{\"bgcolor\":\"#E5ECF6\",\"angularaxis\":{\"gridcolor\":\"white\",\"linecolor\":\"white\",\"ticks\":\"\"},\"radialaxis\":{\"gridcolor\":\"white\",\"linecolor\":\"white\",\"ticks\":\"\"}},\"ternary\":{\"bgcolor\":\"#E5ECF6\",\"aaxis\":{\"gridcolor\":\"white\",\"linecolor\":\"white\",\"ticks\":\"\"},\"baxis\":{\"gridcolor\":\"white\",\"linecolor\":\"white\",\"ticks\":\"\"},\"caxis\":{\"gridcolor\":\"white\",\"linecolor\":\"white\",\"ticks\":\"\"}},\"coloraxis\":{\"colorbar\":{\"outlinewidth\":0,\"ticks\":\"\"}},\"colorscale\":{\"sequential\":[[0.0,\"#0d0887\"],[0.1111111111111111,\"#46039f\"],[0.2222222222222222,\"#7201a8\"],[0.3333333333333333,\"#9c179e\"],[0.4444444444444444,\"#bd3786\"],[0.5555555555555556,\"#d8576b\"],[0.6666666666666666,\"#ed7953\"],[0.7777777777777778,\"#fb9f3a\"],[0.8888888888888888,\"#fdca26\"],[1.0,\"#f0f921\"]],\"sequentialminus\":[[0.0,\"#0d0887\"],[0.1111111111111111,\"#46039f\"],[0.2222222222222222,\"#7201a8\"],[0.3333333333333333,\"#9c179e\"],[0.4444444444444444,\"#bd3786\"],[0.5555555555555556,\"#d8576b\"],[0.6666666666666666,\"#ed7953\"],[0.7777777777777778,\"#fb9f3a\"],[0.8888888888888888,\"#fdca26\"],[1.0,\"#f0f921\"]],\"diverging\":[[0,\"#8e0152\"],[0.1,\"#c51b7d\"],[0.2,\"#de77ae\"],[0.3,\"#f1b6da\"],[0.4,\"#fde0ef\"],[0.5,\"#f7f7f7\"],[0.6,\"#e6f5d0\"],[0.7,\"#b8e186\"],[0.8,\"#7fbc41\"],[0.9,\"#4d9221\"],[1,\"#276419\"]]},\"xaxis\":{\"gridcolor\":\"white\",\"linecolor\":\"white\",\"ticks\":\"\",\"title\":{\"standoff\":15},\"zerolinecolor\":\"white\",\"automargin\":true,\"zerolinewidth\":2},\"yaxis\":{\"gridcolor\":\"white\",\"linecolor\":\"white\",\"ticks\":\"\",\"title\":{\"standoff\":15},\"zerolinecolor\":\"white\",\"automargin\":true,\"zerolinewidth\":2},\"scene\":{\"xaxis\":{\"backgroundcolor\":\"#E5ECF6\",\"gridcolor\":\"white\",\"linecolor\":\"white\",\"showbackground\":true,\"ticks\":\"\",\"zerolinecolor\":\"white\",\"gridwidth\":2},\"yaxis\":{\"backgroundcolor\":\"#E5ECF6\",\"gridcolor\":\"white\",\"linecolor\":\"white\",\"showbackground\":true,\"ticks\":\"\",\"zerolinecolor\":\"white\",\"gridwidth\":2},\"zaxis\":{\"backgroundcolor\":\"#E5ECF6\",\"gridcolor\":\"white\",\"linecolor\":\"white\",\"showbackground\":true,\"ticks\":\"\",\"zerolinecolor\":\"white\",\"gridwidth\":2}},\"shapedefaults\":{\"line\":{\"color\":\"#2a3f5f\"}},\"annotationdefaults\":{\"arrowcolor\":\"#2a3f5f\",\"arrowhead\":0,\"arrowwidth\":1},\"geo\":{\"bgcolor\":\"white\",\"landcolor\":\"#E5ECF6\",\"subunitcolor\":\"white\",\"showland\":true,\"showlakes\":true,\"lakecolor\":\"white\"},\"title\":{\"x\":0.05},\"mapbox\":{\"style\":\"light\"}}}},                        {\"responsive\": true}                    ).then(function(){\n",
       "\n",
       "var gd = document.getElementById('70ba3f30-6bd0-49d4-aad7-ec15d83f2339');\n",
       "var x = new MutationObserver(function (mutations, observer) {{\n",
       "        var display = window.getComputedStyle(gd).display;\n",
       "        if (!display || display === 'none') {{\n",
       "            console.log([gd, 'removed!']);\n",
       "            Plotly.purge(gd);\n",
       "            observer.disconnect();\n",
       "        }}\n",
       "}});\n",
       "\n",
       "// Listen for the removal of the full notebook cells\n",
       "var notebookContainer = gd.closest('#notebook-container');\n",
       "if (notebookContainer) {{\n",
       "    x.observe(notebookContainer, {childList: true});\n",
       "}}\n",
       "\n",
       "// Listen for the clearing of the current output cell\n",
       "var outputEl = gd.closest('.output');\n",
       "if (outputEl) {{\n",
       "    x.observe(outputEl, {childList: true});\n",
       "}}\n",
       "\n",
       "                        })                };                });            </script>        </div>"
      ]
     },
     "metadata": {},
     "output_type": "display_data"
    }
   ],
   "source": [
    "fig = seq.get_drawable()\n",
    "fig.show(height=400, width=700)"
   ]
  },
  {
   "cell_type": "code",
   "execution_count": 5,
   "id": "44fdf90e",
   "metadata": {
    "execution": {
     "iopub.execute_input": "2023-12-15T00:09:46.666244Z",
     "iopub.status.busy": "2023-12-15T00:09:46.666147Z",
     "iopub.status.idle": "2023-12-15T00:09:46.678182Z",
     "shell.execute_reply": "2023-12-15T00:09:46.677951Z"
    }
   },
   "outputs": [
    {
     "data": {
      "text/html": [
       "<script type=\"text/javascript\">\n",
       "window.PlotlyConfig = {MathJaxConfig: 'local'};\n",
       "if (window.MathJax && window.MathJax.Hub && window.MathJax.Hub.Config) {window.MathJax.Hub.Config({SVG: {font: \"STIX-Web\"}});}\n",
       "if (typeof require !== 'undefined') {\n",
       "require.undef(\"plotly\");\n",
       "requirejs.config({\n",
       "    paths: {\n",
       "        'plotly': ['https://cdn.plot.ly/plotly-2.20.0.min']\n",
       "    }\n",
       "});\n",
       "require(['plotly'], function(Plotly) {\n",
       "    window._Plotly = Plotly;\n",
       "});\n",
       "}\n",
       "</script>\n"
      ]
     },
     "metadata": {},
     "output_type": "display_data"
    },
    {
     "data": {
      "application/vnd.plotly.v1+json": {
       "config": {
        "plotlyServerURL": "https://plot.ly"
       },
       "data": [
        {
         "fill": "toself",
         "fillcolor": "rgba(161,0,0,0.75)",
         "hoverinfo": "text",
         "legendgroup": "gene",
         "line": {
          "color": "rgba(161,0,0,0.75)"
         },
         "mode": "lines",
         "name": "gene",
         "showlegend": true,
         "text": "WBGene00173569",
         "type": "scatter",
         "x": [
          7414.0,
          7430.8,
          7430.8,
          7435.0,
          7430.8,
          7430.8,
          7414.0,
          7414.0
         ],
         "y": [
          0.3,
          0.3,
          0.25,
          0.425,
          0.6,
          0.55,
          0.55,
          0.3
         ]
        },
        {
         "fill": "toself",
         "fillcolor": "rgba(161,0,0,0.75)",
         "hoverinfo": "text",
         "legendgroup": "gene",
         "line": {
          "color": "rgba(161,0,0,0.75)"
         },
         "mode": "lines",
         "name": "gene",
         "showlegend": false,
         "text": "WBGene00170953",
         "type": "scatter",
         "x": [
          6522.0,
          6538.8,
          6538.8,
          6543.0,
          6538.8,
          6538.8,
          6522.0,
          6522.0
         ],
         "y": [
          0.3,
          0.3,
          0.25,
          0.425,
          0.6,
          0.55,
          0.55,
          0.3
         ]
        },
        {
         "fill": "toself",
         "fillcolor": "rgba(161,0,0,0.75)",
         "hoverinfo": "text",
         "legendgroup": "gene",
         "line": {
          "color": "rgba(161,0,0,0.75)"
         },
         "mode": "lines",
         "name": "gene",
         "showlegend": false,
         "text": "WBGene00022279",
         "type": "scatter",
         "x": [
          8150.0,
          8150.0,
          3700.3999999999996,
          3700.3999999999996,
          2588.0,
          3700.3999999999996,
          3700.3999999999996,
          8150.0
         ],
         "y": [
          0.3,
          0.55,
          0.55,
          0.6,
          0.425,
          0.25,
          0.3,
          0.3
         ]
        },
        {
         "fill": "toself",
         "fillcolor": "rgba(161,0,0,0.75)",
         "hoverinfo": "text",
         "legendgroup": "gene",
         "line": {
          "color": "rgba(161,0,0,0.75)"
         },
         "mode": "lines",
         "name": "gene",
         "showlegend": false,
         "text": "WBGene00022278 (incomplete)",
         "type": "scatter",
         "x": [
          1781.0,
          1781.0,
          356.20000000000005,
          356.20000000000005,
          0.0,
          356.20000000000005,
          356.20000000000005,
          1781.0
         ],
         "y": [
          0.3,
          0.55,
          0.55,
          0.6,
          0.425,
          0.25,
          0.3,
          0.3
         ]
        },
        {
         "fill": "toself",
         "fillcolor": "rgba(0,0,150,0.75)",
         "hoverinfo": "text",
         "legendgroup": "CDS",
         "line": {
          "color": "rgba(0,0,150,0.75)"
         },
         "mode": "lines",
         "name": "CDS",
         "showlegend": true,
         "text": "WBGene00022278 (incomplete)",
         "type": "scatter",
         "x": [
          1589,
          1589,
          1643,
          1643,
          1589,
          null,
          1589,
          1524,
          null,
          1370,
          1370,
          1524,
          1524,
          1370,
          null,
          1370,
          472,
          null,
          272,
          272,
          472,
          472,
          272,
          null,
          272,
          90,
          null,
          90.0,
          90.0,
          18.0,
          18.0,
          0.0,
          18.0,
          18.0,
          90.0
         ],
         "y": [
          0.9,
          1.15,
          1.15,
          0.9,
          0.9,
          null,
          1.025,
          1.025,
          null,
          0.9,
          1.15,
          1.15,
          0.9,
          0.9,
          null,
          1.025,
          1.025,
          null,
          0.9,
          1.15,
          1.15,
          0.9,
          0.9,
          null,
          1.025,
          1.025,
          null,
          0.9,
          1.15,
          1.15,
          1.2,
          1.025,
          0.85,
          0.9,
          0.9
         ]
        },
        {
         "fill": "toself",
         "fillcolor": "rgba(0,0,150,0.75)",
         "hoverinfo": "text",
         "legendgroup": "CDS",
         "line": {
          "color": "rgba(0,0,150,0.75)"
         },
         "mode": "lines",
         "name": "CDS",
         "showlegend": false,
         "text": "WBGene00022278 (incomplete)",
         "type": "scatter",
         "x": [
          1732,
          1732,
          1778,
          1778,
          1732,
          null,
          1732,
          1681,
          null,
          1589,
          1589,
          1681,
          1681,
          1589,
          null,
          1589,
          1524,
          null,
          1370,
          1370,
          1524,
          1524,
          1370,
          null,
          1370,
          472,
          null,
          272,
          272,
          472,
          472,
          272,
          null,
          272,
          90,
          null,
          90.0,
          90.0,
          18.0,
          18.0,
          0.0,
          18.0,
          18.0,
          90.0
         ],
         "y": [
          0.9,
          1.15,
          1.15,
          0.9,
          0.9,
          null,
          1.025,
          1.025,
          null,
          0.9,
          1.15,
          1.15,
          0.9,
          0.9,
          null,
          1.025,
          1.025,
          null,
          0.9,
          1.15,
          1.15,
          0.9,
          0.9,
          null,
          1.025,
          1.025,
          null,
          0.9,
          1.15,
          1.15,
          0.9,
          0.9,
          null,
          1.025,
          1.025,
          null,
          0.9,
          1.15,
          1.15,
          1.2,
          1.025,
          0.85,
          0.9,
          0.9
         ]
        },
        {
         "fill": "toself",
         "fillcolor": "rgba(0,0,150,0.75)",
         "hoverinfo": "text",
         "legendgroup": "CDS",
         "line": {
          "color": "rgba(0,0,150,0.75)"
         },
         "mode": "lines",
         "name": "CDS",
         "showlegend": false,
         "text": "WBGene00022279",
         "type": "scatter",
         "x": [
          7411,
          7411,
          7482,
          7482,
          7411,
          null,
          7411,
          7072,
          null,
          6768,
          6768,
          7072,
          7072,
          6768,
          null,
          6768,
          5424,
          null,
          4768,
          4768,
          5424,
          5424,
          4768,
          null,
          4768,
          4367,
          null,
          4099,
          4099,
          4367,
          4367,
          4099,
          null,
          4099,
          3405,
          null,
          3405.0,
          3405.0,
          3304.2,
          3304.2,
          3279.0,
          3304.2,
          3304.2,
          3405.0
         ],
         "y": [
          0.9,
          1.15,
          1.15,
          0.9,
          0.9,
          null,
          1.025,
          1.025,
          null,
          0.9,
          1.15,
          1.15,
          0.9,
          0.9,
          null,
          1.025,
          1.025,
          null,
          0.9,
          1.15,
          1.15,
          0.9,
          0.9,
          null,
          1.025,
          1.025,
          null,
          0.9,
          1.15,
          1.15,
          0.9,
          0.9,
          null,
          1.025,
          1.025,
          null,
          0.9,
          1.15,
          1.15,
          1.2,
          1.025,
          0.85,
          0.9,
          0.9
         ]
        },
        {
         "fill": "toself",
         "fillcolor": "rgba(0,0,150,0.75)",
         "hoverinfo": "text",
         "legendgroup": "CDS",
         "line": {
          "color": "rgba(0,0,150,0.75)"
         },
         "mode": "lines",
         "name": "CDS",
         "showlegend": false,
         "text": "WBGene00022278 (incomplete)",
         "type": "scatter",
         "x": [
          1732,
          1732,
          1778,
          1778,
          1732,
          null,
          1732,
          1690,
          null,
          1589,
          1589,
          1690,
          1690,
          1589,
          null,
          1589,
          1524,
          null,
          1370,
          1370,
          1524,
          1524,
          1370,
          null,
          1370,
          472,
          null,
          272,
          272,
          472,
          472,
          272,
          null,
          272,
          90,
          null,
          90.0,
          90.0,
          18.0,
          18.0,
          0.0,
          18.0,
          18.0,
          90.0
         ],
         "y": [
          0.9,
          1.15,
          1.15,
          0.9,
          0.9,
          null,
          1.025,
          1.025,
          null,
          0.9,
          1.15,
          1.15,
          0.9,
          0.9,
          null,
          1.025,
          1.025,
          null,
          0.9,
          1.15,
          1.15,
          0.9,
          0.9,
          null,
          1.025,
          1.025,
          null,
          0.9,
          1.15,
          1.15,
          0.9,
          0.9,
          null,
          1.025,
          1.025,
          null,
          0.9,
          1.15,
          1.15,
          1.2,
          1.025,
          0.85,
          0.9,
          0.9
         ]
        },
        {
         "fill": "toself",
         "fillcolor": "rgba(140,102,139,0.75)",
         "hoverinfo": "text",
         "legendgroup": "mRNA",
         "line": {
          "color": "rgba(140,102,139,0.75)"
         },
         "mode": "lines",
         "name": "mRNA",
         "showlegend": true,
         "text": "WBGene00022279",
         "type": "scatter",
         "x": [
          7411,
          7411,
          7548,
          7548,
          7411,
          null,
          7411,
          7072,
          null,
          6768,
          6768,
          7072,
          7072,
          6768,
          null,
          6768,
          5424,
          null,
          4768,
          4768,
          5424,
          5424,
          4768,
          null,
          4768,
          4367,
          null,
          4099,
          4099,
          4367,
          4367,
          4099,
          null,
          4099,
          3405,
          null,
          3405.0,
          3405.0,
          2753.0,
          2753.0,
          2590.0,
          2753.0,
          2753.0,
          3405.0
         ],
         "y": [
          1.5,
          1.75,
          1.75,
          1.5,
          1.5,
          null,
          1.625,
          1.625,
          null,
          1.5,
          1.75,
          1.75,
          1.5,
          1.5,
          null,
          1.625,
          1.625,
          null,
          1.5,
          1.75,
          1.75,
          1.5,
          1.5,
          null,
          1.625,
          1.625,
          null,
          1.5,
          1.75,
          1.75,
          1.5,
          1.5,
          null,
          1.625,
          1.625,
          null,
          1.5,
          1.75,
          1.75,
          1.8,
          1.625,
          1.45,
          1.5,
          1.5
         ]
        },
        {
         "fill": "toself",
         "fillcolor": "rgba(140,102,139,0.75)",
         "hoverinfo": "text",
         "legendgroup": "mRNA",
         "line": {
          "color": "rgba(140,102,139,0.75)"
         },
         "mode": "lines",
         "name": "mRNA",
         "showlegend": false,
         "text": "WBGene00022278 (incomplete)",
         "type": "scatter",
         "x": [
          1732,
          1732,
          1781,
          1781,
          1732,
          null,
          1732,
          1681,
          null,
          1589,
          1589,
          1681,
          1681,
          1589,
          null,
          1589,
          1524,
          null,
          1370,
          1370,
          1524,
          1524,
          1370,
          null,
          1370,
          472,
          null,
          272,
          272,
          472,
          472,
          272,
          null,
          272,
          90,
          null,
          90.0,
          90.0,
          18.0,
          18.0,
          0.0,
          18.0,
          18.0,
          90.0
         ],
         "y": [
          1.5,
          1.75,
          1.75,
          1.5,
          1.5,
          null,
          1.625,
          1.625,
          null,
          1.5,
          1.75,
          1.75,
          1.5,
          1.5,
          null,
          1.625,
          1.625,
          null,
          1.5,
          1.75,
          1.75,
          1.5,
          1.5,
          null,
          1.625,
          1.625,
          null,
          1.5,
          1.75,
          1.75,
          1.5,
          1.5,
          null,
          1.625,
          1.625,
          null,
          1.5,
          1.75,
          1.75,
          1.8,
          1.625,
          1.45,
          1.5,
          1.5
         ]
        },
        {
         "fill": "toself",
         "fillcolor": "rgba(140,102,139,0.75)",
         "hoverinfo": "text",
         "legendgroup": "mRNA",
         "line": {
          "color": "rgba(140,102,139,0.75)"
         },
         "mode": "lines",
         "name": "mRNA",
         "showlegend": false,
         "text": "WBGene00022278 (incomplete)",
         "type": "scatter",
         "x": [
          1589,
          1589,
          1643,
          1643,
          1589,
          null,
          1589,
          1524,
          null,
          1370,
          1370,
          1524,
          1524,
          1370,
          null,
          1370,
          472,
          null,
          272,
          272,
          472,
          472,
          272,
          null,
          272,
          90,
          null,
          90.0,
          90.0,
          18.0,
          18.0,
          0.0,
          18.0,
          18.0,
          90.0
         ],
         "y": [
          1.5,
          1.75,
          1.75,
          1.5,
          1.5,
          null,
          1.625,
          1.625,
          null,
          1.5,
          1.75,
          1.75,
          1.5,
          1.5,
          null,
          1.625,
          1.625,
          null,
          1.5,
          1.75,
          1.75,
          1.5,
          1.5,
          null,
          1.625,
          1.625,
          null,
          1.5,
          1.75,
          1.75,
          1.8,
          1.625,
          1.45,
          1.5,
          1.5
         ]
        },
        {
         "fill": "toself",
         "fillcolor": "rgba(140,102,139,0.75)",
         "hoverinfo": "text",
         "legendgroup": "mRNA",
         "line": {
          "color": "rgba(140,102,139,0.75)"
         },
         "mode": "lines",
         "name": "mRNA",
         "showlegend": false,
         "text": "WBGene00022279",
         "type": "scatter",
         "x": [
          8036,
          8036,
          8150,
          8150,
          8036,
          null,
          8036,
          7542,
          null,
          7411,
          7411,
          7542,
          7542,
          7411,
          null,
          7411,
          7072,
          null,
          6768,
          6768,
          7072,
          7072,
          6768,
          null,
          6768,
          5424,
          null,
          4768,
          4768,
          5424,
          5424,
          4768,
          null,
          4768,
          4367,
          null,
          4099,
          4099,
          4367,
          4367,
          4099,
          null,
          4099,
          3405,
          null,
          3405.0,
          3405.0,
          2751.4,
          2751.4,
          2588.0,
          2751.4,
          2751.4,
          3405.0
         ],
         "y": [
          1.5,
          1.75,
          1.75,
          1.5,
          1.5,
          null,
          1.625,
          1.625,
          null,
          1.5,
          1.75,
          1.75,
          1.5,
          1.5,
          null,
          1.625,
          1.625,
          null,
          1.5,
          1.75,
          1.75,
          1.5,
          1.5,
          null,
          1.625,
          1.625,
          null,
          1.5,
          1.75,
          1.75,
          1.5,
          1.5,
          null,
          1.625,
          1.625,
          null,
          1.5,
          1.75,
          1.75,
          1.5,
          1.5,
          null,
          1.625,
          1.625,
          null,
          1.5,
          1.75,
          1.75,
          1.8,
          1.625,
          1.45,
          1.5,
          1.5
         ]
        },
        {
         "fill": "toself",
         "fillcolor": "rgba(140,102,139,0.75)",
         "hoverinfo": "text",
         "legendgroup": "mRNA",
         "line": {
          "color": "rgba(140,102,139,0.75)"
         },
         "mode": "lines",
         "name": "mRNA",
         "showlegend": false,
         "text": "WBGene00022278 (incomplete)",
         "type": "scatter",
         "x": [
          1732,
          1732,
          1781,
          1781,
          1732,
          null,
          1732,
          1690,
          null,
          1589,
          1589,
          1690,
          1690,
          1589,
          null,
          1589,
          1524,
          null,
          1370,
          1370,
          1524,
          1524,
          1370,
          null,
          1370,
          472,
          null,
          272,
          272,
          472,
          472,
          272,
          null,
          272,
          90,
          null,
          90.0,
          90.0,
          18.0,
          18.0,
          0.0,
          18.0,
          18.0,
          90.0
         ],
         "y": [
          1.5,
          1.75,
          1.75,
          1.5,
          1.5,
          null,
          1.625,
          1.625,
          null,
          1.5,
          1.75,
          1.75,
          1.5,
          1.5,
          null,
          1.625,
          1.625,
          null,
          1.5,
          1.75,
          1.75,
          1.5,
          1.5,
          null,
          1.625,
          1.625,
          null,
          1.5,
          1.75,
          1.75,
          1.5,
          1.5,
          null,
          1.625,
          1.625,
          null,
          1.5,
          1.75,
          1.75,
          1.8,
          1.625,
          1.45,
          1.5,
          1.5
         ]
        }
       ],
       "layout": {
        "autosize": false,
        "font": {
         "family": "Balto",
         "size": 14
        },
        "height": 300,
        "hovermode": "closest",
        "margin": {
         "b": 50,
         "l": 50,
         "pad": 4,
         "r": 50,
         "t": 50
        },
        "showlegend": true,
        "template": {
         "data": {
          "bar": [
           {
            "error_x": {
             "color": "#2a3f5f"
            },
            "error_y": {
             "color": "#2a3f5f"
            },
            "marker": {
             "line": {
              "color": "#E5ECF6",
              "width": 0.5
             },
             "pattern": {
              "fillmode": "overlay",
              "size": 10,
              "solidity": 0.2
             }
            },
            "type": "bar"
           }
          ],
          "barpolar": [
           {
            "marker": {
             "line": {
              "color": "#E5ECF6",
              "width": 0.5
             },
             "pattern": {
              "fillmode": "overlay",
              "size": 10,
              "solidity": 0.2
             }
            },
            "type": "barpolar"
           }
          ],
          "carpet": [
           {
            "aaxis": {
             "endlinecolor": "#2a3f5f",
             "gridcolor": "white",
             "linecolor": "white",
             "minorgridcolor": "white",
             "startlinecolor": "#2a3f5f"
            },
            "baxis": {
             "endlinecolor": "#2a3f5f",
             "gridcolor": "white",
             "linecolor": "white",
             "minorgridcolor": "white",
             "startlinecolor": "#2a3f5f"
            },
            "type": "carpet"
           }
          ],
          "choropleth": [
           {
            "colorbar": {
             "outlinewidth": 0,
             "ticks": ""
            },
            "type": "choropleth"
           }
          ],
          "contour": [
           {
            "colorbar": {
             "outlinewidth": 0,
             "ticks": ""
            },
            "colorscale": [
             [
              0.0,
              "#0d0887"
             ],
             [
              0.1111111111111111,
              "#46039f"
             ],
             [
              0.2222222222222222,
              "#7201a8"
             ],
             [
              0.3333333333333333,
              "#9c179e"
             ],
             [
              0.4444444444444444,
              "#bd3786"
             ],
             [
              0.5555555555555556,
              "#d8576b"
             ],
             [
              0.6666666666666666,
              "#ed7953"
             ],
             [
              0.7777777777777778,
              "#fb9f3a"
             ],
             [
              0.8888888888888888,
              "#fdca26"
             ],
             [
              1.0,
              "#f0f921"
             ]
            ],
            "type": "contour"
           }
          ],
          "contourcarpet": [
           {
            "colorbar": {
             "outlinewidth": 0,
             "ticks": ""
            },
            "type": "contourcarpet"
           }
          ],
          "heatmap": [
           {
            "colorbar": {
             "outlinewidth": 0,
             "ticks": ""
            },
            "colorscale": [
             [
              0.0,
              "#0d0887"
             ],
             [
              0.1111111111111111,
              "#46039f"
             ],
             [
              0.2222222222222222,
              "#7201a8"
             ],
             [
              0.3333333333333333,
              "#9c179e"
             ],
             [
              0.4444444444444444,
              "#bd3786"
             ],
             [
              0.5555555555555556,
              "#d8576b"
             ],
             [
              0.6666666666666666,
              "#ed7953"
             ],
             [
              0.7777777777777778,
              "#fb9f3a"
             ],
             [
              0.8888888888888888,
              "#fdca26"
             ],
             [
              1.0,
              "#f0f921"
             ]
            ],
            "type": "heatmap"
           }
          ],
          "heatmapgl": [
           {
            "colorbar": {
             "outlinewidth": 0,
             "ticks": ""
            },
            "colorscale": [
             [
              0.0,
              "#0d0887"
             ],
             [
              0.1111111111111111,
              "#46039f"
             ],
             [
              0.2222222222222222,
              "#7201a8"
             ],
             [
              0.3333333333333333,
              "#9c179e"
             ],
             [
              0.4444444444444444,
              "#bd3786"
             ],
             [
              0.5555555555555556,
              "#d8576b"
             ],
             [
              0.6666666666666666,
              "#ed7953"
             ],
             [
              0.7777777777777778,
              "#fb9f3a"
             ],
             [
              0.8888888888888888,
              "#fdca26"
             ],
             [
              1.0,
              "#f0f921"
             ]
            ],
            "type": "heatmapgl"
           }
          ],
          "histogram": [
           {
            "marker": {
             "pattern": {
              "fillmode": "overlay",
              "size": 10,
              "solidity": 0.2
             }
            },
            "type": "histogram"
           }
          ],
          "histogram2d": [
           {
            "colorbar": {
             "outlinewidth": 0,
             "ticks": ""
            },
            "colorscale": [
             [
              0.0,
              "#0d0887"
             ],
             [
              0.1111111111111111,
              "#46039f"
             ],
             [
              0.2222222222222222,
              "#7201a8"
             ],
             [
              0.3333333333333333,
              "#9c179e"
             ],
             [
              0.4444444444444444,
              "#bd3786"
             ],
             [
              0.5555555555555556,
              "#d8576b"
             ],
             [
              0.6666666666666666,
              "#ed7953"
             ],
             [
              0.7777777777777778,
              "#fb9f3a"
             ],
             [
              0.8888888888888888,
              "#fdca26"
             ],
             [
              1.0,
              "#f0f921"
             ]
            ],
            "type": "histogram2d"
           }
          ],
          "histogram2dcontour": [
           {
            "colorbar": {
             "outlinewidth": 0,
             "ticks": ""
            },
            "colorscale": [
             [
              0.0,
              "#0d0887"
             ],
             [
              0.1111111111111111,
              "#46039f"
             ],
             [
              0.2222222222222222,
              "#7201a8"
             ],
             [
              0.3333333333333333,
              "#9c179e"
             ],
             [
              0.4444444444444444,
              "#bd3786"
             ],
             [
              0.5555555555555556,
              "#d8576b"
             ],
             [
              0.6666666666666666,
              "#ed7953"
             ],
             [
              0.7777777777777778,
              "#fb9f3a"
             ],
             [
              0.8888888888888888,
              "#fdca26"
             ],
             [
              1.0,
              "#f0f921"
             ]
            ],
            "type": "histogram2dcontour"
           }
          ],
          "mesh3d": [
           {
            "colorbar": {
             "outlinewidth": 0,
             "ticks": ""
            },
            "type": "mesh3d"
           }
          ],
          "parcoords": [
           {
            "line": {
             "colorbar": {
              "outlinewidth": 0,
              "ticks": ""
             }
            },
            "type": "parcoords"
           }
          ],
          "pie": [
           {
            "automargin": true,
            "type": "pie"
           }
          ],
          "scatter": [
           {
            "fillpattern": {
             "fillmode": "overlay",
             "size": 10,
             "solidity": 0.2
            },
            "type": "scatter"
           }
          ],
          "scatter3d": [
           {
            "line": {
             "colorbar": {
              "outlinewidth": 0,
              "ticks": ""
             }
            },
            "marker": {
             "colorbar": {
              "outlinewidth": 0,
              "ticks": ""
             }
            },
            "type": "scatter3d"
           }
          ],
          "scattercarpet": [
           {
            "marker": {
             "colorbar": {
              "outlinewidth": 0,
              "ticks": ""
             }
            },
            "type": "scattercarpet"
           }
          ],
          "scattergeo": [
           {
            "marker": {
             "colorbar": {
              "outlinewidth": 0,
              "ticks": ""
             }
            },
            "type": "scattergeo"
           }
          ],
          "scattergl": [
           {
            "marker": {
             "colorbar": {
              "outlinewidth": 0,
              "ticks": ""
             }
            },
            "type": "scattergl"
           }
          ],
          "scattermapbox": [
           {
            "marker": {
             "colorbar": {
              "outlinewidth": 0,
              "ticks": ""
             }
            },
            "type": "scattermapbox"
           }
          ],
          "scatterpolar": [
           {
            "marker": {
             "colorbar": {
              "outlinewidth": 0,
              "ticks": ""
             }
            },
            "type": "scatterpolar"
           }
          ],
          "scatterpolargl": [
           {
            "marker": {
             "colorbar": {
              "outlinewidth": 0,
              "ticks": ""
             }
            },
            "type": "scatterpolargl"
           }
          ],
          "scatterternary": [
           {
            "marker": {
             "colorbar": {
              "outlinewidth": 0,
              "ticks": ""
             }
            },
            "type": "scatterternary"
           }
          ],
          "surface": [
           {
            "colorbar": {
             "outlinewidth": 0,
             "ticks": ""
            },
            "colorscale": [
             [
              0.0,
              "#0d0887"
             ],
             [
              0.1111111111111111,
              "#46039f"
             ],
             [
              0.2222222222222222,
              "#7201a8"
             ],
             [
              0.3333333333333333,
              "#9c179e"
             ],
             [
              0.4444444444444444,
              "#bd3786"
             ],
             [
              0.5555555555555556,
              "#d8576b"
             ],
             [
              0.6666666666666666,
              "#ed7953"
             ],
             [
              0.7777777777777778,
              "#fb9f3a"
             ],
             [
              0.8888888888888888,
              "#fdca26"
             ],
             [
              1.0,
              "#f0f921"
             ]
            ],
            "type": "surface"
           }
          ],
          "table": [
           {
            "cells": {
             "fill": {
              "color": "#EBF0F8"
             },
             "line": {
              "color": "white"
             }
            },
            "header": {
             "fill": {
              "color": "#C8D4E3"
             },
             "line": {
              "color": "white"
             }
            },
            "type": "table"
           }
          ]
         },
         "layout": {
          "annotationdefaults": {
           "arrowcolor": "#2a3f5f",
           "arrowhead": 0,
           "arrowwidth": 1
          },
          "autotypenumbers": "strict",
          "coloraxis": {
           "colorbar": {
            "outlinewidth": 0,
            "ticks": ""
           }
          },
          "colorscale": {
           "diverging": [
            [
             0,
             "#8e0152"
            ],
            [
             0.1,
             "#c51b7d"
            ],
            [
             0.2,
             "#de77ae"
            ],
            [
             0.3,
             "#f1b6da"
            ],
            [
             0.4,
             "#fde0ef"
            ],
            [
             0.5,
             "#f7f7f7"
            ],
            [
             0.6,
             "#e6f5d0"
            ],
            [
             0.7,
             "#b8e186"
            ],
            [
             0.8,
             "#7fbc41"
            ],
            [
             0.9,
             "#4d9221"
            ],
            [
             1,
             "#276419"
            ]
           ],
           "sequential": [
            [
             0.0,
             "#0d0887"
            ],
            [
             0.1111111111111111,
             "#46039f"
            ],
            [
             0.2222222222222222,
             "#7201a8"
            ],
            [
             0.3333333333333333,
             "#9c179e"
            ],
            [
             0.4444444444444444,
             "#bd3786"
            ],
            [
             0.5555555555555556,
             "#d8576b"
            ],
            [
             0.6666666666666666,
             "#ed7953"
            ],
            [
             0.7777777777777778,
             "#fb9f3a"
            ],
            [
             0.8888888888888888,
             "#fdca26"
            ],
            [
             1.0,
             "#f0f921"
            ]
           ],
           "sequentialminus": [
            [
             0.0,
             "#0d0887"
            ],
            [
             0.1111111111111111,
             "#46039f"
            ],
            [
             0.2222222222222222,
             "#7201a8"
            ],
            [
             0.3333333333333333,
             "#9c179e"
            ],
            [
             0.4444444444444444,
             "#bd3786"
            ],
            [
             0.5555555555555556,
             "#d8576b"
            ],
            [
             0.6666666666666666,
             "#ed7953"
            ],
            [
             0.7777777777777778,
             "#fb9f3a"
            ],
            [
             0.8888888888888888,
             "#fdca26"
            ],
            [
             1.0,
             "#f0f921"
            ]
           ]
          },
          "colorway": [
           "#636efa",
           "#EF553B",
           "#00cc96",
           "#ab63fa",
           "#FFA15A",
           "#19d3f3",
           "#FF6692",
           "#B6E880",
           "#FF97FF",
           "#FECB52"
          ],
          "font": {
           "color": "#2a3f5f"
          },
          "geo": {
           "bgcolor": "white",
           "lakecolor": "white",
           "landcolor": "#E5ECF6",
           "showlakes": true,
           "showland": true,
           "subunitcolor": "white"
          },
          "hoverlabel": {
           "align": "left"
          },
          "hovermode": "closest",
          "mapbox": {
           "style": "light"
          },
          "paper_bgcolor": "white",
          "plot_bgcolor": "#E5ECF6",
          "polar": {
           "angularaxis": {
            "gridcolor": "white",
            "linecolor": "white",
            "ticks": ""
           },
           "bgcolor": "#E5ECF6",
           "radialaxis": {
            "gridcolor": "white",
            "linecolor": "white",
            "ticks": ""
           }
          },
          "scene": {
           "xaxis": {
            "backgroundcolor": "#E5ECF6",
            "gridcolor": "white",
            "gridwidth": 2,
            "linecolor": "white",
            "showbackground": true,
            "ticks": "",
            "zerolinecolor": "white"
           },
           "yaxis": {
            "backgroundcolor": "#E5ECF6",
            "gridcolor": "white",
            "gridwidth": 2,
            "linecolor": "white",
            "showbackground": true,
            "ticks": "",
            "zerolinecolor": "white"
           },
           "zaxis": {
            "backgroundcolor": "#E5ECF6",
            "gridcolor": "white",
            "gridwidth": 2,
            "linecolor": "white",
            "showbackground": true,
            "ticks": "",
            "zerolinecolor": "white"
           }
          },
          "shapedefaults": {
           "line": {
            "color": "#2a3f5f"
           }
          },
          "ternary": {
           "aaxis": {
            "gridcolor": "white",
            "linecolor": "white",
            "ticks": ""
           },
           "baxis": {
            "gridcolor": "white",
            "linecolor": "white",
            "ticks": ""
           },
           "bgcolor": "#E5ECF6",
           "caxis": {
            "gridcolor": "white",
            "linecolor": "white",
            "ticks": ""
           }
          },
          "title": {
           "x": 0.05
          },
          "xaxis": {
           "automargin": true,
           "gridcolor": "white",
           "linecolor": "white",
           "ticks": "",
           "title": {
            "standoff": 15
           },
           "zerolinecolor": "white",
           "zerolinewidth": 2
          },
          "yaxis": {
           "automargin": true,
           "gridcolor": "white",
           "linecolor": "white",
           "ticks": "",
           "title": {
            "standoff": 15
           },
           "zerolinecolor": "white",
           "zerolinewidth": 2
          }
         }
        },
        "title": {
         "text": "I"
        },
        "width": 650,
        "xaxis": {
         "range": [
          0,
          10000
         ],
         "showline": true,
         "zeroline": false
        },
        "yaxis": {
         "range": [
          0,
          2.05
         ],
         "showline": true,
         "visible": false,
         "zeroline": true
        }
       }
      },
      "text/html": [
       "<div>                            <div id=\"b4834ccd-d5b2-406a-af98-939d6e3a3136\" class=\"plotly-graph-div\" style=\"height:300px; width:650px;\"></div>            <script type=\"text/javascript\">                require([\"plotly\"], function(Plotly) {                    window.PLOTLYENV=window.PLOTLYENV || {};                                    if (document.getElementById(\"b4834ccd-d5b2-406a-af98-939d6e3a3136\")) {                    Plotly.newPlot(                        \"b4834ccd-d5b2-406a-af98-939d6e3a3136\",                        [{\"fill\":\"toself\",\"fillcolor\":\"rgba(161,0,0,0.75)\",\"hoverinfo\":\"text\",\"legendgroup\":\"gene\",\"line\":{\"color\":\"rgba(161,0,0,0.75)\"},\"mode\":\"lines\",\"name\":\"gene\",\"showlegend\":true,\"text\":\"WBGene00173569\",\"x\":[7414.0,7430.8,7430.8,7435.0,7430.8,7430.8,7414.0,7414.0],\"y\":[0.3,0.3,0.25,0.425,0.6,0.55,0.55,0.3],\"type\":\"scatter\"},{\"fill\":\"toself\",\"fillcolor\":\"rgba(161,0,0,0.75)\",\"hoverinfo\":\"text\",\"legendgroup\":\"gene\",\"line\":{\"color\":\"rgba(161,0,0,0.75)\"},\"mode\":\"lines\",\"name\":\"gene\",\"showlegend\":false,\"text\":\"WBGene00170953\",\"x\":[6522.0,6538.8,6538.8,6543.0,6538.8,6538.8,6522.0,6522.0],\"y\":[0.3,0.3,0.25,0.425,0.6,0.55,0.55,0.3],\"type\":\"scatter\"},{\"fill\":\"toself\",\"fillcolor\":\"rgba(161,0,0,0.75)\",\"hoverinfo\":\"text\",\"legendgroup\":\"gene\",\"line\":{\"color\":\"rgba(161,0,0,0.75)\"},\"mode\":\"lines\",\"name\":\"gene\",\"showlegend\":false,\"text\":\"WBGene00022279\",\"x\":[8150.0,8150.0,3700.3999999999996,3700.3999999999996,2588.0,3700.3999999999996,3700.3999999999996,8150.0],\"y\":[0.3,0.55,0.55,0.6,0.425,0.25,0.3,0.3],\"type\":\"scatter\"},{\"fill\":\"toself\",\"fillcolor\":\"rgba(161,0,0,0.75)\",\"hoverinfo\":\"text\",\"legendgroup\":\"gene\",\"line\":{\"color\":\"rgba(161,0,0,0.75)\"},\"mode\":\"lines\",\"name\":\"gene\",\"showlegend\":false,\"text\":\"WBGene00022278 (incomplete)\",\"x\":[1781.0,1781.0,356.20000000000005,356.20000000000005,0.0,356.20000000000005,356.20000000000005,1781.0],\"y\":[0.3,0.55,0.55,0.6,0.425,0.25,0.3,0.3],\"type\":\"scatter\"},{\"fill\":\"toself\",\"fillcolor\":\"rgba(0,0,150,0.75)\",\"hoverinfo\":\"text\",\"legendgroup\":\"CDS\",\"line\":{\"color\":\"rgba(0,0,150,0.75)\"},\"mode\":\"lines\",\"name\":\"CDS\",\"showlegend\":true,\"text\":\"WBGene00022278 (incomplete)\",\"x\":[1589,1589,1643,1643,1589,null,1589,1524,null,1370,1370,1524,1524,1370,null,1370,472,null,272,272,472,472,272,null,272,90,null,90.0,90.0,18.0,18.0,0.0,18.0,18.0,90.0],\"y\":[0.9,1.15,1.15,0.9,0.9,null,1.025,1.025,null,0.9,1.15,1.15,0.9,0.9,null,1.025,1.025,null,0.9,1.15,1.15,0.9,0.9,null,1.025,1.025,null,0.9,1.15,1.15,1.2,1.025,0.85,0.9,0.9],\"type\":\"scatter\"},{\"fill\":\"toself\",\"fillcolor\":\"rgba(0,0,150,0.75)\",\"hoverinfo\":\"text\",\"legendgroup\":\"CDS\",\"line\":{\"color\":\"rgba(0,0,150,0.75)\"},\"mode\":\"lines\",\"name\":\"CDS\",\"showlegend\":false,\"text\":\"WBGene00022278 (incomplete)\",\"x\":[1732,1732,1778,1778,1732,null,1732,1681,null,1589,1589,1681,1681,1589,null,1589,1524,null,1370,1370,1524,1524,1370,null,1370,472,null,272,272,472,472,272,null,272,90,null,90.0,90.0,18.0,18.0,0.0,18.0,18.0,90.0],\"y\":[0.9,1.15,1.15,0.9,0.9,null,1.025,1.025,null,0.9,1.15,1.15,0.9,0.9,null,1.025,1.025,null,0.9,1.15,1.15,0.9,0.9,null,1.025,1.025,null,0.9,1.15,1.15,0.9,0.9,null,1.025,1.025,null,0.9,1.15,1.15,1.2,1.025,0.85,0.9,0.9],\"type\":\"scatter\"},{\"fill\":\"toself\",\"fillcolor\":\"rgba(0,0,150,0.75)\",\"hoverinfo\":\"text\",\"legendgroup\":\"CDS\",\"line\":{\"color\":\"rgba(0,0,150,0.75)\"},\"mode\":\"lines\",\"name\":\"CDS\",\"showlegend\":false,\"text\":\"WBGene00022279\",\"x\":[7411,7411,7482,7482,7411,null,7411,7072,null,6768,6768,7072,7072,6768,null,6768,5424,null,4768,4768,5424,5424,4768,null,4768,4367,null,4099,4099,4367,4367,4099,null,4099,3405,null,3405.0,3405.0,3304.2,3304.2,3279.0,3304.2,3304.2,3405.0],\"y\":[0.9,1.15,1.15,0.9,0.9,null,1.025,1.025,null,0.9,1.15,1.15,0.9,0.9,null,1.025,1.025,null,0.9,1.15,1.15,0.9,0.9,null,1.025,1.025,null,0.9,1.15,1.15,0.9,0.9,null,1.025,1.025,null,0.9,1.15,1.15,1.2,1.025,0.85,0.9,0.9],\"type\":\"scatter\"},{\"fill\":\"toself\",\"fillcolor\":\"rgba(0,0,150,0.75)\",\"hoverinfo\":\"text\",\"legendgroup\":\"CDS\",\"line\":{\"color\":\"rgba(0,0,150,0.75)\"},\"mode\":\"lines\",\"name\":\"CDS\",\"showlegend\":false,\"text\":\"WBGene00022278 (incomplete)\",\"x\":[1732,1732,1778,1778,1732,null,1732,1690,null,1589,1589,1690,1690,1589,null,1589,1524,null,1370,1370,1524,1524,1370,null,1370,472,null,272,272,472,472,272,null,272,90,null,90.0,90.0,18.0,18.0,0.0,18.0,18.0,90.0],\"y\":[0.9,1.15,1.15,0.9,0.9,null,1.025,1.025,null,0.9,1.15,1.15,0.9,0.9,null,1.025,1.025,null,0.9,1.15,1.15,0.9,0.9,null,1.025,1.025,null,0.9,1.15,1.15,0.9,0.9,null,1.025,1.025,null,0.9,1.15,1.15,1.2,1.025,0.85,0.9,0.9],\"type\":\"scatter\"},{\"fill\":\"toself\",\"fillcolor\":\"rgba(140,102,139,0.75)\",\"hoverinfo\":\"text\",\"legendgroup\":\"mRNA\",\"line\":{\"color\":\"rgba(140,102,139,0.75)\"},\"mode\":\"lines\",\"name\":\"mRNA\",\"showlegend\":true,\"text\":\"WBGene00022279\",\"x\":[7411,7411,7548,7548,7411,null,7411,7072,null,6768,6768,7072,7072,6768,null,6768,5424,null,4768,4768,5424,5424,4768,null,4768,4367,null,4099,4099,4367,4367,4099,null,4099,3405,null,3405.0,3405.0,2753.0,2753.0,2590.0,2753.0,2753.0,3405.0],\"y\":[1.5,1.75,1.75,1.5,1.5,null,1.625,1.625,null,1.5,1.75,1.75,1.5,1.5,null,1.625,1.625,null,1.5,1.75,1.75,1.5,1.5,null,1.625,1.625,null,1.5,1.75,1.75,1.5,1.5,null,1.625,1.625,null,1.5,1.75,1.75,1.8,1.625,1.45,1.5,1.5],\"type\":\"scatter\"},{\"fill\":\"toself\",\"fillcolor\":\"rgba(140,102,139,0.75)\",\"hoverinfo\":\"text\",\"legendgroup\":\"mRNA\",\"line\":{\"color\":\"rgba(140,102,139,0.75)\"},\"mode\":\"lines\",\"name\":\"mRNA\",\"showlegend\":false,\"text\":\"WBGene00022278 (incomplete)\",\"x\":[1732,1732,1781,1781,1732,null,1732,1681,null,1589,1589,1681,1681,1589,null,1589,1524,null,1370,1370,1524,1524,1370,null,1370,472,null,272,272,472,472,272,null,272,90,null,90.0,90.0,18.0,18.0,0.0,18.0,18.0,90.0],\"y\":[1.5,1.75,1.75,1.5,1.5,null,1.625,1.625,null,1.5,1.75,1.75,1.5,1.5,null,1.625,1.625,null,1.5,1.75,1.75,1.5,1.5,null,1.625,1.625,null,1.5,1.75,1.75,1.5,1.5,null,1.625,1.625,null,1.5,1.75,1.75,1.8,1.625,1.45,1.5,1.5],\"type\":\"scatter\"},{\"fill\":\"toself\",\"fillcolor\":\"rgba(140,102,139,0.75)\",\"hoverinfo\":\"text\",\"legendgroup\":\"mRNA\",\"line\":{\"color\":\"rgba(140,102,139,0.75)\"},\"mode\":\"lines\",\"name\":\"mRNA\",\"showlegend\":false,\"text\":\"WBGene00022278 (incomplete)\",\"x\":[1589,1589,1643,1643,1589,null,1589,1524,null,1370,1370,1524,1524,1370,null,1370,472,null,272,272,472,472,272,null,272,90,null,90.0,90.0,18.0,18.0,0.0,18.0,18.0,90.0],\"y\":[1.5,1.75,1.75,1.5,1.5,null,1.625,1.625,null,1.5,1.75,1.75,1.5,1.5,null,1.625,1.625,null,1.5,1.75,1.75,1.5,1.5,null,1.625,1.625,null,1.5,1.75,1.75,1.8,1.625,1.45,1.5,1.5],\"type\":\"scatter\"},{\"fill\":\"toself\",\"fillcolor\":\"rgba(140,102,139,0.75)\",\"hoverinfo\":\"text\",\"legendgroup\":\"mRNA\",\"line\":{\"color\":\"rgba(140,102,139,0.75)\"},\"mode\":\"lines\",\"name\":\"mRNA\",\"showlegend\":false,\"text\":\"WBGene00022279\",\"x\":[8036,8036,8150,8150,8036,null,8036,7542,null,7411,7411,7542,7542,7411,null,7411,7072,null,6768,6768,7072,7072,6768,null,6768,5424,null,4768,4768,5424,5424,4768,null,4768,4367,null,4099,4099,4367,4367,4099,null,4099,3405,null,3405.0,3405.0,2751.4,2751.4,2588.0,2751.4,2751.4,3405.0],\"y\":[1.5,1.75,1.75,1.5,1.5,null,1.625,1.625,null,1.5,1.75,1.75,1.5,1.5,null,1.625,1.625,null,1.5,1.75,1.75,1.5,1.5,null,1.625,1.625,null,1.5,1.75,1.75,1.5,1.5,null,1.625,1.625,null,1.5,1.75,1.75,1.5,1.5,null,1.625,1.625,null,1.5,1.75,1.75,1.8,1.625,1.45,1.5,1.5],\"type\":\"scatter\"},{\"fill\":\"toself\",\"fillcolor\":\"rgba(140,102,139,0.75)\",\"hoverinfo\":\"text\",\"legendgroup\":\"mRNA\",\"line\":{\"color\":\"rgba(140,102,139,0.75)\"},\"mode\":\"lines\",\"name\":\"mRNA\",\"showlegend\":false,\"text\":\"WBGene00022278 (incomplete)\",\"x\":[1732,1732,1781,1781,1732,null,1732,1690,null,1589,1589,1690,1690,1589,null,1589,1524,null,1370,1370,1524,1524,1370,null,1370,472,null,272,272,472,472,272,null,272,90,null,90.0,90.0,18.0,18.0,0.0,18.0,18.0,90.0],\"y\":[1.5,1.75,1.75,1.5,1.5,null,1.625,1.625,null,1.5,1.75,1.75,1.5,1.5,null,1.625,1.625,null,1.5,1.75,1.75,1.5,1.5,null,1.625,1.625,null,1.5,1.75,1.75,1.5,1.5,null,1.625,1.625,null,1.5,1.75,1.75,1.8,1.625,1.45,1.5,1.5],\"type\":\"scatter\"}],                        {\"autosize\":false,\"font\":{\"family\":\"Balto\",\"size\":14},\"height\":300,\"hovermode\":\"closest\",\"margin\":{\"b\":50,\"l\":50,\"pad\":4,\"r\":50,\"t\":50},\"showlegend\":true,\"title\":{\"text\":\"I\"},\"width\":650,\"xaxis\":{\"range\":[0,10000],\"showline\":true,\"zeroline\":false},\"yaxis\":{\"range\":[0,2.05],\"showline\":true,\"visible\":false,\"zeroline\":true},\"template\":{\"data\":{\"histogram2dcontour\":[{\"type\":\"histogram2dcontour\",\"colorbar\":{\"outlinewidth\":0,\"ticks\":\"\"},\"colorscale\":[[0.0,\"#0d0887\"],[0.1111111111111111,\"#46039f\"],[0.2222222222222222,\"#7201a8\"],[0.3333333333333333,\"#9c179e\"],[0.4444444444444444,\"#bd3786\"],[0.5555555555555556,\"#d8576b\"],[0.6666666666666666,\"#ed7953\"],[0.7777777777777778,\"#fb9f3a\"],[0.8888888888888888,\"#fdca26\"],[1.0,\"#f0f921\"]]}],\"choropleth\":[{\"type\":\"choropleth\",\"colorbar\":{\"outlinewidth\":0,\"ticks\":\"\"}}],\"histogram2d\":[{\"type\":\"histogram2d\",\"colorbar\":{\"outlinewidth\":0,\"ticks\":\"\"},\"colorscale\":[[0.0,\"#0d0887\"],[0.1111111111111111,\"#46039f\"],[0.2222222222222222,\"#7201a8\"],[0.3333333333333333,\"#9c179e\"],[0.4444444444444444,\"#bd3786\"],[0.5555555555555556,\"#d8576b\"],[0.6666666666666666,\"#ed7953\"],[0.7777777777777778,\"#fb9f3a\"],[0.8888888888888888,\"#fdca26\"],[1.0,\"#f0f921\"]]}],\"heatmap\":[{\"type\":\"heatmap\",\"colorbar\":{\"outlinewidth\":0,\"ticks\":\"\"},\"colorscale\":[[0.0,\"#0d0887\"],[0.1111111111111111,\"#46039f\"],[0.2222222222222222,\"#7201a8\"],[0.3333333333333333,\"#9c179e\"],[0.4444444444444444,\"#bd3786\"],[0.5555555555555556,\"#d8576b\"],[0.6666666666666666,\"#ed7953\"],[0.7777777777777778,\"#fb9f3a\"],[0.8888888888888888,\"#fdca26\"],[1.0,\"#f0f921\"]]}],\"heatmapgl\":[{\"type\":\"heatmapgl\",\"colorbar\":{\"outlinewidth\":0,\"ticks\":\"\"},\"colorscale\":[[0.0,\"#0d0887\"],[0.1111111111111111,\"#46039f\"],[0.2222222222222222,\"#7201a8\"],[0.3333333333333333,\"#9c179e\"],[0.4444444444444444,\"#bd3786\"],[0.5555555555555556,\"#d8576b\"],[0.6666666666666666,\"#ed7953\"],[0.7777777777777778,\"#fb9f3a\"],[0.8888888888888888,\"#fdca26\"],[1.0,\"#f0f921\"]]}],\"contourcarpet\":[{\"type\":\"contourcarpet\",\"colorbar\":{\"outlinewidth\":0,\"ticks\":\"\"}}],\"contour\":[{\"type\":\"contour\",\"colorbar\":{\"outlinewidth\":0,\"ticks\":\"\"},\"colorscale\":[[0.0,\"#0d0887\"],[0.1111111111111111,\"#46039f\"],[0.2222222222222222,\"#7201a8\"],[0.3333333333333333,\"#9c179e\"],[0.4444444444444444,\"#bd3786\"],[0.5555555555555556,\"#d8576b\"],[0.6666666666666666,\"#ed7953\"],[0.7777777777777778,\"#fb9f3a\"],[0.8888888888888888,\"#fdca26\"],[1.0,\"#f0f921\"]]}],\"surface\":[{\"type\":\"surface\",\"colorbar\":{\"outlinewidth\":0,\"ticks\":\"\"},\"colorscale\":[[0.0,\"#0d0887\"],[0.1111111111111111,\"#46039f\"],[0.2222222222222222,\"#7201a8\"],[0.3333333333333333,\"#9c179e\"],[0.4444444444444444,\"#bd3786\"],[0.5555555555555556,\"#d8576b\"],[0.6666666666666666,\"#ed7953\"],[0.7777777777777778,\"#fb9f3a\"],[0.8888888888888888,\"#fdca26\"],[1.0,\"#f0f921\"]]}],\"mesh3d\":[{\"type\":\"mesh3d\",\"colorbar\":{\"outlinewidth\":0,\"ticks\":\"\"}}],\"scatter\":[{\"fillpattern\":{\"fillmode\":\"overlay\",\"size\":10,\"solidity\":0.2},\"type\":\"scatter\"}],\"parcoords\":[{\"type\":\"parcoords\",\"line\":{\"colorbar\":{\"outlinewidth\":0,\"ticks\":\"\"}}}],\"scatterpolargl\":[{\"type\":\"scatterpolargl\",\"marker\":{\"colorbar\":{\"outlinewidth\":0,\"ticks\":\"\"}}}],\"bar\":[{\"error_x\":{\"color\":\"#2a3f5f\"},\"error_y\":{\"color\":\"#2a3f5f\"},\"marker\":{\"line\":{\"color\":\"#E5ECF6\",\"width\":0.5},\"pattern\":{\"fillmode\":\"overlay\",\"size\":10,\"solidity\":0.2}},\"type\":\"bar\"}],\"scattergeo\":[{\"type\":\"scattergeo\",\"marker\":{\"colorbar\":{\"outlinewidth\":0,\"ticks\":\"\"}}}],\"scatterpolar\":[{\"type\":\"scatterpolar\",\"marker\":{\"colorbar\":{\"outlinewidth\":0,\"ticks\":\"\"}}}],\"histogram\":[{\"marker\":{\"pattern\":{\"fillmode\":\"overlay\",\"size\":10,\"solidity\":0.2}},\"type\":\"histogram\"}],\"scattergl\":[{\"type\":\"scattergl\",\"marker\":{\"colorbar\":{\"outlinewidth\":0,\"ticks\":\"\"}}}],\"scatter3d\":[{\"type\":\"scatter3d\",\"line\":{\"colorbar\":{\"outlinewidth\":0,\"ticks\":\"\"}},\"marker\":{\"colorbar\":{\"outlinewidth\":0,\"ticks\":\"\"}}}],\"scattermapbox\":[{\"type\":\"scattermapbox\",\"marker\":{\"colorbar\":{\"outlinewidth\":0,\"ticks\":\"\"}}}],\"scatterternary\":[{\"type\":\"scatterternary\",\"marker\":{\"colorbar\":{\"outlinewidth\":0,\"ticks\":\"\"}}}],\"scattercarpet\":[{\"type\":\"scattercarpet\",\"marker\":{\"colorbar\":{\"outlinewidth\":0,\"ticks\":\"\"}}}],\"carpet\":[{\"aaxis\":{\"endlinecolor\":\"#2a3f5f\",\"gridcolor\":\"white\",\"linecolor\":\"white\",\"minorgridcolor\":\"white\",\"startlinecolor\":\"#2a3f5f\"},\"baxis\":{\"endlinecolor\":\"#2a3f5f\",\"gridcolor\":\"white\",\"linecolor\":\"white\",\"minorgridcolor\":\"white\",\"startlinecolor\":\"#2a3f5f\"},\"type\":\"carpet\"}],\"table\":[{\"cells\":{\"fill\":{\"color\":\"#EBF0F8\"},\"line\":{\"color\":\"white\"}},\"header\":{\"fill\":{\"color\":\"#C8D4E3\"},\"line\":{\"color\":\"white\"}},\"type\":\"table\"}],\"barpolar\":[{\"marker\":{\"line\":{\"color\":\"#E5ECF6\",\"width\":0.5},\"pattern\":{\"fillmode\":\"overlay\",\"size\":10,\"solidity\":0.2}},\"type\":\"barpolar\"}],\"pie\":[{\"automargin\":true,\"type\":\"pie\"}]},\"layout\":{\"autotypenumbers\":\"strict\",\"colorway\":[\"#636efa\",\"#EF553B\",\"#00cc96\",\"#ab63fa\",\"#FFA15A\",\"#19d3f3\",\"#FF6692\",\"#B6E880\",\"#FF97FF\",\"#FECB52\"],\"font\":{\"color\":\"#2a3f5f\"},\"hovermode\":\"closest\",\"hoverlabel\":{\"align\":\"left\"},\"paper_bgcolor\":\"white\",\"plot_bgcolor\":\"#E5ECF6\",\"polar\":{\"bgcolor\":\"#E5ECF6\",\"angularaxis\":{\"gridcolor\":\"white\",\"linecolor\":\"white\",\"ticks\":\"\"},\"radialaxis\":{\"gridcolor\":\"white\",\"linecolor\":\"white\",\"ticks\":\"\"}},\"ternary\":{\"bgcolor\":\"#E5ECF6\",\"aaxis\":{\"gridcolor\":\"white\",\"linecolor\":\"white\",\"ticks\":\"\"},\"baxis\":{\"gridcolor\":\"white\",\"linecolor\":\"white\",\"ticks\":\"\"},\"caxis\":{\"gridcolor\":\"white\",\"linecolor\":\"white\",\"ticks\":\"\"}},\"coloraxis\":{\"colorbar\":{\"outlinewidth\":0,\"ticks\":\"\"}},\"colorscale\":{\"sequential\":[[0.0,\"#0d0887\"],[0.1111111111111111,\"#46039f\"],[0.2222222222222222,\"#7201a8\"],[0.3333333333333333,\"#9c179e\"],[0.4444444444444444,\"#bd3786\"],[0.5555555555555556,\"#d8576b\"],[0.6666666666666666,\"#ed7953\"],[0.7777777777777778,\"#fb9f3a\"],[0.8888888888888888,\"#fdca26\"],[1.0,\"#f0f921\"]],\"sequentialminus\":[[0.0,\"#0d0887\"],[0.1111111111111111,\"#46039f\"],[0.2222222222222222,\"#7201a8\"],[0.3333333333333333,\"#9c179e\"],[0.4444444444444444,\"#bd3786\"],[0.5555555555555556,\"#d8576b\"],[0.6666666666666666,\"#ed7953\"],[0.7777777777777778,\"#fb9f3a\"],[0.8888888888888888,\"#fdca26\"],[1.0,\"#f0f921\"]],\"diverging\":[[0,\"#8e0152\"],[0.1,\"#c51b7d\"],[0.2,\"#de77ae\"],[0.3,\"#f1b6da\"],[0.4,\"#fde0ef\"],[0.5,\"#f7f7f7\"],[0.6,\"#e6f5d0\"],[0.7,\"#b8e186\"],[0.8,\"#7fbc41\"],[0.9,\"#4d9221\"],[1,\"#276419\"]]},\"xaxis\":{\"gridcolor\":\"white\",\"linecolor\":\"white\",\"ticks\":\"\",\"title\":{\"standoff\":15},\"zerolinecolor\":\"white\",\"automargin\":true,\"zerolinewidth\":2},\"yaxis\":{\"gridcolor\":\"white\",\"linecolor\":\"white\",\"ticks\":\"\",\"title\":{\"standoff\":15},\"zerolinecolor\":\"white\",\"automargin\":true,\"zerolinewidth\":2},\"scene\":{\"xaxis\":{\"backgroundcolor\":\"#E5ECF6\",\"gridcolor\":\"white\",\"linecolor\":\"white\",\"showbackground\":true,\"ticks\":\"\",\"zerolinecolor\":\"white\",\"gridwidth\":2},\"yaxis\":{\"backgroundcolor\":\"#E5ECF6\",\"gridcolor\":\"white\",\"linecolor\":\"white\",\"showbackground\":true,\"ticks\":\"\",\"zerolinecolor\":\"white\",\"gridwidth\":2},\"zaxis\":{\"backgroundcolor\":\"#E5ECF6\",\"gridcolor\":\"white\",\"linecolor\":\"white\",\"showbackground\":true,\"ticks\":\"\",\"zerolinecolor\":\"white\",\"gridwidth\":2}},\"shapedefaults\":{\"line\":{\"color\":\"#2a3f5f\"}},\"annotationdefaults\":{\"arrowcolor\":\"#2a3f5f\",\"arrowhead\":0,\"arrowwidth\":1},\"geo\":{\"bgcolor\":\"white\",\"landcolor\":\"#E5ECF6\",\"subunitcolor\":\"white\",\"showland\":true,\"showlakes\":true,\"lakecolor\":\"white\"},\"title\":{\"x\":0.05},\"mapbox\":{\"style\":\"light\"}}}},                        {\"responsive\": true}                    ).then(function(){\n",
       "\n",
       "var gd = document.getElementById('b4834ccd-d5b2-406a-af98-939d6e3a3136');\n",
       "var x = new MutationObserver(function (mutations, observer) {{\n",
       "        var display = window.getComputedStyle(gd).display;\n",
       "        if (!display || display === 'none') {{\n",
       "            console.log([gd, 'removed!']);\n",
       "            Plotly.purge(gd);\n",
       "            observer.disconnect();\n",
       "        }}\n",
       "}});\n",
       "\n",
       "// Listen for the removal of the full notebook cells\n",
       "var notebookContainer = gd.closest('#notebook-container');\n",
       "if (notebookContainer) {{\n",
       "    x.observe(notebookContainer, {childList: true});\n",
       "}}\n",
       "\n",
       "// Listen for the clearing of the current output cell\n",
       "var outputEl = gd.closest('.output');\n",
       "if (outputEl) {{\n",
       "    x.observe(outputEl, {childList: true});\n",
       "}}\n",
       "\n",
       "                        })                };                });            </script>        </div>"
      ]
     },
     "metadata": {},
     "output_type": "display_data"
    }
   ],
   "source": [
    "fig = seq.get_drawable(biotype=(\"gene\", \"CDS\", \"mRNA\"))\n",
    "fig.show(height=300, width=650)"
   ]
  },
  {
   "cell_type": "code",
   "execution_count": 6,
   "id": "75793b2b",
   "metadata": {
    "execution": {
     "iopub.execute_input": "2023-12-15T00:09:46.680667Z",
     "iopub.status.busy": "2023-12-15T00:09:46.680572Z",
     "iopub.status.idle": "2023-12-15T00:09:47.028971Z",
     "shell.execute_reply": "2023-12-15T00:09:47.028437Z"
    }
   },
   "outputs": [],
   "source": [
    "outpath = set_working_directory.get_thumbnail_dir() / \"plot_seq-features.png\"\n",
    "\n",
    "fig.write(outpath)"
   ]
  }
 ],
 "metadata": {
  "kernelspec": {
   "display_name": "Python 3 (ipykernel)",
   "language": "python",
   "name": "python3"
  },
  "language_info": {
   "codemirror_mode": {
    "name": "ipython",
    "version": 3
   },
   "file_extension": ".py",
   "mimetype": "text/x-python",
   "name": "python",
   "nbconvert_exporter": "python",
   "pygments_lexer": "ipython3",
   "version": "3.11.6"
  }
 },
 "nbformat": 4,
 "nbformat_minor": 5
}