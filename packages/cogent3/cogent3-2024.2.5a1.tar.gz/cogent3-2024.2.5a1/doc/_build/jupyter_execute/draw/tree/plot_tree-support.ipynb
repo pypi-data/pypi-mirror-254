{
 "cells": [
  {
   "cell_type": "code",
   "execution_count": 1,
   "id": "719fd64a",
   "metadata": {
    "execution": {
     "iopub.execute_input": "2023-12-15T00:10:00.058783Z",
     "iopub.status.busy": "2023-12-15T00:10:00.058530Z",
     "iopub.status.idle": "2023-12-15T00:10:00.070385Z",
     "shell.execute_reply": "2023-12-15T00:10:00.069889Z"
    }
   },
   "outputs": [],
   "source": [
    "import set_working_directory"
   ]
  },
  {
   "cell_type": "code",
   "execution_count": 2,
   "id": "60077851",
   "metadata": {
    "execution": {
     "iopub.execute_input": "2023-12-15T00:10:00.072831Z",
     "iopub.status.busy": "2023-12-15T00:10:00.072626Z",
     "iopub.status.idle": "2023-12-15T00:10:01.314615Z",
     "shell.execute_reply": "2023-12-15T00:10:01.314304Z"
    }
   },
   "outputs": [
    {
     "data": {
      "text/html": [
       "<script type=\"text/javascript\">\n",
       "window.PlotlyConfig = {MathJaxConfig: 'local'};\n",
       "if (window.MathJax && window.MathJax.Hub && window.MathJax.Hub.Config) {window.MathJax.Hub.Config({SVG: {font: \"STIX-Web\"}});}\n",
       "if (typeof require !== 'undefined') {\n",
       "require.undef(\"plotly\");\n",
       "requirejs.config({\n",
       "    paths: {\n",
       "        'plotly': ['https://cdn.plot.ly/plotly-2.20.0.min']\n",
       "    }\n",
       "});\n",
       "require(['plotly'], function(Plotly) {\n",
       "    window._Plotly = Plotly;\n",
       "});\n",
       "}\n",
       "</script>\n"
      ]
     },
     "metadata": {},
     "output_type": "display_data"
    },
    {
     "data": {
      "application/vnd.plotly.v1+json": {
       "config": {
        "plotlyServerURL": "https://plot.ly"
       },
       "data": [
        {
         "line": {
          "color": "black",
          "shape": "spline",
          "smoothing": 1.3,
          "width": 1.25
         },
         "mode": "lines",
         "showlegend": false,
         "type": "scatter",
         "x": [
          null,
          null,
          0,
          0,
          null,
          0,
          0.0016635914678559442,
          null,
          0.0016635914678559442,
          0.0016635914678559442,
          null,
          0.0016635914678559442,
          0.005369545277741107,
          null,
          0.005369545277741107,
          0.005369545277741107,
          null,
          0.005369545277741107,
          0.031153370343094598,
          null,
          0.031153370343094598,
          0.031153370343094598,
          null,
          0.031153370343094598,
          0.08631195081779765,
          null,
          0.031153370343094598,
          0.031153370343094598,
          null,
          0.031153370343094598,
          0.11372226606590709,
          null,
          0.005369545277741107,
          0.005369545277741107,
          null,
          0.005369545277741107,
          0.07956551945410295,
          null,
          0.0016635914678559442,
          0.0016635914678559442,
          null,
          0.0016635914678559442,
          0.014656744829611266,
          null,
          0.014656744829611266,
          0.014656744829611266,
          null,
          0.014656744829611266,
          0.048499823687140065,
          null,
          0.014656744829611266,
          0.014656744829611266,
          null,
          0.014656744829611266,
          0.058183439825163115,
          null,
          0,
          0,
          null,
          0,
          0.001987169996462769,
          null,
          0.001987169996462769,
          0.001987169996462769,
          null,
          0.001987169996462769,
          0.02054537383090987,
          null,
          0.02054537383090987,
          0.02054537383090987,
          null,
          0.02054537383090987,
          0.025261259625981795,
          null,
          0.025261259625981795,
          0.025261259625981795,
          null,
          0.025261259625981795,
          0.0333020198570895,
          null,
          0.0333020198570895,
          0.0333020198570895,
          null,
          0.0333020198570895,
          0.03681450578997773,
          null,
          0.03681450578997773,
          0.03681450578997773,
          null,
          0.03681450578997773,
          0.059591157700027056,
          null,
          0.059591157700027056,
          0.059591157700027056,
          null,
          0.059591157700027056,
          0.07066369595496988,
          null,
          0.059591157700027056,
          0.059591157700027056,
          null,
          0.059591157700027056,
          0.07465626505796832,
          null,
          0.03681450578997773,
          0.03681450578997773,
          null,
          0.03681450578997773,
          0.08741296114249245,
          null,
          0.0333020198570895,
          0.0333020198570895,
          null,
          0.0333020198570895,
          0.11702881314270744,
          null,
          0.025261259625981795,
          0.025261259625981795,
          null,
          0.025261259625981795,
          0.09953929051305313,
          null,
          0.02054537383090987,
          0.02054537383090987,
          null,
          0.02054537383090987,
          0.07899050274522948,
          null,
          0.001987169996462769,
          0.001987169996462769,
          null,
          0.001987169996462769,
          0.12245874195312466,
          null,
          0,
          0,
          null,
          0,
          0.011357615613402238,
          null,
          0.011357615613402238,
          0.011357615613402238,
          null,
          0.011357615613402238,
          0.014781839705895783,
          null,
          0.014781839705895783,
          0.014781839705895783,
          null,
          0.014781839705895783,
          0.025442025128467643,
          null,
          0.025442025128467643,
          0.025442025128467643,
          null,
          0.025442025128467643,
          0.030395867088245262,
          null,
          0.030395867088245262,
          0.030395867088245262,
          null,
          0.030395867088245262,
          0.08717485111392888,
          null,
          0.030395867088245262,
          0.030395867088245262,
          null,
          0.030395867088245262,
          0.20906726393108255,
          null,
          0.025442025128467643,
          0.025442025128467643,
          null,
          0.025442025128467643,
          0.034272101380184446,
          null,
          0.034272101380184446,
          0.034272101380184446,
          null,
          0.034272101380184446,
          0.07334674212490472,
          null,
          0.034272101380184446,
          0.034272101380184446,
          null,
          0.034272101380184446,
          0.0873227799527246,
          null,
          0.014781839705895783,
          0.014781839705895783,
          null,
          0.014781839705895783,
          0.06090021381372198,
          null,
          0.06090021381372198,
          0.06090021381372198,
          null,
          0.06090021381372198,
          0.07887378276114326,
          null,
          0.06090021381372198,
          0.06090021381372198,
          null,
          0.06090021381372198,
          0.09681516616874367,
          null,
          0.011357615613402238,
          0.011357615613402238,
          null,
          0.011357615613402238,
          0.017892621141320973,
          null,
          0.017892621141320973,
          0.017892621141320973,
          null,
          0.017892621141320973,
          0.0766458813943752,
          null,
          0.017892621141320973,
          0.017892621141320973,
          null,
          0.017892621141320973,
          0.08547259739006041,
          null
         ],
         "y": [
          null,
          null,
          -0.6703125000000001,
          9.2625,
          null,
          9.2625,
          9.2625,
          null,
          9.2625,
          10.725,
          null,
          10.725,
          10.725,
          null,
          10.725,
          11.7,
          null,
          11.7,
          11.7,
          null,
          11.7,
          12.35,
          null,
          12.35,
          12.35,
          null,
          11.7,
          11.05,
          null,
          11.05,
          11.05,
          null,
          10.725,
          9.75,
          null,
          9.75,
          9.75,
          null,
          9.2625,
          7.800000000000001,
          null,
          7.800000000000001,
          7.800000000000001,
          null,
          7.800000000000001,
          8.450000000000001,
          null,
          8.450000000000001,
          8.450000000000001,
          null,
          7.800000000000001,
          7.15,
          null,
          7.15,
          7.15,
          null,
          -0.6703125000000001,
          -0.6703125000000001,
          null,
          -0.6703125000000001,
          -0.6703125000000001,
          null,
          -0.6703125000000001,
          0.609375,
          null,
          0.609375,
          0.609375,
          null,
          0.609375,
          1.86875,
          null,
          1.86875,
          1.86875,
          null,
          1.86875,
          3.0875,
          null,
          3.0875,
          3.0875,
          null,
          3.0875,
          4.225,
          null,
          4.225,
          4.225,
          null,
          4.225,
          5.2,
          null,
          5.2,
          5.2,
          null,
          5.2,
          5.8500000000000005,
          null,
          5.8500000000000005,
          5.8500000000000005,
          null,
          5.2,
          4.55,
          null,
          4.55,
          4.55,
          null,
          4.225,
          3.25,
          null,
          3.25,
          3.25,
          null,
          3.0875,
          1.9500000000000002,
          null,
          1.9500000000000002,
          1.9500000000000002,
          null,
          1.86875,
          0.65,
          null,
          0.65,
          0.65,
          null,
          0.609375,
          -0.65,
          null,
          -0.65,
          -0.65,
          null,
          -0.6703125000000001,
          -1.9500000000000002,
          null,
          -1.9500000000000002,
          -1.9500000000000002,
          null,
          -0.6703125000000001,
          -9.425,
          null,
          -9.425,
          -9.425,
          null,
          -9.425,
          -7.15,
          null,
          -7.15,
          -7.15,
          null,
          -7.15,
          -5.2,
          null,
          -5.2,
          -5.2,
          null,
          -5.2,
          -3.9,
          null,
          -3.9,
          -3.9,
          null,
          -3.9,
          -3.25,
          null,
          -3.25,
          -3.25,
          null,
          -3.9,
          -4.55,
          null,
          -4.55,
          -4.55,
          null,
          -5.2,
          -6.5,
          null,
          -6.5,
          -6.5,
          null,
          -6.5,
          -5.8500000000000005,
          null,
          -5.8500000000000005,
          -5.8500000000000005,
          null,
          -6.5,
          -7.15,
          null,
          -7.15,
          -7.15,
          null,
          -7.15,
          -9.100000000000001,
          null,
          -9.100000000000001,
          -9.100000000000001,
          null,
          -9.100000000000001,
          -8.450000000000001,
          null,
          -8.450000000000001,
          -8.450000000000001,
          null,
          -9.100000000000001,
          -9.75,
          null,
          -9.75,
          -9.75,
          null,
          -9.425,
          -11.7,
          null,
          -11.7,
          -11.7,
          null,
          -11.7,
          -11.05,
          null,
          -11.05,
          -11.05,
          null,
          -11.7,
          -12.35,
          null,
          -12.35,
          -12.35,
          null
         ]
        },
        {
         "hoverinfo": "text",
         "marker": {
          "color": "black",
          "size": 3,
          "symbol": "circle"
         },
         "mode": "markers",
         "showlegend": false,
         "text": [
          "root",
          "edge.16",
          "edge.14",
          "edge.6",
          "Cat",
          "Dog",
          "Pangolin",
          "edge.7",
          "Rhino",
          "Horse",
          "edge.15",
          "edge.2",
          "edge.10",
          "edge.1",
          "edge.13",
          "edge.0",
          "HumpbackW",
          "SpermWhale",
          "Hippo",
          "Cow",
          "Pig",
          "Llama",
          "Mole",
          "edge.5",
          "edge.11",
          "edge.3",
          "edge.12",
          "TombBat",
          "RoundEare",
          "edge.9",
          "FreeTaile",
          "LittleBro",
          "edge.4",
          "FlyingFox",
          "DogFaced",
          "edge.8",
          "LeafNose",
          "FalseVamp"
         ],
         "type": "scatter",
         "x": [
          0,
          0.0016635914678559442,
          0.005369545277741107,
          0.031153370343094598,
          0.08631195081779765,
          0.11372226606590709,
          0.07956551945410295,
          0.014656744829611266,
          0.048499823687140065,
          0.058183439825163115,
          0.001987169996462769,
          0.02054537383090987,
          0.025261259625981795,
          0.0333020198570895,
          0.03681450578997773,
          0.059591157700027056,
          0.07066369595496988,
          0.07465626505796832,
          0.08741296114249245,
          0.11702881314270744,
          0.09953929051305313,
          0.07899050274522948,
          0.12245874195312466,
          0.011357615613402238,
          0.014781839705895783,
          0.025442025128467643,
          0.030395867088245262,
          0.08717485111392888,
          0.20906726393108255,
          0.034272101380184446,
          0.07334674212490472,
          0.0873227799527246,
          0.06090021381372198,
          0.07887378276114326,
          0.09681516616874367,
          0.017892621141320973,
          0.0766458813943752,
          0.08547259739006041
         ],
         "y": [
          -0.6703125000000001,
          9.2625,
          10.725,
          11.7,
          12.35,
          11.05,
          9.75,
          7.800000000000001,
          8.450000000000001,
          7.15,
          -0.6703125000000001,
          0.609375,
          1.86875,
          3.0875,
          4.225,
          5.2,
          5.8500000000000005,
          4.55,
          3.25,
          1.9500000000000002,
          0.65,
          -0.65,
          -1.9500000000000002,
          -9.425,
          -7.15,
          -5.2,
          -3.9,
          -3.25,
          -4.55,
          -6.5,
          -5.8500000000000005,
          -7.15,
          -9.100000000000001,
          -8.450000000000001,
          -9.75,
          -11.7,
          -11.05,
          -12.35
         ]
        }
       ],
       "layout": {
        "annotations": [
         {
          "font": {
           "family": "Inconsolata, monospace",
           "size": 12
          },
          "showarrow": false,
          "text": "Cat",
          "textangle": 0,
          "x": 0.09153863241607471,
          "xanchor": "left",
          "xref": "x",
          "y": 12.35,
          "yref": "y"
         },
         {
          "font": {
           "family": "Inconsolata, monospace",
           "size": 12
          },
          "showarrow": false,
          "text": "Dog",
          "textangle": 0,
          "x": 0.11894894766418415,
          "xanchor": "left",
          "xref": "x",
          "y": 11.05,
          "yref": "y"
         },
         {
          "font": {
           "family": "Inconsolata, monospace",
           "size": 12
          },
          "showarrow": false,
          "text": "Pangolin",
          "textangle": 0,
          "x": 0.08479220105238001,
          "xanchor": "left",
          "xref": "x",
          "y": 9.75,
          "yref": "y"
         },
         {
          "font": {
           "family": "Inconsolata, monospace",
           "size": 12
          },
          "showarrow": false,
          "text": "Rhino",
          "textangle": 0,
          "x": 0.05372650528541713,
          "xanchor": "left",
          "xref": "x",
          "y": 8.450000000000001,
          "yref": "y"
         },
         {
          "font": {
           "family": "Inconsolata, monospace",
           "size": 12
          },
          "showarrow": false,
          "text": "Horse",
          "textangle": 0,
          "x": 0.06341012142344019,
          "xanchor": "left",
          "xref": "x",
          "y": 7.15,
          "yref": "y"
         },
         {
          "font": {
           "family": "Inconsolata, monospace",
           "size": 12
          },
          "showarrow": false,
          "text": "HumpbackW",
          "textangle": 0,
          "x": 0.07589037755324694,
          "xanchor": "left",
          "xref": "x",
          "y": 5.8500000000000005,
          "yref": "y"
         },
         {
          "font": {
           "family": "Inconsolata, monospace",
           "size": 12
          },
          "showarrow": false,
          "text": "SpermWhale",
          "textangle": 0,
          "x": 0.07988294665624539,
          "xanchor": "left",
          "xref": "x",
          "y": 4.55,
          "yref": "y"
         },
         {
          "font": {
           "family": "Inconsolata, monospace",
           "size": 12
          },
          "showarrow": false,
          "text": "Hippo",
          "textangle": 0,
          "x": 0.09263964274076951,
          "xanchor": "left",
          "xref": "x",
          "y": 3.25,
          "yref": "y"
         },
         {
          "font": {
           "family": "Inconsolata, monospace",
           "size": 12
          },
          "showarrow": false,
          "text": "Cow",
          "textangle": 0,
          "x": 0.1222554947409845,
          "xanchor": "left",
          "xref": "x",
          "y": 1.9500000000000002,
          "yref": "y"
         },
         {
          "font": {
           "family": "Inconsolata, monospace",
           "size": 12
          },
          "showarrow": false,
          "text": "Pig",
          "textangle": 0,
          "x": 0.1047659721113302,
          "xanchor": "left",
          "xref": "x",
          "y": 0.65,
          "yref": "y"
         },
         {
          "font": {
           "family": "Inconsolata, monospace",
           "size": 12
          },
          "showarrow": false,
          "text": "Llama",
          "textangle": 0,
          "x": 0.08421718434350654,
          "xanchor": "left",
          "xref": "x",
          "y": -0.65,
          "yref": "y"
         },
         {
          "font": {
           "family": "Inconsolata, monospace",
           "size": 12
          },
          "showarrow": false,
          "text": "Mole",
          "textangle": 0,
          "x": 0.12768542355140172,
          "xanchor": "left",
          "xref": "x",
          "y": -1.9500000000000002,
          "yref": "y"
         },
         {
          "font": {
           "family": "Inconsolata, monospace",
           "size": 12
          },
          "showarrow": false,
          "text": "TombBat",
          "textangle": 0,
          "x": 0.09240153271220594,
          "xanchor": "left",
          "xref": "x",
          "y": -3.25,
          "yref": "y"
         },
         {
          "font": {
           "family": "Inconsolata, monospace",
           "size": 12
          },
          "showarrow": false,
          "text": "RoundEare",
          "textangle": 0,
          "x": 0.2142939455293596,
          "xanchor": "left",
          "xref": "x",
          "y": -4.55,
          "yref": "y"
         },
         {
          "font": {
           "family": "Inconsolata, monospace",
           "size": 12
          },
          "showarrow": false,
          "text": "FreeTaile",
          "textangle": 0,
          "x": 0.07857342372318178,
          "xanchor": "left",
          "xref": "x",
          "y": -5.8500000000000005,
          "yref": "y"
         },
         {
          "font": {
           "family": "Inconsolata, monospace",
           "size": 12
          },
          "showarrow": false,
          "text": "LittleBro",
          "textangle": 0,
          "x": 0.09254946155100166,
          "xanchor": "left",
          "xref": "x",
          "y": -7.15,
          "yref": "y"
         },
         {
          "font": {
           "family": "Inconsolata, monospace",
           "size": 12
          },
          "showarrow": false,
          "text": "FlyingFox",
          "textangle": 0,
          "x": 0.08410046435942033,
          "xanchor": "left",
          "xref": "x",
          "y": -8.450000000000001,
          "yref": "y"
         },
         {
          "font": {
           "family": "Inconsolata, monospace",
           "size": 12
          },
          "showarrow": false,
          "text": "DogFaced",
          "textangle": 0,
          "x": 0.10204184776702073,
          "xanchor": "left",
          "xref": "x",
          "y": -9.75,
          "yref": "y"
         },
         {
          "font": {
           "family": "Inconsolata, monospace",
           "size": 12
          },
          "showarrow": false,
          "text": "LeafNose",
          "textangle": 0,
          "x": 0.08187256299265226,
          "xanchor": "left",
          "xref": "x",
          "y": -11.05,
          "yref": "y"
         },
         {
          "font": {
           "family": "Inconsolata, monospace",
           "size": 12
          },
          "showarrow": false,
          "text": "FalseVamp",
          "textangle": 0,
          "x": 0.09069927898833748,
          "xanchor": "left",
          "xref": "x",
          "y": -12.35,
          "yref": "y"
         },
         {
          "font": {
           "family": "Inconsolata, monospace",
           "size": 12
          },
          "showarrow": false,
          "text": "0.24",
          "textangle": 0,
          "x": 0.0016635914678559442,
          "xanchor": "center",
          "xref": "x",
          "xshift": -14,
          "y": 9.2625,
          "yref": "y",
          "yshift": 7
         },
         {
          "font": {
           "family": "Inconsolata, monospace",
           "size": 12
          },
          "showarrow": false,
          "text": "0.70",
          "textangle": 0,
          "x": 0.005369545277741107,
          "xanchor": "center",
          "xref": "x",
          "xshift": -14,
          "y": 10.725,
          "yref": "y",
          "yshift": 7
         },
         {
          "font": {
           "family": "Inconsolata, monospace",
           "size": 12
          },
          "showarrow": false,
          "text": "0.29",
          "textangle": 0,
          "x": 0.001987169996462769,
          "xanchor": "center",
          "xref": "x",
          "xshift": -14,
          "y": -0.6703125000000001,
          "yref": "y",
          "yshift": 7
         },
         {
          "font": {
           "family": "Inconsolata, monospace",
           "size": 12
          },
          "showarrow": false,
          "text": "0.75",
          "textangle": 0,
          "x": 0.03681450578997773,
          "xanchor": "center",
          "xref": "x",
          "xshift": -14,
          "y": 4.225,
          "yref": "y",
          "yshift": 7
         },
         {
          "font": {
           "family": "Inconsolata, monospace",
           "size": 12
          },
          "showarrow": false,
          "text": "0.76",
          "textangle": 0,
          "x": 0.030395867088245262,
          "xanchor": "center",
          "xref": "x",
          "xshift": -14,
          "y": -3.9,
          "yref": "y",
          "yshift": 7
         }
        ],
        "autosize": true,
        "font": {
         "family": "Balto",
         "size": 14
        },
        "height": 400,
        "hovermode": "closest",
        "margin": {
         "b": 50,
         "l": 50,
         "pad": 4,
         "r": 50,
         "t": 50
        },
        "showlegend": false,
        "template": {
         "data": {
          "bar": [
           {
            "error_x": {
             "color": "#2a3f5f"
            },
            "error_y": {
             "color": "#2a3f5f"
            },
            "marker": {
             "line": {
              "color": "#E5ECF6",
              "width": 0.5
             },
             "pattern": {
              "fillmode": "overlay",
              "size": 10,
              "solidity": 0.2
             }
            },
            "type": "bar"
           }
          ],
          "barpolar": [
           {
            "marker": {
             "line": {
              "color": "#E5ECF6",
              "width": 0.5
             },
             "pattern": {
              "fillmode": "overlay",
              "size": 10,
              "solidity": 0.2
             }
            },
            "type": "barpolar"
           }
          ],
          "carpet": [
           {
            "aaxis": {
             "endlinecolor": "#2a3f5f",
             "gridcolor": "white",
             "linecolor": "white",
             "minorgridcolor": "white",
             "startlinecolor": "#2a3f5f"
            },
            "baxis": {
             "endlinecolor": "#2a3f5f",
             "gridcolor": "white",
             "linecolor": "white",
             "minorgridcolor": "white",
             "startlinecolor": "#2a3f5f"
            },
            "type": "carpet"
           }
          ],
          "choropleth": [
           {
            "colorbar": {
             "outlinewidth": 0,
             "ticks": ""
            },
            "type": "choropleth"
           }
          ],
          "contour": [
           {
            "colorbar": {
             "outlinewidth": 0,
             "ticks": ""
            },
            "colorscale": [
             [
              0.0,
              "#0d0887"
             ],
             [
              0.1111111111111111,
              "#46039f"
             ],
             [
              0.2222222222222222,
              "#7201a8"
             ],
             [
              0.3333333333333333,
              "#9c179e"
             ],
             [
              0.4444444444444444,
              "#bd3786"
             ],
             [
              0.5555555555555556,
              "#d8576b"
             ],
             [
              0.6666666666666666,
              "#ed7953"
             ],
             [
              0.7777777777777778,
              "#fb9f3a"
             ],
             [
              0.8888888888888888,
              "#fdca26"
             ],
             [
              1.0,
              "#f0f921"
             ]
            ],
            "type": "contour"
           }
          ],
          "contourcarpet": [
           {
            "colorbar": {
             "outlinewidth": 0,
             "ticks": ""
            },
            "type": "contourcarpet"
           }
          ],
          "heatmap": [
           {
            "colorbar": {
             "outlinewidth": 0,
             "ticks": ""
            },
            "colorscale": [
             [
              0.0,
              "#0d0887"
             ],
             [
              0.1111111111111111,
              "#46039f"
             ],
             [
              0.2222222222222222,
              "#7201a8"
             ],
             [
              0.3333333333333333,
              "#9c179e"
             ],
             [
              0.4444444444444444,
              "#bd3786"
             ],
             [
              0.5555555555555556,
              "#d8576b"
             ],
             [
              0.6666666666666666,
              "#ed7953"
             ],
             [
              0.7777777777777778,
              "#fb9f3a"
             ],
             [
              0.8888888888888888,
              "#fdca26"
             ],
             [
              1.0,
              "#f0f921"
             ]
            ],
            "type": "heatmap"
           }
          ],
          "heatmapgl": [
           {
            "colorbar": {
             "outlinewidth": 0,
             "ticks": ""
            },
            "colorscale": [
             [
              0.0,
              "#0d0887"
             ],
             [
              0.1111111111111111,
              "#46039f"
             ],
             [
              0.2222222222222222,
              "#7201a8"
             ],
             [
              0.3333333333333333,
              "#9c179e"
             ],
             [
              0.4444444444444444,
              "#bd3786"
             ],
             [
              0.5555555555555556,
              "#d8576b"
             ],
             [
              0.6666666666666666,
              "#ed7953"
             ],
             [
              0.7777777777777778,
              "#fb9f3a"
             ],
             [
              0.8888888888888888,
              "#fdca26"
             ],
             [
              1.0,
              "#f0f921"
             ]
            ],
            "type": "heatmapgl"
           }
          ],
          "histogram": [
           {
            "marker": {
             "pattern": {
              "fillmode": "overlay",
              "size": 10,
              "solidity": 0.2
             }
            },
            "type": "histogram"
           }
          ],
          "histogram2d": [
           {
            "colorbar": {
             "outlinewidth": 0,
             "ticks": ""
            },
            "colorscale": [
             [
              0.0,
              "#0d0887"
             ],
             [
              0.1111111111111111,
              "#46039f"
             ],
             [
              0.2222222222222222,
              "#7201a8"
             ],
             [
              0.3333333333333333,
              "#9c179e"
             ],
             [
              0.4444444444444444,
              "#bd3786"
             ],
             [
              0.5555555555555556,
              "#d8576b"
             ],
             [
              0.6666666666666666,
              "#ed7953"
             ],
             [
              0.7777777777777778,
              "#fb9f3a"
             ],
             [
              0.8888888888888888,
              "#fdca26"
             ],
             [
              1.0,
              "#f0f921"
             ]
            ],
            "type": "histogram2d"
           }
          ],
          "histogram2dcontour": [
           {
            "colorbar": {
             "outlinewidth": 0,
             "ticks": ""
            },
            "colorscale": [
             [
              0.0,
              "#0d0887"
             ],
             [
              0.1111111111111111,
              "#46039f"
             ],
             [
              0.2222222222222222,
              "#7201a8"
             ],
             [
              0.3333333333333333,
              "#9c179e"
             ],
             [
              0.4444444444444444,
              "#bd3786"
             ],
             [
              0.5555555555555556,
              "#d8576b"
             ],
             [
              0.6666666666666666,
              "#ed7953"
             ],
             [
              0.7777777777777778,
              "#fb9f3a"
             ],
             [
              0.8888888888888888,
              "#fdca26"
             ],
             [
              1.0,
              "#f0f921"
             ]
            ],
            "type": "histogram2dcontour"
           }
          ],
          "mesh3d": [
           {
            "colorbar": {
             "outlinewidth": 0,
             "ticks": ""
            },
            "type": "mesh3d"
           }
          ],
          "parcoords": [
           {
            "line": {
             "colorbar": {
              "outlinewidth": 0,
              "ticks": ""
             }
            },
            "type": "parcoords"
           }
          ],
          "pie": [
           {
            "automargin": true,
            "type": "pie"
           }
          ],
          "scatter": [
           {
            "fillpattern": {
             "fillmode": "overlay",
             "size": 10,
             "solidity": 0.2
            },
            "type": "scatter"
           }
          ],
          "scatter3d": [
           {
            "line": {
             "colorbar": {
              "outlinewidth": 0,
              "ticks": ""
             }
            },
            "marker": {
             "colorbar": {
              "outlinewidth": 0,
              "ticks": ""
             }
            },
            "type": "scatter3d"
           }
          ],
          "scattercarpet": [
           {
            "marker": {
             "colorbar": {
              "outlinewidth": 0,
              "ticks": ""
             }
            },
            "type": "scattercarpet"
           }
          ],
          "scattergeo": [
           {
            "marker": {
             "colorbar": {
              "outlinewidth": 0,
              "ticks": ""
             }
            },
            "type": "scattergeo"
           }
          ],
          "scattergl": [
           {
            "marker": {
             "colorbar": {
              "outlinewidth": 0,
              "ticks": ""
             }
            },
            "type": "scattergl"
           }
          ],
          "scattermapbox": [
           {
            "marker": {
             "colorbar": {
              "outlinewidth": 0,
              "ticks": ""
             }
            },
            "type": "scattermapbox"
           }
          ],
          "scatterpolar": [
           {
            "marker": {
             "colorbar": {
              "outlinewidth": 0,
              "ticks": ""
             }
            },
            "type": "scatterpolar"
           }
          ],
          "scatterpolargl": [
           {
            "marker": {
             "colorbar": {
              "outlinewidth": 0,
              "ticks": ""
             }
            },
            "type": "scatterpolargl"
           }
          ],
          "scatterternary": [
           {
            "marker": {
             "colorbar": {
              "outlinewidth": 0,
              "ticks": ""
             }
            },
            "type": "scatterternary"
           }
          ],
          "surface": [
           {
            "colorbar": {
             "outlinewidth": 0,
             "ticks": ""
            },
            "colorscale": [
             [
              0.0,
              "#0d0887"
             ],
             [
              0.1111111111111111,
              "#46039f"
             ],
             [
              0.2222222222222222,
              "#7201a8"
             ],
             [
              0.3333333333333333,
              "#9c179e"
             ],
             [
              0.4444444444444444,
              "#bd3786"
             ],
             [
              0.5555555555555556,
              "#d8576b"
             ],
             [
              0.6666666666666666,
              "#ed7953"
             ],
             [
              0.7777777777777778,
              "#fb9f3a"
             ],
             [
              0.8888888888888888,
              "#fdca26"
             ],
             [
              1.0,
              "#f0f921"
             ]
            ],
            "type": "surface"
           }
          ],
          "table": [
           {
            "cells": {
             "fill": {
              "color": "#EBF0F8"
             },
             "line": {
              "color": "white"
             }
            },
            "header": {
             "fill": {
              "color": "#C8D4E3"
             },
             "line": {
              "color": "white"
             }
            },
            "type": "table"
           }
          ]
         },
         "layout": {
          "annotationdefaults": {
           "arrowcolor": "#2a3f5f",
           "arrowhead": 0,
           "arrowwidth": 1
          },
          "autotypenumbers": "strict",
          "coloraxis": {
           "colorbar": {
            "outlinewidth": 0,
            "ticks": ""
           }
          },
          "colorscale": {
           "diverging": [
            [
             0,
             "#8e0152"
            ],
            [
             0.1,
             "#c51b7d"
            ],
            [
             0.2,
             "#de77ae"
            ],
            [
             0.3,
             "#f1b6da"
            ],
            [
             0.4,
             "#fde0ef"
            ],
            [
             0.5,
             "#f7f7f7"
            ],
            [
             0.6,
             "#e6f5d0"
            ],
            [
             0.7,
             "#b8e186"
            ],
            [
             0.8,
             "#7fbc41"
            ],
            [
             0.9,
             "#4d9221"
            ],
            [
             1,
             "#276419"
            ]
           ],
           "sequential": [
            [
             0.0,
             "#0d0887"
            ],
            [
             0.1111111111111111,
             "#46039f"
            ],
            [
             0.2222222222222222,
             "#7201a8"
            ],
            [
             0.3333333333333333,
             "#9c179e"
            ],
            [
             0.4444444444444444,
             "#bd3786"
            ],
            [
             0.5555555555555556,
             "#d8576b"
            ],
            [
             0.6666666666666666,
             "#ed7953"
            ],
            [
             0.7777777777777778,
             "#fb9f3a"
            ],
            [
             0.8888888888888888,
             "#fdca26"
            ],
            [
             1.0,
             "#f0f921"
            ]
           ],
           "sequentialminus": [
            [
             0.0,
             "#0d0887"
            ],
            [
             0.1111111111111111,
             "#46039f"
            ],
            [
             0.2222222222222222,
             "#7201a8"
            ],
            [
             0.3333333333333333,
             "#9c179e"
            ],
            [
             0.4444444444444444,
             "#bd3786"
            ],
            [
             0.5555555555555556,
             "#d8576b"
            ],
            [
             0.6666666666666666,
             "#ed7953"
            ],
            [
             0.7777777777777778,
             "#fb9f3a"
            ],
            [
             0.8888888888888888,
             "#fdca26"
            ],
            [
             1.0,
             "#f0f921"
            ]
           ]
          },
          "colorway": [
           "#636efa",
           "#EF553B",
           "#00cc96",
           "#ab63fa",
           "#FFA15A",
           "#19d3f3",
           "#FF6692",
           "#B6E880",
           "#FF97FF",
           "#FECB52"
          ],
          "font": {
           "color": "#2a3f5f"
          },
          "geo": {
           "bgcolor": "white",
           "lakecolor": "white",
           "landcolor": "#E5ECF6",
           "showlakes": true,
           "showland": true,
           "subunitcolor": "white"
          },
          "hoverlabel": {
           "align": "left"
          },
          "hovermode": "closest",
          "mapbox": {
           "style": "light"
          },
          "paper_bgcolor": "white",
          "plot_bgcolor": "#E5ECF6",
          "polar": {
           "angularaxis": {
            "gridcolor": "white",
            "linecolor": "white",
            "ticks": ""
           },
           "bgcolor": "#E5ECF6",
           "radialaxis": {
            "gridcolor": "white",
            "linecolor": "white",
            "ticks": ""
           }
          },
          "scene": {
           "xaxis": {
            "backgroundcolor": "#E5ECF6",
            "gridcolor": "white",
            "gridwidth": 2,
            "linecolor": "white",
            "showbackground": true,
            "ticks": "",
            "zerolinecolor": "white"
           },
           "yaxis": {
            "backgroundcolor": "#E5ECF6",
            "gridcolor": "white",
            "gridwidth": 2,
            "linecolor": "white",
            "showbackground": true,
            "ticks": "",
            "zerolinecolor": "white"
           },
           "zaxis": {
            "backgroundcolor": "#E5ECF6",
            "gridcolor": "white",
            "gridwidth": 2,
            "linecolor": "white",
            "showbackground": true,
            "ticks": "",
            "zerolinecolor": "white"
           }
          },
          "shapedefaults": {
           "line": {
            "color": "#2a3f5f"
           }
          },
          "ternary": {
           "aaxis": {
            "gridcolor": "white",
            "linecolor": "white",
            "ticks": ""
           },
           "baxis": {
            "gridcolor": "white",
            "linecolor": "white",
            "ticks": ""
           },
           "bgcolor": "#E5ECF6",
           "caxis": {
            "gridcolor": "white",
            "linecolor": "white",
            "ticks": ""
           }
          },
          "title": {
           "x": 0.05
          },
          "xaxis": {
           "automargin": true,
           "gridcolor": "white",
           "linecolor": "white",
           "ticks": "",
           "title": {
            "standoff": 15
           },
           "zerolinecolor": "white",
           "zerolinewidth": 2
          },
          "yaxis": {
           "automargin": true,
           "gridcolor": "white",
           "linecolor": "white",
           "ticks": "",
           "title": {
            "standoff": 15
           },
           "zerolinecolor": "white",
           "zerolinewidth": 2
          }
         }
        },
        "width": 500,
        "xaxis": {
         "visible": false
        },
        "yaxis": {
         "visible": false
        }
       }
      },
      "text/html": [
       "<div>                            <div id=\"344fb731-0f63-4cbd-9e12-531da1cd2691\" class=\"plotly-graph-div\" style=\"height:400px; width:500px;\"></div>            <script type=\"text/javascript\">                require([\"plotly\"], function(Plotly) {                    window.PLOTLYENV=window.PLOTLYENV || {};                                    if (document.getElementById(\"344fb731-0f63-4cbd-9e12-531da1cd2691\")) {                    Plotly.newPlot(                        \"344fb731-0f63-4cbd-9e12-531da1cd2691\",                        [{\"line\":{\"color\":\"black\",\"shape\":\"spline\",\"smoothing\":1.3,\"width\":1.25},\"mode\":\"lines\",\"showlegend\":false,\"x\":[null,null,0,0,null,0,0.0016635914678559442,null,0.0016635914678559442,0.0016635914678559442,null,0.0016635914678559442,0.005369545277741107,null,0.005369545277741107,0.005369545277741107,null,0.005369545277741107,0.031153370343094598,null,0.031153370343094598,0.031153370343094598,null,0.031153370343094598,0.08631195081779765,null,0.031153370343094598,0.031153370343094598,null,0.031153370343094598,0.11372226606590709,null,0.005369545277741107,0.005369545277741107,null,0.005369545277741107,0.07956551945410295,null,0.0016635914678559442,0.0016635914678559442,null,0.0016635914678559442,0.014656744829611266,null,0.014656744829611266,0.014656744829611266,null,0.014656744829611266,0.048499823687140065,null,0.014656744829611266,0.014656744829611266,null,0.014656744829611266,0.058183439825163115,null,0,0,null,0,0.001987169996462769,null,0.001987169996462769,0.001987169996462769,null,0.001987169996462769,0.02054537383090987,null,0.02054537383090987,0.02054537383090987,null,0.02054537383090987,0.025261259625981795,null,0.025261259625981795,0.025261259625981795,null,0.025261259625981795,0.0333020198570895,null,0.0333020198570895,0.0333020198570895,null,0.0333020198570895,0.03681450578997773,null,0.03681450578997773,0.03681450578997773,null,0.03681450578997773,0.059591157700027056,null,0.059591157700027056,0.059591157700027056,null,0.059591157700027056,0.07066369595496988,null,0.059591157700027056,0.059591157700027056,null,0.059591157700027056,0.07465626505796832,null,0.03681450578997773,0.03681450578997773,null,0.03681450578997773,0.08741296114249245,null,0.0333020198570895,0.0333020198570895,null,0.0333020198570895,0.11702881314270744,null,0.025261259625981795,0.025261259625981795,null,0.025261259625981795,0.09953929051305313,null,0.02054537383090987,0.02054537383090987,null,0.02054537383090987,0.07899050274522948,null,0.001987169996462769,0.001987169996462769,null,0.001987169996462769,0.12245874195312466,null,0,0,null,0,0.011357615613402238,null,0.011357615613402238,0.011357615613402238,null,0.011357615613402238,0.014781839705895783,null,0.014781839705895783,0.014781839705895783,null,0.014781839705895783,0.025442025128467643,null,0.025442025128467643,0.025442025128467643,null,0.025442025128467643,0.030395867088245262,null,0.030395867088245262,0.030395867088245262,null,0.030395867088245262,0.08717485111392888,null,0.030395867088245262,0.030395867088245262,null,0.030395867088245262,0.20906726393108255,null,0.025442025128467643,0.025442025128467643,null,0.025442025128467643,0.034272101380184446,null,0.034272101380184446,0.034272101380184446,null,0.034272101380184446,0.07334674212490472,null,0.034272101380184446,0.034272101380184446,null,0.034272101380184446,0.0873227799527246,null,0.014781839705895783,0.014781839705895783,null,0.014781839705895783,0.06090021381372198,null,0.06090021381372198,0.06090021381372198,null,0.06090021381372198,0.07887378276114326,null,0.06090021381372198,0.06090021381372198,null,0.06090021381372198,0.09681516616874367,null,0.011357615613402238,0.011357615613402238,null,0.011357615613402238,0.017892621141320973,null,0.017892621141320973,0.017892621141320973,null,0.017892621141320973,0.0766458813943752,null,0.017892621141320973,0.017892621141320973,null,0.017892621141320973,0.08547259739006041,null],\"y\":[null,null,-0.6703125000000001,9.2625,null,9.2625,9.2625,null,9.2625,10.725,null,10.725,10.725,null,10.725,11.7,null,11.7,11.7,null,11.7,12.35,null,12.35,12.35,null,11.7,11.05,null,11.05,11.05,null,10.725,9.75,null,9.75,9.75,null,9.2625,7.800000000000001,null,7.800000000000001,7.800000000000001,null,7.800000000000001,8.450000000000001,null,8.450000000000001,8.450000000000001,null,7.800000000000001,7.15,null,7.15,7.15,null,-0.6703125000000001,-0.6703125000000001,null,-0.6703125000000001,-0.6703125000000001,null,-0.6703125000000001,0.609375,null,0.609375,0.609375,null,0.609375,1.86875,null,1.86875,1.86875,null,1.86875,3.0875,null,3.0875,3.0875,null,3.0875,4.225,null,4.225,4.225,null,4.225,5.2,null,5.2,5.2,null,5.2,5.8500000000000005,null,5.8500000000000005,5.8500000000000005,null,5.2,4.55,null,4.55,4.55,null,4.225,3.25,null,3.25,3.25,null,3.0875,1.9500000000000002,null,1.9500000000000002,1.9500000000000002,null,1.86875,0.65,null,0.65,0.65,null,0.609375,-0.65,null,-0.65,-0.65,null,-0.6703125000000001,-1.9500000000000002,null,-1.9500000000000002,-1.9500000000000002,null,-0.6703125000000001,-9.425,null,-9.425,-9.425,null,-9.425,-7.15,null,-7.15,-7.15,null,-7.15,-5.2,null,-5.2,-5.2,null,-5.2,-3.9,null,-3.9,-3.9,null,-3.9,-3.25,null,-3.25,-3.25,null,-3.9,-4.55,null,-4.55,-4.55,null,-5.2,-6.5,null,-6.5,-6.5,null,-6.5,-5.8500000000000005,null,-5.8500000000000005,-5.8500000000000005,null,-6.5,-7.15,null,-7.15,-7.15,null,-7.15,-9.100000000000001,null,-9.100000000000001,-9.100000000000001,null,-9.100000000000001,-8.450000000000001,null,-8.450000000000001,-8.450000000000001,null,-9.100000000000001,-9.75,null,-9.75,-9.75,null,-9.425,-11.7,null,-11.7,-11.7,null,-11.7,-11.05,null,-11.05,-11.05,null,-11.7,-12.35,null,-12.35,-12.35,null],\"type\":\"scatter\"},{\"hoverinfo\":\"text\",\"marker\":{\"color\":\"black\",\"size\":3,\"symbol\":\"circle\"},\"mode\":\"markers\",\"showlegend\":false,\"text\":[\"root\",\"edge.16\",\"edge.14\",\"edge.6\",\"Cat\",\"Dog\",\"Pangolin\",\"edge.7\",\"Rhino\",\"Horse\",\"edge.15\",\"edge.2\",\"edge.10\",\"edge.1\",\"edge.13\",\"edge.0\",\"HumpbackW\",\"SpermWhale\",\"Hippo\",\"Cow\",\"Pig\",\"Llama\",\"Mole\",\"edge.5\",\"edge.11\",\"edge.3\",\"edge.12\",\"TombBat\",\"RoundEare\",\"edge.9\",\"FreeTaile\",\"LittleBro\",\"edge.4\",\"FlyingFox\",\"DogFaced\",\"edge.8\",\"LeafNose\",\"FalseVamp\"],\"x\":[0,0.0016635914678559442,0.005369545277741107,0.031153370343094598,0.08631195081779765,0.11372226606590709,0.07956551945410295,0.014656744829611266,0.048499823687140065,0.058183439825163115,0.001987169996462769,0.02054537383090987,0.025261259625981795,0.0333020198570895,0.03681450578997773,0.059591157700027056,0.07066369595496988,0.07465626505796832,0.08741296114249245,0.11702881314270744,0.09953929051305313,0.07899050274522948,0.12245874195312466,0.011357615613402238,0.014781839705895783,0.025442025128467643,0.030395867088245262,0.08717485111392888,0.20906726393108255,0.034272101380184446,0.07334674212490472,0.0873227799527246,0.06090021381372198,0.07887378276114326,0.09681516616874367,0.017892621141320973,0.0766458813943752,0.08547259739006041],\"y\":[-0.6703125000000001,9.2625,10.725,11.7,12.35,11.05,9.75,7.800000000000001,8.450000000000001,7.15,-0.6703125000000001,0.609375,1.86875,3.0875,4.225,5.2,5.8500000000000005,4.55,3.25,1.9500000000000002,0.65,-0.65,-1.9500000000000002,-9.425,-7.15,-5.2,-3.9,-3.25,-4.55,-6.5,-5.8500000000000005,-7.15,-9.100000000000001,-8.450000000000001,-9.75,-11.7,-11.05,-12.35],\"type\":\"scatter\"}],                        {\"annotations\":[{\"font\":{\"family\":\"Inconsolata, monospace\",\"size\":12},\"showarrow\":false,\"text\":\"Cat\",\"textangle\":0,\"x\":0.09153863241607471,\"xanchor\":\"left\",\"xref\":\"x\",\"y\":12.35,\"yref\":\"y\"},{\"font\":{\"family\":\"Inconsolata, monospace\",\"size\":12},\"showarrow\":false,\"text\":\"Dog\",\"textangle\":0,\"x\":0.11894894766418415,\"xanchor\":\"left\",\"xref\":\"x\",\"y\":11.05,\"yref\":\"y\"},{\"font\":{\"family\":\"Inconsolata, monospace\",\"size\":12},\"showarrow\":false,\"text\":\"Pangolin\",\"textangle\":0,\"x\":0.08479220105238001,\"xanchor\":\"left\",\"xref\":\"x\",\"y\":9.75,\"yref\":\"y\"},{\"font\":{\"family\":\"Inconsolata, monospace\",\"size\":12},\"showarrow\":false,\"text\":\"Rhino\",\"textangle\":0,\"x\":0.05372650528541713,\"xanchor\":\"left\",\"xref\":\"x\",\"y\":8.450000000000001,\"yref\":\"y\"},{\"font\":{\"family\":\"Inconsolata, monospace\",\"size\":12},\"showarrow\":false,\"text\":\"Horse\",\"textangle\":0,\"x\":0.06341012142344019,\"xanchor\":\"left\",\"xref\":\"x\",\"y\":7.15,\"yref\":\"y\"},{\"font\":{\"family\":\"Inconsolata, monospace\",\"size\":12},\"showarrow\":false,\"text\":\"HumpbackW\",\"textangle\":0,\"x\":0.07589037755324694,\"xanchor\":\"left\",\"xref\":\"x\",\"y\":5.8500000000000005,\"yref\":\"y\"},{\"font\":{\"family\":\"Inconsolata, monospace\",\"size\":12},\"showarrow\":false,\"text\":\"SpermWhale\",\"textangle\":0,\"x\":0.07988294665624539,\"xanchor\":\"left\",\"xref\":\"x\",\"y\":4.55,\"yref\":\"y\"},{\"font\":{\"family\":\"Inconsolata, monospace\",\"size\":12},\"showarrow\":false,\"text\":\"Hippo\",\"textangle\":0,\"x\":0.09263964274076951,\"xanchor\":\"left\",\"xref\":\"x\",\"y\":3.25,\"yref\":\"y\"},{\"font\":{\"family\":\"Inconsolata, monospace\",\"size\":12},\"showarrow\":false,\"text\":\"Cow\",\"textangle\":0,\"x\":0.1222554947409845,\"xanchor\":\"left\",\"xref\":\"x\",\"y\":1.9500000000000002,\"yref\":\"y\"},{\"font\":{\"family\":\"Inconsolata, monospace\",\"size\":12},\"showarrow\":false,\"text\":\"Pig\",\"textangle\":0,\"x\":0.1047659721113302,\"xanchor\":\"left\",\"xref\":\"x\",\"y\":0.65,\"yref\":\"y\"},{\"font\":{\"family\":\"Inconsolata, monospace\",\"size\":12},\"showarrow\":false,\"text\":\"Llama\",\"textangle\":0,\"x\":0.08421718434350654,\"xanchor\":\"left\",\"xref\":\"x\",\"y\":-0.65,\"yref\":\"y\"},{\"font\":{\"family\":\"Inconsolata, monospace\",\"size\":12},\"showarrow\":false,\"text\":\"Mole\",\"textangle\":0,\"x\":0.12768542355140172,\"xanchor\":\"left\",\"xref\":\"x\",\"y\":-1.9500000000000002,\"yref\":\"y\"},{\"font\":{\"family\":\"Inconsolata, monospace\",\"size\":12},\"showarrow\":false,\"text\":\"TombBat\",\"textangle\":0,\"x\":0.09240153271220594,\"xanchor\":\"left\",\"xref\":\"x\",\"y\":-3.25,\"yref\":\"y\"},{\"font\":{\"family\":\"Inconsolata, monospace\",\"size\":12},\"showarrow\":false,\"text\":\"RoundEare\",\"textangle\":0,\"x\":0.2142939455293596,\"xanchor\":\"left\",\"xref\":\"x\",\"y\":-4.55,\"yref\":\"y\"},{\"font\":{\"family\":\"Inconsolata, monospace\",\"size\":12},\"showarrow\":false,\"text\":\"FreeTaile\",\"textangle\":0,\"x\":0.07857342372318178,\"xanchor\":\"left\",\"xref\":\"x\",\"y\":-5.8500000000000005,\"yref\":\"y\"},{\"font\":{\"family\":\"Inconsolata, monospace\",\"size\":12},\"showarrow\":false,\"text\":\"LittleBro\",\"textangle\":0,\"x\":0.09254946155100166,\"xanchor\":\"left\",\"xref\":\"x\",\"y\":-7.15,\"yref\":\"y\"},{\"font\":{\"family\":\"Inconsolata, monospace\",\"size\":12},\"showarrow\":false,\"text\":\"FlyingFox\",\"textangle\":0,\"x\":0.08410046435942033,\"xanchor\":\"left\",\"xref\":\"x\",\"y\":-8.450000000000001,\"yref\":\"y\"},{\"font\":{\"family\":\"Inconsolata, monospace\",\"size\":12},\"showarrow\":false,\"text\":\"DogFaced\",\"textangle\":0,\"x\":0.10204184776702073,\"xanchor\":\"left\",\"xref\":\"x\",\"y\":-9.75,\"yref\":\"y\"},{\"font\":{\"family\":\"Inconsolata, monospace\",\"size\":12},\"showarrow\":false,\"text\":\"LeafNose\",\"textangle\":0,\"x\":0.08187256299265226,\"xanchor\":\"left\",\"xref\":\"x\",\"y\":-11.05,\"yref\":\"y\"},{\"font\":{\"family\":\"Inconsolata, monospace\",\"size\":12},\"showarrow\":false,\"text\":\"FalseVamp\",\"textangle\":0,\"x\":0.09069927898833748,\"xanchor\":\"left\",\"xref\":\"x\",\"y\":-12.35,\"yref\":\"y\"},{\"font\":{\"family\":\"Inconsolata, monospace\",\"size\":12},\"showarrow\":false,\"text\":\"0.24\",\"textangle\":0,\"x\":0.0016635914678559442,\"xanchor\":\"center\",\"xref\":\"x\",\"xshift\":-14,\"y\":9.2625,\"yref\":\"y\",\"yshift\":7},{\"font\":{\"family\":\"Inconsolata, monospace\",\"size\":12},\"showarrow\":false,\"text\":\"0.70\",\"textangle\":0,\"x\":0.005369545277741107,\"xanchor\":\"center\",\"xref\":\"x\",\"xshift\":-14,\"y\":10.725,\"yref\":\"y\",\"yshift\":7},{\"font\":{\"family\":\"Inconsolata, monospace\",\"size\":12},\"showarrow\":false,\"text\":\"0.29\",\"textangle\":0,\"x\":0.001987169996462769,\"xanchor\":\"center\",\"xref\":\"x\",\"xshift\":-14,\"y\":-0.6703125000000001,\"yref\":\"y\",\"yshift\":7},{\"font\":{\"family\":\"Inconsolata, monospace\",\"size\":12},\"showarrow\":false,\"text\":\"0.75\",\"textangle\":0,\"x\":0.03681450578997773,\"xanchor\":\"center\",\"xref\":\"x\",\"xshift\":-14,\"y\":4.225,\"yref\":\"y\",\"yshift\":7},{\"font\":{\"family\":\"Inconsolata, monospace\",\"size\":12},\"showarrow\":false,\"text\":\"0.76\",\"textangle\":0,\"x\":0.030395867088245262,\"xanchor\":\"center\",\"xref\":\"x\",\"xshift\":-14,\"y\":-3.9,\"yref\":\"y\",\"yshift\":7}],\"autosize\":true,\"font\":{\"family\":\"Balto\",\"size\":14},\"height\":400,\"hovermode\":\"closest\",\"margin\":{\"b\":50,\"l\":50,\"pad\":4,\"r\":50,\"t\":50},\"showlegend\":false,\"width\":500,\"xaxis\":{\"visible\":false},\"yaxis\":{\"visible\":false},\"template\":{\"data\":{\"histogram2dcontour\":[{\"type\":\"histogram2dcontour\",\"colorbar\":{\"outlinewidth\":0,\"ticks\":\"\"},\"colorscale\":[[0.0,\"#0d0887\"],[0.1111111111111111,\"#46039f\"],[0.2222222222222222,\"#7201a8\"],[0.3333333333333333,\"#9c179e\"],[0.4444444444444444,\"#bd3786\"],[0.5555555555555556,\"#d8576b\"],[0.6666666666666666,\"#ed7953\"],[0.7777777777777778,\"#fb9f3a\"],[0.8888888888888888,\"#fdca26\"],[1.0,\"#f0f921\"]]}],\"choropleth\":[{\"type\":\"choropleth\",\"colorbar\":{\"outlinewidth\":0,\"ticks\":\"\"}}],\"histogram2d\":[{\"type\":\"histogram2d\",\"colorbar\":{\"outlinewidth\":0,\"ticks\":\"\"},\"colorscale\":[[0.0,\"#0d0887\"],[0.1111111111111111,\"#46039f\"],[0.2222222222222222,\"#7201a8\"],[0.3333333333333333,\"#9c179e\"],[0.4444444444444444,\"#bd3786\"],[0.5555555555555556,\"#d8576b\"],[0.6666666666666666,\"#ed7953\"],[0.7777777777777778,\"#fb9f3a\"],[0.8888888888888888,\"#fdca26\"],[1.0,\"#f0f921\"]]}],\"heatmap\":[{\"type\":\"heatmap\",\"colorbar\":{\"outlinewidth\":0,\"ticks\":\"\"},\"colorscale\":[[0.0,\"#0d0887\"],[0.1111111111111111,\"#46039f\"],[0.2222222222222222,\"#7201a8\"],[0.3333333333333333,\"#9c179e\"],[0.4444444444444444,\"#bd3786\"],[0.5555555555555556,\"#d8576b\"],[0.6666666666666666,\"#ed7953\"],[0.7777777777777778,\"#fb9f3a\"],[0.8888888888888888,\"#fdca26\"],[1.0,\"#f0f921\"]]}],\"heatmapgl\":[{\"type\":\"heatmapgl\",\"colorbar\":{\"outlinewidth\":0,\"ticks\":\"\"},\"colorscale\":[[0.0,\"#0d0887\"],[0.1111111111111111,\"#46039f\"],[0.2222222222222222,\"#7201a8\"],[0.3333333333333333,\"#9c179e\"],[0.4444444444444444,\"#bd3786\"],[0.5555555555555556,\"#d8576b\"],[0.6666666666666666,\"#ed7953\"],[0.7777777777777778,\"#fb9f3a\"],[0.8888888888888888,\"#fdca26\"],[1.0,\"#f0f921\"]]}],\"contourcarpet\":[{\"type\":\"contourcarpet\",\"colorbar\":{\"outlinewidth\":0,\"ticks\":\"\"}}],\"contour\":[{\"type\":\"contour\",\"colorbar\":{\"outlinewidth\":0,\"ticks\":\"\"},\"colorscale\":[[0.0,\"#0d0887\"],[0.1111111111111111,\"#46039f\"],[0.2222222222222222,\"#7201a8\"],[0.3333333333333333,\"#9c179e\"],[0.4444444444444444,\"#bd3786\"],[0.5555555555555556,\"#d8576b\"],[0.6666666666666666,\"#ed7953\"],[0.7777777777777778,\"#fb9f3a\"],[0.8888888888888888,\"#fdca26\"],[1.0,\"#f0f921\"]]}],\"surface\":[{\"type\":\"surface\",\"colorbar\":{\"outlinewidth\":0,\"ticks\":\"\"},\"colorscale\":[[0.0,\"#0d0887\"],[0.1111111111111111,\"#46039f\"],[0.2222222222222222,\"#7201a8\"],[0.3333333333333333,\"#9c179e\"],[0.4444444444444444,\"#bd3786\"],[0.5555555555555556,\"#d8576b\"],[0.6666666666666666,\"#ed7953\"],[0.7777777777777778,\"#fb9f3a\"],[0.8888888888888888,\"#fdca26\"],[1.0,\"#f0f921\"]]}],\"mesh3d\":[{\"type\":\"mesh3d\",\"colorbar\":{\"outlinewidth\":0,\"ticks\":\"\"}}],\"scatter\":[{\"fillpattern\":{\"fillmode\":\"overlay\",\"size\":10,\"solidity\":0.2},\"type\":\"scatter\"}],\"parcoords\":[{\"type\":\"parcoords\",\"line\":{\"colorbar\":{\"outlinewidth\":0,\"ticks\":\"\"}}}],\"scatterpolargl\":[{\"type\":\"scatterpolargl\",\"marker\":{\"colorbar\":{\"outlinewidth\":0,\"ticks\":\"\"}}}],\"bar\":[{\"error_x\":{\"color\":\"#2a3f5f\"},\"error_y\":{\"color\":\"#2a3f5f\"},\"marker\":{\"line\":{\"color\":\"#E5ECF6\",\"width\":0.5},\"pattern\":{\"fillmode\":\"overlay\",\"size\":10,\"solidity\":0.2}},\"type\":\"bar\"}],\"scattergeo\":[{\"type\":\"scattergeo\",\"marker\":{\"colorbar\":{\"outlinewidth\":0,\"ticks\":\"\"}}}],\"scatterpolar\":[{\"type\":\"scatterpolar\",\"marker\":{\"colorbar\":{\"outlinewidth\":0,\"ticks\":\"\"}}}],\"histogram\":[{\"marker\":{\"pattern\":{\"fillmode\":\"overlay\",\"size\":10,\"solidity\":0.2}},\"type\":\"histogram\"}],\"scattergl\":[{\"type\":\"scattergl\",\"marker\":{\"colorbar\":{\"outlinewidth\":0,\"ticks\":\"\"}}}],\"scatter3d\":[{\"type\":\"scatter3d\",\"line\":{\"colorbar\":{\"outlinewidth\":0,\"ticks\":\"\"}},\"marker\":{\"colorbar\":{\"outlinewidth\":0,\"ticks\":\"\"}}}],\"scattermapbox\":[{\"type\":\"scattermapbox\",\"marker\":{\"colorbar\":{\"outlinewidth\":0,\"ticks\":\"\"}}}],\"scatterternary\":[{\"type\":\"scatterternary\",\"marker\":{\"colorbar\":{\"outlinewidth\":0,\"ticks\":\"\"}}}],\"scattercarpet\":[{\"type\":\"scattercarpet\",\"marker\":{\"colorbar\":{\"outlinewidth\":0,\"ticks\":\"\"}}}],\"carpet\":[{\"aaxis\":{\"endlinecolor\":\"#2a3f5f\",\"gridcolor\":\"white\",\"linecolor\":\"white\",\"minorgridcolor\":\"white\",\"startlinecolor\":\"#2a3f5f\"},\"baxis\":{\"endlinecolor\":\"#2a3f5f\",\"gridcolor\":\"white\",\"linecolor\":\"white\",\"minorgridcolor\":\"white\",\"startlinecolor\":\"#2a3f5f\"},\"type\":\"carpet\"}],\"table\":[{\"cells\":{\"fill\":{\"color\":\"#EBF0F8\"},\"line\":{\"color\":\"white\"}},\"header\":{\"fill\":{\"color\":\"#C8D4E3\"},\"line\":{\"color\":\"white\"}},\"type\":\"table\"}],\"barpolar\":[{\"marker\":{\"line\":{\"color\":\"#E5ECF6\",\"width\":0.5},\"pattern\":{\"fillmode\":\"overlay\",\"size\":10,\"solidity\":0.2}},\"type\":\"barpolar\"}],\"pie\":[{\"automargin\":true,\"type\":\"pie\"}]},\"layout\":{\"autotypenumbers\":\"strict\",\"colorway\":[\"#636efa\",\"#EF553B\",\"#00cc96\",\"#ab63fa\",\"#FFA15A\",\"#19d3f3\",\"#FF6692\",\"#B6E880\",\"#FF97FF\",\"#FECB52\"],\"font\":{\"color\":\"#2a3f5f\"},\"hovermode\":\"closest\",\"hoverlabel\":{\"align\":\"left\"},\"paper_bgcolor\":\"white\",\"plot_bgcolor\":\"#E5ECF6\",\"polar\":{\"bgcolor\":\"#E5ECF6\",\"angularaxis\":{\"gridcolor\":\"white\",\"linecolor\":\"white\",\"ticks\":\"\"},\"radialaxis\":{\"gridcolor\":\"white\",\"linecolor\":\"white\",\"ticks\":\"\"}},\"ternary\":{\"bgcolor\":\"#E5ECF6\",\"aaxis\":{\"gridcolor\":\"white\",\"linecolor\":\"white\",\"ticks\":\"\"},\"baxis\":{\"gridcolor\":\"white\",\"linecolor\":\"white\",\"ticks\":\"\"},\"caxis\":{\"gridcolor\":\"white\",\"linecolor\":\"white\",\"ticks\":\"\"}},\"coloraxis\":{\"colorbar\":{\"outlinewidth\":0,\"ticks\":\"\"}},\"colorscale\":{\"sequential\":[[0.0,\"#0d0887\"],[0.1111111111111111,\"#46039f\"],[0.2222222222222222,\"#7201a8\"],[0.3333333333333333,\"#9c179e\"],[0.4444444444444444,\"#bd3786\"],[0.5555555555555556,\"#d8576b\"],[0.6666666666666666,\"#ed7953\"],[0.7777777777777778,\"#fb9f3a\"],[0.8888888888888888,\"#fdca26\"],[1.0,\"#f0f921\"]],\"sequentialminus\":[[0.0,\"#0d0887\"],[0.1111111111111111,\"#46039f\"],[0.2222222222222222,\"#7201a8\"],[0.3333333333333333,\"#9c179e\"],[0.4444444444444444,\"#bd3786\"],[0.5555555555555556,\"#d8576b\"],[0.6666666666666666,\"#ed7953\"],[0.7777777777777778,\"#fb9f3a\"],[0.8888888888888888,\"#fdca26\"],[1.0,\"#f0f921\"]],\"diverging\":[[0,\"#8e0152\"],[0.1,\"#c51b7d\"],[0.2,\"#de77ae\"],[0.3,\"#f1b6da\"],[0.4,\"#fde0ef\"],[0.5,\"#f7f7f7\"],[0.6,\"#e6f5d0\"],[0.7,\"#b8e186\"],[0.8,\"#7fbc41\"],[0.9,\"#4d9221\"],[1,\"#276419\"]]},\"xaxis\":{\"gridcolor\":\"white\",\"linecolor\":\"white\",\"ticks\":\"\",\"title\":{\"standoff\":15},\"zerolinecolor\":\"white\",\"automargin\":true,\"zerolinewidth\":2},\"yaxis\":{\"gridcolor\":\"white\",\"linecolor\":\"white\",\"ticks\":\"\",\"title\":{\"standoff\":15},\"zerolinecolor\":\"white\",\"automargin\":true,\"zerolinewidth\":2},\"scene\":{\"xaxis\":{\"backgroundcolor\":\"#E5ECF6\",\"gridcolor\":\"white\",\"linecolor\":\"white\",\"showbackground\":true,\"ticks\":\"\",\"zerolinecolor\":\"white\",\"gridwidth\":2},\"yaxis\":{\"backgroundcolor\":\"#E5ECF6\",\"gridcolor\":\"white\",\"linecolor\":\"white\",\"showbackground\":true,\"ticks\":\"\",\"zerolinecolor\":\"white\",\"gridwidth\":2},\"zaxis\":{\"backgroundcolor\":\"#E5ECF6\",\"gridcolor\":\"white\",\"linecolor\":\"white\",\"showbackground\":true,\"ticks\":\"\",\"zerolinecolor\":\"white\",\"gridwidth\":2}},\"shapedefaults\":{\"line\":{\"color\":\"#2a3f5f\"}},\"annotationdefaults\":{\"arrowcolor\":\"#2a3f5f\",\"arrowhead\":0,\"arrowwidth\":1},\"geo\":{\"bgcolor\":\"white\",\"landcolor\":\"#E5ECF6\",\"subunitcolor\":\"white\",\"showland\":true,\"showlakes\":true,\"lakecolor\":\"white\"},\"title\":{\"x\":0.05},\"mapbox\":{\"style\":\"light\"}}}},                        {\"responsive\": true}                    ).then(function(){\n",
       "\n",
       "var gd = document.getElementById('344fb731-0f63-4cbd-9e12-531da1cd2691');\n",
       "var x = new MutationObserver(function (mutations, observer) {{\n",
       "        var display = window.getComputedStyle(gd).display;\n",
       "        if (!display || display === 'none') {{\n",
       "            console.log([gd, 'removed!']);\n",
       "            Plotly.purge(gd);\n",
       "            observer.disconnect();\n",
       "        }}\n",
       "}});\n",
       "\n",
       "// Listen for the removal of the full notebook cells\n",
       "var notebookContainer = gd.closest('#notebook-container');\n",
       "if (notebookContainer) {{\n",
       "    x.observe(notebookContainer, {childList: true});\n",
       "}}\n",
       "\n",
       "// Listen for the clearing of the current output cell\n",
       "var outputEl = gd.closest('.output');\n",
       "if (outputEl) {{\n",
       "    x.observe(outputEl, {childList: true});\n",
       "}}\n",
       "\n",
       "                        })                };                });            </script>        </div>"
      ]
     },
     "metadata": {},
     "output_type": "display_data"
    }
   ],
   "source": [
    "from cogent3.app import io\n",
    "\n",
    "reader = io.load_json()\n",
    "\n",
    "tree = reader(\"data/tree-with-support.json\")\n",
    "fig = tree.get_figure(show_support=True, threshold=0.8)\n",
    "fig.scale_bar = None\n",
    "fig.show(width=500, height=400)"
   ]
  },
  {
   "cell_type": "code",
   "execution_count": 3,
   "id": "f09dbad1",
   "metadata": {
    "execution": {
     "iopub.execute_input": "2023-12-15T00:10:01.316058Z",
     "iopub.status.busy": "2023-12-15T00:10:01.315956Z",
     "iopub.status.idle": "2023-12-15T00:10:01.324190Z",
     "shell.execute_reply": "2023-12-15T00:10:01.323972Z"
    }
   },
   "outputs": [
    {
     "data": {
      "text/html": [
       "<script type=\"text/javascript\">\n",
       "window.PlotlyConfig = {MathJaxConfig: 'local'};\n",
       "if (window.MathJax && window.MathJax.Hub && window.MathJax.Hub.Config) {window.MathJax.Hub.Config({SVG: {font: \"STIX-Web\"}});}\n",
       "if (typeof require !== 'undefined') {\n",
       "require.undef(\"plotly\");\n",
       "requirejs.config({\n",
       "    paths: {\n",
       "        'plotly': ['https://cdn.plot.ly/plotly-2.20.0.min']\n",
       "    }\n",
       "});\n",
       "require(['plotly'], function(Plotly) {\n",
       "    window._Plotly = Plotly;\n",
       "});\n",
       "}\n",
       "</script>\n"
      ]
     },
     "metadata": {},
     "output_type": "display_data"
    },
    {
     "data": {
      "application/vnd.plotly.v1+json": {
       "config": {
        "plotlyServerURL": "https://plot.ly"
       },
       "data": [
        {
         "line": {
          "color": "black",
          "shape": "spline",
          "smoothing": 1.3,
          "width": 1.25
         },
         "mode": "lines",
         "showlegend": false,
         "type": "scatter",
         "x": [
          null,
          null,
          0,
          0,
          null,
          0,
          0.0016635914678559442,
          null,
          0.0016635914678559442,
          0.0016635914678559442,
          null,
          0.0016635914678559442,
          0.005369545277741107,
          null,
          0.005369545277741107,
          0.005369545277741107,
          null,
          0.005369545277741107,
          0.031153370343094598,
          null,
          0.031153370343094598,
          0.031153370343094598,
          null,
          0.031153370343094598,
          0.08631195081779765,
          null,
          0.031153370343094598,
          0.031153370343094598,
          null,
          0.031153370343094598,
          0.11372226606590709,
          null,
          0.005369545277741107,
          0.005369545277741107,
          null,
          0.005369545277741107,
          0.07956551945410295,
          null,
          0.0016635914678559442,
          0.0016635914678559442,
          null,
          0.0016635914678559442,
          0.014656744829611266,
          null,
          0.014656744829611266,
          0.014656744829611266,
          null,
          0.014656744829611266,
          0.048499823687140065,
          null,
          0.014656744829611266,
          0.014656744829611266,
          null,
          0.014656744829611266,
          0.058183439825163115,
          null,
          0,
          0,
          null,
          0,
          0.001987169996462769,
          null,
          0.001987169996462769,
          0.001987169996462769,
          null,
          0.001987169996462769,
          0.02054537383090987,
          null,
          0.02054537383090987,
          0.02054537383090987,
          null,
          0.02054537383090987,
          0.025261259625981795,
          null,
          0.025261259625981795,
          0.025261259625981795,
          null,
          0.025261259625981795,
          0.0333020198570895,
          null,
          0.0333020198570895,
          0.0333020198570895,
          null,
          0.0333020198570895,
          0.03681450578997773,
          null,
          0.03681450578997773,
          0.03681450578997773,
          null,
          0.03681450578997773,
          0.059591157700027056,
          null,
          0.059591157700027056,
          0.059591157700027056,
          null,
          0.059591157700027056,
          0.07066369595496988,
          null,
          0.059591157700027056,
          0.059591157700027056,
          null,
          0.059591157700027056,
          0.07465626505796832,
          null,
          0.03681450578997773,
          0.03681450578997773,
          null,
          0.03681450578997773,
          0.08741296114249245,
          null,
          0.0333020198570895,
          0.0333020198570895,
          null,
          0.0333020198570895,
          0.11702881314270744,
          null,
          0.025261259625981795,
          0.025261259625981795,
          null,
          0.025261259625981795,
          0.09953929051305313,
          null,
          0.02054537383090987,
          0.02054537383090987,
          null,
          0.02054537383090987,
          0.07899050274522948,
          null,
          0.001987169996462769,
          0.001987169996462769,
          null,
          0.001987169996462769,
          0.12245874195312466,
          null,
          0,
          0,
          null,
          0,
          0.011357615613402238,
          null,
          0.011357615613402238,
          0.011357615613402238,
          null,
          0.011357615613402238,
          0.014781839705895783,
          null,
          0.014781839705895783,
          0.014781839705895783,
          null,
          0.014781839705895783,
          0.025442025128467643,
          null,
          0.025442025128467643,
          0.025442025128467643,
          null,
          0.025442025128467643,
          0.030395867088245262,
          null,
          0.030395867088245262,
          0.030395867088245262,
          null,
          0.030395867088245262,
          0.08717485111392888,
          null,
          0.030395867088245262,
          0.030395867088245262,
          null,
          0.030395867088245262,
          0.20906726393108255,
          null,
          0.025442025128467643,
          0.025442025128467643,
          null,
          0.025442025128467643,
          0.034272101380184446,
          null,
          0.034272101380184446,
          0.034272101380184446,
          null,
          0.034272101380184446,
          0.07334674212490472,
          null,
          0.034272101380184446,
          0.034272101380184446,
          null,
          0.034272101380184446,
          0.0873227799527246,
          null,
          0.014781839705895783,
          0.014781839705895783,
          null,
          0.014781839705895783,
          0.06090021381372198,
          null,
          0.06090021381372198,
          0.06090021381372198,
          null,
          0.06090021381372198,
          0.07887378276114326,
          null,
          0.06090021381372198,
          0.06090021381372198,
          null,
          0.06090021381372198,
          0.09681516616874367,
          null,
          0.011357615613402238,
          0.011357615613402238,
          null,
          0.011357615613402238,
          0.017892621141320973,
          null,
          0.017892621141320973,
          0.017892621141320973,
          null,
          0.017892621141320973,
          0.0766458813943752,
          null,
          0.017892621141320973,
          0.017892621141320973,
          null,
          0.017892621141320973,
          0.08547259739006041,
          null
         ],
         "y": [
          null,
          null,
          -0.6703125000000001,
          9.2625,
          null,
          9.2625,
          9.2625,
          null,
          9.2625,
          10.725,
          null,
          10.725,
          10.725,
          null,
          10.725,
          11.7,
          null,
          11.7,
          11.7,
          null,
          11.7,
          12.35,
          null,
          12.35,
          12.35,
          null,
          11.7,
          11.05,
          null,
          11.05,
          11.05,
          null,
          10.725,
          9.75,
          null,
          9.75,
          9.75,
          null,
          9.2625,
          7.800000000000001,
          null,
          7.800000000000001,
          7.800000000000001,
          null,
          7.800000000000001,
          8.450000000000001,
          null,
          8.450000000000001,
          8.450000000000001,
          null,
          7.800000000000001,
          7.15,
          null,
          7.15,
          7.15,
          null,
          -0.6703125000000001,
          -0.6703125000000001,
          null,
          -0.6703125000000001,
          -0.6703125000000001,
          null,
          -0.6703125000000001,
          0.609375,
          null,
          0.609375,
          0.609375,
          null,
          0.609375,
          1.86875,
          null,
          1.86875,
          1.86875,
          null,
          1.86875,
          3.0875,
          null,
          3.0875,
          3.0875,
          null,
          3.0875,
          4.225,
          null,
          4.225,
          4.225,
          null,
          4.225,
          5.2,
          null,
          5.2,
          5.2,
          null,
          5.2,
          5.8500000000000005,
          null,
          5.8500000000000005,
          5.8500000000000005,
          null,
          5.2,
          4.55,
          null,
          4.55,
          4.55,
          null,
          4.225,
          3.25,
          null,
          3.25,
          3.25,
          null,
          3.0875,
          1.9500000000000002,
          null,
          1.9500000000000002,
          1.9500000000000002,
          null,
          1.86875,
          0.65,
          null,
          0.65,
          0.65,
          null,
          0.609375,
          -0.65,
          null,
          -0.65,
          -0.65,
          null,
          -0.6703125000000001,
          -1.9500000000000002,
          null,
          -1.9500000000000002,
          -1.9500000000000002,
          null,
          -0.6703125000000001,
          -9.425,
          null,
          -9.425,
          -9.425,
          null,
          -9.425,
          -7.15,
          null,
          -7.15,
          -7.15,
          null,
          -7.15,
          -5.2,
          null,
          -5.2,
          -5.2,
          null,
          -5.2,
          -3.9,
          null,
          -3.9,
          -3.9,
          null,
          -3.9,
          -3.25,
          null,
          -3.25,
          -3.25,
          null,
          -3.9,
          -4.55,
          null,
          -4.55,
          -4.55,
          null,
          -5.2,
          -6.5,
          null,
          -6.5,
          -6.5,
          null,
          -6.5,
          -5.8500000000000005,
          null,
          -5.8500000000000005,
          -5.8500000000000005,
          null,
          -6.5,
          -7.15,
          null,
          -7.15,
          -7.15,
          null,
          -7.15,
          -9.100000000000001,
          null,
          -9.100000000000001,
          -9.100000000000001,
          null,
          -9.100000000000001,
          -8.450000000000001,
          null,
          -8.450000000000001,
          -8.450000000000001,
          null,
          -9.100000000000001,
          -9.75,
          null,
          -9.75,
          -9.75,
          null,
          -9.425,
          -11.7,
          null,
          -11.7,
          -11.7,
          null,
          -11.7,
          -11.05,
          null,
          -11.05,
          -11.05,
          null,
          -11.7,
          -12.35,
          null,
          -12.35,
          -12.35,
          null
         ]
        },
        {
         "hoverinfo": "text",
         "marker": {
          "color": "black",
          "size": 3,
          "symbol": "circle"
         },
         "mode": "markers",
         "showlegend": false,
         "text": [
          "root",
          "edge.16",
          "edge.14",
          "edge.6",
          "Cat",
          "Dog",
          "Pangolin",
          "edge.7",
          "Rhino",
          "Horse",
          "edge.15",
          "edge.2",
          "edge.10",
          "edge.1",
          "edge.13",
          "edge.0",
          "HumpbackW",
          "SpermWhale",
          "Hippo",
          "Cow",
          "Pig",
          "Llama",
          "Mole",
          "edge.5",
          "edge.11",
          "edge.3",
          "edge.12",
          "TombBat",
          "RoundEare",
          "edge.9",
          "FreeTaile",
          "LittleBro",
          "edge.4",
          "FlyingFox",
          "DogFaced",
          "edge.8",
          "LeafNose",
          "FalseVamp"
         ],
         "type": "scatter",
         "x": [
          0,
          0.0016635914678559442,
          0.005369545277741107,
          0.031153370343094598,
          0.08631195081779765,
          0.11372226606590709,
          0.07956551945410295,
          0.014656744829611266,
          0.048499823687140065,
          0.058183439825163115,
          0.001987169996462769,
          0.02054537383090987,
          0.025261259625981795,
          0.0333020198570895,
          0.03681450578997773,
          0.059591157700027056,
          0.07066369595496988,
          0.07465626505796832,
          0.08741296114249245,
          0.11702881314270744,
          0.09953929051305313,
          0.07899050274522948,
          0.12245874195312466,
          0.011357615613402238,
          0.014781839705895783,
          0.025442025128467643,
          0.030395867088245262,
          0.08717485111392888,
          0.20906726393108255,
          0.034272101380184446,
          0.07334674212490472,
          0.0873227799527246,
          0.06090021381372198,
          0.07887378276114326,
          0.09681516616874367,
          0.017892621141320973,
          0.0766458813943752,
          0.08547259739006041
         ],
         "y": [
          -0.6703125000000001,
          9.2625,
          10.725,
          11.7,
          12.35,
          11.05,
          9.75,
          7.800000000000001,
          8.450000000000001,
          7.15,
          -0.6703125000000001,
          0.609375,
          1.86875,
          3.0875,
          4.225,
          5.2,
          5.8500000000000005,
          4.55,
          3.25,
          1.9500000000000002,
          0.65,
          -0.65,
          -1.9500000000000002,
          -9.425,
          -7.15,
          -5.2,
          -3.9,
          -3.25,
          -4.55,
          -6.5,
          -5.8500000000000005,
          -7.15,
          -9.100000000000001,
          -8.450000000000001,
          -9.75,
          -11.7,
          -11.05,
          -12.35
         ]
        }
       ],
       "layout": {
        "annotations": [
         {
          "font": {
           "family": "Inconsolata, monospace",
           "size": 12
          },
          "showarrow": false,
          "text": "Cat",
          "textangle": 0,
          "x": 0.09153863241607471,
          "xanchor": "left",
          "xref": "x",
          "y": 12.35,
          "yref": "y"
         },
         {
          "font": {
           "family": "Inconsolata, monospace",
           "size": 12
          },
          "showarrow": false,
          "text": "Dog",
          "textangle": 0,
          "x": 0.11894894766418415,
          "xanchor": "left",
          "xref": "x",
          "y": 11.05,
          "yref": "y"
         },
         {
          "font": {
           "family": "Inconsolata, monospace",
           "size": 12
          },
          "showarrow": false,
          "text": "Pangolin",
          "textangle": 0,
          "x": 0.08479220105238001,
          "xanchor": "left",
          "xref": "x",
          "y": 9.75,
          "yref": "y"
         },
         {
          "font": {
           "family": "Inconsolata, monospace",
           "size": 12
          },
          "showarrow": false,
          "text": "Rhino",
          "textangle": 0,
          "x": 0.05372650528541713,
          "xanchor": "left",
          "xref": "x",
          "y": 8.450000000000001,
          "yref": "y"
         },
         {
          "font": {
           "family": "Inconsolata, monospace",
           "size": 12
          },
          "showarrow": false,
          "text": "Horse",
          "textangle": 0,
          "x": 0.06341012142344019,
          "xanchor": "left",
          "xref": "x",
          "y": 7.15,
          "yref": "y"
         },
         {
          "font": {
           "family": "Inconsolata, monospace",
           "size": 12
          },
          "showarrow": false,
          "text": "HumpbackW",
          "textangle": 0,
          "x": 0.07589037755324694,
          "xanchor": "left",
          "xref": "x",
          "y": 5.8500000000000005,
          "yref": "y"
         },
         {
          "font": {
           "family": "Inconsolata, monospace",
           "size": 12
          },
          "showarrow": false,
          "text": "SpermWhale",
          "textangle": 0,
          "x": 0.07988294665624539,
          "xanchor": "left",
          "xref": "x",
          "y": 4.55,
          "yref": "y"
         },
         {
          "font": {
           "family": "Inconsolata, monospace",
           "size": 12
          },
          "showarrow": false,
          "text": "Hippo",
          "textangle": 0,
          "x": 0.09263964274076951,
          "xanchor": "left",
          "xref": "x",
          "y": 3.25,
          "yref": "y"
         },
         {
          "font": {
           "family": "Inconsolata, monospace",
           "size": 12
          },
          "showarrow": false,
          "text": "Cow",
          "textangle": 0,
          "x": 0.1222554947409845,
          "xanchor": "left",
          "xref": "x",
          "y": 1.9500000000000002,
          "yref": "y"
         },
         {
          "font": {
           "family": "Inconsolata, monospace",
           "size": 12
          },
          "showarrow": false,
          "text": "Pig",
          "textangle": 0,
          "x": 0.1047659721113302,
          "xanchor": "left",
          "xref": "x",
          "y": 0.65,
          "yref": "y"
         },
         {
          "font": {
           "family": "Inconsolata, monospace",
           "size": 12
          },
          "showarrow": false,
          "text": "Llama",
          "textangle": 0,
          "x": 0.08421718434350654,
          "xanchor": "left",
          "xref": "x",
          "y": -0.65,
          "yref": "y"
         },
         {
          "font": {
           "family": "Inconsolata, monospace",
           "size": 12
          },
          "showarrow": false,
          "text": "Mole",
          "textangle": 0,
          "x": 0.12768542355140172,
          "xanchor": "left",
          "xref": "x",
          "y": -1.9500000000000002,
          "yref": "y"
         },
         {
          "font": {
           "family": "Inconsolata, monospace",
           "size": 12
          },
          "showarrow": false,
          "text": "TombBat",
          "textangle": 0,
          "x": 0.09240153271220594,
          "xanchor": "left",
          "xref": "x",
          "y": -3.25,
          "yref": "y"
         },
         {
          "font": {
           "family": "Inconsolata, monospace",
           "size": 12
          },
          "showarrow": false,
          "text": "RoundEare",
          "textangle": 0,
          "x": 0.2142939455293596,
          "xanchor": "left",
          "xref": "x",
          "y": -4.55,
          "yref": "y"
         },
         {
          "font": {
           "family": "Inconsolata, monospace",
           "size": 12
          },
          "showarrow": false,
          "text": "FreeTaile",
          "textangle": 0,
          "x": 0.07857342372318178,
          "xanchor": "left",
          "xref": "x",
          "y": -5.8500000000000005,
          "yref": "y"
         },
         {
          "font": {
           "family": "Inconsolata, monospace",
           "size": 12
          },
          "showarrow": false,
          "text": "LittleBro",
          "textangle": 0,
          "x": 0.09254946155100166,
          "xanchor": "left",
          "xref": "x",
          "y": -7.15,
          "yref": "y"
         },
         {
          "font": {
           "family": "Inconsolata, monospace",
           "size": 12
          },
          "showarrow": false,
          "text": "FlyingFox",
          "textangle": 0,
          "x": 0.08410046435942033,
          "xanchor": "left",
          "xref": "x",
          "y": -8.450000000000001,
          "yref": "y"
         },
         {
          "font": {
           "family": "Inconsolata, monospace",
           "size": 12
          },
          "showarrow": false,
          "text": "DogFaced",
          "textangle": 0,
          "x": 0.10204184776702073,
          "xanchor": "left",
          "xref": "x",
          "y": -9.75,
          "yref": "y"
         },
         {
          "font": {
           "family": "Inconsolata, monospace",
           "size": 12
          },
          "showarrow": false,
          "text": "LeafNose",
          "textangle": 0,
          "x": 0.08187256299265226,
          "xanchor": "left",
          "xref": "x",
          "y": -11.05,
          "yref": "y"
         },
         {
          "font": {
           "family": "Inconsolata, monospace",
           "size": 12
          },
          "showarrow": false,
          "text": "FalseVamp",
          "textangle": 0,
          "x": 0.09069927898833748,
          "xanchor": "left",
          "xref": "x",
          "y": -12.35,
          "yref": "y"
         },
         {
          "font": {
           "family": "Inconsolata, monospace",
           "size": 12
          },
          "showarrow": false,
          "text": "0.24",
          "textangle": 0,
          "x": 0.0016635914678559442,
          "xanchor": "center",
          "xref": "x",
          "xshift": 15,
          "y": 9.2625,
          "yref": "y",
          "yshift": 0
         },
         {
          "font": {
           "family": "Inconsolata, monospace",
           "size": 12
          },
          "showarrow": false,
          "text": "0.70",
          "textangle": 0,
          "x": 0.005369545277741107,
          "xanchor": "center",
          "xref": "x",
          "xshift": 15,
          "y": 10.725,
          "yref": "y",
          "yshift": 0
         },
         {
          "font": {
           "family": "Inconsolata, monospace",
           "size": 12
          },
          "showarrow": false,
          "text": "0.29",
          "textangle": 0,
          "x": 0.001987169996462769,
          "xanchor": "center",
          "xref": "x",
          "xshift": 15,
          "y": -0.6703125000000001,
          "yref": "y",
          "yshift": 0
         },
         {
          "font": {
           "family": "Inconsolata, monospace",
           "size": 12
          },
          "showarrow": false,
          "text": "0.75",
          "textangle": 0,
          "x": 0.03681450578997773,
          "xanchor": "center",
          "xref": "x",
          "xshift": 15,
          "y": 4.225,
          "yref": "y",
          "yshift": 0
         },
         {
          "font": {
           "family": "Inconsolata, monospace",
           "size": 12
          },
          "showarrow": false,
          "text": "0.76",
          "textangle": 0,
          "x": 0.030395867088245262,
          "xanchor": "center",
          "xref": "x",
          "xshift": 15,
          "y": -3.9,
          "yref": "y",
          "yshift": 0
         }
        ],
        "autosize": true,
        "font": {
         "family": "Balto",
         "size": 14
        },
        "height": 400,
        "hovermode": "closest",
        "margin": {
         "b": 50,
         "l": 50,
         "pad": 4,
         "r": 50,
         "t": 50
        },
        "showlegend": false,
        "template": {
         "data": {
          "bar": [
           {
            "error_x": {
             "color": "#2a3f5f"
            },
            "error_y": {
             "color": "#2a3f5f"
            },
            "marker": {
             "line": {
              "color": "#E5ECF6",
              "width": 0.5
             },
             "pattern": {
              "fillmode": "overlay",
              "size": 10,
              "solidity": 0.2
             }
            },
            "type": "bar"
           }
          ],
          "barpolar": [
           {
            "marker": {
             "line": {
              "color": "#E5ECF6",
              "width": 0.5
             },
             "pattern": {
              "fillmode": "overlay",
              "size": 10,
              "solidity": 0.2
             }
            },
            "type": "barpolar"
           }
          ],
          "carpet": [
           {
            "aaxis": {
             "endlinecolor": "#2a3f5f",
             "gridcolor": "white",
             "linecolor": "white",
             "minorgridcolor": "white",
             "startlinecolor": "#2a3f5f"
            },
            "baxis": {
             "endlinecolor": "#2a3f5f",
             "gridcolor": "white",
             "linecolor": "white",
             "minorgridcolor": "white",
             "startlinecolor": "#2a3f5f"
            },
            "type": "carpet"
           }
          ],
          "choropleth": [
           {
            "colorbar": {
             "outlinewidth": 0,
             "ticks": ""
            },
            "type": "choropleth"
           }
          ],
          "contour": [
           {
            "colorbar": {
             "outlinewidth": 0,
             "ticks": ""
            },
            "colorscale": [
             [
              0.0,
              "#0d0887"
             ],
             [
              0.1111111111111111,
              "#46039f"
             ],
             [
              0.2222222222222222,
              "#7201a8"
             ],
             [
              0.3333333333333333,
              "#9c179e"
             ],
             [
              0.4444444444444444,
              "#bd3786"
             ],
             [
              0.5555555555555556,
              "#d8576b"
             ],
             [
              0.6666666666666666,
              "#ed7953"
             ],
             [
              0.7777777777777778,
              "#fb9f3a"
             ],
             [
              0.8888888888888888,
              "#fdca26"
             ],
             [
              1.0,
              "#f0f921"
             ]
            ],
            "type": "contour"
           }
          ],
          "contourcarpet": [
           {
            "colorbar": {
             "outlinewidth": 0,
             "ticks": ""
            },
            "type": "contourcarpet"
           }
          ],
          "heatmap": [
           {
            "colorbar": {
             "outlinewidth": 0,
             "ticks": ""
            },
            "colorscale": [
             [
              0.0,
              "#0d0887"
             ],
             [
              0.1111111111111111,
              "#46039f"
             ],
             [
              0.2222222222222222,
              "#7201a8"
             ],
             [
              0.3333333333333333,
              "#9c179e"
             ],
             [
              0.4444444444444444,
              "#bd3786"
             ],
             [
              0.5555555555555556,
              "#d8576b"
             ],
             [
              0.6666666666666666,
              "#ed7953"
             ],
             [
              0.7777777777777778,
              "#fb9f3a"
             ],
             [
              0.8888888888888888,
              "#fdca26"
             ],
             [
              1.0,
              "#f0f921"
             ]
            ],
            "type": "heatmap"
           }
          ],
          "heatmapgl": [
           {
            "colorbar": {
             "outlinewidth": 0,
             "ticks": ""
            },
            "colorscale": [
             [
              0.0,
              "#0d0887"
             ],
             [
              0.1111111111111111,
              "#46039f"
             ],
             [
              0.2222222222222222,
              "#7201a8"
             ],
             [
              0.3333333333333333,
              "#9c179e"
             ],
             [
              0.4444444444444444,
              "#bd3786"
             ],
             [
              0.5555555555555556,
              "#d8576b"
             ],
             [
              0.6666666666666666,
              "#ed7953"
             ],
             [
              0.7777777777777778,
              "#fb9f3a"
             ],
             [
              0.8888888888888888,
              "#fdca26"
             ],
             [
              1.0,
              "#f0f921"
             ]
            ],
            "type": "heatmapgl"
           }
          ],
          "histogram": [
           {
            "marker": {
             "pattern": {
              "fillmode": "overlay",
              "size": 10,
              "solidity": 0.2
             }
            },
            "type": "histogram"
           }
          ],
          "histogram2d": [
           {
            "colorbar": {
             "outlinewidth": 0,
             "ticks": ""
            },
            "colorscale": [
             [
              0.0,
              "#0d0887"
             ],
             [
              0.1111111111111111,
              "#46039f"
             ],
             [
              0.2222222222222222,
              "#7201a8"
             ],
             [
              0.3333333333333333,
              "#9c179e"
             ],
             [
              0.4444444444444444,
              "#bd3786"
             ],
             [
              0.5555555555555556,
              "#d8576b"
             ],
             [
              0.6666666666666666,
              "#ed7953"
             ],
             [
              0.7777777777777778,
              "#fb9f3a"
             ],
             [
              0.8888888888888888,
              "#fdca26"
             ],
             [
              1.0,
              "#f0f921"
             ]
            ],
            "type": "histogram2d"
           }
          ],
          "histogram2dcontour": [
           {
            "colorbar": {
             "outlinewidth": 0,
             "ticks": ""
            },
            "colorscale": [
             [
              0.0,
              "#0d0887"
             ],
             [
              0.1111111111111111,
              "#46039f"
             ],
             [
              0.2222222222222222,
              "#7201a8"
             ],
             [
              0.3333333333333333,
              "#9c179e"
             ],
             [
              0.4444444444444444,
              "#bd3786"
             ],
             [
              0.5555555555555556,
              "#d8576b"
             ],
             [
              0.6666666666666666,
              "#ed7953"
             ],
             [
              0.7777777777777778,
              "#fb9f3a"
             ],
             [
              0.8888888888888888,
              "#fdca26"
             ],
             [
              1.0,
              "#f0f921"
             ]
            ],
            "type": "histogram2dcontour"
           }
          ],
          "mesh3d": [
           {
            "colorbar": {
             "outlinewidth": 0,
             "ticks": ""
            },
            "type": "mesh3d"
           }
          ],
          "parcoords": [
           {
            "line": {
             "colorbar": {
              "outlinewidth": 0,
              "ticks": ""
             }
            },
            "type": "parcoords"
           }
          ],
          "pie": [
           {
            "automargin": true,
            "type": "pie"
           }
          ],
          "scatter": [
           {
            "fillpattern": {
             "fillmode": "overlay",
             "size": 10,
             "solidity": 0.2
            },
            "type": "scatter"
           }
          ],
          "scatter3d": [
           {
            "line": {
             "colorbar": {
              "outlinewidth": 0,
              "ticks": ""
             }
            },
            "marker": {
             "colorbar": {
              "outlinewidth": 0,
              "ticks": ""
             }
            },
            "type": "scatter3d"
           }
          ],
          "scattercarpet": [
           {
            "marker": {
             "colorbar": {
              "outlinewidth": 0,
              "ticks": ""
             }
            },
            "type": "scattercarpet"
           }
          ],
          "scattergeo": [
           {
            "marker": {
             "colorbar": {
              "outlinewidth": 0,
              "ticks": ""
             }
            },
            "type": "scattergeo"
           }
          ],
          "scattergl": [
           {
            "marker": {
             "colorbar": {
              "outlinewidth": 0,
              "ticks": ""
             }
            },
            "type": "scattergl"
           }
          ],
          "scattermapbox": [
           {
            "marker": {
             "colorbar": {
              "outlinewidth": 0,
              "ticks": ""
             }
            },
            "type": "scattermapbox"
           }
          ],
          "scatterpolar": [
           {
            "marker": {
             "colorbar": {
              "outlinewidth": 0,
              "ticks": ""
             }
            },
            "type": "scatterpolar"
           }
          ],
          "scatterpolargl": [
           {
            "marker": {
             "colorbar": {
              "outlinewidth": 0,
              "ticks": ""
             }
            },
            "type": "scatterpolargl"
           }
          ],
          "scatterternary": [
           {
            "marker": {
             "colorbar": {
              "outlinewidth": 0,
              "ticks": ""
             }
            },
            "type": "scatterternary"
           }
          ],
          "surface": [
           {
            "colorbar": {
             "outlinewidth": 0,
             "ticks": ""
            },
            "colorscale": [
             [
              0.0,
              "#0d0887"
             ],
             [
              0.1111111111111111,
              "#46039f"
             ],
             [
              0.2222222222222222,
              "#7201a8"
             ],
             [
              0.3333333333333333,
              "#9c179e"
             ],
             [
              0.4444444444444444,
              "#bd3786"
             ],
             [
              0.5555555555555556,
              "#d8576b"
             ],
             [
              0.6666666666666666,
              "#ed7953"
             ],
             [
              0.7777777777777778,
              "#fb9f3a"
             ],
             [
              0.8888888888888888,
              "#fdca26"
             ],
             [
              1.0,
              "#f0f921"
             ]
            ],
            "type": "surface"
           }
          ],
          "table": [
           {
            "cells": {
             "fill": {
              "color": "#EBF0F8"
             },
             "line": {
              "color": "white"
             }
            },
            "header": {
             "fill": {
              "color": "#C8D4E3"
             },
             "line": {
              "color": "white"
             }
            },
            "type": "table"
           }
          ]
         },
         "layout": {
          "annotationdefaults": {
           "arrowcolor": "#2a3f5f",
           "arrowhead": 0,
           "arrowwidth": 1
          },
          "autotypenumbers": "strict",
          "coloraxis": {
           "colorbar": {
            "outlinewidth": 0,
            "ticks": ""
           }
          },
          "colorscale": {
           "diverging": [
            [
             0,
             "#8e0152"
            ],
            [
             0.1,
             "#c51b7d"
            ],
            [
             0.2,
             "#de77ae"
            ],
            [
             0.3,
             "#f1b6da"
            ],
            [
             0.4,
             "#fde0ef"
            ],
            [
             0.5,
             "#f7f7f7"
            ],
            [
             0.6,
             "#e6f5d0"
            ],
            [
             0.7,
             "#b8e186"
            ],
            [
             0.8,
             "#7fbc41"
            ],
            [
             0.9,
             "#4d9221"
            ],
            [
             1,
             "#276419"
            ]
           ],
           "sequential": [
            [
             0.0,
             "#0d0887"
            ],
            [
             0.1111111111111111,
             "#46039f"
            ],
            [
             0.2222222222222222,
             "#7201a8"
            ],
            [
             0.3333333333333333,
             "#9c179e"
            ],
            [
             0.4444444444444444,
             "#bd3786"
            ],
            [
             0.5555555555555556,
             "#d8576b"
            ],
            [
             0.6666666666666666,
             "#ed7953"
            ],
            [
             0.7777777777777778,
             "#fb9f3a"
            ],
            [
             0.8888888888888888,
             "#fdca26"
            ],
            [
             1.0,
             "#f0f921"
            ]
           ],
           "sequentialminus": [
            [
             0.0,
             "#0d0887"
            ],
            [
             0.1111111111111111,
             "#46039f"
            ],
            [
             0.2222222222222222,
             "#7201a8"
            ],
            [
             0.3333333333333333,
             "#9c179e"
            ],
            [
             0.4444444444444444,
             "#bd3786"
            ],
            [
             0.5555555555555556,
             "#d8576b"
            ],
            [
             0.6666666666666666,
             "#ed7953"
            ],
            [
             0.7777777777777778,
             "#fb9f3a"
            ],
            [
             0.8888888888888888,
             "#fdca26"
            ],
            [
             1.0,
             "#f0f921"
            ]
           ]
          },
          "colorway": [
           "#636efa",
           "#EF553B",
           "#00cc96",
           "#ab63fa",
           "#FFA15A",
           "#19d3f3",
           "#FF6692",
           "#B6E880",
           "#FF97FF",
           "#FECB52"
          ],
          "font": {
           "color": "#2a3f5f"
          },
          "geo": {
           "bgcolor": "white",
           "lakecolor": "white",
           "landcolor": "#E5ECF6",
           "showlakes": true,
           "showland": true,
           "subunitcolor": "white"
          },
          "hoverlabel": {
           "align": "left"
          },
          "hovermode": "closest",
          "mapbox": {
           "style": "light"
          },
          "paper_bgcolor": "white",
          "plot_bgcolor": "#E5ECF6",
          "polar": {
           "angularaxis": {
            "gridcolor": "white",
            "linecolor": "white",
            "ticks": ""
           },
           "bgcolor": "#E5ECF6",
           "radialaxis": {
            "gridcolor": "white",
            "linecolor": "white",
            "ticks": ""
           }
          },
          "scene": {
           "xaxis": {
            "backgroundcolor": "#E5ECF6",
            "gridcolor": "white",
            "gridwidth": 2,
            "linecolor": "white",
            "showbackground": true,
            "ticks": "",
            "zerolinecolor": "white"
           },
           "yaxis": {
            "backgroundcolor": "#E5ECF6",
            "gridcolor": "white",
            "gridwidth": 2,
            "linecolor": "white",
            "showbackground": true,
            "ticks": "",
            "zerolinecolor": "white"
           },
           "zaxis": {
            "backgroundcolor": "#E5ECF6",
            "gridcolor": "white",
            "gridwidth": 2,
            "linecolor": "white",
            "showbackground": true,
            "ticks": "",
            "zerolinecolor": "white"
           }
          },
          "shapedefaults": {
           "line": {
            "color": "#2a3f5f"
           }
          },
          "ternary": {
           "aaxis": {
            "gridcolor": "white",
            "linecolor": "white",
            "ticks": ""
           },
           "baxis": {
            "gridcolor": "white",
            "linecolor": "white",
            "ticks": ""
           },
           "bgcolor": "#E5ECF6",
           "caxis": {
            "gridcolor": "white",
            "linecolor": "white",
            "ticks": ""
           }
          },
          "title": {
           "x": 0.05
          },
          "xaxis": {
           "automargin": true,
           "gridcolor": "white",
           "linecolor": "white",
           "ticks": "",
           "title": {
            "standoff": 15
           },
           "zerolinecolor": "white",
           "zerolinewidth": 2
          },
          "yaxis": {
           "automargin": true,
           "gridcolor": "white",
           "linecolor": "white",
           "ticks": "",
           "title": {
            "standoff": 15
           },
           "zerolinecolor": "white",
           "zerolinewidth": 2
          }
         }
        },
        "width": 500,
        "xaxis": {
         "visible": false
        },
        "yaxis": {
         "visible": false
        }
       }
      },
      "text/html": [
       "<div>                            <div id=\"56f02ec5-74eb-4aeb-8913-4e3e9836596f\" class=\"plotly-graph-div\" style=\"height:400px; width:500px;\"></div>            <script type=\"text/javascript\">                require([\"plotly\"], function(Plotly) {                    window.PLOTLYENV=window.PLOTLYENV || {};                                    if (document.getElementById(\"56f02ec5-74eb-4aeb-8913-4e3e9836596f\")) {                    Plotly.newPlot(                        \"56f02ec5-74eb-4aeb-8913-4e3e9836596f\",                        [{\"line\":{\"color\":\"black\",\"shape\":\"spline\",\"smoothing\":1.3,\"width\":1.25},\"mode\":\"lines\",\"showlegend\":false,\"x\":[null,null,0,0,null,0,0.0016635914678559442,null,0.0016635914678559442,0.0016635914678559442,null,0.0016635914678559442,0.005369545277741107,null,0.005369545277741107,0.005369545277741107,null,0.005369545277741107,0.031153370343094598,null,0.031153370343094598,0.031153370343094598,null,0.031153370343094598,0.08631195081779765,null,0.031153370343094598,0.031153370343094598,null,0.031153370343094598,0.11372226606590709,null,0.005369545277741107,0.005369545277741107,null,0.005369545277741107,0.07956551945410295,null,0.0016635914678559442,0.0016635914678559442,null,0.0016635914678559442,0.014656744829611266,null,0.014656744829611266,0.014656744829611266,null,0.014656744829611266,0.048499823687140065,null,0.014656744829611266,0.014656744829611266,null,0.014656744829611266,0.058183439825163115,null,0,0,null,0,0.001987169996462769,null,0.001987169996462769,0.001987169996462769,null,0.001987169996462769,0.02054537383090987,null,0.02054537383090987,0.02054537383090987,null,0.02054537383090987,0.025261259625981795,null,0.025261259625981795,0.025261259625981795,null,0.025261259625981795,0.0333020198570895,null,0.0333020198570895,0.0333020198570895,null,0.0333020198570895,0.03681450578997773,null,0.03681450578997773,0.03681450578997773,null,0.03681450578997773,0.059591157700027056,null,0.059591157700027056,0.059591157700027056,null,0.059591157700027056,0.07066369595496988,null,0.059591157700027056,0.059591157700027056,null,0.059591157700027056,0.07465626505796832,null,0.03681450578997773,0.03681450578997773,null,0.03681450578997773,0.08741296114249245,null,0.0333020198570895,0.0333020198570895,null,0.0333020198570895,0.11702881314270744,null,0.025261259625981795,0.025261259625981795,null,0.025261259625981795,0.09953929051305313,null,0.02054537383090987,0.02054537383090987,null,0.02054537383090987,0.07899050274522948,null,0.001987169996462769,0.001987169996462769,null,0.001987169996462769,0.12245874195312466,null,0,0,null,0,0.011357615613402238,null,0.011357615613402238,0.011357615613402238,null,0.011357615613402238,0.014781839705895783,null,0.014781839705895783,0.014781839705895783,null,0.014781839705895783,0.025442025128467643,null,0.025442025128467643,0.025442025128467643,null,0.025442025128467643,0.030395867088245262,null,0.030395867088245262,0.030395867088245262,null,0.030395867088245262,0.08717485111392888,null,0.030395867088245262,0.030395867088245262,null,0.030395867088245262,0.20906726393108255,null,0.025442025128467643,0.025442025128467643,null,0.025442025128467643,0.034272101380184446,null,0.034272101380184446,0.034272101380184446,null,0.034272101380184446,0.07334674212490472,null,0.034272101380184446,0.034272101380184446,null,0.034272101380184446,0.0873227799527246,null,0.014781839705895783,0.014781839705895783,null,0.014781839705895783,0.06090021381372198,null,0.06090021381372198,0.06090021381372198,null,0.06090021381372198,0.07887378276114326,null,0.06090021381372198,0.06090021381372198,null,0.06090021381372198,0.09681516616874367,null,0.011357615613402238,0.011357615613402238,null,0.011357615613402238,0.017892621141320973,null,0.017892621141320973,0.017892621141320973,null,0.017892621141320973,0.0766458813943752,null,0.017892621141320973,0.017892621141320973,null,0.017892621141320973,0.08547259739006041,null],\"y\":[null,null,-0.6703125000000001,9.2625,null,9.2625,9.2625,null,9.2625,10.725,null,10.725,10.725,null,10.725,11.7,null,11.7,11.7,null,11.7,12.35,null,12.35,12.35,null,11.7,11.05,null,11.05,11.05,null,10.725,9.75,null,9.75,9.75,null,9.2625,7.800000000000001,null,7.800000000000001,7.800000000000001,null,7.800000000000001,8.450000000000001,null,8.450000000000001,8.450000000000001,null,7.800000000000001,7.15,null,7.15,7.15,null,-0.6703125000000001,-0.6703125000000001,null,-0.6703125000000001,-0.6703125000000001,null,-0.6703125000000001,0.609375,null,0.609375,0.609375,null,0.609375,1.86875,null,1.86875,1.86875,null,1.86875,3.0875,null,3.0875,3.0875,null,3.0875,4.225,null,4.225,4.225,null,4.225,5.2,null,5.2,5.2,null,5.2,5.8500000000000005,null,5.8500000000000005,5.8500000000000005,null,5.2,4.55,null,4.55,4.55,null,4.225,3.25,null,3.25,3.25,null,3.0875,1.9500000000000002,null,1.9500000000000002,1.9500000000000002,null,1.86875,0.65,null,0.65,0.65,null,0.609375,-0.65,null,-0.65,-0.65,null,-0.6703125000000001,-1.9500000000000002,null,-1.9500000000000002,-1.9500000000000002,null,-0.6703125000000001,-9.425,null,-9.425,-9.425,null,-9.425,-7.15,null,-7.15,-7.15,null,-7.15,-5.2,null,-5.2,-5.2,null,-5.2,-3.9,null,-3.9,-3.9,null,-3.9,-3.25,null,-3.25,-3.25,null,-3.9,-4.55,null,-4.55,-4.55,null,-5.2,-6.5,null,-6.5,-6.5,null,-6.5,-5.8500000000000005,null,-5.8500000000000005,-5.8500000000000005,null,-6.5,-7.15,null,-7.15,-7.15,null,-7.15,-9.100000000000001,null,-9.100000000000001,-9.100000000000001,null,-9.100000000000001,-8.450000000000001,null,-8.450000000000001,-8.450000000000001,null,-9.100000000000001,-9.75,null,-9.75,-9.75,null,-9.425,-11.7,null,-11.7,-11.7,null,-11.7,-11.05,null,-11.05,-11.05,null,-11.7,-12.35,null,-12.35,-12.35,null],\"type\":\"scatter\"},{\"hoverinfo\":\"text\",\"marker\":{\"color\":\"black\",\"size\":3,\"symbol\":\"circle\"},\"mode\":\"markers\",\"showlegend\":false,\"text\":[\"root\",\"edge.16\",\"edge.14\",\"edge.6\",\"Cat\",\"Dog\",\"Pangolin\",\"edge.7\",\"Rhino\",\"Horse\",\"edge.15\",\"edge.2\",\"edge.10\",\"edge.1\",\"edge.13\",\"edge.0\",\"HumpbackW\",\"SpermWhale\",\"Hippo\",\"Cow\",\"Pig\",\"Llama\",\"Mole\",\"edge.5\",\"edge.11\",\"edge.3\",\"edge.12\",\"TombBat\",\"RoundEare\",\"edge.9\",\"FreeTaile\",\"LittleBro\",\"edge.4\",\"FlyingFox\",\"DogFaced\",\"edge.8\",\"LeafNose\",\"FalseVamp\"],\"x\":[0,0.0016635914678559442,0.005369545277741107,0.031153370343094598,0.08631195081779765,0.11372226606590709,0.07956551945410295,0.014656744829611266,0.048499823687140065,0.058183439825163115,0.001987169996462769,0.02054537383090987,0.025261259625981795,0.0333020198570895,0.03681450578997773,0.059591157700027056,0.07066369595496988,0.07465626505796832,0.08741296114249245,0.11702881314270744,0.09953929051305313,0.07899050274522948,0.12245874195312466,0.011357615613402238,0.014781839705895783,0.025442025128467643,0.030395867088245262,0.08717485111392888,0.20906726393108255,0.034272101380184446,0.07334674212490472,0.0873227799527246,0.06090021381372198,0.07887378276114326,0.09681516616874367,0.017892621141320973,0.0766458813943752,0.08547259739006041],\"y\":[-0.6703125000000001,9.2625,10.725,11.7,12.35,11.05,9.75,7.800000000000001,8.450000000000001,7.15,-0.6703125000000001,0.609375,1.86875,3.0875,4.225,5.2,5.8500000000000005,4.55,3.25,1.9500000000000002,0.65,-0.65,-1.9500000000000002,-9.425,-7.15,-5.2,-3.9,-3.25,-4.55,-6.5,-5.8500000000000005,-7.15,-9.100000000000001,-8.450000000000001,-9.75,-11.7,-11.05,-12.35],\"type\":\"scatter\"}],                        {\"annotations\":[{\"font\":{\"family\":\"Inconsolata, monospace\",\"size\":12},\"showarrow\":false,\"text\":\"Cat\",\"textangle\":0,\"x\":0.09153863241607471,\"xanchor\":\"left\",\"xref\":\"x\",\"y\":12.35,\"yref\":\"y\"},{\"font\":{\"family\":\"Inconsolata, monospace\",\"size\":12},\"showarrow\":false,\"text\":\"Dog\",\"textangle\":0,\"x\":0.11894894766418415,\"xanchor\":\"left\",\"xref\":\"x\",\"y\":11.05,\"yref\":\"y\"},{\"font\":{\"family\":\"Inconsolata, monospace\",\"size\":12},\"showarrow\":false,\"text\":\"Pangolin\",\"textangle\":0,\"x\":0.08479220105238001,\"xanchor\":\"left\",\"xref\":\"x\",\"y\":9.75,\"yref\":\"y\"},{\"font\":{\"family\":\"Inconsolata, monospace\",\"size\":12},\"showarrow\":false,\"text\":\"Rhino\",\"textangle\":0,\"x\":0.05372650528541713,\"xanchor\":\"left\",\"xref\":\"x\",\"y\":8.450000000000001,\"yref\":\"y\"},{\"font\":{\"family\":\"Inconsolata, monospace\",\"size\":12},\"showarrow\":false,\"text\":\"Horse\",\"textangle\":0,\"x\":0.06341012142344019,\"xanchor\":\"left\",\"xref\":\"x\",\"y\":7.15,\"yref\":\"y\"},{\"font\":{\"family\":\"Inconsolata, monospace\",\"size\":12},\"showarrow\":false,\"text\":\"HumpbackW\",\"textangle\":0,\"x\":0.07589037755324694,\"xanchor\":\"left\",\"xref\":\"x\",\"y\":5.8500000000000005,\"yref\":\"y\"},{\"font\":{\"family\":\"Inconsolata, monospace\",\"size\":12},\"showarrow\":false,\"text\":\"SpermWhale\",\"textangle\":0,\"x\":0.07988294665624539,\"xanchor\":\"left\",\"xref\":\"x\",\"y\":4.55,\"yref\":\"y\"},{\"font\":{\"family\":\"Inconsolata, monospace\",\"size\":12},\"showarrow\":false,\"text\":\"Hippo\",\"textangle\":0,\"x\":0.09263964274076951,\"xanchor\":\"left\",\"xref\":\"x\",\"y\":3.25,\"yref\":\"y\"},{\"font\":{\"family\":\"Inconsolata, monospace\",\"size\":12},\"showarrow\":false,\"text\":\"Cow\",\"textangle\":0,\"x\":0.1222554947409845,\"xanchor\":\"left\",\"xref\":\"x\",\"y\":1.9500000000000002,\"yref\":\"y\"},{\"font\":{\"family\":\"Inconsolata, monospace\",\"size\":12},\"showarrow\":false,\"text\":\"Pig\",\"textangle\":0,\"x\":0.1047659721113302,\"xanchor\":\"left\",\"xref\":\"x\",\"y\":0.65,\"yref\":\"y\"},{\"font\":{\"family\":\"Inconsolata, monospace\",\"size\":12},\"showarrow\":false,\"text\":\"Llama\",\"textangle\":0,\"x\":0.08421718434350654,\"xanchor\":\"left\",\"xref\":\"x\",\"y\":-0.65,\"yref\":\"y\"},{\"font\":{\"family\":\"Inconsolata, monospace\",\"size\":12},\"showarrow\":false,\"text\":\"Mole\",\"textangle\":0,\"x\":0.12768542355140172,\"xanchor\":\"left\",\"xref\":\"x\",\"y\":-1.9500000000000002,\"yref\":\"y\"},{\"font\":{\"family\":\"Inconsolata, monospace\",\"size\":12},\"showarrow\":false,\"text\":\"TombBat\",\"textangle\":0,\"x\":0.09240153271220594,\"xanchor\":\"left\",\"xref\":\"x\",\"y\":-3.25,\"yref\":\"y\"},{\"font\":{\"family\":\"Inconsolata, monospace\",\"size\":12},\"showarrow\":false,\"text\":\"RoundEare\",\"textangle\":0,\"x\":0.2142939455293596,\"xanchor\":\"left\",\"xref\":\"x\",\"y\":-4.55,\"yref\":\"y\"},{\"font\":{\"family\":\"Inconsolata, monospace\",\"size\":12},\"showarrow\":false,\"text\":\"FreeTaile\",\"textangle\":0,\"x\":0.07857342372318178,\"xanchor\":\"left\",\"xref\":\"x\",\"y\":-5.8500000000000005,\"yref\":\"y\"},{\"font\":{\"family\":\"Inconsolata, monospace\",\"size\":12},\"showarrow\":false,\"text\":\"LittleBro\",\"textangle\":0,\"x\":0.09254946155100166,\"xanchor\":\"left\",\"xref\":\"x\",\"y\":-7.15,\"yref\":\"y\"},{\"font\":{\"family\":\"Inconsolata, monospace\",\"size\":12},\"showarrow\":false,\"text\":\"FlyingFox\",\"textangle\":0,\"x\":0.08410046435942033,\"xanchor\":\"left\",\"xref\":\"x\",\"y\":-8.450000000000001,\"yref\":\"y\"},{\"font\":{\"family\":\"Inconsolata, monospace\",\"size\":12},\"showarrow\":false,\"text\":\"DogFaced\",\"textangle\":0,\"x\":0.10204184776702073,\"xanchor\":\"left\",\"xref\":\"x\",\"y\":-9.75,\"yref\":\"y\"},{\"font\":{\"family\":\"Inconsolata, monospace\",\"size\":12},\"showarrow\":false,\"text\":\"LeafNose\",\"textangle\":0,\"x\":0.08187256299265226,\"xanchor\":\"left\",\"xref\":\"x\",\"y\":-11.05,\"yref\":\"y\"},{\"font\":{\"family\":\"Inconsolata, monospace\",\"size\":12},\"showarrow\":false,\"text\":\"FalseVamp\",\"textangle\":0,\"x\":0.09069927898833748,\"xanchor\":\"left\",\"xref\":\"x\",\"y\":-12.35,\"yref\":\"y\"},{\"font\":{\"family\":\"Inconsolata, monospace\",\"size\":12},\"showarrow\":false,\"text\":\"0.24\",\"textangle\":0,\"x\":0.0016635914678559442,\"xanchor\":\"center\",\"xref\":\"x\",\"xshift\":15,\"y\":9.2625,\"yref\":\"y\",\"yshift\":0},{\"font\":{\"family\":\"Inconsolata, monospace\",\"size\":12},\"showarrow\":false,\"text\":\"0.70\",\"textangle\":0,\"x\":0.005369545277741107,\"xanchor\":\"center\",\"xref\":\"x\",\"xshift\":15,\"y\":10.725,\"yref\":\"y\",\"yshift\":0},{\"font\":{\"family\":\"Inconsolata, monospace\",\"size\":12},\"showarrow\":false,\"text\":\"0.29\",\"textangle\":0,\"x\":0.001987169996462769,\"xanchor\":\"center\",\"xref\":\"x\",\"xshift\":15,\"y\":-0.6703125000000001,\"yref\":\"y\",\"yshift\":0},{\"font\":{\"family\":\"Inconsolata, monospace\",\"size\":12},\"showarrow\":false,\"text\":\"0.75\",\"textangle\":0,\"x\":0.03681450578997773,\"xanchor\":\"center\",\"xref\":\"x\",\"xshift\":15,\"y\":4.225,\"yref\":\"y\",\"yshift\":0},{\"font\":{\"family\":\"Inconsolata, monospace\",\"size\":12},\"showarrow\":false,\"text\":\"0.76\",\"textangle\":0,\"x\":0.030395867088245262,\"xanchor\":\"center\",\"xref\":\"x\",\"xshift\":15,\"y\":-3.9,\"yref\":\"y\",\"yshift\":0}],\"autosize\":true,\"font\":{\"family\":\"Balto\",\"size\":14},\"height\":400,\"hovermode\":\"closest\",\"margin\":{\"b\":50,\"l\":50,\"pad\":4,\"r\":50,\"t\":50},\"showlegend\":false,\"width\":500,\"xaxis\":{\"visible\":false},\"yaxis\":{\"visible\":false},\"template\":{\"data\":{\"histogram2dcontour\":[{\"type\":\"histogram2dcontour\",\"colorbar\":{\"outlinewidth\":0,\"ticks\":\"\"},\"colorscale\":[[0.0,\"#0d0887\"],[0.1111111111111111,\"#46039f\"],[0.2222222222222222,\"#7201a8\"],[0.3333333333333333,\"#9c179e\"],[0.4444444444444444,\"#bd3786\"],[0.5555555555555556,\"#d8576b\"],[0.6666666666666666,\"#ed7953\"],[0.7777777777777778,\"#fb9f3a\"],[0.8888888888888888,\"#fdca26\"],[1.0,\"#f0f921\"]]}],\"choropleth\":[{\"type\":\"choropleth\",\"colorbar\":{\"outlinewidth\":0,\"ticks\":\"\"}}],\"histogram2d\":[{\"type\":\"histogram2d\",\"colorbar\":{\"outlinewidth\":0,\"ticks\":\"\"},\"colorscale\":[[0.0,\"#0d0887\"],[0.1111111111111111,\"#46039f\"],[0.2222222222222222,\"#7201a8\"],[0.3333333333333333,\"#9c179e\"],[0.4444444444444444,\"#bd3786\"],[0.5555555555555556,\"#d8576b\"],[0.6666666666666666,\"#ed7953\"],[0.7777777777777778,\"#fb9f3a\"],[0.8888888888888888,\"#fdca26\"],[1.0,\"#f0f921\"]]}],\"heatmap\":[{\"type\":\"heatmap\",\"colorbar\":{\"outlinewidth\":0,\"ticks\":\"\"},\"colorscale\":[[0.0,\"#0d0887\"],[0.1111111111111111,\"#46039f\"],[0.2222222222222222,\"#7201a8\"],[0.3333333333333333,\"#9c179e\"],[0.4444444444444444,\"#bd3786\"],[0.5555555555555556,\"#d8576b\"],[0.6666666666666666,\"#ed7953\"],[0.7777777777777778,\"#fb9f3a\"],[0.8888888888888888,\"#fdca26\"],[1.0,\"#f0f921\"]]}],\"heatmapgl\":[{\"type\":\"heatmapgl\",\"colorbar\":{\"outlinewidth\":0,\"ticks\":\"\"},\"colorscale\":[[0.0,\"#0d0887\"],[0.1111111111111111,\"#46039f\"],[0.2222222222222222,\"#7201a8\"],[0.3333333333333333,\"#9c179e\"],[0.4444444444444444,\"#bd3786\"],[0.5555555555555556,\"#d8576b\"],[0.6666666666666666,\"#ed7953\"],[0.7777777777777778,\"#fb9f3a\"],[0.8888888888888888,\"#fdca26\"],[1.0,\"#f0f921\"]]}],\"contourcarpet\":[{\"type\":\"contourcarpet\",\"colorbar\":{\"outlinewidth\":0,\"ticks\":\"\"}}],\"contour\":[{\"type\":\"contour\",\"colorbar\":{\"outlinewidth\":0,\"ticks\":\"\"},\"colorscale\":[[0.0,\"#0d0887\"],[0.1111111111111111,\"#46039f\"],[0.2222222222222222,\"#7201a8\"],[0.3333333333333333,\"#9c179e\"],[0.4444444444444444,\"#bd3786\"],[0.5555555555555556,\"#d8576b\"],[0.6666666666666666,\"#ed7953\"],[0.7777777777777778,\"#fb9f3a\"],[0.8888888888888888,\"#fdca26\"],[1.0,\"#f0f921\"]]}],\"surface\":[{\"type\":\"surface\",\"colorbar\":{\"outlinewidth\":0,\"ticks\":\"\"},\"colorscale\":[[0.0,\"#0d0887\"],[0.1111111111111111,\"#46039f\"],[0.2222222222222222,\"#7201a8\"],[0.3333333333333333,\"#9c179e\"],[0.4444444444444444,\"#bd3786\"],[0.5555555555555556,\"#d8576b\"],[0.6666666666666666,\"#ed7953\"],[0.7777777777777778,\"#fb9f3a\"],[0.8888888888888888,\"#fdca26\"],[1.0,\"#f0f921\"]]}],\"mesh3d\":[{\"type\":\"mesh3d\",\"colorbar\":{\"outlinewidth\":0,\"ticks\":\"\"}}],\"scatter\":[{\"fillpattern\":{\"fillmode\":\"overlay\",\"size\":10,\"solidity\":0.2},\"type\":\"scatter\"}],\"parcoords\":[{\"type\":\"parcoords\",\"line\":{\"colorbar\":{\"outlinewidth\":0,\"ticks\":\"\"}}}],\"scatterpolargl\":[{\"type\":\"scatterpolargl\",\"marker\":{\"colorbar\":{\"outlinewidth\":0,\"ticks\":\"\"}}}],\"bar\":[{\"error_x\":{\"color\":\"#2a3f5f\"},\"error_y\":{\"color\":\"#2a3f5f\"},\"marker\":{\"line\":{\"color\":\"#E5ECF6\",\"width\":0.5},\"pattern\":{\"fillmode\":\"overlay\",\"size\":10,\"solidity\":0.2}},\"type\":\"bar\"}],\"scattergeo\":[{\"type\":\"scattergeo\",\"marker\":{\"colorbar\":{\"outlinewidth\":0,\"ticks\":\"\"}}}],\"scatterpolar\":[{\"type\":\"scatterpolar\",\"marker\":{\"colorbar\":{\"outlinewidth\":0,\"ticks\":\"\"}}}],\"histogram\":[{\"marker\":{\"pattern\":{\"fillmode\":\"overlay\",\"size\":10,\"solidity\":0.2}},\"type\":\"histogram\"}],\"scattergl\":[{\"type\":\"scattergl\",\"marker\":{\"colorbar\":{\"outlinewidth\":0,\"ticks\":\"\"}}}],\"scatter3d\":[{\"type\":\"scatter3d\",\"line\":{\"colorbar\":{\"outlinewidth\":0,\"ticks\":\"\"}},\"marker\":{\"colorbar\":{\"outlinewidth\":0,\"ticks\":\"\"}}}],\"scattermapbox\":[{\"type\":\"scattermapbox\",\"marker\":{\"colorbar\":{\"outlinewidth\":0,\"ticks\":\"\"}}}],\"scatterternary\":[{\"type\":\"scatterternary\",\"marker\":{\"colorbar\":{\"outlinewidth\":0,\"ticks\":\"\"}}}],\"scattercarpet\":[{\"type\":\"scattercarpet\",\"marker\":{\"colorbar\":{\"outlinewidth\":0,\"ticks\":\"\"}}}],\"carpet\":[{\"aaxis\":{\"endlinecolor\":\"#2a3f5f\",\"gridcolor\":\"white\",\"linecolor\":\"white\",\"minorgridcolor\":\"white\",\"startlinecolor\":\"#2a3f5f\"},\"baxis\":{\"endlinecolor\":\"#2a3f5f\",\"gridcolor\":\"white\",\"linecolor\":\"white\",\"minorgridcolor\":\"white\",\"startlinecolor\":\"#2a3f5f\"},\"type\":\"carpet\"}],\"table\":[{\"cells\":{\"fill\":{\"color\":\"#EBF0F8\"},\"line\":{\"color\":\"white\"}},\"header\":{\"fill\":{\"color\":\"#C8D4E3\"},\"line\":{\"color\":\"white\"}},\"type\":\"table\"}],\"barpolar\":[{\"marker\":{\"line\":{\"color\":\"#E5ECF6\",\"width\":0.5},\"pattern\":{\"fillmode\":\"overlay\",\"size\":10,\"solidity\":0.2}},\"type\":\"barpolar\"}],\"pie\":[{\"automargin\":true,\"type\":\"pie\"}]},\"layout\":{\"autotypenumbers\":\"strict\",\"colorway\":[\"#636efa\",\"#EF553B\",\"#00cc96\",\"#ab63fa\",\"#FFA15A\",\"#19d3f3\",\"#FF6692\",\"#B6E880\",\"#FF97FF\",\"#FECB52\"],\"font\":{\"color\":\"#2a3f5f\"},\"hovermode\":\"closest\",\"hoverlabel\":{\"align\":\"left\"},\"paper_bgcolor\":\"white\",\"plot_bgcolor\":\"#E5ECF6\",\"polar\":{\"bgcolor\":\"#E5ECF6\",\"angularaxis\":{\"gridcolor\":\"white\",\"linecolor\":\"white\",\"ticks\":\"\"},\"radialaxis\":{\"gridcolor\":\"white\",\"linecolor\":\"white\",\"ticks\":\"\"}},\"ternary\":{\"bgcolor\":\"#E5ECF6\",\"aaxis\":{\"gridcolor\":\"white\",\"linecolor\":\"white\",\"ticks\":\"\"},\"baxis\":{\"gridcolor\":\"white\",\"linecolor\":\"white\",\"ticks\":\"\"},\"caxis\":{\"gridcolor\":\"white\",\"linecolor\":\"white\",\"ticks\":\"\"}},\"coloraxis\":{\"colorbar\":{\"outlinewidth\":0,\"ticks\":\"\"}},\"colorscale\":{\"sequential\":[[0.0,\"#0d0887\"],[0.1111111111111111,\"#46039f\"],[0.2222222222222222,\"#7201a8\"],[0.3333333333333333,\"#9c179e\"],[0.4444444444444444,\"#bd3786\"],[0.5555555555555556,\"#d8576b\"],[0.6666666666666666,\"#ed7953\"],[0.7777777777777778,\"#fb9f3a\"],[0.8888888888888888,\"#fdca26\"],[1.0,\"#f0f921\"]],\"sequentialminus\":[[0.0,\"#0d0887\"],[0.1111111111111111,\"#46039f\"],[0.2222222222222222,\"#7201a8\"],[0.3333333333333333,\"#9c179e\"],[0.4444444444444444,\"#bd3786\"],[0.5555555555555556,\"#d8576b\"],[0.6666666666666666,\"#ed7953\"],[0.7777777777777778,\"#fb9f3a\"],[0.8888888888888888,\"#fdca26\"],[1.0,\"#f0f921\"]],\"diverging\":[[0,\"#8e0152\"],[0.1,\"#c51b7d\"],[0.2,\"#de77ae\"],[0.3,\"#f1b6da\"],[0.4,\"#fde0ef\"],[0.5,\"#f7f7f7\"],[0.6,\"#e6f5d0\"],[0.7,\"#b8e186\"],[0.8,\"#7fbc41\"],[0.9,\"#4d9221\"],[1,\"#276419\"]]},\"xaxis\":{\"gridcolor\":\"white\",\"linecolor\":\"white\",\"ticks\":\"\",\"title\":{\"standoff\":15},\"zerolinecolor\":\"white\",\"automargin\":true,\"zerolinewidth\":2},\"yaxis\":{\"gridcolor\":\"white\",\"linecolor\":\"white\",\"ticks\":\"\",\"title\":{\"standoff\":15},\"zerolinecolor\":\"white\",\"automargin\":true,\"zerolinewidth\":2},\"scene\":{\"xaxis\":{\"backgroundcolor\":\"#E5ECF6\",\"gridcolor\":\"white\",\"linecolor\":\"white\",\"showbackground\":true,\"ticks\":\"\",\"zerolinecolor\":\"white\",\"gridwidth\":2},\"yaxis\":{\"backgroundcolor\":\"#E5ECF6\",\"gridcolor\":\"white\",\"linecolor\":\"white\",\"showbackground\":true,\"ticks\":\"\",\"zerolinecolor\":\"white\",\"gridwidth\":2},\"zaxis\":{\"backgroundcolor\":\"#E5ECF6\",\"gridcolor\":\"white\",\"linecolor\":\"white\",\"showbackground\":true,\"ticks\":\"\",\"zerolinecolor\":\"white\",\"gridwidth\":2}},\"shapedefaults\":{\"line\":{\"color\":\"#2a3f5f\"}},\"annotationdefaults\":{\"arrowcolor\":\"#2a3f5f\",\"arrowhead\":0,\"arrowwidth\":1},\"geo\":{\"bgcolor\":\"white\",\"landcolor\":\"#E5ECF6\",\"subunitcolor\":\"white\",\"showland\":true,\"showlakes\":true,\"lakecolor\":\"white\"},\"title\":{\"x\":0.05},\"mapbox\":{\"style\":\"light\"}}}},                        {\"responsive\": true}                    ).then(function(){\n",
       "\n",
       "var gd = document.getElementById('56f02ec5-74eb-4aeb-8913-4e3e9836596f');\n",
       "var x = new MutationObserver(function (mutations, observer) {{\n",
       "        var display = window.getComputedStyle(gd).display;\n",
       "        if (!display || display === 'none') {{\n",
       "            console.log([gd, 'removed!']);\n",
       "            Plotly.purge(gd);\n",
       "            observer.disconnect();\n",
       "        }}\n",
       "}});\n",
       "\n",
       "// Listen for the removal of the full notebook cells\n",
       "var notebookContainer = gd.closest('#notebook-container');\n",
       "if (notebookContainer) {{\n",
       "    x.observe(notebookContainer, {childList: true});\n",
       "}}\n",
       "\n",
       "// Listen for the clearing of the current output cell\n",
       "var outputEl = gd.closest('.output');\n",
       "if (outputEl) {{\n",
       "    x.observe(outputEl, {childList: true});\n",
       "}}\n",
       "\n",
       "                        })                };                });            </script>        </div>"
      ]
     },
     "metadata": {},
     "output_type": "display_data"
    }
   ],
   "source": [
    "fig.support_xshift = 15\n",
    "fig.support_yshift = 0\n",
    "fig.show(width=500, height=400)"
   ]
  },
  {
   "cell_type": "code",
   "execution_count": 4,
   "id": "1b4fc6e5",
   "metadata": {
    "execution": {
     "iopub.execute_input": "2023-12-15T00:10:01.325393Z",
     "iopub.status.busy": "2023-12-15T00:10:01.325324Z",
     "iopub.status.idle": "2023-12-15T00:10:01.679812Z",
     "shell.execute_reply": "2023-12-15T00:10:01.679262Z"
    }
   },
   "outputs": [],
   "source": [
    "outpath = set_working_directory.get_thumbnail_dir() / \"plot_tree-support.png\"\n",
    "\n",
    "fig.write(outpath)"
   ]
  }
 ],
 "metadata": {
  "kernelspec": {
   "display_name": "Python 3 (ipykernel)",
   "language": "python",
   "name": "python3"
  },
  "language_info": {
   "codemirror_mode": {
    "name": "ipython",
    "version": 3
   },
   "file_extension": ".py",
   "mimetype": "text/x-python",
   "name": "python",
   "nbconvert_exporter": "python",
   "pygments_lexer": "ipython3",
   "version": "3.11.6"
  }
 },
 "nbformat": 4,
 "nbformat_minor": 5
}