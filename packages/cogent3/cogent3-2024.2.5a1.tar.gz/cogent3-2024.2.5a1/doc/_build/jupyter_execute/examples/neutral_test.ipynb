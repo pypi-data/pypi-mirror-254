{
 "cells": [
  {
   "cell_type": "code",
   "execution_count": 1,
   "id": "3c60e370",
   "metadata": {
    "execution": {
     "iopub.execute_input": "2023-12-15T00:10:59.107814Z",
     "iopub.status.busy": "2023-12-15T00:10:59.107270Z",
     "iopub.status.idle": "2023-12-15T00:10:59.121361Z",
     "shell.execute_reply": "2023-12-15T00:10:59.120855Z"
    }
   },
   "outputs": [],
   "source": [
    "import set_working_directory"
   ]
  },
  {
   "cell_type": "code",
   "execution_count": 2,
   "id": "b741e80d",
   "metadata": {
    "execution": {
     "iopub.execute_input": "2023-12-15T00:10:59.124435Z",
     "iopub.status.busy": "2023-12-15T00:10:59.123945Z",
     "iopub.status.idle": "2023-12-15T00:11:00.350855Z",
     "shell.execute_reply": "2023-12-15T00:11:00.350536Z"
    }
   },
   "outputs": [],
   "source": [
    "from cogent3 import load_aligned_seqs, load_tree\n",
    "from cogent3.evolve.models import get_model\n",
    "from scipy.stats.distributions import chi2"
   ]
  },
  {
   "cell_type": "code",
   "execution_count": 3,
   "id": "fd60dd5c",
   "metadata": {
    "execution": {
     "iopub.execute_input": "2023-12-15T00:11:00.352556Z",
     "iopub.status.busy": "2023-12-15T00:11:00.352402Z",
     "iopub.status.idle": "2023-12-15T00:11:00.356100Z",
     "shell.execute_reply": "2023-12-15T00:11:00.355870Z"
    }
   },
   "outputs": [],
   "source": [
    "al = load_aligned_seqs(\"data/long_testseqs.fasta\")\n",
    "t = load_tree(\"data/test.tree\")"
   ]
  },
  {
   "cell_type": "code",
   "execution_count": 4,
   "id": "de549d3c",
   "metadata": {
    "execution": {
     "iopub.execute_input": "2023-12-15T00:11:00.357340Z",
     "iopub.status.busy": "2023-12-15T00:11:00.357255Z",
     "iopub.status.idle": "2023-12-15T00:11:00.672850Z",
     "shell.execute_reply": "2023-12-15T00:11:00.670257Z"
    }
   },
   "outputs": [],
   "source": [
    "sm = get_model(\"MG94GTR\")"
   ]
  },
  {
   "cell_type": "code",
   "execution_count": 5,
   "id": "91957561",
   "metadata": {
    "execution": {
     "iopub.execute_input": "2023-12-15T00:11:00.676854Z",
     "iopub.status.busy": "2023-12-15T00:11:00.676509Z",
     "iopub.status.idle": "2023-12-15T00:11:00.700581Z",
     "shell.execute_reply": "2023-12-15T00:11:00.695088Z"
    }
   },
   "outputs": [],
   "source": [
    "lf = sm.make_likelihood_function(t, digits=2, space=2)"
   ]
  },
  {
   "cell_type": "code",
   "execution_count": 6,
   "id": "801d7dca",
   "metadata": {
    "execution": {
     "iopub.execute_input": "2023-12-15T00:11:00.727907Z",
     "iopub.status.busy": "2023-12-15T00:11:00.724487Z",
     "iopub.status.idle": "2023-12-15T00:11:00.782105Z",
     "shell.execute_reply": "2023-12-15T00:11:00.772018Z"
    }
   },
   "outputs": [],
   "source": [
    "lf.set_alignment(al)"
   ]
  },
  {
   "cell_type": "code",
   "execution_count": 7,
   "id": "3a5171c7",
   "metadata": {
    "execution": {
     "iopub.execute_input": "2023-12-15T00:11:00.786297Z",
     "iopub.status.busy": "2023-12-15T00:11:00.786086Z",
     "iopub.status.idle": "2023-12-15T00:11:04.811566Z",
     "shell.execute_reply": "2023-12-15T00:11:04.810795Z"
    }
   },
   "outputs": [],
   "source": [
    "lf.optimise(global_tolerance=1.0, show_progress=False)"
   ]
  },
  {
   "cell_type": "code",
   "execution_count": 8,
   "id": "89c66b3e",
   "metadata": {
    "execution": {
     "iopub.execute_input": "2023-12-15T00:11:04.818256Z",
     "iopub.status.busy": "2023-12-15T00:11:04.817794Z",
     "iopub.status.idle": "2023-12-15T00:11:04.834009Z",
     "shell.execute_reply": "2023-12-15T00:11:04.832441Z"
    }
   },
   "outputs": [
    {
     "data": {
      "text/html": [
       "<h4>MG94GTR</h4>\n",
       "<p>log-likelihood = -8636.1801</p>\n",
       "<p>number of free parameters = 13</p>\n",
       "\n",
       "<div class=\"c3table\">\n",
       "\n",
       "<style>\n",
       ".c3table table {margin: 10px 0;}\n",
       ".c3table tr:last-child {border-bottom: 1px solid #000;} \n",
       ".c3table tr > th {text-align: left; padding: 0 5px;}\n",
       ".c3table tr > td {text-align: left; padding: 5px;}\n",
       ".c3table tr:nth-child(even) {background: #f7f7f7 !important;}\n",
       ".c3table .ellipsis {background: rgba(0, 0, 0, .01);}\n",
       ".c3table .index {background: rgba(161, 195, 209, 0.0); margin: 10px; font-weight: 600;}\n",
       ".c3table .head_cell {background: rgba(161, 195, 209, 0.75); font-weight: bold; text-align: center;}\n",
       ".c3table caption {color: rgb(250, 250, 250); background: rgba(30, 140, 200, 1); padding: 3px; white-space: nowrap; caption-side: top;}\n",
       ".c3table .cell_title {font-weight: bold;}\n",
       ".c3col_left { text-align: left !important; display: block;}\n",
       ".c3col_right { text-align: right !important; display: block;}\n",
       ".c3col_center { text-align: center !important; display: block;}\n",
       "</style>\n",
       "\n",
       "<table>\n",
       "\n",
       "<caption>\n",
       "<span class=\"cell_title\">Global params</span>\n",
       "</caption>\n",
       "<thead class=\"head_cell\">\n",
       "<th>A/C</th><th>A/G</th><th>A/T</th><th>C/G</th><th>C/T</th><th>omega</th>\n",
       "</thead>\n",
       "<tbody>\n",
       "<tr><td><span class=\"c3col_right\">1.02</span></td><td><span class=\"c3col_right\">3.36</span></td><td><span class=\"c3col_right\">0.73</span></td><td><span class=\"c3col_right\">0.95</span></td><td><span class=\"c3col_right\">3.71</span></td><td><span class=\"c3col_right\">0.90</span></td></tr>\n",
       "</tbody>\n",
       "</table>\n",
       "\n",
       "</div>\n",
       "\n",
       "<div class=\"c3table\">\n",
       "\n",
       "<style>\n",
       ".c3table table {margin: 10px 0;}\n",
       ".c3table tr:last-child {border-bottom: 1px solid #000;} \n",
       ".c3table tr > th {text-align: left; padding: 0 5px;}\n",
       ".c3table tr > td {text-align: left; padding: 5px;}\n",
       ".c3table tr:nth-child(even) {background: #f7f7f7 !important;}\n",
       ".c3table .ellipsis {background: rgba(0, 0, 0, .01);}\n",
       ".c3table .index {background: rgba(161, 195, 209, 0.0); margin: 10px; font-weight: 600;}\n",
       ".c3table .head_cell {background: rgba(161, 195, 209, 0.75); font-weight: bold; text-align: center;}\n",
       ".c3table caption {color: rgb(250, 250, 250); background: rgba(30, 140, 200, 1); padding: 3px; white-space: nowrap; caption-side: top;}\n",
       ".c3table .cell_title {font-weight: bold;}\n",
       ".c3col_left { text-align: left !important; display: block;}\n",
       ".c3col_right { text-align: right !important; display: block;}\n",
       ".c3col_center { text-align: center !important; display: block;}\n",
       "</style>\n",
       "\n",
       "<table>\n",
       "\n",
       "<caption>\n",
       "<span class=\"cell_title\">Edge params</span>\n",
       "</caption>\n",
       "<thead class=\"head_cell\">\n",
       "<th>edge</th><th>parent</th><th>length</th>\n",
       "</thead>\n",
       "<tbody>\n",
       "<tr><td><span class=\"c3col_left\">Human</span></td><td><span class=\"c3col_left\">edge.0</span></td><td><span class=\"c3col_right\">0.09</span></td></tr>\n",
       "<tr><td><span class=\"c3col_left\">HowlerMon</span></td><td><span class=\"c3col_left\">edge.0</span></td><td><span class=\"c3col_right\">0.12</span></td></tr>\n",
       "<tr><td><span class=\"c3col_left\">edge.0</span></td><td><span class=\"c3col_left\">edge.1</span></td><td><span class=\"c3col_right\">0.12</span></td></tr>\n",
       "<tr><td><span class=\"c3col_left\">Mouse</span></td><td><span class=\"c3col_left\">edge.1</span></td><td><span class=\"c3col_right\">0.84</span></td></tr>\n",
       "<tr><td><span class=\"c3col_left\">edge.1</span></td><td><span class=\"c3col_left\">root</span></td><td><span class=\"c3col_right\">0.06</span></td></tr>\n",
       "<tr><td><span class=\"c3col_left\">NineBande</span></td><td><span class=\"c3col_left\">root</span></td><td><span class=\"c3col_right\">0.28</span></td></tr>\n",
       "<tr><td><span class=\"c3col_left\">DogFaced</span></td><td><span class=\"c3col_left\">root</span></td><td><span class=\"c3col_right\">0.34</span></td></tr>\n",
       "</tbody>\n",
       "</table>\n",
       "\n",
       "</div>\n",
       "\n",
       "<div class=\"c3table\">\n",
       "\n",
       "<style>\n",
       ".c3table table {margin: 10px 0;}\n",
       ".c3table tr:last-child {border-bottom: 1px solid #000;} \n",
       ".c3table tr > th {text-align: left; padding: 0 5px;}\n",
       ".c3table tr > td {text-align: left; padding: 5px;}\n",
       ".c3table tr:nth-child(even) {background: #f7f7f7 !important;}\n",
       ".c3table .ellipsis {background: rgba(0, 0, 0, .01);}\n",
       ".c3table .index {background: rgba(161, 195, 209, 0.0); margin: 10px; font-weight: 600;}\n",
       ".c3table .head_cell {background: rgba(161, 195, 209, 0.75); font-weight: bold; text-align: center;}\n",
       ".c3table caption {color: rgb(250, 250, 250); background: rgba(30, 140, 200, 1); padding: 3px; white-space: nowrap; caption-side: top;}\n",
       ".c3table .cell_title {font-weight: bold;}\n",
       ".c3col_left { text-align: left !important; display: block;}\n",
       ".c3col_right { text-align: right !important; display: block;}\n",
       ".c3col_center { text-align: center !important; display: block;}\n",
       "</style>\n",
       "\n",
       "<table>\n",
       "\n",
       "<caption>\n",
       "<span class=\"cell_title\">Motif params</span>\n",
       "</caption>\n",
       "<thead class=\"head_cell\">\n",
       "<th>A</th><th>C</th><th>G</th><th>T</th>\n",
       "</thead>\n",
       "<tbody>\n",
       "<tr><td><span class=\"c3col_right\">0.37</span></td><td><span class=\"c3col_right\">0.19</span></td><td><span class=\"c3col_right\">0.21</span></td><td><span class=\"c3col_right\">0.23</span></td></tr>\n",
       "</tbody>\n",
       "</table>\n",
       "\n",
       "</div>"
      ],
      "text/plain": [
       "MG94GTR\n",
       "log-likelihood = -8636.1801\n",
       "number of free parameters = 13\n",
       "===================================\n",
       " A/C   A/G   A/T   C/G   C/T  omega\n",
       "-----------------------------------\n",
       "1.02  3.36  0.73  0.95  3.71   0.90\n",
       "-----------------------------------\n",
       "=========================\n",
       "edge       parent  length\n",
       "-------------------------\n",
       "Human      edge.0    0.09\n",
       "HowlerMon  edge.0    0.12\n",
       "edge.0     edge.1    0.12\n",
       "Mouse      edge.1    0.84\n",
       "edge.1     root      0.06\n",
       "NineBande  root      0.28\n",
       "DogFaced   root      0.34\n",
       "-------------------------\n",
       "======================\n",
       "   A     C     G     T\n",
       "----------------------\n",
       "0.37  0.19  0.21  0.23\n",
       "----------------------"
      ]
     },
     "execution_count": 8,
     "metadata": {},
     "output_type": "execute_result"
    }
   ],
   "source": [
    "lf"
   ]
  },
  {
   "cell_type": "code",
   "execution_count": 9,
   "id": "d23e7288",
   "metadata": {
    "execution": {
     "iopub.execute_input": "2023-12-15T00:11:04.837661Z",
     "iopub.status.busy": "2023-12-15T00:11:04.837368Z",
     "iopub.status.idle": "2023-12-15T00:11:04.844223Z",
     "shell.execute_reply": "2023-12-15T00:11:04.842645Z"
    }
   },
   "outputs": [],
   "source": [
    "null_lnL = lf.get_log_likelihood()\n",
    "null_nfp = lf.get_num_free_params()"
   ]
  },
  {
   "cell_type": "code",
   "execution_count": 10,
   "id": "42401f32",
   "metadata": {
    "execution": {
     "iopub.execute_input": "2023-12-15T00:11:04.850931Z",
     "iopub.status.busy": "2023-12-15T00:11:04.850590Z",
     "iopub.status.idle": "2023-12-15T00:11:04.879069Z",
     "shell.execute_reply": "2023-12-15T00:11:04.877899Z"
    }
   },
   "outputs": [],
   "source": [
    "lf.set_param_rule(\"omega\", is_independent=True)"
   ]
  },
  {
   "cell_type": "code",
   "execution_count": 11,
   "id": "a9d7bbcd",
   "metadata": {
    "execution": {
     "iopub.execute_input": "2023-12-15T00:11:04.885862Z",
     "iopub.status.busy": "2023-12-15T00:11:04.885434Z",
     "iopub.status.idle": "2023-12-15T00:11:14.359163Z",
     "shell.execute_reply": "2023-12-15T00:11:14.358542Z"
    }
   },
   "outputs": [],
   "source": [
    "lf.optimise(local=True, show_progress=False)"
   ]
  },
  {
   "cell_type": "code",
   "execution_count": 12,
   "id": "5a6ae8ad",
   "metadata": {
    "execution": {
     "iopub.execute_input": "2023-12-15T00:11:14.364886Z",
     "iopub.status.busy": "2023-12-15T00:11:14.364282Z",
     "iopub.status.idle": "2023-12-15T00:11:14.375532Z",
     "shell.execute_reply": "2023-12-15T00:11:14.374974Z"
    }
   },
   "outputs": [
    {
     "data": {
      "text/html": [
       "<h4>MG94GTR</h4>\n",
       "<p>log-likelihood = -8632.1355</p>\n",
       "<p>number of free parameters = 19</p>\n",
       "\n",
       "<div class=\"c3table\">\n",
       "\n",
       "<style>\n",
       ".c3table table {margin: 10px 0;}\n",
       ".c3table tr:last-child {border-bottom: 1px solid #000;} \n",
       ".c3table tr > th {text-align: left; padding: 0 5px;}\n",
       ".c3table tr > td {text-align: left; padding: 5px;}\n",
       ".c3table tr:nth-child(even) {background: #f7f7f7 !important;}\n",
       ".c3table .ellipsis {background: rgba(0, 0, 0, .01);}\n",
       ".c3table .index {background: rgba(161, 195, 209, 0.0); margin: 10px; font-weight: 600;}\n",
       ".c3table .head_cell {background: rgba(161, 195, 209, 0.75); font-weight: bold; text-align: center;}\n",
       ".c3table caption {color: rgb(250, 250, 250); background: rgba(30, 140, 200, 1); padding: 3px; white-space: nowrap; caption-side: top;}\n",
       ".c3table .cell_title {font-weight: bold;}\n",
       ".c3col_left { text-align: left !important; display: block;}\n",
       ".c3col_right { text-align: right !important; display: block;}\n",
       ".c3col_center { text-align: center !important; display: block;}\n",
       "</style>\n",
       "\n",
       "<table>\n",
       "\n",
       "<caption>\n",
       "<span class=\"cell_title\">Global params</span>\n",
       "</caption>\n",
       "<thead class=\"head_cell\">\n",
       "<th>A/C</th><th>A/G</th><th>A/T</th><th>C/G</th><th>C/T</th>\n",
       "</thead>\n",
       "<tbody>\n",
       "<tr><td><span class=\"c3col_right\">1.03</span></td><td><span class=\"c3col_right\">3.38</span></td><td><span class=\"c3col_right\">0.73</span></td><td><span class=\"c3col_right\">0.95</span></td><td><span class=\"c3col_right\">3.72</span></td></tr>\n",
       "</tbody>\n",
       "</table>\n",
       "\n",
       "</div>\n",
       "\n",
       "<div class=\"c3table\">\n",
       "\n",
       "<style>\n",
       ".c3table table {margin: 10px 0;}\n",
       ".c3table tr:last-child {border-bottom: 1px solid #000;} \n",
       ".c3table tr > th {text-align: left; padding: 0 5px;}\n",
       ".c3table tr > td {text-align: left; padding: 5px;}\n",
       ".c3table tr:nth-child(even) {background: #f7f7f7 !important;}\n",
       ".c3table .ellipsis {background: rgba(0, 0, 0, .01);}\n",
       ".c3table .index {background: rgba(161, 195, 209, 0.0); margin: 10px; font-weight: 600;}\n",
       ".c3table .head_cell {background: rgba(161, 195, 209, 0.75); font-weight: bold; text-align: center;}\n",
       ".c3table caption {color: rgb(250, 250, 250); background: rgba(30, 140, 200, 1); padding: 3px; white-space: nowrap; caption-side: top;}\n",
       ".c3table .cell_title {font-weight: bold;}\n",
       ".c3col_left { text-align: left !important; display: block;}\n",
       ".c3col_right { text-align: right !important; display: block;}\n",
       ".c3col_center { text-align: center !important; display: block;}\n",
       "</style>\n",
       "\n",
       "<table>\n",
       "\n",
       "<caption>\n",
       "<span class=\"cell_title\">Edge params</span>\n",
       "</caption>\n",
       "<thead class=\"head_cell\">\n",
       "<th>edge</th><th>parent</th><th>length</th><th>omega</th>\n",
       "</thead>\n",
       "<tbody>\n",
       "<tr><td><span class=\"c3col_left\">Human</span></td><td><span class=\"c3col_left\">edge.0</span></td><td><span class=\"c3col_right\">0.09</span></td><td><span class=\"c3col_right\">0.59</span></td></tr>\n",
       "<tr><td><span class=\"c3col_left\">HowlerMon</span></td><td><span class=\"c3col_left\">edge.0</span></td><td><span class=\"c3col_right\">0.12</span></td><td><span class=\"c3col_right\">0.96</span></td></tr>\n",
       "<tr><td><span class=\"c3col_left\">edge.0</span></td><td><span class=\"c3col_left\">edge.1</span></td><td><span class=\"c3col_right\">0.11</span></td><td><span class=\"c3col_right\">1.13</span></td></tr>\n",
       "<tr><td><span class=\"c3col_left\">Mouse</span></td><td><span class=\"c3col_left\">edge.1</span></td><td><span class=\"c3col_right\">0.83</span></td><td><span class=\"c3col_right\">0.92</span></td></tr>\n",
       "<tr><td><span class=\"c3col_left\">edge.1</span></td><td><span class=\"c3col_left\">root</span></td><td><span class=\"c3col_right\">0.06</span></td><td><span class=\"c3col_right\">0.39</span></td></tr>\n",
       "<tr><td><span class=\"c3col_left\">NineBande</span></td><td><span class=\"c3col_left\">root</span></td><td><span class=\"c3col_right\">0.28</span></td><td><span class=\"c3col_right\">1.28</span></td></tr>\n",
       "<tr><td><span class=\"c3col_left\">DogFaced</span></td><td><span class=\"c3col_left\">root</span></td><td><span class=\"c3col_right\">0.34</span></td><td><span class=\"c3col_right\">0.84</span></td></tr>\n",
       "</tbody>\n",
       "</table>\n",
       "\n",
       "</div>\n",
       "\n",
       "<div class=\"c3table\">\n",
       "\n",
       "<style>\n",
       ".c3table table {margin: 10px 0;}\n",
       ".c3table tr:last-child {border-bottom: 1px solid #000;} \n",
       ".c3table tr > th {text-align: left; padding: 0 5px;}\n",
       ".c3table tr > td {text-align: left; padding: 5px;}\n",
       ".c3table tr:nth-child(even) {background: #f7f7f7 !important;}\n",
       ".c3table .ellipsis {background: rgba(0, 0, 0, .01);}\n",
       ".c3table .index {background: rgba(161, 195, 209, 0.0); margin: 10px; font-weight: 600;}\n",
       ".c3table .head_cell {background: rgba(161, 195, 209, 0.75); font-weight: bold; text-align: center;}\n",
       ".c3table caption {color: rgb(250, 250, 250); background: rgba(30, 140, 200, 1); padding: 3px; white-space: nowrap; caption-side: top;}\n",
       ".c3table .cell_title {font-weight: bold;}\n",
       ".c3col_left { text-align: left !important; display: block;}\n",
       ".c3col_right { text-align: right !important; display: block;}\n",
       ".c3col_center { text-align: center !important; display: block;}\n",
       "</style>\n",
       "\n",
       "<table>\n",
       "\n",
       "<caption>\n",
       "<span class=\"cell_title\">Motif params</span>\n",
       "</caption>\n",
       "<thead class=\"head_cell\">\n",
       "<th>A</th><th>C</th><th>G</th><th>T</th>\n",
       "</thead>\n",
       "<tbody>\n",
       "<tr><td><span class=\"c3col_right\">0.37</span></td><td><span class=\"c3col_right\">0.19</span></td><td><span class=\"c3col_right\">0.21</span></td><td><span class=\"c3col_right\">0.23</span></td></tr>\n",
       "</tbody>\n",
       "</table>\n",
       "\n",
       "</div>"
      ],
      "text/plain": [
       "MG94GTR\n",
       "log-likelihood = -8632.1355\n",
       "number of free parameters = 19\n",
       "============================\n",
       " A/C   A/G   A/T   C/G   C/T\n",
       "----------------------------\n",
       "1.03  3.38  0.73  0.95  3.72\n",
       "----------------------------\n",
       "================================\n",
       "edge       parent  length  omega\n",
       "--------------------------------\n",
       "Human      edge.0    0.09   0.59\n",
       "HowlerMon  edge.0    0.12   0.96\n",
       "edge.0     edge.1    0.11   1.13\n",
       "Mouse      edge.1    0.83   0.92\n",
       "edge.1     root      0.06   0.39\n",
       "NineBande  root      0.28   1.28\n",
       "DogFaced   root      0.34   0.84\n",
       "--------------------------------\n",
       "======================\n",
       "   A     C     G     T\n",
       "----------------------\n",
       "0.37  0.19  0.21  0.23\n",
       "----------------------"
      ]
     },
     "execution_count": 12,
     "metadata": {},
     "output_type": "execute_result"
    }
   ],
   "source": [
    "lf"
   ]
  },
  {
   "cell_type": "code",
   "execution_count": 13,
   "id": "36f2de41",
   "metadata": {
    "execution": {
     "iopub.execute_input": "2023-12-15T00:11:14.378495Z",
     "iopub.status.busy": "2023-12-15T00:11:14.378223Z",
     "iopub.status.idle": "2023-12-15T00:11:14.384270Z",
     "shell.execute_reply": "2023-12-15T00:11:14.383723Z"
    }
   },
   "outputs": [],
   "source": [
    "at = lf.get_annotated_tree()"
   ]
  },
  {
   "cell_type": "code",
   "execution_count": 14,
   "id": "d6389bea",
   "metadata": {
    "execution": {
     "iopub.execute_input": "2023-12-15T00:11:14.386586Z",
     "iopub.status.busy": "2023-12-15T00:11:14.386387Z",
     "iopub.status.idle": "2023-12-15T00:11:14.390878Z",
     "shell.execute_reply": "2023-12-15T00:11:14.390235Z"
    }
   },
   "outputs": [],
   "source": [
    "LR = 2 * (lf.get_log_likelihood() - null_lnL)\n",
    "df = lf.get_num_free_params() - null_nfp\n",
    "P = chi2.sf(LR, df)"
   ]
  },
  {
   "cell_type": "code",
   "execution_count": 15,
   "id": "9d7c178f",
   "metadata": {
    "execution": {
     "iopub.execute_input": "2023-12-15T00:11:14.393590Z",
     "iopub.status.busy": "2023-12-15T00:11:14.393394Z",
     "iopub.status.idle": "2023-12-15T00:11:14.401618Z",
     "shell.execute_reply": "2023-12-15T00:11:14.400452Z"
    }
   },
   "outputs": [
    {
     "name": "stdout",
     "output_type": "stream",
     "text": [
      "Likelihood ratio statistic = 8.089238559528894\n",
      "degrees-of-freedom = 6\n",
      "probability = 0.23163811497208261\n"
     ]
    }
   ],
   "source": [
    "print(f\"Likelihood ratio statistic = {LR}\")\n",
    "print(f\"degrees-of-freedom = {df}\")\n",
    "print(f\"probability = {P}\")"
   ]
  }
 ],
 "metadata": {
  "kernelspec": {
   "display_name": "Python 3 (ipykernel)",
   "language": "python",
   "name": "python3"
  },
  "language_info": {
   "codemirror_mode": {
    "name": "ipython",
    "version": 3
   },
   "file_extension": ".py",
   "mimetype": "text/x-python",
   "name": "python",
   "nbconvert_exporter": "python",
   "pygments_lexer": "ipython3",
   "version": "3.11.6"
  }
 },
 "nbformat": 4,
 "nbformat_minor": 5
}