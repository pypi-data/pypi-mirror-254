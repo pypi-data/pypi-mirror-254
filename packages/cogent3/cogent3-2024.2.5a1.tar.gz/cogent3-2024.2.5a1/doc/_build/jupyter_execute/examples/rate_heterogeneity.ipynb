{
 "cells": [
  {
   "cell_type": "code",
   "execution_count": 1,
   "id": "1a280f26",
   "metadata": {
    "execution": {
     "iopub.execute_input": "2023-12-15T00:11:25.269025Z",
     "iopub.status.busy": "2023-12-15T00:11:25.268636Z",
     "iopub.status.idle": "2023-12-15T00:11:25.286884Z",
     "shell.execute_reply": "2023-12-15T00:11:25.286022Z"
    }
   },
   "outputs": [],
   "source": [
    "import set_working_directory"
   ]
  },
  {
   "cell_type": "code",
   "execution_count": 2,
   "id": "b97edfa6",
   "metadata": {
    "execution": {
     "iopub.execute_input": "2023-12-15T00:11:25.293733Z",
     "iopub.status.busy": "2023-12-15T00:11:25.293365Z",
     "iopub.status.idle": "2023-12-15T00:11:26.577116Z",
     "shell.execute_reply": "2023-12-15T00:11:26.576699Z"
    }
   },
   "outputs": [],
   "source": [
    "from cogent3 import load_tree\n",
    "from cogent3.evolve.substitution_model import TimeReversibleNucleotide"
   ]
  },
  {
   "cell_type": "code",
   "execution_count": 3,
   "id": "55c96da1",
   "metadata": {
    "execution": {
     "iopub.execute_input": "2023-12-15T00:11:26.578751Z",
     "iopub.status.busy": "2023-12-15T00:11:26.578646Z",
     "iopub.status.idle": "2023-12-15T00:11:27.490223Z",
     "shell.execute_reply": "2023-12-15T00:11:27.489860Z"
    }
   },
   "outputs": [],
   "source": [
    "model = TimeReversibleNucleotide(equal_motif_probs=True)\n",
    "tree = load_tree(\"data/test.tree\")\n",
    "lf = model.make_likelihood_function(tree)\n",
    "lf.set_param_rule(\"length\", value=0.6, is_constant=True)\n",
    "aln1 = lf.simulate_alignment(sequence_length=10000)\n",
    "lf.set_param_rule(\"length\", value=0.2, is_constant=True)\n",
    "aln2 = lf.simulate_alignment(sequence_length=10000)\n",
    "aln3 = aln1 + aln2"
   ]
  },
  {
   "cell_type": "code",
   "execution_count": 4,
   "id": "f033f22b",
   "metadata": {
    "execution": {
     "iopub.execute_input": "2023-12-15T00:11:27.491894Z",
     "iopub.status.busy": "2023-12-15T00:11:27.491806Z",
     "iopub.status.idle": "2023-12-15T00:11:27.749332Z",
     "shell.execute_reply": "2023-12-15T00:11:27.748966Z"
    }
   },
   "outputs": [],
   "source": [
    "model = TimeReversibleNucleotide(\n",
    "    equal_motif_probs=True, ordered_param=\"rate\", distribution=\"free\"\n",
    ")\n",
    "lf = model.make_likelihood_function(tree, bins=2, digits=2, space=3)\n",
    "lf.set_alignment(aln3)\n",
    "lf.optimise(local=True, max_restarts=2, show_progress=False)"
   ]
  },
  {
   "cell_type": "code",
   "execution_count": 5,
   "id": "019134a9",
   "metadata": {
    "execution": {
     "iopub.execute_input": "2023-12-15T00:11:27.751023Z",
     "iopub.status.busy": "2023-12-15T00:11:27.750937Z",
     "iopub.status.idle": "2023-12-15T00:11:27.754763Z",
     "shell.execute_reply": "2023-12-15T00:11:27.754469Z"
    }
   },
   "outputs": [
    {
     "data": {
      "text/html": [
       "\n",
       "<div class=\"c3table\">\n",
       "\n",
       "<style>\n",
       ".c3table table {margin: 10px 0;}\n",
       ".c3table tr:last-child {border-bottom: 1px solid #000;} \n",
       ".c3table tr > th {text-align: left; padding: 0 5px;}\n",
       ".c3table tr > td {text-align: left; padding: 5px;}\n",
       ".c3table tr:nth-child(even) {background: #f7f7f7 !important;}\n",
       ".c3table .ellipsis {background: rgba(0, 0, 0, .01);}\n",
       ".c3table .index {background: rgba(161, 195, 209, 0.0); margin: 10px; font-weight: 600;}\n",
       ".c3table .head_cell {background: rgba(161, 195, 209, 0.75); font-weight: bold; text-align: center;}\n",
       ".c3table caption {color: rgb(250, 250, 250); background: rgba(30, 140, 200, 1); padding: 3px; white-space: nowrap; caption-side: top;}\n",
       ".c3table .cell_title {font-weight: bold;}\n",
       ".c3col_left { text-align: left !important; display: block;}\n",
       ".c3col_right { text-align: right !important; display: block;}\n",
       ".c3col_center { text-align: center !important; display: block;}\n",
       "</style>\n",
       "\n",
       "<table>\n",
       "\n",
       "<caption>\n",
       "<span class=\"cell_title\">bin params</span>\n",
       "</caption>\n",
       "<thead class=\"head_cell\">\n",
       "<th>bin</th><th>bprobs</th><th>rate</th>\n",
       "</thead>\n",
       "<tbody>\n",
       "<tr><td><span class=\"c3col_left\">bin0</span></td><td><span class=\"c3col_right\">0.48</span></td><td><span class=\"c3col_right\">0.49</span></td></tr>\n",
       "<tr><td><span class=\"c3col_left\">bin1</span></td><td><span class=\"c3col_right\">0.52</span></td><td><span class=\"c3col_right\">1.47</span></td></tr>\n",
       "</tbody>\n",
       "</table>\n",
       "<p>\n",
       "2 rows x 3 columns</p>\n",
       "</div>"
      ],
      "text/plain": [
       "bin params\n",
       "====================\n",
       "bin    bprobs   rate\n",
       "--------------------\n",
       "bin0     0.48   0.49\n",
       "bin1     0.52   1.47\n",
       "--------------------\n",
       "\n",
       "2 rows x 3 columns"
      ]
     },
     "execution_count": 5,
     "metadata": {},
     "output_type": "execute_result"
    }
   ],
   "source": [
    "bprobs = [t for t in lf.get_statistics() if \"bin\" in t.title][0]\n",
    "bprobs"
   ]
  },
  {
   "cell_type": "code",
   "execution_count": 6,
   "id": "1d168f26",
   "metadata": {
    "execution": {
     "iopub.execute_input": "2023-12-15T00:11:27.756055Z",
     "iopub.status.busy": "2023-12-15T00:11:27.755981Z",
     "iopub.status.idle": "2023-12-15T00:11:28.266479Z",
     "shell.execute_reply": "2023-12-15T00:11:28.266157Z"
    }
   },
   "outputs": [],
   "source": [
    "model = TimeReversibleNucleotide(\n",
    "    equal_motif_probs=True, ordered_param=\"rate\", distribution=\"gamma\"\n",
    ")\n",
    "lf = model.make_likelihood_function(tree, bins=4)\n",
    "lf.set_param_rule(\"bprobs\", is_constant=True)\n",
    "lf.set_alignment(aln3)\n",
    "lf.optimise(local=True, max_restarts=2, show_progress=False)"
   ]
  }
 ],
 "metadata": {
  "kernelspec": {
   "display_name": "Python 3 (ipykernel)",
   "language": "python",
   "name": "python3"
  },
  "language_info": {
   "codemirror_mode": {
    "name": "ipython",
    "version": 3
   },
   "file_extension": ".py",
   "mimetype": "text/x-python",
   "name": "python",
   "nbconvert_exporter": "python",
   "pygments_lexer": "ipython3",
   "version": "3.11.6"
  }
 },
 "nbformat": 4,
 "nbformat_minor": 5
}