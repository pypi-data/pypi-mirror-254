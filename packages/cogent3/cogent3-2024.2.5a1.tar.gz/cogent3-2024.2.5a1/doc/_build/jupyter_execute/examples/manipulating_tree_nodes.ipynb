{
 "cells": [
  {
   "cell_type": "code",
   "execution_count": 1,
   "id": "9f26cb8f",
   "metadata": {
    "execution": {
     "iopub.execute_input": "2023-12-15T00:10:55.941698Z",
     "iopub.status.busy": "2023-12-15T00:10:55.941309Z",
     "iopub.status.idle": "2023-12-15T00:10:57.689817Z",
     "shell.execute_reply": "2023-12-15T00:10:57.689487Z"
    }
   },
   "outputs": [],
   "source": [
    "from cogent3 import load_tree, make_tree\n",
    "from cogent3.core.tree import PhyloNode\n",
    "from cogent3.parse.tree import DndParser"
   ]
  },
  {
   "cell_type": "code",
   "execution_count": 2,
   "id": "67ca2406",
   "metadata": {
    "execution": {
     "iopub.execute_input": "2023-12-15T00:10:57.691383Z",
     "iopub.status.busy": "2023-12-15T00:10:57.691255Z",
     "iopub.status.idle": "2023-12-15T00:10:57.693600Z",
     "shell.execute_reply": "2023-12-15T00:10:57.693316Z"
    }
   },
   "outputs": [],
   "source": [
    "simple_tree_string = \"(B:0.2,(C:0.3,D:0.4)E:0.5)F;\"\n",
    "complex_tree_string = \"(((363564 AB294167.1 Alkalibacterium putridalgicola:0.0028006,55874 AB083411.1 Marinilactibacillus psychrotolerans:0.0022089):0.40998,(15050 Y10772.1 Facklamia hominis:0.32304,(132509 AY707780.1 Aerococcus viridans:0.58815,((143063 AY879307.1 Abiotrophia defectiva:0.5807,83619 AB042060.1 Bacillus schlegelii:0.23569):0.03586,169722 AB275483.1 Fibrobacter succinogenes:0.38272):0.06516):0.03492):0.14265):0.63594,(3589 M62687.1 Fibrobacter intestinalis:0.65866,314063 CP001146.1 Dictyoglomus thermophilum:0.38791):0.32147,276579 EU652053.1 Thermus scotoductus:0.57336);\"\n",
    "simple_tree = make_tree(simple_tree_string)\n",
    "complex_tree = DndParser(complex_tree_string, PhyloNode)"
   ]
  },
  {
   "cell_type": "code",
   "execution_count": 3,
   "id": "af484bda",
   "metadata": {
    "execution": {
     "iopub.execute_input": "2023-12-15T00:10:57.694873Z",
     "iopub.status.busy": "2023-12-15T00:10:57.694799Z",
     "iopub.status.idle": "2023-12-15T00:10:57.696847Z",
     "shell.execute_reply": "2023-12-15T00:10:57.696540Z"
    }
   },
   "outputs": [
    {
     "name": "stdout",
     "output_type": "stream",
     "text": [
      "          /-B\n",
      "-F-------|\n",
      "         |          /-C\n",
      "          \\E-------|\n",
      "                    \\-D\n"
     ]
    }
   ],
   "source": [
    "print(simple_tree.ascii_art())"
   ]
  },
  {
   "cell_type": "code",
   "execution_count": 4,
   "id": "6484155e",
   "metadata": {
    "execution": {
     "iopub.execute_input": "2023-12-15T00:10:57.698001Z",
     "iopub.status.busy": "2023-12-15T00:10:57.697923Z",
     "iopub.status.idle": "2023-12-15T00:10:57.699429Z",
     "shell.execute_reply": "2023-12-15T00:10:57.699210Z"
    }
   },
   "outputs": [],
   "source": [
    "A_node = PhyloNode(name=\"A\", Length=0.1)"
   ]
  },
  {
   "cell_type": "code",
   "execution_count": 5,
   "id": "1d415226",
   "metadata": {
    "execution": {
     "iopub.execute_input": "2023-12-15T00:10:57.700540Z",
     "iopub.status.busy": "2023-12-15T00:10:57.700466Z",
     "iopub.status.idle": "2023-12-15T00:10:57.702195Z",
     "shell.execute_reply": "2023-12-15T00:10:57.701884Z"
    }
   },
   "outputs": [
    {
     "name": "stdout",
     "output_type": "stream",
     "text": [
      "[Tree(\"B;\"), Tree(\"(C,D)E;\")]\n"
     ]
    }
   ],
   "source": [
    "print(simple_tree.children)"
   ]
  },
  {
   "cell_type": "code",
   "execution_count": 6,
   "id": "10efafd8",
   "metadata": {
    "execution": {
     "iopub.execute_input": "2023-12-15T00:10:57.703431Z",
     "iopub.status.busy": "2023-12-15T00:10:57.703340Z",
     "iopub.status.idle": "2023-12-15T00:10:57.706262Z",
     "shell.execute_reply": "2023-12-15T00:10:57.706002Z"
    }
   },
   "outputs": [
    {
     "data": {
      "text/plain": [
       "True"
      ]
     },
     "execution_count": 6,
     "metadata": {},
     "output_type": "execute_result"
    }
   ],
   "source": [
    "simple_tree.children[1].remove(\"C\")"
   ]
  },
  {
   "cell_type": "code",
   "execution_count": 7,
   "id": "58721d1e",
   "metadata": {
    "execution": {
     "iopub.execute_input": "2023-12-15T00:10:57.707567Z",
     "iopub.status.busy": "2023-12-15T00:10:57.707480Z",
     "iopub.status.idle": "2023-12-15T00:10:57.708978Z",
     "shell.execute_reply": "2023-12-15T00:10:57.708736Z"
    }
   },
   "outputs": [],
   "source": [
    "simple_tree.children[1].insert(0, A_node)"
   ]
  },
  {
   "cell_type": "code",
   "execution_count": 8,
   "id": "8173e067",
   "metadata": {
    "execution": {
     "iopub.execute_input": "2023-12-15T00:10:57.710151Z",
     "iopub.status.busy": "2023-12-15T00:10:57.710074Z",
     "iopub.status.idle": "2023-12-15T00:10:57.711787Z",
     "shell.execute_reply": "2023-12-15T00:10:57.711564Z"
    }
   },
   "outputs": [
    {
     "name": "stdout",
     "output_type": "stream",
     "text": [
      "          /-B\n",
      "-F-------|\n",
      "         |          /-A\n",
      "          \\E-------|\n",
      "                    \\-D\n"
     ]
    }
   ],
   "source": [
    "print(simple_tree.ascii_art())"
   ]
  },
  {
   "cell_type": "code",
   "execution_count": 9,
   "id": "2478e844",
   "metadata": {
    "execution": {
     "iopub.execute_input": "2023-12-15T00:10:57.713053Z",
     "iopub.status.busy": "2023-12-15T00:10:57.712988Z",
     "iopub.status.idle": "2023-12-15T00:10:57.714740Z",
     "shell.execute_reply": "2023-12-15T00:10:57.714503Z"
    }
   },
   "outputs": [
    {
     "name": "stdout",
     "output_type": "stream",
     "text": [
      "          /-B\n",
      "-F-------|\n",
      "          \\E------- /-D\n"
     ]
    }
   ],
   "source": [
    "simple_tree.children[1].remove(\"A\")\n",
    "print(simple_tree.ascii_art())"
   ]
  },
  {
   "cell_type": "code",
   "execution_count": 10,
   "id": "6ec671fb",
   "metadata": {
    "execution": {
     "iopub.execute_input": "2023-12-15T00:10:57.715824Z",
     "iopub.status.busy": "2023-12-15T00:10:57.715762Z",
     "iopub.status.idle": "2023-12-15T00:10:57.717316Z",
     "shell.execute_reply": "2023-12-15T00:10:57.717124Z"
    }
   },
   "outputs": [
    {
     "name": "stdout",
     "output_type": "stream",
     "text": [
      "          /-B\n",
      "-F-------|\n",
      "          \\-D\n"
     ]
    }
   ],
   "source": [
    "simple_tree.prune()\n",
    "print(simple_tree.ascii_art())"
   ]
  },
  {
   "cell_type": "code",
   "execution_count": 11,
   "id": "77b2ab75",
   "metadata": {
    "execution": {
     "iopub.execute_input": "2023-12-15T00:10:57.718358Z",
     "iopub.status.busy": "2023-12-15T00:10:57.718280Z",
     "iopub.status.idle": "2023-12-15T00:10:57.719786Z",
     "shell.execute_reply": "2023-12-15T00:10:57.719588Z"
    }
   },
   "outputs": [],
   "source": [
    "for n in complex_tree.iter_tips():\n",
    "    n.name = n.name.split()[2] + \" \" + n.name.split()[3]"
   ]
  },
  {
   "cell_type": "code",
   "execution_count": 12,
   "id": "e99b37b3",
   "metadata": {
    "execution": {
     "iopub.execute_input": "2023-12-15T00:10:57.720889Z",
     "iopub.status.busy": "2023-12-15T00:10:57.720828Z",
     "iopub.status.idle": "2023-12-15T00:10:57.722578Z",
     "shell.execute_reply": "2023-12-15T00:10:57.722298Z"
    }
   },
   "outputs": [
    {
     "name": "stdout",
     "output_type": "stream",
     "text": [
      "                              /-Alkalibacterium putridalgicola\n",
      "                    /--------|\n",
      "                   |          \\-Marinilactibacillus psychrotolerans\n",
      "          /--------|\n",
      "         |         |          /-Facklamia hominis\n",
      "         |         |         |\n",
      "         |          \\--------|          /-Aerococcus viridans\n",
      "         |                   |         |\n",
      "         |                    \\--------|                    /-Abiotrophia defectiva\n",
      "         |                             |          /--------|\n",
      "---------|                              \\--------|          \\-Bacillus schlegelii\n",
      "         |                                       |\n",
      "         |                                        \\-Fibrobacter succinogenes\n",
      "         |\n",
      "         |          /-Fibrobacter intestinalis\n",
      "         |---------|\n",
      "         |          \\-Dictyoglomus thermophilum\n",
      "         |\n",
      "          \\-Thermus scotoductus\n"
     ]
    }
   ],
   "source": [
    "print(complex_tree.ascii_art(show_internal=False))"
   ]
  },
  {
   "cell_type": "code",
   "execution_count": 13,
   "id": "6535277c",
   "metadata": {
    "execution": {
     "iopub.execute_input": "2023-12-15T00:10:57.723843Z",
     "iopub.status.busy": "2023-12-15T00:10:57.723778Z",
     "iopub.status.idle": "2023-12-15T00:10:57.725245Z",
     "shell.execute_reply": "2023-12-15T00:10:57.725006Z"
    }
   },
   "outputs": [],
   "source": [
    "tips = complex_tree.tips()"
   ]
  },
  {
   "cell_type": "code",
   "execution_count": 14,
   "id": "f100c74a",
   "metadata": {
    "execution": {
     "iopub.execute_input": "2023-12-15T00:10:57.726291Z",
     "iopub.status.busy": "2023-12-15T00:10:57.726227Z",
     "iopub.status.idle": "2023-12-15T00:10:57.727962Z",
     "shell.execute_reply": "2023-12-15T00:10:57.727745Z"
    }
   },
   "outputs": [],
   "source": [
    "tips_to_delete = []\n",
    "AEROCOCCUS_INDEX = 3\n",
    "for n in tips:\n",
    "    if tips[AEROCOCCUS_INDEX].distance(n) > 1.8:\n",
    "        tips_to_delete.append(n)"
   ]
  },
  {
   "cell_type": "code",
   "execution_count": 15,
   "id": "1b070229",
   "metadata": {
    "execution": {
     "iopub.execute_input": "2023-12-15T00:10:57.729086Z",
     "iopub.status.busy": "2023-12-15T00:10:57.729008Z",
     "iopub.status.idle": "2023-12-15T00:10:57.730701Z",
     "shell.execute_reply": "2023-12-15T00:10:57.730469Z"
    }
   },
   "outputs": [],
   "source": [
    "for n in tips_to_delete:\n",
    "    n.parent.remove(n)\n",
    "    complex_tree.prune()"
   ]
  },
  {
   "cell_type": "code",
   "execution_count": 16,
   "id": "6931afb1",
   "metadata": {
    "execution": {
     "iopub.execute_input": "2023-12-15T00:10:57.731911Z",
     "iopub.status.busy": "2023-12-15T00:10:57.731839Z",
     "iopub.status.idle": "2023-12-15T00:10:57.733605Z",
     "shell.execute_reply": "2023-12-15T00:10:57.733361Z"
    }
   },
   "outputs": [
    {
     "name": "stdout",
     "output_type": "stream",
     "text": [
      "                              /-Alkalibacterium putridalgicola\n",
      "                    /--------|\n",
      "                   |          \\-Marinilactibacillus psychrotolerans\n",
      "--------- /--------|\n",
      "                   |          /-Facklamia hominis\n",
      "                   |         |\n",
      "                    \\--------|          /-Aerococcus viridans\n",
      "                             |         |\n",
      "                              \\--------|                    /-Abiotrophia defectiva\n",
      "                                       |          /--------|\n",
      "                                        \\--------|          \\-Bacillus schlegelii\n",
      "                                                 |\n",
      "                                                  \\-Fibrobacter succinogenes\n"
     ]
    }
   ],
   "source": [
    "print(complex_tree.ascii_art(show_internal=False))"
   ]
  }
 ],
 "metadata": {
  "kernelspec": {
   "display_name": "Python 3 (ipykernel)",
   "language": "python",
   "name": "python3"
  },
  "language_info": {
   "codemirror_mode": {
    "name": "ipython",
    "version": 3
   },
   "file_extension": ".py",
   "mimetype": "text/x-python",
   "name": "python",
   "nbconvert_exporter": "python",
   "pygments_lexer": "ipython3",
   "version": "3.11.6"
  }
 },
 "nbformat": 4,
 "nbformat_minor": 5
}