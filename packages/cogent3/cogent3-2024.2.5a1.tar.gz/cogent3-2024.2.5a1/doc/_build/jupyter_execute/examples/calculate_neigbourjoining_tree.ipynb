{
 "cells": [
  {
   "cell_type": "code",
   "execution_count": 1,
   "id": "29adbe00",
   "metadata": {
    "execution": {
     "iopub.execute_input": "2023-12-15T00:10:07.695476Z",
     "iopub.status.busy": "2023-12-15T00:10:07.694644Z",
     "iopub.status.idle": "2023-12-15T00:10:07.708237Z",
     "shell.execute_reply": "2023-12-15T00:10:07.707658Z"
    }
   },
   "outputs": [],
   "source": [
    "import set_working_directory"
   ]
  },
  {
   "cell_type": "code",
   "execution_count": 2,
   "id": "e94451e9",
   "metadata": {
    "execution": {
     "iopub.execute_input": "2023-12-15T00:10:07.710700Z",
     "iopub.status.busy": "2023-12-15T00:10:07.710507Z",
     "iopub.status.idle": "2023-12-15T00:10:08.863487Z",
     "shell.execute_reply": "2023-12-15T00:10:08.863065Z"
    }
   },
   "outputs": [],
   "source": [
    "from cogent3 import load_aligned_seqs\n",
    "from cogent3.evolve import distance\n",
    "from cogent3.phylo import nj"
   ]
  },
  {
   "cell_type": "code",
   "execution_count": 3,
   "id": "8e5a055e",
   "metadata": {
    "execution": {
     "iopub.execute_input": "2023-12-15T00:10:08.865450Z",
     "iopub.status.busy": "2023-12-15T00:10:08.865301Z",
     "iopub.status.idle": "2023-12-15T00:10:08.867043Z",
     "shell.execute_reply": "2023-12-15T00:10:08.866770Z"
    }
   },
   "outputs": [],
   "source": [
    "from cogent3.evolve.models import get_model"
   ]
  },
  {
   "cell_type": "code",
   "execution_count": 4,
   "id": "7f7bb424",
   "metadata": {
    "execution": {
     "iopub.execute_input": "2023-12-15T00:10:08.868335Z",
     "iopub.status.busy": "2023-12-15T00:10:08.868258Z",
     "iopub.status.idle": "2023-12-15T00:10:08.871201Z",
     "shell.execute_reply": "2023-12-15T00:10:08.870874Z"
    }
   },
   "outputs": [],
   "source": [
    "al = load_aligned_seqs(\"data/long_testseqs.fasta\")"
   ]
  },
  {
   "cell_type": "code",
   "execution_count": 5,
   "id": "2f0bb307",
   "metadata": {
    "execution": {
     "iopub.execute_input": "2023-12-15T00:10:08.872412Z",
     "iopub.status.busy": "2023-12-15T00:10:08.872310Z",
     "iopub.status.idle": "2023-12-15T00:10:09.147815Z",
     "shell.execute_reply": "2023-12-15T00:10:09.147541Z"
    }
   },
   "outputs": [],
   "source": [
    "d = distance.EstimateDistances(al, submodel=get_model(\"HKY85\"))\n",
    "d.run(show_progress=False)"
   ]
  },
  {
   "cell_type": "code",
   "execution_count": 6,
   "id": "1eacab51",
   "metadata": {
    "execution": {
     "iopub.execute_input": "2023-12-15T00:10:09.149273Z",
     "iopub.status.busy": "2023-12-15T00:10:09.149173Z",
     "iopub.status.idle": "2023-12-15T00:10:09.151791Z",
     "shell.execute_reply": "2023-12-15T00:10:09.151492Z"
    }
   },
   "outputs": [
    {
     "name": "stdout",
     "output_type": "stream",
     "text": [
      "                    /-NineBande\n",
      "          /edge.0--|\n",
      "         |          \\-DogFaced\n",
      "         |\n",
      "-root----|--Mouse\n",
      "         |\n",
      "         |          /-HowlerMon\n",
      "          \\edge.1--|\n",
      "                    \\-Human\n"
     ]
    }
   ],
   "source": [
    "mytree = nj.nj(d.get_pairwise_distances(), show_progress=False)\n",
    "print(mytree.ascii_art())"
   ]
  },
  {
   "cell_type": "code",
   "execution_count": 7,
   "id": "f11a5b26",
   "metadata": {
    "execution": {
     "iopub.execute_input": "2023-12-15T00:10:09.153240Z",
     "iopub.status.busy": "2023-12-15T00:10:09.153066Z",
     "iopub.status.idle": "2023-12-15T00:10:09.155655Z",
     "shell.execute_reply": "2023-12-15T00:10:09.155391Z"
    }
   },
   "outputs": [],
   "source": [
    "mytree.write(\"test_nj.tree\")"
   ]
  },
  {
   "cell_type": "code",
   "execution_count": 8,
   "id": "b0c1236a",
   "metadata": {
    "execution": {
     "iopub.execute_input": "2023-12-15T00:10:09.156996Z",
     "iopub.status.busy": "2023-12-15T00:10:09.156902Z",
     "iopub.status.idle": "2023-12-15T00:10:09.158622Z",
     "shell.execute_reply": "2023-12-15T00:10:09.158356Z"
    }
   },
   "outputs": [],
   "source": [
    "import os\n",
    "\n",
    "os.remove(\"test_nj.tree\")"
   ]
  }
 ],
 "metadata": {
  "kernelspec": {
   "display_name": "Python 3 (ipykernel)",
   "language": "python",
   "name": "python3"
  },
  "language_info": {
   "codemirror_mode": {
    "name": "ipython",
    "version": 3
   },
   "file_extension": ".py",
   "mimetype": "text/x-python",
   "name": "python",
   "nbconvert_exporter": "python",
   "pygments_lexer": "ipython3",
   "version": "3.11.6"
  }
 },
 "nbformat": 4,
 "nbformat_minor": 5
}