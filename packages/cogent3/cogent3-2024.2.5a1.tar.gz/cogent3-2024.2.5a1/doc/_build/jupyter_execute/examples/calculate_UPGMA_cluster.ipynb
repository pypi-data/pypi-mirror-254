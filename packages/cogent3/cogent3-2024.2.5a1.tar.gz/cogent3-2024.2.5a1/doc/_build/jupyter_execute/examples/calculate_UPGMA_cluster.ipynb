{
 "cells": [
  {
   "cell_type": "code",
   "execution_count": 1,
   "id": "496de93c",
   "metadata": {
    "execution": {
     "iopub.execute_input": "2023-12-15T00:10:05.215051Z",
     "iopub.status.busy": "2023-12-15T00:10:05.214800Z",
     "iopub.status.idle": "2023-12-15T00:10:05.226760Z",
     "shell.execute_reply": "2023-12-15T00:10:05.226290Z"
    }
   },
   "outputs": [],
   "source": [
    "import set_working_directory"
   ]
  },
  {
   "cell_type": "code",
   "execution_count": 2,
   "id": "30527b3f",
   "metadata": {
    "execution": {
     "iopub.execute_input": "2023-12-15T00:10:05.229212Z",
     "iopub.status.busy": "2023-12-15T00:10:05.229008Z",
     "iopub.status.idle": "2023-12-15T00:10:06.365298Z",
     "shell.execute_reply": "2023-12-15T00:10:06.364975Z"
    }
   },
   "outputs": [],
   "source": [
    "from cogent3 import load_aligned_seqs\n",
    "from cogent3.cluster.UPGMA import upgma\n",
    "from cogent3.evolve import distance"
   ]
  },
  {
   "cell_type": "code",
   "execution_count": 3,
   "id": "f41795ca",
   "metadata": {
    "execution": {
     "iopub.execute_input": "2023-12-15T00:10:06.366998Z",
     "iopub.status.busy": "2023-12-15T00:10:06.366889Z",
     "iopub.status.idle": "2023-12-15T00:10:06.368691Z",
     "shell.execute_reply": "2023-12-15T00:10:06.368461Z"
    }
   },
   "outputs": [],
   "source": [
    "from cogent3.evolve.models import HKY85"
   ]
  },
  {
   "cell_type": "code",
   "execution_count": 4,
   "id": "89417bf3",
   "metadata": {
    "execution": {
     "iopub.execute_input": "2023-12-15T00:10:06.369910Z",
     "iopub.status.busy": "2023-12-15T00:10:06.369835Z",
     "iopub.status.idle": "2023-12-15T00:10:06.371791Z",
     "shell.execute_reply": "2023-12-15T00:10:06.371525Z"
    }
   },
   "outputs": [],
   "source": [
    "al = load_aligned_seqs(\"data/test.paml\")"
   ]
  },
  {
   "cell_type": "code",
   "execution_count": 5,
   "id": "0cfc2e3b",
   "metadata": {
    "execution": {
     "iopub.execute_input": "2023-12-15T00:10:06.372922Z",
     "iopub.status.busy": "2023-12-15T00:10:06.372850Z",
     "iopub.status.idle": "2023-12-15T00:10:06.495421Z",
     "shell.execute_reply": "2023-12-15T00:10:06.494779Z"
    }
   },
   "outputs": [],
   "source": [
    "d = distance.EstimateDistances(al, submodel=HKY85())\n",
    "d.run(show_progress=False)"
   ]
  },
  {
   "cell_type": "code",
   "execution_count": 6,
   "id": "605fb497",
   "metadata": {
    "execution": {
     "iopub.execute_input": "2023-12-15T00:10:06.498898Z",
     "iopub.status.busy": "2023-12-15T00:10:06.498472Z",
     "iopub.status.idle": "2023-12-15T00:10:06.504468Z",
     "shell.execute_reply": "2023-12-15T00:10:06.502893Z"
    }
   },
   "outputs": [
    {
     "name": "stdout",
     "output_type": "stream",
     "text": [
      "                    /-DogFaced\n",
      "                   |\n",
      "          /edge.0--|                    /-HowlerMon\n",
      "         |         |          /edge.2--|\n",
      "         |          \\edge.1--|          \\-Human\n",
      "-root----|                   |\n",
      "         |                    \\-NineBande\n",
      "         |\n",
      "          \\-Mouse\n"
     ]
    }
   ],
   "source": [
    "mycluster = upgma(d.get_pairwise_distances())\n",
    "print(mycluster.ascii_art())"
   ]
  },
  {
   "cell_type": "code",
   "execution_count": 7,
   "id": "a46981d3",
   "metadata": {
    "execution": {
     "iopub.execute_input": "2023-12-15T00:10:06.508198Z",
     "iopub.status.busy": "2023-12-15T00:10:06.507791Z",
     "iopub.status.idle": "2023-12-15T00:10:06.512347Z",
     "shell.execute_reply": "2023-12-15T00:10:06.511837Z"
    }
   },
   "outputs": [],
   "source": [
    "mycluster.write(\"test_upgma.tree\")"
   ]
  },
  {
   "cell_type": "code",
   "execution_count": 8,
   "id": "c8dbc9c0",
   "metadata": {
    "execution": {
     "iopub.execute_input": "2023-12-15T00:10:06.515375Z",
     "iopub.status.busy": "2023-12-15T00:10:06.515181Z",
     "iopub.status.idle": "2023-12-15T00:10:06.518948Z",
     "shell.execute_reply": "2023-12-15T00:10:06.518151Z"
    }
   },
   "outputs": [],
   "source": [
    "import os\n",
    "\n",
    "os.remove(\"test_upgma.tree\")"
   ]
  }
 ],
 "metadata": {
  "kernelspec": {
   "display_name": "Python 3 (ipykernel)",
   "language": "python",
   "name": "python3"
  },
  "language_info": {
   "codemirror_mode": {
    "name": "ipython",
    "version": 3
   },
   "file_extension": ".py",
   "mimetype": "text/x-python",
   "name": "python",
   "nbconvert_exporter": "python",
   "pygments_lexer": "ipython3",
   "version": "3.11.6"
  }
 },
 "nbformat": 4,
 "nbformat_minor": 5
}