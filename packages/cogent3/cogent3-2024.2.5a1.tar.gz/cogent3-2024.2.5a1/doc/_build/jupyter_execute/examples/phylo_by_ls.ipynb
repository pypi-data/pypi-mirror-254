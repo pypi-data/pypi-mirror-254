{
 "cells": [
  {
   "cell_type": "code",
   "execution_count": 1,
   "id": "a335c901",
   "metadata": {
    "execution": {
     "iopub.execute_input": "2023-12-15T00:11:22.385254Z",
     "iopub.status.busy": "2023-12-15T00:11:22.384892Z",
     "iopub.status.idle": "2023-12-15T00:11:22.404060Z",
     "shell.execute_reply": "2023-12-15T00:11:22.403145Z"
    }
   },
   "outputs": [],
   "source": [
    "import set_working_directory"
   ]
  },
  {
   "cell_type": "code",
   "execution_count": 2,
   "id": "b9de4d74",
   "metadata": {
    "execution": {
     "iopub.execute_input": "2023-12-15T00:11:22.409342Z",
     "iopub.status.busy": "2023-12-15T00:11:22.408959Z",
     "iopub.status.idle": "2023-12-15T00:11:23.873586Z",
     "shell.execute_reply": "2023-12-15T00:11:23.872725Z"
    }
   },
   "outputs": [],
   "source": [
    "import pickle\n",
    "\n",
    "from cogent3 import load_aligned_seqs\n",
    "from cogent3.evolve import distance\n",
    "from cogent3.evolve.fast_distance import DistanceMatrix\n",
    "from cogent3.evolve.models import HKY85\n",
    "\n",
    "al = load_aligned_seqs(\"data/long_testseqs.fasta\")\n",
    "d = distance.EstimateDistances(al, submodel=HKY85())\n",
    "d.run(show_progress=False)\n",
    "\n",
    "with open(\"dists_for_phylo.pickle\", \"wb\") as f:\n",
    "    pickle.dump(d.get_pairwise_distances(), f)"
   ]
  },
  {
   "cell_type": "code",
   "execution_count": 3,
   "id": "ae98be1f",
   "metadata": {
    "execution": {
     "iopub.execute_input": "2023-12-15T00:11:23.877796Z",
     "iopub.status.busy": "2023-12-15T00:11:23.877478Z",
     "iopub.status.idle": "2023-12-15T00:11:23.886980Z",
     "shell.execute_reply": "2023-12-15T00:11:23.886236Z"
    }
   },
   "outputs": [],
   "source": [
    "import pickle\n",
    "\n",
    "from cogent3.phylo import least_squares"
   ]
  },
  {
   "cell_type": "code",
   "execution_count": 4,
   "id": "52f75580",
   "metadata": {
    "execution": {
     "iopub.execute_input": "2023-12-15T00:11:23.890942Z",
     "iopub.status.busy": "2023-12-15T00:11:23.890694Z",
     "iopub.status.idle": "2023-12-15T00:11:23.895158Z",
     "shell.execute_reply": "2023-12-15T00:11:23.894583Z"
    }
   },
   "outputs": [],
   "source": [
    "with open(\"dists_for_phylo.pickle\", \"rb\") as f:\n",
    "    dists = pickle.load(f)"
   ]
  },
  {
   "cell_type": "code",
   "execution_count": 5,
   "id": "ea3056be",
   "metadata": {
    "execution": {
     "iopub.execute_input": "2023-12-15T00:11:23.901224Z",
     "iopub.status.busy": "2023-12-15T00:11:23.900974Z",
     "iopub.status.idle": "2023-12-15T00:11:23.907000Z",
     "shell.execute_reply": "2023-12-15T00:11:23.906206Z"
    }
   },
   "outputs": [],
   "source": [
    "ls = least_squares.WLS(dists)"
   ]
  },
  {
   "cell_type": "code",
   "execution_count": 6,
   "id": "09507782",
   "metadata": {
    "execution": {
     "iopub.execute_input": "2023-12-15T00:11:23.909741Z",
     "iopub.status.busy": "2023-12-15T00:11:23.909537Z",
     "iopub.status.idle": "2023-12-15T00:11:23.915858Z",
     "shell.execute_reply": "2023-12-15T00:11:23.915182Z"
    }
   },
   "outputs": [],
   "source": [
    "ls_distance_matrix = least_squares.WLS(DistanceMatrix(dists))\n",
    "ls_pairwise_matrix = least_squares.WLS(dists.to_dict())"
   ]
  },
  {
   "cell_type": "code",
   "execution_count": 7,
   "id": "61655374",
   "metadata": {
    "execution": {
     "iopub.execute_input": "2023-12-15T00:11:23.919368Z",
     "iopub.status.busy": "2023-12-15T00:11:23.919154Z",
     "iopub.status.idle": "2023-12-15T00:11:23.927140Z",
     "shell.execute_reply": "2023-12-15T00:11:23.926515Z"
    }
   },
   "outputs": [],
   "source": [
    "score, tree = ls.trex(a=5, k=1, show_progress=False)\n",
    "assert score < 1e-4"
   ]
  },
  {
   "cell_type": "code",
   "execution_count": 8,
   "id": "fef2aa6b",
   "metadata": {
    "execution": {
     "iopub.execute_input": "2023-12-15T00:11:23.933011Z",
     "iopub.status.busy": "2023-12-15T00:11:23.932743Z",
     "iopub.status.idle": "2023-12-15T00:11:23.938048Z",
     "shell.execute_reply": "2023-12-15T00:11:23.937749Z"
    }
   },
   "outputs": [],
   "source": [
    "trees = ls.trex(a=5, k=5, return_all=True, show_progress=False)"
   ]
  },
  {
   "cell_type": "code",
   "execution_count": 9,
   "id": "b689faa6",
   "metadata": {
    "execution": {
     "iopub.execute_input": "2023-12-15T00:11:23.939259Z",
     "iopub.status.busy": "2023-12-15T00:11:23.939187Z",
     "iopub.status.idle": "2023-12-15T00:11:23.941109Z",
     "shell.execute_reply": "2023-12-15T00:11:23.940897Z"
    }
   },
   "outputs": [
    {
     "name": "stdout",
     "output_type": "stream",
     "text": [
      "5\n"
     ]
    }
   ],
   "source": [
    "print(len(trees))"
   ]
  },
  {
   "cell_type": "code",
   "execution_count": 10,
   "id": "eac7d497",
   "metadata": {
    "execution": {
     "iopub.execute_input": "2023-12-15T00:11:23.942260Z",
     "iopub.status.busy": "2023-12-15T00:11:23.942189Z",
     "iopub.status.idle": "2023-12-15T00:11:23.943880Z",
     "shell.execute_reply": "2023-12-15T00:11:23.943671Z"
    }
   },
   "outputs": [],
   "source": [
    "wls_stats = [tree[0] for tree in trees]"
   ]
  },
  {
   "cell_type": "code",
   "execution_count": 11,
   "id": "965284b9",
   "metadata": {
    "execution": {
     "iopub.execute_input": "2023-12-15T00:11:23.944934Z",
     "iopub.status.busy": "2023-12-15T00:11:23.944873Z",
     "iopub.status.idle": "2023-12-15T00:11:23.946605Z",
     "shell.execute_reply": "2023-12-15T00:11:23.946379Z"
    }
   },
   "outputs": [
    {
     "name": "stdout",
     "output_type": "stream",
     "text": [
      "          /-Mouse\n",
      "         |\n",
      "         |          /-DogFaced\n",
      "-root----|-edge.0--|\n",
      "         |          \\-NineBande\n",
      "         |\n",
      "         |          /-HowlerMon\n",
      "          \\edge.1--|\n",
      "                    \\-Human\n"
     ]
    }
   ],
   "source": [
    "t1 = trees[0][1].balanced()\n",
    "t2 = trees[1][1].balanced()\n",
    "print(t1.ascii_art())"
   ]
  },
  {
   "cell_type": "code",
   "execution_count": 12,
   "id": "d0607bcd",
   "metadata": {
    "execution": {
     "iopub.execute_input": "2023-12-15T00:11:23.947748Z",
     "iopub.status.busy": "2023-12-15T00:11:23.947687Z",
     "iopub.status.idle": "2023-12-15T00:11:23.949176Z",
     "shell.execute_reply": "2023-12-15T00:11:23.948931Z"
    }
   },
   "outputs": [
    {
     "name": "stdout",
     "output_type": "stream",
     "text": [
      "          /-DogFaced\n",
      "         |\n",
      "         |          /-Mouse\n",
      "-root----|-edge.0--|\n",
      "         |          \\-NineBande\n",
      "         |\n",
      "         |          /-HowlerMon\n",
      "          \\edge.1--|\n",
      "                    \\-Human\n"
     ]
    }
   ],
   "source": [
    "print(t2.ascii_art())"
   ]
  },
  {
   "cell_type": "code",
   "execution_count": 13,
   "id": "be0353e4",
   "metadata": {
    "execution": {
     "iopub.execute_input": "2023-12-15T00:11:23.950324Z",
     "iopub.status.busy": "2023-12-15T00:11:23.950266Z",
     "iopub.status.idle": "2023-12-15T00:11:23.951971Z",
     "shell.execute_reply": "2023-12-15T00:11:23.951734Z"
    }
   },
   "outputs": [],
   "source": [
    "from cogent3 import make_tree\n",
    "\n",
    "query_tree = make_tree(\n",
    "    \"((Human:.2,DogFaced:.2):.3,(NineBande:.1, Mouse:.5):.2,HowlerMon:.1)\"\n",
    ")"
   ]
  },
  {
   "cell_type": "code",
   "execution_count": 14,
   "id": "c8f5aa33",
   "metadata": {
    "execution": {
     "iopub.execute_input": "2023-12-15T00:11:23.953319Z",
     "iopub.status.busy": "2023-12-15T00:11:23.953189Z",
     "iopub.status.idle": "2023-12-15T00:11:23.956511Z",
     "shell.execute_reply": "2023-12-15T00:11:23.956236Z"
    }
   },
   "outputs": [
    {
     "data": {
      "text/plain": [
       "2.8938102730180066"
      ]
     },
     "execution_count": 14,
     "metadata": {},
     "output_type": "execute_result"
    }
   ],
   "source": [
    "ls.evaluate_tree(query_tree)"
   ]
  },
  {
   "cell_type": "code",
   "execution_count": 15,
   "id": "28cb0dc3",
   "metadata": {
    "execution": {
     "iopub.execute_input": "2023-12-15T00:11:23.957821Z",
     "iopub.status.busy": "2023-12-15T00:11:23.957741Z",
     "iopub.status.idle": "2023-12-15T00:11:23.959649Z",
     "shell.execute_reply": "2023-12-15T00:11:23.959409Z"
    }
   },
   "outputs": [],
   "source": [
    "wls, t = ls.evaluate_topology(query_tree)\n",
    "assert \"%.4f\" % wls == \"0.0084\""
   ]
  },
  {
   "cell_type": "code",
   "execution_count": 16,
   "id": "631f3b8c",
   "metadata": {
    "execution": {
     "iopub.execute_input": "2023-12-15T00:11:23.960715Z",
     "iopub.status.busy": "2023-12-15T00:11:23.960653Z",
     "iopub.status.idle": "2023-12-15T00:11:23.962272Z",
     "shell.execute_reply": "2023-12-15T00:11:23.962046Z"
    }
   },
   "outputs": [],
   "source": [
    "import os\n",
    "\n",
    "os.remove(\"dists_for_phylo.pickle\")"
   ]
  }
 ],
 "metadata": {
  "kernelspec": {
   "display_name": "Python 3 (ipykernel)",
   "language": "python",
   "name": "python3"
  },
  "language_info": {
   "codemirror_mode": {
    "name": "ipython",
    "version": 3
   },
   "file_extension": ".py",
   "mimetype": "text/x-python",
   "name": "python",
   "nbconvert_exporter": "python",
   "pygments_lexer": "ipython3",
   "version": "3.11.6"
  }
 },
 "nbformat": 4,
 "nbformat_minor": 5
}