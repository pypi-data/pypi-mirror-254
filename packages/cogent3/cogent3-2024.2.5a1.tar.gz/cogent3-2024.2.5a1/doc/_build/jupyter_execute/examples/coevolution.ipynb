{
 "cells": [
  {
   "cell_type": "code",
   "execution_count": 1,
   "id": "18b89bcf",
   "metadata": {
    "execution": {
     "iopub.execute_input": "2023-12-15T00:10:42.225576Z",
     "iopub.status.busy": "2023-12-15T00:10:42.225095Z",
     "iopub.status.idle": "2023-12-15T00:10:43.362343Z",
     "shell.execute_reply": "2023-12-15T00:10:43.361944Z"
    }
   },
   "outputs": [],
   "source": [
    "from cogent3 import make_aligned_seqs\n",
    "from cogent3.core.alignment import ArrayAlignment\n",
    "from cogent3.evolve.coevolution import validate_alignment\n",
    "\n",
    "aln = make_aligned_seqs(\n",
    "    {\"1\": \"GAA\", \"2\": \"CTA\", \"3\": \"CTC\", \"4\": \"-TC\"},\n",
    "    moltype=\"protein\",\n",
    "    array_align=True,\n",
    ")\n",
    "validate_alignment(aln)"
   ]
  },
  {
   "cell_type": "code",
   "execution_count": 2,
   "id": "583e20fd",
   "metadata": {
    "execution": {
     "iopub.execute_input": "2023-12-15T00:10:43.364008Z",
     "iopub.status.busy": "2023-12-15T00:10:43.363900Z",
     "iopub.status.idle": "2023-12-15T00:10:43.365949Z",
     "shell.execute_reply": "2023-12-15T00:10:43.365695Z"
    }
   },
   "outputs": [],
   "source": [
    "from cogent3 import make_aligned_seqs\n",
    "from cogent3.core.alignment import ArrayAlignment\n",
    "\n",
    "aln = make_aligned_seqs(\n",
    "    {\"1\": \"AAA\", \"2\": \"CTA\", \"3\": \"CTC\", \"4\": \"-TC\"},\n",
    "    moltype=\"protein\",\n",
    "    array_align=True,\n",
    ")"
   ]
  },
  {
   "cell_type": "code",
   "execution_count": 3,
   "id": "b4230f1a",
   "metadata": {
    "execution": {
     "iopub.execute_input": "2023-12-15T00:10:43.367136Z",
     "iopub.status.busy": "2023-12-15T00:10:43.367039Z",
     "iopub.status.idle": "2023-12-15T00:10:43.370853Z",
     "shell.execute_reply": "2023-12-15T00:10:43.370615Z"
    }
   },
   "outputs": [
    {
     "data": {
      "text/plain": [
       "0.31127812445913294"
      ]
     },
     "execution_count": 3,
     "metadata": {},
     "output_type": "execute_result"
    }
   ],
   "source": [
    "from cogent3.evolve.coevolution import (\n",
    "    coevolve_pair,\n",
    "    coevolve_pair_functions,\n",
    ")\n",
    "\n",
    "coevolve_pair(coevolve_pair_functions[\"mi\"], aln, pos1=1, pos2=2)"
   ]
  },
  {
   "cell_type": "code",
   "execution_count": 4,
   "id": "a456b192",
   "metadata": {
    "execution": {
     "iopub.execute_input": "2023-12-15T00:10:43.371988Z",
     "iopub.status.busy": "2023-12-15T00:10:43.371920Z",
     "iopub.status.idle": "2023-12-15T00:10:43.374723Z",
     "shell.execute_reply": "2023-12-15T00:10:43.374499Z"
    }
   },
   "outputs": [
    {
     "data": {
      "text/plain": [
       "0.980536895536287"
      ]
     },
     "execution_count": 4,
     "metadata": {},
     "output_type": "execute_result"
    }
   ],
   "source": [
    "from cogent3.evolve.coevolution import (\n",
    "    coevolve_pair,\n",
    "    coevolve_pair_functions,\n",
    ")\n",
    "\n",
    "coevolve_pair(coevolve_pair_functions[\"sca\"], aln, pos1=1, pos2=2, cutoff=0.5)"
   ]
  },
  {
   "cell_type": "code",
   "execution_count": 5,
   "id": "7d241d57",
   "metadata": {
    "execution": {
     "iopub.execute_input": "2023-12-15T00:10:43.375944Z",
     "iopub.status.busy": "2023-12-15T00:10:43.375869Z",
     "iopub.status.idle": "2023-12-15T00:10:43.378429Z",
     "shell.execute_reply": "2023-12-15T00:10:43.378202Z"
    }
   },
   "outputs": [
    {
     "data": {
      "text/plain": [
       "array([       nan, 0.81127812, 0.31127812])"
      ]
     },
     "execution_count": 5,
     "metadata": {},
     "output_type": "execute_result"
    }
   ],
   "source": [
    "from cogent3.evolve.coevolution import (\n",
    "    coevolve_position,\n",
    "    coevolve_position_functions,\n",
    ")\n",
    "\n",
    "coevolve_position(coevolve_position_functions[\"mi\"], aln, position=1)"
   ]
  },
  {
   "cell_type": "code",
   "execution_count": 6,
   "id": "3d1be963",
   "metadata": {
    "execution": {
     "iopub.execute_input": "2023-12-15T00:10:43.379532Z",
     "iopub.status.busy": "2023-12-15T00:10:43.379463Z",
     "iopub.status.idle": "2023-12-15T00:10:43.382190Z",
     "shell.execute_reply": "2023-12-15T00:10:43.381964Z"
    }
   },
   "outputs": [
    {
     "data": {
      "text/plain": [
       "array([[       nan,        nan,        nan],\n",
       "       [       nan, 0.81127812, 0.31127812],\n",
       "       [       nan, 0.31127812, 1.        ]])"
      ]
     },
     "execution_count": 6,
     "metadata": {},
     "output_type": "execute_result"
    }
   ],
   "source": [
    "from cogent3.evolve.coevolution import (\n",
    "    coevolve_alignment,\n",
    "    coevolve_alignment_functions,\n",
    ")\n",
    "\n",
    "coevolve_alignment(coevolve_alignment_functions[\"mi\"], aln)"
   ]
  },
  {
   "cell_type": "code",
   "execution_count": 7,
   "id": "bd8be060",
   "metadata": {
    "execution": {
     "iopub.execute_input": "2023-12-15T00:10:43.383310Z",
     "iopub.status.busy": "2023-12-15T00:10:43.383240Z",
     "iopub.status.idle": "2023-12-15T00:10:43.384970Z",
     "shell.execute_reply": "2023-12-15T00:10:43.384753Z"
    }
   },
   "outputs": [
    {
     "name": "stdout",
     "output_type": "stream",
     "text": [
      "dict_keys(['mi', 'nmi', 'rmi', 'sca', 'an'])\n"
     ]
    }
   ],
   "source": [
    "print(coevolve_pair_functions.keys())"
   ]
  },
  {
   "cell_type": "code",
   "execution_count": 8,
   "id": "7593a0b1",
   "metadata": {
    "execution": {
     "iopub.execute_input": "2023-12-15T00:10:43.386090Z",
     "iopub.status.busy": "2023-12-15T00:10:43.386024Z",
     "iopub.status.idle": "2023-12-15T00:10:43.390945Z",
     "shell.execute_reply": "2023-12-15T00:10:43.390718Z"
    }
   },
   "outputs": [
    {
     "data": {
      "text/plain": [
       "array([[       nan,        nan,        nan],\n",
       "       [       nan, 0.12255625, 0.31127812],\n",
       "       [       nan, 0.31127812, 0.        ],\n",
       "       [       nan, 0.31127812, 0.        ]])"
      ]
     },
     "execution_count": 8,
     "metadata": {},
     "output_type": "execute_result"
    }
   ],
   "source": [
    "from cogent3.evolve.coevolution import (\n",
    "    coevolve_alignment_functions,\n",
    "    coevolve_alignments,\n",
    ")\n",
    "\n",
    "aln1 = make_aligned_seqs(\n",
    "    {\n",
    "        \"human+protein1\": \"AAA\",\n",
    "        \"pig+protein1\": \"CTA\",\n",
    "        \"chicken+protein1\": \"CTC\",\n",
    "        \"echidna+weird_db_identifier\": \"-TC\",\n",
    "    },\n",
    "    moltype=\"protein\",\n",
    "    array_align=True,\n",
    ")\n",
    "aln2 = make_aligned_seqs(\n",
    "    {\n",
    "        \"pig+protein2\": \"AAAY\",\n",
    "        \"chicken+protein2\": \"CTAY\",\n",
    "        \"echidna+protein2\": \"CTCF\",\n",
    "        \"human+protein2\": \"-TCF\",\n",
    "    },\n",
    "    moltype=\"protein\",\n",
    "    array_align=True,\n",
    ")\n",
    "coevolve_alignments(coevolve_alignment_functions[\"mi\"], aln1, aln2)"
   ]
  }
 ],
 "metadata": {
  "kernelspec": {
   "display_name": "Python 3 (ipykernel)",
   "language": "python",
   "name": "python3"
  },
  "language_info": {
   "codemirror_mode": {
    "name": "ipython",
    "version": 3
   },
   "file_extension": ".py",
   "mimetype": "text/x-python",
   "name": "python",
   "nbconvert_exporter": "python",
   "pygments_lexer": "ipython3",
   "version": "3.11.6"
  }
 },
 "nbformat": 4,
 "nbformat_minor": 5
}