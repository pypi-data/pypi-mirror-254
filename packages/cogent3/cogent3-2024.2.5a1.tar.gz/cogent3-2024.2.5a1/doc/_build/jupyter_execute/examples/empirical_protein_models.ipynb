{
 "cells": [
  {
   "cell_type": "code",
   "execution_count": 1,
   "id": "03443db7",
   "metadata": {
    "execution": {
     "iopub.execute_input": "2023-12-15T00:10:44.618508Z",
     "iopub.status.busy": "2023-12-15T00:10:44.618182Z",
     "iopub.status.idle": "2023-12-15T00:10:44.630240Z",
     "shell.execute_reply": "2023-12-15T00:10:44.629863Z"
    }
   },
   "outputs": [],
   "source": [
    "import set_working_directory"
   ]
  },
  {
   "cell_type": "code",
   "execution_count": 2,
   "id": "53ce8eca",
   "metadata": {
    "execution": {
     "iopub.execute_input": "2023-12-15T00:10:44.632414Z",
     "iopub.status.busy": "2023-12-15T00:10:44.632245Z",
     "iopub.status.idle": "2023-12-15T00:10:45.792997Z",
     "shell.execute_reply": "2023-12-15T00:10:45.792631Z"
    }
   },
   "outputs": [],
   "source": [
    "from cogent3 import load_aligned_seqs, make_tree\n",
    "from cogent3.evolve.substitution_model import EmpiricalProteinMatrix\n",
    "from cogent3.parse.paml_matrix import PamlMatrixParser"
   ]
  },
  {
   "cell_type": "code",
   "execution_count": 3,
   "id": "89f60287",
   "metadata": {
    "execution": {
     "iopub.execute_input": "2023-12-15T00:10:45.794689Z",
     "iopub.status.busy": "2023-12-15T00:10:45.794582Z",
     "iopub.status.idle": "2023-12-15T00:10:45.796464Z",
     "shell.execute_reply": "2023-12-15T00:10:45.796220Z"
    }
   },
   "outputs": [],
   "source": [
    "treestring = \"(((rabbit,rat),human),goat-cow,marsupial);\"\n",
    "t = make_tree(treestring)"
   ]
  },
  {
   "cell_type": "code",
   "execution_count": 4,
   "id": "2bfd498b",
   "metadata": {
    "execution": {
     "iopub.execute_input": "2023-12-15T00:10:45.797687Z",
     "iopub.status.busy": "2023-12-15T00:10:45.797611Z",
     "iopub.status.idle": "2023-12-15T00:10:45.799666Z",
     "shell.execute_reply": "2023-12-15T00:10:45.799404Z"
    }
   },
   "outputs": [],
   "source": [
    "al = load_aligned_seqs(\"data/abglobin_aa.phylip\", moltype=\"protein\")"
   ]
  },
  {
   "cell_type": "code",
   "execution_count": 5,
   "id": "00b582b7",
   "metadata": {
    "execution": {
     "iopub.execute_input": "2023-12-15T00:10:45.800770Z",
     "iopub.status.busy": "2023-12-15T00:10:45.800704Z",
     "iopub.status.idle": "2023-12-15T00:10:45.802336Z",
     "shell.execute_reply": "2023-12-15T00:10:45.802117Z"
    }
   },
   "outputs": [],
   "source": [
    "matrix_file = open(\"data/dayhoff.dat\")"
   ]
  },
  {
   "cell_type": "code",
   "execution_count": 6,
   "id": "30fc0d59",
   "metadata": {
    "execution": {
     "iopub.execute_input": "2023-12-15T00:10:45.803538Z",
     "iopub.status.busy": "2023-12-15T00:10:45.803472Z",
     "iopub.status.idle": "2023-12-15T00:10:45.805180Z",
     "shell.execute_reply": "2023-12-15T00:10:45.804957Z"
    }
   },
   "outputs": [],
   "source": [
    "empirical_matrix, empirical_frequencies = PamlMatrixParser(matrix_file)"
   ]
  },
  {
   "cell_type": "code",
   "execution_count": 7,
   "id": "57ee6ba3",
   "metadata": {
    "execution": {
     "iopub.execute_input": "2023-12-15T00:10:45.806320Z",
     "iopub.status.busy": "2023-12-15T00:10:45.806255Z",
     "iopub.status.idle": "2023-12-15T00:10:45.807947Z",
     "shell.execute_reply": "2023-12-15T00:10:45.807752Z"
    }
   },
   "outputs": [],
   "source": [
    "sm = EmpiricalProteinMatrix(empirical_matrix, empirical_frequencies)"
   ]
  },
  {
   "cell_type": "code",
   "execution_count": 8,
   "id": "01c5f839",
   "metadata": {
    "execution": {
     "iopub.execute_input": "2023-12-15T00:10:45.808954Z",
     "iopub.status.busy": "2023-12-15T00:10:45.808881Z",
     "iopub.status.idle": "2023-12-15T00:10:45.877764Z",
     "shell.execute_reply": "2023-12-15T00:10:45.877176Z"
    }
   },
   "outputs": [
    {
     "data": {
      "text/html": [
       "<h4>Likelihood function statistics</h4>\n",
       "<p>log-likelihood = -1706.2489</p>\n",
       "<p>number of free parameters = 7</p>\n",
       "\n",
       "<div class=\"c3table\">\n",
       "\n",
       "<style>\n",
       ".c3table table {margin: 10px 0;}\n",
       ".c3table tr:last-child {border-bottom: 1px solid #000;} \n",
       ".c3table tr > th {text-align: left; padding: 0 5px;}\n",
       ".c3table tr > td {text-align: left; padding: 5px;}\n",
       ".c3table tr:nth-child(even) {background: #f7f7f7 !important;}\n",
       ".c3table .ellipsis {background: rgba(0, 0, 0, .01);}\n",
       ".c3table .index {background: rgba(161, 195, 209, 0.0); margin: 10px; font-weight: 600;}\n",
       ".c3table .head_cell {background: rgba(161, 195, 209, 0.75); font-weight: bold; text-align: center;}\n",
       ".c3table caption {color: rgb(250, 250, 250); background: rgba(30, 140, 200, 1); padding: 3px; white-space: nowrap; caption-side: top;}\n",
       ".c3table .cell_title {font-weight: bold;}\n",
       ".c3col_left { text-align: left !important; display: block;}\n",
       ".c3col_right { text-align: right !important; display: block;}\n",
       ".c3col_center { text-align: center !important; display: block;}\n",
       "</style>\n",
       "\n",
       "<table>\n",
       "\n",
       "<caption>\n",
       "<span class=\"cell_title\">Edge params</span>\n",
       "</caption>\n",
       "<thead class=\"head_cell\">\n",
       "<th>edge</th><th>parent</th><th>length</th>\n",
       "</thead>\n",
       "<tbody>\n",
       "<tr><td><span class=\"c3col_left\">rabbit</span></td><td><span class=\"c3col_left\">edge.0</span></td><td><span class=\"c3col_right\">0.0785</span></td></tr>\n",
       "<tr><td><span class=\"c3col_left\">rat</span></td><td><span class=\"c3col_left\">edge.0</span></td><td><span class=\"c3col_right\">0.1750</span></td></tr>\n",
       "<tr><td><span class=\"c3col_left\">edge.0</span></td><td><span class=\"c3col_left\">edge.1</span></td><td><span class=\"c3col_right\">0.0324</span></td></tr>\n",
       "<tr><td><span class=\"c3col_left\">human</span></td><td><span class=\"c3col_left\">edge.1</span></td><td><span class=\"c3col_right\">0.0545</span></td></tr>\n",
       "<tr><td><span class=\"c3col_left\">edge.1</span></td><td><span class=\"c3col_left\">root</span></td><td><span class=\"c3col_right\">0.0269</span></td></tr>\n",
       "<tr><td><span class=\"c3col_left\">goat-cow</span></td><td><span class=\"c3col_left\">root</span></td><td><span class=\"c3col_right\">0.0972</span></td></tr>\n",
       "<tr><td><span class=\"c3col_left\">marsupial</span></td><td><span class=\"c3col_left\">root</span></td><td><span class=\"c3col_right\">0.2424</span></td></tr>\n",
       "</tbody>\n",
       "</table>\n",
       "\n",
       "</div>\n",
       "\n",
       "<div class=\"c3table\">\n",
       "\n",
       "<style>\n",
       ".c3table table {margin: 10px 0;}\n",
       ".c3table tr:last-child {border-bottom: 1px solid #000;} \n",
       ".c3table tr > th {text-align: left; padding: 0 5px;}\n",
       ".c3table tr > td {text-align: left; padding: 5px;}\n",
       ".c3table tr:nth-child(even) {background: #f7f7f7 !important;}\n",
       ".c3table .ellipsis {background: rgba(0, 0, 0, .01);}\n",
       ".c3table .index {background: rgba(161, 195, 209, 0.0); margin: 10px; font-weight: 600;}\n",
       ".c3table .head_cell {background: rgba(161, 195, 209, 0.75); font-weight: bold; text-align: center;}\n",
       ".c3table caption {color: rgb(250, 250, 250); background: rgba(30, 140, 200, 1); padding: 3px; white-space: nowrap; caption-side: top;}\n",
       ".c3table .cell_title {font-weight: bold;}\n",
       ".c3col_left { text-align: left !important; display: block;}\n",
       ".c3col_right { text-align: right !important; display: block;}\n",
       ".c3col_center { text-align: center !important; display: block;}\n",
       "</style>\n",
       "\n",
       "<table>\n",
       "\n",
       "<caption>\n",
       "<span class=\"cell_title\">Motif params</span>\n",
       "</caption>\n",
       "<thead class=\"head_cell\">\n",
       "<th>A</th><th>C</th><th>D</th><th>E</th><th>F</th><th>G</th><th>H</th><th>I</th><th>K</th><th>L</th>\n",
       "</thead>\n",
       "<tbody>\n",
       "<tr><td><span class=\"c3col_right\">0.0871</span></td><td><span class=\"c3col_right\">0.0335</span></td><td><span class=\"c3col_right\">0.0469</span></td><td><span class=\"c3col_right\">0.0495</span></td><td><span class=\"c3col_right\">0.0398</span></td><td><span class=\"c3col_right\">0.0886</span></td><td><span class=\"c3col_right\">0.0336</span></td><td><span class=\"c3col_right\">0.0369</span></td><td><span class=\"c3col_right\">0.0805</span></td><td><span class=\"c3col_right\">0.0854</span></td></tr>\n",
       "</tbody>\n",
       "</table>\n",
       "\n",
       "<table>\n",
       "\n",
       "<caption>\n",
       "<span class=\"cell_title\">continuation</span>\n",
       "</caption>\n",
       "<thead class=\"head_cell\">\n",
       "<th>M</th><th>N</th><th>P</th><th>Q</th><th>R</th><th>S</th><th>T</th><th>V</th><th>W</th><th>Y</th>\n",
       "</thead>\n",
       "<tbody>\n",
       "<tr><td><span class=\"c3col_right\">0.0148</span></td><td><span class=\"c3col_right\">0.0404</span></td><td><span class=\"c3col_right\">0.0507</span></td><td><span class=\"c3col_right\">0.0383</span></td><td><span class=\"c3col_right\">0.0409</span></td><td><span class=\"c3col_right\">0.0696</span></td><td><span class=\"c3col_right\">0.0585</span></td><td><span class=\"c3col_right\">0.0647</span></td><td><span class=\"c3col_right\">0.0105</span></td><td><span class=\"c3col_right\">0.0299</span></td></tr>\n",
       "</tbody>\n",
       "</table>\n",
       "\n",
       "</div>"
      ],
      "text/plain": [
       "Likelihood function statistics\n",
       "log-likelihood = -1706.2489\n",
       "number of free parameters = 7\n",
       "=============================\n",
       "edge         parent    length\n",
       "-----------------------------\n",
       "rabbit       edge.0    0.0785\n",
       "rat          edge.0    0.1750\n",
       "edge.0       edge.1    0.0324\n",
       "human        edge.1    0.0545\n",
       "edge.1       root      0.0269\n",
       "goat-cow     root      0.0972\n",
       "marsupial    root      0.2424\n",
       "-----------------------------\n",
       "============================================================================\n",
       "     A         C         D         E         F         G         H         I\n",
       "----------------------------------------------------------------------------\n",
       "0.0871    0.0335    0.0469    0.0495    0.0398    0.0886    0.0336    0.0369\n",
       "----------------------------------------------------------------------------\n",
       "\n",
       "continued: \n",
       "============================================================================\n",
       "     K         L         M         N         P         Q         R         S\n",
       "----------------------------------------------------------------------------\n",
       "0.0805    0.0854    0.0148    0.0404    0.0507    0.0383    0.0409    0.0696\n",
       "----------------------------------------------------------------------------\n",
       "\n",
       "continued: \n",
       "====================================\n",
       "     T         V         W         Y\n",
       "------------------------------------\n",
       "0.0585    0.0647    0.0105    0.0299\n",
       "------------------------------------"
      ]
     },
     "execution_count": 8,
     "metadata": {},
     "output_type": "execute_result"
    }
   ],
   "source": [
    "lf = sm.make_likelihood_function(t)\n",
    "lf.set_alignment(al)\n",
    "lf.optimise(show_progress=False)\n",
    "lf"
   ]
  }
 ],
 "metadata": {
  "kernelspec": {
   "display_name": "Python 3 (ipykernel)",
   "language": "python",
   "name": "python3"
  },
  "language_info": {
   "codemirror_mode": {
    "name": "ipython",
    "version": 3
   },
   "file_extension": ".py",
   "mimetype": "text/x-python",
   "name": "python",
   "nbconvert_exporter": "python",
   "pygments_lexer": "ipython3",
   "version": "3.11.6"
  }
 },
 "nbformat": 4,
 "nbformat_minor": 5
}