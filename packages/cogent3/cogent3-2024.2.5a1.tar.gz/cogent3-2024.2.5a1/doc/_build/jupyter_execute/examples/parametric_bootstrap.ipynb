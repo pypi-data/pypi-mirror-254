{
 "cells": [
  {
   "cell_type": "code",
   "execution_count": 1,
   "id": "4f3045af",
   "metadata": {
    "execution": {
     "iopub.execute_input": "2023-12-15T00:11:15.697994Z",
     "iopub.status.busy": "2023-12-15T00:11:15.697654Z",
     "iopub.status.idle": "2023-12-15T00:11:15.712866Z",
     "shell.execute_reply": "2023-12-15T00:11:15.712069Z"
    }
   },
   "outputs": [],
   "source": [
    "import set_working_directory"
   ]
  },
  {
   "cell_type": "code",
   "execution_count": 2,
   "id": "136ff2ba",
   "metadata": {
    "execution": {
     "iopub.execute_input": "2023-12-15T00:11:15.717241Z",
     "iopub.status.busy": "2023-12-15T00:11:15.716966Z",
     "iopub.status.idle": "2023-12-15T00:11:17.022176Z",
     "shell.execute_reply": "2023-12-15T00:11:17.021833Z"
    }
   },
   "outputs": [],
   "source": [
    "from cogent3 import load_aligned_seqs, load_tree\n",
    "from cogent3.evolve import bootstrap\n",
    "from cogent3.evolve.models import HKY85"
   ]
  },
  {
   "cell_type": "code",
   "execution_count": 3,
   "id": "6b2fecba",
   "metadata": {
    "execution": {
     "iopub.execute_input": "2023-12-15T00:11:17.023863Z",
     "iopub.status.busy": "2023-12-15T00:11:17.023721Z",
     "iopub.status.idle": "2023-12-15T00:11:17.025600Z",
     "shell.execute_reply": "2023-12-15T00:11:17.025357Z"
    }
   },
   "outputs": [],
   "source": [
    "def create_alt_function():\n",
    "    t = load_tree(\"data/test.tree\")\n",
    "    sm = HKY85()\n",
    "    return sm.make_likelihood_function(t)"
   ]
  },
  {
   "cell_type": "code",
   "execution_count": 4,
   "id": "9e78a701",
   "metadata": {
    "execution": {
     "iopub.execute_input": "2023-12-15T00:11:17.026895Z",
     "iopub.status.busy": "2023-12-15T00:11:17.026806Z",
     "iopub.status.idle": "2023-12-15T00:11:17.028606Z",
     "shell.execute_reply": "2023-12-15T00:11:17.028350Z"
    }
   },
   "outputs": [],
   "source": [
    "def create_null_function():\n",
    "    lf = create_alt_function()\n",
    "    # set the local clock for humans & howler monkey\n",
    "    lf.set_local_clock(\"Human\", \"HowlerMon\")\n",
    "    return lf"
   ]
  },
  {
   "cell_type": "code",
   "execution_count": 5,
   "id": "8cfd1743",
   "metadata": {
    "execution": {
     "iopub.execute_input": "2023-12-15T00:11:17.029963Z",
     "iopub.status.busy": "2023-12-15T00:11:17.029857Z",
     "iopub.status.idle": "2023-12-15T00:11:17.032749Z",
     "shell.execute_reply": "2023-12-15T00:11:17.032513Z"
    }
   },
   "outputs": [],
   "source": [
    "aln = load_aligned_seqs(\"data/long_testseqs.fasta\")"
   ]
  },
  {
   "cell_type": "code",
   "execution_count": 6,
   "id": "0295ed8c",
   "metadata": {
    "execution": {
     "iopub.execute_input": "2023-12-15T00:11:17.034006Z",
     "iopub.status.busy": "2023-12-15T00:11:17.033888Z",
     "iopub.status.idle": "2023-12-15T00:11:17.042654Z",
     "shell.execute_reply": "2023-12-15T00:11:17.040997Z"
    }
   },
   "outputs": [
    {
     "name": "stderr",
     "output_type": "stream",
     "text": [
      "/Users/gavin/miniconda3/envs/c311/lib/python3.11/site-packages/cogent3/evolve/parameter_controller.py:411: UserWarning: Used mean of 2 length values\n",
      "  self.assign_all(\n"
     ]
    }
   ],
   "source": [
    "estimateP = bootstrap.EstimateProbability(\n",
    "    create_null_function(), create_alt_function(), aln\n",
    ")"
   ]
  },
  {
   "cell_type": "code",
   "execution_count": 7,
   "id": "9566a541",
   "metadata": {
    "execution": {
     "iopub.execute_input": "2023-12-15T00:11:17.050112Z",
     "iopub.status.busy": "2023-12-15T00:11:17.048842Z",
     "iopub.status.idle": "2023-12-15T00:11:17.056081Z",
     "shell.execute_reply": "2023-12-15T00:11:17.055258Z"
    }
   },
   "outputs": [],
   "source": [
    "estimateP.set_num_replicates(5)"
   ]
  },
  {
   "cell_type": "code",
   "execution_count": 8,
   "id": "a9e5205d",
   "metadata": {
    "execution": {
     "iopub.execute_input": "2023-12-15T00:11:17.059919Z",
     "iopub.status.busy": "2023-12-15T00:11:17.059810Z",
     "iopub.status.idle": "2023-12-15T00:11:18.287386Z",
     "shell.execute_reply": "2023-12-15T00:11:18.287084Z"
    }
   },
   "outputs": [
    {
     "name": "stderr",
     "output_type": "stream",
     "text": [
      "/Users/gavin/miniconda3/envs/c311/lib/python3.11/site-packages/cogent3/maths/optimisers.py:205: UserWarning: Unused arg for local alignment: random_series\n",
      "  warnings.warn(\"Unused arg for local alignment: \" + k)\n"
     ]
    }
   ],
   "source": [
    "estimateP.run(show_progress=False)"
   ]
  },
  {
   "cell_type": "code",
   "execution_count": 9,
   "id": "f8be25cd",
   "metadata": {
    "execution": {
     "iopub.execute_input": "2023-12-15T00:11:18.289145Z",
     "iopub.status.busy": "2023-12-15T00:11:18.289055Z",
     "iopub.status.idle": "2023-12-15T00:11:18.290975Z",
     "shell.execute_reply": "2023-12-15T00:11:18.290732Z"
    }
   },
   "outputs": [],
   "source": [
    "p = estimateP.get_estimated_prob()"
   ]
  },
  {
   "cell_type": "code",
   "execution_count": 10,
   "id": "ffc5ae68",
   "metadata": {
    "execution": {
     "iopub.execute_input": "2023-12-15T00:11:18.292282Z",
     "iopub.status.busy": "2023-12-15T00:11:18.292188Z",
     "iopub.status.idle": "2023-12-15T00:11:18.293922Z",
     "shell.execute_reply": "2023-12-15T00:11:18.293658Z"
    }
   },
   "outputs": [
    {
     "name": "stdout",
     "output_type": "stream",
     "text": [
      "-8751.94, -8750.59\n"
     ]
    }
   ],
   "source": [
    "print(\"%.2f, %.2f\" % estimateP.get_observed_lnL())"
   ]
  }
 ],
 "metadata": {
  "kernelspec": {
   "display_name": "Python 3 (ipykernel)",
   "language": "python",
   "name": "python3"
  },
  "language_info": {
   "codemirror_mode": {
    "name": "ipython",
    "version": 3
   },
   "file_extension": ".py",
   "mimetype": "text/x-python",
   "name": "python",
   "nbconvert_exporter": "python",
   "pygments_lexer": "ipython3",
   "version": "3.11.6"
  }
 },
 "nbformat": 4,
 "nbformat_minor": 5
}