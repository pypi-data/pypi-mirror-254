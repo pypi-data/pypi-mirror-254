{
 "cells": [
  {
   "cell_type": "code",
   "execution_count": 1,
   "id": "4a716340",
   "metadata": {
    "execution": {
     "iopub.execute_input": "2023-12-15T00:10:10.339588Z",
     "iopub.status.busy": "2023-12-15T00:10:10.339317Z",
     "iopub.status.idle": "2023-12-15T00:10:10.351330Z",
     "shell.execute_reply": "2023-12-15T00:10:10.350832Z"
    }
   },
   "outputs": [],
   "source": [
    "import set_working_directory"
   ]
  },
  {
   "cell_type": "code",
   "execution_count": 2,
   "id": "efcb90eb",
   "metadata": {
    "execution": {
     "iopub.execute_input": "2023-12-15T00:10:10.353698Z",
     "iopub.status.busy": "2023-12-15T00:10:10.353495Z",
     "iopub.status.idle": "2023-12-15T00:10:11.478149Z",
     "shell.execute_reply": "2023-12-15T00:10:11.477764Z"
    }
   },
   "outputs": [],
   "source": [
    "from cogent3 import load_aligned_seqs\n",
    "from cogent3.evolve import distance"
   ]
  },
  {
   "cell_type": "code",
   "execution_count": 3,
   "id": "e0671d9a",
   "metadata": {
    "execution": {
     "iopub.execute_input": "2023-12-15T00:10:11.479724Z",
     "iopub.status.busy": "2023-12-15T00:10:11.479623Z",
     "iopub.status.idle": "2023-12-15T00:10:11.481451Z",
     "shell.execute_reply": "2023-12-15T00:10:11.481186Z"
    }
   },
   "outputs": [],
   "source": [
    "from cogent3.evolve.models import HKY85"
   ]
  },
  {
   "cell_type": "code",
   "execution_count": 4,
   "id": "bffb930a",
   "metadata": {
    "execution": {
     "iopub.execute_input": "2023-12-15T00:10:11.482583Z",
     "iopub.status.busy": "2023-12-15T00:10:11.482514Z",
     "iopub.status.idle": "2023-12-15T00:10:11.485406Z",
     "shell.execute_reply": "2023-12-15T00:10:11.485170Z"
    }
   },
   "outputs": [],
   "source": [
    "al = load_aligned_seqs(\"data/long_testseqs.fasta\")"
   ]
  },
  {
   "cell_type": "code",
   "execution_count": 5,
   "id": "b3d3d9a5",
   "metadata": {
    "execution": {
     "iopub.execute_input": "2023-12-15T00:10:11.486610Z",
     "iopub.status.busy": "2023-12-15T00:10:11.486539Z",
     "iopub.status.idle": "2023-12-15T00:10:11.706447Z",
     "shell.execute_reply": "2023-12-15T00:10:11.705661Z"
    }
   },
   "outputs": [
    {
     "data": {
      "text/html": [
       "\n",
       "<div class=\"c3table\">\n",
       "\n",
       "<style>\n",
       ".c3table table {margin: 10px 0;}\n",
       ".c3table tr:last-child {border-bottom: 1px solid #000;} \n",
       ".c3table tr > th {text-align: left; padding: 0 5px;}\n",
       ".c3table tr > td {text-align: left; padding: 5px;}\n",
       ".c3table tr:nth-child(even) {background: #f7f7f7 !important;}\n",
       ".c3table .ellipsis {background: rgba(0, 0, 0, .01);}\n",
       ".c3table .index {background: rgba(161, 195, 209, 0.25); margin: 10px; font-weight: 600;}\n",
       ".c3table .head_cell {background: rgba(161, 195, 209, 0.75); font-weight: bold; text-align: center;}\n",
       ".c3table caption {color: rgb(250, 250, 250); background: rgba(30, 140, 200, 1); padding: 3px; white-space: nowrap; caption-side: top;}\n",
       ".c3table .cell_title {font-weight: bold;}\n",
       ".c3col_left { text-align: left !important; display: block;}\n",
       ".c3col_right { text-align: right !important; display: block;}\n",
       ".c3col_center { text-align: center !important; display: block;}\n",
       "</style>\n",
       "\n",
       "<table>\n",
       "\n",
       "<thead class=\"head_cell\">\n",
       "<th>names</th><th>DogFaced</th><th>HowlerMon</th><th>Human</th><th>Mouse</th><th>NineBande</th>\n",
       "</thead>\n",
       "<tbody>\n",
       "<tr><td class=\"index\"><span class=\"c3col_left\">DogFaced</span></td><td><span class=\"c3col_right\">0.0000</span></td><td><span class=\"c3col_right\">0.2078</span></td><td><span class=\"c3col_right\">0.1972</span></td><td><span class=\"c3col_right\">0.4022</span></td><td><span class=\"c3col_right\">0.2019</span></td></tr>\n",
       "<tr><td class=\"index\"><span class=\"c3col_left\">HowlerMon</span></td><td><span class=\"c3col_right\">0.2078</span></td><td><span class=\"c3col_right\">0.0000</span></td><td><span class=\"c3col_right\">0.0730</span></td><td><span class=\"c3col_right\">0.3487</span></td><td><span class=\"c3col_right\">0.1865</span></td></tr>\n",
       "<tr><td class=\"index\"><span class=\"c3col_left\">Human</span></td><td><span class=\"c3col_right\">0.1972</span></td><td><span class=\"c3col_right\">0.0730</span></td><td><span class=\"c3col_right\">0.0000</span></td><td><span class=\"c3col_right\">0.3363</span></td><td><span class=\"c3col_right\">0.1804</span></td></tr>\n",
       "<tr><td class=\"index\"><span class=\"c3col_left\">Mouse</span></td><td><span class=\"c3col_right\">0.4022</span></td><td><span class=\"c3col_right\">0.3487</span></td><td><span class=\"c3col_right\">0.3363</span></td><td><span class=\"c3col_right\">0.0000</span></td><td><span class=\"c3col_right\">0.3813</span></td></tr>\n",
       "<tr><td class=\"index\"><span class=\"c3col_left\">NineBande</span></td><td><span class=\"c3col_right\">0.2019</span></td><td><span class=\"c3col_right\">0.1865</span></td><td><span class=\"c3col_right\">0.1804</span></td><td><span class=\"c3col_right\">0.3813</span></td><td><span class=\"c3col_right\">0.0000</span></td></tr>\n",
       "</tbody>\n",
       "</table>\n",
       "\n",
       "</div>"
      ],
      "text/plain": [
       "===================================================================\n",
       "names        DogFaced    HowlerMon     Human     Mouse    NineBande\n",
       "-------------------------------------------------------------------\n",
       "DogFaced       0.0000       0.2078    0.1972    0.4022       0.2019\n",
       "HowlerMon      0.2078       0.0000    0.0730    0.3487       0.1865\n",
       "Human          0.1972       0.0730    0.0000    0.3363       0.1804\n",
       "Mouse          0.4022       0.3487    0.3363    0.0000       0.3813\n",
       "NineBande      0.2019       0.1865    0.1804    0.3813       0.0000\n",
       "-------------------------------------------------------------------"
      ]
     },
     "execution_count": 5,
     "metadata": {},
     "output_type": "execute_result"
    }
   ],
   "source": [
    "d = distance.EstimateDistances(al, submodel=HKY85())\n",
    "d.run(show_progress=False)\n",
    "d.get_pairwise_distances()"
   ]
  },
  {
   "cell_type": "code",
   "execution_count": 6,
   "id": "31fb77e0",
   "metadata": {
    "execution": {
     "iopub.execute_input": "2023-12-15T00:10:11.713598Z",
     "iopub.status.busy": "2023-12-15T00:10:11.713317Z",
     "iopub.status.idle": "2023-12-15T00:10:11.720799Z",
     "shell.execute_reply": "2023-12-15T00:10:11.719966Z"
    }
   },
   "outputs": [],
   "source": [
    "d.write(\"dists_for_phylo.phylip\", format=\"phylip\")"
   ]
  },
  {
   "cell_type": "code",
   "execution_count": 7,
   "id": "e4ef7006",
   "metadata": {
    "execution": {
     "iopub.execute_input": "2023-12-15T00:10:11.723652Z",
     "iopub.status.busy": "2023-12-15T00:10:11.723433Z",
     "iopub.status.idle": "2023-12-15T00:10:11.728617Z",
     "shell.execute_reply": "2023-12-15T00:10:11.728039Z"
    }
   },
   "outputs": [],
   "source": [
    "import pickle\n",
    "\n",
    "with open(\"dists_for_phylo.pickle\", \"wb\") as f:\n",
    "    pickle.dump(d.get_pairwise_distances(), f)"
   ]
  },
  {
   "cell_type": "code",
   "execution_count": 8,
   "id": "8afcf661",
   "metadata": {
    "execution": {
     "iopub.execute_input": "2023-12-15T00:10:11.732073Z",
     "iopub.status.busy": "2023-12-15T00:10:11.731837Z",
     "iopub.status.idle": "2023-12-15T00:10:11.737502Z",
     "shell.execute_reply": "2023-12-15T00:10:11.736959Z"
    }
   },
   "outputs": [],
   "source": [
    "import os\n",
    "\n",
    "for file_name in \"dists_for_phylo.phylip\", \"dists_for_phylo.pickle\":\n",
    "    os.remove(file_name)"
   ]
  }
 ],
 "metadata": {
  "kernelspec": {
   "display_name": "Python 3 (ipykernel)",
   "language": "python",
   "name": "python3"
  },
  "language_info": {
   "codemirror_mode": {
    "name": "ipython",
    "version": 3
   },
   "file_extension": ".py",
   "mimetype": "text/x-python",
   "name": "python",
   "nbconvert_exporter": "python",
   "pygments_lexer": "ipython3",
   "version": "3.11.6"
  }
 },
 "nbformat": 4,
 "nbformat_minor": 5
}