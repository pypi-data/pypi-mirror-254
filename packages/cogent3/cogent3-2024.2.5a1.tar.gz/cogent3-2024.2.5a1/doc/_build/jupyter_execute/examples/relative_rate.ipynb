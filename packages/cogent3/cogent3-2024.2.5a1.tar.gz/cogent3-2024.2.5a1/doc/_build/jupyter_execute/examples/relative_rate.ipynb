{
 "cells": [
  {
   "cell_type": "code",
   "execution_count": 1,
   "id": "f3448aca",
   "metadata": {
    "execution": {
     "iopub.execute_input": "2023-12-15T00:11:29.628294Z",
     "iopub.status.busy": "2023-12-15T00:11:29.627857Z",
     "iopub.status.idle": "2023-12-15T00:11:29.648424Z",
     "shell.execute_reply": "2023-12-15T00:11:29.647682Z"
    }
   },
   "outputs": [],
   "source": [
    "import set_working_directory"
   ]
  },
  {
   "cell_type": "code",
   "execution_count": 2,
   "id": "ee801ce8",
   "metadata": {
    "execution": {
     "iopub.execute_input": "2023-12-15T00:11:29.651787Z",
     "iopub.status.busy": "2023-12-15T00:11:29.651419Z",
     "iopub.status.idle": "2023-12-15T00:11:30.923656Z",
     "shell.execute_reply": "2023-12-15T00:11:30.923224Z"
    }
   },
   "outputs": [],
   "source": [
    "from cogent3 import load_aligned_seqs, load_tree\n",
    "from cogent3.evolve.models import get_model\n",
    "from scipy.stats.distributions import chi2"
   ]
  },
  {
   "cell_type": "code",
   "execution_count": 3,
   "id": "dd09e9c9",
   "metadata": {
    "execution": {
     "iopub.execute_input": "2023-12-15T00:11:30.925434Z",
     "iopub.status.busy": "2023-12-15T00:11:30.925287Z",
     "iopub.status.idle": "2023-12-15T00:11:30.928884Z",
     "shell.execute_reply": "2023-12-15T00:11:30.928569Z"
    }
   },
   "outputs": [],
   "source": [
    "aln = load_aligned_seqs(\"data/long_testseqs.fasta\")\n",
    "t = load_tree(filename=\"data/test.tree\")"
   ]
  },
  {
   "cell_type": "code",
   "execution_count": 4,
   "id": "6c5c9ecd",
   "metadata": {
    "execution": {
     "iopub.execute_input": "2023-12-15T00:11:30.930331Z",
     "iopub.status.busy": "2023-12-15T00:11:30.930260Z",
     "iopub.status.idle": "2023-12-15T00:11:30.932197Z",
     "shell.execute_reply": "2023-12-15T00:11:30.931930Z"
    }
   },
   "outputs": [],
   "source": [
    "sm = get_model(\"HKY85\")"
   ]
  },
  {
   "cell_type": "code",
   "execution_count": 5,
   "id": "ef789160",
   "metadata": {
    "execution": {
     "iopub.execute_input": "2023-12-15T00:11:30.933381Z",
     "iopub.status.busy": "2023-12-15T00:11:30.933310Z",
     "iopub.status.idle": "2023-12-15T00:11:30.941666Z",
     "shell.execute_reply": "2023-12-15T00:11:30.940929Z"
    }
   },
   "outputs": [],
   "source": [
    "lf = sm.make_likelihood_function(t, digits=2, space=3)"
   ]
  },
  {
   "cell_type": "code",
   "execution_count": 6,
   "id": "bd15d35e",
   "metadata": {
    "execution": {
     "iopub.execute_input": "2023-12-15T00:11:30.944814Z",
     "iopub.status.busy": "2023-12-15T00:11:30.944521Z",
     "iopub.status.idle": "2023-12-15T00:11:30.954149Z",
     "shell.execute_reply": "2023-12-15T00:11:30.952637Z"
    }
   },
   "outputs": [
    {
     "name": "stderr",
     "output_type": "stream",
     "text": [
      "/Users/gavin/miniconda3/envs/c311/lib/python3.11/site-packages/cogent3/evolve/parameter_controller.py:411: UserWarning: Used mean of 2 length values\n",
      "  self.assign_all(\n"
     ]
    }
   ],
   "source": [
    "lf.set_local_clock(\"Human\", \"HowlerMon\")"
   ]
  },
  {
   "cell_type": "code",
   "execution_count": 7,
   "id": "0e078192",
   "metadata": {
    "execution": {
     "iopub.execute_input": "2023-12-15T00:11:30.957418Z",
     "iopub.status.busy": "2023-12-15T00:11:30.957204Z",
     "iopub.status.idle": "2023-12-15T00:11:30.983070Z",
     "shell.execute_reply": "2023-12-15T00:11:30.982379Z"
    }
   },
   "outputs": [],
   "source": [
    "lf.set_alignment(aln)"
   ]
  },
  {
   "cell_type": "code",
   "execution_count": 8,
   "id": "4d160506",
   "metadata": {
    "execution": {
     "iopub.execute_input": "2023-12-15T00:11:30.985867Z",
     "iopub.status.busy": "2023-12-15T00:11:30.985662Z",
     "iopub.status.idle": "2023-12-15T00:11:31.034031Z",
     "shell.execute_reply": "2023-12-15T00:11:31.033357Z"
    }
   },
   "outputs": [],
   "source": [
    "lf.optimise(show_progress=False)"
   ]
  },
  {
   "cell_type": "code",
   "execution_count": 9,
   "id": "35bcb134",
   "metadata": {
    "execution": {
     "iopub.execute_input": "2023-12-15T00:11:31.037279Z",
     "iopub.status.busy": "2023-12-15T00:11:31.036868Z",
     "iopub.status.idle": "2023-12-15T00:11:31.045786Z",
     "shell.execute_reply": "2023-12-15T00:11:31.045078Z"
    }
   },
   "outputs": [
    {
     "data": {
      "text/html": [
       "<h4>clock</h4>\n",
       "<p>log-likelihood = -8751.9425</p>\n",
       "<p>number of free parameters = 7</p>\n",
       "\n",
       "<div class=\"c3table\">\n",
       "\n",
       "<style>\n",
       ".c3table table {margin: 10px 0;}\n",
       ".c3table tr:last-child {border-bottom: 1px solid #000;} \n",
       ".c3table tr > th {text-align: left; padding: 0 5px;}\n",
       ".c3table tr > td {text-align: left; padding: 5px;}\n",
       ".c3table tr:nth-child(even) {background: #f7f7f7 !important;}\n",
       ".c3table .ellipsis {background: rgba(0, 0, 0, .01);}\n",
       ".c3table .index {background: rgba(161, 195, 209, 0.0); margin: 10px; font-weight: 600;}\n",
       ".c3table .head_cell {background: rgba(161, 195, 209, 0.75); font-weight: bold; text-align: center;}\n",
       ".c3table caption {color: rgb(250, 250, 250); background: rgba(30, 140, 200, 1); padding: 3px; white-space: nowrap; caption-side: top;}\n",
       ".c3table .cell_title {font-weight: bold;}\n",
       ".c3col_left { text-align: left !important; display: block;}\n",
       ".c3col_right { text-align: right !important; display: block;}\n",
       ".c3col_center { text-align: center !important; display: block;}\n",
       "</style>\n",
       "\n",
       "<table>\n",
       "\n",
       "<caption>\n",
       "<span class=\"cell_title\">Global params</span>\n",
       "</caption>\n",
       "<thead class=\"head_cell\">\n",
       "<th>kappa</th>\n",
       "</thead>\n",
       "<tbody>\n",
       "<tr><td><span class=\"c3col_right\">4.10</span></td></tr>\n",
       "</tbody>\n",
       "</table>\n",
       "\n",
       "</div>\n",
       "\n",
       "<div class=\"c3table\">\n",
       "\n",
       "<style>\n",
       ".c3table table {margin: 10px 0;}\n",
       ".c3table tr:last-child {border-bottom: 1px solid #000;} \n",
       ".c3table tr > th {text-align: left; padding: 0 5px;}\n",
       ".c3table tr > td {text-align: left; padding: 5px;}\n",
       ".c3table tr:nth-child(even) {background: #f7f7f7 !important;}\n",
       ".c3table .ellipsis {background: rgba(0, 0, 0, .01);}\n",
       ".c3table .index {background: rgba(161, 195, 209, 0.0); margin: 10px; font-weight: 600;}\n",
       ".c3table .head_cell {background: rgba(161, 195, 209, 0.75); font-weight: bold; text-align: center;}\n",
       ".c3table caption {color: rgb(250, 250, 250); background: rgba(30, 140, 200, 1); padding: 3px; white-space: nowrap; caption-side: top;}\n",
       ".c3table .cell_title {font-weight: bold;}\n",
       ".c3col_left { text-align: left !important; display: block;}\n",
       ".c3col_right { text-align: right !important; display: block;}\n",
       ".c3col_center { text-align: center !important; display: block;}\n",
       "</style>\n",
       "\n",
       "<table>\n",
       "\n",
       "<caption>\n",
       "<span class=\"cell_title\">Edge params</span>\n",
       "</caption>\n",
       "<thead class=\"head_cell\">\n",
       "<th>edge</th><th>parent</th><th>length</th>\n",
       "</thead>\n",
       "<tbody>\n",
       "<tr><td><span class=\"c3col_left\">Human</span></td><td><span class=\"c3col_left\">edge.0</span></td><td><span class=\"c3col_right\">0.04</span></td></tr>\n",
       "<tr><td><span class=\"c3col_left\">HowlerMon</span></td><td><span class=\"c3col_left\">edge.0</span></td><td><span class=\"c3col_right\">0.04</span></td></tr>\n",
       "<tr><td><span class=\"c3col_left\">edge.0</span></td><td><span class=\"c3col_left\">edge.1</span></td><td><span class=\"c3col_right\">0.04</span></td></tr>\n",
       "<tr><td><span class=\"c3col_left\">Mouse</span></td><td><span class=\"c3col_left\">edge.1</span></td><td><span class=\"c3col_right\">0.28</span></td></tr>\n",
       "<tr><td><span class=\"c3col_left\">edge.1</span></td><td><span class=\"c3col_left\">root</span></td><td><span class=\"c3col_right\">0.02</span></td></tr>\n",
       "<tr><td><span class=\"c3col_left\">NineBande</span></td><td><span class=\"c3col_left\">root</span></td><td><span class=\"c3col_right\">0.09</span></td></tr>\n",
       "<tr><td><span class=\"c3col_left\">DogFaced</span></td><td><span class=\"c3col_left\">root</span></td><td><span class=\"c3col_right\">0.11</span></td></tr>\n",
       "</tbody>\n",
       "</table>\n",
       "\n",
       "</div>\n",
       "\n",
       "<div class=\"c3table\">\n",
       "\n",
       "<style>\n",
       ".c3table table {margin: 10px 0;}\n",
       ".c3table tr:last-child {border-bottom: 1px solid #000;} \n",
       ".c3table tr > th {text-align: left; padding: 0 5px;}\n",
       ".c3table tr > td {text-align: left; padding: 5px;}\n",
       ".c3table tr:nth-child(even) {background: #f7f7f7 !important;}\n",
       ".c3table .ellipsis {background: rgba(0, 0, 0, .01);}\n",
       ".c3table .index {background: rgba(161, 195, 209, 0.0); margin: 10px; font-weight: 600;}\n",
       ".c3table .head_cell {background: rgba(161, 195, 209, 0.75); font-weight: bold; text-align: center;}\n",
       ".c3table caption {color: rgb(250, 250, 250); background: rgba(30, 140, 200, 1); padding: 3px; white-space: nowrap; caption-side: top;}\n",
       ".c3table .cell_title {font-weight: bold;}\n",
       ".c3col_left { text-align: left !important; display: block;}\n",
       ".c3col_right { text-align: right !important; display: block;}\n",
       ".c3col_center { text-align: center !important; display: block;}\n",
       "</style>\n",
       "\n",
       "<table>\n",
       "\n",
       "<caption>\n",
       "<span class=\"cell_title\">Motif params</span>\n",
       "</caption>\n",
       "<thead class=\"head_cell\">\n",
       "<th>A</th><th>C</th><th>G</th><th>T</th>\n",
       "</thead>\n",
       "<tbody>\n",
       "<tr><td><span class=\"c3col_right\">0.37</span></td><td><span class=\"c3col_right\">0.19</span></td><td><span class=\"c3col_right\">0.21</span></td><td><span class=\"c3col_right\">0.23</span></td></tr>\n",
       "</tbody>\n",
       "</table>\n",
       "\n",
       "</div>"
      ],
      "text/plain": [
       "clock\n",
       "log-likelihood = -8751.9425\n",
       "number of free parameters = 7\n",
       "=====\n",
       "kappa\n",
       "-----\n",
       " 4.10\n",
       "-----\n",
       "===========================\n",
       "edge        parent   length\n",
       "---------------------------\n",
       "Human       edge.0     0.04\n",
       "HowlerMon   edge.0     0.04\n",
       "edge.0      edge.1     0.04\n",
       "Mouse       edge.1     0.28\n",
       "edge.1      root       0.02\n",
       "NineBande   root       0.09\n",
       "DogFaced    root       0.11\n",
       "---------------------------\n",
       "=========================\n",
       "   A      C      G      T\n",
       "-------------------------\n",
       "0.37   0.19   0.21   0.23\n",
       "-------------------------"
      ]
     },
     "execution_count": 9,
     "metadata": {},
     "output_type": "execute_result"
    }
   ],
   "source": [
    "lf.set_name(\"clock\")\n",
    "lf"
   ]
  },
  {
   "cell_type": "code",
   "execution_count": 10,
   "id": "22392bc5",
   "metadata": {
    "execution": {
     "iopub.execute_input": "2023-12-15T00:11:31.048803Z",
     "iopub.status.busy": "2023-12-15T00:11:31.048435Z",
     "iopub.status.idle": "2023-12-15T00:11:31.051443Z",
     "shell.execute_reply": "2023-12-15T00:11:31.051007Z"
    }
   },
   "outputs": [],
   "source": [
    "null_lnL = lf.get_log_likelihood()\n",
    "null_nfp = lf.get_num_free_params()"
   ]
  },
  {
   "cell_type": "code",
   "execution_count": 11,
   "id": "bec8259b",
   "metadata": {
    "execution": {
     "iopub.execute_input": "2023-12-15T00:11:31.053713Z",
     "iopub.status.busy": "2023-12-15T00:11:31.053550Z",
     "iopub.status.idle": "2023-12-15T00:11:31.057245Z",
     "shell.execute_reply": "2023-12-15T00:11:31.056741Z"
    }
   },
   "outputs": [],
   "source": [
    "lf.set_param_rule(\"length\", is_independent=True)"
   ]
  },
  {
   "cell_type": "code",
   "execution_count": 12,
   "id": "39b4867c",
   "metadata": {
    "execution": {
     "iopub.execute_input": "2023-12-15T00:11:31.059646Z",
     "iopub.status.busy": "2023-12-15T00:11:31.059430Z",
     "iopub.status.idle": "2023-12-15T00:11:31.103306Z",
     "shell.execute_reply": "2023-12-15T00:11:31.102638Z"
    }
   },
   "outputs": [],
   "source": [
    "lf.optimise(show_progress=False)"
   ]
  },
  {
   "cell_type": "code",
   "execution_count": 13,
   "id": "64917045",
   "metadata": {
    "execution": {
     "iopub.execute_input": "2023-12-15T00:11:31.110191Z",
     "iopub.status.busy": "2023-12-15T00:11:31.109818Z",
     "iopub.status.idle": "2023-12-15T00:11:31.116374Z",
     "shell.execute_reply": "2023-12-15T00:11:31.115820Z"
    }
   },
   "outputs": [
    {
     "data": {
      "text/html": [
       "<h4>non clock</h4>\n",
       "<p>log-likelihood = -8750.5889</p>\n",
       "<p>number of free parameters = 8</p>\n",
       "\n",
       "<div class=\"c3table\">\n",
       "\n",
       "<style>\n",
       ".c3table table {margin: 10px 0;}\n",
       ".c3table tr:last-child {border-bottom: 1px solid #000;} \n",
       ".c3table tr > th {text-align: left; padding: 0 5px;}\n",
       ".c3table tr > td {text-align: left; padding: 5px;}\n",
       ".c3table tr:nth-child(even) {background: #f7f7f7 !important;}\n",
       ".c3table .ellipsis {background: rgba(0, 0, 0, .01);}\n",
       ".c3table .index {background: rgba(161, 195, 209, 0.0); margin: 10px; font-weight: 600;}\n",
       ".c3table .head_cell {background: rgba(161, 195, 209, 0.75); font-weight: bold; text-align: center;}\n",
       ".c3table caption {color: rgb(250, 250, 250); background: rgba(30, 140, 200, 1); padding: 3px; white-space: nowrap; caption-side: top;}\n",
       ".c3table .cell_title {font-weight: bold;}\n",
       ".c3col_left { text-align: left !important; display: block;}\n",
       ".c3col_right { text-align: right !important; display: block;}\n",
       ".c3col_center { text-align: center !important; display: block;}\n",
       "</style>\n",
       "\n",
       "<table>\n",
       "\n",
       "<caption>\n",
       "<span class=\"cell_title\">Global params</span>\n",
       "</caption>\n",
       "<thead class=\"head_cell\">\n",
       "<th>kappa</th>\n",
       "</thead>\n",
       "<tbody>\n",
       "<tr><td><span class=\"c3col_right\">4.10</span></td></tr>\n",
       "</tbody>\n",
       "</table>\n",
       "\n",
       "</div>\n",
       "\n",
       "<div class=\"c3table\">\n",
       "\n",
       "<style>\n",
       ".c3table table {margin: 10px 0;}\n",
       ".c3table tr:last-child {border-bottom: 1px solid #000;} \n",
       ".c3table tr > th {text-align: left; padding: 0 5px;}\n",
       ".c3table tr > td {text-align: left; padding: 5px;}\n",
       ".c3table tr:nth-child(even) {background: #f7f7f7 !important;}\n",
       ".c3table .ellipsis {background: rgba(0, 0, 0, .01);}\n",
       ".c3table .index {background: rgba(161, 195, 209, 0.0); margin: 10px; font-weight: 600;}\n",
       ".c3table .head_cell {background: rgba(161, 195, 209, 0.75); font-weight: bold; text-align: center;}\n",
       ".c3table caption {color: rgb(250, 250, 250); background: rgba(30, 140, 200, 1); padding: 3px; white-space: nowrap; caption-side: top;}\n",
       ".c3table .cell_title {font-weight: bold;}\n",
       ".c3col_left { text-align: left !important; display: block;}\n",
       ".c3col_right { text-align: right !important; display: block;}\n",
       ".c3col_center { text-align: center !important; display: block;}\n",
       "</style>\n",
       "\n",
       "<table>\n",
       "\n",
       "<caption>\n",
       "<span class=\"cell_title\">Edge params</span>\n",
       "</caption>\n",
       "<thead class=\"head_cell\">\n",
       "<th>edge</th><th>parent</th><th>length</th>\n",
       "</thead>\n",
       "<tbody>\n",
       "<tr><td><span class=\"c3col_left\">Human</span></td><td><span class=\"c3col_left\">edge.0</span></td><td><span class=\"c3col_right\">0.03</span></td></tr>\n",
       "<tr><td><span class=\"c3col_left\">HowlerMon</span></td><td><span class=\"c3col_left\">edge.0</span></td><td><span class=\"c3col_right\">0.04</span></td></tr>\n",
       "<tr><td><span class=\"c3col_left\">edge.0</span></td><td><span class=\"c3col_left\">edge.1</span></td><td><span class=\"c3col_right\">0.04</span></td></tr>\n",
       "<tr><td><span class=\"c3col_left\">Mouse</span></td><td><span class=\"c3col_left\">edge.1</span></td><td><span class=\"c3col_right\">0.28</span></td></tr>\n",
       "<tr><td><span class=\"c3col_left\">edge.1</span></td><td><span class=\"c3col_left\">root</span></td><td><span class=\"c3col_right\">0.02</span></td></tr>\n",
       "<tr><td><span class=\"c3col_left\">NineBande</span></td><td><span class=\"c3col_left\">root</span></td><td><span class=\"c3col_right\">0.09</span></td></tr>\n",
       "<tr><td><span class=\"c3col_left\">DogFaced</span></td><td><span class=\"c3col_left\">root</span></td><td><span class=\"c3col_right\">0.11</span></td></tr>\n",
       "</tbody>\n",
       "</table>\n",
       "\n",
       "</div>\n",
       "\n",
       "<div class=\"c3table\">\n",
       "\n",
       "<style>\n",
       ".c3table table {margin: 10px 0;}\n",
       ".c3table tr:last-child {border-bottom: 1px solid #000;} \n",
       ".c3table tr > th {text-align: left; padding: 0 5px;}\n",
       ".c3table tr > td {text-align: left; padding: 5px;}\n",
       ".c3table tr:nth-child(even) {background: #f7f7f7 !important;}\n",
       ".c3table .ellipsis {background: rgba(0, 0, 0, .01);}\n",
       ".c3table .index {background: rgba(161, 195, 209, 0.0); margin: 10px; font-weight: 600;}\n",
       ".c3table .head_cell {background: rgba(161, 195, 209, 0.75); font-weight: bold; text-align: center;}\n",
       ".c3table caption {color: rgb(250, 250, 250); background: rgba(30, 140, 200, 1); padding: 3px; white-space: nowrap; caption-side: top;}\n",
       ".c3table .cell_title {font-weight: bold;}\n",
       ".c3col_left { text-align: left !important; display: block;}\n",
       ".c3col_right { text-align: right !important; display: block;}\n",
       ".c3col_center { text-align: center !important; display: block;}\n",
       "</style>\n",
       "\n",
       "<table>\n",
       "\n",
       "<caption>\n",
       "<span class=\"cell_title\">Motif params</span>\n",
       "</caption>\n",
       "<thead class=\"head_cell\">\n",
       "<th>A</th><th>C</th><th>G</th><th>T</th>\n",
       "</thead>\n",
       "<tbody>\n",
       "<tr><td><span class=\"c3col_right\">0.37</span></td><td><span class=\"c3col_right\">0.19</span></td><td><span class=\"c3col_right\">0.21</span></td><td><span class=\"c3col_right\">0.23</span></td></tr>\n",
       "</tbody>\n",
       "</table>\n",
       "\n",
       "</div>"
      ],
      "text/plain": [
       "non clock\n",
       "log-likelihood = -8750.5889\n",
       "number of free parameters = 8\n",
       "=====\n",
       "kappa\n",
       "-----\n",
       " 4.10\n",
       "-----\n",
       "===========================\n",
       "edge        parent   length\n",
       "---------------------------\n",
       "Human       edge.0     0.03\n",
       "HowlerMon   edge.0     0.04\n",
       "edge.0      edge.1     0.04\n",
       "Mouse       edge.1     0.28\n",
       "edge.1      root       0.02\n",
       "NineBande   root       0.09\n",
       "DogFaced    root       0.11\n",
       "---------------------------\n",
       "=========================\n",
       "   A      C      G      T\n",
       "-------------------------\n",
       "0.37   0.19   0.21   0.23\n",
       "-------------------------"
      ]
     },
     "execution_count": 13,
     "metadata": {},
     "output_type": "execute_result"
    }
   ],
   "source": [
    "lf.set_name(\"non clock\")\n",
    "lf"
   ]
  },
  {
   "cell_type": "code",
   "execution_count": 14,
   "id": "46a8d7f8",
   "metadata": {
    "execution": {
     "iopub.execute_input": "2023-12-15T00:11:31.124397Z",
     "iopub.status.busy": "2023-12-15T00:11:31.124170Z",
     "iopub.status.idle": "2023-12-15T00:11:31.128221Z",
     "shell.execute_reply": "2023-12-15T00:11:31.127607Z"
    }
   },
   "outputs": [],
   "source": [
    "LR = 2 * (lf.get_log_likelihood() - null_lnL)\n",
    "df = lf.get_num_free_params() - null_nfp\n",
    "P = chi2.sf(LR, df)"
   ]
  },
  {
   "cell_type": "code",
   "execution_count": 15,
   "id": "ea9dd40e",
   "metadata": {
    "execution": {
     "iopub.execute_input": "2023-12-15T00:11:31.132820Z",
     "iopub.status.busy": "2023-12-15T00:11:31.132599Z",
     "iopub.status.idle": "2023-12-15T00:11:31.135701Z",
     "shell.execute_reply": "2023-12-15T00:11:31.135149Z"
    }
   },
   "outputs": [
    {
     "name": "stdout",
     "output_type": "stream",
     "text": [
      "Likelihood ratio statistic =  2.707164528896101\n",
      "degrees-of-freedom =  1\n",
      "probability =  0.09989841173504217\n"
     ]
    }
   ],
   "source": [
    "print(\"Likelihood ratio statistic = \", LR)\n",
    "print(\"degrees-of-freedom = \", df)\n",
    "print(\"probability = \", P)"
   ]
  }
 ],
 "metadata": {
  "kernelspec": {
   "display_name": "Python 3 (ipykernel)",
   "language": "python",
   "name": "python3"
  },
  "language_info": {
   "codemirror_mode": {
    "name": "ipython",
    "version": 3
   },
   "file_extension": ".py",
   "mimetype": "text/x-python",
   "name": "python",
   "nbconvert_exporter": "python",
   "pygments_lexer": "ipython3",
   "version": "3.11.6"
  }
 },
 "nbformat": 4,
 "nbformat_minor": 5
}