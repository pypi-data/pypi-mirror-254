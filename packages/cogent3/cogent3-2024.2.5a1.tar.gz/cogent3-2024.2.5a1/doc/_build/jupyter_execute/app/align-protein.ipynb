{
 "cells": [
  {
   "cell_type": "code",
   "execution_count": 1,
   "id": "504c70df",
   "metadata": {
    "execution": {
     "iopub.execute_input": "2023-12-15T00:03:54.812170Z",
     "iopub.status.busy": "2023-12-15T00:03:54.811713Z",
     "iopub.status.idle": "2023-12-15T00:03:54.831792Z",
     "shell.execute_reply": "2023-12-15T00:03:54.830897Z"
    }
   },
   "outputs": [],
   "source": [
    "import set_working_directory"
   ]
  },
  {
   "cell_type": "code",
   "execution_count": 2,
   "id": "a070bfe4",
   "metadata": {
    "execution": {
     "iopub.execute_input": "2023-12-15T00:03:54.836771Z",
     "iopub.status.busy": "2023-12-15T00:03:54.836382Z",
     "iopub.status.idle": "2023-12-15T00:03:56.137907Z",
     "shell.execute_reply": "2023-12-15T00:03:56.137430Z"
    }
   },
   "outputs": [],
   "source": [
    "from cogent3 import get_app\n",
    "\n",
    "loader = get_app(\"load_unaligned\", format=\"fasta\")\n",
    "to_aa = get_app(\"translate_seqs\")\n",
    "process = loader + to_aa\n",
    "seqs = process(\"data/SCA1-cds.fasta\")"
   ]
  },
  {
   "cell_type": "code",
   "execution_count": 3,
   "id": "3dd1c33f",
   "metadata": {
    "execution": {
     "iopub.execute_input": "2023-12-15T00:03:56.139478Z",
     "iopub.status.busy": "2023-12-15T00:03:56.139350Z",
     "iopub.status.idle": "2023-12-15T00:03:56.542079Z",
     "shell.execute_reply": "2023-12-15T00:03:56.540821Z"
    }
   },
   "outputs": [
    {
     "data": {
      "text/html": [
       "<style>\n",
       ".c3align table {margin: 10px 0;}\n",
       ".c3align td { border: none !important; text-align: left !important; }\n",
       ".c3align tr:not(.num_row) td span {margin: 0 2px;}\n",
       ".c3align tr:nth-child(even) {background: #f7f7f7;}\n",
       ".c3align .num_row {background-color:rgba(161, 195, 209, 0.5) !important; border-top: solid 1px black; }\n",
       ".c3align .label { font-size: 12pt ; text-align: right !important; color: black !important; padding: 0 4px; display: table-cell !important; font-weight: normal !important; }\n",
       ".c3align .A_protein{font-family: \"Lucida Console\",monospace !important; font-size: 12pt !important; color: #009999; }\n",
       ".c3align .C_protein{font-family: \"Lucida Console\",monospace !important; font-size: 12pt !important; color: orange; }\n",
       ".c3align .D_protein{font-family: \"Lucida Console\",monospace !important; font-size: 12pt !important; color: blue; }\n",
       ".c3align .E_protein{font-family: \"Lucida Console\",monospace !important; font-size: 12pt !important; color: blue; }\n",
       ".c3align .F_protein{font-family: \"Lucida Console\",monospace !important; font-size: 12pt !important; color: #ff6600; }\n",
       ".c3align .G_protein{font-family: \"Lucida Console\",monospace !important; font-size: 12pt !important; color: #009999; }\n",
       ".c3align .H_protein{font-family: \"Lucida Console\",monospace !important; font-size: 12pt !important; color: #FF0102; }\n",
       ".c3align .I_protein{font-family: \"Lucida Console\",monospace !important; font-size: 12pt !important; color: #009999; }\n",
       ".c3align .K_protein{font-family: \"Lucida Console\",monospace !important; font-size: 12pt !important; color: #FF0102; }\n",
       ".c3align .L_protein{font-family: \"Lucida Console\",monospace !important; font-size: 12pt !important; color: #009999; }\n",
       ".c3align .M_protein{font-family: \"Lucida Console\",monospace !important; font-size: 12pt !important; color: orange; }\n",
       ".c3align .N_protein{font-family: \"Lucida Console\",monospace !important; font-size: 12pt !important; color: #993300; }\n",
       ".c3align .P_protein{font-family: \"Lucida Console\",monospace !important; font-size: 12pt !important; color: #cc0099; }\n",
       ".c3align .Q_protein{font-family: \"Lucida Console\",monospace !important; font-size: 12pt !important; color: #993300; }\n",
       ".c3align .R_protein{font-family: \"Lucida Console\",monospace !important; font-size: 12pt !important; color: #FF0102; }\n",
       ".c3align .S_protein{font-family: \"Lucida Console\",monospace !important; font-size: 12pt !important; color: #009900; }\n",
       ".c3align .T_protein{font-family: \"Lucida Console\",monospace !important; font-size: 12pt !important; color: #009900; }\n",
       ".c3align .U_protein{font-family: \"Lucida Console\",monospace !important; font-size: 12pt !important; color: gray; }\n",
       ".c3align .V_protein{font-family: \"Lucida Console\",monospace !important; font-size: 12pt !important; color: #009999; }\n",
       ".c3align .W_protein{font-family: \"Lucida Console\",monospace !important; font-size: 12pt !important; color: #ff6600; }\n",
       ".c3align .Y_protein{font-family: \"Lucida Console\",monospace !important; font-size: 12pt !important; color: #ff6600; }\n",
       ".c3align .terminal_ambig_protein{font-family: \"Lucida Console\",monospace !important; font-size: 12pt !important; color: gray; }\n",
       ".c3align .ambig_protein{font-family: \"Lucida Console\",monospace !important; font-size: 12pt !important; color: gray; }\n",
       "</style>\n",
       "<div class=\"c3align\">\n",
       "<table>\n",
       "<tr class=\"num_row\"><td></td><td><b>0</b></td></tr>\n",
       "<tr><td class=\"label\">Human</td><td><span class=\"M_protein\">M</span><span class=\"K_protein\">K</span><span class=\"S_protein\">S</span><span class=\"N_protein\">N</span><span class=\"Q_protein\">Q</span><span class=\"E_protein\">E</span><span class=\"R_protein\">R</span><span class=\"S_protein\">S</span><span class=\"N_protein\">N</span><span class=\"E_protein\">E</span><span class=\"C_protein\">C</span><span class=\"L_protein\">L</span><span class=\"P_protein\">P</span><span class=\"P_protein\">P</span><span class=\"K_protein\">K</span><span class=\"K_protein\">K</span><span class=\"R_protein\">R</span><span class=\"E_protein\">E</span><span class=\"I_protein\">I</span><span class=\"P_protein\">P</span><span class=\"A_protein\">A</span><span class=\"T_protein\">T</span><span class=\"S_protein\">S</span><span class=\"R_protein\">R</span><span class=\"S_protein\">S</span><span class=\"S_protein\">S</span><span class=\"E_protein\">E</span><span class=\"E_protein\">E</span><span class=\"K_protein\">K</span><span class=\"A_protein\">A</span><span class=\"P_protein\">P</span><span class=\"T_protein\">T</span><span class=\"L_protein\">L</span><span class=\"P_protein\">P</span><span class=\"S_protein\">S</span><span class=\"D_protein\">D</span><span class=\"N_protein\">N</span><span class=\"H_protein\">H</span><span class=\"R_protein\">R</span><span class=\"V_protein\">V</span><span class=\"E_protein\">E</span><span class=\"G_protein\">G</span><span class=\"T_protein\">T</span><span class=\"A_protein\">A</span><span class=\"W_protein\">W</span><span class=\"L_protein\">L</span><span class=\"P_protein\">P</span><span class=\"G_protein\">G</span><span class=\"N_protein\">N</span><span class=\"P_protein\">P</span><span class=\"G_protein\">G</span><span class=\"G_protein\">G</span><span class=\"R_protein\">R</span><span class=\"G_protein\">G</span><span class=\"H_protein\">H</span><span class=\"G_protein\">G</span><span class=\"G_protein\">G</span><span class=\"G_protein\">G</span><span class=\"R_protein\">R</span><span class=\"H_protein\">H</span></td></tr>\n",
       "<tr><td class=\"label\">Chimp</td><td><span class=\"M_protein\">.</span><span class=\"K_protein\">.</span><span class=\"S_protein\">.</span><span class=\"N_protein\">.</span><span class=\"Q_protein\">.</span><span class=\"E_protein\">.</span><span class=\"R_protein\">.</span><span class=\"S_protein\">.</span><span class=\"N_protein\">.</span><span class=\"E_protein\">.</span><span class=\"C_protein\">.</span><span class=\"L_protein\">.</span><span class=\"P_protein\">.</span><span class=\"P_protein\">.</span><span class=\"K_protein\">.</span><span class=\"K_protein\">.</span><span class=\"R_protein\">.</span><span class=\"E_protein\">.</span><span class=\"I_protein\">.</span><span class=\"P_protein\">.</span><span class=\"A_protein\">.</span><span class=\"T_protein\">.</span><span class=\"S_protein\">.</span><span class=\"R_protein\">.</span><span class=\"S_protein\">.</span><span class=\"S_protein\">.</span><span class=\"E_protein\">.</span><span class=\"E_protein\">.</span><span class=\"K_protein\">.</span><span class=\"A_protein\">.</span><span class=\"P_protein\">.</span><span class=\"T_protein\">.</span><span class=\"L_protein\">.</span><span class=\"P_protein\">.</span><span class=\"S_protein\">.</span><span class=\"D_protein\">.</span><span class=\"N_protein\">.</span><span class=\"H_protein\">.</span><span class=\"R_protein\">.</span><span class=\"V_protein\">.</span><span class=\"E_protein\">.</span><span class=\"G_protein\">.</span><span class=\"T_protein\">.</span><span class=\"A_protein\">.</span><span class=\"W_protein\">.</span><span class=\"L_protein\">.</span><span class=\"P_protein\">.</span><span class=\"G_protein\">.</span><span class=\"N_protein\">.</span><span class=\"P_protein\">.</span><span class=\"G_protein\">.</span><span class=\"G_protein\">.</span><span class=\"R_protein\">.</span><span class=\"G_protein\">.</span><span class=\"H_protein\">.</span><span class=\"G_protein\">.</span><span class=\"G_protein\">.</span><span class=\"G_protein\">.</span><span class=\"R_protein\">.</span><span class=\"H_protein\">.</span></td></tr>\n",
       "<tr><td class=\"label\">Macaque</td><td><span class=\"M_protein\">.</span><span class=\"K_protein\">.</span><span class=\"S_protein\">.</span><span class=\"N_protein\">.</span><span class=\"Q_protein\">.</span><span class=\"E_protein\">.</span><span class=\"R_protein\">.</span><span class=\"S_protein\">.</span><span class=\"N_protein\">.</span><span class=\"E_protein\">.</span><span class=\"C_protein\">.</span><span class=\"L_protein\">.</span><span class=\"P_protein\">.</span><span class=\"P_protein\">.</span><span class=\"K_protein\">.</span><span class=\"K_protein\">.</span><span class=\"R_protein\">.</span><span class=\"E_protein\">.</span><span class=\"I_protein\">.</span><span class=\"P_protein\">.</span><span class=\"A_protein\">.</span><span class=\"T_protein\">.</span><span class=\"S_protein\">.</span><span class=\"R_protein\">.</span><span class=\"P_protein\">P</span><span class=\"S_protein\">.</span><span class=\"E_protein\">.</span><span class=\"E_protein\">.</span><span class=\"K_protein\">.</span><span class=\"A_protein\">.</span><span class=\"P_protein\">.</span><span class=\"A_protein\">A</span><span class=\"L_protein\">.</span><span class=\"P_protein\">.</span><span class=\"S_protein\">.</span><span class=\"D_protein\">.</span><span class=\"N_protein\">.</span><span class=\"H_protein\">.</span><span class=\"R_protein\">.</span><span class=\"V_protein\">.</span><span class=\"E_protein\">.</span><span class=\"G_protein\">.</span><span class=\"T_protein\">.</span><span class=\"A_protein\">.</span><span class=\"W_protein\">.</span><span class=\"L_protein\">.</span><span class=\"P_protein\">.</span><span class=\"G_protein\">.</span><span class=\"N_protein\">.</span><span class=\"P_protein\">.</span><span class=\"G_protein\">.</span><span class=\"G_protein\">.</span><span class=\"R_protein\">.</span><span class=\"G_protein\">.</span><span class=\"H_protein\">.</span><span class=\"G_protein\">.</span><span class=\"G_protein\">.</span><span class=\"G_protein\">.</span><span class=\"R_protein\">.</span><span class=\"H_protein\">.</span></td></tr>\n",
       "<tr><td class=\"label\">Mouse</td><td><span class=\"M_protein\">.</span><span class=\"K_protein\">.</span><span class=\"S_protein\">.</span><span class=\"N_protein\">.</span><span class=\"Q_protein\">.</span><span class=\"E_protein\">.</span><span class=\"R_protein\">.</span><span class=\"S_protein\">.</span><span class=\"N_protein\">.</span><span class=\"E_protein\">.</span><span class=\"C_protein\">.</span><span class=\"L_protein\">.</span><span class=\"P_protein\">.</span><span class=\"P_protein\">.</span><span class=\"K_protein\">.</span><span class=\"K_protein\">.</span><span class=\"R_protein\">.</span><span class=\"E_protein\">.</span><span class=\"I_protein\">.</span><span class=\"P_protein\">.</span><span class=\"A_protein\">.</span><span class=\"T_protein\">.</span><span class=\"S_protein\">.</span><span class=\"R_protein\">.</span><span class=\"P_protein\">P</span><span class=\"S_protein\">.</span><span class=\"E_protein\">.</span><span class=\"E_protein\">.</span><span class=\"K_protein\">.</span><span class=\"A_protein\">.</span><span class=\"T_protein\">T</span><span class=\"A_protein\">A</span><span class=\"L_protein\">.</span><span class=\"P_protein\">.</span><span class=\"S_protein\">.</span><span class=\"D_protein\">.</span><span class=\"N_protein\">.</span><span class=\"H_protein\">.</span><span class=\"C_protein\">C</span><span class=\"V_protein\">.</span><span class=\"E_protein\">.</span><span class=\"G_protein\">.</span><span class=\"V_protein\">V</span><span class=\"A_protein\">.</span><span class=\"W_protein\">.</span><span class=\"L_protein\">.</span><span class=\"P_protein\">.</span><span class=\"S_protein\">S</span><span class=\"T_protein\">T</span><span class=\"P_protein\">.</span><span class=\"G_protein\">.</span><span class=\"I_protein\">I</span><span class=\"R_protein\">.</span><span class=\"G_protein\">.</span><span class=\"H_protein\">.</span><span class=\"G_protein\">.</span><span class=\"G_protein\">.</span><span class=\"G_protein\">.</span><span class=\"R_protein\">.</span><span class=\"H_protein\">.</span></td></tr>\n",
       "<tr><td class=\"label\">Rat</td><td><span class=\"M_protein\">.</span><span class=\"K_protein\">.</span><span class=\"S_protein\">.</span><span class=\"N_protein\">.</span><span class=\"Q_protein\">.</span><span class=\"E_protein\">.</span><span class=\"R_protein\">.</span><span class=\"S_protein\">.</span><span class=\"N_protein\">.</span><span class=\"E_protein\">.</span><span class=\"C_protein\">.</span><span class=\"L_protein\">.</span><span class=\"P_protein\">.</span><span class=\"P_protein\">.</span><span class=\"K_protein\">.</span><span class=\"K_protein\">.</span><span class=\"R_protein\">.</span><span class=\"E_protein\">.</span><span class=\"I_protein\">.</span><span class=\"P_protein\">.</span><span class=\"A_protein\">.</span><span class=\"T_protein\">.</span><span class=\"S_protein\">.</span><span class=\"R_protein\">.</span><span class=\"P_protein\">P</span><span class=\"S_protein\">.</span><span class=\"E_protein\">.</span><span class=\"E_protein\">.</span><span class=\"K_protein\">.</span><span class=\"A_protein\">.</span><span class=\"T_protein\">T</span><span class=\"A_protein\">A</span><span class=\"L_protein\">.</span><span class=\"P_protein\">.</span><span class=\"S_protein\">.</span><span class=\"D_protein\">.</span><span class=\"N_protein\">.</span><span class=\"H_protein\">.</span><span class=\"C_protein\">C</span><span class=\"V_protein\">.</span><span class=\"E_protein\">.</span><span class=\"G_protein\">.</span><span class=\"V_protein\">V</span><span class=\"A_protein\">.</span><span class=\"W_protein\">.</span><span class=\"L_protein\">.</span><span class=\"P_protein\">.</span><span class=\"S_protein\">S</span><span class=\"T_protein\">T</span><span class=\"P_protein\">.</span><span class=\"G_protein\">.</span><span class=\"S_protein\">S</span><span class=\"R_protein\">.</span><span class=\"G_protein\">.</span><span class=\"H_protein\">.</span><span class=\"G_protein\">.</span><span class=\"G_protein\">.</span><span class=\"G_protein\">.</span><span class=\"R_protein\">.</span><span class=\"H_protein\">.</span></td></tr>\n",
       "<tr><td class=\"label\">Mouse Lemur</td><td><span class=\"M_protein\">.</span><span class=\"K_protein\">.</span><span class=\"S_protein\">.</span><span class=\"N_protein\">.</span><span class=\"Q_protein\">.</span><span class=\"E_protein\">.</span><span class=\"R_protein\">.</span><span class=\"S_protein\">.</span><span class=\"N_protein\">.</span><span class=\"E_protein\">.</span><span class=\"C_protein\">.</span><span class=\"L_protein\">.</span><span class=\"P_protein\">.</span><span class=\"P_protein\">.</span><span class=\"K_protein\">.</span><span class=\"K_protein\">.</span><span class=\"R_protein\">.</span><span class=\"E_protein\">.</span><span class=\"I_protein\">.</span><span class=\"P_protein\">.</span><span class=\"A_protein\">.</span><span class=\"T_protein\">.</span><span class=\"S_protein\">.</span><span class=\"R_protein\">.</span><span class=\"S_protein\">.</span><span class=\"S_protein\">.</span><span class=\"E_protein\">.</span><span class=\"E_protein\">.</span><span class=\"K_protein\">.</span><span class=\"A_protein\">.</span><span class=\"P_protein\">.</span><span class=\"A_protein\">A</span><span class=\"L_protein\">.</span><span class=\"P_protein\">.</span><span class=\"S_protein\">.</span><span class=\"D_protein\">.</span><span class=\"N_protein\">.</span><span class=\"H_protein\">.</span><span class=\"R_protein\">.</span><span class=\"A_protein\">A</span><span class=\"E_protein\">.</span><span class=\"G_protein\">.</span><span class=\"A_protein\">A</span><span class=\"P_protein\">P</span><span class=\"W_protein\">.</span><span class=\"L_protein\">.</span><span class=\"P_protein\">.</span><span class=\"G_protein\">.</span><span class=\"N_protein\">.</span><span class=\"P_protein\">.</span><span class=\"G_protein\">.</span><span class=\"G_protein\">.</span><span class=\"R_protein\">.</span><span class=\"G_protein\">.</span><span class=\"H_protein\">.</span><span class=\"G_protein\">.</span><span class=\"G_protein\">.</span><span class=\"G_protein\">.</span><span class=\"R_protein\">.</span><span class=\"H_protein\">.</span></td></tr>\n",
       "</table>\n",
       "<p><i>6 x 825 (truncated to 6 x 60) protein alignment</i></p>\n",
       "</div>"
      ],
      "text/plain": [
       "6 x 825 alignment: Chimp[MKSNQERSNEC...], Human[MKSNQERSNEC...], Macaque[MKSNQERSNEC...], ..."
      ]
     },
     "execution_count": 3,
     "metadata": {},
     "output_type": "execute_result"
    }
   ],
   "source": [
    "from cogent3 import get_app\n",
    "\n",
    "aa_aligner = get_app(\"progressive_align\", \"protein\")\n",
    "aligned = aa_aligner(seqs)\n",
    "aligned"
   ]
  },
  {
   "cell_type": "code",
   "execution_count": 4,
   "id": "1fe6c256",
   "metadata": {
    "execution": {
     "iopub.execute_input": "2023-12-15T00:03:56.544639Z",
     "iopub.status.busy": "2023-12-15T00:03:56.544541Z",
     "iopub.status.idle": "2023-12-15T00:03:56.942233Z",
     "shell.execute_reply": "2023-12-15T00:03:56.941633Z"
    }
   },
   "outputs": [
    {
     "data": {
      "text/html": [
       "<style>\n",
       ".c3align table {margin: 10px 0;}\n",
       ".c3align td { border: none !important; text-align: left !important; }\n",
       ".c3align tr:not(.num_row) td span {margin: 0 2px;}\n",
       ".c3align tr:nth-child(even) {background: #f7f7f7;}\n",
       ".c3align .num_row {background-color:rgba(161, 195, 209, 0.5) !important; border-top: solid 1px black; }\n",
       ".c3align .label { font-size: 12pt ; text-align: right !important; color: black !important; padding: 0 4px; display: table-cell !important; font-weight: normal !important; }\n",
       ".c3align .A_protein{font-family: \"Lucida Console\",monospace !important; font-size: 12pt !important; color: #009999; }\n",
       ".c3align .C_protein{font-family: \"Lucida Console\",monospace !important; font-size: 12pt !important; color: orange; }\n",
       ".c3align .D_protein{font-family: \"Lucida Console\",monospace !important; font-size: 12pt !important; color: blue; }\n",
       ".c3align .E_protein{font-family: \"Lucida Console\",monospace !important; font-size: 12pt !important; color: blue; }\n",
       ".c3align .F_protein{font-family: \"Lucida Console\",monospace !important; font-size: 12pt !important; color: #ff6600; }\n",
       ".c3align .G_protein{font-family: \"Lucida Console\",monospace !important; font-size: 12pt !important; color: #009999; }\n",
       ".c3align .H_protein{font-family: \"Lucida Console\",monospace !important; font-size: 12pt !important; color: #FF0102; }\n",
       ".c3align .I_protein{font-family: \"Lucida Console\",monospace !important; font-size: 12pt !important; color: #009999; }\n",
       ".c3align .K_protein{font-family: \"Lucida Console\",monospace !important; font-size: 12pt !important; color: #FF0102; }\n",
       ".c3align .L_protein{font-family: \"Lucida Console\",monospace !important; font-size: 12pt !important; color: #009999; }\n",
       ".c3align .M_protein{font-family: \"Lucida Console\",monospace !important; font-size: 12pt !important; color: orange; }\n",
       ".c3align .N_protein{font-family: \"Lucida Console\",monospace !important; font-size: 12pt !important; color: #993300; }\n",
       ".c3align .P_protein{font-family: \"Lucida Console\",monospace !important; font-size: 12pt !important; color: #cc0099; }\n",
       ".c3align .Q_protein{font-family: \"Lucida Console\",monospace !important; font-size: 12pt !important; color: #993300; }\n",
       ".c3align .R_protein{font-family: \"Lucida Console\",monospace !important; font-size: 12pt !important; color: #FF0102; }\n",
       ".c3align .S_protein{font-family: \"Lucida Console\",monospace !important; font-size: 12pt !important; color: #009900; }\n",
       ".c3align .T_protein{font-family: \"Lucida Console\",monospace !important; font-size: 12pt !important; color: #009900; }\n",
       ".c3align .U_protein{font-family: \"Lucida Console\",monospace !important; font-size: 12pt !important; color: gray; }\n",
       ".c3align .V_protein{font-family: \"Lucida Console\",monospace !important; font-size: 12pt !important; color: #009999; }\n",
       ".c3align .W_protein{font-family: \"Lucida Console\",monospace !important; font-size: 12pt !important; color: #ff6600; }\n",
       ".c3align .Y_protein{font-family: \"Lucida Console\",monospace !important; font-size: 12pt !important; color: #ff6600; }\n",
       ".c3align .terminal_ambig_protein{font-family: \"Lucida Console\",monospace !important; font-size: 12pt !important; color: gray; }\n",
       ".c3align .ambig_protein{font-family: \"Lucida Console\",monospace !important; font-size: 12pt !important; color: gray; }\n",
       "</style>\n",
       "<div class=\"c3align\">\n",
       "<table>\n",
       "<tr class=\"num_row\"><td></td><td><b>0</b></td></tr>\n",
       "<tr><td class=\"label\">Human</td><td><span class=\"M_protein\">M</span><span class=\"K_protein\">K</span><span class=\"S_protein\">S</span><span class=\"N_protein\">N</span><span class=\"Q_protein\">Q</span><span class=\"E_protein\">E</span><span class=\"R_protein\">R</span><span class=\"S_protein\">S</span><span class=\"N_protein\">N</span><span class=\"E_protein\">E</span><span class=\"C_protein\">C</span><span class=\"L_protein\">L</span><span class=\"P_protein\">P</span><span class=\"P_protein\">P</span><span class=\"K_protein\">K</span><span class=\"K_protein\">K</span><span class=\"R_protein\">R</span><span class=\"E_protein\">E</span><span class=\"I_protein\">I</span><span class=\"P_protein\">P</span><span class=\"A_protein\">A</span><span class=\"T_protein\">T</span><span class=\"S_protein\">S</span><span class=\"R_protein\">R</span><span class=\"S_protein\">S</span><span class=\"S_protein\">S</span><span class=\"E_protein\">E</span><span class=\"E_protein\">E</span><span class=\"K_protein\">K</span><span class=\"A_protein\">A</span><span class=\"P_protein\">P</span><span class=\"T_protein\">T</span><span class=\"L_protein\">L</span><span class=\"P_protein\">P</span><span class=\"S_protein\">S</span><span class=\"D_protein\">D</span><span class=\"N_protein\">N</span><span class=\"H_protein\">H</span><span class=\"R_protein\">R</span><span class=\"V_protein\">V</span><span class=\"E_protein\">E</span><span class=\"G_protein\">G</span><span class=\"T_protein\">T</span><span class=\"A_protein\">A</span><span class=\"W_protein\">W</span><span class=\"L_protein\">L</span><span class=\"P_protein\">P</span><span class=\"G_protein\">G</span><span class=\"N_protein\">N</span><span class=\"P_protein\">P</span><span class=\"G_protein\">G</span><span class=\"G_protein\">G</span><span class=\"R_protein\">R</span><span class=\"G_protein\">G</span><span class=\"H_protein\">H</span><span class=\"G_protein\">G</span><span class=\"G_protein\">G</span><span class=\"G_protein\">G</span><span class=\"R_protein\">R</span><span class=\"H_protein\">H</span></td></tr>\n",
       "<tr><td class=\"label\">Macaque</td><td><span class=\"M_protein\">.</span><span class=\"K_protein\">.</span><span class=\"S_protein\">.</span><span class=\"N_protein\">.</span><span class=\"Q_protein\">.</span><span class=\"E_protein\">.</span><span class=\"R_protein\">.</span><span class=\"S_protein\">.</span><span class=\"N_protein\">.</span><span class=\"E_protein\">.</span><span class=\"C_protein\">.</span><span class=\"L_protein\">.</span><span class=\"P_protein\">.</span><span class=\"P_protein\">.</span><span class=\"K_protein\">.</span><span class=\"K_protein\">.</span><span class=\"R_protein\">.</span><span class=\"E_protein\">.</span><span class=\"I_protein\">.</span><span class=\"P_protein\">.</span><span class=\"A_protein\">.</span><span class=\"T_protein\">.</span><span class=\"S_protein\">.</span><span class=\"R_protein\">.</span><span class=\"P_protein\">P</span><span class=\"S_protein\">.</span><span class=\"E_protein\">.</span><span class=\"E_protein\">.</span><span class=\"K_protein\">.</span><span class=\"A_protein\">.</span><span class=\"P_protein\">.</span><span class=\"A_protein\">A</span><span class=\"L_protein\">.</span><span class=\"P_protein\">.</span><span class=\"S_protein\">.</span><span class=\"D_protein\">.</span><span class=\"N_protein\">.</span><span class=\"H_protein\">.</span><span class=\"R_protein\">.</span><span class=\"V_protein\">.</span><span class=\"E_protein\">.</span><span class=\"G_protein\">.</span><span class=\"T_protein\">.</span><span class=\"A_protein\">.</span><span class=\"W_protein\">.</span><span class=\"L_protein\">.</span><span class=\"P_protein\">.</span><span class=\"G_protein\">.</span><span class=\"N_protein\">.</span><span class=\"P_protein\">.</span><span class=\"G_protein\">.</span><span class=\"G_protein\">.</span><span class=\"R_protein\">.</span><span class=\"G_protein\">.</span><span class=\"H_protein\">.</span><span class=\"G_protein\">.</span><span class=\"G_protein\">.</span><span class=\"G_protein\">.</span><span class=\"R_protein\">.</span><span class=\"H_protein\">.</span></td></tr>\n",
       "<tr><td class=\"label\">Mouse Lemur</td><td><span class=\"M_protein\">.</span><span class=\"K_protein\">.</span><span class=\"S_protein\">.</span><span class=\"N_protein\">.</span><span class=\"Q_protein\">.</span><span class=\"E_protein\">.</span><span class=\"R_protein\">.</span><span class=\"S_protein\">.</span><span class=\"N_protein\">.</span><span class=\"E_protein\">.</span><span class=\"C_protein\">.</span><span class=\"L_protein\">.</span><span class=\"P_protein\">.</span><span class=\"P_protein\">.</span><span class=\"K_protein\">.</span><span class=\"K_protein\">.</span><span class=\"R_protein\">.</span><span class=\"E_protein\">.</span><span class=\"I_protein\">.</span><span class=\"P_protein\">.</span><span class=\"A_protein\">.</span><span class=\"T_protein\">.</span><span class=\"S_protein\">.</span><span class=\"R_protein\">.</span><span class=\"S_protein\">.</span><span class=\"S_protein\">.</span><span class=\"E_protein\">.</span><span class=\"E_protein\">.</span><span class=\"K_protein\">.</span><span class=\"A_protein\">.</span><span class=\"P_protein\">.</span><span class=\"A_protein\">A</span><span class=\"L_protein\">.</span><span class=\"P_protein\">.</span><span class=\"S_protein\">.</span><span class=\"D_protein\">.</span><span class=\"N_protein\">.</span><span class=\"H_protein\">.</span><span class=\"R_protein\">.</span><span class=\"A_protein\">A</span><span class=\"E_protein\">.</span><span class=\"G_protein\">.</span><span class=\"A_protein\">A</span><span class=\"P_protein\">P</span><span class=\"W_protein\">.</span><span class=\"L_protein\">.</span><span class=\"P_protein\">.</span><span class=\"G_protein\">.</span><span class=\"N_protein\">.</span><span class=\"P_protein\">.</span><span class=\"G_protein\">.</span><span class=\"G_protein\">.</span><span class=\"R_protein\">.</span><span class=\"G_protein\">.</span><span class=\"H_protein\">.</span><span class=\"G_protein\">.</span><span class=\"G_protein\">.</span><span class=\"G_protein\">.</span><span class=\"R_protein\">.</span><span class=\"H_protein\">.</span></td></tr>\n",
       "<tr><td class=\"label\">Mouse</td><td><span class=\"M_protein\">.</span><span class=\"K_protein\">.</span><span class=\"S_protein\">.</span><span class=\"N_protein\">.</span><span class=\"Q_protein\">.</span><span class=\"E_protein\">.</span><span class=\"R_protein\">.</span><span class=\"S_protein\">.</span><span class=\"N_protein\">.</span><span class=\"E_protein\">.</span><span class=\"C_protein\">.</span><span class=\"L_protein\">.</span><span class=\"P_protein\">.</span><span class=\"P_protein\">.</span><span class=\"K_protein\">.</span><span class=\"K_protein\">.</span><span class=\"R_protein\">.</span><span class=\"E_protein\">.</span><span class=\"I_protein\">.</span><span class=\"P_protein\">.</span><span class=\"A_protein\">.</span><span class=\"T_protein\">.</span><span class=\"S_protein\">.</span><span class=\"R_protein\">.</span><span class=\"P_protein\">P</span><span class=\"S_protein\">.</span><span class=\"E_protein\">.</span><span class=\"E_protein\">.</span><span class=\"K_protein\">.</span><span class=\"A_protein\">.</span><span class=\"T_protein\">T</span><span class=\"A_protein\">A</span><span class=\"L_protein\">.</span><span class=\"P_protein\">.</span><span class=\"S_protein\">.</span><span class=\"D_protein\">.</span><span class=\"N_protein\">.</span><span class=\"H_protein\">.</span><span class=\"C_protein\">C</span><span class=\"V_protein\">.</span><span class=\"E_protein\">.</span><span class=\"G_protein\">.</span><span class=\"V_protein\">V</span><span class=\"A_protein\">.</span><span class=\"W_protein\">.</span><span class=\"L_protein\">.</span><span class=\"P_protein\">.</span><span class=\"S_protein\">S</span><span class=\"T_protein\">T</span><span class=\"P_protein\">.</span><span class=\"G_protein\">.</span><span class=\"I_protein\">I</span><span class=\"R_protein\">.</span><span class=\"G_protein\">.</span><span class=\"H_protein\">.</span><span class=\"G_protein\">.</span><span class=\"G_protein\">.</span><span class=\"G_protein\">.</span><span class=\"R_protein\">.</span><span class=\"H_protein\">.</span></td></tr>\n",
       "<tr><td class=\"label\">Rat</td><td><span class=\"M_protein\">.</span><span class=\"K_protein\">.</span><span class=\"S_protein\">.</span><span class=\"N_protein\">.</span><span class=\"Q_protein\">.</span><span class=\"E_protein\">.</span><span class=\"R_protein\">.</span><span class=\"S_protein\">.</span><span class=\"N_protein\">.</span><span class=\"E_protein\">.</span><span class=\"C_protein\">.</span><span class=\"L_protein\">.</span><span class=\"P_protein\">.</span><span class=\"P_protein\">.</span><span class=\"K_protein\">.</span><span class=\"K_protein\">.</span><span class=\"R_protein\">.</span><span class=\"E_protein\">.</span><span class=\"I_protein\">.</span><span class=\"P_protein\">.</span><span class=\"A_protein\">.</span><span class=\"T_protein\">.</span><span class=\"S_protein\">.</span><span class=\"R_protein\">.</span><span class=\"P_protein\">P</span><span class=\"S_protein\">.</span><span class=\"E_protein\">.</span><span class=\"E_protein\">.</span><span class=\"K_protein\">.</span><span class=\"A_protein\">.</span><span class=\"T_protein\">T</span><span class=\"A_protein\">A</span><span class=\"L_protein\">.</span><span class=\"P_protein\">.</span><span class=\"S_protein\">.</span><span class=\"D_protein\">.</span><span class=\"N_protein\">.</span><span class=\"H_protein\">.</span><span class=\"C_protein\">C</span><span class=\"V_protein\">.</span><span class=\"E_protein\">.</span><span class=\"G_protein\">.</span><span class=\"V_protein\">V</span><span class=\"A_protein\">.</span><span class=\"W_protein\">.</span><span class=\"L_protein\">.</span><span class=\"P_protein\">.</span><span class=\"S_protein\">S</span><span class=\"T_protein\">T</span><span class=\"P_protein\">.</span><span class=\"G_protein\">.</span><span class=\"S_protein\">S</span><span class=\"R_protein\">.</span><span class=\"G_protein\">.</span><span class=\"H_protein\">.</span><span class=\"G_protein\">.</span><span class=\"G_protein\">.</span><span class=\"G_protein\">.</span><span class=\"R_protein\">.</span><span class=\"H_protein\">.</span></td></tr>\n",
       "<tr><td class=\"label\">Chimp</td><td><span class=\"M_protein\">.</span><span class=\"K_protein\">.</span><span class=\"S_protein\">.</span><span class=\"N_protein\">.</span><span class=\"Q_protein\">.</span><span class=\"E_protein\">.</span><span class=\"R_protein\">.</span><span class=\"S_protein\">.</span><span class=\"N_protein\">.</span><span class=\"E_protein\">.</span><span class=\"C_protein\">.</span><span class=\"L_protein\">.</span><span class=\"P_protein\">.</span><span class=\"P_protein\">.</span><span class=\"K_protein\">.</span><span class=\"K_protein\">.</span><span class=\"R_protein\">.</span><span class=\"E_protein\">.</span><span class=\"I_protein\">.</span><span class=\"P_protein\">.</span><span class=\"A_protein\">.</span><span class=\"T_protein\">.</span><span class=\"S_protein\">.</span><span class=\"R_protein\">.</span><span class=\"S_protein\">.</span><span class=\"S_protein\">.</span><span class=\"E_protein\">.</span><span class=\"E_protein\">.</span><span class=\"K_protein\">.</span><span class=\"A_protein\">.</span><span class=\"P_protein\">.</span><span class=\"T_protein\">.</span><span class=\"L_protein\">.</span><span class=\"P_protein\">.</span><span class=\"S_protein\">.</span><span class=\"D_protein\">.</span><span class=\"N_protein\">.</span><span class=\"H_protein\">.</span><span class=\"R_protein\">.</span><span class=\"V_protein\">.</span><span class=\"E_protein\">.</span><span class=\"G_protein\">.</span><span class=\"T_protein\">.</span><span class=\"A_protein\">.</span><span class=\"W_protein\">.</span><span class=\"L_protein\">.</span><span class=\"P_protein\">.</span><span class=\"G_protein\">.</span><span class=\"N_protein\">.</span><span class=\"P_protein\">.</span><span class=\"G_protein\">.</span><span class=\"G_protein\">.</span><span class=\"R_protein\">.</span><span class=\"G_protein\">.</span><span class=\"H_protein\">.</span><span class=\"G_protein\">.</span><span class=\"G_protein\">.</span><span class=\"G_protein\">.</span><span class=\"R_protein\">.</span><span class=\"H_protein\">.</span></td></tr>\n",
       "</table>\n",
       "<p><i>6 x 825 (truncated to 6 x 60) protein alignment</i></p>\n",
       "</div>"
      ],
      "text/plain": [
       "6 x 825 alignment: Macaque[MKSNQERSNEC...], Mouse Lemur[MKSNQERSNEC...], Mouse[MKSNQERSNEC...], ..."
      ]
     },
     "execution_count": 4,
     "metadata": {},
     "output_type": "execute_result"
    }
   ],
   "source": [
    "aa_aligner = get_app(\"progressive_align\", \"protein\", distance=\"paralinear\")\n",
    "aligned = aa_aligner(seqs)\n",
    "aligned"
   ]
  },
  {
   "cell_type": "code",
   "execution_count": 5,
   "id": "194c2e34",
   "metadata": {
    "execution": {
     "iopub.execute_input": "2023-12-15T00:03:56.945903Z",
     "iopub.status.busy": "2023-12-15T00:03:56.945595Z",
     "iopub.status.idle": "2023-12-15T00:03:56.950997Z",
     "shell.execute_reply": "2023-12-15T00:03:56.950443Z"
    }
   },
   "outputs": [
    {
     "data": {
      "text/plain": [
       "{'Refs': {},\n",
       " 'source': 'data/SCA1-cds.fasta',\n",
       " 'align_params': {'indel_length': 0.1,\n",
       "  'indel_rate': 1e-10,\n",
       "  'guide_tree': \"(Macaque:0.0023127545121458537,((Mouse_Lemur:0.03580862702845759,(Mouse:0.011219581285708921,Rat:0.004763355238688913):0.052856143725369786):0.02435147404130339,(Human:0.00019740149152159842,Chimp:0.008168683695808834):0.0030743103943117606)'AUTOGENERATED_NAME_Yg':1e-06);\",\n",
       "  'model': 'JTT92',\n",
       "  'lnL': -3174.254054131355}}"
      ]
     },
     "execution_count": 5,
     "metadata": {},
     "output_type": "execute_result"
    }
   ],
   "source": [
    "aligned.info"
   ]
  }
 ],
 "metadata": {
  "kernelspec": {
   "display_name": "Python 3 (ipykernel)",
   "language": "python",
   "name": "python3"
  },
  "language_info": {
   "codemirror_mode": {
    "name": "ipython",
    "version": 3
   },
   "file_extension": ".py",
   "mimetype": "text/x-python",
   "name": "python",
   "nbconvert_exporter": "python",
   "pygments_lexer": "ipython3",
   "version": "3.11.6"
  }
 },
 "nbformat": 4,
 "nbformat_minor": 5
}