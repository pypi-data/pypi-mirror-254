{
 "cells": [
  {
   "cell_type": "code",
   "execution_count": 1,
   "id": "d76bbfbe",
   "metadata": {
    "execution": {
     "iopub.execute_input": "2023-12-15T00:07:33.389156Z",
     "iopub.status.busy": "2023-12-15T00:07:33.388699Z",
     "iopub.status.idle": "2023-12-15T00:07:33.404934Z",
     "shell.execute_reply": "2023-12-15T00:07:33.404311Z"
    }
   },
   "outputs": [],
   "source": [
    "import set_working_directory"
   ]
  },
  {
   "cell_type": "code",
   "execution_count": 2,
   "id": "559c301e",
   "metadata": {
    "execution": {
     "iopub.execute_input": "2023-12-15T00:07:33.408944Z",
     "iopub.status.busy": "2023-12-15T00:07:33.408479Z",
     "iopub.status.idle": "2023-12-15T00:07:34.552887Z",
     "shell.execute_reply": "2023-12-15T00:07:34.552572Z"
    }
   },
   "outputs": [
    {
     "data": {
      "text/plain": [
       "NotCompleted(type=FALSE, origin=take_named_seqs, source=\"primate_brca1.fasta\", message=\"named seq(s) {'Mouse'} not in ['Galago', 'HowlerMon', 'Rhesus', 'Orangutan', 'Gorilla', 'Human', 'Chimpanzee']\")"
      ]
     },
     "execution_count": 2,
     "metadata": {},
     "output_type": "execute_result"
    }
   ],
   "source": [
    "from cogent3 import get_app\n",
    "\n",
    "reader = get_app(\"load_aligned\", format=\"fasta\")\n",
    "select_seqs = get_app(\"take_named_seqs\", \"Mouse\", \"Human\")\n",
    "aln = reader(\"data/primate_brca1.fasta\")\n",
    "result = select_seqs(aln)\n",
    "assert result == False\n",
    "result"
   ]
  },
  {
   "cell_type": "code",
   "execution_count": 3,
   "id": "3db05fa3",
   "metadata": {
    "execution": {
     "iopub.execute_input": "2023-12-15T00:07:34.554264Z",
     "iopub.status.busy": "2023-12-15T00:07:34.554163Z",
     "iopub.status.idle": "2023-12-15T00:07:34.556264Z",
     "shell.execute_reply": "2023-12-15T00:07:34.556012Z"
    }
   },
   "outputs": [
    {
     "data": {
      "text/plain": [
       "'primate_brca1.fasta'"
      ]
     },
     "execution_count": 3,
     "metadata": {},
     "output_type": "execute_result"
    }
   ],
   "source": [
    "result.source"
   ]
  },
  {
   "cell_type": "code",
   "execution_count": 4,
   "id": "623e6c3b",
   "metadata": {
    "execution": {
     "iopub.execute_input": "2023-12-15T00:07:34.557523Z",
     "iopub.status.busy": "2023-12-15T00:07:34.557445Z",
     "iopub.status.idle": "2023-12-15T00:07:34.559373Z",
     "shell.execute_reply": "2023-12-15T00:07:34.559143Z"
    }
   },
   "outputs": [
    {
     "data": {
      "text/plain": [
       "'take_named_seqs'"
      ]
     },
     "execution_count": 4,
     "metadata": {},
     "output_type": "execute_result"
    }
   ],
   "source": [
    "result.origin"
   ]
  },
  {
   "cell_type": "code",
   "execution_count": 5,
   "id": "228e8bbd",
   "metadata": {
    "execution": {
     "iopub.execute_input": "2023-12-15T00:07:34.560505Z",
     "iopub.status.busy": "2023-12-15T00:07:34.560434Z",
     "iopub.status.idle": "2023-12-15T00:07:34.562373Z",
     "shell.execute_reply": "2023-12-15T00:07:34.562158Z"
    }
   },
   "outputs": [
    {
     "data": {
      "text/plain": [
       "\"named seq(s) {'Mouse'} not in ['Galago', 'HowlerMon', 'Rhesus', 'Orangutan', 'Gorilla', 'Human', 'Chimpanzee']\""
      ]
     },
     "execution_count": 5,
     "metadata": {},
     "output_type": "execute_result"
    }
   ],
   "source": [
    "result.message"
   ]
  },
  {
   "cell_type": "code",
   "execution_count": 6,
   "id": "63dabbb9",
   "metadata": {
    "execution": {
     "iopub.execute_input": "2023-12-15T00:07:34.563499Z",
     "iopub.status.busy": "2023-12-15T00:07:34.563432Z",
     "iopub.status.idle": "2023-12-15T00:07:34.568041Z",
     "shell.execute_reply": "2023-12-15T00:07:34.567814Z"
    }
   },
   "outputs": [
    {
     "data": {
      "text/plain": [
       "NotCompleted(type=ERROR, origin=load_aligned, source=\"primate_brca1.fasta\", message=\"Traceback (most recent call last):\n",
       "  File \"/Users/gavin/miniconda3/envs/c311/lib/python3.11/site-packages/cogent3/app/composable.py\", line 366, in _call\n",
       "    result = self.main(val, *args, **kwargs)\n",
       "             ^^^^^^^^^^^^^^^^^^^^^^^^^^^^^^^\n",
       "  File \"/Users/gavin/miniconda3/envs/c311/lib/python3.11/site-packages/cogent3/app/io.py\", line 306, in main\n",
       "    return _load_seqs(path, ArrayAlignment, self._parser, self.moltype)\n",
       "           ^^^^^^^^^^^^^^^^^^^^^^^^^^^^^^^^^^^^^^^^^^^^^^^^^^^^^^^^^^^^\n",
       "  File \"/Users/gavin/miniconda3/envs/c311/lib/python3.11/site-packages/cogent3/app/io.py\", line 278, in _load_seqs\n",
       "    data = _read_it(path)\n",
       "           ^^^^^^^^^^^^^^\n",
       "  File \"/Users/gavin/miniconda3/envs/c311/lib/python3.11/functools.py\", line 909, in wrapper\n",
       "    return dispatch(args[0].__class__)(*args, **kw)\n",
       "           ^^^^^^^^^^^^^^^^^^^^^^^^^^^^^^^^^^^^^^^^\n",
       "  File \"/Users/gavin/miniconda3/envs/c311/lib/python3.11/site-packages/cogent3/app/io.py\", line 274, in _\n",
       "    return _read_it(Path(path))\n",
       "           ^^^^^^^^^^^^^^^^^^^^\n",
       "  File \"/Users/gavin/miniconda3/envs/c311/lib/python3.11/functools.py\", line 909, in wrapper\n",
       "    return dispatch(args[0].__class__)(*args, **kw)\n",
       "           ^^^^^^^^^^^^^^^^^^^^^^^^^^^^^^^^^^^^^^^^\n",
       "  File \"/Users/gavin/miniconda3/envs/c311/lib/python3.11/site-packages/cogent3/app/io.py\", line 269, in _\n",
       "    return path.read_text()\n",
       "           ^^^^^^^^^^^^^^^^\n",
       "  File \"/Users/gavin/miniconda3/envs/c311/lib/python3.11/pathlib.py\", line 1058, in read_text\n",
       "    with self.open(mode='r', encoding=encoding, errors=errors) as f:\n",
       "         ^^^^^^^^^^^^^^^^^^^^^^^^^^^^^^^^^^^^^^^^^^^^^^^^^^^^^\n",
       "  File \"/Users/gavin/miniconda3/envs/c311/lib/python3.11/pathlib.py\", line 1044, in open\n",
       "    return io.open(self, mode, buffering, encoding, errors, newline)\n",
       "           ^^^^^^^^^^^^^^^^^^^^^^^^^^^^^^^^^^^^^^^^^^^^^^^^^^^^^^^^^\n",
       "FileNotFoundError: [Errno 2] No such file or directory: '/Users/gavin/repos/Cogent3/doc/primate_brca1.fasta'\n",
       "\")"
      ]
     },
     "execution_count": 6,
     "metadata": {},
     "output_type": "execute_result"
    }
   ],
   "source": [
    "result = reader(\"primate_brca1.fasta\")\n",
    "result"
   ]
  },
  {
   "cell_type": "code",
   "execution_count": 7,
   "id": "c0b711f2",
   "metadata": {
    "execution": {
     "iopub.execute_input": "2023-12-15T00:07:34.569166Z",
     "iopub.status.busy": "2023-12-15T00:07:34.569103Z",
     "iopub.status.idle": "2023-12-15T00:07:34.573365Z",
     "shell.execute_reply": "2023-12-15T00:07:34.573146Z"
    }
   },
   "outputs": [
    {
     "data": {
      "text/plain": [
       "NotCompleted(type=FALSE, origin=take_named_seqs, source=\"primate_brca1.fasta\", message=\"named seq(s) {'Mouse'} not in ['Galago', 'HowlerMon', 'Rhesus', 'Orangutan', 'Gorilla', 'Human', 'Chimpanzee']\")"
      ]
     },
     "execution_count": 7,
     "metadata": {},
     "output_type": "execute_result"
    }
   ],
   "source": [
    "app = reader + select_seqs\n",
    "result = app(\"data/primate_brca1.fasta\")\n",
    "result"
   ]
  },
  {
   "cell_type": "code",
   "execution_count": 8,
   "id": "55468f4c",
   "metadata": {
    "execution": {
     "iopub.execute_input": "2023-12-15T00:07:34.574485Z",
     "iopub.status.busy": "2023-12-15T00:07:34.574418Z",
     "iopub.status.idle": "2023-12-15T00:07:34.576761Z",
     "shell.execute_reply": "2023-12-15T00:07:34.576565Z"
    }
   },
   "outputs": [
    {
     "data": {
      "text/plain": [
       "NotCompleted(type=ERROR, origin=load_aligned, source=\"primate_brca1.fasta\", message=\"Traceback (most recent call last):\n",
       "  File \"/Users/gavin/miniconda3/envs/c311/lib/python3.11/site-packages/cogent3/app/composable.py\", line 366, in _call\n",
       "    result = self.main(val, *args, **kwargs)\n",
       "             ^^^^^^^^^^^^^^^^^^^^^^^^^^^^^^^\n",
       "  File \"/Users/gavin/miniconda3/envs/c311/lib/python3.11/site-packages/cogent3/app/io.py\", line 306, in main\n",
       "    return _load_seqs(path, ArrayAlignment, self._parser, self.moltype)\n",
       "           ^^^^^^^^^^^^^^^^^^^^^^^^^^^^^^^^^^^^^^^^^^^^^^^^^^^^^^^^^^^^\n",
       "  File \"/Users/gavin/miniconda3/envs/c311/lib/python3.11/site-packages/cogent3/app/io.py\", line 278, in _load_seqs\n",
       "    data = _read_it(path)\n",
       "           ^^^^^^^^^^^^^^\n",
       "  File \"/Users/gavin/miniconda3/envs/c311/lib/python3.11/functools.py\", line 909, in wrapper\n",
       "    return dispatch(args[0].__class__)(*args, **kw)\n",
       "           ^^^^^^^^^^^^^^^^^^^^^^^^^^^^^^^^^^^^^^^^\n",
       "  File \"/Users/gavin/miniconda3/envs/c311/lib/python3.11/site-packages/cogent3/app/io.py\", line 274, in _\n",
       "    return _read_it(Path(path))\n",
       "           ^^^^^^^^^^^^^^^^^^^^\n",
       "  File \"/Users/gavin/miniconda3/envs/c311/lib/python3.11/functools.py\", line 909, in wrapper\n",
       "    return dispatch(args[0].__class__)(*args, **kw)\n",
       "           ^^^^^^^^^^^^^^^^^^^^^^^^^^^^^^^^^^^^^^^^\n",
       "  File \"/Users/gavin/miniconda3/envs/c311/lib/python3.11/site-packages/cogent3/app/io.py\", line 269, in _\n",
       "    return path.read_text()\n",
       "           ^^^^^^^^^^^^^^^^\n",
       "  File \"/Users/gavin/miniconda3/envs/c311/lib/python3.11/pathlib.py\", line 1058, in read_text\n",
       "    with self.open(mode='r', encoding=encoding, errors=errors) as f:\n",
       "         ^^^^^^^^^^^^^^^^^^^^^^^^^^^^^^^^^^^^^^^^^^^^^^^^^^^^^\n",
       "  File \"/Users/gavin/miniconda3/envs/c311/lib/python3.11/pathlib.py\", line 1044, in open\n",
       "    return io.open(self, mode, buffering, encoding, errors, newline)\n",
       "           ^^^^^^^^^^^^^^^^^^^^^^^^^^^^^^^^^^^^^^^^^^^^^^^^^^^^^^^^^\n",
       "FileNotFoundError: [Errno 2] No such file or directory: '/Users/gavin/repos/Cogent3/doc/primate_brca1.fasta'\n",
       "\")"
      ]
     },
     "execution_count": 8,
     "metadata": {},
     "output_type": "execute_result"
    }
   ],
   "source": [
    "result = app(\"primate_brca1.fasta\")\n",
    "result"
   ]
  }
 ],
 "metadata": {
  "kernelspec": {
   "display_name": "Python 3 (ipykernel)",
   "language": "python",
   "name": "python3"
  },
  "language_info": {
   "codemirror_mode": {
    "name": "ipython",
    "version": 3
   },
   "file_extension": ".py",
   "mimetype": "text/x-python",
   "name": "python",
   "nbconvert_exporter": "python",
   "pygments_lexer": "ipython3",
   "version": "3.11.6"
  }
 },
 "nbformat": 4,
 "nbformat_minor": 5
}