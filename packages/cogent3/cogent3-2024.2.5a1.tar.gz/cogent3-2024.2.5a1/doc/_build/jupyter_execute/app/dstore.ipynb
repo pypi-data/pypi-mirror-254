{
 "cells": [
  {
   "cell_type": "code",
   "execution_count": 1,
   "id": "8cc05fba",
   "metadata": {
    "execution": {
     "iopub.execute_input": "2023-12-15T00:04:10.701855Z",
     "iopub.status.busy": "2023-12-15T00:04:10.701614Z",
     "iopub.status.idle": "2023-12-15T00:04:10.709274Z",
     "shell.execute_reply": "2023-12-15T00:04:10.709057Z"
    }
   },
   "outputs": [],
   "source": [
    "import set_working_directory"
   ]
  },
  {
   "cell_type": "code",
   "execution_count": 2,
   "id": "3ebea1e3",
   "metadata": {
    "execution": {
     "iopub.execute_input": "2023-12-15T00:04:10.710467Z",
     "iopub.status.busy": "2023-12-15T00:04:10.710377Z",
     "iopub.status.idle": "2023-12-15T00:04:11.882527Z",
     "shell.execute_reply": "2023-12-15T00:04:11.882195Z"
    }
   },
   "outputs": [
    {
     "name": "stdout",
     "output_type": "stream",
     "text": [
      "1035x member ReadOnlyDataStoreZipped(source='/Users/gavin/repos/Cogent3/doc/data/raw.zip', members=[DataMember(data_store=/Users/gavin/repos/Cogent3/doc/data/raw.zip, unique_id=ENSG00000157184.fa), DataMember(data_store=/Users/gavin/repos/Cogent3/doc/data/raw.zip, unique_id=ENSG00000131791.fa)]...)\n"
     ]
    }
   ],
   "source": [
    "from cogent3 import open_data_store\n",
    "\n",
    "dstore = open_data_store(\"data/raw.zip\", suffix=\"fa\", mode=\"r\")\n",
    "print(dstore)"
   ]
  },
  {
   "cell_type": "code",
   "execution_count": 3,
   "id": "5b534ca0",
   "metadata": {
    "execution": {
     "iopub.execute_input": "2023-12-15T00:04:11.883893Z",
     "iopub.status.busy": "2023-12-15T00:04:11.883776Z",
     "iopub.status.idle": "2023-12-15T00:04:11.895899Z",
     "shell.execute_reply": "2023-12-15T00:04:11.895653Z"
    }
   },
   "outputs": [
    {
     "data": {
      "text/html": [
       "\n",
       "<div class=\"c3table\">\n",
       "\n",
       "<style>\n",
       ".c3table table {margin: 10px 0;}\n",
       ".c3table tr:last-child {border-bottom: 1px solid #000;} \n",
       ".c3table tr > th {text-align: left; padding: 0 5px;}\n",
       ".c3table tr > td {text-align: left; padding: 5px;}\n",
       ".c3table tr:nth-child(even) {background: #f7f7f7 !important;}\n",
       ".c3table .ellipsis {background: rgba(0, 0, 0, .01);}\n",
       ".c3table .index {background: rgba(161, 195, 209, 0.0); margin: 10px; font-weight: 600;}\n",
       ".c3table .head_cell {background: rgba(161, 195, 209, 0.75); font-weight: bold; text-align: center;}\n",
       ".c3table caption {color: rgb(250, 250, 250); background: rgba(30, 140, 200, 1); padding: 3px; white-space: nowrap; caption-side: top;}\n",
       ".c3table .cell_title {font-weight: bold;}\n",
       ".c3col_left { text-align: left !important; display: block;}\n",
       ".c3col_right { text-align: right !important; display: block;}\n",
       ".c3col_center { text-align: center !important; display: block;}\n",
       "</style>\n",
       "\n",
       "<table>\n",
       "\n",
       "<caption>\n",
       "<span class=\"cell_title\">Directory datastore</span>\n",
       "</caption>\n",
       "<thead class=\"head_cell\">\n",
       "<th>record type</th><th>number</th>\n",
       "</thead>\n",
       "<tbody>\n",
       "<tr><td><span class=\"c3col_left\">completed</span></td><td><span class=\"c3col_right\">1035</span></td></tr>\n",
       "<tr><td><span class=\"c3col_left\">not_completed</span></td><td><span class=\"c3col_right\">0</span></td></tr>\n",
       "<tr><td><span class=\"c3col_left\">logs</span></td><td><span class=\"c3col_right\">0</span></td></tr>\n",
       "</tbody>\n",
       "</table>\n",
       "<p>\n",
       "3 rows x 2 columns</p>\n",
       "</div>"
      ],
      "text/plain": [
       "Directory datastore\n",
       "=======================\n",
       "record type      number\n",
       "-----------------------\n",
       "completed          1035\n",
       "not_completed         0\n",
       "logs                  0\n",
       "-----------------------\n",
       "\n",
       "3 rows x 2 columns"
      ]
     },
     "execution_count": 3,
     "metadata": {},
     "output_type": "execute_result"
    }
   ],
   "source": [
    "dstore.describe"
   ]
  },
  {
   "cell_type": "code",
   "execution_count": 4,
   "id": "043ef321",
   "metadata": {
    "execution": {
     "iopub.execute_input": "2023-12-15T00:04:11.897115Z",
     "iopub.status.busy": "2023-12-15T00:04:11.897040Z",
     "iopub.status.idle": "2023-12-15T00:04:11.903533Z",
     "shell.execute_reply": "2023-12-15T00:04:11.903310Z"
    }
   },
   "outputs": [
    {
     "data": {
      "text/plain": [
       "DataMember(data_store=/Users/gavin/repos/Cogent3/doc/data/raw.zip, unique_id=ENSG00000157184.fa)"
      ]
     },
     "execution_count": 4,
     "metadata": {},
     "output_type": "execute_result"
    }
   ],
   "source": [
    "m = dstore[0]\n",
    "m"
   ]
  },
  {
   "cell_type": "code",
   "execution_count": 5,
   "id": "5b17a2ab",
   "metadata": {
    "execution": {
     "iopub.execute_input": "2023-12-15T00:04:11.904678Z",
     "iopub.status.busy": "2023-12-15T00:04:11.904596Z",
     "iopub.status.idle": "2023-12-15T00:04:11.910702Z",
     "shell.execute_reply": "2023-12-15T00:04:11.910455Z"
    }
   },
   "outputs": [
    {
     "name": "stdout",
     "output_type": "stream",
     "text": [
      "ENSG00000157184.fa\n",
      "ENSG00000131791.fa\n",
      "ENSG00000127054.fa\n",
      "ENSG00000067704.fa\n",
      "ENSG00000182004.fa\n"
     ]
    }
   ],
   "source": [
    "for m in dstore[:5]:\n",
    "    print(m)"
   ]
  },
  {
   "cell_type": "code",
   "execution_count": 6,
   "id": "a9acdddd",
   "metadata": {
    "execution": {
     "iopub.execute_input": "2023-12-15T00:04:11.911887Z",
     "iopub.status.busy": "2023-12-15T00:04:11.911804Z",
     "iopub.status.idle": "2023-12-15T00:04:11.916253Z",
     "shell.execute_reply": "2023-12-15T00:04:11.916015Z"
    }
   },
   "outputs": [
    {
     "data": {
      "text/plain": [
       "'>Human\\nATGGCGTACCGTG'"
      ]
     },
     "execution_count": 6,
     "metadata": {},
     "output_type": "execute_result"
    }
   ],
   "source": [
    "m.read()[:20] # truncating"
   ]
  },
  {
   "cell_type": "code",
   "execution_count": 7,
   "id": "ce94850d",
   "metadata": {
    "execution": {
     "iopub.execute_input": "2023-12-15T00:04:11.917286Z",
     "iopub.status.busy": "2023-12-15T00:04:11.917219Z",
     "iopub.status.idle": "2023-12-15T00:04:11.924025Z",
     "shell.execute_reply": "2023-12-15T00:04:11.923830Z"
    }
   },
   "outputs": [
    {
     "data": {
      "text/html": [
       "\n",
       "<div class=\"c3table\">\n",
       "\n",
       "<style>\n",
       ".c3table table {margin: 10px 0;}\n",
       ".c3table tr:last-child {border-bottom: 1px solid #000;} \n",
       ".c3table tr > th {text-align: left; padding: 0 5px;}\n",
       ".c3table tr > td {text-align: left; padding: 5px;}\n",
       ".c3table tr:nth-child(even) {background: #f7f7f7 !important;}\n",
       ".c3table .ellipsis {background: rgba(0, 0, 0, .01);}\n",
       ".c3table .index {background: rgba(161, 195, 209, 0.0); margin: 10px; font-weight: 600;}\n",
       ".c3table .head_cell {background: rgba(161, 195, 209, 0.75); font-weight: bold; text-align: center;}\n",
       ".c3table caption {color: rgb(250, 250, 250); background: rgba(30, 140, 200, 1); padding: 3px; white-space: nowrap; caption-side: top;}\n",
       ".c3table .cell_title {font-weight: bold;}\n",
       ".c3col_left { text-align: left !important; display: block;}\n",
       ".c3col_right { text-align: right !important; display: block;}\n",
       ".c3col_center { text-align: center !important; display: block;}\n",
       "</style>\n",
       "\n",
       "<table>\n",
       "\n",
       "<caption>\n",
       "<span class=\"cell_title\">Unlocked db store.</span>\n",
       "</caption>\n",
       "<thead class=\"head_cell\">\n",
       "<th>record type</th><th>number</th>\n",
       "</thead>\n",
       "<tbody>\n",
       "<tr><td><span class=\"c3col_left\">completed</span></td><td><span class=\"c3col_right\">175</span></td></tr>\n",
       "<tr><td><span class=\"c3col_left\">not_completed</span></td><td><span class=\"c3col_right\">0</span></td></tr>\n",
       "<tr><td><span class=\"c3col_left\">logs</span></td><td><span class=\"c3col_right\">1</span></td></tr>\n",
       "</tbody>\n",
       "</table>\n",
       "<p>\n",
       "3 rows x 2 columns</p>\n",
       "</div>"
      ],
      "text/plain": [
       "Unlocked db store.\n",
       "=======================\n",
       "record type      number\n",
       "-----------------------\n",
       "completed           175\n",
       "not_completed         0\n",
       "logs                  1\n",
       "-----------------------\n",
       "\n",
       "3 rows x 2 columns"
      ]
     },
     "execution_count": 7,
     "metadata": {},
     "output_type": "execute_result"
    }
   ],
   "source": [
    "dstore = open_data_store(\"data/demo-locked.sqlitedb\")\n",
    "dstore.describe"
   ]
  },
  {
   "cell_type": "code",
   "execution_count": 8,
   "id": "e1bc6ec6",
   "metadata": {
    "execution": {
     "iopub.execute_input": "2023-12-15T00:04:11.925066Z",
     "iopub.status.busy": "2023-12-15T00:04:11.924985Z",
     "iopub.status.idle": "2023-12-15T00:04:11.926615Z",
     "shell.execute_reply": "2023-12-15T00:04:11.926386Z"
    }
   },
   "outputs": [],
   "source": [
    "dstore.unlock(force=True)"
   ]
  },
  {
   "cell_type": "code",
   "execution_count": 9,
   "id": "1995bdbb",
   "metadata": {
    "execution": {
     "iopub.execute_input": "2023-12-15T00:04:11.927633Z",
     "iopub.status.busy": "2023-12-15T00:04:11.927554Z",
     "iopub.status.idle": "2023-12-15T00:04:11.930279Z",
     "shell.execute_reply": "2023-12-15T00:04:11.930057Z"
    }
   },
   "outputs": [
    {
     "data": {
      "text/html": [
       "\n",
       "<div class=\"c3table\">\n",
       "\n",
       "<style>\n",
       ".c3table table {margin: 10px 0;}\n",
       ".c3table tr:last-child {border-bottom: 1px solid #000;} \n",
       ".c3table tr > th {text-align: left; padding: 0 5px;}\n",
       ".c3table tr > td {text-align: left; padding: 5px;}\n",
       ".c3table tr:nth-child(even) {background: #f7f7f7 !important;}\n",
       ".c3table .ellipsis {background: rgba(0, 0, 0, .01);}\n",
       ".c3table .index {background: rgba(161, 195, 209, 0.0); margin: 10px; font-weight: 600;}\n",
       ".c3table .head_cell {background: rgba(161, 195, 209, 0.75); font-weight: bold; text-align: center;}\n",
       ".c3table caption {color: rgb(250, 250, 250); background: rgba(30, 140, 200, 1); padding: 3px; white-space: nowrap; caption-side: top;}\n",
       ".c3table .cell_title {font-weight: bold;}\n",
       ".c3col_left { text-align: left !important; display: block;}\n",
       ".c3col_right { text-align: right !important; display: block;}\n",
       ".c3col_center { text-align: center !important; display: block;}\n",
       "</style>\n",
       "\n",
       "<table>\n",
       "\n",
       "<caption>\n",
       "<span class=\"cell_title\">summary of log files</span>\n",
       "</caption>\n",
       "<thead class=\"head_cell\">\n",
       "<th>time</th><th>name</th><th>python version</th><th>who</th><th>command</th><th>composable</th>\n",
       "</thead>\n",
       "<tbody>\n",
       "<tr><td><span class=\"c3col_left\">2019-07-24 14:42:56</span></td><td><span class=\"c3col_left\">logs/load_unaligned-progressive_align-write_db-pid8650.log</span></td><td><span class=\"c3col_left\">3.7.3</span></td><td><span class=\"c3col_left\">gavin</span></td><td><span class=\"c3col_left\">/Users/gavin/miniconda3/envs/c3dev/lib/python3.7/site-packages/ipykernel_launcher.py -f /Users/gavin/Library/Jupyter/runtime/kernel-5eb93aeb-f6e0-493e-85d1-d62895201ae2.json</span></td><td><span class=\"c3col_left\">load_unaligned(type='sequences', moltype='dna', format='fasta') + progressive_align(type='sequences', model='HKY85', gc=None, param_vals={'kappa': 3}, guide_tree=None, unique_guides=False, indel_length=0.1, indel_rate=1e-10) + write_db(type='output', data_path='../data/aligned-nt.tinydb', name_callback=None, create=True, if_exists='overwrite', suffix='json')</span></td></tr>\n",
       "</tbody>\n",
       "</table>\n",
       "<p>\n",
       "1 rows x 6 columns</p>\n",
       "</div>"
      ],
      "text/plain": [
       "summary of log files\n",
       "=========================================================================================================================================================================================================================================================================================================================================================================================================================================================================================================================================================================================================================================================================\n",
       "time                   name                                                          python version    who      command                                                                                                                                                                          composable                                                                                                                                                                                                                                                                                                                                                              \n",
       "-------------------------------------------------------------------------------------------------------------------------------------------------------------------------------------------------------------------------------------------------------------------------------------------------------------------------------------------------------------------------------------------------------------------------------------------------------------------------------------------------------------------------------------------------------------------------------------------------------------------------------------------------------------------------\n",
       "2019-07-24 14:42:56    logs/load_unaligned-progressive_align-write_db-pid8650.log    3.7.3             gavin    /Users/gavin/miniconda3/envs/c3dev/lib/python3.7/site-packages/ipykernel_launcher.py -f /Users/gavin/Library/Jupyter/runtime/kernel-5eb93aeb-f6e0-493e-85d1-d62895201ae2.json    load_unaligned(type='sequences', moltype='dna', format='fasta') + progressive_align(type='sequences', model='HKY85', gc=None, param_vals={'kappa': 3}, guide_tree=None, unique_guides=False, indel_length=0.1, indel_rate=1e-10) + write_db(type='output', data_path='../data/aligned-nt.tinydb', name_callback=None, create=True, if_exists='overwrite', suffix='json')\n",
       "-------------------------------------------------------------------------------------------------------------------------------------------------------------------------------------------------------------------------------------------------------------------------------------------------------------------------------------------------------------------------------------------------------------------------------------------------------------------------------------------------------------------------------------------------------------------------------------------------------------------------------------------------------------------------\n",
       "\n",
       "1 rows x 6 columns"
      ]
     },
     "execution_count": 9,
     "metadata": {},
     "output_type": "execute_result"
    }
   ],
   "source": [
    "dstore.summary_logs"
   ]
  },
  {
   "cell_type": "code",
   "execution_count": 10,
   "id": "a9cd1ceb",
   "metadata": {
    "execution": {
     "iopub.execute_input": "2023-12-15T00:04:11.931267Z",
     "iopub.status.busy": "2023-12-15T00:04:11.931191Z",
     "iopub.status.idle": "2023-12-15T00:04:11.932979Z",
     "shell.execute_reply": "2023-12-15T00:04:11.932770Z"
    }
   },
   "outputs": [
    {
     "data": {
      "text/plain": [
       "[DataMember(data_store=/Users/gavin/repos/Cogent3/doc/data/demo-locked.sqlitedb, unique_id=logs/load_unaligned-progressive_align-write_db-pid8650.log)]"
      ]
     },
     "execution_count": 10,
     "metadata": {},
     "output_type": "execute_result"
    }
   ],
   "source": [
    "dstore.logs"
   ]
  },
  {
   "cell_type": "code",
   "execution_count": 11,
   "id": "c3a48d5c",
   "metadata": {
    "execution": {
     "iopub.execute_input": "2023-12-15T00:04:11.933926Z",
     "iopub.status.busy": "2023-12-15T00:04:11.933851Z",
     "iopub.status.idle": "2023-12-15T00:04:11.935491Z",
     "shell.execute_reply": "2023-12-15T00:04:11.935281Z"
    }
   },
   "outputs": [
    {
     "name": "stdout",
     "output_type": "stream",
     "text": [
      "2019-07-24 14:42:56\tEratosthenes.local:8650\tINFO\tsystem_details : system=Darwin Kernel Version 18.6.0: Thu Apr 25 23:16:27 PDT 2019; root:xnu-4903.261.4~2/RELEASE_X86_64\n",
      "2019-07-24 14:42:56\tEratosthenes.local:8650\tINFO\tpython\n"
     ]
    }
   ],
   "source": [
    "print(dstore.logs[0].read()[:225]) # truncated for clarity"
   ]
  },
  {
   "cell_type": "code",
   "execution_count": 12,
   "id": "7d06b8c9",
   "metadata": {
    "execution": {
     "iopub.execute_input": "2023-12-15T00:04:11.936524Z",
     "iopub.status.busy": "2023-12-15T00:04:11.936451Z",
     "iopub.status.idle": "2023-12-15T00:04:11.938178Z",
     "shell.execute_reply": "2023-12-15T00:04:11.937980Z"
    }
   },
   "outputs": [],
   "source": [
    "from cogent3 import open_data_store\n",
    "\n",
    "in_dstore = open_data_store(\"data/raw.zip\", suffix=\"fa\")"
   ]
  },
  {
   "cell_type": "code",
   "execution_count": 13,
   "id": "f53c5b34",
   "metadata": {
    "execution": {
     "iopub.execute_input": "2023-12-15T00:04:11.939154Z",
     "iopub.status.busy": "2023-12-15T00:04:11.939088Z",
     "iopub.status.idle": "2023-12-15T00:04:11.940602Z",
     "shell.execute_reply": "2023-12-15T00:04:11.940390Z"
    }
   },
   "outputs": [],
   "source": [
    "out_dstore = open_data_store(\"translated.sqlitedb\", mode=\"w\")"
   ]
  },
  {
   "cell_type": "code",
   "execution_count": 14,
   "id": "5a3be2ad",
   "metadata": {
    "execution": {
     "iopub.execute_input": "2023-12-15T00:04:11.941544Z",
     "iopub.status.busy": "2023-12-15T00:04:11.941464Z",
     "iopub.status.idle": "2023-12-15T00:04:11.950343Z",
     "shell.execute_reply": "2023-12-15T00:04:11.950097Z"
    }
   },
   "outputs": [
    {
     "data": {
      "text/plain": [
       "load_unaligned(moltype='dna', format='fasta') + translate_seqs(moltype='dna',\n",
       "gc=1, allow_rc=False, trim_terminal_stop=True) +\n",
       "write_db(data_store=DataStoreSqlite(source=/Users/gavin/repos/Cogent3/doc/translated.sqlitedb,\n",
       "mode=Mode.w, limit=None, verbose=False), id_from_source=<function get_unique_id\n",
       "at 0x177f79a80>, serialiser=to_primitive(convertor=<function as_dict at\n",
       "0x177f967a0>) + pickle_it())"
      ]
     },
     "execution_count": 14,
     "metadata": {},
     "output_type": "execute_result"
    }
   ],
   "source": [
    "from cogent3 import get_app\n",
    "\n",
    "load = get_app(\"load_unaligned\", moltype=\"dna\")\n",
    "translate = get_app(\"translate_seqs\")\n",
    "write = get_app(\"write_db\", data_store=out_dstore)\n",
    "app = load + translate + write\n",
    "app"
   ]
  },
  {
   "cell_type": "code",
   "execution_count": 15,
   "id": "9d64f3e6",
   "metadata": {
    "execution": {
     "iopub.execute_input": "2023-12-15T00:04:11.951493Z",
     "iopub.status.busy": "2023-12-15T00:04:11.951420Z",
     "iopub.status.idle": "2023-12-15T00:04:19.192893Z",
     "shell.execute_reply": "2023-12-15T00:04:19.192637Z"
    }
   },
   "outputs": [],
   "source": [
    "out_dstore = app.apply_to(in_dstore)"
   ]
  },
  {
   "cell_type": "code",
   "execution_count": 16,
   "id": "0f3031c9",
   "metadata": {
    "execution": {
     "iopub.execute_input": "2023-12-15T00:04:19.194336Z",
     "iopub.status.busy": "2023-12-15T00:04:19.194252Z",
     "iopub.status.idle": "2023-12-15T00:04:19.196618Z",
     "shell.execute_reply": "2023-12-15T00:04:19.196421Z"
    }
   },
   "outputs": [
    {
     "data": {
      "text/html": [
       "\n",
       "<div class=\"c3table\">\n",
       "\n",
       "<style>\n",
       ".c3table table {margin: 10px 0;}\n",
       ".c3table tr:last-child {border-bottom: 1px solid #000;} \n",
       ".c3table tr > th {text-align: left; padding: 0 5px;}\n",
       ".c3table tr > td {text-align: left; padding: 5px;}\n",
       ".c3table tr:nth-child(even) {background: #f7f7f7 !important;}\n",
       ".c3table .ellipsis {background: rgba(0, 0, 0, .01);}\n",
       ".c3table .index {background: rgba(161, 195, 209, 0.0); margin: 10px; font-weight: 600;}\n",
       ".c3table .head_cell {background: rgba(161, 195, 209, 0.75); font-weight: bold; text-align: center;}\n",
       ".c3table caption {color: rgb(250, 250, 250); background: rgba(30, 140, 200, 1); padding: 3px; white-space: nowrap; caption-side: top;}\n",
       ".c3table .cell_title {font-weight: bold;}\n",
       ".c3col_left { text-align: left !important; display: block;}\n",
       ".c3col_right { text-align: right !important; display: block;}\n",
       ".c3col_center { text-align: center !important; display: block;}\n",
       "</style>\n",
       "\n",
       "<table>\n",
       "\n",
       "<caption>\n",
       "<span class=\"cell_title\">Locked to the current process.</span>\n",
       "</caption>\n",
       "<thead class=\"head_cell\">\n",
       "<th>record type</th><th>number</th>\n",
       "</thead>\n",
       "<tbody>\n",
       "<tr><td><span class=\"c3col_left\">completed</span></td><td><span class=\"c3col_right\">1025</span></td></tr>\n",
       "<tr><td><span class=\"c3col_left\">not_completed</span></td><td><span class=\"c3col_right\">10</span></td></tr>\n",
       "<tr><td><span class=\"c3col_left\">logs</span></td><td><span class=\"c3col_right\">1</span></td></tr>\n",
       "</tbody>\n",
       "</table>\n",
       "<p>\n",
       "3 rows x 2 columns</p>\n",
       "</div>"
      ],
      "text/plain": [
       "Locked to the current process.\n",
       "=======================\n",
       "record type      number\n",
       "-----------------------\n",
       "completed          1025\n",
       "not_completed        10\n",
       "logs                  1\n",
       "-----------------------\n",
       "\n",
       "3 rows x 2 columns"
      ]
     },
     "execution_count": 16,
     "metadata": {},
     "output_type": "execute_result"
    }
   ],
   "source": [
    "out_dstore.describe"
   ]
  },
  {
   "cell_type": "code",
   "execution_count": 17,
   "id": "ee273be7",
   "metadata": {
    "execution": {
     "iopub.execute_input": "2023-12-15T00:04:19.197683Z",
     "iopub.status.busy": "2023-12-15T00:04:19.197619Z",
     "iopub.status.idle": "2023-12-15T00:04:19.221657Z",
     "shell.execute_reply": "2023-12-15T00:04:19.221445Z"
    }
   },
   "outputs": [
    {
     "data": {
      "text/html": [
       "\n",
       "<div class=\"c3table\">\n",
       "\n",
       "<style>\n",
       ".c3table table {margin: 10px 0;}\n",
       ".c3table tr:last-child {border-bottom: 1px solid #000;} \n",
       ".c3table tr > th {text-align: left; padding: 0 5px;}\n",
       ".c3table tr > td {text-align: left; padding: 5px;}\n",
       ".c3table tr:nth-child(even) {background: #f7f7f7 !important;}\n",
       ".c3table .ellipsis {background: rgba(0, 0, 0, .01);}\n",
       ".c3table .index {background: rgba(161, 195, 209, 0.25); margin: 10px; font-weight: 600;}\n",
       ".c3table .head_cell {background: rgba(161, 195, 209, 0.75); font-weight: bold; text-align: center;}\n",
       ".c3table caption {color: rgb(250, 250, 250); background: rgba(30, 140, 200, 1); padding: 3px; white-space: nowrap; caption-side: top;}\n",
       ".c3table .cell_title {font-weight: bold;}\n",
       ".c3col_left { text-align: left !important; display: block;}\n",
       ".c3col_right { text-align: right !important; display: block;}\n",
       ".c3col_center { text-align: center !important; display: block;}\n",
       "</style>\n",
       "\n",
       "<table>\n",
       "\n",
       "<caption>\n",
       "<span class=\"cell_title\">validate status</span>\n",
       "</caption>\n",
       "<thead class=\"head_cell\">\n",
       "<th>Condition</th><th>Value</th>\n",
       "</thead>\n",
       "<tbody>\n",
       "<tr><td class=\"index\"><span class=\"c3col_left\">Num md5sum correct</span></td><td><span class=\"c3col_left\">1035</span></td></tr>\n",
       "<tr><td class=\"index\"><span class=\"c3col_left\">Num md5sum incorrect</span></td><td><span class=\"c3col_left\">0</span></td></tr>\n",
       "<tr><td class=\"index\"><span class=\"c3col_left\">Num md5sum missing</span></td><td><span class=\"c3col_left\">0</span></td></tr>\n",
       "<tr><td class=\"index\"><span class=\"c3col_left\">Has log</span></td><td><span class=\"c3col_left\">True</span></td></tr>\n",
       "</tbody>\n",
       "</table>\n",
       "<p>\n",
       "4 rows x 2 columns</p>\n",
       "</div>"
      ],
      "text/plain": [
       "validate status\n",
       "=============================\n",
       "Condition               Value\n",
       "-----------------------------\n",
       "Num md5sum correct      1035 \n",
       "Num md5sum incorrect    0    \n",
       "Num md5sum missing      0    \n",
       "Has log                 1    \n",
       "-----------------------------\n",
       "\n",
       "4 rows x 2 columns"
      ]
     },
     "execution_count": 17,
     "metadata": {},
     "output_type": "execute_result"
    }
   ],
   "source": [
    "out_dstore.validate()"
   ]
  },
  {
   "cell_type": "code",
   "execution_count": 18,
   "id": "283ddc9a",
   "metadata": {
    "execution": {
     "iopub.execute_input": "2023-12-15T00:04:19.222815Z",
     "iopub.status.busy": "2023-12-15T00:04:19.222741Z",
     "iopub.status.idle": "2023-12-15T00:04:19.225833Z",
     "shell.execute_reply": "2023-12-15T00:04:19.225605Z"
    }
   },
   "outputs": [
    {
     "data": {
      "text/html": [
       "\n",
       "<div class=\"c3table\">\n",
       "\n",
       "<style>\n",
       ".c3table table {margin: 10px 0;}\n",
       ".c3table tr:last-child {border-bottom: 1px solid #000;} \n",
       ".c3table tr > th {text-align: left; padding: 0 5px;}\n",
       ".c3table tr > td {text-align: left; padding: 5px;}\n",
       ".c3table tr:nth-child(even) {background: #f7f7f7 !important;}\n",
       ".c3table .ellipsis {background: rgba(0, 0, 0, .01);}\n",
       ".c3table .index {background: rgba(161, 195, 209, 0.0); margin: 10px; font-weight: 600;}\n",
       ".c3table .head_cell {background: rgba(161, 195, 209, 0.75); font-weight: bold; text-align: center;}\n",
       ".c3table caption {color: rgb(250, 250, 250); background: rgba(30, 140, 200, 1); padding: 3px; white-space: nowrap; caption-side: top;}\n",
       ".c3table .cell_title {font-weight: bold;}\n",
       ".c3col_left { text-align: left !important; display: block;}\n",
       ".c3col_right { text-align: right !important; display: block;}\n",
       ".c3col_center { text-align: center !important; display: block;}\n",
       "</style>\n",
       "\n",
       "<table>\n",
       "\n",
       "<caption>\n",
       "<span class=\"cell_title\">not completed records</span>\n",
       "</caption>\n",
       "<thead class=\"head_cell\">\n",
       "<th>type</th><th>origin</th><th>message</th><th>num</th><th>source</th>\n",
       "</thead>\n",
       "<tbody>\n",
       "<tr><td><span class=\"c3col_left\">ERROR</span></td><td><span class=\"c3col_left\">translate_seqs</span></td><td><span class=\"c3col_left\">'AlphabetError: unres...h not divisible by 3'</span></td><td><span class=\"c3col_right\">10</span></td><td><span class=\"c3col_left\">ENSG00000198938.fa, ENSG00000183291.fa, ...</span></td></tr>\n",
       "</tbody>\n",
       "</table>\n",
       "<p>\n",
       "1 rows x 5 columns</p>\n",
       "</div>"
      ],
      "text/plain": [
       "not completed records\n",
       "==============================================================================================================================\n",
       "type     origin            message                                          num    source                                     \n",
       "------------------------------------------------------------------------------------------------------------------------------\n",
       "ERROR    translate_seqs    'AlphabetError: unres...h not divisible by 3'     10    ENSG00000198938.fa, ENSG00000183291.fa, ...\n",
       "------------------------------------------------------------------------------------------------------------------------------\n",
       "\n",
       "1 rows x 5 columns"
      ]
     },
     "execution_count": 18,
     "metadata": {},
     "output_type": "execute_result"
    }
   ],
   "source": [
    "out_dstore.summary_not_completed"
   ]
  },
  {
   "cell_type": "code",
   "execution_count": 19,
   "id": "2cfee460",
   "metadata": {
    "execution": {
     "iopub.execute_input": "2023-12-15T00:04:19.226968Z",
     "iopub.status.busy": "2023-12-15T00:04:19.226900Z",
     "iopub.status.idle": "2023-12-15T00:04:19.228808Z",
     "shell.execute_reply": "2023-12-15T00:04:19.228601Z"
    }
   },
   "outputs": [
    {
     "data": {
      "text/plain": [
       "10"
      ]
     },
     "execution_count": 19,
     "metadata": {},
     "output_type": "execute_result"
    }
   ],
   "source": [
    "len(out_dstore.not_completed)"
   ]
  },
  {
   "cell_type": "code",
   "execution_count": 20,
   "id": "f1815adc",
   "metadata": {
    "execution": {
     "iopub.execute_input": "2023-12-15T00:04:19.229893Z",
     "iopub.status.busy": "2023-12-15T00:04:19.229828Z",
     "iopub.status.idle": "2023-12-15T00:04:19.231648Z",
     "shell.execute_reply": "2023-12-15T00:04:19.231440Z"
    }
   },
   "outputs": [
    {
     "data": {
      "text/plain": [
       "[DataMember(data_store=/Users/gavin/repos/Cogent3/doc/translated.sqlitedb, unique_id=ENSG00000198938),\n",
       " DataMember(data_store=/Users/gavin/repos/Cogent3/doc/translated.sqlitedb, unique_id=ENSG00000183291)]"
      ]
     },
     "execution_count": 20,
     "metadata": {},
     "output_type": "execute_result"
    }
   ],
   "source": [
    "out_dstore.not_completed[:2]"
   ]
  },
  {
   "cell_type": "code",
   "execution_count": 21,
   "id": "fea32d70",
   "metadata": {
    "execution": {
     "iopub.execute_input": "2023-12-15T00:04:19.232741Z",
     "iopub.status.busy": "2023-12-15T00:04:19.232681Z",
     "iopub.status.idle": "2023-12-15T00:04:19.234278Z",
     "shell.execute_reply": "2023-12-15T00:04:19.234041Z"
    }
   },
   "outputs": [],
   "source": [
    "import pathlib\n",
    "\n",
    "fn = pathlib.Path(\"translated.sqlitedb\")\n",
    "fn.unlink()"
   ]
  }
 ],
 "metadata": {
  "kernelspec": {
   "display_name": "Python 3 (ipykernel)",
   "language": "python",
   "name": "python3"
  },
  "language_info": {
   "codemirror_mode": {
    "name": "ipython",
    "version": 3
   },
   "file_extension": ".py",
   "mimetype": "text/x-python",
   "name": "python",
   "nbconvert_exporter": "python",
   "pygments_lexer": "ipython3",
   "version": "3.11.6"
  }
 },
 "nbformat": 4,
 "nbformat_minor": 5
}