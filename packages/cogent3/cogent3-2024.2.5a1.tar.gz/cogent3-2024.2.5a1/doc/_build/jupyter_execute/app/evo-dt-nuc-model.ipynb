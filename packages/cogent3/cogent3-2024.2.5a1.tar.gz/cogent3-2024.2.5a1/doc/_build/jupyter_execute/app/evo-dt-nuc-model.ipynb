{
 "cells": [
  {
   "cell_type": "code",
   "execution_count": 1,
   "id": "7d817890",
   "metadata": {
    "execution": {
     "iopub.execute_input": "2023-12-15T00:04:23.840924Z",
     "iopub.status.busy": "2023-12-15T00:04:23.840644Z",
     "iopub.status.idle": "2023-12-15T00:04:23.852785Z",
     "shell.execute_reply": "2023-12-15T00:04:23.852318Z"
    }
   },
   "outputs": [],
   "source": [
    "import set_working_directory"
   ]
  },
  {
   "cell_type": "code",
   "execution_count": 2,
   "id": "3538c6b3",
   "metadata": {
    "execution": {
     "iopub.execute_input": "2023-12-15T00:04:23.855463Z",
     "iopub.status.busy": "2023-12-15T00:04:23.855266Z",
     "iopub.status.idle": "2023-12-15T00:04:25.855260Z",
     "shell.execute_reply": "2023-12-15T00:04:25.854959Z"
    }
   },
   "outputs": [
    {
     "data": {
      "text/html": [
       "\n",
       "<div class=\"c3table\">\n",
       "\n",
       "<style>\n",
       ".c3table table {margin: 10px 0;}\n",
       ".c3table tr:last-child {border-bottom: 1px solid #000;} \n",
       ".c3table tr > th {text-align: left; padding: 0 5px;}\n",
       ".c3table tr > td {text-align: left; padding: 5px;}\n",
       ".c3table tr:nth-child(even) {background: #f7f7f7 !important;}\n",
       ".c3table .ellipsis {background: rgba(0, 0, 0, .01);}\n",
       ".c3table .index {background: rgba(161, 195, 209, 0.0); margin: 10px; font-weight: 600;}\n",
       ".c3table .head_cell {background: rgba(161, 195, 209, 0.75); font-weight: bold; text-align: center;}\n",
       ".c3table caption {color: rgb(250, 250, 250); background: rgba(30, 140, 200, 1); padding: 3px; white-space: nowrap; caption-side: top;}\n",
       ".c3table .cell_title {font-weight: bold;}\n",
       ".c3col_left { text-align: left !important; display: block;}\n",
       ".c3col_right { text-align: right !important; display: block;}\n",
       ".c3col_center { text-align: center !important; display: block;}\n",
       "</style>\n",
       "\n",
       "<table>\n",
       "\n",
       "<caption>\n",
       "<span class=\"cell_title\">BH</span>\n",
       "</caption>\n",
       "<thead class=\"head_cell\">\n",
       "<th>key</th><th>lnL</th><th>nfp</th><th>DLC</th><th>unique_Q</th>\n",
       "</thead>\n",
       "<tbody>\n",
       "<tr><td><span class=\"c3col_left\">'BH'</span></td><td><span class=\"c3col_right\">-6941.6028</span></td><td><span class=\"c3col_right\">132</span></td><td><span class=\"c3col_left\">True</span></td><td><span class=\"c3col_left\">True</span></td></tr>\n",
       "</tbody>\n",
       "</table>\n",
       "\n",
       "</div>"
      ],
      "text/plain": [
       "BH\n",
       "=============================================\n",
       "key            lnL    nfp    DLC     unique_Q\n",
       "---------------------------------------------\n",
       "'BH'    -6941.6028    132    True    True    \n",
       "---------------------------------------------\n",
       "\n",
       "1 rows x 5 columns"
      ]
     },
     "execution_count": 2,
     "metadata": {},
     "output_type": "execute_result"
    }
   ],
   "source": [
    "from cogent3 import get_app\n",
    "\n",
    "loader = get_app(\"load_aligned\", format=\"fasta\", moltype=\"dna\")\n",
    "aln = loader(\"data/primate_brca1.fasta\")\n",
    "model = get_app(\"model\", \"BH\", tree=\"data/primate_brca1.tree\")\n",
    "result = model(aln)\n",
    "result"
   ]
  },
  {
   "cell_type": "code",
   "execution_count": 3,
   "id": "e4b0c39c",
   "metadata": {
    "execution": {
     "iopub.execute_input": "2023-12-15T00:04:25.856686Z",
     "iopub.status.busy": "2023-12-15T00:04:25.856575Z",
     "iopub.status.idle": "2023-12-15T00:04:25.863337Z",
     "shell.execute_reply": "2023-12-15T00:04:25.863108Z"
    }
   },
   "outputs": [
    {
     "data": {
      "text/html": [
       "<h4>BH</h4>\n",
       "<p>log-likelihood = -6941.6028</p>\n",
       "<p>number of free parameters = 132</p>\n",
       "\n",
       "<div class=\"c3table\">\n",
       "\n",
       "<style>\n",
       ".c3table table {margin: 10px 0;}\n",
       ".c3table tr:last-child {border-bottom: 1px solid #000;} \n",
       ".c3table tr > th {text-align: left; padding: 0 5px;}\n",
       ".c3table tr > td {text-align: left; padding: 5px;}\n",
       ".c3table tr:nth-child(even) {background: #f7f7f7 !important;}\n",
       ".c3table .ellipsis {background: rgba(0, 0, 0, .01);}\n",
       ".c3table .index {background: rgba(161, 195, 209, 0.0); margin: 10px; font-weight: 600;}\n",
       ".c3table .head_cell {background: rgba(161, 195, 209, 0.75); font-weight: bold; text-align: center;}\n",
       ".c3table caption {color: rgb(250, 250, 250); background: rgba(30, 140, 200, 1); padding: 3px; white-space: nowrap; caption-side: top;}\n",
       ".c3table .cell_title {font-weight: bold;}\n",
       ".c3col_left { text-align: left !important; display: block;}\n",
       ".c3col_right { text-align: right !important; display: block;}\n",
       ".c3col_center { text-align: center !important; display: block;}\n",
       "</style>\n",
       "\n",
       "<table>\n",
       "\n",
       "<caption>\n",
       "<span class=\"cell_title\">Edge motif motif2 params</span>\n",
       "</caption>\n",
       "<thead class=\"head_cell\">\n",
       "<th>edge</th><th>motif</th><th>motif2</th><th>psubs</th>\n",
       "</thead>\n",
       "<tbody>\n",
       "<tr><td><span class=\"c3col_left\">Galago</span></td><td><span class=\"c3col_left\">T</span></td><td><span class=\"c3col_left\">T</span></td><td><span class=\"c3col_right\">0.8750</span></td></tr>\n",
       "<tr><td><span class=\"c3col_left\">Galago</span></td><td><span class=\"c3col_left\">T</span></td><td><span class=\"c3col_left\">C</span></td><td><span class=\"c3col_right\">0.0649</span></td></tr>\n",
       "<tr><td><span class=\"c3col_left\">Galago</span></td><td><span class=\"c3col_left\">T</span></td><td><span class=\"c3col_left\">A</span></td><td><span class=\"c3col_right\">0.0409</span></td></tr>\n",
       "<tr><td><span class=\"c3col_left\">Galago</span></td><td><span class=\"c3col_left\">T</span></td><td><span class=\"c3col_left\">G</span></td><td><span class=\"c3col_right\">0.0192</span></td></tr>\n",
       "<tr><td><span class=\"c3col_left\">Galago</span></td><td><span class=\"c3col_left\">C</span></td><td><span class=\"c3col_left\">T</span></td><td><span class=\"c3col_right\">0.1125</span></td></tr>\n",
       "<tr class=\"ellipsis\"><td><span class=\"c3col_left\">...</span></td><td><span class=\"c3col_left\">...</span></td><td><span class=\"c3col_left\">...</span></td><td><span class=\"c3col_right\">...</span></td></tr>\n",
       "<tr><td><span class=\"c3col_left\">edge.3</span></td><td><span class=\"c3col_left\">A</span></td><td><span class=\"c3col_left\">G</span></td><td><span class=\"c3col_right\">0.0053</span></td></tr>\n",
       "<tr><td><span class=\"c3col_left\">edge.3</span></td><td><span class=\"c3col_left\">G</span></td><td><span class=\"c3col_left\">T</span></td><td><span class=\"c3col_right\">0.0000</span></td></tr>\n",
       "<tr><td><span class=\"c3col_left\">edge.3</span></td><td><span class=\"c3col_left\">G</span></td><td><span class=\"c3col_left\">C</span></td><td><span class=\"c3col_right\">0.0011</span></td></tr>\n",
       "<tr><td><span class=\"c3col_left\">edge.3</span></td><td><span class=\"c3col_left\">G</span></td><td><span class=\"c3col_left\">A</span></td><td><span class=\"c3col_right\">0.0041</span></td></tr>\n",
       "<tr><td><span class=\"c3col_left\">edge.3</span></td><td><span class=\"c3col_left\">G</span></td><td><span class=\"c3col_left\">G</span></td><td><span class=\"c3col_right\">0.9948</span></td></tr>\n",
       "</tbody>\n",
       "</table>\n",
       "\n",
       "</div>\n",
       "\n",
       "<div class=\"c3table\">\n",
       "\n",
       "<style>\n",
       ".c3table table {margin: 10px 0;}\n",
       ".c3table tr:last-child {border-bottom: 1px solid #000;} \n",
       ".c3table tr > th {text-align: left; padding: 0 5px;}\n",
       ".c3table tr > td {text-align: left; padding: 5px;}\n",
       ".c3table tr:nth-child(even) {background: #f7f7f7 !important;}\n",
       ".c3table .ellipsis {background: rgba(0, 0, 0, .01);}\n",
       ".c3table .index {background: rgba(161, 195, 209, 0.0); margin: 10px; font-weight: 600;}\n",
       ".c3table .head_cell {background: rgba(161, 195, 209, 0.75); font-weight: bold; text-align: center;}\n",
       ".c3table caption {color: rgb(250, 250, 250); background: rgba(30, 140, 200, 1); padding: 3px; white-space: nowrap; caption-side: top;}\n",
       ".c3table .cell_title {font-weight: bold;}\n",
       ".c3col_left { text-align: left !important; display: block;}\n",
       ".c3col_right { text-align: right !important; display: block;}\n",
       ".c3col_center { text-align: center !important; display: block;}\n",
       "</style>\n",
       "\n",
       "<table>\n",
       "\n",
       "<caption>\n",
       "<span class=\"cell_title\">Motif params</span>\n",
       "</caption>\n",
       "<thead class=\"head_cell\">\n",
       "<th>A</th><th>C</th><th>G</th><th>T</th>\n",
       "</thead>\n",
       "<tbody>\n",
       "<tr><td><span class=\"c3col_right\">0.3757</span></td><td><span class=\"c3col_right\">0.1742</span></td><td><span class=\"c3col_right\">0.2095</span></td><td><span class=\"c3col_right\">0.2406</span></td></tr>\n",
       "</tbody>\n",
       "</table>\n",
       "\n",
       "</div>"
      ],
      "text/plain": [
       "BH\n",
       "log-likelihood = -6941.6028\n",
       "number of free parameters = 132\n",
       "=======================================\n",
       "edge          motif    motif2     psubs\n",
       "---------------------------------------\n",
       "Galago        T        T         0.8750\n",
       "Galago        T        C         0.0649\n",
       "Galago        T        A         0.0409\n",
       "Galago        T        G         0.0192\n",
       "Galago        C        T         0.1125\n",
       "Galago        C        C         0.8058\n",
       "Galago        C        A         0.0404\n",
       "Galago        C        G         0.0413\n",
       "Galago        A        T         0.0255\n",
       "Galago        A        C         0.0255\n",
       "Galago        A        A         0.8879\n",
       "Galago        A        G         0.0611\n",
       "Galago        G        T         0.0207\n",
       "Galago        G        C         0.0194\n",
       "Galago        G        A         0.1684\n",
       "Galago        G        G         0.7915\n",
       "HowlerMon     T        T         0.9688\n",
       "HowlerMon     T        C         0.0241\n",
       "HowlerMon     T        A         0.0041\n",
       "HowlerMon     T        G         0.0030\n",
       "HowlerMon     C        T         0.0374\n",
       "HowlerMon     C        C         0.9407\n",
       "HowlerMon     C        A         0.0069\n",
       "HowlerMon     C        G         0.0150\n",
       "HowlerMon     A        T         0.0038\n",
       "HowlerMon     A        C         0.0038\n",
       "HowlerMon     A        A         0.9591\n",
       "HowlerMon     A        G         0.0333\n",
       "HowlerMon     G        T         0.0031\n",
       "HowlerMon     G        C         0.0068\n",
       "HowlerMon     G        A         0.0406\n",
       "HowlerMon     G        G         0.9494\n",
       "Rhesus        T        T         0.9879\n",
       "Rhesus        T        C         0.0078\n",
       "Rhesus        T        A         0.0015\n",
       "Rhesus        T        G         0.0028\n",
       "Rhesus        C        T         0.0187\n",
       "Rhesus        C        C         0.9710\n",
       "Rhesus        C        A         0.0040\n",
       "Rhesus        C        G         0.0063\n",
       "Rhesus        A        T         0.0019\n",
       "Rhesus        A        C         0.0009\n",
       "Rhesus        A        A         0.9850\n",
       "Rhesus        A        G         0.0122\n",
       "Rhesus        G        T         0.0017\n",
       "Rhesus        G        C         0.0068\n",
       "Rhesus        G        A         0.0295\n",
       "Rhesus        G        G         0.9620\n",
       "Orangutan     T        T         0.9911\n",
       "Orangutan     T        C         0.0059\n",
       "Orangutan     T        A         0.0000\n",
       "Orangutan     T        G         0.0030\n",
       "Orangutan     C        T         0.0082\n",
       "Orangutan     C        C         0.9898\n",
       "Orangutan     C        A         0.0000\n",
       "Orangutan     C        G         0.0020\n",
       "Orangutan     A        T         0.0009\n",
       "Orangutan     A        C         0.0000\n",
       "Orangutan     A        A         0.9952\n",
       "Orangutan     A        G         0.0038\n",
       "Orangutan     G        T         0.0000\n",
       "Orangutan     G        C         0.0017\n",
       "Orangutan     G        A         0.0073\n",
       "Orangutan     G        G         0.9910\n",
       "Gorilla       T        T         1.0000\n",
       "Gorilla       T        C         0.0000\n",
       "Gorilla       T        A         0.0000\n",
       "Gorilla       T        G         0.0000\n",
       "Gorilla       C        T         0.0000\n",
       "Gorilla       C        C         0.9980\n",
       "Gorilla       C        A         0.0020\n",
       "Gorilla       C        G         0.0000\n",
       "Gorilla       A        T         0.0000\n",
       "Gorilla       A        C         0.0010\n",
       "Gorilla       A        A         0.9962\n",
       "Gorilla       A        G         0.0029\n",
       "Gorilla       G        T         0.0000\n",
       "Gorilla       G        C         0.0000\n",
       "Gorilla       G        A         0.0033\n",
       "Gorilla       G        G         0.9967\n",
       "Human         T        T         0.9941\n",
       "Human         T        C         0.0030\n",
       "Human         T        A         0.0015\n",
       "Human         T        G         0.0015\n",
       "Human         C        T         0.0041\n",
       "Human         C        C         0.9918\n",
       "Human         C        A         0.0020\n",
       "Human         C        G         0.0020\n",
       "Human         A        T         0.0000\n",
       "Human         A        C         0.0000\n",
       "Human         A        A         0.9971\n",
       "Human         A        G         0.0029\n",
       "Human         G        T         0.0000\n",
       "Human         G        C         0.0017\n",
       "Human         G        A         0.0083\n",
       "Human         G        G         0.9900\n",
       "Chimpanzee    T        T         0.9956\n",
       "Chimpanzee    T        C         0.0044\n",
       "Chimpanzee    T        A         0.0000\n",
       "Chimpanzee    T        G         0.0000\n",
       "Chimpanzee    C        T         0.0020\n",
       "Chimpanzee    C        C         0.9959\n",
       "Chimpanzee    C        A         0.0000\n",
       "Chimpanzee    C        G         0.0020\n",
       "Chimpanzee    A        T         0.0000\n",
       "Chimpanzee    A        C         0.0000\n",
       "Chimpanzee    A        A         0.9990\n",
       "Chimpanzee    A        G         0.0010\n",
       "Chimpanzee    G        T         0.0000\n",
       "Chimpanzee    G        C         0.0017\n",
       "Chimpanzee    G        A         0.0017\n",
       "Chimpanzee    G        G         0.9967\n",
       "edge.0        T        T         1.0000\n",
       "edge.0        T        C         0.0000\n",
       "edge.0        T        A         0.0000\n",
       "edge.0        T        G         0.0000\n",
       "edge.0        C        T         0.0000\n",
       "edge.0        C        C         1.0000\n",
       "edge.0        C        A         0.0000\n",
       "edge.0        C        G         0.0000\n",
       "edge.0        A        T         0.0000\n",
       "edge.0        A        C         0.0000\n",
       "edge.0        A        A         1.0000\n",
       "edge.0        A        G         0.0000\n",
       "edge.0        G        T         0.0000\n",
       "edge.0        G        C         0.0000\n",
       "edge.0        G        A         0.0000\n",
       "edge.0        G        G         1.0000\n",
       "edge.1        T        T         1.0000\n",
       "edge.1        T        C         0.0000\n",
       "edge.1        T        A         0.0000\n",
       "edge.1        T        G         0.0000\n",
       "edge.1        C        T         0.0082\n",
       "edge.1        C        C         0.9918\n",
       "edge.1        C        A         0.0000\n",
       "edge.1        C        G         0.0000\n",
       "edge.1        A        T         0.0000\n",
       "edge.1        A        C         0.0000\n",
       "edge.1        A        A         0.9946\n",
       "edge.1        A        G         0.0054\n",
       "edge.1        G        T         0.0000\n",
       "edge.1        G        C         0.0000\n",
       "edge.1        G        A         0.0000\n",
       "edge.1        G        G         1.0000\n",
       "edge.2        T        T         0.9868\n",
       "edge.2        T        C         0.0073\n",
       "edge.2        T        A         0.0025\n",
       "edge.2        T        G         0.0034\n",
       "edge.2        C        T         0.0121\n",
       "edge.2        C        C         0.9797\n",
       "edge.2        C        A         0.0041\n",
       "edge.2        C        G         0.0041\n",
       "edge.2        A        T         0.0009\n",
       "edge.2        A        C         0.0009\n",
       "edge.2        A        A         0.9916\n",
       "edge.2        A        G         0.0065\n",
       "edge.2        G        T         0.0000\n",
       "edge.2        G        C         0.0017\n",
       "edge.2        G        A         0.0057\n",
       "edge.2        G        G         0.9926\n",
       "edge.3        T        T         0.9913\n",
       "edge.3        T        C         0.0043\n",
       "edge.3        T        A         0.0000\n",
       "edge.3        T        G         0.0045\n",
       "edge.3        C        T         0.0023\n",
       "edge.3        C        C         0.9933\n",
       "edge.3        C        A         0.0019\n",
       "edge.3        C        G         0.0025\n",
       "edge.3        A        T         0.0018\n",
       "edge.3        A        C         0.0009\n",
       "edge.3        A        A         0.9920\n",
       "edge.3        A        G         0.0053\n",
       "edge.3        G        T         0.0000\n",
       "edge.3        G        C         0.0011\n",
       "edge.3        G        A         0.0041\n",
       "edge.3        G        G         0.9948\n",
       "---------------------------------------\n",
       "====================================\n",
       "     A         C         G         T\n",
       "------------------------------------\n",
       "0.3757    0.1742    0.2095    0.2406\n",
       "------------------------------------"
      ]
     },
     "execution_count": 3,
     "metadata": {},
     "output_type": "execute_result"
    }
   ],
   "source": [
    "result.lf"
   ]
  },
  {
   "cell_type": "code",
   "execution_count": 4,
   "id": "be019d67",
   "metadata": {
    "execution": {
     "iopub.execute_input": "2023-12-15T00:04:25.864502Z",
     "iopub.status.busy": "2023-12-15T00:04:25.864429Z",
     "iopub.status.idle": "2023-12-15T00:04:25.966588Z",
     "shell.execute_reply": "2023-12-15T00:04:25.966362Z"
    }
   },
   "outputs": [
    {
     "data": {
      "text/html": [
       "<script type=\"text/javascript\">\n",
       "window.PlotlyConfig = {MathJaxConfig: 'local'};\n",
       "if (window.MathJax && window.MathJax.Hub && window.MathJax.Hub.Config) {window.MathJax.Hub.Config({SVG: {font: \"STIX-Web\"}});}\n",
       "if (typeof require !== 'undefined') {\n",
       "require.undef(\"plotly\");\n",
       "requirejs.config({\n",
       "    paths: {\n",
       "        'plotly': ['https://cdn.plot.ly/plotly-2.20.0.min']\n",
       "    }\n",
       "});\n",
       "require(['plotly'], function(Plotly) {\n",
       "    window._Plotly = Plotly;\n",
       "});\n",
       "}\n",
       "</script>\n"
      ]
     },
     "metadata": {},
     "output_type": "display_data"
    },
    {
     "data": {
      "application/vnd.plotly.v1+json": {
       "config": {
        "plotlyServerURL": "https://plot.ly"
       },
       "data": [
        {
         "line": {
          "color": "black",
          "shape": "spline",
          "smoothing": 1.3,
          "width": 1.25
         },
         "mode": "lines",
         "showlegend": false,
         "type": "scatter",
         "x": [
          null,
          null,
          0,
          0,
          null,
          0,
          0.031233751290142386,
          null,
          0.031233751290142386,
          0.031233751290142386,
          null,
          0.031233751290142386,
          0.08135190944509052,
          null,
          0.08135190944509052,
          0.08135190944509052,
          null,
          0.08135190944509052,
          0.09580502172713068,
          null,
          0.09580502172713068,
          0.09580502172713068,
          null,
          0.09580502172713068,
          0.09581388784322797,
          null,
          0.09581388784322797,
          0.09581388784322797,
          null,
          0.09581388784322797,
          0.10924890725000536,
          null,
          0.09581388784322797,
          0.09581388784322797,
          null,
          0.09581388784322797,
          0.12147985955419571,
          null,
          0.09580502172713068,
          0.09580502172713068,
          null,
          0.09580502172713068,
          0.10535953670048404,
          null,
          0.08135190944509052,
          0.08135190944509052,
          null,
          0.08135190944509052,
          0.114735458809748,
          null,
          0.031233751290142386,
          0.031233751290142386,
          null,
          0.031233751290142386,
          0.12438749439431485,
          null,
          0,
          0,
          null,
          0,
          0.19271120367364114,
          null,
          0,
          0,
          null,
          0,
          0.716263832089314,
          null
         ],
         "y": [
          null,
          null,
          -2.6,
          -0.08125000000000004,
          null,
          -0.08125000000000004,
          -0.08125000000000004,
          null,
          -0.08125000000000004,
          1.1375,
          null,
          1.1375,
          1.1375,
          null,
          1.1375,
          2.275,
          null,
          2.275,
          2.275,
          null,
          2.275,
          3.25,
          null,
          3.25,
          3.25,
          null,
          3.25,
          3.9000000000000004,
          null,
          3.9000000000000004,
          3.9000000000000004,
          null,
          3.25,
          2.6,
          null,
          2.6,
          2.6,
          null,
          2.275,
          1.3,
          null,
          1.3,
          1.3,
          null,
          1.1375,
          0.0,
          null,
          0.0,
          0.0,
          null,
          -0.08125000000000004,
          -1.3,
          null,
          -1.3,
          -1.3,
          null,
          -2.6,
          -2.6,
          null,
          -2.6,
          -2.6,
          null,
          -2.6,
          -3.9000000000000004,
          null,
          -3.9000000000000004,
          -3.9000000000000004,
          null
         ]
        },
        {
         "hoverinfo": "text",
         "marker": {
          "color": "black",
          "size": 3,
          "symbol": "circle"
         },
         "mode": "markers",
         "showlegend": false,
         "text": [
          "root",
          "edge.3",
          "edge.2",
          "edge.1",
          "edge.0",
          "Chimpanzee",
          "Human",
          "Gorilla",
          "Orangutan",
          "Rhesus",
          "HowlerMon",
          "Galago"
         ],
         "type": "scatter",
         "x": [
          0,
          0.031233751290142386,
          0.08135190944509052,
          0.09580502172713068,
          0.09581388784322797,
          0.10924890725000536,
          0.12147985955419571,
          0.10535953670048404,
          0.114735458809748,
          0.12438749439431485,
          0.19271120367364114,
          0.716263832089314
         ],
         "y": [
          -2.6,
          -0.08125000000000004,
          1.1375,
          2.275,
          3.25,
          3.9000000000000004,
          2.6,
          1.3,
          0.0,
          -1.3,
          -2.6,
          -3.9000000000000004
         ]
        }
       ],
       "layout": {
        "annotations": [
         {
          "font": {
           "family": "Inconsolata, monospace",
           "size": 12
          },
          "showarrow": false,
          "text": "Chimpanzee",
          "textangle": 0,
          "x": 0.12715550305223822,
          "xanchor": "left",
          "xref": "x",
          "y": 3.9000000000000004,
          "yref": "y"
         },
         {
          "font": {
           "family": "Inconsolata, monospace",
           "size": 12
          },
          "showarrow": false,
          "text": "Human",
          "textangle": 0,
          "x": 0.13938645535642857,
          "xanchor": "left",
          "xref": "x",
          "y": 2.6,
          "yref": "y"
         },
         {
          "font": {
           "family": "Inconsolata, monospace",
           "size": 12
          },
          "showarrow": false,
          "text": "Gorilla",
          "textangle": 0,
          "x": 0.12326613250271688,
          "xanchor": "left",
          "xref": "x",
          "y": 1.3,
          "yref": "y"
         },
         {
          "font": {
           "family": "Inconsolata, monospace",
           "size": 12
          },
          "showarrow": false,
          "text": "Orangutan",
          "textangle": 0,
          "x": 0.13264205461198086,
          "xanchor": "left",
          "xref": "x",
          "y": 0.0,
          "yref": "y"
         },
         {
          "font": {
           "family": "Inconsolata, monospace",
           "size": 12
          },
          "showarrow": false,
          "text": "Rhesus",
          "textangle": 0,
          "x": 0.1422940901965477,
          "xanchor": "left",
          "xref": "x",
          "y": -1.3,
          "yref": "y"
         },
         {
          "font": {
           "family": "Inconsolata, monospace",
           "size": 12
          },
          "showarrow": false,
          "text": "HowlerMon",
          "textangle": 0,
          "x": 0.210617799475874,
          "xanchor": "left",
          "xref": "x",
          "y": -2.6,
          "yref": "y"
         },
         {
          "font": {
           "family": "Inconsolata, monospace",
           "size": 12
          },
          "showarrow": false,
          "text": "Galago",
          "textangle": 0,
          "x": 0.7341704278915469,
          "xanchor": "left",
          "xref": "x",
          "y": -3.9000000000000004,
          "yref": "y"
         },
         {
          "ax": 0,
          "ay": 0,
          "showarrow": false,
          "text": "0.07",
          "x": 0.7520770236937797,
          "xref": "x",
          "y": 4.609090909090909,
          "yref": "y",
          "yshift": 10
         }
        ],
        "autosize": true,
        "font": {
         "family": "Balto",
         "size": 14
        },
        "height": 500,
        "hovermode": "closest",
        "margin": {
         "b": 50,
         "l": 50,
         "pad": 4,
         "r": 50,
         "t": 50
        },
        "shapes": [
         {
          "line": {
           "color": "black",
           "width": 1.25
          },
          "name": "scale_bar",
          "type": "line",
          "x0": 0.716263832089314,
          "x1": 0.7878902152982454,
          "y0": 4.609090909090909,
          "y1": 4.609090909090909
         }
        ],
        "showlegend": false,
        "template": {
         "data": {
          "bar": [
           {
            "error_x": {
             "color": "#2a3f5f"
            },
            "error_y": {
             "color": "#2a3f5f"
            },
            "marker": {
             "line": {
              "color": "#E5ECF6",
              "width": 0.5
             },
             "pattern": {
              "fillmode": "overlay",
              "size": 10,
              "solidity": 0.2
             }
            },
            "type": "bar"
           }
          ],
          "barpolar": [
           {
            "marker": {
             "line": {
              "color": "#E5ECF6",
              "width": 0.5
             },
             "pattern": {
              "fillmode": "overlay",
              "size": 10,
              "solidity": 0.2
             }
            },
            "type": "barpolar"
           }
          ],
          "carpet": [
           {
            "aaxis": {
             "endlinecolor": "#2a3f5f",
             "gridcolor": "white",
             "linecolor": "white",
             "minorgridcolor": "white",
             "startlinecolor": "#2a3f5f"
            },
            "baxis": {
             "endlinecolor": "#2a3f5f",
             "gridcolor": "white",
             "linecolor": "white",
             "minorgridcolor": "white",
             "startlinecolor": "#2a3f5f"
            },
            "type": "carpet"
           }
          ],
          "choropleth": [
           {
            "colorbar": {
             "outlinewidth": 0,
             "ticks": ""
            },
            "type": "choropleth"
           }
          ],
          "contour": [
           {
            "colorbar": {
             "outlinewidth": 0,
             "ticks": ""
            },
            "colorscale": [
             [
              0.0,
              "#0d0887"
             ],
             [
              0.1111111111111111,
              "#46039f"
             ],
             [
              0.2222222222222222,
              "#7201a8"
             ],
             [
              0.3333333333333333,
              "#9c179e"
             ],
             [
              0.4444444444444444,
              "#bd3786"
             ],
             [
              0.5555555555555556,
              "#d8576b"
             ],
             [
              0.6666666666666666,
              "#ed7953"
             ],
             [
              0.7777777777777778,
              "#fb9f3a"
             ],
             [
              0.8888888888888888,
              "#fdca26"
             ],
             [
              1.0,
              "#f0f921"
             ]
            ],
            "type": "contour"
           }
          ],
          "contourcarpet": [
           {
            "colorbar": {
             "outlinewidth": 0,
             "ticks": ""
            },
            "type": "contourcarpet"
           }
          ],
          "heatmap": [
           {
            "colorbar": {
             "outlinewidth": 0,
             "ticks": ""
            },
            "colorscale": [
             [
              0.0,
              "#0d0887"
             ],
             [
              0.1111111111111111,
              "#46039f"
             ],
             [
              0.2222222222222222,
              "#7201a8"
             ],
             [
              0.3333333333333333,
              "#9c179e"
             ],
             [
              0.4444444444444444,
              "#bd3786"
             ],
             [
              0.5555555555555556,
              "#d8576b"
             ],
             [
              0.6666666666666666,
              "#ed7953"
             ],
             [
              0.7777777777777778,
              "#fb9f3a"
             ],
             [
              0.8888888888888888,
              "#fdca26"
             ],
             [
              1.0,
              "#f0f921"
             ]
            ],
            "type": "heatmap"
           }
          ],
          "heatmapgl": [
           {
            "colorbar": {
             "outlinewidth": 0,
             "ticks": ""
            },
            "colorscale": [
             [
              0.0,
              "#0d0887"
             ],
             [
              0.1111111111111111,
              "#46039f"
             ],
             [
              0.2222222222222222,
              "#7201a8"
             ],
             [
              0.3333333333333333,
              "#9c179e"
             ],
             [
              0.4444444444444444,
              "#bd3786"
             ],
             [
              0.5555555555555556,
              "#d8576b"
             ],
             [
              0.6666666666666666,
              "#ed7953"
             ],
             [
              0.7777777777777778,
              "#fb9f3a"
             ],
             [
              0.8888888888888888,
              "#fdca26"
             ],
             [
              1.0,
              "#f0f921"
             ]
            ],
            "type": "heatmapgl"
           }
          ],
          "histogram": [
           {
            "marker": {
             "pattern": {
              "fillmode": "overlay",
              "size": 10,
              "solidity": 0.2
             }
            },
            "type": "histogram"
           }
          ],
          "histogram2d": [
           {
            "colorbar": {
             "outlinewidth": 0,
             "ticks": ""
            },
            "colorscale": [
             [
              0.0,
              "#0d0887"
             ],
             [
              0.1111111111111111,
              "#46039f"
             ],
             [
              0.2222222222222222,
              "#7201a8"
             ],
             [
              0.3333333333333333,
              "#9c179e"
             ],
             [
              0.4444444444444444,
              "#bd3786"
             ],
             [
              0.5555555555555556,
              "#d8576b"
             ],
             [
              0.6666666666666666,
              "#ed7953"
             ],
             [
              0.7777777777777778,
              "#fb9f3a"
             ],
             [
              0.8888888888888888,
              "#fdca26"
             ],
             [
              1.0,
              "#f0f921"
             ]
            ],
            "type": "histogram2d"
           }
          ],
          "histogram2dcontour": [
           {
            "colorbar": {
             "outlinewidth": 0,
             "ticks": ""
            },
            "colorscale": [
             [
              0.0,
              "#0d0887"
             ],
             [
              0.1111111111111111,
              "#46039f"
             ],
             [
              0.2222222222222222,
              "#7201a8"
             ],
             [
              0.3333333333333333,
              "#9c179e"
             ],
             [
              0.4444444444444444,
              "#bd3786"
             ],
             [
              0.5555555555555556,
              "#d8576b"
             ],
             [
              0.6666666666666666,
              "#ed7953"
             ],
             [
              0.7777777777777778,
              "#fb9f3a"
             ],
             [
              0.8888888888888888,
              "#fdca26"
             ],
             [
              1.0,
              "#f0f921"
             ]
            ],
            "type": "histogram2dcontour"
           }
          ],
          "mesh3d": [
           {
            "colorbar": {
             "outlinewidth": 0,
             "ticks": ""
            },
            "type": "mesh3d"
           }
          ],
          "parcoords": [
           {
            "line": {
             "colorbar": {
              "outlinewidth": 0,
              "ticks": ""
             }
            },
            "type": "parcoords"
           }
          ],
          "pie": [
           {
            "automargin": true,
            "type": "pie"
           }
          ],
          "scatter": [
           {
            "fillpattern": {
             "fillmode": "overlay",
             "size": 10,
             "solidity": 0.2
            },
            "type": "scatter"
           }
          ],
          "scatter3d": [
           {
            "line": {
             "colorbar": {
              "outlinewidth": 0,
              "ticks": ""
             }
            },
            "marker": {
             "colorbar": {
              "outlinewidth": 0,
              "ticks": ""
             }
            },
            "type": "scatter3d"
           }
          ],
          "scattercarpet": [
           {
            "marker": {
             "colorbar": {
              "outlinewidth": 0,
              "ticks": ""
             }
            },
            "type": "scattercarpet"
           }
          ],
          "scattergeo": [
           {
            "marker": {
             "colorbar": {
              "outlinewidth": 0,
              "ticks": ""
             }
            },
            "type": "scattergeo"
           }
          ],
          "scattergl": [
           {
            "marker": {
             "colorbar": {
              "outlinewidth": 0,
              "ticks": ""
             }
            },
            "type": "scattergl"
           }
          ],
          "scattermapbox": [
           {
            "marker": {
             "colorbar": {
              "outlinewidth": 0,
              "ticks": ""
             }
            },
            "type": "scattermapbox"
           }
          ],
          "scatterpolar": [
           {
            "marker": {
             "colorbar": {
              "outlinewidth": 0,
              "ticks": ""
             }
            },
            "type": "scatterpolar"
           }
          ],
          "scatterpolargl": [
           {
            "marker": {
             "colorbar": {
              "outlinewidth": 0,
              "ticks": ""
             }
            },
            "type": "scatterpolargl"
           }
          ],
          "scatterternary": [
           {
            "marker": {
             "colorbar": {
              "outlinewidth": 0,
              "ticks": ""
             }
            },
            "type": "scatterternary"
           }
          ],
          "surface": [
           {
            "colorbar": {
             "outlinewidth": 0,
             "ticks": ""
            },
            "colorscale": [
             [
              0.0,
              "#0d0887"
             ],
             [
              0.1111111111111111,
              "#46039f"
             ],
             [
              0.2222222222222222,
              "#7201a8"
             ],
             [
              0.3333333333333333,
              "#9c179e"
             ],
             [
              0.4444444444444444,
              "#bd3786"
             ],
             [
              0.5555555555555556,
              "#d8576b"
             ],
             [
              0.6666666666666666,
              "#ed7953"
             ],
             [
              0.7777777777777778,
              "#fb9f3a"
             ],
             [
              0.8888888888888888,
              "#fdca26"
             ],
             [
              1.0,
              "#f0f921"
             ]
            ],
            "type": "surface"
           }
          ],
          "table": [
           {
            "cells": {
             "fill": {
              "color": "#EBF0F8"
             },
             "line": {
              "color": "white"
             }
            },
            "header": {
             "fill": {
              "color": "#C8D4E3"
             },
             "line": {
              "color": "white"
             }
            },
            "type": "table"
           }
          ]
         },
         "layout": {
          "annotationdefaults": {
           "arrowcolor": "#2a3f5f",
           "arrowhead": 0,
           "arrowwidth": 1
          },
          "autotypenumbers": "strict",
          "coloraxis": {
           "colorbar": {
            "outlinewidth": 0,
            "ticks": ""
           }
          },
          "colorscale": {
           "diverging": [
            [
             0,
             "#8e0152"
            ],
            [
             0.1,
             "#c51b7d"
            ],
            [
             0.2,
             "#de77ae"
            ],
            [
             0.3,
             "#f1b6da"
            ],
            [
             0.4,
             "#fde0ef"
            ],
            [
             0.5,
             "#f7f7f7"
            ],
            [
             0.6,
             "#e6f5d0"
            ],
            [
             0.7,
             "#b8e186"
            ],
            [
             0.8,
             "#7fbc41"
            ],
            [
             0.9,
             "#4d9221"
            ],
            [
             1,
             "#276419"
            ]
           ],
           "sequential": [
            [
             0.0,
             "#0d0887"
            ],
            [
             0.1111111111111111,
             "#46039f"
            ],
            [
             0.2222222222222222,
             "#7201a8"
            ],
            [
             0.3333333333333333,
             "#9c179e"
            ],
            [
             0.4444444444444444,
             "#bd3786"
            ],
            [
             0.5555555555555556,
             "#d8576b"
            ],
            [
             0.6666666666666666,
             "#ed7953"
            ],
            [
             0.7777777777777778,
             "#fb9f3a"
            ],
            [
             0.8888888888888888,
             "#fdca26"
            ],
            [
             1.0,
             "#f0f921"
            ]
           ],
           "sequentialminus": [
            [
             0.0,
             "#0d0887"
            ],
            [
             0.1111111111111111,
             "#46039f"
            ],
            [
             0.2222222222222222,
             "#7201a8"
            ],
            [
             0.3333333333333333,
             "#9c179e"
            ],
            [
             0.4444444444444444,
             "#bd3786"
            ],
            [
             0.5555555555555556,
             "#d8576b"
            ],
            [
             0.6666666666666666,
             "#ed7953"
            ],
            [
             0.7777777777777778,
             "#fb9f3a"
            ],
            [
             0.8888888888888888,
             "#fdca26"
            ],
            [
             1.0,
             "#f0f921"
            ]
           ]
          },
          "colorway": [
           "#636efa",
           "#EF553B",
           "#00cc96",
           "#ab63fa",
           "#FFA15A",
           "#19d3f3",
           "#FF6692",
           "#B6E880",
           "#FF97FF",
           "#FECB52"
          ],
          "font": {
           "color": "#2a3f5f"
          },
          "geo": {
           "bgcolor": "white",
           "lakecolor": "white",
           "landcolor": "#E5ECF6",
           "showlakes": true,
           "showland": true,
           "subunitcolor": "white"
          },
          "hoverlabel": {
           "align": "left"
          },
          "hovermode": "closest",
          "mapbox": {
           "style": "light"
          },
          "paper_bgcolor": "white",
          "plot_bgcolor": "#E5ECF6",
          "polar": {
           "angularaxis": {
            "gridcolor": "white",
            "linecolor": "white",
            "ticks": ""
           },
           "bgcolor": "#E5ECF6",
           "radialaxis": {
            "gridcolor": "white",
            "linecolor": "white",
            "ticks": ""
           }
          },
          "scene": {
           "xaxis": {
            "backgroundcolor": "#E5ECF6",
            "gridcolor": "white",
            "gridwidth": 2,
            "linecolor": "white",
            "showbackground": true,
            "ticks": "",
            "zerolinecolor": "white"
           },
           "yaxis": {
            "backgroundcolor": "#E5ECF6",
            "gridcolor": "white",
            "gridwidth": 2,
            "linecolor": "white",
            "showbackground": true,
            "ticks": "",
            "zerolinecolor": "white"
           },
           "zaxis": {
            "backgroundcolor": "#E5ECF6",
            "gridcolor": "white",
            "gridwidth": 2,
            "linecolor": "white",
            "showbackground": true,
            "ticks": "",
            "zerolinecolor": "white"
           }
          },
          "shapedefaults": {
           "line": {
            "color": "#2a3f5f"
           }
          },
          "ternary": {
           "aaxis": {
            "gridcolor": "white",
            "linecolor": "white",
            "ticks": ""
           },
           "baxis": {
            "gridcolor": "white",
            "linecolor": "white",
            "ticks": ""
           },
           "bgcolor": "#E5ECF6",
           "caxis": {
            "gridcolor": "white",
            "linecolor": "white",
            "ticks": ""
           }
          },
          "title": {
           "x": 0.05
          },
          "xaxis": {
           "automargin": true,
           "gridcolor": "white",
           "linecolor": "white",
           "ticks": "",
           "title": {
            "standoff": 15
           },
           "zerolinecolor": "white",
           "zerolinewidth": 2
          },
          "yaxis": {
           "automargin": true,
           "gridcolor": "white",
           "linecolor": "white",
           "ticks": "",
           "title": {
            "standoff": 15
           },
           "zerolinecolor": "white",
           "zerolinewidth": 2
          }
         }
        },
        "width": 500,
        "xaxis": {
         "visible": false
        },
        "yaxis": {
         "visible": false
        }
       }
      },
      "text/html": [
       "<div>                            <div id=\"f819ce6c-c821-4ce7-8608-68fed91ce04a\" class=\"plotly-graph-div\" style=\"height:500px; width:500px;\"></div>            <script type=\"text/javascript\">                require([\"plotly\"], function(Plotly) {                    window.PLOTLYENV=window.PLOTLYENV || {};                                    if (document.getElementById(\"f819ce6c-c821-4ce7-8608-68fed91ce04a\")) {                    Plotly.newPlot(                        \"f819ce6c-c821-4ce7-8608-68fed91ce04a\",                        [{\"line\":{\"color\":\"black\",\"shape\":\"spline\",\"smoothing\":1.3,\"width\":1.25},\"mode\":\"lines\",\"showlegend\":false,\"x\":[null,null,0,0,null,0,0.031233751290142386,null,0.031233751290142386,0.031233751290142386,null,0.031233751290142386,0.08135190944509052,null,0.08135190944509052,0.08135190944509052,null,0.08135190944509052,0.09580502172713068,null,0.09580502172713068,0.09580502172713068,null,0.09580502172713068,0.09581388784322797,null,0.09581388784322797,0.09581388784322797,null,0.09581388784322797,0.10924890725000536,null,0.09581388784322797,0.09581388784322797,null,0.09581388784322797,0.12147985955419571,null,0.09580502172713068,0.09580502172713068,null,0.09580502172713068,0.10535953670048404,null,0.08135190944509052,0.08135190944509052,null,0.08135190944509052,0.114735458809748,null,0.031233751290142386,0.031233751290142386,null,0.031233751290142386,0.12438749439431485,null,0,0,null,0,0.19271120367364114,null,0,0,null,0,0.716263832089314,null],\"y\":[null,null,-2.6,-0.08125000000000004,null,-0.08125000000000004,-0.08125000000000004,null,-0.08125000000000004,1.1375,null,1.1375,1.1375,null,1.1375,2.275,null,2.275,2.275,null,2.275,3.25,null,3.25,3.25,null,3.25,3.9000000000000004,null,3.9000000000000004,3.9000000000000004,null,3.25,2.6,null,2.6,2.6,null,2.275,1.3,null,1.3,1.3,null,1.1375,0.0,null,0.0,0.0,null,-0.08125000000000004,-1.3,null,-1.3,-1.3,null,-2.6,-2.6,null,-2.6,-2.6,null,-2.6,-3.9000000000000004,null,-3.9000000000000004,-3.9000000000000004,null],\"type\":\"scatter\"},{\"hoverinfo\":\"text\",\"marker\":{\"color\":\"black\",\"size\":3,\"symbol\":\"circle\"},\"mode\":\"markers\",\"showlegend\":false,\"text\":[\"root\",\"edge.3\",\"edge.2\",\"edge.1\",\"edge.0\",\"Chimpanzee\",\"Human\",\"Gorilla\",\"Orangutan\",\"Rhesus\",\"HowlerMon\",\"Galago\"],\"x\":[0,0.031233751290142386,0.08135190944509052,0.09580502172713068,0.09581388784322797,0.10924890725000536,0.12147985955419571,0.10535953670048404,0.114735458809748,0.12438749439431485,0.19271120367364114,0.716263832089314],\"y\":[-2.6,-0.08125000000000004,1.1375,2.275,3.25,3.9000000000000004,2.6,1.3,0.0,-1.3,-2.6,-3.9000000000000004],\"type\":\"scatter\"}],                        {\"annotations\":[{\"font\":{\"family\":\"Inconsolata, monospace\",\"size\":12},\"showarrow\":false,\"text\":\"Chimpanzee\",\"textangle\":0,\"x\":0.12715550305223822,\"xanchor\":\"left\",\"xref\":\"x\",\"y\":3.9000000000000004,\"yref\":\"y\"},{\"font\":{\"family\":\"Inconsolata, monospace\",\"size\":12},\"showarrow\":false,\"text\":\"Human\",\"textangle\":0,\"x\":0.13938645535642857,\"xanchor\":\"left\",\"xref\":\"x\",\"y\":2.6,\"yref\":\"y\"},{\"font\":{\"family\":\"Inconsolata, monospace\",\"size\":12},\"showarrow\":false,\"text\":\"Gorilla\",\"textangle\":0,\"x\":0.12326613250271688,\"xanchor\":\"left\",\"xref\":\"x\",\"y\":1.3,\"yref\":\"y\"},{\"font\":{\"family\":\"Inconsolata, monospace\",\"size\":12},\"showarrow\":false,\"text\":\"Orangutan\",\"textangle\":0,\"x\":0.13264205461198086,\"xanchor\":\"left\",\"xref\":\"x\",\"y\":0.0,\"yref\":\"y\"},{\"font\":{\"family\":\"Inconsolata, monospace\",\"size\":12},\"showarrow\":false,\"text\":\"Rhesus\",\"textangle\":0,\"x\":0.1422940901965477,\"xanchor\":\"left\",\"xref\":\"x\",\"y\":-1.3,\"yref\":\"y\"},{\"font\":{\"family\":\"Inconsolata, monospace\",\"size\":12},\"showarrow\":false,\"text\":\"HowlerMon\",\"textangle\":0,\"x\":0.210617799475874,\"xanchor\":\"left\",\"xref\":\"x\",\"y\":-2.6,\"yref\":\"y\"},{\"font\":{\"family\":\"Inconsolata, monospace\",\"size\":12},\"showarrow\":false,\"text\":\"Galago\",\"textangle\":0,\"x\":0.7341704278915469,\"xanchor\":\"left\",\"xref\":\"x\",\"y\":-3.9000000000000004,\"yref\":\"y\"},{\"ax\":0,\"ay\":0,\"showarrow\":false,\"text\":\"0.07\",\"x\":0.7520770236937797,\"xref\":\"x\",\"y\":4.609090909090909,\"yref\":\"y\",\"yshift\":10}],\"autosize\":true,\"font\":{\"family\":\"Balto\",\"size\":14},\"height\":500,\"hovermode\":\"closest\",\"margin\":{\"b\":50,\"l\":50,\"pad\":4,\"r\":50,\"t\":50},\"shapes\":[{\"line\":{\"color\":\"black\",\"width\":1.25},\"name\":\"scale_bar\",\"type\":\"line\",\"x0\":0.716263832089314,\"x1\":0.7878902152982454,\"y0\":4.609090909090909,\"y1\":4.609090909090909}],\"showlegend\":false,\"width\":500,\"xaxis\":{\"visible\":false},\"yaxis\":{\"visible\":false},\"template\":{\"data\":{\"histogram2dcontour\":[{\"type\":\"histogram2dcontour\",\"colorbar\":{\"outlinewidth\":0,\"ticks\":\"\"},\"colorscale\":[[0.0,\"#0d0887\"],[0.1111111111111111,\"#46039f\"],[0.2222222222222222,\"#7201a8\"],[0.3333333333333333,\"#9c179e\"],[0.4444444444444444,\"#bd3786\"],[0.5555555555555556,\"#d8576b\"],[0.6666666666666666,\"#ed7953\"],[0.7777777777777778,\"#fb9f3a\"],[0.8888888888888888,\"#fdca26\"],[1.0,\"#f0f921\"]]}],\"choropleth\":[{\"type\":\"choropleth\",\"colorbar\":{\"outlinewidth\":0,\"ticks\":\"\"}}],\"histogram2d\":[{\"type\":\"histogram2d\",\"colorbar\":{\"outlinewidth\":0,\"ticks\":\"\"},\"colorscale\":[[0.0,\"#0d0887\"],[0.1111111111111111,\"#46039f\"],[0.2222222222222222,\"#7201a8\"],[0.3333333333333333,\"#9c179e\"],[0.4444444444444444,\"#bd3786\"],[0.5555555555555556,\"#d8576b\"],[0.6666666666666666,\"#ed7953\"],[0.7777777777777778,\"#fb9f3a\"],[0.8888888888888888,\"#fdca26\"],[1.0,\"#f0f921\"]]}],\"heatmap\":[{\"type\":\"heatmap\",\"colorbar\":{\"outlinewidth\":0,\"ticks\":\"\"},\"colorscale\":[[0.0,\"#0d0887\"],[0.1111111111111111,\"#46039f\"],[0.2222222222222222,\"#7201a8\"],[0.3333333333333333,\"#9c179e\"],[0.4444444444444444,\"#bd3786\"],[0.5555555555555556,\"#d8576b\"],[0.6666666666666666,\"#ed7953\"],[0.7777777777777778,\"#fb9f3a\"],[0.8888888888888888,\"#fdca26\"],[1.0,\"#f0f921\"]]}],\"heatmapgl\":[{\"type\":\"heatmapgl\",\"colorbar\":{\"outlinewidth\":0,\"ticks\":\"\"},\"colorscale\":[[0.0,\"#0d0887\"],[0.1111111111111111,\"#46039f\"],[0.2222222222222222,\"#7201a8\"],[0.3333333333333333,\"#9c179e\"],[0.4444444444444444,\"#bd3786\"],[0.5555555555555556,\"#d8576b\"],[0.6666666666666666,\"#ed7953\"],[0.7777777777777778,\"#fb9f3a\"],[0.8888888888888888,\"#fdca26\"],[1.0,\"#f0f921\"]]}],\"contourcarpet\":[{\"type\":\"contourcarpet\",\"colorbar\":{\"outlinewidth\":0,\"ticks\":\"\"}}],\"contour\":[{\"type\":\"contour\",\"colorbar\":{\"outlinewidth\":0,\"ticks\":\"\"},\"colorscale\":[[0.0,\"#0d0887\"],[0.1111111111111111,\"#46039f\"],[0.2222222222222222,\"#7201a8\"],[0.3333333333333333,\"#9c179e\"],[0.4444444444444444,\"#bd3786\"],[0.5555555555555556,\"#d8576b\"],[0.6666666666666666,\"#ed7953\"],[0.7777777777777778,\"#fb9f3a\"],[0.8888888888888888,\"#fdca26\"],[1.0,\"#f0f921\"]]}],\"surface\":[{\"type\":\"surface\",\"colorbar\":{\"outlinewidth\":0,\"ticks\":\"\"},\"colorscale\":[[0.0,\"#0d0887\"],[0.1111111111111111,\"#46039f\"],[0.2222222222222222,\"#7201a8\"],[0.3333333333333333,\"#9c179e\"],[0.4444444444444444,\"#bd3786\"],[0.5555555555555556,\"#d8576b\"],[0.6666666666666666,\"#ed7953\"],[0.7777777777777778,\"#fb9f3a\"],[0.8888888888888888,\"#fdca26\"],[1.0,\"#f0f921\"]]}],\"mesh3d\":[{\"type\":\"mesh3d\",\"colorbar\":{\"outlinewidth\":0,\"ticks\":\"\"}}],\"scatter\":[{\"fillpattern\":{\"fillmode\":\"overlay\",\"size\":10,\"solidity\":0.2},\"type\":\"scatter\"}],\"parcoords\":[{\"type\":\"parcoords\",\"line\":{\"colorbar\":{\"outlinewidth\":0,\"ticks\":\"\"}}}],\"scatterpolargl\":[{\"type\":\"scatterpolargl\",\"marker\":{\"colorbar\":{\"outlinewidth\":0,\"ticks\":\"\"}}}],\"bar\":[{\"error_x\":{\"color\":\"#2a3f5f\"},\"error_y\":{\"color\":\"#2a3f5f\"},\"marker\":{\"line\":{\"color\":\"#E5ECF6\",\"width\":0.5},\"pattern\":{\"fillmode\":\"overlay\",\"size\":10,\"solidity\":0.2}},\"type\":\"bar\"}],\"scattergeo\":[{\"type\":\"scattergeo\",\"marker\":{\"colorbar\":{\"outlinewidth\":0,\"ticks\":\"\"}}}],\"scatterpolar\":[{\"type\":\"scatterpolar\",\"marker\":{\"colorbar\":{\"outlinewidth\":0,\"ticks\":\"\"}}}],\"histogram\":[{\"marker\":{\"pattern\":{\"fillmode\":\"overlay\",\"size\":10,\"solidity\":0.2}},\"type\":\"histogram\"}],\"scattergl\":[{\"type\":\"scattergl\",\"marker\":{\"colorbar\":{\"outlinewidth\":0,\"ticks\":\"\"}}}],\"scatter3d\":[{\"type\":\"scatter3d\",\"line\":{\"colorbar\":{\"outlinewidth\":0,\"ticks\":\"\"}},\"marker\":{\"colorbar\":{\"outlinewidth\":0,\"ticks\":\"\"}}}],\"scattermapbox\":[{\"type\":\"scattermapbox\",\"marker\":{\"colorbar\":{\"outlinewidth\":0,\"ticks\":\"\"}}}],\"scatterternary\":[{\"type\":\"scatterternary\",\"marker\":{\"colorbar\":{\"outlinewidth\":0,\"ticks\":\"\"}}}],\"scattercarpet\":[{\"type\":\"scattercarpet\",\"marker\":{\"colorbar\":{\"outlinewidth\":0,\"ticks\":\"\"}}}],\"carpet\":[{\"aaxis\":{\"endlinecolor\":\"#2a3f5f\",\"gridcolor\":\"white\",\"linecolor\":\"white\",\"minorgridcolor\":\"white\",\"startlinecolor\":\"#2a3f5f\"},\"baxis\":{\"endlinecolor\":\"#2a3f5f\",\"gridcolor\":\"white\",\"linecolor\":\"white\",\"minorgridcolor\":\"white\",\"startlinecolor\":\"#2a3f5f\"},\"type\":\"carpet\"}],\"table\":[{\"cells\":{\"fill\":{\"color\":\"#EBF0F8\"},\"line\":{\"color\":\"white\"}},\"header\":{\"fill\":{\"color\":\"#C8D4E3\"},\"line\":{\"color\":\"white\"}},\"type\":\"table\"}],\"barpolar\":[{\"marker\":{\"line\":{\"color\":\"#E5ECF6\",\"width\":0.5},\"pattern\":{\"fillmode\":\"overlay\",\"size\":10,\"solidity\":0.2}},\"type\":\"barpolar\"}],\"pie\":[{\"automargin\":true,\"type\":\"pie\"}]},\"layout\":{\"autotypenumbers\":\"strict\",\"colorway\":[\"#636efa\",\"#EF553B\",\"#00cc96\",\"#ab63fa\",\"#FFA15A\",\"#19d3f3\",\"#FF6692\",\"#B6E880\",\"#FF97FF\",\"#FECB52\"],\"font\":{\"color\":\"#2a3f5f\"},\"hovermode\":\"closest\",\"hoverlabel\":{\"align\":\"left\"},\"paper_bgcolor\":\"white\",\"plot_bgcolor\":\"#E5ECF6\",\"polar\":{\"bgcolor\":\"#E5ECF6\",\"angularaxis\":{\"gridcolor\":\"white\",\"linecolor\":\"white\",\"ticks\":\"\"},\"radialaxis\":{\"gridcolor\":\"white\",\"linecolor\":\"white\",\"ticks\":\"\"}},\"ternary\":{\"bgcolor\":\"#E5ECF6\",\"aaxis\":{\"gridcolor\":\"white\",\"linecolor\":\"white\",\"ticks\":\"\"},\"baxis\":{\"gridcolor\":\"white\",\"linecolor\":\"white\",\"ticks\":\"\"},\"caxis\":{\"gridcolor\":\"white\",\"linecolor\":\"white\",\"ticks\":\"\"}},\"coloraxis\":{\"colorbar\":{\"outlinewidth\":0,\"ticks\":\"\"}},\"colorscale\":{\"sequential\":[[0.0,\"#0d0887\"],[0.1111111111111111,\"#46039f\"],[0.2222222222222222,\"#7201a8\"],[0.3333333333333333,\"#9c179e\"],[0.4444444444444444,\"#bd3786\"],[0.5555555555555556,\"#d8576b\"],[0.6666666666666666,\"#ed7953\"],[0.7777777777777778,\"#fb9f3a\"],[0.8888888888888888,\"#fdca26\"],[1.0,\"#f0f921\"]],\"sequentialminus\":[[0.0,\"#0d0887\"],[0.1111111111111111,\"#46039f\"],[0.2222222222222222,\"#7201a8\"],[0.3333333333333333,\"#9c179e\"],[0.4444444444444444,\"#bd3786\"],[0.5555555555555556,\"#d8576b\"],[0.6666666666666666,\"#ed7953\"],[0.7777777777777778,\"#fb9f3a\"],[0.8888888888888888,\"#fdca26\"],[1.0,\"#f0f921\"]],\"diverging\":[[0,\"#8e0152\"],[0.1,\"#c51b7d\"],[0.2,\"#de77ae\"],[0.3,\"#f1b6da\"],[0.4,\"#fde0ef\"],[0.5,\"#f7f7f7\"],[0.6,\"#e6f5d0\"],[0.7,\"#b8e186\"],[0.8,\"#7fbc41\"],[0.9,\"#4d9221\"],[1,\"#276419\"]]},\"xaxis\":{\"gridcolor\":\"white\",\"linecolor\":\"white\",\"ticks\":\"\",\"title\":{\"standoff\":15},\"zerolinecolor\":\"white\",\"automargin\":true,\"zerolinewidth\":2},\"yaxis\":{\"gridcolor\":\"white\",\"linecolor\":\"white\",\"ticks\":\"\",\"title\":{\"standoff\":15},\"zerolinecolor\":\"white\",\"automargin\":true,\"zerolinewidth\":2},\"scene\":{\"xaxis\":{\"backgroundcolor\":\"#E5ECF6\",\"gridcolor\":\"white\",\"linecolor\":\"white\",\"showbackground\":true,\"ticks\":\"\",\"zerolinecolor\":\"white\",\"gridwidth\":2},\"yaxis\":{\"backgroundcolor\":\"#E5ECF6\",\"gridcolor\":\"white\",\"linecolor\":\"white\",\"showbackground\":true,\"ticks\":\"\",\"zerolinecolor\":\"white\",\"gridwidth\":2},\"zaxis\":{\"backgroundcolor\":\"#E5ECF6\",\"gridcolor\":\"white\",\"linecolor\":\"white\",\"showbackground\":true,\"ticks\":\"\",\"zerolinecolor\":\"white\",\"gridwidth\":2}},\"shapedefaults\":{\"line\":{\"color\":\"#2a3f5f\"}},\"annotationdefaults\":{\"arrowcolor\":\"#2a3f5f\",\"arrowhead\":0,\"arrowwidth\":1},\"geo\":{\"bgcolor\":\"white\",\"landcolor\":\"#E5ECF6\",\"subunitcolor\":\"white\",\"showland\":true,\"showlakes\":true,\"lakecolor\":\"white\"},\"title\":{\"x\":0.05},\"mapbox\":{\"style\":\"light\"}}}},                        {\"responsive\": true}                    ).then(function(){\n",
       "\n",
       "var gd = document.getElementById('f819ce6c-c821-4ce7-8608-68fed91ce04a');\n",
       "var x = new MutationObserver(function (mutations, observer) {{\n",
       "        var display = window.getComputedStyle(gd).display;\n",
       "        if (!display || display === 'none') {{\n",
       "            console.log([gd, 'removed!']);\n",
       "            Plotly.purge(gd);\n",
       "            observer.disconnect();\n",
       "        }}\n",
       "}});\n",
       "\n",
       "// Listen for the removal of the full notebook cells\n",
       "var notebookContainer = gd.closest('#notebook-container');\n",
       "if (notebookContainer) {{\n",
       "    x.observe(notebookContainer, {childList: true});\n",
       "}}\n",
       "\n",
       "// Listen for the clearing of the current output cell\n",
       "var outputEl = gd.closest('.output');\n",
       "if (outputEl) {{\n",
       "    x.observe(outputEl, {childList: true});\n",
       "}}\n",
       "\n",
       "                        })                };                });            </script>        </div>"
      ]
     },
     "metadata": {},
     "output_type": "display_data"
    }
   ],
   "source": [
    "tree = result.tree\n",
    "fig = tree.get_figure()\n",
    "fig.scale_bar = \"top right\"\n",
    "fig.show(width=500, height=500)"
   ]
  },
  {
   "cell_type": "code",
   "execution_count": 5,
   "id": "b385ee69",
   "metadata": {
    "execution": {
     "iopub.execute_input": "2023-12-15T00:04:25.968883Z",
     "iopub.status.busy": "2023-12-15T00:04:25.968774Z",
     "iopub.status.idle": "2023-12-15T00:04:25.972263Z",
     "shell.execute_reply": "2023-12-15T00:04:25.972043Z"
    }
   },
   "outputs": [
    {
     "data": {
      "text/plain": [
       "2x tabular_result('edge motif motif2 params': Table, 'motif params': Table)"
      ]
     },
     "execution_count": 5,
     "metadata": {},
     "output_type": "execute_result"
    }
   ],
   "source": [
    "tabulator = get_app(\"tabulate_stats\")\n",
    "stats = tabulator(result)\n",
    "stats"
   ]
  },
  {
   "cell_type": "code",
   "execution_count": 6,
   "id": "9a2273c2",
   "metadata": {
    "execution": {
     "iopub.execute_input": "2023-12-15T00:04:25.973273Z",
     "iopub.status.busy": "2023-12-15T00:04:25.973201Z",
     "iopub.status.idle": "2023-12-15T00:04:25.975727Z",
     "shell.execute_reply": "2023-12-15T00:04:25.975471Z"
    }
   },
   "outputs": [
    {
     "data": {
      "text/html": [
       "\n",
       "<div class=\"c3table\">\n",
       "\n",
       "<style>\n",
       ".c3table table {margin: 10px 0;}\n",
       ".c3table tr:last-child {border-bottom: 1px solid #000;} \n",
       ".c3table tr > th {text-align: left; padding: 0 5px;}\n",
       ".c3table tr > td {text-align: left; padding: 5px;}\n",
       ".c3table tr:nth-child(even) {background: #f7f7f7 !important;}\n",
       ".c3table .ellipsis {background: rgba(0, 0, 0, .01);}\n",
       ".c3table .index {background: rgba(161, 195, 209, 0.0); margin: 10px; font-weight: 600;}\n",
       ".c3table .head_cell {background: rgba(161, 195, 209, 0.75); font-weight: bold; text-align: center;}\n",
       ".c3table caption {color: rgb(250, 250, 250); background: rgba(30, 140, 200, 1); padding: 3px; white-space: nowrap; caption-side: top;}\n",
       ".c3table .cell_title {font-weight: bold;}\n",
       ".c3col_left { text-align: left !important; display: block;}\n",
       ".c3col_right { text-align: right !important; display: block;}\n",
       ".c3col_center { text-align: center !important; display: block;}\n",
       "</style>\n",
       "\n",
       "<table>\n",
       "\n",
       "<caption>\n",
       "<span class=\"cell_title\">edge motif motif2 params</span>\n",
       "</caption>\n",
       "<thead class=\"head_cell\">\n",
       "<th>edge</th><th>motif</th><th>motif2</th><th>psubs</th>\n",
       "</thead>\n",
       "<tbody>\n",
       "<tr><td><span class=\"c3col_left\">Galago</span></td><td><span class=\"c3col_left\">T</span></td><td><span class=\"c3col_left\">T</span></td><td><span class=\"c3col_right\">0.8750</span></td></tr>\n",
       "<tr><td><span class=\"c3col_left\">Galago</span></td><td><span class=\"c3col_left\">T</span></td><td><span class=\"c3col_left\">C</span></td><td><span class=\"c3col_right\">0.0649</span></td></tr>\n",
       "<tr><td><span class=\"c3col_left\">Galago</span></td><td><span class=\"c3col_left\">T</span></td><td><span class=\"c3col_left\">A</span></td><td><span class=\"c3col_right\">0.0409</span></td></tr>\n",
       "<tr><td><span class=\"c3col_left\">Galago</span></td><td><span class=\"c3col_left\">T</span></td><td><span class=\"c3col_left\">G</span></td><td><span class=\"c3col_right\">0.0192</span></td></tr>\n",
       "<tr><td><span class=\"c3col_left\">Galago</span></td><td><span class=\"c3col_left\">C</span></td><td><span class=\"c3col_left\">T</span></td><td><span class=\"c3col_right\">0.1125</span></td></tr>\n",
       "<tr class=\"ellipsis\"><td><span class=\"c3col_left\">...</span></td><td><span class=\"c3col_left\">...</span></td><td><span class=\"c3col_left\">...</span></td><td><span class=\"c3col_right\">...</span></td></tr>\n",
       "<tr><td><span class=\"c3col_left\">edge.3</span></td><td><span class=\"c3col_left\">A</span></td><td><span class=\"c3col_left\">G</span></td><td><span class=\"c3col_right\">0.0053</span></td></tr>\n",
       "<tr><td><span class=\"c3col_left\">edge.3</span></td><td><span class=\"c3col_left\">G</span></td><td><span class=\"c3col_left\">T</span></td><td><span class=\"c3col_right\">0.0000</span></td></tr>\n",
       "<tr><td><span class=\"c3col_left\">edge.3</span></td><td><span class=\"c3col_left\">G</span></td><td><span class=\"c3col_left\">C</span></td><td><span class=\"c3col_right\">0.0011</span></td></tr>\n",
       "<tr><td><span class=\"c3col_left\">edge.3</span></td><td><span class=\"c3col_left\">G</span></td><td><span class=\"c3col_left\">A</span></td><td><span class=\"c3col_right\">0.0041</span></td></tr>\n",
       "<tr><td><span class=\"c3col_left\">edge.3</span></td><td><span class=\"c3col_left\">G</span></td><td><span class=\"c3col_left\">G</span></td><td><span class=\"c3col_right\">0.9948</span></td></tr>\n",
       "</tbody>\n",
       "</table>\n",
       "<p>Top 5 and bottom 5 rows from\n",
       "176 rows x 4 columns</p>\n",
       "</div>"
      ],
      "text/plain": [
       "edge motif motif2 params\n",
       "===================================\n",
       "edge      motif    motif2     psubs\n",
       "-----------------------------------\n",
       "Galago    T        T         0.8750\n",
       "Galago    T        C         0.0649\n",
       "Galago    T        A         0.0409\n",
       "Galago    T        G         0.0192\n",
       "Galago    C        T         0.1125\n",
       "edge.3    A        G         0.0053\n",
       "edge.3    G        T         0.0000\n",
       "edge.3    G        C         0.0011\n",
       "edge.3    G        A         0.0041\n",
       "edge.3    G        G         0.9948\n",
       "-----------------------------------\n",
       "Top 5 and bottom 5 rows from\n",
       "176 rows x 4 columns"
      ]
     },
     "execution_count": 6,
     "metadata": {},
     "output_type": "execute_result"
    }
   ],
   "source": [
    "stats[\"edge motif motif2 params\"]"
   ]
  }
 ],
 "metadata": {
  "kernelspec": {
   "display_name": "Python 3 (ipykernel)",
   "language": "python",
   "name": "python3"
  },
  "language_info": {
   "codemirror_mode": {
    "name": "ipython",
    "version": 3
   },
   "file_extension": ".py",
   "mimetype": "text/x-python",
   "name": "python",
   "nbconvert_exporter": "python",
   "pygments_lexer": "ipython3",
   "version": "3.11.6"
  }
 },
 "nbformat": 4,
 "nbformat_minor": 5
}