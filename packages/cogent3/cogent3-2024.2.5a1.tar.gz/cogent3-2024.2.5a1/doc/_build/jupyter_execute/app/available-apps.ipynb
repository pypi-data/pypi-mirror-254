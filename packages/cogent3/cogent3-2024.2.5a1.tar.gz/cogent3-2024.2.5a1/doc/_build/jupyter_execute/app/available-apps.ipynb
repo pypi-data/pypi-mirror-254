{
 "cells": [
  {
   "cell_type": "code",
   "execution_count": 1,
   "id": "a3ef24a4",
   "metadata": {
    "execution": {
     "iopub.execute_input": "2023-12-15T00:04:08.173758Z",
     "iopub.status.busy": "2023-12-15T00:04:08.173281Z",
     "iopub.status.idle": "2023-12-15T00:04:09.383069Z",
     "shell.execute_reply": "2023-12-15T00:04:09.382734Z"
    }
   },
   "outputs": [
    {
     "data": {
      "text/html": [
       "\n",
       "<div class=\"c3table\">\n",
       "\n",
       "<style>\n",
       ".c3table table {margin: 10px 0;}\n",
       ".c3table tr:last-child {border-bottom: 1px solid #000;} \n",
       ".c3table tr > th {text-align: left; padding: 0 5px;}\n",
       ".c3table tr > td {text-align: left; padding: 5px;}\n",
       ".c3table tr:nth-child(even) {background: #f7f7f7 !important;}\n",
       ".c3table .ellipsis {background: rgba(0, 0, 0, .01);}\n",
       ".c3table .index {background: rgba(161, 195, 209, 0.0); margin: 10px; font-weight: 600;}\n",
       ".c3table .head_cell {background: rgba(161, 195, 209, 0.75); font-weight: bold; text-align: center;}\n",
       ".c3table caption {color: rgb(250, 250, 250); background: rgba(30, 140, 200, 1); padding: 3px; white-space: nowrap; caption-side: top;}\n",
       ".c3table .cell_title {font-weight: bold;}\n",
       ".c3col_left { text-align: left !important; display: block;}\n",
       ".c3col_right { text-align: right !important; display: block;}\n",
       ".c3col_center { text-align: center !important; display: block;}\n",
       "</style>\n",
       "\n",
       "<table>\n",
       "\n",
       "<thead class=\"head_cell\">\n",
       "<th>module</th><th>name</th><th>composable</th><th>doc</th><th>input type</th><th>output type</th>\n",
       "</thead>\n",
       "<tbody>\n",
       "<tr><td><span class=\"c3col_left\">cogent3.app.io</span></td><td><span class=\"c3col_left\">pickle_it</span></td><td><span class=\"c3col_left\">True</span></td><td><span class=\"c3col_left\">Serialises data using pickle.</span></td><td><span class=\"c3col_left\">SerialisableType</span></td><td><span class=\"c3col_left\">bytes</span></td></tr>\n",
       "<tr><td><span class=\"c3col_left\">cogent3.app.io</span></td><td><span class=\"c3col_left\">unpickle_it</span></td><td><span class=\"c3col_left\">True</span></td><td><span class=\"c3col_left\">Deserialises pickle data.</span></td><td><span class=\"c3col_left\">bytes</span></td><td><span class=\"c3col_left\">SerialisableType</span></td></tr>\n",
       "<tr><td><span class=\"c3col_left\">cogent3.app.io</span></td><td><span class=\"c3col_left\">compress</span></td><td><span class=\"c3col_left\">True</span></td><td><span class=\"c3col_left\">Compresses bytes data.</span></td><td><span class=\"c3col_left\">bytes</span></td><td><span class=\"c3col_left\">bytes</span></td></tr>\n",
       "<tr><td><span class=\"c3col_left\">cogent3.app.io</span></td><td><span class=\"c3col_left\">decompress</span></td><td><span class=\"c3col_left\">True</span></td><td><span class=\"c3col_left\">Decompresses data.</span></td><td><span class=\"c3col_left\">bytes</span></td><td><span class=\"c3col_left\">bytes</span></td></tr>\n",
       "<tr><td><span class=\"c3col_left\">cogent3.app.io</span></td><td><span class=\"c3col_left\">to_primitive</span></td><td><span class=\"c3col_left\">True</span></td><td><span class=\"c3col_left\">convert an object to primitive python types suitable for serialisation</span></td><td><span class=\"c3col_left\">SerialisableType</span></td><td><span class=\"c3col_left\">SerialisableType</span></td></tr>\n",
       "<tr class=\"ellipsis\"><td><span class=\"c3col_left\">...</span></td><td><span class=\"c3col_left\">...</span></td><td><span class=\"c3col_left\">...</span></td><td><span class=\"c3col_left\">...</span></td><td><span class=\"c3col_left\">...</span></td><td><span class=\"c3col_left\">...</span></td></tr>\n",
       "<tr><td><span class=\"c3col_left\">cogent3.app.sample</span></td><td><span class=\"c3col_left\">min_length</span></td><td><span class=\"c3col_left\">True</span></td><td><span class=\"c3col_left\">Filters sequence collections / alignments by length.</span></td><td><span class=\"c3col_left\">Alignment, ArrayAlignment, SequenceCollection</span></td><td><span class=\"c3col_left\">Alignment, ArrayAlignment, SequenceCollection, SerialisableType</span></td></tr>\n",
       "<tr><td><span class=\"c3col_left\">cogent3.app.sample</span></td><td><span class=\"c3col_left\">fixed_length</span></td><td><span class=\"c3col_left\">True</span></td><td><span class=\"c3col_left\">Sample an alignment to a fixed length.</span></td><td><span class=\"c3col_left\">Alignment, ArrayAlignment</span></td><td><span class=\"c3col_left\">Alignment, ArrayAlignment, SerialisableType</span></td></tr>\n",
       "<tr><td><span class=\"c3col_left\">cogent3.app.sample</span></td><td><span class=\"c3col_left\">omit_bad_seqs</span></td><td><span class=\"c3col_left\">True</span></td><td><span class=\"c3col_left\">Eliminates sequences from Alignment based on gap fraction, unique gaps.</span></td><td><span class=\"c3col_left\">Alignment, ArrayAlignment</span></td><td><span class=\"c3col_left\">Alignment, ArrayAlignment, SerialisableType</span></td></tr>\n",
       "<tr><td><span class=\"c3col_left\">cogent3.app.sample</span></td><td><span class=\"c3col_left\">omit_duplicated</span></td><td><span class=\"c3col_left\">True</span></td><td><span class=\"c3col_left\">Removes redundant sequences, recording dropped sequences in seqs.info.dropped.</span></td><td><span class=\"c3col_left\">Alignment, ArrayAlignment, SequenceCollection</span></td><td><span class=\"c3col_left\">Alignment, ArrayAlignment, SequenceCollection, SerialisableType</span></td></tr>\n",
       "<tr><td><span class=\"c3col_left\">cogent3.app.sample</span></td><td><span class=\"c3col_left\">trim_stop_codons</span></td><td><span class=\"c3col_left\">True</span></td><td><span class=\"c3col_left\">Removes terminal stop codons.</span></td><td><span class=\"c3col_left\">Alignment, ArrayAlignment, SequenceCollection</span></td><td><span class=\"c3col_left\">Alignment, ArrayAlignment, SequenceCollection, SerialisableType</span></td></tr>\n",
       "</tbody>\n",
       "</table>\n",
       "<p>Top 5 and bottom 5 rows from\n",
       "54 rows x 6 columns</p>\n",
       "</div>"
      ],
      "text/plain": [
       "==========================================================================================================================================================================================================================================================\n",
       "module                name                composable    doc                                                                               input type                                       output type                                                    \n",
       "----------------------------------------------------------------------------------------------------------------------------------------------------------------------------------------------------------------------------------------------------------\n",
       "cogent3.app.io        pickle_it           True          Serialises data using pickle.                                                     SerialisableType                                 bytes                                                          \n",
       "cogent3.app.io        unpickle_it         True          Deserialises pickle data.                                                         bytes                                            SerialisableType                                               \n",
       "cogent3.app.io        compress            True          Compresses bytes data.                                                            bytes                                            bytes                                                          \n",
       "cogent3.app.io        decompress          True          Decompresses data.                                                                bytes                                            bytes                                                          \n",
       "cogent3.app.io        to_primitive        True          convert an object to primitive python types suitable for serialisation            SerialisableType                                 SerialisableType                                               \n",
       "cogent3.app.sample    min_length          True          Filters sequence collections / alignments by length.                              Alignment, ArrayAlignment, SequenceCollection    Alignment, ArrayAlignment, SequenceCollection, SerialisableType\n",
       "cogent3.app.sample    fixed_length        True          Sample an alignment to a fixed length.                                            Alignment, ArrayAlignment                        Alignment, ArrayAlignment, SerialisableType                    \n",
       "cogent3.app.sample    omit_bad_seqs       True          Eliminates sequences from Alignment based on gap fraction, unique gaps.           Alignment, ArrayAlignment                        Alignment, ArrayAlignment, SerialisableType                    \n",
       "cogent3.app.sample    omit_duplicated     True          Removes redundant sequences, recording dropped sequences in seqs.info.dropped.    Alignment, ArrayAlignment, SequenceCollection    Alignment, ArrayAlignment, SequenceCollection, SerialisableType\n",
       "cogent3.app.sample    trim_stop_codons    True          Removes terminal stop codons.                                                     Alignment, ArrayAlignment, SequenceCollection    Alignment, ArrayAlignment, SequenceCollection, SerialisableType\n",
       "----------------------------------------------------------------------------------------------------------------------------------------------------------------------------------------------------------------------------------------------------------\n",
       "Top 5 and bottom 5 rows from\n",
       "54 rows x 6 columns"
      ]
     },
     "execution_count": 1,
     "metadata": {},
     "output_type": "execute_result"
    }
   ],
   "source": [
    "from cogent3 import available_apps\n",
    "\n",
    "available_apps()"
   ]
  },
  {
   "cell_type": "code",
   "execution_count": 2,
   "id": "8ad85c11",
   "metadata": {
    "execution": {
     "iopub.execute_input": "2023-12-15T00:04:09.384586Z",
     "iopub.status.busy": "2023-12-15T00:04:09.384437Z",
     "iopub.status.idle": "2023-12-15T00:04:09.387125Z",
     "shell.execute_reply": "2023-12-15T00:04:09.386852Z"
    }
   },
   "outputs": [
    {
     "data": {
      "text/html": [
       "\n",
       "<div class=\"c3table\">\n",
       "\n",
       "<style>\n",
       ".c3table table {margin: 10px 0;}\n",
       ".c3table tr:last-child {border-bottom: 1px solid #000;} \n",
       ".c3table tr > th {text-align: left; padding: 0 5px;}\n",
       ".c3table tr > td {text-align: left; padding: 5px;}\n",
       ".c3table tr:nth-child(even) {background: #f7f7f7 !important;}\n",
       ".c3table .ellipsis {background: rgba(0, 0, 0, .01);}\n",
       ".c3table .index {background: rgba(161, 195, 209, 0.0); margin: 10px; font-weight: 600;}\n",
       ".c3table .head_cell {background: rgba(161, 195, 209, 0.75); font-weight: bold; text-align: center;}\n",
       ".c3table caption {color: rgb(250, 250, 250); background: rgba(30, 140, 200, 1); padding: 3px; white-space: nowrap; caption-side: top;}\n",
       ".c3table .cell_title {font-weight: bold;}\n",
       ".c3col_left { text-align: left !important; display: block;}\n",
       ".c3col_right { text-align: right !important; display: block;}\n",
       ".c3col_center { text-align: center !important; display: block;}\n",
       "</style>\n",
       "\n",
       "<table>\n",
       "\n",
       "<thead class=\"head_cell\">\n",
       "<th>module</th><th>name</th><th>composable</th><th>doc</th><th>input type</th><th>output type</th>\n",
       "</thead>\n",
       "<tbody>\n",
       "<tr><td><span class=\"c3col_left\">cogent3.app.io</span></td><td><span class=\"c3col_left\">load_aligned</span></td><td><span class=\"c3col_left\">True</span></td><td><span class=\"c3col_left\">Loads aligned sequences. Returns an Alignment object.</span></td><td><span class=\"c3col_left\">IdentifierType</span></td><td><span class=\"c3col_left\">Alignment, ArrayAlignment, SerialisableType</span></td></tr>\n",
       "<tr><td><span class=\"c3col_left\">cogent3.app.io</span></td><td><span class=\"c3col_left\">load_unaligned</span></td><td><span class=\"c3col_left\">True</span></td><td><span class=\"c3col_left\">Loads unaligned sequences. Returns a SequenceCollection.</span></td><td><span class=\"c3col_left\">IdentifierType</span></td><td><span class=\"c3col_left\">SequenceCollection, SerialisableType</span></td></tr>\n",
       "<tr><td><span class=\"c3col_left\">cogent3.app.io</span></td><td><span class=\"c3col_left\">load_tabular</span></td><td><span class=\"c3col_left\">True</span></td><td><span class=\"c3col_left\">Loads delimited data. Returns a Table.</span></td><td><span class=\"c3col_left\">IdentifierType</span></td><td><span class=\"c3col_left\">DictArray, DistanceMatrix, Table</span></td></tr>\n",
       "<tr><td><span class=\"c3col_left\">cogent3.app.io</span></td><td><span class=\"c3col_left\">load_json</span></td><td><span class=\"c3col_left\">True</span></td><td><span class=\"c3col_left\">Loads json serialised cogent3 objects from a json file. Returns whatever object type was stored.</span></td><td><span class=\"c3col_left\">IdentifierType</span></td><td><span class=\"c3col_left\">SerialisableType</span></td></tr>\n",
       "<tr><td><span class=\"c3col_left\">cogent3.app.io</span></td><td><span class=\"c3col_left\">load_db</span></td><td><span class=\"c3col_left\">True</span></td><td><span class=\"c3col_left\">Loads serialised cogent3 objects from a db. Returns whatever object type was stored.</span></td><td><span class=\"c3col_left\">IdentifierType</span></td><td><span class=\"c3col_left\">SerialisableType</span></td></tr>\n",
       "</tbody>\n",
       "</table>\n",
       "<p>\n",
       "5 rows x 6 columns</p>\n",
       "</div>"
      ],
      "text/plain": [
       "===================================================================================================================================================================================================================\n",
       "module            name              composable    doc                                                                                                 input type        output type                                \n",
       "-------------------------------------------------------------------------------------------------------------------------------------------------------------------------------------------------------------------\n",
       "cogent3.app.io    load_aligned      True          Loads aligned sequences. Returns an Alignment object.                                               IdentifierType    Alignment, ArrayAlignment, SerialisableType\n",
       "cogent3.app.io    load_unaligned    True          Loads unaligned sequences. Returns a SequenceCollection.                                            IdentifierType    SequenceCollection, SerialisableType       \n",
       "cogent3.app.io    load_tabular      True          Loads delimited data. Returns a Table.                                                              IdentifierType    DictArray, DistanceMatrix, Table           \n",
       "cogent3.app.io    load_json         True          Loads json serialised cogent3 objects from a json file. Returns whatever object type was stored.    IdentifierType    SerialisableType                           \n",
       "cogent3.app.io    load_db           True          Loads serialised cogent3 objects from a db. Returns whatever object type was stored.                IdentifierType    SerialisableType                           \n",
       "-------------------------------------------------------------------------------------------------------------------------------------------------------------------------------------------------------------------\n",
       "\n",
       "5 rows x 6 columns"
      ]
     },
     "execution_count": 2,
     "metadata": {},
     "output_type": "execute_result"
    }
   ],
   "source": [
    "available_apps(name_filter=\"load\")"
   ]
  }
 ],
 "metadata": {
  "kernelspec": {
   "display_name": "Python 3 (ipykernel)",
   "language": "python",
   "name": "python3"
  },
  "language_info": {
   "codemirror_mode": {
    "name": "ipython",
    "version": 3
   },
   "file_extension": ".py",
   "mimetype": "text/x-python",
   "name": "python",
   "nbconvert_exporter": "python",
   "pygments_lexer": "ipython3",
   "version": "3.11.6"
  }
 },
 "nbformat": 4,
 "nbformat_minor": 5
}