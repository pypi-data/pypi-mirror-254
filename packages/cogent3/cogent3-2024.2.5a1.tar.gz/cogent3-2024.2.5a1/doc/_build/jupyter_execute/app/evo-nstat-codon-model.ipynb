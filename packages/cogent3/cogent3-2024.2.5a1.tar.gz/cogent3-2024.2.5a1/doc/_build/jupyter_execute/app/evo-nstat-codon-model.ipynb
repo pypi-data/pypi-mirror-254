{
 "cells": [
  {
   "cell_type": "code",
   "execution_count": 1,
   "id": "acee4530",
   "metadata": {
    "execution": {
     "iopub.execute_input": "2023-12-15T00:06:56.208673Z",
     "iopub.status.busy": "2023-12-15T00:06:56.208174Z",
     "iopub.status.idle": "2023-12-15T00:06:56.225805Z",
     "shell.execute_reply": "2023-12-15T00:06:56.225235Z"
    }
   },
   "outputs": [],
   "source": [
    "import set_working_directory"
   ]
  },
  {
   "cell_type": "code",
   "execution_count": 2,
   "id": "599dac39",
   "metadata": {
    "execution": {
     "iopub.execute_input": "2023-12-15T00:06:56.229039Z",
     "iopub.status.busy": "2023-12-15T00:06:56.228675Z",
     "iopub.status.idle": "2023-12-15T00:06:57.356171Z",
     "shell.execute_reply": "2023-12-15T00:06:57.355843Z"
    }
   },
   "outputs": [],
   "source": [
    "from cogent3 import get_app\n",
    "\n",
    "loader = get_app(\"load_aligned\", format=\"fasta\", moltype=\"dna\")\n",
    "aln = loader(\"data/primate_brca1.fasta\")"
   ]
  },
  {
   "cell_type": "code",
   "execution_count": 3,
   "id": "2c8baba0",
   "metadata": {
    "execution": {
     "iopub.execute_input": "2023-12-15T00:06:57.357835Z",
     "iopub.status.busy": "2023-12-15T00:06:57.357724Z",
     "iopub.status.idle": "2023-12-15T00:07:00.854227Z",
     "shell.execute_reply": "2023-12-15T00:07:00.853605Z"
    }
   },
   "outputs": [
    {
     "data": {
      "text/html": [
       "\n",
       "<div class=\"c3table\">\n",
       "\n",
       "<style>\n",
       ".c3table table {margin: 10px 0;}\n",
       ".c3table tr:last-child {border-bottom: 1px solid #000;} \n",
       ".c3table tr > th {text-align: left; padding: 0 5px;}\n",
       ".c3table tr > td {text-align: left; padding: 5px;}\n",
       ".c3table tr:nth-child(even) {background: #f7f7f7 !important;}\n",
       ".c3table .ellipsis {background: rgba(0, 0, 0, .01);}\n",
       ".c3table .index {background: rgba(161, 195, 209, 0.0); margin: 10px; font-weight: 600;}\n",
       ".c3table .head_cell {background: rgba(161, 195, 209, 0.75); font-weight: bold; text-align: center;}\n",
       ".c3table caption {color: rgb(250, 250, 250); background: rgba(30, 140, 200, 1); padding: 3px; white-space: nowrap; caption-side: top;}\n",
       ".c3table .cell_title {font-weight: bold;}\n",
       ".c3col_left { text-align: left !important; display: block;}\n",
       ".c3col_right { text-align: right !important; display: block;}\n",
       ".c3col_center { text-align: center !important; display: block;}\n",
       "</style>\n",
       "\n",
       "<table>\n",
       "\n",
       "<caption>\n",
       "<span class=\"cell_title\">GNC</span>\n",
       "</caption>\n",
       "<thead class=\"head_cell\">\n",
       "<th>key</th><th>lnL</th><th>nfp</th><th>DLC</th><th>unique_Q</th>\n",
       "</thead>\n",
       "<tbody>\n",
       "<tr><td><span class=\"c3col_left\">'GNC'</span></td><td><span class=\"c3col_right\">-6713.2733</span></td><td><span class=\"c3col_right\">23</span></td><td><span class=\"c3col_left\">True</span></td><td><span class=\"c3col_left\">True</span></td></tr>\n",
       "</tbody>\n",
       "</table>\n",
       "\n",
       "</div>"
      ],
      "text/plain": [
       "GNC\n",
       "==============================================\n",
       "key             lnL    nfp    DLC     unique_Q\n",
       "----------------------------------------------\n",
       "'GNC'    -6713.2733     23    True    True    \n",
       "----------------------------------------------\n",
       "\n",
       "1 rows x 5 columns"
      ]
     },
     "execution_count": 3,
     "metadata": {},
     "output_type": "execute_result"
    }
   ],
   "source": [
    "model = get_app(\"model\", \"GNC\", tree=\"data/primate_brca1.tree\")\n",
    "result = model(aln)\n",
    "result"
   ]
  },
  {
   "cell_type": "code",
   "execution_count": 4,
   "id": "77543485",
   "metadata": {
    "execution": {
     "iopub.execute_input": "2023-12-15T00:07:00.857575Z",
     "iopub.status.busy": "2023-12-15T00:07:00.857360Z",
     "iopub.status.idle": "2023-12-15T00:07:00.874781Z",
     "shell.execute_reply": "2023-12-15T00:07:00.873113Z"
    }
   },
   "outputs": [
    {
     "data": {
      "text/html": [
       "<h4>GNC</h4>\n",
       "<p>log-likelihood = -6713.2733</p>\n",
       "<p>number of free parameters = 23</p>\n",
       "\n",
       "<div class=\"c3table\">\n",
       "\n",
       "<style>\n",
       ".c3table table {margin: 10px 0;}\n",
       ".c3table tr:last-child {border-bottom: 1px solid #000;} \n",
       ".c3table tr > th {text-align: left; padding: 0 5px;}\n",
       ".c3table tr > td {text-align: left; padding: 5px;}\n",
       ".c3table tr:nth-child(even) {background: #f7f7f7 !important;}\n",
       ".c3table .ellipsis {background: rgba(0, 0, 0, .01);}\n",
       ".c3table .index {background: rgba(161, 195, 209, 0.0); margin: 10px; font-weight: 600;}\n",
       ".c3table .head_cell {background: rgba(161, 195, 209, 0.75); font-weight: bold; text-align: center;}\n",
       ".c3table caption {color: rgb(250, 250, 250); background: rgba(30, 140, 200, 1); padding: 3px; white-space: nowrap; caption-side: top;}\n",
       ".c3table .cell_title {font-weight: bold;}\n",
       ".c3col_left { text-align: left !important; display: block;}\n",
       ".c3col_right { text-align: right !important; display: block;}\n",
       ".c3col_center { text-align: center !important; display: block;}\n",
       "</style>\n",
       "\n",
       "<table>\n",
       "\n",
       "<caption>\n",
       "<span class=\"cell_title\">Global params</span>\n",
       "</caption>\n",
       "<thead class=\"head_cell\">\n",
       "<th>A>C</th><th>A>G</th><th>A>T</th><th>C>A</th><th>C>G</th><th>C>T</th><th>G>A</th><th>G>C</th><th>G>T</th><th>T>A</th>\n",
       "</thead>\n",
       "<tbody>\n",
       "<tr><td><span class=\"c3col_right\">0.8615</span></td><td><span class=\"c3col_right\">3.5374</span></td><td><span class=\"c3col_right\">0.9792</span></td><td><span class=\"c3col_right\">1.6668</span></td><td><span class=\"c3col_right\">2.2042</span></td><td><span class=\"c3col_right\">6.2567</span></td><td><span class=\"c3col_right\">7.9197</span></td><td><span class=\"c3col_right\">1.2253</span></td><td><span class=\"c3col_right\">0.8015</span></td><td><span class=\"c3col_right\">1.2911</span></td></tr>\n",
       "</tbody>\n",
       "</table>\n",
       "\n",
       "<table>\n",
       "\n",
       "<caption>\n",
       "<span class=\"cell_title\">continuation</span>\n",
       "</caption>\n",
       "<thead class=\"head_cell\">\n",
       "<th>T>C</th><th>omega</th>\n",
       "</thead>\n",
       "<tbody>\n",
       "<tr><td><span class=\"c3col_right\">3.0724</span></td><td><span class=\"c3col_right\">0.8204</span></td></tr>\n",
       "</tbody>\n",
       "</table>\n",
       "\n",
       "</div>\n",
       "\n",
       "<div class=\"c3table\">\n",
       "\n",
       "<style>\n",
       ".c3table table {margin: 10px 0;}\n",
       ".c3table tr:last-child {border-bottom: 1px solid #000;} \n",
       ".c3table tr > th {text-align: left; padding: 0 5px;}\n",
       ".c3table tr > td {text-align: left; padding: 5px;}\n",
       ".c3table tr:nth-child(even) {background: #f7f7f7 !important;}\n",
       ".c3table .ellipsis {background: rgba(0, 0, 0, .01);}\n",
       ".c3table .index {background: rgba(161, 195, 209, 0.0); margin: 10px; font-weight: 600;}\n",
       ".c3table .head_cell {background: rgba(161, 195, 209, 0.75); font-weight: bold; text-align: center;}\n",
       ".c3table caption {color: rgb(250, 250, 250); background: rgba(30, 140, 200, 1); padding: 3px; white-space: nowrap; caption-side: top;}\n",
       ".c3table .cell_title {font-weight: bold;}\n",
       ".c3col_left { text-align: left !important; display: block;}\n",
       ".c3col_right { text-align: right !important; display: block;}\n",
       ".c3col_center { text-align: center !important; display: block;}\n",
       "</style>\n",
       "\n",
       "<table>\n",
       "\n",
       "<caption>\n",
       "<span class=\"cell_title\">Edge params</span>\n",
       "</caption>\n",
       "<thead class=\"head_cell\">\n",
       "<th>edge</th><th>parent</th><th>length</th>\n",
       "</thead>\n",
       "<tbody>\n",
       "<tr><td><span class=\"c3col_left\">Galago</span></td><td><span class=\"c3col_left\">root</span></td><td><span class=\"c3col_right\">0.5232</span></td></tr>\n",
       "<tr><td><span class=\"c3col_left\">HowlerMon</span></td><td><span class=\"c3col_left\">root</span></td><td><span class=\"c3col_right\">0.1338</span></td></tr>\n",
       "<tr><td><span class=\"c3col_left\">Rhesus</span></td><td><span class=\"c3col_left\">edge.3</span></td><td><span class=\"c3col_right\">0.0640</span></td></tr>\n",
       "<tr><td><span class=\"c3col_left\">Orangutan</span></td><td><span class=\"c3col_left\">edge.2</span></td><td><span class=\"c3col_right\">0.0233</span></td></tr>\n",
       "<tr><td><span class=\"c3col_left\">Gorilla</span></td><td><span class=\"c3col_left\">edge.1</span></td><td><span class=\"c3col_right\">0.0075</span></td></tr>\n",
       "<tr><td><span class=\"c3col_left\">Human</span></td><td><span class=\"c3col_left\">edge.0</span></td><td><span class=\"c3col_right\">0.0182</span></td></tr>\n",
       "<tr><td><span class=\"c3col_left\">Chimpanzee</span></td><td><span class=\"c3col_left\">edge.0</span></td><td><span class=\"c3col_right\">0.0085</span></td></tr>\n",
       "<tr><td><span class=\"c3col_left\">edge.0</span></td><td><span class=\"c3col_left\">edge.1</span></td><td><span class=\"c3col_right\">0.0000</span></td></tr>\n",
       "<tr><td><span class=\"c3col_left\">edge.1</span></td><td><span class=\"c3col_left\">edge.2</span></td><td><span class=\"c3col_right\">0.0100</span></td></tr>\n",
       "<tr><td><span class=\"c3col_left\">edge.2</span></td><td><span class=\"c3col_left\">edge.3</span></td><td><span class=\"c3col_right\">0.0366</span></td></tr>\n",
       "<tr><td><span class=\"c3col_left\">edge.3</span></td><td><span class=\"c3col_left\">root</span></td><td><span class=\"c3col_right\">0.0238</span></td></tr>\n",
       "</tbody>\n",
       "</table>\n",
       "\n",
       "</div>\n",
       "\n",
       "<div class=\"c3table\">\n",
       "\n",
       "<style>\n",
       ".c3table table {margin: 10px 0;}\n",
       ".c3table tr:last-child {border-bottom: 1px solid #000;} \n",
       ".c3table tr > th {text-align: left; padding: 0 5px;}\n",
       ".c3table tr > td {text-align: left; padding: 5px;}\n",
       ".c3table tr:nth-child(even) {background: #f7f7f7 !important;}\n",
       ".c3table .ellipsis {background: rgba(0, 0, 0, .01);}\n",
       ".c3table .index {background: rgba(161, 195, 209, 0.0); margin: 10px; font-weight: 600;}\n",
       ".c3table .head_cell {background: rgba(161, 195, 209, 0.75); font-weight: bold; text-align: center;}\n",
       ".c3table caption {color: rgb(250, 250, 250); background: rgba(30, 140, 200, 1); padding: 3px; white-space: nowrap; caption-side: top;}\n",
       ".c3table .cell_title {font-weight: bold;}\n",
       ".c3col_left { text-align: left !important; display: block;}\n",
       ".c3col_right { text-align: right !important; display: block;}\n",
       ".c3col_center { text-align: center !important; display: block;}\n",
       "</style>\n",
       "\n",
       "<table>\n",
       "\n",
       "<caption>\n",
       "<span class=\"cell_title\">Motif params</span>\n",
       "</caption>\n",
       "<thead class=\"head_cell\">\n",
       "<th>AAA</th><th>AAC</th><th>AAG</th><th>AAT</th><th>ACA</th><th>ACC</th><th>ACG</th><th>ACT</th><th>AGA</th><th>AGC</th>\n",
       "</thead>\n",
       "<tbody>\n",
       "<tr><td><span class=\"c3col_right\">0.0556</span></td><td><span class=\"c3col_right\">0.0235</span></td><td><span class=\"c3col_right\">0.0344</span></td><td><span class=\"c3col_right\">0.0556</span></td><td><span class=\"c3col_right\">0.0228</span></td><td><span class=\"c3col_right\">0.0046</span></td><td><span class=\"c3col_right\">0.0008</span></td><td><span class=\"c3col_right\">0.0289</span></td><td><span class=\"c3col_right\">0.0231</span></td><td><span class=\"c3col_right\">0.0286</span></td></tr>\n",
       "</tbody>\n",
       "</table>\n",
       "\n",
       "<table>\n",
       "\n",
       "<caption>\n",
       "<span class=\"cell_title\">continuation</span>\n",
       "</caption>\n",
       "<thead class=\"head_cell\">\n",
       "<th>AGG</th><th>AGT</th><th>ATA</th><th>ATC</th><th>ATG</th><th>ATT</th><th>CAA</th><th>CAC</th><th>CAG</th><th>CAT</th>\n",
       "</thead>\n",
       "<tbody>\n",
       "<tr><td><span class=\"c3col_right\">0.0140</span></td><td><span class=\"c3col_right\">0.0381</span></td><td><span class=\"c3col_right\">0.0186</span></td><td><span class=\"c3col_right\">0.0070</span></td><td><span class=\"c3col_right\">0.0128</span></td><td><span class=\"c3col_right\">0.0192</span></td><td><span class=\"c3col_right\">0.0196</span></td><td><span class=\"c3col_right\">0.0052</span></td><td><span class=\"c3col_right\">0.0238</span></td><td><span class=\"c3col_right\">0.0221</span></td></tr>\n",
       "</tbody>\n",
       "</table>\n",
       "\n",
       "<table>\n",
       "\n",
       "<caption>\n",
       "<span class=\"cell_title\">continuation</span>\n",
       "</caption>\n",
       "<thead class=\"head_cell\">\n",
       "<th>CCA</th><th>CCC</th><th>CCG</th><th>CCT</th><th>CGA</th><th>CGC</th><th>CGG</th><th>CGT</th><th>CTA</th><th>CTC</th>\n",
       "</thead>\n",
       "<tbody>\n",
       "<tr><td><span class=\"c3col_right\">0.0195</span></td><td><span class=\"c3col_right\">0.0062</span></td><td><span class=\"c3col_right\">0.0006</span></td><td><span class=\"c3col_right\">0.0263</span></td><td><span class=\"c3col_right\">0.0011</span></td><td><span class=\"c3col_right\">0.0009</span></td><td><span class=\"c3col_right\">0.0023</span></td><td><span class=\"c3col_right\">0.0032</span></td><td><span class=\"c3col_right\">0.0137</span></td><td><span class=\"c3col_right\">0.0078</span></td></tr>\n",
       "</tbody>\n",
       "</table>\n",
       "\n",
       "<table>\n",
       "\n",
       "<caption>\n",
       "<span class=\"cell_title\">continuation</span>\n",
       "</caption>\n",
       "<thead class=\"head_cell\">\n",
       "<th>CTG</th><th>CTT</th><th>GAA</th><th>GAC</th><th>GAG</th><th>GAT</th><th>GCA</th><th>GCC</th><th>GCG</th><th>GCT</th>\n",
       "</thead>\n",
       "<tbody>\n",
       "<tr><td><span class=\"c3col_right\">0.0125</span></td><td><span class=\"c3col_right\">0.0105</span></td><td><span class=\"c3col_right\">0.0755</span></td><td><span class=\"c3col_right\">0.0105</span></td><td><span class=\"c3col_right\">0.0303</span></td><td><span class=\"c3col_right\">0.0315</span></td><td><span class=\"c3col_right\">0.0158</span></td><td><span class=\"c3col_right\">0.0096</span></td><td><span class=\"c3col_right\">0.0014</span></td><td><span class=\"c3col_right\">0.0137</span></td></tr>\n",
       "</tbody>\n",
       "</table>\n",
       "\n",
       "<table>\n",
       "\n",
       "<caption>\n",
       "<span class=\"cell_title\">continuation</span>\n",
       "</caption>\n",
       "<thead class=\"head_cell\">\n",
       "<th>GGA</th><th>GGC</th><th>GGG</th><th>GGT</th><th>GTA</th><th>GTC</th><th>GTG</th><th>GTT</th><th>TAC</th><th>TAT</th>\n",
       "</thead>\n",
       "<tbody>\n",
       "<tr><td><span class=\"c3col_right\">0.0161</span></td><td><span class=\"c3col_right\">0.0090</span></td><td><span class=\"c3col_right\">0.0067</span></td><td><span class=\"c3col_right\">0.0133</span></td><td><span class=\"c3col_right\">0.0148</span></td><td><span class=\"c3col_right\">0.0070</span></td><td><span class=\"c3col_right\">0.0069</span></td><td><span class=\"c3col_right\">0.0213</span></td><td><span class=\"c3col_right\">0.0023</span></td><td><span class=\"c3col_right\">0.0101</span></td></tr>\n",
       "</tbody>\n",
       "</table>\n",
       "\n",
       "<table>\n",
       "\n",
       "<caption>\n",
       "<span class=\"cell_title\">continuation</span>\n",
       "</caption>\n",
       "<thead class=\"head_cell\">\n",
       "<th>TCA</th><th>TCC</th><th>TCG</th><th>TCT</th><th>TGC</th><th>TGG</th><th>TGT</th><th>TTA</th><th>TTC</th><th>TTG</th>\n",
       "</thead>\n",
       "<tbody>\n",
       "<tr><td><span class=\"c3col_right\">0.0221</span></td><td><span class=\"c3col_right\">0.0082</span></td><td><span class=\"c3col_right\">0.0015</span></td><td><span class=\"c3col_right\">0.0251</span></td><td><span class=\"c3col_right\">0.0018</span></td><td><span class=\"c3col_right\">0.0040</span></td><td><span class=\"c3col_right\">0.0201</span></td><td><span class=\"c3col_right\">0.0212</span></td><td><span class=\"c3col_right\">0.0078</span></td><td><span class=\"c3col_right\">0.0108</span></td></tr>\n",
       "</tbody>\n",
       "</table>\n",
       "\n",
       "<table>\n",
       "\n",
       "<caption>\n",
       "<span class=\"cell_title\">continuation</span>\n",
       "</caption>\n",
       "<thead class=\"head_cell\">\n",
       "<th>TTT</th>\n",
       "</thead>\n",
       "<tbody>\n",
       "<tr><td><span class=\"c3col_right\">0.0187</span></td></tr>\n",
       "</tbody>\n",
       "</table>\n",
       "\n",
       "</div>"
      ],
      "text/plain": [
       "GNC\n",
       "log-likelihood = -6713.2733\n",
       "number of free parameters = 23\n",
       "============================================================================\n",
       "   A>C       A>G       A>T       C>A       C>G       C>T       G>A       G>C\n",
       "----------------------------------------------------------------------------\n",
       "0.8615    3.5374    0.9792    1.6668    2.2042    6.2567    7.9197    1.2253\n",
       "----------------------------------------------------------------------------\n",
       "\n",
       "continued: \n",
       "====================================\n",
       "   G>T       T>A       T>C     omega\n",
       "------------------------------------\n",
       "0.8015    1.2911    3.0724    0.8204\n",
       "------------------------------------\n",
       "\n",
       "==============================\n",
       "edge          parent    length\n",
       "------------------------------\n",
       "Galago        root      0.5232\n",
       "HowlerMon     root      0.1338\n",
       "Rhesus        edge.3    0.0640\n",
       "Orangutan     edge.2    0.0233\n",
       "Gorilla       edge.1    0.0075\n",
       "Human         edge.0    0.0182\n",
       "Chimpanzee    edge.0    0.0085\n",
       "edge.0        edge.1    0.0000\n",
       "edge.1        edge.2    0.0100\n",
       "edge.2        edge.3    0.0366\n",
       "edge.3        root      0.0238\n",
       "------------------------------\n",
       "============================================================================\n",
       "   AAA       AAC       AAG       AAT       ACA       ACC       ACG       ACT\n",
       "----------------------------------------------------------------------------\n",
       "0.0556    0.0235    0.0344    0.0556    0.0228    0.0046    0.0008    0.0289\n",
       "----------------------------------------------------------------------------\n",
       "\n",
       "continued: \n",
       "============================================================================\n",
       "   AGA       AGC       AGG       AGT       ATA       ATC       ATG       ATT\n",
       "----------------------------------------------------------------------------\n",
       "0.0231    0.0286    0.0140    0.0381    0.0186    0.0070    0.0128    0.0192\n",
       "----------------------------------------------------------------------------\n",
       "\n",
       "continued: \n",
       "============================================================================\n",
       "   CAA       CAC       CAG       CAT       CCA       CCC       CCG       CCT\n",
       "----------------------------------------------------------------------------\n",
       "0.0196    0.0052    0.0238    0.0221    0.0195    0.0062    0.0006    0.0263\n",
       "----------------------------------------------------------------------------\n",
       "\n",
       "continued: \n",
       "============================================================================\n",
       "   CGA       CGC       CGG       CGT       CTA       CTC       CTG       CTT\n",
       "----------------------------------------------------------------------------\n",
       "0.0011    0.0009    0.0023    0.0032    0.0137    0.0078    0.0125    0.0105\n",
       "----------------------------------------------------------------------------\n",
       "\n",
       "continued: \n",
       "============================================================================\n",
       "   GAA       GAC       GAG       GAT       GCA       GCC       GCG       GCT\n",
       "----------------------------------------------------------------------------\n",
       "0.0755    0.0105    0.0303    0.0315    0.0158    0.0096    0.0014    0.0137\n",
       "----------------------------------------------------------------------------\n",
       "\n",
       "continued: \n",
       "============================================================================\n",
       "   GGA       GGC       GGG       GGT       GTA       GTC       GTG       GTT\n",
       "----------------------------------------------------------------------------\n",
       "0.0161    0.0090    0.0067    0.0133    0.0148    0.0070    0.0069    0.0213\n",
       "----------------------------------------------------------------------------\n",
       "\n",
       "continued: \n",
       "============================================================================\n",
       "   TAC       TAT       TCA       TCC       TCG       TCT       TGC       TGG\n",
       "----------------------------------------------------------------------------\n",
       "0.0023    0.0101    0.0221    0.0082    0.0015    0.0251    0.0018    0.0040\n",
       "----------------------------------------------------------------------------\n",
       "\n",
       "continued: \n",
       "==============================================\n",
       "   TGT       TTA       TTC       TTG       TTT\n",
       "----------------------------------------------\n",
       "0.0201    0.0212    0.0078    0.0108    0.0187\n",
       "----------------------------------------------"
      ]
     },
     "execution_count": 4,
     "metadata": {},
     "output_type": "execute_result"
    }
   ],
   "source": [
    "result.lf"
   ]
  },
  {
   "cell_type": "code",
   "execution_count": 5,
   "id": "57e3dda2",
   "metadata": {
    "execution": {
     "iopub.execute_input": "2023-12-15T00:07:00.878504Z",
     "iopub.status.busy": "2023-12-15T00:07:00.878087Z",
     "iopub.status.idle": "2023-12-15T00:07:01.107406Z",
     "shell.execute_reply": "2023-12-15T00:07:01.106842Z"
    }
   },
   "outputs": [
    {
     "data": {
      "text/html": [
       "<script type=\"text/javascript\">\n",
       "window.PlotlyConfig = {MathJaxConfig: 'local'};\n",
       "if (window.MathJax && window.MathJax.Hub && window.MathJax.Hub.Config) {window.MathJax.Hub.Config({SVG: {font: \"STIX-Web\"}});}\n",
       "if (typeof require !== 'undefined') {\n",
       "require.undef(\"plotly\");\n",
       "requirejs.config({\n",
       "    paths: {\n",
       "        'plotly': ['https://cdn.plot.ly/plotly-2.20.0.min']\n",
       "    }\n",
       "});\n",
       "require(['plotly'], function(Plotly) {\n",
       "    window._Plotly = Plotly;\n",
       "});\n",
       "}\n",
       "</script>\n"
      ]
     },
     "metadata": {},
     "output_type": "display_data"
    },
    {
     "data": {
      "application/vnd.plotly.v1+json": {
       "config": {
        "plotlyServerURL": "https://plot.ly"
       },
       "data": [
        {
         "line": {
          "color": "black",
          "shape": "spline",
          "smoothing": 1.3,
          "width": 1.25
         },
         "mode": "lines",
         "showlegend": false,
         "type": "scatter",
         "x": [
          null,
          null,
          0,
          0,
          null,
          0,
          0.023784521182886268,
          null,
          0.023784521182886268,
          0.023784521182886268,
          null,
          0.023784521182886268,
          0.06038502469779693,
          null,
          0.06038502469779693,
          0.06038502469779693,
          null,
          0.06038502469779693,
          0.07033518569478521,
          null,
          0.07033518569478521,
          0.07033518569478521,
          null,
          0.07033518569478521,
          0.07033518570367425,
          null,
          0.07033518570367425,
          0.07033518570367425,
          null,
          0.07033518570367425,
          0.07884953572011162,
          null,
          0.07033518570367425,
          0.07033518570367425,
          null,
          0.07033518570367425,
          0.08848629503733749,
          null,
          0.07033518569478521,
          0.07033518569478521,
          null,
          0.07033518569478521,
          0.07778621134506862,
          null,
          0.06038502469779693,
          0.06038502469779693,
          null,
          0.06038502469779693,
          0.08369949741331714,
          null,
          0.023784521182886268,
          0.023784521182886268,
          null,
          0.023784521182886268,
          0.08770704949047574,
          null,
          0,
          0,
          null,
          0,
          0.13367315703095978,
          null,
          0,
          0,
          null,
          0,
          0.5212520696937215,
          null
         ],
         "y": [
          null,
          null,
          -2.6,
          -0.08125000000000004,
          null,
          -0.08125000000000004,
          -0.08125000000000004,
          null,
          -0.08125000000000004,
          1.1375,
          null,
          1.1375,
          1.1375,
          null,
          1.1375,
          2.275,
          null,
          2.275,
          2.275,
          null,
          2.275,
          3.25,
          null,
          3.25,
          3.25,
          null,
          3.25,
          3.9000000000000004,
          null,
          3.9000000000000004,
          3.9000000000000004,
          null,
          3.25,
          2.6,
          null,
          2.6,
          2.6,
          null,
          2.275,
          1.3,
          null,
          1.3,
          1.3,
          null,
          1.1375,
          0.0,
          null,
          0.0,
          0.0,
          null,
          -0.08125000000000004,
          -1.3,
          null,
          -1.3,
          -1.3,
          null,
          -2.6,
          -2.6,
          null,
          -2.6,
          -2.6,
          null,
          -2.6,
          -3.9000000000000004,
          null,
          -3.9000000000000004,
          -3.9000000000000004,
          null
         ]
        },
        {
         "hoverinfo": "text",
         "marker": {
          "color": "black",
          "size": 3,
          "symbol": "circle"
         },
         "mode": "markers",
         "showlegend": false,
         "text": [
          "root",
          "edge.3",
          "edge.2",
          "edge.1",
          "edge.0",
          "Chimpanzee",
          "Human",
          "Gorilla",
          "Orangutan",
          "Rhesus",
          "HowlerMon",
          "Galago"
         ],
         "type": "scatter",
         "x": [
          0,
          0.023784521182886268,
          0.06038502469779693,
          0.07033518569478521,
          0.07033518570367425,
          0.07884953572011162,
          0.08848629503733749,
          0.07778621134506862,
          0.08369949741331714,
          0.08770704949047574,
          0.13367315703095978,
          0.5212520696937215
         ],
         "y": [
          -2.6,
          -0.08125000000000004,
          1.1375,
          2.275,
          3.25,
          3.9000000000000004,
          2.6,
          1.3,
          0.0,
          -1.3,
          -2.6,
          -3.9000000000000004
         ]
        }
       ],
       "layout": {
        "annotations": [
         {
          "font": {
           "family": "Inconsolata, monospace",
           "size": 12
          },
          "showarrow": false,
          "text": "Chimpanzee",
          "textangle": 0,
          "x": 0.09188083746245466,
          "xanchor": "left",
          "xref": "x",
          "y": 3.9000000000000004,
          "yref": "y"
         },
         {
          "font": {
           "family": "Inconsolata, monospace",
           "size": 12
          },
          "showarrow": false,
          "text": "Human",
          "textangle": 0,
          "x": 0.10151759677968053,
          "xanchor": "left",
          "xref": "x",
          "y": 2.6,
          "yref": "y"
         },
         {
          "font": {
           "family": "Inconsolata, monospace",
           "size": 12
          },
          "showarrow": false,
          "text": "Gorilla",
          "textangle": 0,
          "x": 0.09081751308741166,
          "xanchor": "left",
          "xref": "x",
          "y": 1.3,
          "yref": "y"
         },
         {
          "font": {
           "family": "Inconsolata, monospace",
           "size": 12
          },
          "showarrow": false,
          "text": "Orangutan",
          "textangle": 0,
          "x": 0.09673079915566019,
          "xanchor": "left",
          "xref": "x",
          "y": 0.0,
          "yref": "y"
         },
         {
          "font": {
           "family": "Inconsolata, monospace",
           "size": 12
          },
          "showarrow": false,
          "text": "Rhesus",
          "textangle": 0,
          "x": 0.10073835123281878,
          "xanchor": "left",
          "xref": "x",
          "y": -1.3,
          "yref": "y"
         },
         {
          "font": {
           "family": "Inconsolata, monospace",
           "size": 12
          },
          "showarrow": false,
          "text": "HowlerMon",
          "textangle": 0,
          "x": 0.14670445877330282,
          "xanchor": "left",
          "xref": "x",
          "y": -2.6,
          "yref": "y"
         },
         {
          "font": {
           "family": "Inconsolata, monospace",
           "size": 12
          },
          "showarrow": false,
          "text": "Galago",
          "textangle": 0,
          "x": 0.5342833714360645,
          "xanchor": "left",
          "xref": "x",
          "y": -3.9000000000000004,
          "yref": "y"
         },
         {
          "ax": 0,
          "ay": 0,
          "showarrow": false,
          "text": "0.05",
          "x": 0.5473146731784075,
          "xref": "x",
          "y": 4.609090909090909,
          "yref": "y",
          "yshift": 10
         }
        ],
        "autosize": true,
        "font": {
         "family": "Balto",
         "size": 14
        },
        "height": 500,
        "hovermode": "closest",
        "margin": {
         "b": 50,
         "l": 50,
         "pad": 4,
         "r": 50,
         "t": 50
        },
        "shapes": [
         {
          "line": {
           "color": "black",
           "width": 1.25
          },
          "name": "scale_bar",
          "type": "line",
          "x0": 0.5212520696937215,
          "x1": 0.5733772766630937,
          "y0": 4.609090909090909,
          "y1": 4.609090909090909
         }
        ],
        "showlegend": false,
        "template": {
         "data": {
          "bar": [
           {
            "error_x": {
             "color": "#2a3f5f"
            },
            "error_y": {
             "color": "#2a3f5f"
            },
            "marker": {
             "line": {
              "color": "#E5ECF6",
              "width": 0.5
             },
             "pattern": {
              "fillmode": "overlay",
              "size": 10,
              "solidity": 0.2
             }
            },
            "type": "bar"
           }
          ],
          "barpolar": [
           {
            "marker": {
             "line": {
              "color": "#E5ECF6",
              "width": 0.5
             },
             "pattern": {
              "fillmode": "overlay",
              "size": 10,
              "solidity": 0.2
             }
            },
            "type": "barpolar"
           }
          ],
          "carpet": [
           {
            "aaxis": {
             "endlinecolor": "#2a3f5f",
             "gridcolor": "white",
             "linecolor": "white",
             "minorgridcolor": "white",
             "startlinecolor": "#2a3f5f"
            },
            "baxis": {
             "endlinecolor": "#2a3f5f",
             "gridcolor": "white",
             "linecolor": "white",
             "minorgridcolor": "white",
             "startlinecolor": "#2a3f5f"
            },
            "type": "carpet"
           }
          ],
          "choropleth": [
           {
            "colorbar": {
             "outlinewidth": 0,
             "ticks": ""
            },
            "type": "choropleth"
           }
          ],
          "contour": [
           {
            "colorbar": {
             "outlinewidth": 0,
             "ticks": ""
            },
            "colorscale": [
             [
              0.0,
              "#0d0887"
             ],
             [
              0.1111111111111111,
              "#46039f"
             ],
             [
              0.2222222222222222,
              "#7201a8"
             ],
             [
              0.3333333333333333,
              "#9c179e"
             ],
             [
              0.4444444444444444,
              "#bd3786"
             ],
             [
              0.5555555555555556,
              "#d8576b"
             ],
             [
              0.6666666666666666,
              "#ed7953"
             ],
             [
              0.7777777777777778,
              "#fb9f3a"
             ],
             [
              0.8888888888888888,
              "#fdca26"
             ],
             [
              1.0,
              "#f0f921"
             ]
            ],
            "type": "contour"
           }
          ],
          "contourcarpet": [
           {
            "colorbar": {
             "outlinewidth": 0,
             "ticks": ""
            },
            "type": "contourcarpet"
           }
          ],
          "heatmap": [
           {
            "colorbar": {
             "outlinewidth": 0,
             "ticks": ""
            },
            "colorscale": [
             [
              0.0,
              "#0d0887"
             ],
             [
              0.1111111111111111,
              "#46039f"
             ],
             [
              0.2222222222222222,
              "#7201a8"
             ],
             [
              0.3333333333333333,
              "#9c179e"
             ],
             [
              0.4444444444444444,
              "#bd3786"
             ],
             [
              0.5555555555555556,
              "#d8576b"
             ],
             [
              0.6666666666666666,
              "#ed7953"
             ],
             [
              0.7777777777777778,
              "#fb9f3a"
             ],
             [
              0.8888888888888888,
              "#fdca26"
             ],
             [
              1.0,
              "#f0f921"
             ]
            ],
            "type": "heatmap"
           }
          ],
          "heatmapgl": [
           {
            "colorbar": {
             "outlinewidth": 0,
             "ticks": ""
            },
            "colorscale": [
             [
              0.0,
              "#0d0887"
             ],
             [
              0.1111111111111111,
              "#46039f"
             ],
             [
              0.2222222222222222,
              "#7201a8"
             ],
             [
              0.3333333333333333,
              "#9c179e"
             ],
             [
              0.4444444444444444,
              "#bd3786"
             ],
             [
              0.5555555555555556,
              "#d8576b"
             ],
             [
              0.6666666666666666,
              "#ed7953"
             ],
             [
              0.7777777777777778,
              "#fb9f3a"
             ],
             [
              0.8888888888888888,
              "#fdca26"
             ],
             [
              1.0,
              "#f0f921"
             ]
            ],
            "type": "heatmapgl"
           }
          ],
          "histogram": [
           {
            "marker": {
             "pattern": {
              "fillmode": "overlay",
              "size": 10,
              "solidity": 0.2
             }
            },
            "type": "histogram"
           }
          ],
          "histogram2d": [
           {
            "colorbar": {
             "outlinewidth": 0,
             "ticks": ""
            },
            "colorscale": [
             [
              0.0,
              "#0d0887"
             ],
             [
              0.1111111111111111,
              "#46039f"
             ],
             [
              0.2222222222222222,
              "#7201a8"
             ],
             [
              0.3333333333333333,
              "#9c179e"
             ],
             [
              0.4444444444444444,
              "#bd3786"
             ],
             [
              0.5555555555555556,
              "#d8576b"
             ],
             [
              0.6666666666666666,
              "#ed7953"
             ],
             [
              0.7777777777777778,
              "#fb9f3a"
             ],
             [
              0.8888888888888888,
              "#fdca26"
             ],
             [
              1.0,
              "#f0f921"
             ]
            ],
            "type": "histogram2d"
           }
          ],
          "histogram2dcontour": [
           {
            "colorbar": {
             "outlinewidth": 0,
             "ticks": ""
            },
            "colorscale": [
             [
              0.0,
              "#0d0887"
             ],
             [
              0.1111111111111111,
              "#46039f"
             ],
             [
              0.2222222222222222,
              "#7201a8"
             ],
             [
              0.3333333333333333,
              "#9c179e"
             ],
             [
              0.4444444444444444,
              "#bd3786"
             ],
             [
              0.5555555555555556,
              "#d8576b"
             ],
             [
              0.6666666666666666,
              "#ed7953"
             ],
             [
              0.7777777777777778,
              "#fb9f3a"
             ],
             [
              0.8888888888888888,
              "#fdca26"
             ],
             [
              1.0,
              "#f0f921"
             ]
            ],
            "type": "histogram2dcontour"
           }
          ],
          "mesh3d": [
           {
            "colorbar": {
             "outlinewidth": 0,
             "ticks": ""
            },
            "type": "mesh3d"
           }
          ],
          "parcoords": [
           {
            "line": {
             "colorbar": {
              "outlinewidth": 0,
              "ticks": ""
             }
            },
            "type": "parcoords"
           }
          ],
          "pie": [
           {
            "automargin": true,
            "type": "pie"
           }
          ],
          "scatter": [
           {
            "fillpattern": {
             "fillmode": "overlay",
             "size": 10,
             "solidity": 0.2
            },
            "type": "scatter"
           }
          ],
          "scatter3d": [
           {
            "line": {
             "colorbar": {
              "outlinewidth": 0,
              "ticks": ""
             }
            },
            "marker": {
             "colorbar": {
              "outlinewidth": 0,
              "ticks": ""
             }
            },
            "type": "scatter3d"
           }
          ],
          "scattercarpet": [
           {
            "marker": {
             "colorbar": {
              "outlinewidth": 0,
              "ticks": ""
             }
            },
            "type": "scattercarpet"
           }
          ],
          "scattergeo": [
           {
            "marker": {
             "colorbar": {
              "outlinewidth": 0,
              "ticks": ""
             }
            },
            "type": "scattergeo"
           }
          ],
          "scattergl": [
           {
            "marker": {
             "colorbar": {
              "outlinewidth": 0,
              "ticks": ""
             }
            },
            "type": "scattergl"
           }
          ],
          "scattermapbox": [
           {
            "marker": {
             "colorbar": {
              "outlinewidth": 0,
              "ticks": ""
             }
            },
            "type": "scattermapbox"
           }
          ],
          "scatterpolar": [
           {
            "marker": {
             "colorbar": {
              "outlinewidth": 0,
              "ticks": ""
             }
            },
            "type": "scatterpolar"
           }
          ],
          "scatterpolargl": [
           {
            "marker": {
             "colorbar": {
              "outlinewidth": 0,
              "ticks": ""
             }
            },
            "type": "scatterpolargl"
           }
          ],
          "scatterternary": [
           {
            "marker": {
             "colorbar": {
              "outlinewidth": 0,
              "ticks": ""
             }
            },
            "type": "scatterternary"
           }
          ],
          "surface": [
           {
            "colorbar": {
             "outlinewidth": 0,
             "ticks": ""
            },
            "colorscale": [
             [
              0.0,
              "#0d0887"
             ],
             [
              0.1111111111111111,
              "#46039f"
             ],
             [
              0.2222222222222222,
              "#7201a8"
             ],
             [
              0.3333333333333333,
              "#9c179e"
             ],
             [
              0.4444444444444444,
              "#bd3786"
             ],
             [
              0.5555555555555556,
              "#d8576b"
             ],
             [
              0.6666666666666666,
              "#ed7953"
             ],
             [
              0.7777777777777778,
              "#fb9f3a"
             ],
             [
              0.8888888888888888,
              "#fdca26"
             ],
             [
              1.0,
              "#f0f921"
             ]
            ],
            "type": "surface"
           }
          ],
          "table": [
           {
            "cells": {
             "fill": {
              "color": "#EBF0F8"
             },
             "line": {
              "color": "white"
             }
            },
            "header": {
             "fill": {
              "color": "#C8D4E3"
             },
             "line": {
              "color": "white"
             }
            },
            "type": "table"
           }
          ]
         },
         "layout": {
          "annotationdefaults": {
           "arrowcolor": "#2a3f5f",
           "arrowhead": 0,
           "arrowwidth": 1
          },
          "autotypenumbers": "strict",
          "coloraxis": {
           "colorbar": {
            "outlinewidth": 0,
            "ticks": ""
           }
          },
          "colorscale": {
           "diverging": [
            [
             0,
             "#8e0152"
            ],
            [
             0.1,
             "#c51b7d"
            ],
            [
             0.2,
             "#de77ae"
            ],
            [
             0.3,
             "#f1b6da"
            ],
            [
             0.4,
             "#fde0ef"
            ],
            [
             0.5,
             "#f7f7f7"
            ],
            [
             0.6,
             "#e6f5d0"
            ],
            [
             0.7,
             "#b8e186"
            ],
            [
             0.8,
             "#7fbc41"
            ],
            [
             0.9,
             "#4d9221"
            ],
            [
             1,
             "#276419"
            ]
           ],
           "sequential": [
            [
             0.0,
             "#0d0887"
            ],
            [
             0.1111111111111111,
             "#46039f"
            ],
            [
             0.2222222222222222,
             "#7201a8"
            ],
            [
             0.3333333333333333,
             "#9c179e"
            ],
            [
             0.4444444444444444,
             "#bd3786"
            ],
            [
             0.5555555555555556,
             "#d8576b"
            ],
            [
             0.6666666666666666,
             "#ed7953"
            ],
            [
             0.7777777777777778,
             "#fb9f3a"
            ],
            [
             0.8888888888888888,
             "#fdca26"
            ],
            [
             1.0,
             "#f0f921"
            ]
           ],
           "sequentialminus": [
            [
             0.0,
             "#0d0887"
            ],
            [
             0.1111111111111111,
             "#46039f"
            ],
            [
             0.2222222222222222,
             "#7201a8"
            ],
            [
             0.3333333333333333,
             "#9c179e"
            ],
            [
             0.4444444444444444,
             "#bd3786"
            ],
            [
             0.5555555555555556,
             "#d8576b"
            ],
            [
             0.6666666666666666,
             "#ed7953"
            ],
            [
             0.7777777777777778,
             "#fb9f3a"
            ],
            [
             0.8888888888888888,
             "#fdca26"
            ],
            [
             1.0,
             "#f0f921"
            ]
           ]
          },
          "colorway": [
           "#636efa",
           "#EF553B",
           "#00cc96",
           "#ab63fa",
           "#FFA15A",
           "#19d3f3",
           "#FF6692",
           "#B6E880",
           "#FF97FF",
           "#FECB52"
          ],
          "font": {
           "color": "#2a3f5f"
          },
          "geo": {
           "bgcolor": "white",
           "lakecolor": "white",
           "landcolor": "#E5ECF6",
           "showlakes": true,
           "showland": true,
           "subunitcolor": "white"
          },
          "hoverlabel": {
           "align": "left"
          },
          "hovermode": "closest",
          "mapbox": {
           "style": "light"
          },
          "paper_bgcolor": "white",
          "plot_bgcolor": "#E5ECF6",
          "polar": {
           "angularaxis": {
            "gridcolor": "white",
            "linecolor": "white",
            "ticks": ""
           },
           "bgcolor": "#E5ECF6",
           "radialaxis": {
            "gridcolor": "white",
            "linecolor": "white",
            "ticks": ""
           }
          },
          "scene": {
           "xaxis": {
            "backgroundcolor": "#E5ECF6",
            "gridcolor": "white",
            "gridwidth": 2,
            "linecolor": "white",
            "showbackground": true,
            "ticks": "",
            "zerolinecolor": "white"
           },
           "yaxis": {
            "backgroundcolor": "#E5ECF6",
            "gridcolor": "white",
            "gridwidth": 2,
            "linecolor": "white",
            "showbackground": true,
            "ticks": "",
            "zerolinecolor": "white"
           },
           "zaxis": {
            "backgroundcolor": "#E5ECF6",
            "gridcolor": "white",
            "gridwidth": 2,
            "linecolor": "white",
            "showbackground": true,
            "ticks": "",
            "zerolinecolor": "white"
           }
          },
          "shapedefaults": {
           "line": {
            "color": "#2a3f5f"
           }
          },
          "ternary": {
           "aaxis": {
            "gridcolor": "white",
            "linecolor": "white",
            "ticks": ""
           },
           "baxis": {
            "gridcolor": "white",
            "linecolor": "white",
            "ticks": ""
           },
           "bgcolor": "#E5ECF6",
           "caxis": {
            "gridcolor": "white",
            "linecolor": "white",
            "ticks": ""
           }
          },
          "title": {
           "x": 0.05
          },
          "xaxis": {
           "automargin": true,
           "gridcolor": "white",
           "linecolor": "white",
           "ticks": "",
           "title": {
            "standoff": 15
           },
           "zerolinecolor": "white",
           "zerolinewidth": 2
          },
          "yaxis": {
           "automargin": true,
           "gridcolor": "white",
           "linecolor": "white",
           "ticks": "",
           "title": {
            "standoff": 15
           },
           "zerolinecolor": "white",
           "zerolinewidth": 2
          }
         }
        },
        "width": 500,
        "xaxis": {
         "visible": false
        },
        "yaxis": {
         "visible": false
        }
       }
      },
      "text/html": [
       "<div>                            <div id=\"f70ff330-db15-4265-aa36-76515aeafc80\" class=\"plotly-graph-div\" style=\"height:500px; width:500px;\"></div>            <script type=\"text/javascript\">                require([\"plotly\"], function(Plotly) {                    window.PLOTLYENV=window.PLOTLYENV || {};                                    if (document.getElementById(\"f70ff330-db15-4265-aa36-76515aeafc80\")) {                    Plotly.newPlot(                        \"f70ff330-db15-4265-aa36-76515aeafc80\",                        [{\"line\":{\"color\":\"black\",\"shape\":\"spline\",\"smoothing\":1.3,\"width\":1.25},\"mode\":\"lines\",\"showlegend\":false,\"x\":[null,null,0,0,null,0,0.023784521182886268,null,0.023784521182886268,0.023784521182886268,null,0.023784521182886268,0.06038502469779693,null,0.06038502469779693,0.06038502469779693,null,0.06038502469779693,0.07033518569478521,null,0.07033518569478521,0.07033518569478521,null,0.07033518569478521,0.07033518570367425,null,0.07033518570367425,0.07033518570367425,null,0.07033518570367425,0.07884953572011162,null,0.07033518570367425,0.07033518570367425,null,0.07033518570367425,0.08848629503733749,null,0.07033518569478521,0.07033518569478521,null,0.07033518569478521,0.07778621134506862,null,0.06038502469779693,0.06038502469779693,null,0.06038502469779693,0.08369949741331714,null,0.023784521182886268,0.023784521182886268,null,0.023784521182886268,0.08770704949047574,null,0,0,null,0,0.13367315703095978,null,0,0,null,0,0.5212520696937215,null],\"y\":[null,null,-2.6,-0.08125000000000004,null,-0.08125000000000004,-0.08125000000000004,null,-0.08125000000000004,1.1375,null,1.1375,1.1375,null,1.1375,2.275,null,2.275,2.275,null,2.275,3.25,null,3.25,3.25,null,3.25,3.9000000000000004,null,3.9000000000000004,3.9000000000000004,null,3.25,2.6,null,2.6,2.6,null,2.275,1.3,null,1.3,1.3,null,1.1375,0.0,null,0.0,0.0,null,-0.08125000000000004,-1.3,null,-1.3,-1.3,null,-2.6,-2.6,null,-2.6,-2.6,null,-2.6,-3.9000000000000004,null,-3.9000000000000004,-3.9000000000000004,null],\"type\":\"scatter\"},{\"hoverinfo\":\"text\",\"marker\":{\"color\":\"black\",\"size\":3,\"symbol\":\"circle\"},\"mode\":\"markers\",\"showlegend\":false,\"text\":[\"root\",\"edge.3\",\"edge.2\",\"edge.1\",\"edge.0\",\"Chimpanzee\",\"Human\",\"Gorilla\",\"Orangutan\",\"Rhesus\",\"HowlerMon\",\"Galago\"],\"x\":[0,0.023784521182886268,0.06038502469779693,0.07033518569478521,0.07033518570367425,0.07884953572011162,0.08848629503733749,0.07778621134506862,0.08369949741331714,0.08770704949047574,0.13367315703095978,0.5212520696937215],\"y\":[-2.6,-0.08125000000000004,1.1375,2.275,3.25,3.9000000000000004,2.6,1.3,0.0,-1.3,-2.6,-3.9000000000000004],\"type\":\"scatter\"}],                        {\"annotations\":[{\"font\":{\"family\":\"Inconsolata, monospace\",\"size\":12},\"showarrow\":false,\"text\":\"Chimpanzee\",\"textangle\":0,\"x\":0.09188083746245466,\"xanchor\":\"left\",\"xref\":\"x\",\"y\":3.9000000000000004,\"yref\":\"y\"},{\"font\":{\"family\":\"Inconsolata, monospace\",\"size\":12},\"showarrow\":false,\"text\":\"Human\",\"textangle\":0,\"x\":0.10151759677968053,\"xanchor\":\"left\",\"xref\":\"x\",\"y\":2.6,\"yref\":\"y\"},{\"font\":{\"family\":\"Inconsolata, monospace\",\"size\":12},\"showarrow\":false,\"text\":\"Gorilla\",\"textangle\":0,\"x\":0.09081751308741166,\"xanchor\":\"left\",\"xref\":\"x\",\"y\":1.3,\"yref\":\"y\"},{\"font\":{\"family\":\"Inconsolata, monospace\",\"size\":12},\"showarrow\":false,\"text\":\"Orangutan\",\"textangle\":0,\"x\":0.09673079915566019,\"xanchor\":\"left\",\"xref\":\"x\",\"y\":0.0,\"yref\":\"y\"},{\"font\":{\"family\":\"Inconsolata, monospace\",\"size\":12},\"showarrow\":false,\"text\":\"Rhesus\",\"textangle\":0,\"x\":0.10073835123281878,\"xanchor\":\"left\",\"xref\":\"x\",\"y\":-1.3,\"yref\":\"y\"},{\"font\":{\"family\":\"Inconsolata, monospace\",\"size\":12},\"showarrow\":false,\"text\":\"HowlerMon\",\"textangle\":0,\"x\":0.14670445877330282,\"xanchor\":\"left\",\"xref\":\"x\",\"y\":-2.6,\"yref\":\"y\"},{\"font\":{\"family\":\"Inconsolata, monospace\",\"size\":12},\"showarrow\":false,\"text\":\"Galago\",\"textangle\":0,\"x\":0.5342833714360645,\"xanchor\":\"left\",\"xref\":\"x\",\"y\":-3.9000000000000004,\"yref\":\"y\"},{\"ax\":0,\"ay\":0,\"showarrow\":false,\"text\":\"0.05\",\"x\":0.5473146731784075,\"xref\":\"x\",\"y\":4.609090909090909,\"yref\":\"y\",\"yshift\":10}],\"autosize\":true,\"font\":{\"family\":\"Balto\",\"size\":14},\"height\":500,\"hovermode\":\"closest\",\"margin\":{\"b\":50,\"l\":50,\"pad\":4,\"r\":50,\"t\":50},\"shapes\":[{\"line\":{\"color\":\"black\",\"width\":1.25},\"name\":\"scale_bar\",\"type\":\"line\",\"x0\":0.5212520696937215,\"x1\":0.5733772766630937,\"y0\":4.609090909090909,\"y1\":4.609090909090909}],\"showlegend\":false,\"width\":500,\"xaxis\":{\"visible\":false},\"yaxis\":{\"visible\":false},\"template\":{\"data\":{\"histogram2dcontour\":[{\"type\":\"histogram2dcontour\",\"colorbar\":{\"outlinewidth\":0,\"ticks\":\"\"},\"colorscale\":[[0.0,\"#0d0887\"],[0.1111111111111111,\"#46039f\"],[0.2222222222222222,\"#7201a8\"],[0.3333333333333333,\"#9c179e\"],[0.4444444444444444,\"#bd3786\"],[0.5555555555555556,\"#d8576b\"],[0.6666666666666666,\"#ed7953\"],[0.7777777777777778,\"#fb9f3a\"],[0.8888888888888888,\"#fdca26\"],[1.0,\"#f0f921\"]]}],\"choropleth\":[{\"type\":\"choropleth\",\"colorbar\":{\"outlinewidth\":0,\"ticks\":\"\"}}],\"histogram2d\":[{\"type\":\"histogram2d\",\"colorbar\":{\"outlinewidth\":0,\"ticks\":\"\"},\"colorscale\":[[0.0,\"#0d0887\"],[0.1111111111111111,\"#46039f\"],[0.2222222222222222,\"#7201a8\"],[0.3333333333333333,\"#9c179e\"],[0.4444444444444444,\"#bd3786\"],[0.5555555555555556,\"#d8576b\"],[0.6666666666666666,\"#ed7953\"],[0.7777777777777778,\"#fb9f3a\"],[0.8888888888888888,\"#fdca26\"],[1.0,\"#f0f921\"]]}],\"heatmap\":[{\"type\":\"heatmap\",\"colorbar\":{\"outlinewidth\":0,\"ticks\":\"\"},\"colorscale\":[[0.0,\"#0d0887\"],[0.1111111111111111,\"#46039f\"],[0.2222222222222222,\"#7201a8\"],[0.3333333333333333,\"#9c179e\"],[0.4444444444444444,\"#bd3786\"],[0.5555555555555556,\"#d8576b\"],[0.6666666666666666,\"#ed7953\"],[0.7777777777777778,\"#fb9f3a\"],[0.8888888888888888,\"#fdca26\"],[1.0,\"#f0f921\"]]}],\"heatmapgl\":[{\"type\":\"heatmapgl\",\"colorbar\":{\"outlinewidth\":0,\"ticks\":\"\"},\"colorscale\":[[0.0,\"#0d0887\"],[0.1111111111111111,\"#46039f\"],[0.2222222222222222,\"#7201a8\"],[0.3333333333333333,\"#9c179e\"],[0.4444444444444444,\"#bd3786\"],[0.5555555555555556,\"#d8576b\"],[0.6666666666666666,\"#ed7953\"],[0.7777777777777778,\"#fb9f3a\"],[0.8888888888888888,\"#fdca26\"],[1.0,\"#f0f921\"]]}],\"contourcarpet\":[{\"type\":\"contourcarpet\",\"colorbar\":{\"outlinewidth\":0,\"ticks\":\"\"}}],\"contour\":[{\"type\":\"contour\",\"colorbar\":{\"outlinewidth\":0,\"ticks\":\"\"},\"colorscale\":[[0.0,\"#0d0887\"],[0.1111111111111111,\"#46039f\"],[0.2222222222222222,\"#7201a8\"],[0.3333333333333333,\"#9c179e\"],[0.4444444444444444,\"#bd3786\"],[0.5555555555555556,\"#d8576b\"],[0.6666666666666666,\"#ed7953\"],[0.7777777777777778,\"#fb9f3a\"],[0.8888888888888888,\"#fdca26\"],[1.0,\"#f0f921\"]]}],\"surface\":[{\"type\":\"surface\",\"colorbar\":{\"outlinewidth\":0,\"ticks\":\"\"},\"colorscale\":[[0.0,\"#0d0887\"],[0.1111111111111111,\"#46039f\"],[0.2222222222222222,\"#7201a8\"],[0.3333333333333333,\"#9c179e\"],[0.4444444444444444,\"#bd3786\"],[0.5555555555555556,\"#d8576b\"],[0.6666666666666666,\"#ed7953\"],[0.7777777777777778,\"#fb9f3a\"],[0.8888888888888888,\"#fdca26\"],[1.0,\"#f0f921\"]]}],\"mesh3d\":[{\"type\":\"mesh3d\",\"colorbar\":{\"outlinewidth\":0,\"ticks\":\"\"}}],\"scatter\":[{\"fillpattern\":{\"fillmode\":\"overlay\",\"size\":10,\"solidity\":0.2},\"type\":\"scatter\"}],\"parcoords\":[{\"type\":\"parcoords\",\"line\":{\"colorbar\":{\"outlinewidth\":0,\"ticks\":\"\"}}}],\"scatterpolargl\":[{\"type\":\"scatterpolargl\",\"marker\":{\"colorbar\":{\"outlinewidth\":0,\"ticks\":\"\"}}}],\"bar\":[{\"error_x\":{\"color\":\"#2a3f5f\"},\"error_y\":{\"color\":\"#2a3f5f\"},\"marker\":{\"line\":{\"color\":\"#E5ECF6\",\"width\":0.5},\"pattern\":{\"fillmode\":\"overlay\",\"size\":10,\"solidity\":0.2}},\"type\":\"bar\"}],\"scattergeo\":[{\"type\":\"scattergeo\",\"marker\":{\"colorbar\":{\"outlinewidth\":0,\"ticks\":\"\"}}}],\"scatterpolar\":[{\"type\":\"scatterpolar\",\"marker\":{\"colorbar\":{\"outlinewidth\":0,\"ticks\":\"\"}}}],\"histogram\":[{\"marker\":{\"pattern\":{\"fillmode\":\"overlay\",\"size\":10,\"solidity\":0.2}},\"type\":\"histogram\"}],\"scattergl\":[{\"type\":\"scattergl\",\"marker\":{\"colorbar\":{\"outlinewidth\":0,\"ticks\":\"\"}}}],\"scatter3d\":[{\"type\":\"scatter3d\",\"line\":{\"colorbar\":{\"outlinewidth\":0,\"ticks\":\"\"}},\"marker\":{\"colorbar\":{\"outlinewidth\":0,\"ticks\":\"\"}}}],\"scattermapbox\":[{\"type\":\"scattermapbox\",\"marker\":{\"colorbar\":{\"outlinewidth\":0,\"ticks\":\"\"}}}],\"scatterternary\":[{\"type\":\"scatterternary\",\"marker\":{\"colorbar\":{\"outlinewidth\":0,\"ticks\":\"\"}}}],\"scattercarpet\":[{\"type\":\"scattercarpet\",\"marker\":{\"colorbar\":{\"outlinewidth\":0,\"ticks\":\"\"}}}],\"carpet\":[{\"aaxis\":{\"endlinecolor\":\"#2a3f5f\",\"gridcolor\":\"white\",\"linecolor\":\"white\",\"minorgridcolor\":\"white\",\"startlinecolor\":\"#2a3f5f\"},\"baxis\":{\"endlinecolor\":\"#2a3f5f\",\"gridcolor\":\"white\",\"linecolor\":\"white\",\"minorgridcolor\":\"white\",\"startlinecolor\":\"#2a3f5f\"},\"type\":\"carpet\"}],\"table\":[{\"cells\":{\"fill\":{\"color\":\"#EBF0F8\"},\"line\":{\"color\":\"white\"}},\"header\":{\"fill\":{\"color\":\"#C8D4E3\"},\"line\":{\"color\":\"white\"}},\"type\":\"table\"}],\"barpolar\":[{\"marker\":{\"line\":{\"color\":\"#E5ECF6\",\"width\":0.5},\"pattern\":{\"fillmode\":\"overlay\",\"size\":10,\"solidity\":0.2}},\"type\":\"barpolar\"}],\"pie\":[{\"automargin\":true,\"type\":\"pie\"}]},\"layout\":{\"autotypenumbers\":\"strict\",\"colorway\":[\"#636efa\",\"#EF553B\",\"#00cc96\",\"#ab63fa\",\"#FFA15A\",\"#19d3f3\",\"#FF6692\",\"#B6E880\",\"#FF97FF\",\"#FECB52\"],\"font\":{\"color\":\"#2a3f5f\"},\"hovermode\":\"closest\",\"hoverlabel\":{\"align\":\"left\"},\"paper_bgcolor\":\"white\",\"plot_bgcolor\":\"#E5ECF6\",\"polar\":{\"bgcolor\":\"#E5ECF6\",\"angularaxis\":{\"gridcolor\":\"white\",\"linecolor\":\"white\",\"ticks\":\"\"},\"radialaxis\":{\"gridcolor\":\"white\",\"linecolor\":\"white\",\"ticks\":\"\"}},\"ternary\":{\"bgcolor\":\"#E5ECF6\",\"aaxis\":{\"gridcolor\":\"white\",\"linecolor\":\"white\",\"ticks\":\"\"},\"baxis\":{\"gridcolor\":\"white\",\"linecolor\":\"white\",\"ticks\":\"\"},\"caxis\":{\"gridcolor\":\"white\",\"linecolor\":\"white\",\"ticks\":\"\"}},\"coloraxis\":{\"colorbar\":{\"outlinewidth\":0,\"ticks\":\"\"}},\"colorscale\":{\"sequential\":[[0.0,\"#0d0887\"],[0.1111111111111111,\"#46039f\"],[0.2222222222222222,\"#7201a8\"],[0.3333333333333333,\"#9c179e\"],[0.4444444444444444,\"#bd3786\"],[0.5555555555555556,\"#d8576b\"],[0.6666666666666666,\"#ed7953\"],[0.7777777777777778,\"#fb9f3a\"],[0.8888888888888888,\"#fdca26\"],[1.0,\"#f0f921\"]],\"sequentialminus\":[[0.0,\"#0d0887\"],[0.1111111111111111,\"#46039f\"],[0.2222222222222222,\"#7201a8\"],[0.3333333333333333,\"#9c179e\"],[0.4444444444444444,\"#bd3786\"],[0.5555555555555556,\"#d8576b\"],[0.6666666666666666,\"#ed7953\"],[0.7777777777777778,\"#fb9f3a\"],[0.8888888888888888,\"#fdca26\"],[1.0,\"#f0f921\"]],\"diverging\":[[0,\"#8e0152\"],[0.1,\"#c51b7d\"],[0.2,\"#de77ae\"],[0.3,\"#f1b6da\"],[0.4,\"#fde0ef\"],[0.5,\"#f7f7f7\"],[0.6,\"#e6f5d0\"],[0.7,\"#b8e186\"],[0.8,\"#7fbc41\"],[0.9,\"#4d9221\"],[1,\"#276419\"]]},\"xaxis\":{\"gridcolor\":\"white\",\"linecolor\":\"white\",\"ticks\":\"\",\"title\":{\"standoff\":15},\"zerolinecolor\":\"white\",\"automargin\":true,\"zerolinewidth\":2},\"yaxis\":{\"gridcolor\":\"white\",\"linecolor\":\"white\",\"ticks\":\"\",\"title\":{\"standoff\":15},\"zerolinecolor\":\"white\",\"automargin\":true,\"zerolinewidth\":2},\"scene\":{\"xaxis\":{\"backgroundcolor\":\"#E5ECF6\",\"gridcolor\":\"white\",\"linecolor\":\"white\",\"showbackground\":true,\"ticks\":\"\",\"zerolinecolor\":\"white\",\"gridwidth\":2},\"yaxis\":{\"backgroundcolor\":\"#E5ECF6\",\"gridcolor\":\"white\",\"linecolor\":\"white\",\"showbackground\":true,\"ticks\":\"\",\"zerolinecolor\":\"white\",\"gridwidth\":2},\"zaxis\":{\"backgroundcolor\":\"#E5ECF6\",\"gridcolor\":\"white\",\"linecolor\":\"white\",\"showbackground\":true,\"ticks\":\"\",\"zerolinecolor\":\"white\",\"gridwidth\":2}},\"shapedefaults\":{\"line\":{\"color\":\"#2a3f5f\"}},\"annotationdefaults\":{\"arrowcolor\":\"#2a3f5f\",\"arrowhead\":0,\"arrowwidth\":1},\"geo\":{\"bgcolor\":\"white\",\"landcolor\":\"#E5ECF6\",\"subunitcolor\":\"white\",\"showland\":true,\"showlakes\":true,\"lakecolor\":\"white\"},\"title\":{\"x\":0.05},\"mapbox\":{\"style\":\"light\"}}}},                        {\"responsive\": true}                    ).then(function(){\n",
       "\n",
       "var gd = document.getElementById('f70ff330-db15-4265-aa36-76515aeafc80');\n",
       "var x = new MutationObserver(function (mutations, observer) {{\n",
       "        var display = window.getComputedStyle(gd).display;\n",
       "        if (!display || display === 'none') {{\n",
       "            console.log([gd, 'removed!']);\n",
       "            Plotly.purge(gd);\n",
       "            observer.disconnect();\n",
       "        }}\n",
       "}});\n",
       "\n",
       "// Listen for the removal of the full notebook cells\n",
       "var notebookContainer = gd.closest('#notebook-container');\n",
       "if (notebookContainer) {{\n",
       "    x.observe(notebookContainer, {childList: true});\n",
       "}}\n",
       "\n",
       "// Listen for the clearing of the current output cell\n",
       "var outputEl = gd.closest('.output');\n",
       "if (outputEl) {{\n",
       "    x.observe(outputEl, {childList: true});\n",
       "}}\n",
       "\n",
       "                        })                };                });            </script>        </div>"
      ]
     },
     "metadata": {},
     "output_type": "display_data"
    }
   ],
   "source": [
    "tree = result.tree\n",
    "fig = tree.get_figure()\n",
    "fig.scale_bar = \"top right\"\n",
    "fig.show(width=500, height=500)"
   ]
  }
 ],
 "metadata": {
  "kernelspec": {
   "display_name": "Python 3 (ipykernel)",
   "language": "python",
   "name": "python3"
  },
  "language_info": {
   "codemirror_mode": {
    "name": "ipython",
    "version": 3
   },
   "file_extension": ".py",
   "mimetype": "text/x-python",
   "name": "python",
   "nbconvert_exporter": "python",
   "pygments_lexer": "ipython3",
   "version": "3.11.6"
  }
 },
 "nbformat": 4,
 "nbformat_minor": 5
}