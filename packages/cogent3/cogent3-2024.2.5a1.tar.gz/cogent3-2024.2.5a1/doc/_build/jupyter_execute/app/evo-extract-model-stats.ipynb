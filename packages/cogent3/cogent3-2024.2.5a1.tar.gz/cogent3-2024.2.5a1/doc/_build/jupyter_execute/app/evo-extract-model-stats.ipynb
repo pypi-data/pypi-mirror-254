{
 "cells": [
  {
   "cell_type": "code",
   "execution_count": 1,
   "id": "11630d77",
   "metadata": {
    "execution": {
     "iopub.execute_input": "2023-12-15T00:04:27.137241Z",
     "iopub.status.busy": "2023-12-15T00:04:27.136712Z",
     "iopub.status.idle": "2023-12-15T00:04:27.147435Z",
     "shell.execute_reply": "2023-12-15T00:04:27.147027Z"
    }
   },
   "outputs": [],
   "source": [
    "import set_working_directory"
   ]
  },
  {
   "cell_type": "code",
   "execution_count": 2,
   "id": "6ad4ad51",
   "metadata": {
    "execution": {
     "iopub.execute_input": "2023-12-15T00:04:27.149668Z",
     "iopub.status.busy": "2023-12-15T00:04:27.149491Z",
     "iopub.status.idle": "2023-12-15T00:04:28.762972Z",
     "shell.execute_reply": "2023-12-15T00:04:28.762573Z"
    }
   },
   "outputs": [],
   "source": [
    "from cogent3 import get_app\n",
    "\n",
    "loader = get_app(\"load_aligned\", format=\"fasta\", moltype=\"dna\")\n",
    "aln = loader(\"data/primate_brca1.fasta\")\n",
    "model = get_app(\"model\", \"GN\", tree=\"data/primate_brca1.tree\")\n",
    "result = model(aln)"
   ]
  },
  {
   "cell_type": "code",
   "execution_count": 3,
   "id": "af4bb8e7",
   "metadata": {
    "execution": {
     "iopub.execute_input": "2023-12-15T00:04:28.764807Z",
     "iopub.status.busy": "2023-12-15T00:04:28.764643Z",
     "iopub.status.idle": "2023-12-15T00:04:28.769025Z",
     "shell.execute_reply": "2023-12-15T00:04:28.768758Z"
    }
   },
   "outputs": [
    {
     "data": {
      "text/plain": [
       "3x tabular_result('global params': Table, 'edge params': Table, 'motif params': Table)"
      ]
     },
     "execution_count": 3,
     "metadata": {},
     "output_type": "execute_result"
    }
   ],
   "source": [
    "tabulator = get_app(\"tabulate_stats\")\n",
    "tabulated = tabulator(result)\n",
    "tabulated"
   ]
  },
  {
   "cell_type": "code",
   "execution_count": 4,
   "id": "3f1a3769",
   "metadata": {
    "execution": {
     "iopub.execute_input": "2023-12-15T00:04:28.770407Z",
     "iopub.status.busy": "2023-12-15T00:04:28.770296Z",
     "iopub.status.idle": "2023-12-15T00:04:28.773095Z",
     "shell.execute_reply": "2023-12-15T00:04:28.772820Z"
    }
   },
   "outputs": [
    {
     "data": {
      "text/html": [
       "\n",
       "<div class=\"c3table\">\n",
       "\n",
       "<style>\n",
       ".c3table table {margin: 10px 0;}\n",
       ".c3table tr:last-child {border-bottom: 1px solid #000;} \n",
       ".c3table tr > th {text-align: left; padding: 0 5px;}\n",
       ".c3table tr > td {text-align: left; padding: 5px;}\n",
       ".c3table tr:nth-child(even) {background: #f7f7f7 !important;}\n",
       ".c3table .ellipsis {background: rgba(0, 0, 0, .01);}\n",
       ".c3table .index {background: rgba(161, 195, 209, 0.0); margin: 10px; font-weight: 600;}\n",
       ".c3table .head_cell {background: rgba(161, 195, 209, 0.75); font-weight: bold; text-align: center;}\n",
       ".c3table caption {color: rgb(250, 250, 250); background: rgba(30, 140, 200, 1); padding: 3px; white-space: nowrap; caption-side: top;}\n",
       ".c3table .cell_title {font-weight: bold;}\n",
       ".c3col_left { text-align: left !important; display: block;}\n",
       ".c3col_right { text-align: right !important; display: block;}\n",
       ".c3col_center { text-align: center !important; display: block;}\n",
       "</style>\n",
       "\n",
       "<table>\n",
       "\n",
       "<caption>\n",
       "<span class=\"cell_title\">edge params</span>\n",
       "</caption>\n",
       "<thead class=\"head_cell\">\n",
       "<th>edge</th><th>parent</th><th>length</th>\n",
       "</thead>\n",
       "<tbody>\n",
       "<tr><td><span class=\"c3col_left\">Galago</span></td><td><span class=\"c3col_left\">root</span></td><td><span class=\"c3col_right\">0.1734</span></td></tr>\n",
       "<tr><td><span class=\"c3col_left\">HowlerMon</span></td><td><span class=\"c3col_left\">root</span></td><td><span class=\"c3col_right\">0.0450</span></td></tr>\n",
       "<tr><td><span class=\"c3col_left\">Rhesus</span></td><td><span class=\"c3col_left\">edge.3</span></td><td><span class=\"c3col_right\">0.0215</span></td></tr>\n",
       "<tr><td><span class=\"c3col_left\">Orangutan</span></td><td><span class=\"c3col_left\">edge.2</span></td><td><span class=\"c3col_right\">0.0078</span></td></tr>\n",
       "<tr><td><span class=\"c3col_left\">Gorilla</span></td><td><span class=\"c3col_left\">edge.1</span></td><td><span class=\"c3col_right\">0.0025</span></td></tr>\n",
       "<tr><td><span class=\"c3col_left\">Human</span></td><td><span class=\"c3col_left\">edge.0</span></td><td><span class=\"c3col_right\">0.0061</span></td></tr>\n",
       "<tr><td><span class=\"c3col_left\">Chimpanzee</span></td><td><span class=\"c3col_left\">edge.0</span></td><td><span class=\"c3col_right\">0.0028</span></td></tr>\n",
       "<tr><td><span class=\"c3col_left\">edge.0</span></td><td><span class=\"c3col_left\">edge.1</span></td><td><span class=\"c3col_right\">0.0000</span></td></tr>\n",
       "<tr><td><span class=\"c3col_left\">edge.1</span></td><td><span class=\"c3col_left\">edge.2</span></td><td><span class=\"c3col_right\">0.0033</span></td></tr>\n",
       "<tr><td><span class=\"c3col_left\">edge.2</span></td><td><span class=\"c3col_left\">edge.3</span></td><td><span class=\"c3col_right\">0.0121</span></td></tr>\n",
       "<tr><td><span class=\"c3col_left\">edge.3</span></td><td><span class=\"c3col_left\">root</span></td><td><span class=\"c3col_right\">0.0077</span></td></tr>\n",
       "</tbody>\n",
       "</table>\n",
       "<p>\n",
       "11 rows x 3 columns</p>\n",
       "</div>"
      ],
      "text/plain": [
       "edge params\n",
       "==============================\n",
       "edge          parent    length\n",
       "------------------------------\n",
       "Galago        root      0.1734\n",
       "HowlerMon     root      0.0450\n",
       "Rhesus        edge.3    0.0215\n",
       "Orangutan     edge.2    0.0078\n",
       "Gorilla       edge.1    0.0025\n",
       "Human         edge.0    0.0061\n",
       "Chimpanzee    edge.0    0.0028\n",
       "edge.0        edge.1    0.0000\n",
       "edge.1        edge.2    0.0033\n",
       "edge.2        edge.3    0.0121\n",
       "edge.3        root      0.0077\n",
       "------------------------------\n",
       "\n",
       "11 rows x 3 columns"
      ]
     },
     "execution_count": 4,
     "metadata": {},
     "output_type": "execute_result"
    }
   ],
   "source": [
    "tabulated[\"edge params\"]"
   ]
  },
  {
   "cell_type": "code",
   "execution_count": 5,
   "id": "eb91104c",
   "metadata": {
    "execution": {
     "iopub.execute_input": "2023-12-15T00:04:28.774544Z",
     "iopub.status.busy": "2023-12-15T00:04:28.774450Z",
     "iopub.status.idle": "2023-12-15T00:04:28.776980Z",
     "shell.execute_reply": "2023-12-15T00:04:28.776761Z"
    }
   },
   "outputs": [
    {
     "data": {
      "text/html": [
       "\n",
       "<div class=\"c3table\">\n",
       "\n",
       "<style>\n",
       ".c3table table {margin: 10px 0;}\n",
       ".c3table tr:last-child {border-bottom: 1px solid #000;} \n",
       ".c3table tr > th {text-align: left; padding: 0 5px;}\n",
       ".c3table tr > td {text-align: left; padding: 5px;}\n",
       ".c3table tr:nth-child(even) {background: #f7f7f7 !important;}\n",
       ".c3table .ellipsis {background: rgba(0, 0, 0, .01);}\n",
       ".c3table .index {background: rgba(161, 195, 209, 0.0); margin: 10px; font-weight: 600;}\n",
       ".c3table .head_cell {background: rgba(161, 195, 209, 0.75); font-weight: bold; text-align: center;}\n",
       ".c3table caption {color: rgb(250, 250, 250); background: rgba(30, 140, 200, 1); padding: 3px; white-space: nowrap; caption-side: top;}\n",
       ".c3table .cell_title {font-weight: bold;}\n",
       ".c3col_left { text-align: left !important; display: block;}\n",
       ".c3col_right { text-align: right !important; display: block;}\n",
       ".c3col_center { text-align: center !important; display: block;}\n",
       "</style>\n",
       "\n",
       "<table>\n",
       "\n",
       "<caption>\n",
       "<span class=\"cell_title\">global params</span>\n",
       "</caption>\n",
       "<thead class=\"head_cell\">\n",
       "<th>A>C</th><th>A>G</th><th>A>T</th><th>C>A</th><th>C>G</th><th>C>T</th><th>G>A</th><th>G>C</th><th>G>T</th><th>T>A</th>\n",
       "</thead>\n",
       "<tbody>\n",
       "<tr><td><span class=\"c3col_right\">0.8699</span></td><td><span class=\"c3col_right\">3.6639</span></td><td><span class=\"c3col_right\">0.9110</span></td><td><span class=\"c3col_right\">1.5906</span></td><td><span class=\"c3col_right\">2.1245</span></td><td><span class=\"c3col_right\">6.0239</span></td><td><span class=\"c3col_right\">8.2211</span></td><td><span class=\"c3col_right\">1.2295</span></td><td><span class=\"c3col_right\">0.6296</span></td><td><span class=\"c3col_right\">1.2502</span></td></tr>\n",
       "</tbody>\n",
       "</table>\n",
       "\n",
       "<table>\n",
       "\n",
       "<caption>\n",
       "<span class=\"cell_title\">continuation</span>\n",
       "</caption>\n",
       "<thead class=\"head_cell\">\n",
       "<th>T>C</th>\n",
       "</thead>\n",
       "<tbody>\n",
       "<tr><td><span class=\"c3col_right\">3.4167</span></td></tr>\n",
       "</tbody>\n",
       "</table>\n",
       "<p>\n",
       "1 rows x 11 columns</p>\n",
       "</div>"
      ],
      "text/plain": [
       "global params\n",
       "============================================================================\n",
       "   A>C       A>G       A>T       C>A       C>G       C>T       G>A       G>C\n",
       "----------------------------------------------------------------------------\n",
       "0.8699    3.6639    0.9110    1.5906    2.1245    6.0239    8.2211    1.2295\n",
       "----------------------------------------------------------------------------\n",
       "\n",
       "continued: global params\n",
       "==========================\n",
       "   G>T       T>A       T>C\n",
       "--------------------------\n",
       "0.6296    1.2502    3.4167\n",
       "--------------------------\n",
       "\n",
       "\n",
       "1 rows x 11 columns"
      ]
     },
     "execution_count": 5,
     "metadata": {},
     "output_type": "execute_result"
    }
   ],
   "source": [
    "tabulated[\"global params\"]"
   ]
  },
  {
   "cell_type": "code",
   "execution_count": 6,
   "id": "f29cab9a",
   "metadata": {
    "execution": {
     "iopub.execute_input": "2023-12-15T00:04:28.778278Z",
     "iopub.status.busy": "2023-12-15T00:04:28.778194Z",
     "iopub.status.idle": "2023-12-15T00:04:28.780233Z",
     "shell.execute_reply": "2023-12-15T00:04:28.779996Z"
    }
   },
   "outputs": [
    {
     "data": {
      "text/html": [
       "\n",
       "<div class=\"c3table\">\n",
       "\n",
       "<style>\n",
       ".c3table table {margin: 10px 0;}\n",
       ".c3table tr:last-child {border-bottom: 1px solid #000;} \n",
       ".c3table tr > th {text-align: left; padding: 0 5px;}\n",
       ".c3table tr > td {text-align: left; padding: 5px;}\n",
       ".c3table tr:nth-child(even) {background: #f7f7f7 !important;}\n",
       ".c3table .ellipsis {background: rgba(0, 0, 0, .01);}\n",
       ".c3table .index {background: rgba(161, 195, 209, 0.0); margin: 10px; font-weight: 600;}\n",
       ".c3table .head_cell {background: rgba(161, 195, 209, 0.75); font-weight: bold; text-align: center;}\n",
       ".c3table caption {color: rgb(250, 250, 250); background: rgba(30, 140, 200, 1); padding: 3px; white-space: nowrap; caption-side: top;}\n",
       ".c3table .cell_title {font-weight: bold;}\n",
       ".c3col_left { text-align: left !important; display: block;}\n",
       ".c3col_right { text-align: right !important; display: block;}\n",
       ".c3col_center { text-align: center !important; display: block;}\n",
       "</style>\n",
       "\n",
       "<table>\n",
       "\n",
       "<caption>\n",
       "<span class=\"cell_title\">motif params</span>\n",
       "</caption>\n",
       "<thead class=\"head_cell\">\n",
       "<th>A</th><th>C</th><th>G</th><th>T</th>\n",
       "</thead>\n",
       "<tbody>\n",
       "<tr><td><span class=\"c3col_right\">0.3757</span></td><td><span class=\"c3col_right\">0.1742</span></td><td><span class=\"c3col_right\">0.2095</span></td><td><span class=\"c3col_right\">0.2406</span></td></tr>\n",
       "</tbody>\n",
       "</table>\n",
       "<p>\n",
       "1 rows x 4 columns</p>\n",
       "</div>"
      ],
      "text/plain": [
       "motif params\n",
       "====================================\n",
       "     A         C         G         T\n",
       "------------------------------------\n",
       "0.3757    0.1742    0.2095    0.2406\n",
       "------------------------------------\n",
       "\n",
       "1 rows x 4 columns"
      ]
     },
     "execution_count": 6,
     "metadata": {},
     "output_type": "execute_result"
    }
   ],
   "source": [
    "tabulated[\"motif params\"]"
   ]
  }
 ],
 "metadata": {
  "kernelspec": {
   "display_name": "Python 3 (ipykernel)",
   "language": "python",
   "name": "python3"
  },
  "language_info": {
   "codemirror_mode": {
    "name": "ipython",
    "version": 3
   },
   "file_extension": ".py",
   "mimetype": "text/x-python",
   "name": "python",
   "nbconvert_exporter": "python",
   "pygments_lexer": "ipython3",
   "version": "3.11.6"
  }
 },
 "nbformat": 4,
 "nbformat_minor": 5
}