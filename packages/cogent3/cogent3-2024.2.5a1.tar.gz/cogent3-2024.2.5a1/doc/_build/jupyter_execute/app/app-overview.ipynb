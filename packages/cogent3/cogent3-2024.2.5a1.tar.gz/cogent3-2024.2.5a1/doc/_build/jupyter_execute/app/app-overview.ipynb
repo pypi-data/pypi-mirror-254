{
 "cells": [
  {
   "cell_type": "code",
   "execution_count": 1,
   "id": "1d6370f4",
   "metadata": {
    "execution": {
     "iopub.execute_input": "2023-12-15T00:04:03.266365Z",
     "iopub.status.busy": "2023-12-15T00:04:03.265740Z",
     "iopub.status.idle": "2023-12-15T00:04:03.282186Z",
     "shell.execute_reply": "2023-12-15T00:04:03.281585Z"
    }
   },
   "outputs": [],
   "source": [
    "import set_working_directory"
   ]
  },
  {
   "cell_type": "code",
   "execution_count": 2,
   "id": "e1f04bf0",
   "metadata": {
    "execution": {
     "iopub.execute_input": "2023-12-15T00:04:03.285320Z",
     "iopub.status.busy": "2023-12-15T00:04:03.285093Z",
     "iopub.status.idle": "2023-12-15T00:04:03.289295Z",
     "shell.execute_reply": "2023-12-15T00:04:03.288829Z"
    }
   },
   "outputs": [],
   "source": [
    "from pathlib import Path\n",
    "from tempfile import TemporaryDirectory\n",
    "\n",
    "tmpdir = TemporaryDirectory(dir=\".\")\n",
    "path_to_dir = tmpdir.name"
   ]
  },
  {
   "cell_type": "code",
   "execution_count": 3,
   "id": "2123adb9",
   "metadata": {
    "execution": {
     "iopub.execute_input": "2023-12-15T00:04:03.291538Z",
     "iopub.status.busy": "2023-12-15T00:04:03.291388Z",
     "iopub.status.idle": "2023-12-15T00:04:04.551353Z",
     "shell.execute_reply": "2023-12-15T00:04:04.551029Z"
    }
   },
   "outputs": [],
   "source": [
    "from cogent3 import get_app, open_data_store\n",
    "\n",
    "out_dstore = open_data_store(path_to_dir, suffix=\"fa\", mode=\"w\")\n",
    "\n",
    "loader = get_app(\"load_aligned\", format=\"fasta\", moltype=\"dna\")\n",
    "cpos3 = get_app(\"take_codon_positions\", 3)\n",
    "writer = get_app(\"write_seqs\", out_dstore, format=\"fasta\")"
   ]
  },
  {
   "cell_type": "code",
   "execution_count": 4,
   "id": "4cded5a4",
   "metadata": {
    "execution": {
     "iopub.execute_input": "2023-12-15T00:04:04.552872Z",
     "iopub.status.busy": "2023-12-15T00:04:04.552738Z",
     "iopub.status.idle": "2023-12-15T00:04:04.558196Z",
     "shell.execute_reply": "2023-12-15T00:04:04.557967Z"
    }
   },
   "outputs": [],
   "source": [
    "data = loader(\"data/primate_brca1.fasta\")\n",
    "just3rd = cpos3(data)\n",
    "m = writer(just3rd)"
   ]
  },
  {
   "cell_type": "code",
   "execution_count": 5,
   "id": "3d226a43",
   "metadata": {
    "execution": {
     "iopub.execute_input": "2023-12-15T00:04:04.559343Z",
     "iopub.status.busy": "2023-12-15T00:04:04.559261Z",
     "iopub.status.idle": "2023-12-15T00:04:04.563225Z",
     "shell.execute_reply": "2023-12-15T00:04:04.563012Z"
    }
   },
   "outputs": [],
   "source": [
    "process = loader + cpos3 + writer\n",
    "m = process(\"data/primate_brca1.fasta\")"
   ]
  },
  {
   "cell_type": "code",
   "execution_count": 6,
   "id": "dbb9227e",
   "metadata": {
    "execution": {
     "iopub.execute_input": "2023-12-15T00:04:04.564288Z",
     "iopub.status.busy": "2023-12-15T00:04:04.564218Z",
     "iopub.status.idle": "2023-12-15T00:04:04.606268Z",
     "shell.execute_reply": "2023-12-15T00:04:04.606045Z"
    }
   },
   "outputs": [],
   "source": [
    "dstore = open_data_store(\"data\", suffix=\"fasta\", mode=\"r\")\n",
    "result = process.apply_to(dstore)"
   ]
  },
  {
   "cell_type": "code",
   "execution_count": 7,
   "id": "7cf54c3a",
   "metadata": {
    "execution": {
     "iopub.execute_input": "2023-12-15T00:04:04.607469Z",
     "iopub.status.busy": "2023-12-15T00:04:04.607388Z",
     "iopub.status.idle": "2023-12-15T00:04:04.611028Z",
     "shell.execute_reply": "2023-12-15T00:04:04.610824Z"
    }
   },
   "outputs": [
    {
     "data": {
      "text/html": [
       "\n",
       "<div class=\"c3table\">\n",
       "\n",
       "<style>\n",
       ".c3table table {margin: 10px 0;}\n",
       ".c3table tr:last-child {border-bottom: 1px solid #000;} \n",
       ".c3table tr > th {text-align: left; padding: 0 5px;}\n",
       ".c3table tr > td {text-align: left; padding: 5px;}\n",
       ".c3table tr:nth-child(even) {background: #f7f7f7 !important;}\n",
       ".c3table .ellipsis {background: rgba(0, 0, 0, .01);}\n",
       ".c3table .index {background: rgba(161, 195, 209, 0.0); margin: 10px; font-weight: 600;}\n",
       ".c3table .head_cell {background: rgba(161, 195, 209, 0.75); font-weight: bold; text-align: center;}\n",
       ".c3table caption {color: rgb(250, 250, 250); background: rgba(30, 140, 200, 1); padding: 3px; white-space: nowrap; caption-side: top;}\n",
       ".c3table .cell_title {font-weight: bold;}\n",
       ".c3col_left { text-align: left !important; display: block;}\n",
       ".c3col_right { text-align: right !important; display: block;}\n",
       ".c3col_center { text-align: center !important; display: block;}\n",
       "</style>\n",
       "\n",
       "<table>\n",
       "\n",
       "<caption>\n",
       "<span class=\"cell_title\">summary of log files</span>\n",
       "</caption>\n",
       "<thead class=\"head_cell\">\n",
       "<th>time</th><th>name</th><th>python version</th><th>who</th><th>command</th><th>composable</th>\n",
       "</thead>\n",
       "<tbody>\n",
       "<tr><td><span class=\"c3col_left\">2023-12-15 11:04:04</span></td><td><span class=\"c3col_left\">logs/load_aligned-take_codon_positions-write_seqs-loge0b8be.log</span></td><td><span class=\"c3col_left\">3.11.6</span></td><td><span class=\"c3col_left\">gavin</span></td><td><span class=\"c3col_left\">/Users/gavin/miniconda3/envs/c311/lib/python3.11/site-packages/ipykernel_launcher.py -f /private/var/folders/ng/j9jf_xhs4ws3vntgsq9hnnp00000gp/T/tmpgw0wvmh0.json --HistoryManager.hist_file=:memory:</span></td><td><span class=\"c3col_left\">load_aligned(moltype='dna', format='fasta') +take_codon_positions(positions=(3,), fourfold_degenerate=False, gc='Standard',moltype='dna') +write_seqs(data_store=DataStoreDirectory(source=/Users/gavin/repos/Cogent3/doc/tmpp8onjn1a,mode=Mode.w, suffix=fa, limit=None, verbose=False), id_from_source=<functionget_unique_id at 0x147781a80>, format='fasta')</span></td></tr>\n",
       "</tbody>\n",
       "</table>\n",
       "<p>\n",
       "1 rows x 6 columns</p>\n",
       "</div>"
      ],
      "text/plain": [
       "summary of log files\n",
       "==============================================================================================================================================================================================================================================================================================================================================================================================================================================================================================================================================================================================================================================================================================\n",
       "time                   name                                                               python version    who      command                                                                                                                                                                                                  composable                                                                                                                                                                                                                                                                                                                                                      \n",
       "----------------------------------------------------------------------------------------------------------------------------------------------------------------------------------------------------------------------------------------------------------------------------------------------------------------------------------------------------------------------------------------------------------------------------------------------------------------------------------------------------------------------------------------------------------------------------------------------------------------------------------------------------------------------------------------------\n",
       "2023-12-15 11:04:04    logs/load_aligned-take_codon_positions-write_seqs-loge0b8be.log    3.11.6            gavin    /Users/gavin/miniconda3/envs/c311/lib/python3.11/site-packages/ipykernel_launcher.py -f /private/var/folders/ng/j9jf_xhs4ws3vntgsq9hnnp00000gp/T/tmpgw0wvmh0.json --HistoryManager.hist_file=:memory:    load_aligned(moltype='dna', format='fasta') +take_codon_positions(positions=(3,), fourfold_degenerate=False, gc='Standard',moltype='dna') +write_seqs(data_store=DataStoreDirectory(source=/Users/gavin/repos/Cogent3/doc/tmpp8onjn1a,mode=Mode.w, suffix=fa, limit=None, verbose=False), id_from_source=<functionget_unique_id at 0x147781a80>, format='fasta')\n",
       "----------------------------------------------------------------------------------------------------------------------------------------------------------------------------------------------------------------------------------------------------------------------------------------------------------------------------------------------------------------------------------------------------------------------------------------------------------------------------------------------------------------------------------------------------------------------------------------------------------------------------------------------------------------------------------------------\n",
       "\n",
       "1 rows x 6 columns"
      ]
     },
     "execution_count": 7,
     "metadata": {},
     "output_type": "execute_result"
    }
   ],
   "source": [
    "out_dstore.summary_logs"
   ]
  },
  {
   "cell_type": "code",
   "execution_count": 8,
   "id": "86735322",
   "metadata": {
    "execution": {
     "iopub.execute_input": "2023-12-15T00:04:04.612145Z",
     "iopub.status.busy": "2023-12-15T00:04:04.612065Z",
     "iopub.status.idle": "2023-12-15T00:04:04.614513Z",
     "shell.execute_reply": "2023-12-15T00:04:04.614292Z"
    }
   },
   "outputs": [
    {
     "data": {
      "text/html": [
       "\n",
       "<div class=\"c3table\">\n",
       "\n",
       "<style>\n",
       ".c3table table {margin: 10px 0;}\n",
       ".c3table tr:last-child {border-bottom: 1px solid #000;} \n",
       ".c3table tr > th {text-align: left; padding: 0 5px;}\n",
       ".c3table tr > td {text-align: left; padding: 5px;}\n",
       ".c3table tr:nth-child(even) {background: #f7f7f7 !important;}\n",
       ".c3table .ellipsis {background: rgba(0, 0, 0, .01);}\n",
       ".c3table .index {background: rgba(161, 195, 209, 0.0); margin: 10px; font-weight: 600;}\n",
       ".c3table .head_cell {background: rgba(161, 195, 209, 0.75); font-weight: bold; text-align: center;}\n",
       ".c3table caption {color: rgb(250, 250, 250); background: rgba(30, 140, 200, 1); padding: 3px; white-space: nowrap; caption-side: top;}\n",
       ".c3table .cell_title {font-weight: bold;}\n",
       ".c3col_left { text-align: left !important; display: block;}\n",
       ".c3col_right { text-align: right !important; display: block;}\n",
       ".c3col_center { text-align: center !important; display: block;}\n",
       "</style>\n",
       "\n",
       "<table>\n",
       "\n",
       "<caption>\n",
       "<span class=\"cell_title\">Directory datastore</span>\n",
       "</caption>\n",
       "<thead class=\"head_cell\">\n",
       "<th>record type</th><th>number</th>\n",
       "</thead>\n",
       "<tbody>\n",
       "<tr><td><span class=\"c3col_left\">completed</span></td><td><span class=\"c3col_right\">8</span></td></tr>\n",
       "<tr><td><span class=\"c3col_left\">not_completed</span></td><td><span class=\"c3col_right\">5</span></td></tr>\n",
       "<tr><td><span class=\"c3col_left\">logs</span></td><td><span class=\"c3col_right\">1</span></td></tr>\n",
       "</tbody>\n",
       "</table>\n",
       "<p>\n",
       "3 rows x 2 columns</p>\n",
       "</div>"
      ],
      "text/plain": [
       "Directory datastore\n",
       "=======================\n",
       "record type      number\n",
       "-----------------------\n",
       "completed             8\n",
       "not_completed         5\n",
       "logs                  1\n",
       "-----------------------\n",
       "\n",
       "3 rows x 2 columns"
      ]
     },
     "execution_count": 8,
     "metadata": {},
     "output_type": "execute_result"
    }
   ],
   "source": [
    "out_dstore.describe"
   ]
  },
  {
   "cell_type": "code",
   "execution_count": 9,
   "id": "f358f58f",
   "metadata": {
    "execution": {
     "iopub.execute_input": "2023-12-15T00:04:04.615580Z",
     "iopub.status.busy": "2023-12-15T00:04:04.615497Z",
     "iopub.status.idle": "2023-12-15T00:04:04.618822Z",
     "shell.execute_reply": "2023-12-15T00:04:04.618621Z"
    }
   },
   "outputs": [
    {
     "data": {
      "text/html": [
       "\n",
       "<div class=\"c3table\">\n",
       "\n",
       "<style>\n",
       ".c3table table {margin: 10px 0;}\n",
       ".c3table tr:last-child {border-bottom: 1px solid #000;} \n",
       ".c3table tr > th {text-align: left; padding: 0 5px;}\n",
       ".c3table tr > td {text-align: left; padding: 5px;}\n",
       ".c3table tr:nth-child(even) {background: #f7f7f7 !important;}\n",
       ".c3table .ellipsis {background: rgba(0, 0, 0, .01);}\n",
       ".c3table .index {background: rgba(161, 195, 209, 0.0); margin: 10px; font-weight: 600;}\n",
       ".c3table .head_cell {background: rgba(161, 195, 209, 0.75); font-weight: bold; text-align: center;}\n",
       ".c3table caption {color: rgb(250, 250, 250); background: rgba(30, 140, 200, 1); padding: 3px; white-space: nowrap; caption-side: top;}\n",
       ".c3table .cell_title {font-weight: bold;}\n",
       ".c3col_left { text-align: left !important; display: block;}\n",
       ".c3col_right { text-align: right !important; display: block;}\n",
       ".c3col_center { text-align: center !important; display: block;}\n",
       "</style>\n",
       "\n",
       "<table>\n",
       "\n",
       "<caption>\n",
       "<span class=\"cell_title\">not completed records</span>\n",
       "</caption>\n",
       "<thead class=\"head_cell\">\n",
       "<th>type</th><th>origin</th><th>message</th><th>num</th><th>source</th>\n",
       "</thead>\n",
       "<tbody>\n",
       "<tr><td><span class=\"c3col_left\">ERROR</span></td><td><span class=\"c3col_left\">load_aligned</span></td><td><span class=\"c3col_left\">\"KeyError: 'F', Value... inhomogeneous part.\"</span></td><td><span class=\"c3col_right\">5</span></td><td><span class=\"c3col_left\">SCA1-cds.fasta, inseqs_protein.fasta, ...</span></td></tr>\n",
       "</tbody>\n",
       "</table>\n",
       "<p>\n",
       "1 rows x 5 columns</p>\n",
       "</div>"
      ],
      "text/plain": [
       "not completed records\n",
       "==========================================================================================================================\n",
       "type     origin          message                                          num    source                                   \n",
       "--------------------------------------------------------------------------------------------------------------------------\n",
       "ERROR    load_aligned    \"KeyError: 'F', Value... inhomogeneous part.\"      5    SCA1-cds.fasta, inseqs_protein.fasta, ...\n",
       "--------------------------------------------------------------------------------------------------------------------------\n",
       "\n",
       "1 rows x 5 columns"
      ]
     },
     "execution_count": 9,
     "metadata": {},
     "output_type": "execute_result"
    }
   ],
   "source": [
    "out_dstore.summary_not_completed"
   ]
  },
  {
   "cell_type": "code",
   "execution_count": 10,
   "id": "c2258aec",
   "metadata": {
    "execution": {
     "iopub.execute_input": "2023-12-15T00:04:04.619852Z",
     "iopub.status.busy": "2023-12-15T00:04:04.619776Z",
     "iopub.status.idle": "2023-12-15T00:04:04.655712Z",
     "shell.execute_reply": "2023-12-15T00:04:04.655437Z"
    }
   },
   "outputs": [
    {
     "data": {
      "application/vnd.jupyter.widget-view+json": {
       "model_id": "36cb85bad9684000af66f7dea0661e08",
       "version_major": 2,
       "version_minor": 0
      },
      "text/plain": [
       "   0%|                                                                                                        …"
      ]
     },
     "metadata": {},
     "output_type": "display_data"
    }
   ],
   "source": [
    "result = process.apply_to(dstore, show_progress=True)"
   ]
  },
  {
   "cell_type": "code",
   "execution_count": 11,
   "id": "b51f4b4e",
   "metadata": {
    "execution": {
     "iopub.execute_input": "2023-12-15T00:04:04.656941Z",
     "iopub.status.busy": "2023-12-15T00:04:04.656846Z",
     "iopub.status.idle": "2023-12-15T00:04:04.660132Z",
     "shell.execute_reply": "2023-12-15T00:04:04.659844Z"
    }
   },
   "outputs": [],
   "source": [
    "import shutil\n",
    "\n",
    "shutil.rmtree(path_to_dir, ignore_errors=True)"
   ]
  }
 ],
 "metadata": {
  "kernelspec": {
   "display_name": "Python 3 (ipykernel)",
   "language": "python",
   "name": "python3"
  },
  "language_info": {
   "codemirror_mode": {
    "name": "ipython",
    "version": 3
   },
   "file_extension": ".py",
   "mimetype": "text/x-python",
   "name": "python",
   "nbconvert_exporter": "python",
   "pygments_lexer": "ipython3",
   "version": "3.11.6"
  },
  "widgets": {
   "application/vnd.jupyter.widget-state+json": {
    "state": {
     "2346d09be1e14334bd8d8f8a8c32669d": {
      "model_module": "@jupyter-widgets/base",
      "model_module_version": "2.0.0",
      "model_name": "LayoutModel",
      "state": {
       "_model_module": "@jupyter-widgets/base",
       "_model_module_version": "2.0.0",
       "_model_name": "LayoutModel",
       "_view_count": null,
       "_view_module": "@jupyter-widgets/base",
       "_view_module_version": "2.0.0",
       "_view_name": "LayoutView",
       "align_content": null,
       "align_items": null,
       "align_self": null,
       "border_bottom": null,
       "border_left": null,
       "border_right": null,
       "border_top": null,
       "bottom": null,
       "display": null,
       "flex": "2",
       "flex_flow": null,
       "grid_area": null,
       "grid_auto_columns": null,
       "grid_auto_flow": null,
       "grid_auto_rows": null,
       "grid_column": null,
       "grid_gap": null,
       "grid_row": null,
       "grid_template_areas": null,
       "grid_template_columns": null,
       "grid_template_rows": null,
       "height": null,
       "justify_content": null,
       "justify_items": null,
       "left": null,
       "margin": null,
       "max_height": null,
       "max_width": null,
       "min_height": null,
       "min_width": null,
       "object_fit": null,
       "object_position": null,
       "order": null,
       "overflow": null,
       "padding": null,
       "right": null,
       "top": null,
       "visibility": null,
       "width": null
      }
     },
     "36cb85bad9684000af66f7dea0661e08": {
      "model_module": "@jupyter-widgets/controls",
      "model_module_version": "2.0.0",
      "model_name": "HBoxModel",
      "state": {
       "_dom_classes": [],
       "_model_module": "@jupyter-widgets/controls",
       "_model_module_version": "2.0.0",
       "_model_name": "HBoxModel",
       "_view_count": null,
       "_view_module": "@jupyter-widgets/controls",
       "_view_module_version": "2.0.0",
       "_view_name": "HBoxView",
       "box_style": "",
       "children": [
        "IPY_MODEL_c61e910f93f6466589056c9c5234385a",
        "IPY_MODEL_c1b45db8db86416e90f9e031fc1b26ff",
        "IPY_MODEL_a47c309748dd41e5a8f646e6443a83d6"
       ],
       "layout": "IPY_MODEL_cf38af9f694246c7afd726027ab28759",
       "tabbable": null,
       "tooltip": null
      }
     },
     "4c9eef0288fc4105bb6c7f780301e50d": {
      "model_module": "@jupyter-widgets/controls",
      "model_module_version": "2.0.0",
      "model_name": "HTMLStyleModel",
      "state": {
       "_model_module": "@jupyter-widgets/controls",
       "_model_module_version": "2.0.0",
       "_model_name": "HTMLStyleModel",
       "_view_count": null,
       "_view_module": "@jupyter-widgets/base",
       "_view_module_version": "2.0.0",
       "_view_name": "StyleView",
       "background": null,
       "description_width": "",
       "font_size": null,
       "text_color": null
      }
     },
     "5f25c3645cdf4f01bf3b3c19ae03dcf0": {
      "model_module": "@jupyter-widgets/controls",
      "model_module_version": "2.0.0",
      "model_name": "ProgressStyleModel",
      "state": {
       "_model_module": "@jupyter-widgets/controls",
       "_model_module_version": "2.0.0",
       "_model_name": "ProgressStyleModel",
       "_view_count": null,
       "_view_module": "@jupyter-widgets/base",
       "_view_module_version": "2.0.0",
       "_view_name": "StyleView",
       "bar_color": null,
       "description_width": ""
      }
     },
     "a47c309748dd41e5a8f646e6443a83d6": {
      "model_module": "@jupyter-widgets/controls",
      "model_module_version": "2.0.0",
      "model_name": "HTMLModel",
      "state": {
       "_dom_classes": [],
       "_model_module": "@jupyter-widgets/controls",
       "_model_module_version": "2.0.0",
       "_model_name": "HTMLModel",
       "_view_count": null,
       "_view_module": "@jupyter-widgets/controls",
       "_view_module_version": "2.0.0",
       "_view_name": "HTMLView",
       "description": "",
       "description_allow_html": false,
       "layout": "IPY_MODEL_a980858932e0490dbb80ce915baf006a",
       "placeholder": "​",
       "style": "IPY_MODEL_b55962899e57479d9a8bad92408a53c1",
       "tabbable": null,
       "tooltip": null,
       "value": "00:00&lt;00:00"
      }
     },
     "a980858932e0490dbb80ce915baf006a": {
      "model_module": "@jupyter-widgets/base",
      "model_module_version": "2.0.0",
      "model_name": "LayoutModel",
      "state": {
       "_model_module": "@jupyter-widgets/base",
       "_model_module_version": "2.0.0",
       "_model_name": "LayoutModel",
       "_view_count": null,
       "_view_module": "@jupyter-widgets/base",
       "_view_module_version": "2.0.0",
       "_view_name": "LayoutView",
       "align_content": null,
       "align_items": null,
       "align_self": null,
       "border_bottom": null,
       "border_left": null,
       "border_right": null,
       "border_top": null,
       "bottom": null,
       "display": null,
       "flex": null,
       "flex_flow": null,
       "grid_area": null,
       "grid_auto_columns": null,
       "grid_auto_flow": null,
       "grid_auto_rows": null,
       "grid_column": null,
       "grid_gap": null,
       "grid_row": null,
       "grid_template_areas": null,
       "grid_template_columns": null,
       "grid_template_rows": null,
       "height": null,
       "justify_content": null,
       "justify_items": null,
       "left": null,
       "margin": null,
       "max_height": null,
       "max_width": null,
       "min_height": null,
       "min_width": null,
       "object_fit": null,
       "object_position": null,
       "order": null,
       "overflow": null,
       "padding": null,
       "right": null,
       "top": null,
       "visibility": null,
       "width": null
      }
     },
     "b55962899e57479d9a8bad92408a53c1": {
      "model_module": "@jupyter-widgets/controls",
      "model_module_version": "2.0.0",
      "model_name": "HTMLStyleModel",
      "state": {
       "_model_module": "@jupyter-widgets/controls",
       "_model_module_version": "2.0.0",
       "_model_name": "HTMLStyleModel",
       "_view_count": null,
       "_view_module": "@jupyter-widgets/base",
       "_view_module_version": "2.0.0",
       "_view_name": "StyleView",
       "background": null,
       "description_width": "",
       "font_size": null,
       "text_color": null
      }
     },
     "c1b45db8db86416e90f9e031fc1b26ff": {
      "model_module": "@jupyter-widgets/controls",
      "model_module_version": "2.0.0",
      "model_name": "FloatProgressModel",
      "state": {
       "_dom_classes": [],
       "_model_module": "@jupyter-widgets/controls",
       "_model_module_version": "2.0.0",
       "_model_name": "FloatProgressModel",
       "_view_count": null,
       "_view_module": "@jupyter-widgets/controls",
       "_view_module_version": "2.0.0",
       "_view_name": "ProgressView",
       "bar_style": "",
       "description": "",
       "description_allow_html": false,
       "layout": "IPY_MODEL_2346d09be1e14334bd8d8f8a8c32669d",
       "max": 1.0,
       "min": 0.0,
       "orientation": "horizontal",
       "style": "IPY_MODEL_5f25c3645cdf4f01bf3b3c19ae03dcf0",
       "tabbable": null,
       "tooltip": null,
       "value": 1.0
      }
     },
     "c61e910f93f6466589056c9c5234385a": {
      "model_module": "@jupyter-widgets/controls",
      "model_module_version": "2.0.0",
      "model_name": "HTMLModel",
      "state": {
       "_dom_classes": [],
       "_model_module": "@jupyter-widgets/controls",
       "_model_module_version": "2.0.0",
       "_model_name": "HTMLModel",
       "_view_count": null,
       "_view_module": "@jupyter-widgets/controls",
       "_view_module_version": "2.0.0",
       "_view_name": "HTMLView",
       "description": "",
       "description_allow_html": false,
       "layout": "IPY_MODEL_ed4f11b622104ab9bc8d9a8ee479be3b",
       "placeholder": "​",
       "style": "IPY_MODEL_4c9eef0288fc4105bb6c7f780301e50d",
       "tabbable": null,
       "tooltip": null,
       "value": "5/5:  100%"
      }
     },
     "cf38af9f694246c7afd726027ab28759": {
      "model_module": "@jupyter-widgets/base",
      "model_module_version": "2.0.0",
      "model_name": "LayoutModel",
      "state": {
       "_model_module": "@jupyter-widgets/base",
       "_model_module_version": "2.0.0",
       "_model_name": "LayoutModel",
       "_view_count": null,
       "_view_module": "@jupyter-widgets/base",
       "_view_module_version": "2.0.0",
       "_view_name": "LayoutView",
       "align_content": null,
       "align_items": null,
       "align_self": null,
       "border_bottom": null,
       "border_left": null,
       "border_right": null,
       "border_top": null,
       "bottom": null,
       "display": "inline-flex",
       "flex": null,
       "flex_flow": "row wrap",
       "grid_area": null,
       "grid_auto_columns": null,
       "grid_auto_flow": null,
       "grid_auto_rows": null,
       "grid_column": null,
       "grid_gap": null,
       "grid_row": null,
       "grid_template_areas": null,
       "grid_template_columns": null,
       "grid_template_rows": null,
       "height": null,
       "justify_content": null,
       "justify_items": null,
       "left": null,
       "margin": null,
       "max_height": null,
       "max_width": null,
       "min_height": null,
       "min_width": null,
       "object_fit": null,
       "object_position": null,
       "order": null,
       "overflow": null,
       "padding": null,
       "right": null,
       "top": null,
       "visibility": null,
       "width": "100%"
      }
     },
     "ed4f11b622104ab9bc8d9a8ee479be3b": {
      "model_module": "@jupyter-widgets/base",
      "model_module_version": "2.0.0",
      "model_name": "LayoutModel",
      "state": {
       "_model_module": "@jupyter-widgets/base",
       "_model_module_version": "2.0.0",
       "_model_name": "LayoutModel",
       "_view_count": null,
       "_view_module": "@jupyter-widgets/base",
       "_view_module_version": "2.0.0",
       "_view_name": "LayoutView",
       "align_content": null,
       "align_items": null,
       "align_self": null,
       "border_bottom": null,
       "border_left": null,
       "border_right": null,
       "border_top": null,
       "bottom": null,
       "display": null,
       "flex": null,
       "flex_flow": null,
       "grid_area": null,
       "grid_auto_columns": null,
       "grid_auto_flow": null,
       "grid_auto_rows": null,
       "grid_column": null,
       "grid_gap": null,
       "grid_row": null,
       "grid_template_areas": null,
       "grid_template_columns": null,
       "grid_template_rows": null,
       "height": null,
       "justify_content": null,
       "justify_items": null,
       "left": null,
       "margin": null,
       "max_height": null,
       "max_width": null,
       "min_height": null,
       "min_width": null,
       "object_fit": null,
       "object_position": null,
       "order": null,
       "overflow": null,
       "padding": null,
       "right": null,
       "top": null,
       "visibility": null,
       "width": null
      }
     }
    },
    "version_major": 2,
    "version_minor": 0
   }
  }
 },
 "nbformat": 4,
 "nbformat_minor": 5
}