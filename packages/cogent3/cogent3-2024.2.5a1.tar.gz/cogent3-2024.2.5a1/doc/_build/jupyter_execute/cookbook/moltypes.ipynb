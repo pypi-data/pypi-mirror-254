{
 "cells": [
  {
   "cell_type": "code",
   "execution_count": 1,
   "id": "e6a7ece3",
   "metadata": {
    "execution": {
     "iopub.execute_input": "2023-12-15T00:08:53.670508Z",
     "iopub.status.busy": "2023-12-15T00:08:53.670003Z",
     "iopub.status.idle": "2023-12-15T00:08:53.686316Z",
     "shell.execute_reply": "2023-12-15T00:08:53.685734Z"
    }
   },
   "outputs": [],
   "source": [
    "import set_working_directory"
   ]
  },
  {
   "cell_type": "code",
   "execution_count": 2,
   "id": "6112151d",
   "metadata": {
    "execution": {
     "iopub.execute_input": "2023-12-15T00:08:53.689467Z",
     "iopub.status.busy": "2023-12-15T00:08:53.689187Z",
     "iopub.status.idle": "2023-12-15T00:08:54.811048Z",
     "shell.execute_reply": "2023-12-15T00:08:54.810744Z"
    }
   },
   "outputs": [
    {
     "data": {
      "text/html": [
       "\n",
       "<div class=\"c3table\">\n",
       "\n",
       "<style>\n",
       ".c3table table {margin: 10px 0;}\n",
       ".c3table tr:last-child {border-bottom: 1px solid #000;} \n",
       ".c3table tr > th {text-align: left; padding: 0 5px;}\n",
       ".c3table tr > td {text-align: left; padding: 5px;}\n",
       ".c3table tr:nth-child(even) {background: #f7f7f7 !important;}\n",
       ".c3table .ellipsis {background: rgba(0, 0, 0, .01);}\n",
       ".c3table .index {background: rgba(161, 195, 209, 0.25); margin: 10px; font-weight: 600;}\n",
       ".c3table .head_cell {background: rgba(161, 195, 209, 0.75); font-weight: bold; text-align: center;}\n",
       ".c3table caption {color: rgb(250, 250, 250); background: rgba(30, 140, 200, 1); padding: 3px; white-space: nowrap; caption-side: top;}\n",
       ".c3table .cell_title {font-weight: bold;}\n",
       ".c3col_left { text-align: left !important; display: block;}\n",
       ".c3col_right { text-align: right !important; display: block;}\n",
       ".c3col_center { text-align: center !important; display: block;}\n",
       "</style>\n",
       "\n",
       "<table>\n",
       "\n",
       "<caption>\n",
       "<span class=\"cell_title\">Specify a moltype by the Abbreviation (case insensitive).</span>\n",
       "</caption>\n",
       "<thead class=\"head_cell\">\n",
       "<th>Abbreviation</th><th>Number of states</th><th>Moltype</th>\n",
       "</thead>\n",
       "<tbody>\n",
       "<tr><td class=\"index\"><span class=\"c3col_left\">'ab'</span></td><td><span class=\"c3col_right\">2</span></td><td><span class=\"c3col_left\">MolType(('a', 'b'))</span></td></tr>\n",
       "<tr><td class=\"index\"><span class=\"c3col_left\">'dna'</span></td><td><span class=\"c3col_right\">4</span></td><td><span class=\"c3col_left\">MolType(('T', 'C', 'A', 'G'))</span></td></tr>\n",
       "<tr><td class=\"index\"><span class=\"c3col_left\">'rna'</span></td><td><span class=\"c3col_right\">4</span></td><td><span class=\"c3col_left\">MolType(('U', 'C', 'A', 'G'))</span></td></tr>\n",
       "<tr><td class=\"index\"><span class=\"c3col_left\">'protein'</span></td><td><span class=\"c3col_right\">21</span></td><td><span class=\"c3col_left\">MolType(('A', 'C', 'D', 'E', 'F', 'G', ...</span></td></tr>\n",
       "<tr><td class=\"index\"><span class=\"c3col_left\">'protein_with_stop'</span></td><td><span class=\"c3col_right\">22</span></td><td><span class=\"c3col_left\">MolType(('A', 'C', 'D', 'E', 'F', 'G', ...</span></td></tr>\n",
       "<tr><td class=\"index\"><span class=\"c3col_left\">'text'</span></td><td><span class=\"c3col_right\">52</span></td><td><span class=\"c3col_left\">MolType(('a', 'b', 'c', 'd', 'e', 'f', ...</span></td></tr>\n",
       "<tr><td class=\"index\"><span class=\"c3col_left\">'bytes'</span></td><td><span class=\"c3col_right\">256</span></td><td><span class=\"c3col_left\">MolType(('\\x00', '\\x01', '\\x02', '\\x03'...</span></td></tr>\n",
       "</tbody>\n",
       "</table>\n",
       "<p>\n",
       "7 rows x 3 columns</p>\n",
       "</div>"
      ],
      "text/plain": [
       "Specify a moltype by the Abbreviation (case insensitive).\n",
       "=====================================================================================\n",
       "       Abbreviation    Number of states    Moltype                                   \n",
       "-------------------------------------------------------------------------------------\n",
       "               'ab'                   2    MolType(('a', 'b'))                       \n",
       "              'dna'                   4    MolType(('T', 'C', 'A', 'G'))             \n",
       "              'rna'                   4    MolType(('U', 'C', 'A', 'G'))             \n",
       "          'protein'                  21    MolType(('A', 'C', 'D', 'E', 'F', 'G', ...\n",
       "'protein_with_stop'                  22    MolType(('A', 'C', 'D', 'E', 'F', 'G', ...\n",
       "             'text'                  52    MolType(('a', 'b', 'c', 'd', 'e', 'f', ...\n",
       "            'bytes'                 256    MolType(('\\x00', '\\x01', '\\x02', '\\x03'...\n",
       "-------------------------------------------------------------------------------------\n",
       "\n",
       "7 rows x 3 columns"
      ]
     },
     "execution_count": 2,
     "metadata": {},
     "output_type": "execute_result"
    }
   ],
   "source": [
    "from cogent3 import available_moltypes\n",
    "\n",
    "available_moltypes()"
   ]
  },
  {
   "cell_type": "code",
   "execution_count": 3,
   "id": "8bdf8b61",
   "metadata": {
    "execution": {
     "iopub.execute_input": "2023-12-15T00:08:54.812426Z",
     "iopub.status.busy": "2023-12-15T00:08:54.812329Z",
     "iopub.status.idle": "2023-12-15T00:08:54.815423Z",
     "shell.execute_reply": "2023-12-15T00:08:54.815201Z"
    }
   },
   "outputs": [],
   "source": [
    "from cogent3 import load_aligned_seqs\n",
    "\n",
    "seqs = load_aligned_seqs(\"data/brca1-bats.fasta\", moltype=\"dna\")"
   ]
  },
  {
   "cell_type": "code",
   "execution_count": 4,
   "id": "85fa7a78",
   "metadata": {
    "execution": {
     "iopub.execute_input": "2023-12-15T00:08:54.816592Z",
     "iopub.status.busy": "2023-12-15T00:08:54.816522Z",
     "iopub.status.idle": "2023-12-15T00:08:54.818514Z",
     "shell.execute_reply": "2023-12-15T00:08:54.818286Z"
    }
   },
   "outputs": [
    {
     "data": {
      "text/plain": [
       "MolType(('T', 'C', 'A', 'G'))"
      ]
     },
     "execution_count": 4,
     "metadata": {},
     "output_type": "execute_result"
    }
   ],
   "source": [
    "from cogent3 import get_moltype\n",
    "\n",
    "dna = get_moltype(\"dna\")\n",
    "dna"
   ]
  },
  {
   "cell_type": "code",
   "execution_count": 5,
   "id": "a57af6b8",
   "metadata": {
    "execution": {
     "iopub.execute_input": "2023-12-15T00:08:54.819738Z",
     "iopub.status.busy": "2023-12-15T00:08:54.819673Z",
     "iopub.status.idle": "2023-12-15T00:08:54.821797Z",
     "shell.execute_reply": "2023-12-15T00:08:54.821567Z"
    }
   },
   "outputs": [
    {
     "data": {
      "text/plain": [
       "{'?': ('T', 'C', 'A', 'G', '-'),\n",
       " '-': ('-',),\n",
       " 'N': ('A', 'C', 'T', 'G'),\n",
       " 'R': ('A', 'G'),\n",
       " 'Y': ('C', 'T'),\n",
       " 'W': ('A', 'T'),\n",
       " 'S': ('C', 'G'),\n",
       " 'K': ('T', 'G'),\n",
       " 'M': ('C', 'A'),\n",
       " 'B': ('C', 'T', 'G'),\n",
       " 'D': ('A', 'T', 'G'),\n",
       " 'H': ('A', 'C', 'T'),\n",
       " 'V': ('A', 'C', 'G'),\n",
       " 'T': ('T',),\n",
       " 'C': ('C',),\n",
       " 'A': ('A',),\n",
       " 'G': ('G',)}"
      ]
     },
     "execution_count": 5,
     "metadata": {},
     "output_type": "execute_result"
    }
   ],
   "source": [
    "dna.ambiguities"
   ]
  },
  {
   "cell_type": "code",
   "execution_count": 6,
   "id": "e195a9d0",
   "metadata": {
    "execution": {
     "iopub.execute_input": "2023-12-15T00:08:54.822925Z",
     "iopub.status.busy": "2023-12-15T00:08:54.822855Z",
     "iopub.status.idle": "2023-12-15T00:08:54.824857Z",
     "shell.execute_reply": "2023-12-15T00:08:54.824618Z"
    }
   },
   "outputs": [
    {
     "data": {
      "text/plain": [
       "{'N': ('A', 'C', 'T', 'G'),\n",
       " 'R': ('A', 'G'),\n",
       " 'Y': ('C', 'T'),\n",
       " 'W': ('A', 'T'),\n",
       " 'S': ('C', 'G'),\n",
       " 'K': ('T', 'G'),\n",
       " 'M': ('C', 'A'),\n",
       " 'B': ('C', 'T', 'G'),\n",
       " 'D': ('A', 'T', 'G'),\n",
       " 'H': ('A', 'C', 'T'),\n",
       " 'V': ('A', 'C', 'G'),\n",
       " '?': 'TCAG-'}"
      ]
     },
     "execution_count": 6,
     "metadata": {},
     "output_type": "execute_result"
    }
   ],
   "source": [
    "dna.degenerates"
   ]
  },
  {
   "cell_type": "code",
   "execution_count": 7,
   "id": "90e98964",
   "metadata": {
    "execution": {
     "iopub.execute_input": "2023-12-15T00:08:54.825968Z",
     "iopub.status.busy": "2023-12-15T00:08:54.825903Z",
     "iopub.status.idle": "2023-12-15T00:08:54.827694Z",
     "shell.execute_reply": "2023-12-15T00:08:54.827471Z"
    }
   },
   "outputs": [
    {
     "data": {
      "text/plain": [
       "'TCC'"
      ]
     },
     "execution_count": 7,
     "metadata": {},
     "output_type": "execute_result"
    }
   ],
   "source": [
    "dna.complement(\"AGG\")"
   ]
  },
  {
   "cell_type": "code",
   "execution_count": 8,
   "id": "bd7c73d9",
   "metadata": {
    "execution": {
     "iopub.execute_input": "2023-12-15T00:08:54.828787Z",
     "iopub.status.busy": "2023-12-15T00:08:54.828720Z",
     "iopub.status.idle": "2023-12-15T00:08:54.831018Z",
     "shell.execute_reply": "2023-12-15T00:08:54.830771Z"
    }
   },
   "outputs": [
    {
     "data": {
      "text/html": [
       "<style>\n",
       ".c3seq table {margin: 10px 0;}\n",
       ".c3seq td { border: none !important; text-align: left !important; }\n",
       ".c3seq tr:not(.num_row) td span {margin: 0 2px;}\n",
       ".c3seq tr:nth-child(even) {background: #f7f7f7;}\n",
       ".c3seq .num_row {background-color:rgba(161, 195, 209, 0.5) !important; border-top: solid 1px black; }\n",
       ".c3seq .label { font-size: 12pt ; text-align: right !important; color: black !important; padding: 0 4px; }\n",
       ".c3seq .T_dna{font-family: \"Lucida Console\",monospace !important; font-size: 12pt !important; color: blue; }\n",
       ".c3seq .C_dna{font-family: \"Lucida Console\",monospace !important; font-size: 12pt !important; color: black; }\n",
       ".c3seq .A_dna{font-family: \"Lucida Console\",monospace !important; font-size: 12pt !important; color: #FF0102; }\n",
       ".c3seq .G_dna{font-family: \"Lucida Console\",monospace !important; font-size: 12pt !important; color: green; }\n",
       ".c3seq .terminal_ambig_dna{font-family: \"Lucida Console\",monospace !important; font-size: 12pt !important; color: gray; }\n",
       ".c3seq .ambig_dna{font-family: \"Lucida Console\",monospace !important; font-size: 12pt !important; color: gray; }\n",
       "</style>\n",
       "<div class=\"c3seq\">\n",
       "<table>\n",
       "<tr class=\"num_row\"><td></td><td><b>0</b></td></tr>\n",
       "<tr><td class=\"label\">seq1</td><td><span class=\"A_dna\">A</span><span class=\"G_dna\">G</span><span class=\"G_dna\">G</span><span class=\"C_dna\">C</span><span class=\"T_dna\">T</span><span class=\"T_dna\">T</span></td></tr>\n",
       "</table>\n",
       "<p><i>DnaSequence, length=6</i></p>\n",
       "</div>"
      ],
      "text/plain": [
       "DnaSequence(AGGCTT)"
      ]
     },
     "execution_count": 8,
     "metadata": {},
     "output_type": "execute_result"
    }
   ],
   "source": [
    "seq = dna.make_seq(\"AGGCTT\", name=\"seq1\")\n",
    "seq"
   ]
  },
  {
   "cell_type": "code",
   "execution_count": 9,
   "id": "45fd7546",
   "metadata": {
    "execution": {
     "iopub.execute_input": "2023-12-15T00:08:54.832078Z",
     "iopub.status.busy": "2023-12-15T00:08:54.832012Z",
     "iopub.status.idle": "2023-12-15T00:08:54.833818Z",
     "shell.execute_reply": "2023-12-15T00:08:54.833584Z"
    }
   },
   "outputs": [
    {
     "data": {
      "text/plain": [
       "True"
      ]
     },
     "execution_count": 9,
     "metadata": {},
     "output_type": "execute_result"
    }
   ],
   "source": [
    "rna = get_moltype(\"rna\")\n",
    "rna.is_valid(\"ACGUACGUACGUACGU\")"
   ]
  },
  {
   "cell_type": "code",
   "execution_count": 10,
   "id": "d74918fd",
   "metadata": {
    "execution": {
     "iopub.execute_input": "2023-12-15T00:08:54.834935Z",
     "iopub.status.busy": "2023-12-15T00:08:54.834851Z",
     "iopub.status.idle": "2023-12-15T00:08:54.837821Z",
     "shell.execute_reply": "2023-12-15T00:08:54.837590Z"
    }
   },
   "outputs": [
    {
     "data": {
      "text/html": [
       "<style>\n",
       ".c3seq table {margin: 10px 0;}\n",
       ".c3seq td { border: none !important; text-align: left !important; }\n",
       ".c3seq tr:not(.num_row) td span {margin: 0 2px;}\n",
       ".c3seq tr:nth-child(even) {background: #f7f7f7;}\n",
       ".c3seq .num_row {background-color:rgba(161, 195, 209, 0.5) !important; border-top: solid 1px black; }\n",
       ".c3seq .label { font-size: 12pt ; text-align: right !important; color: black !important; padding: 0 4px; }\n",
       ".c3seq .T_{font-family: \"Lucida Console\",monospace !important; font-size: 12pt !important; color: black; }\n",
       ".c3seq .C_{font-family: \"Lucida Console\",monospace !important; font-size: 12pt !important; color: black; }\n",
       ".c3seq .A_{font-family: \"Lucida Console\",monospace !important; font-size: 12pt !important; color: black; }\n",
       ".c3seq .G_{font-family: \"Lucida Console\",monospace !important; font-size: 12pt !important; color: black; }\n",
       ".c3seq .terminal_ambig_{font-family: \"Lucida Console\",monospace !important; font-size: 12pt !important; color: black; }\n",
       ".c3seq .ambig_{font-family: \"Lucida Console\",monospace !important; font-size: 12pt !important; color: black; }\n",
       "</style>\n",
       "<div class=\"c3seq\">\n",
       "<table>\n",
       "<tr class=\"num_row\"><td></td><td><b>0</b></td></tr>\n",
       "<tr><td class=\"label\">None</td><td><span class=\"A_\">A</span><span class=\"C_\">C</span><span class=\"G_\">G</span><span class=\"terminal_ambig_None\">.</span></td></tr>\n",
       "</table>\n",
       "<p><i>DnaSequence, length=4</i></p>\n",
       "</div>"
      ],
      "text/plain": [
       "DnaSequence(ACG.)"
      ]
     },
     "execution_count": 10,
     "metadata": {},
     "output_type": "execute_result"
    }
   ],
   "source": [
    "from cogent3.core import moltype as mt\n",
    "\n",
    "DNAgapped = mt.MolType(\n",
    "    seq_constructor=mt.DnaSequence,\n",
    "    motifset=mt.IUPAC_DNA_chars,\n",
    "    ambiguities=mt.IUPAC_DNA_ambiguities,\n",
    "    complements=mt.IUPAC_DNA_ambiguities_complements,\n",
    "    pairs=mt.DnaStandardPairs,\n",
    "    gaps=\".\",\n",
    ")\n",
    "seq = DNAgapped.make_seq(\"ACG.\")\n",
    "seq"
   ]
  },
  {
   "cell_type": "code",
   "execution_count": 11,
   "id": "a7c742dc",
   "metadata": {
    "execution": {
     "iopub.execute_input": "2023-12-15T00:08:54.838934Z",
     "iopub.status.busy": "2023-12-15T00:08:54.838853Z",
     "iopub.status.idle": "2023-12-15T00:08:54.840352Z",
     "shell.execute_reply": "2023-12-15T00:08:54.840128Z"
    }
   },
   "outputs": [],
   "source": [
    "from cogent3 import DNA\n",
    "from cogent3.core.sequence import DnaSequence\n",
    "\n",
    "DnaSequence.moltype = DNA"
   ]
  }
 ],
 "metadata": {
  "kernelspec": {
   "display_name": "Python 3 (ipykernel)",
   "language": "python",
   "name": "python3"
  },
  "language_info": {
   "codemirror_mode": {
    "name": "ipython",
    "version": 3
   },
   "file_extension": ".py",
   "mimetype": "text/x-python",
   "name": "python",
   "nbconvert_exporter": "python",
   "pygments_lexer": "ipython3",
   "version": "3.11.6"
  }
 },
 "nbformat": 4,
 "nbformat_minor": 5
}