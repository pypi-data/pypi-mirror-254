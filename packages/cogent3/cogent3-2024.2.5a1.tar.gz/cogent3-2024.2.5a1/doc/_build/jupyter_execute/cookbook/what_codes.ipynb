{
 "cells": [
  {
   "cell_type": "code",
   "execution_count": 1,
   "id": "42b6590d",
   "metadata": {
    "execution": {
     "iopub.execute_input": "2023-12-15T00:09:08.930418Z",
     "iopub.status.busy": "2023-12-15T00:09:08.929935Z",
     "iopub.status.idle": "2023-12-15T00:09:08.947214Z",
     "shell.execute_reply": "2023-12-15T00:09:08.946678Z"
    }
   },
   "outputs": [],
   "source": [
    "import set_working_directory"
   ]
  },
  {
   "cell_type": "code",
   "execution_count": 2,
   "id": "d4260528",
   "metadata": {
    "execution": {
     "iopub.execute_input": "2023-12-15T00:09:08.950270Z",
     "iopub.status.busy": "2023-12-15T00:09:08.950012Z",
     "iopub.status.idle": "2023-12-15T00:09:10.070743Z",
     "shell.execute_reply": "2023-12-15T00:09:10.070414Z"
    }
   },
   "outputs": [
    {
     "data": {
      "text/html": [
       "\n",
       "<div class=\"c3table\">\n",
       "\n",
       "<style>\n",
       ".c3table table {margin: 10px 0;}\n",
       ".c3table tr:last-child {border-bottom: 1px solid #000;} \n",
       ".c3table tr > th {text-align: left; padding: 0 5px;}\n",
       ".c3table tr > td {text-align: left; padding: 5px;}\n",
       ".c3table tr:nth-child(even) {background: #f7f7f7 !important;}\n",
       ".c3table .ellipsis {background: rgba(0, 0, 0, .01);}\n",
       ".c3table .index {background: rgba(161, 195, 209, 0.25); margin: 10px; font-weight: 600;}\n",
       ".c3table .head_cell {background: rgba(161, 195, 209, 0.75); font-weight: bold; text-align: center;}\n",
       ".c3table caption {color: rgb(250, 250, 250); background: rgba(30, 140, 200, 1); padding: 3px; white-space: nowrap; caption-side: top;}\n",
       ".c3table .cell_title {font-weight: bold;}\n",
       ".c3col_left { text-align: left !important; display: block;}\n",
       ".c3col_right { text-align: right !important; display: block;}\n",
       ".c3col_center { text-align: center !important; display: block;}\n",
       "</style>\n",
       "\n",
       "<table>\n",
       "\n",
       "<caption>\n",
       "<span class=\"cell_title\">Specify a genetic code using either 'Name' or Code ID (as an integer or string)</span>\n",
       "</caption>\n",
       "<thead class=\"head_cell\">\n",
       "<th>Code ID</th><th>Name</th>\n",
       "</thead>\n",
       "<tbody>\n",
       "<tr><td class=\"index\"><span class=\"c3col_right\">1</span></td><td><span class=\"c3col_left\">Standard</span></td></tr>\n",
       "<tr><td class=\"index\"><span class=\"c3col_right\">2</span></td><td><span class=\"c3col_left\">Vertebrate Mitochondrial</span></td></tr>\n",
       "<tr><td class=\"index\"><span class=\"c3col_right\">3</span></td><td><span class=\"c3col_left\">Yeast Mitochondrial</span></td></tr>\n",
       "<tr><td class=\"index\"><span class=\"c3col_right\">4</span></td><td><span class=\"c3col_left\">Mold Mitochondrial; Protozoan Mitochondrial; Coelenterate Mitochondrial; Mycoplasma; Spiroplasma</span></td></tr>\n",
       "<tr><td class=\"index\"><span class=\"c3col_right\">5</span></td><td><span class=\"c3col_left\">Invertebrate Mitochondrial</span></td></tr>\n",
       "<tr><td class=\"index\"><span class=\"c3col_right\">6</span></td><td><span class=\"c3col_left\">Ciliate Nuclear; Dasycladacean Nuclear; Hexamita Nuclear</span></td></tr>\n",
       "<tr><td class=\"index\"><span class=\"c3col_right\">9</span></td><td><span class=\"c3col_left\">Echinoderm Mitochondrial; Flatworm Mitochondrial</span></td></tr>\n",
       "<tr><td class=\"index\"><span class=\"c3col_right\">10</span></td><td><span class=\"c3col_left\">Euplotid Nuclear</span></td></tr>\n",
       "<tr><td class=\"index\"><span class=\"c3col_right\">11</span></td><td><span class=\"c3col_left\">Bacterial, Archaeal and Plant Plastid</span></td></tr>\n",
       "<tr><td class=\"index\"><span class=\"c3col_right\">12</span></td><td><span class=\"c3col_left\">Alternative Yeast Nuclear</span></td></tr>\n",
       "<tr><td class=\"index\"><span class=\"c3col_right\">13</span></td><td><span class=\"c3col_left\">Ascidian Mitochondrial</span></td></tr>\n",
       "<tr><td class=\"index\"><span class=\"c3col_right\">14</span></td><td><span class=\"c3col_left\">Alternative Flatworm Mitochondrial</span></td></tr>\n",
       "<tr><td class=\"index\"><span class=\"c3col_right\">15</span></td><td><span class=\"c3col_left\">Blepharisma Macronuclear</span></td></tr>\n",
       "<tr><td class=\"index\"><span class=\"c3col_right\">16</span></td><td><span class=\"c3col_left\">Chlorophycean Mitochondrial</span></td></tr>\n",
       "<tr><td class=\"index\"><span class=\"c3col_right\">21</span></td><td><span class=\"c3col_left\">Trematode Mitochondrial</span></td></tr>\n",
       "<tr><td class=\"index\"><span class=\"c3col_right\">22</span></td><td><span class=\"c3col_left\">Scenedesmus obliquus Mitochondrial</span></td></tr>\n",
       "<tr><td class=\"index\"><span class=\"c3col_right\">23</span></td><td><span class=\"c3col_left\">Thraustochytrium Mitochondrial</span></td></tr>\n",
       "<tr><td class=\"index\"><span class=\"c3col_right\">24</span></td><td><span class=\"c3col_left\">Rhabdopleuridae Mitochondrial</span></td></tr>\n",
       "<tr><td class=\"index\"><span class=\"c3col_right\">25</span></td><td><span class=\"c3col_left\">Candidate Division SR1 and Gracilibacteria</span></td></tr>\n",
       "<tr><td class=\"index\"><span class=\"c3col_right\">26</span></td><td><span class=\"c3col_left\">Pachysolen tannophilus Nuclear</span></td></tr>\n",
       "<tr><td class=\"index\"><span class=\"c3col_right\">27</span></td><td><span class=\"c3col_left\">Karyorelict Nuclear</span></td></tr>\n",
       "<tr><td class=\"index\"><span class=\"c3col_right\">28</span></td><td><span class=\"c3col_left\">Condylostoma Nuclear</span></td></tr>\n",
       "<tr><td class=\"index\"><span class=\"c3col_right\">29</span></td><td><span class=\"c3col_left\">Mesodinium Nuclear</span></td></tr>\n",
       "<tr><td class=\"index\"><span class=\"c3col_right\">30</span></td><td><span class=\"c3col_left\">Peritrich Nuclear</span></td></tr>\n",
       "<tr><td class=\"index\"><span class=\"c3col_right\">31</span></td><td><span class=\"c3col_left\">Blastocrithidia Nuclear</span></td></tr>\n",
       "<tr><td class=\"index\"><span class=\"c3col_right\">32</span></td><td><span class=\"c3col_left\">Balanophoraceae Plastid</span></td></tr>\n",
       "<tr><td class=\"index\"><span class=\"c3col_right\">33</span></td><td><span class=\"c3col_left\">Cephalodiscidae Mitochondrial</span></td></tr>\n",
       "</tbody>\n",
       "</table>\n",
       "<p>\n",
       "27 rows x 2 columns</p>\n",
       "</div>"
      ],
      "text/plain": [
       "Specify a genetic code using either 'Name' or Code ID (as an integer or string)\n",
       "===========================================================================================================\n",
       "Code ID    Name                                                                                            \n",
       "-----------------------------------------------------------------------------------------------------------\n",
       "      1    Standard                                                                                        \n",
       "      2    Vertebrate Mitochondrial                                                                        \n",
       "      3    Yeast Mitochondrial                                                                             \n",
       "      4    Mold Mitochondrial; Protozoan Mitochondrial; Coelenterate Mitochondrial; Mycoplasma; Spiroplasma\n",
       "      5    Invertebrate Mitochondrial                                                                      \n",
       "      6    Ciliate Nuclear; Dasycladacean Nuclear; Hexamita Nuclear                                        \n",
       "      9    Echinoderm Mitochondrial; Flatworm Mitochondrial                                                \n",
       "     10    Euplotid Nuclear                                                                                \n",
       "     11    Bacterial, Archaeal and Plant Plastid                                                           \n",
       "     12    Alternative Yeast Nuclear                                                                       \n",
       "     13    Ascidian Mitochondrial                                                                          \n",
       "     14    Alternative Flatworm Mitochondrial                                                              \n",
       "     15    Blepharisma Macronuclear                                                                        \n",
       "     16    Chlorophycean Mitochondrial                                                                     \n",
       "     21    Trematode Mitochondrial                                                                         \n",
       "     22    Scenedesmus obliquus Mitochondrial                                                              \n",
       "     23    Thraustochytrium Mitochondrial                                                                  \n",
       "     24    Rhabdopleuridae Mitochondrial                                                                   \n",
       "     25    Candidate Division SR1 and Gracilibacteria                                                      \n",
       "     26    Pachysolen tannophilus Nuclear                                                                  \n",
       "     27    Karyorelict Nuclear                                                                             \n",
       "     28    Condylostoma Nuclear                                                                            \n",
       "     29    Mesodinium Nuclear                                                                              \n",
       "     30    Peritrich Nuclear                                                                               \n",
       "     31    Blastocrithidia Nuclear                                                                         \n",
       "     32    Balanophoraceae Plastid                                                                         \n",
       "     33    Cephalodiscidae Mitochondrial                                                                   \n",
       "-----------------------------------------------------------------------------------------------------------\n",
       "\n",
       "27 rows x 2 columns"
      ]
     },
     "execution_count": 2,
     "metadata": {},
     "output_type": "execute_result"
    }
   ],
   "source": [
    "from cogent3 import available_codes\n",
    "\n",
    "available_codes()"
   ]
  },
  {
   "cell_type": "code",
   "execution_count": 3,
   "id": "171a19f1",
   "metadata": {
    "execution": {
     "iopub.execute_input": "2023-12-15T00:09:10.072121Z",
     "iopub.status.busy": "2023-12-15T00:09:10.072017Z",
     "iopub.status.idle": "2023-12-15T00:09:10.074873Z",
     "shell.execute_reply": "2023-12-15T00:09:10.074646Z"
    }
   },
   "outputs": [
    {
     "data": {
      "text/html": [
       "\n",
       "<div class=\"c3table\">\n",
       "\n",
       "<style>\n",
       ".c3table table {margin: 10px 0;}\n",
       ".c3table tr:last-child {border-bottom: 1px solid #000;} \n",
       ".c3table tr > th {text-align: left; padding: 0 5px;}\n",
       ".c3table tr > td {text-align: left; padding: 5px;}\n",
       ".c3table tr:nth-child(even) {background: #f7f7f7 !important;}\n",
       ".c3table .ellipsis {background: rgba(0, 0, 0, .01);}\n",
       ".c3table .index {background: rgba(161, 195, 209, 0.0); margin: 10px; font-weight: 600;}\n",
       ".c3table .head_cell {background: rgba(161, 195, 209, 0.75); font-weight: bold; text-align: center;}\n",
       ".c3table caption {color: rgb(250, 250, 250); background: rgba(30, 140, 200, 1); padding: 3px; white-space: nowrap; caption-side: top;}\n",
       ".c3table .cell_title {font-weight: bold;}\n",
       ".c3col_left { text-align: left !important; display: block;}\n",
       ".c3col_right { text-align: right !important; display: block;}\n",
       ".c3col_center { text-align: center !important; display: block;}\n",
       "</style>\n",
       "\n",
       "<table>\n",
       "\n",
       "<caption>\n",
       "<span class=\"cell_title\">Mold Mitochondrial; Protozoan Mitochondrial; Coelenterate Mitochondrial; Mycoplasma; Spiroplasma</span>\n",
       "</caption>\n",
       "<thead class=\"head_cell\">\n",
       "<th>aa</th><th>IUPAC code</th><th>codons</th>\n",
       "</thead>\n",
       "<tbody>\n",
       "<tr><td><span class=\"c3col_left\">Alanine</span></td><td><span class=\"c3col_left\">A</span></td><td><span class=\"c3col_left\">GCT,GCC,GCA,GCG</span></td></tr>\n",
       "<tr><td><span class=\"c3col_left\">Cysteine</span></td><td><span class=\"c3col_left\">C</span></td><td><span class=\"c3col_left\">TGT,TGC</span></td></tr>\n",
       "<tr><td><span class=\"c3col_left\">Aspartic Acid</span></td><td><span class=\"c3col_left\">D</span></td><td><span class=\"c3col_left\">GAT,GAC</span></td></tr>\n",
       "<tr><td><span class=\"c3col_left\">Glutamic Acid</span></td><td><span class=\"c3col_left\">E</span></td><td><span class=\"c3col_left\">GAA,GAG</span></td></tr>\n",
       "<tr><td><span class=\"c3col_left\">Phenylalanine</span></td><td><span class=\"c3col_left\">F</span></td><td><span class=\"c3col_left\">TTT,TTC</span></td></tr>\n",
       "<tr><td><span class=\"c3col_left\">Glycine</span></td><td><span class=\"c3col_left\">G</span></td><td><span class=\"c3col_left\">GGT,GGC,GGA,GGG</span></td></tr>\n",
       "<tr><td><span class=\"c3col_left\">Histidine</span></td><td><span class=\"c3col_left\">H</span></td><td><span class=\"c3col_left\">CAT,CAC</span></td></tr>\n",
       "<tr><td><span class=\"c3col_left\">Isoleucine</span></td><td><span class=\"c3col_left\">I</span></td><td><span class=\"c3col_left\">ATT,ATC,ATA</span></td></tr>\n",
       "<tr><td><span class=\"c3col_left\">Lysine</span></td><td><span class=\"c3col_left\">K</span></td><td><span class=\"c3col_left\">AAA,AAG</span></td></tr>\n",
       "<tr><td><span class=\"c3col_left\">Leucine</span></td><td><span class=\"c3col_left\">L</span></td><td><span class=\"c3col_left\">TTA,TTG,CTT,CTC,CTA,CTG</span></td></tr>\n",
       "<tr><td><span class=\"c3col_left\">Methionine</span></td><td><span class=\"c3col_left\">M</span></td><td><span class=\"c3col_left\">ATG</span></td></tr>\n",
       "<tr><td><span class=\"c3col_left\">Asparagine</span></td><td><span class=\"c3col_left\">N</span></td><td><span class=\"c3col_left\">AAT,AAC</span></td></tr>\n",
       "<tr><td><span class=\"c3col_left\">Proline</span></td><td><span class=\"c3col_left\">P</span></td><td><span class=\"c3col_left\">CCT,CCC,CCA,CCG</span></td></tr>\n",
       "<tr><td><span class=\"c3col_left\">Glutamine</span></td><td><span class=\"c3col_left\">Q</span></td><td><span class=\"c3col_left\">CAA,CAG</span></td></tr>\n",
       "<tr><td><span class=\"c3col_left\">Arginine</span></td><td><span class=\"c3col_left\">R</span></td><td><span class=\"c3col_left\">CGT,CGC,CGA,CGG,AGA,AGG</span></td></tr>\n",
       "<tr><td><span class=\"c3col_left\">Serine</span></td><td><span class=\"c3col_left\">S</span></td><td><span class=\"c3col_left\">TCT,TCC,TCA,TCG,AGT,AGC</span></td></tr>\n",
       "<tr><td><span class=\"c3col_left\">Threonine</span></td><td><span class=\"c3col_left\">T</span></td><td><span class=\"c3col_left\">ACT,ACC,ACA,ACG</span></td></tr>\n",
       "<tr><td><span class=\"c3col_left\">Valine</span></td><td><span class=\"c3col_left\">V</span></td><td><span class=\"c3col_left\">GTT,GTC,GTA,GTG</span></td></tr>\n",
       "<tr><td><span class=\"c3col_left\">Tryptophan</span></td><td><span class=\"c3col_left\">W</span></td><td><span class=\"c3col_left\">TGA,TGG</span></td></tr>\n",
       "<tr><td><span class=\"c3col_left\">Tyrosine</span></td><td><span class=\"c3col_left\">Y</span></td><td><span class=\"c3col_left\">TAT,TAC</span></td></tr>\n",
       "<tr><td><span class=\"c3col_left\">STOP</span></td><td><span class=\"c3col_left\">*</span></td><td><span class=\"c3col_left\">TAA,TAG</span></td></tr>\n",
       "</tbody>\n",
       "</table>\n",
       "\n",
       "</div>"
      ],
      "text/plain": [
       "Mold Mitochondrial; Protozoan Mitochondrial; Coelenterate Mitochondrial; Mycoplasma; Spiroplasma\n",
       "======================================================\n",
       "aa               IUPAC code    codons                 \n",
       "------------------------------------------------------\n",
       "Alanine          A             GCT,GCC,GCA,GCG        \n",
       "Cysteine         C             TGT,TGC                \n",
       "Aspartic Acid    D             GAT,GAC                \n",
       "Glutamic Acid    E             GAA,GAG                \n",
       "Phenylalanine    F             TTT,TTC                \n",
       "Glycine          G             GGT,GGC,GGA,GGG        \n",
       "Histidine        H             CAT,CAC                \n",
       "Isoleucine       I             ATT,ATC,ATA            \n",
       "Lysine           K             AAA,AAG                \n",
       "Leucine          L             TTA,TTG,CTT,CTC,CTA,CTG\n",
       "Methionine       M             ATG                    \n",
       "Asparagine       N             AAT,AAC                \n",
       "Proline          P             CCT,CCC,CCA,CCG        \n",
       "Glutamine        Q             CAA,CAG                \n",
       "Arginine         R             CGT,CGC,CGA,CGG,AGA,AGG\n",
       "Serine           S             TCT,TCC,TCA,TCG,AGT,AGC\n",
       "Threonine        T             ACT,ACC,ACA,ACG        \n",
       "Valine           V             GTT,GTC,GTA,GTG        \n",
       "Tryptophan       W             TGA,TGG                \n",
       "Tyrosine         Y             TAT,TAC                \n",
       "STOP             *             TAA,TAG                \n",
       "------------------------------------------------------"
      ]
     },
     "execution_count": 3,
     "metadata": {},
     "output_type": "execute_result"
    }
   ],
   "source": [
    "from cogent3 import get_code\n",
    "\n",
    "gc = get_code(4)\n",
    "gc"
   ]
  }
 ],
 "metadata": {
  "kernelspec": {
   "display_name": "Python 3 (ipykernel)",
   "language": "python",
   "name": "python3"
  },
  "language_info": {
   "codemirror_mode": {
    "name": "ipython",
    "version": 3
   },
   "file_extension": ".py",
   "mimetype": "text/x-python",
   "name": "python",
   "nbconvert_exporter": "python",
   "pygments_lexer": "ipython3",
   "version": "3.11.6"
  }
 },
 "nbformat": 4,
 "nbformat_minor": 5
}