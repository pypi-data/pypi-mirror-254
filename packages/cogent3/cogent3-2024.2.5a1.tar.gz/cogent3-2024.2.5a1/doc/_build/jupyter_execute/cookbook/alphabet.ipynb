{
 "cells": [
  {
   "cell_type": "code",
   "execution_count": 1,
   "id": "aa03c25f",
   "metadata": {
    "execution": {
     "iopub.execute_input": "2023-12-15T00:07:45.710688Z",
     "iopub.status.busy": "2023-12-15T00:07:45.710199Z",
     "iopub.status.idle": "2023-12-15T00:07:46.842661Z",
     "shell.execute_reply": "2023-12-15T00:07:46.842372Z"
    }
   },
   "outputs": [
    {
     "name": "stdout",
     "output_type": "stream",
     "text": [
      "('T', 'C', 'A', 'G')\n",
      "('A', 'C', 'D', 'E', 'F', 'G', 'H', 'I', 'K', 'L', 'M', 'N', 'P', 'Q', 'R', 'S', 'T', 'U', 'V', 'W', 'Y')\n"
     ]
    }
   ],
   "source": [
    "from cogent3 import DNA, PROTEIN\n",
    "\n",
    "print(DNA.alphabet)\n",
    "print(PROTEIN.alphabet)"
   ]
  },
  {
   "cell_type": "code",
   "execution_count": 2,
   "id": "1dd4f82c",
   "metadata": {
    "execution": {
     "iopub.execute_input": "2023-12-15T00:07:46.844040Z",
     "iopub.status.busy": "2023-12-15T00:07:46.843940Z",
     "iopub.status.idle": "2023-12-15T00:07:46.846894Z",
     "shell.execute_reply": "2023-12-15T00:07:46.846658Z"
    }
   },
   "outputs": [
    {
     "data": {
      "text/plain": [
       "True"
      ]
     },
     "execution_count": 2,
     "metadata": {},
     "output_type": "execute_result"
    }
   ],
   "source": [
    "PROTEIN.alphabet.moltype == PROTEIN"
   ]
  },
  {
   "cell_type": "code",
   "execution_count": 3,
   "id": "0c7fa776",
   "metadata": {
    "execution": {
     "iopub.execute_input": "2023-12-15T00:07:46.848075Z",
     "iopub.status.busy": "2023-12-15T00:07:46.848002Z",
     "iopub.status.idle": "2023-12-15T00:07:46.849888Z",
     "shell.execute_reply": "2023-12-15T00:07:46.849673Z"
    }
   },
   "outputs": [
    {
     "name": "stdout",
     "output_type": "stream",
     "text": [
      "('TT', 'TC', 'TA', 'TG', 'CT', 'CC', 'CA', 'CG', 'AT', 'AC', 'AA', 'AG', 'GT', 'GC', 'GA', 'GG')\n",
      "('TTT', 'TTC', 'TTA', 'TTG', 'TCT', 'TCC', 'TCA', 'TCG', 'TAT', 'TAC', 'TAA', 'TAG', 'TGT', 'TGC', 'TGA', 'TGG', 'CTT', 'CTC', 'CTA', 'CTG', 'CCT', 'CCC', 'CCA', 'CCG', 'CAT', 'CAC', 'CAA', 'CAG', 'CGT', 'CGC', 'CGA', 'CGG', 'ATT', 'ATC', 'ATA', 'ATG', 'ACT', 'ACC', 'ACA', 'ACG', 'AAT', 'AAC', 'AAA', 'AAG', 'AGT', 'AGC', 'AGA', 'AGG', 'GTT', 'GTC', 'GTA', 'GTG', 'GCT', 'GCC', 'GCA', 'GCG', 'GAT', 'GAC', 'GAA', 'GAG', 'GGT', 'GGC', 'GGA', 'GGG')\n"
     ]
    }
   ],
   "source": [
    "dinuc_alphabet = DNA.alphabet.get_word_alphabet(2)\n",
    "print(dinuc_alphabet)\n",
    "trinuc_alphabet = DNA.alphabet.get_word_alphabet(3)\n",
    "print(trinuc_alphabet)"
   ]
  },
  {
   "cell_type": "code",
   "execution_count": 4,
   "id": "9f631eb4",
   "metadata": {
    "execution": {
     "iopub.execute_input": "2023-12-15T00:07:46.851052Z",
     "iopub.status.busy": "2023-12-15T00:07:46.850984Z",
     "iopub.status.idle": "2023-12-15T00:07:46.853032Z",
     "shell.execute_reply": "2023-12-15T00:07:46.852795Z"
    }
   },
   "outputs": [
    {
     "data": {
      "text/plain": [
       "[0, 2, 3, 0]"
      ]
     },
     "execution_count": 4,
     "metadata": {},
     "output_type": "execute_result"
    }
   ],
   "source": [
    "seq = \"TAGT\"\n",
    "indices = DNA.alphabet.to_indices(seq)\n",
    "indices"
   ]
  },
  {
   "cell_type": "code",
   "execution_count": 5,
   "id": "b9a316e1",
   "metadata": {
    "execution": {
     "iopub.execute_input": "2023-12-15T00:07:46.854171Z",
     "iopub.status.busy": "2023-12-15T00:07:46.854099Z",
     "iopub.status.idle": "2023-12-15T00:07:46.855998Z",
     "shell.execute_reply": "2023-12-15T00:07:46.855773Z"
    }
   },
   "outputs": [
    {
     "data": {
      "text/plain": [
       "['T', 'A', 'G', 'T']"
      ]
     },
     "execution_count": 5,
     "metadata": {},
     "output_type": "execute_result"
    }
   ],
   "source": [
    "seq = DNA.alphabet.from_indices([0, 2, 3, 0])\n",
    "seq"
   ]
  }
 ],
 "metadata": {
  "kernelspec": {
   "display_name": "Python 3 (ipykernel)",
   "language": "python",
   "name": "python3"
  },
  "language_info": {
   "codemirror_mode": {
    "name": "ipython",
    "version": 3
   },
   "file_extension": ".py",
   "mimetype": "text/x-python",
   "name": "python",
   "nbconvert_exporter": "python",
   "pygments_lexer": "ipython3",
   "version": "3.11.6"
  }
 },
 "nbformat": 4,
 "nbformat_minor": 5
}