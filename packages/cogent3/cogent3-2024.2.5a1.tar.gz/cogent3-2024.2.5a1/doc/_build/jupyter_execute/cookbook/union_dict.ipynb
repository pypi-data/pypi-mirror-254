{
 "cells": [
  {
   "cell_type": "code",
   "execution_count": 1,
   "id": "bcb25593",
   "metadata": {
    "execution": {
     "iopub.execute_input": "2023-12-15T00:09:03.783601Z",
     "iopub.status.busy": "2023-12-15T00:09:03.782856Z",
     "iopub.status.idle": "2023-12-15T00:09:04.920655Z",
     "shell.execute_reply": "2023-12-15T00:09:04.920335Z"
    }
   },
   "outputs": [
    {
     "data": {
      "text/plain": [
       "2"
      ]
     },
     "execution_count": 1,
     "metadata": {},
     "output_type": "execute_result"
    }
   ],
   "source": [
    "from cogent3.util.union_dict import UnionDict\n",
    "\n",
    "data = UnionDict(a=2, b={\"c\": 24, \"d\": [25]})\n",
    "data.a"
   ]
  },
  {
   "cell_type": "code",
   "execution_count": 2,
   "id": "0582c715",
   "metadata": {
    "execution": {
     "iopub.execute_input": "2023-12-15T00:09:04.922165Z",
     "iopub.status.busy": "2023-12-15T00:09:04.922039Z",
     "iopub.status.idle": "2023-12-15T00:09:04.924058Z",
     "shell.execute_reply": "2023-12-15T00:09:04.923827Z"
    }
   },
   "outputs": [
    {
     "data": {
      "text/plain": [
       "2"
      ]
     },
     "execution_count": 2,
     "metadata": {},
     "output_type": "execute_result"
    }
   ],
   "source": [
    "data[\"a\"]"
   ]
  },
  {
   "cell_type": "code",
   "execution_count": 3,
   "id": "223d3f3f",
   "metadata": {
    "execution": {
     "iopub.execute_input": "2023-12-15T00:09:04.925171Z",
     "iopub.status.busy": "2023-12-15T00:09:04.925080Z",
     "iopub.status.idle": "2023-12-15T00:09:04.926901Z",
     "shell.execute_reply": "2023-12-15T00:09:04.926681Z"
    }
   },
   "outputs": [
    {
     "data": {
      "text/plain": [
       "[25]"
      ]
     },
     "execution_count": 3,
     "metadata": {},
     "output_type": "execute_result"
    }
   ],
   "source": [
    "data.b.d"
   ]
  },
  {
   "cell_type": "code",
   "execution_count": 4,
   "id": "db65f32c",
   "metadata": {
    "execution": {
     "iopub.execute_input": "2023-12-15T00:09:04.928063Z",
     "iopub.status.busy": "2023-12-15T00:09:04.927997Z",
     "iopub.status.idle": "2023-12-15T00:09:04.930185Z",
     "shell.execute_reply": "2023-12-15T00:09:04.929977Z"
    }
   },
   "outputs": [
    {
     "data": {
      "text/plain": [
       "{'c': 24, 'd': 25}"
      ]
     },
     "execution_count": 4,
     "metadata": {},
     "output_type": "execute_result"
    }
   ],
   "source": [
    "from cogent3.util.union_dict import UnionDict\n",
    "\n",
    "data = UnionDict(a=2, b={\"c\": 24, \"d\": [25]})\n",
    "data.b |= {\"d\": 25}\n",
    "data.b"
   ]
  },
  {
   "cell_type": "code",
   "execution_count": 5,
   "id": "cc779c79",
   "metadata": {
    "execution": {
     "iopub.execute_input": "2023-12-15T00:09:04.931309Z",
     "iopub.status.busy": "2023-12-15T00:09:04.931240Z",
     "iopub.status.idle": "2023-12-15T00:09:04.932833Z",
     "shell.execute_reply": "2023-12-15T00:09:04.932619Z"
    }
   },
   "outputs": [],
   "source": [
    "data.b.union({\"d\": [25]})"
   ]
  },
  {
   "cell_type": "code",
   "execution_count": 6,
   "id": "335d1f7c",
   "metadata": {
    "execution": {
     "iopub.execute_input": "2023-12-15T00:09:04.934033Z",
     "iopub.status.busy": "2023-12-15T00:09:04.933957Z",
     "iopub.status.idle": "2023-12-15T00:09:04.935971Z",
     "shell.execute_reply": "2023-12-15T00:09:04.935734Z"
    }
   },
   "outputs": [
    {
     "data": {
      "text/plain": [
       "{'c': 24, 'd': [25]}"
      ]
     },
     "execution_count": 6,
     "metadata": {},
     "output_type": "execute_result"
    }
   ],
   "source": [
    "data.b\n",
    "{\"c\": 24, \"d\": [25]}"
   ]
  },
  {
   "cell_type": "code",
   "execution_count": 7,
   "id": "75608e64",
   "metadata": {
    "execution": {
     "iopub.execute_input": "2023-12-15T00:09:04.937074Z",
     "iopub.status.busy": "2023-12-15T00:09:04.937003Z",
     "iopub.status.idle": "2023-12-15T00:09:05.038547Z",
     "shell.execute_reply": "2023-12-15T00:09:05.038310Z"
    }
   },
   "outputs": [
    {
     "ename": "KeyError",
     "evalue": "'k'",
     "output_type": "error",
     "traceback": [
      "\u001b[0;31m---------------------------------------------------------------------------\u001b[0m",
      "\u001b[0;31mKeyError\u001b[0m                                  Traceback (most recent call last)",
      "Cell \u001b[0;32mIn[7], line 4\u001b[0m\n\u001b[1;32m      1\u001b[0m \u001b[38;5;28;01mfrom\u001b[39;00m \u001b[38;5;21;01mcogent3\u001b[39;00m\u001b[38;5;21;01m.\u001b[39;00m\u001b[38;5;21;01mutil\u001b[39;00m\u001b[38;5;21;01m.\u001b[39;00m\u001b[38;5;21;01munion_dict\u001b[39;00m \u001b[38;5;28;01mimport\u001b[39;00m UnionDict\n\u001b[1;32m      3\u001b[0m data \u001b[38;5;241m=\u001b[39m UnionDict(a\u001b[38;5;241m=\u001b[39m\u001b[38;5;241m2\u001b[39m, b\u001b[38;5;241m=\u001b[39m{\u001b[38;5;124m\"\u001b[39m\u001b[38;5;124mc\u001b[39m\u001b[38;5;124m\"\u001b[39m: \u001b[38;5;241m24\u001b[39m, \u001b[38;5;124m\"\u001b[39m\u001b[38;5;124md\u001b[39m\u001b[38;5;124m\"\u001b[39m: [\u001b[38;5;241m25\u001b[39m]})\n\u001b[0;32m----> 4\u001b[0m \u001b[43mdata\u001b[49m\u001b[43m[\u001b[49m\u001b[38;5;124;43m\"\u001b[39;49m\u001b[38;5;124;43mk\u001b[39;49m\u001b[38;5;124;43m\"\u001b[39;49m\u001b[43m]\u001b[49m\n",
      "\u001b[0;31mKeyError\u001b[0m: 'k'"
     ]
    }
   ],
   "source": [
    "from cogent3.util.union_dict import UnionDict\n",
    "\n",
    "data = UnionDict(a=2, b={\"c\": 24, \"d\": [25]})\n",
    "data[\"k\"]"
   ]
  },
  {
   "cell_type": "code",
   "execution_count": 8,
   "id": "65eb6b32",
   "metadata": {
    "execution": {
     "iopub.execute_input": "2023-12-15T00:09:05.039752Z",
     "iopub.status.busy": "2023-12-15T00:09:05.039680Z",
     "iopub.status.idle": "2023-12-15T00:09:05.055426Z",
     "shell.execute_reply": "2023-12-15T00:09:05.055179Z"
    }
   },
   "outputs": [
    {
     "ename": "AttributeError",
     "evalue": "'k' not a key or attribute",
     "output_type": "error",
     "traceback": [
      "\u001b[0;31m---------------------------------------------------------------------------\u001b[0m",
      "\u001b[0;31mAttributeError\u001b[0m                            Traceback (most recent call last)",
      "File \u001b[0;32m~/miniconda3/envs/c311/lib/python3.11/site-packages/cogent3/util/union_dict.py:36\u001b[0m, in \u001b[0;36mUnionDict.__getattr__\u001b[0;34m(self, item)\u001b[0m\n\u001b[1;32m     35\u001b[0m \u001b[38;5;28;01mtry\u001b[39;00m:\n\u001b[0;32m---> 36\u001b[0m     \u001b[38;5;28;01mreturn\u001b[39;00m \u001b[38;5;28;43msuper\u001b[39;49m\u001b[43m(\u001b[49m\u001b[43m)\u001b[49m\u001b[38;5;241;43m.\u001b[39;49m\u001b[38;5;21;43m__getattr__\u001b[39;49m(item)\n\u001b[1;32m     37\u001b[0m \u001b[38;5;28;01mexcept\u001b[39;00m \u001b[38;5;167;01mAttributeError\u001b[39;00m:\n",
      "\u001b[0;31mAttributeError\u001b[0m: 'super' object has no attribute '__getattr__'",
      "\nDuring handling of the above exception, another exception occurred:\n",
      "\u001b[0;31mAttributeError\u001b[0m                            Traceback (most recent call last)",
      "Cell \u001b[0;32mIn[8], line 1\u001b[0m\n\u001b[0;32m----> 1\u001b[0m \u001b[43mdata\u001b[49m\u001b[38;5;241;43m.\u001b[39;49m\u001b[43mk\u001b[49m\n",
      "File \u001b[0;32m~/miniconda3/envs/c311/lib/python3.11/site-packages/cogent3/util/union_dict.py:38\u001b[0m, in \u001b[0;36mUnionDict.__getattr__\u001b[0;34m(self, item)\u001b[0m\n\u001b[1;32m     36\u001b[0m     \u001b[38;5;28;01mreturn\u001b[39;00m \u001b[38;5;28msuper\u001b[39m()\u001b[38;5;241m.\u001b[39m\u001b[38;5;21m__getattr__\u001b[39m(item)\n\u001b[1;32m     37\u001b[0m \u001b[38;5;28;01mexcept\u001b[39;00m \u001b[38;5;167;01mAttributeError\u001b[39;00m:\n\u001b[0;32m---> 38\u001b[0m     \u001b[38;5;28;01mraise\u001b[39;00m \u001b[38;5;167;01mAttributeError\u001b[39;00m(\u001b[38;5;124mf\u001b[39m\u001b[38;5;124m\"\u001b[39m\u001b[38;5;124m'\u001b[39m\u001b[38;5;132;01m{\u001b[39;00mitem\u001b[38;5;132;01m}\u001b[39;00m\u001b[38;5;124m'\u001b[39m\u001b[38;5;124m not a key or attribute\u001b[39m\u001b[38;5;124m\"\u001b[39m)\n",
      "\u001b[0;31mAttributeError\u001b[0m: 'k' not a key or attribute"
     ]
    }
   ],
   "source": [
    "data.k"
   ]
  }
 ],
 "metadata": {
  "kernelspec": {
   "display_name": "Python 3 (ipykernel)",
   "language": "python",
   "name": "python3"
  },
  "language_info": {
   "codemirror_mode": {
    "name": "ipython",
    "version": 3
   },
   "file_extension": ".py",
   "mimetype": "text/x-python",
   "name": "python",
   "nbconvert_exporter": "python",
   "pygments_lexer": "ipython3",
   "version": "3.11.6"
  }
 },
 "nbformat": 4,
 "nbformat_minor": 5
}