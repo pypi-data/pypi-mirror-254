{
 "cells": [
  {
   "cell_type": "code",
   "execution_count": 1,
   "id": "dba6c806",
   "metadata": {
    "execution": {
     "iopub.execute_input": "2023-12-15T00:07:58.667488Z",
     "iopub.status.busy": "2023-12-15T00:07:58.667101Z",
     "iopub.status.idle": "2023-12-15T00:07:58.682919Z",
     "shell.execute_reply": "2023-12-15T00:07:58.682358Z"
    }
   },
   "outputs": [],
   "source": [
    "import set_working_directory"
   ]
  },
  {
   "cell_type": "code",
   "execution_count": 2,
   "id": "1e1b0f08",
   "metadata": {
    "execution": {
     "iopub.execute_input": "2023-12-15T00:07:58.686005Z",
     "iopub.status.busy": "2023-12-15T00:07:58.685785Z",
     "iopub.status.idle": "2023-12-15T00:07:59.832798Z",
     "shell.execute_reply": "2023-12-15T00:07:59.832479Z"
    }
   },
   "outputs": [
    {
     "data": {
      "text/html": [
       "\n",
       "<div class=\"c3table\">\n",
       "\n",
       "<style>\n",
       ".c3table table {margin: 10px 0;}\n",
       ".c3table tr:last-child {border-bottom: 1px solid #000;} \n",
       ".c3table tr > th {text-align: left; padding: 0 5px;}\n",
       ".c3table tr > td {text-align: left; padding: 5px;}\n",
       ".c3table tr:nth-child(even) {background: #f7f7f7 !important;}\n",
       ".c3table .ellipsis {background: rgba(0, 0, 0, .01);}\n",
       ".c3table .index {background: rgba(161, 195, 209, 0.25); margin: 10px; font-weight: 600;}\n",
       ".c3table .head_cell {background: rgba(161, 195, 209, 0.75); font-weight: bold; text-align: center;}\n",
       ".c3table caption {color: rgb(250, 250, 250); background: rgba(30, 140, 200, 1); padding: 3px; white-space: nowrap; caption-side: top;}\n",
       ".c3table .cell_title {font-weight: bold;}\n",
       ".c3col_left { text-align: left !important; display: block;}\n",
       ".c3col_right { text-align: right !important; display: block;}\n",
       ".c3col_center { text-align: center !important; display: block;}\n",
       "</style>\n",
       "\n",
       "<table>\n",
       "\n",
       "<caption>\n",
       "<span class=\"cell_title\">Specify a pairwise genetic distance calculator using 'Abbreviation' (case insensitive).</span>\n",
       "</caption>\n",
       "<thead class=\"head_cell\">\n",
       "<th>Abbreviation</th><th>Suitable for moltype</th>\n",
       "</thead>\n",
       "<tbody>\n",
       "<tr><td class=\"index\"><span class=\"c3col_left\">paralinear</span></td><td><span class=\"c3col_left\">dna, rna, protein</span></td></tr>\n",
       "<tr><td class=\"index\"><span class=\"c3col_left\">logdet</span></td><td><span class=\"c3col_left\">dna, rna, protein</span></td></tr>\n",
       "<tr><td class=\"index\"><span class=\"c3col_left\">jc69</span></td><td><span class=\"c3col_left\">dna, rna</span></td></tr>\n",
       "<tr><td class=\"index\"><span class=\"c3col_left\">tn93</span></td><td><span class=\"c3col_left\">dna, rna</span></td></tr>\n",
       "<tr><td class=\"index\"><span class=\"c3col_left\">hamming</span></td><td><span class=\"c3col_left\">dna, rna, protein, text, bytes</span></td></tr>\n",
       "<tr><td class=\"index\"><span class=\"c3col_left\">pdist</span></td><td><span class=\"c3col_left\">dna, rna, protein, text, bytes</span></td></tr>\n",
       "</tbody>\n",
       "</table>\n",
       "<p>\n",
       "6 rows x 2 columns</p>\n",
       "</div>"
      ],
      "text/plain": [
       "Specify a pairwise genetic distance calculator using 'Abbreviation' (case insensitive).\n",
       "==============================================\n",
       "Abbreviation    Suitable for moltype          \n",
       "----------------------------------------------\n",
       "paralinear      dna, rna, protein             \n",
       "logdet          dna, rna, protein             \n",
       "jc69            dna, rna                      \n",
       "tn93            dna, rna                      \n",
       "hamming         dna, rna, protein, text, bytes\n",
       "pdist           dna, rna, protein, text, bytes\n",
       "----------------------------------------------\n",
       "\n",
       "6 rows x 2 columns"
      ]
     },
     "execution_count": 2,
     "metadata": {},
     "output_type": "execute_result"
    }
   ],
   "source": [
    "from cogent3 import available_distances\n",
    "\n",
    "available_distances()"
   ]
  },
  {
   "cell_type": "code",
   "execution_count": 3,
   "id": "ba9ce2de",
   "metadata": {
    "execution": {
     "iopub.execute_input": "2023-12-15T00:07:59.834266Z",
     "iopub.status.busy": "2023-12-15T00:07:59.834149Z",
     "iopub.status.idle": "2023-12-15T00:07:59.842305Z",
     "shell.execute_reply": "2023-12-15T00:07:59.842057Z"
    }
   },
   "outputs": [
    {
     "data": {
      "text/html": [
       "\n",
       "<div class=\"c3table\">\n",
       "\n",
       "<style>\n",
       ".c3table table {margin: 10px 0;}\n",
       ".c3table tr:last-child {border-bottom: 1px solid #000;} \n",
       ".c3table tr > th {text-align: left; padding: 0 5px;}\n",
       ".c3table tr > td {text-align: left; padding: 5px;}\n",
       ".c3table tr:nth-child(even) {background: #f7f7f7 !important;}\n",
       ".c3table .ellipsis {background: rgba(0, 0, 0, .01);}\n",
       ".c3table .index {background: rgba(161, 195, 209, 0.25); margin: 10px; font-weight: 600;}\n",
       ".c3table .head_cell {background: rgba(161, 195, 209, 0.75); font-weight: bold; text-align: center;}\n",
       ".c3table caption {color: rgb(250, 250, 250); background: rgba(30, 140, 200, 1); padding: 3px; white-space: nowrap; caption-side: top;}\n",
       ".c3table .cell_title {font-weight: bold;}\n",
       ".c3col_left { text-align: left !important; display: block;}\n",
       ".c3col_right { text-align: right !important; display: block;}\n",
       ".c3col_center { text-align: center !important; display: block;}\n",
       "</style>\n",
       "\n",
       "<table>\n",
       "\n",
       "<thead class=\"head_cell\">\n",
       "<th>names</th><th>Chimpanzee</th><th>Galago</th><th>Gorilla</th><th>HowlerMon</th><th>Human</th><th>Orangutan</th><th>Rhesus</th>\n",
       "</thead>\n",
       "<tbody>\n",
       "<tr><td class=\"index\"><span class=\"c3col_left\">Chimpanzee</span></td><td><span class=\"c3col_right\">0.0000</span></td><td><span class=\"c3col_right\">0.1921</span></td><td><span class=\"c3col_right\">0.0054</span></td><td><span class=\"c3col_right\">0.0704</span></td><td><span class=\"c3col_right\">0.0089</span></td><td><span class=\"c3col_right\">0.0140</span></td><td><span class=\"c3col_right\">0.0396</span></td></tr>\n",
       "<tr><td class=\"index\"><span class=\"c3col_left\">Galago</span></td><td><span class=\"c3col_right\">0.1921</span></td><td><span class=\"c3col_right\">0.0000</span></td><td><span class=\"c3col_right\">0.1923</span></td><td><span class=\"c3col_right\">0.2157</span></td><td><span class=\"c3col_right\">0.1965</span></td><td><span class=\"c3col_right\">0.1944</span></td><td><span class=\"c3col_right\">0.1962</span></td></tr>\n",
       "<tr><td class=\"index\"><span class=\"c3col_left\">Gorilla</span></td><td><span class=\"c3col_right\">0.0054</span></td><td><span class=\"c3col_right\">0.1923</span></td><td><span class=\"c3col_right\">0.0000</span></td><td><span class=\"c3col_right\">0.0700</span></td><td><span class=\"c3col_right\">0.0086</span></td><td><span class=\"c3col_right\">0.0137</span></td><td><span class=\"c3col_right\">0.0393</span></td></tr>\n",
       "<tr><td class=\"index\"><span class=\"c3col_left\">HowlerMon</span></td><td><span class=\"c3col_right\">0.0704</span></td><td><span class=\"c3col_right\">0.2157</span></td><td><span class=\"c3col_right\">0.0700</span></td><td><span class=\"c3col_right\">0.0000</span></td><td><span class=\"c3col_right\">0.0736</span></td><td><span class=\"c3col_right\">0.0719</span></td><td><span class=\"c3col_right\">0.0736</span></td></tr>\n",
       "<tr><td class=\"index\"><span class=\"c3col_left\">Human</span></td><td><span class=\"c3col_right\">0.0089</span></td><td><span class=\"c3col_right\">0.1965</span></td><td><span class=\"c3col_right\">0.0086</span></td><td><span class=\"c3col_right\">0.0736</span></td><td><span class=\"c3col_right\">0.0000</span></td><td><span class=\"c3col_right\">0.0173</span></td><td><span class=\"c3col_right\">0.0423</span></td></tr>\n",
       "<tr><td class=\"index\"><span class=\"c3col_left\">Orangutan</span></td><td><span class=\"c3col_right\">0.0140</span></td><td><span class=\"c3col_right\">0.1944</span></td><td><span class=\"c3col_right\">0.0137</span></td><td><span class=\"c3col_right\">0.0719</span></td><td><span class=\"c3col_right\">0.0173</span></td><td><span class=\"c3col_right\">0.0000</span></td><td><span class=\"c3col_right\">0.0411</span></td></tr>\n",
       "<tr><td class=\"index\"><span class=\"c3col_left\">Rhesus</span></td><td><span class=\"c3col_right\">0.0396</span></td><td><span class=\"c3col_right\">0.1962</span></td><td><span class=\"c3col_right\">0.0393</span></td><td><span class=\"c3col_right\">0.0736</span></td><td><span class=\"c3col_right\">0.0423</span></td><td><span class=\"c3col_right\">0.0411</span></td><td><span class=\"c3col_right\">0.0000</span></td></tr>\n",
       "</tbody>\n",
       "</table>\n",
       "\n",
       "</div>"
      ],
      "text/plain": [
       "===========================================================================================\n",
       "names         Chimpanzee    Galago    Gorilla    HowlerMon     Human    Orangutan    Rhesus\n",
       "-------------------------------------------------------------------------------------------\n",
       "Chimpanzee        0.0000    0.1921     0.0054       0.0704    0.0089       0.0140    0.0396\n",
       "Galago            0.1921    0.0000     0.1923       0.2157    0.1965       0.1944    0.1962\n",
       "Gorilla           0.0054    0.1923     0.0000       0.0700    0.0086       0.0137    0.0393\n",
       "HowlerMon         0.0704    0.2157     0.0700       0.0000    0.0736       0.0719    0.0736\n",
       "Human             0.0089    0.1965     0.0086       0.0736    0.0000       0.0173    0.0423\n",
       "Orangutan         0.0140    0.1944     0.0137       0.0719    0.0173       0.0000    0.0411\n",
       "Rhesus            0.0396    0.1962     0.0393       0.0736    0.0423       0.0411    0.0000\n",
       "-------------------------------------------------------------------------------------------"
      ]
     },
     "execution_count": 3,
     "metadata": {},
     "output_type": "execute_result"
    }
   ],
   "source": [
    "from cogent3 import load_aligned_seqs\n",
    "\n",
    "aln = load_aligned_seqs(\"data/primate_brca1.fasta\", moltype=\"dna\")\n",
    "dists = aln.distance_matrix(calc=\"tn93\", show_progress=False)\n",
    "dists"
   ]
  },
  {
   "cell_type": "code",
   "execution_count": 4,
   "id": "9843d2b9",
   "metadata": {
    "execution": {
     "iopub.execute_input": "2023-12-15T00:07:59.843490Z",
     "iopub.status.busy": "2023-12-15T00:07:59.843420Z",
     "iopub.status.idle": "2023-12-15T00:07:59.848678Z",
     "shell.execute_reply": "2023-12-15T00:07:59.848461Z"
    }
   },
   "outputs": [
    {
     "data": {
      "text/plain": [
       "<cogent3.evolve.fast_distance.TN93Pair at 0x103774650>"
      ]
     },
     "execution_count": 4,
     "metadata": {},
     "output_type": "execute_result"
    }
   ],
   "source": [
    "from cogent3 import get_distance_calculator, load_aligned_seqs\n",
    "\n",
    "aln = load_aligned_seqs(\"data/primate_brca1.fasta\")\n",
    "dist_calc = get_distance_calculator(\"tn93\", alignment=aln)\n",
    "dist_calc"
   ]
  },
  {
   "cell_type": "code",
   "execution_count": 5,
   "id": "cdca0e2a",
   "metadata": {
    "execution": {
     "iopub.execute_input": "2023-12-15T00:07:59.849870Z",
     "iopub.status.busy": "2023-12-15T00:07:59.849798Z",
     "iopub.status.idle": "2023-12-15T00:07:59.853510Z",
     "shell.execute_reply": "2023-12-15T00:07:59.853304Z"
    }
   },
   "outputs": [
    {
     "data": {
      "text/html": [
       "\n",
       "<div class=\"c3table\">\n",
       "\n",
       "<style>\n",
       ".c3table table {margin: 10px 0;}\n",
       ".c3table tr:last-child {border-bottom: 1px solid #000;} \n",
       ".c3table tr > th {text-align: left; padding: 0 5px;}\n",
       ".c3table tr > td {text-align: left; padding: 5px;}\n",
       ".c3table tr:nth-child(even) {background: #f7f7f7 !important;}\n",
       ".c3table .ellipsis {background: rgba(0, 0, 0, .01);}\n",
       ".c3table .index {background: rgba(161, 195, 209, 0.25); margin: 10px; font-weight: 600;}\n",
       ".c3table .head_cell {background: rgba(161, 195, 209, 0.75); font-weight: bold; text-align: center;}\n",
       ".c3table caption {color: rgb(250, 250, 250); background: rgba(30, 140, 200, 1); padding: 3px; white-space: nowrap; caption-side: top;}\n",
       ".c3table .cell_title {font-weight: bold;}\n",
       ".c3col_left { text-align: left !important; display: block;}\n",
       ".c3col_right { text-align: right !important; display: block;}\n",
       ".c3col_center { text-align: center !important; display: block;}\n",
       "</style>\n",
       "\n",
       "<table>\n",
       "\n",
       "<thead class=\"head_cell\">\n",
       "<th>names</th><th>Chimpanzee</th><th>Galago</th><th>Gorilla</th><th>HowlerMon</th><th>Human</th><th>Orangutan</th><th>Rhesus</th>\n",
       "</thead>\n",
       "<tbody>\n",
       "<tr><td class=\"index\"><span class=\"c3col_left\">Chimpanzee</span></td><td><span class=\"c3col_right\">0.0000</span></td><td><span class=\"c3col_right\">0.1921</span></td><td><span class=\"c3col_right\">0.0054</span></td><td><span class=\"c3col_right\">0.0704</span></td><td><span class=\"c3col_right\">0.0089</span></td><td><span class=\"c3col_right\">0.0140</span></td><td><span class=\"c3col_right\">0.0396</span></td></tr>\n",
       "<tr><td class=\"index\"><span class=\"c3col_left\">Galago</span></td><td><span class=\"c3col_right\">0.1921</span></td><td><span class=\"c3col_right\">0.0000</span></td><td><span class=\"c3col_right\">0.1923</span></td><td><span class=\"c3col_right\">0.2157</span></td><td><span class=\"c3col_right\">0.1965</span></td><td><span class=\"c3col_right\">0.1944</span></td><td><span class=\"c3col_right\">0.1962</span></td></tr>\n",
       "<tr><td class=\"index\"><span class=\"c3col_left\">Gorilla</span></td><td><span class=\"c3col_right\">0.0054</span></td><td><span class=\"c3col_right\">0.1923</span></td><td><span class=\"c3col_right\">0.0000</span></td><td><span class=\"c3col_right\">0.0700</span></td><td><span class=\"c3col_right\">0.0086</span></td><td><span class=\"c3col_right\">0.0137</span></td><td><span class=\"c3col_right\">0.0393</span></td></tr>\n",
       "<tr><td class=\"index\"><span class=\"c3col_left\">HowlerMon</span></td><td><span class=\"c3col_right\">0.0704</span></td><td><span class=\"c3col_right\">0.2157</span></td><td><span class=\"c3col_right\">0.0700</span></td><td><span class=\"c3col_right\">0.0000</span></td><td><span class=\"c3col_right\">0.0736</span></td><td><span class=\"c3col_right\">0.0719</span></td><td><span class=\"c3col_right\">0.0736</span></td></tr>\n",
       "<tr><td class=\"index\"><span class=\"c3col_left\">Human</span></td><td><span class=\"c3col_right\">0.0089</span></td><td><span class=\"c3col_right\">0.1965</span></td><td><span class=\"c3col_right\">0.0086</span></td><td><span class=\"c3col_right\">0.0736</span></td><td><span class=\"c3col_right\">0.0000</span></td><td><span class=\"c3col_right\">0.0173</span></td><td><span class=\"c3col_right\">0.0423</span></td></tr>\n",
       "<tr><td class=\"index\"><span class=\"c3col_left\">Orangutan</span></td><td><span class=\"c3col_right\">0.0140</span></td><td><span class=\"c3col_right\">0.1944</span></td><td><span class=\"c3col_right\">0.0137</span></td><td><span class=\"c3col_right\">0.0719</span></td><td><span class=\"c3col_right\">0.0173</span></td><td><span class=\"c3col_right\">0.0000</span></td><td><span class=\"c3col_right\">0.0411</span></td></tr>\n",
       "<tr><td class=\"index\"><span class=\"c3col_left\">Rhesus</span></td><td><span class=\"c3col_right\">0.0396</span></td><td><span class=\"c3col_right\">0.1962</span></td><td><span class=\"c3col_right\">0.0393</span></td><td><span class=\"c3col_right\">0.0736</span></td><td><span class=\"c3col_right\">0.0423</span></td><td><span class=\"c3col_right\">0.0411</span></td><td><span class=\"c3col_right\">0.0000</span></td></tr>\n",
       "</tbody>\n",
       "</table>\n",
       "\n",
       "</div>"
      ],
      "text/plain": [
       "===========================================================================================\n",
       "names         Chimpanzee    Galago    Gorilla    HowlerMon     Human    Orangutan    Rhesus\n",
       "-------------------------------------------------------------------------------------------\n",
       "Chimpanzee        0.0000    0.1921     0.0054       0.0704    0.0089       0.0140    0.0396\n",
       "Galago            0.1921    0.0000     0.1923       0.2157    0.1965       0.1944    0.1962\n",
       "Gorilla           0.0054    0.1923     0.0000       0.0700    0.0086       0.0137    0.0393\n",
       "HowlerMon         0.0704    0.2157     0.0700       0.0000    0.0736       0.0719    0.0736\n",
       "Human             0.0089    0.1965     0.0086       0.0736    0.0000       0.0173    0.0423\n",
       "Orangutan         0.0140    0.1944     0.0137       0.0719    0.0173       0.0000    0.0411\n",
       "Rhesus            0.0396    0.1962     0.0393       0.0736    0.0423       0.0411    0.0000\n",
       "-------------------------------------------------------------------------------------------"
      ]
     },
     "execution_count": 5,
     "metadata": {},
     "output_type": "execute_result"
    }
   ],
   "source": [
    "dist_calc.run(show_progress=False)\n",
    "dists = dist_calc.get_pairwise_distances()\n",
    "dists"
   ]
  },
  {
   "cell_type": "code",
   "execution_count": 6,
   "id": "b5f0f606",
   "metadata": {
    "execution": {
     "iopub.execute_input": "2023-12-15T00:07:59.854652Z",
     "iopub.status.busy": "2023-12-15T00:07:59.854586Z",
     "iopub.status.idle": "2023-12-15T00:07:59.857171Z",
     "shell.execute_reply": "2023-12-15T00:07:59.856931Z"
    }
   },
   "outputs": [
    {
     "data": {
      "text/html": [
       "\n",
       "<div class=\"c3table\">\n",
       "\n",
       "<style>\n",
       ".c3table table {margin: 10px 0;}\n",
       ".c3table tr:last-child {border-bottom: 1px solid #000;} \n",
       ".c3table tr > th {text-align: left; padding: 0 5px;}\n",
       ".c3table tr > td {text-align: left; padding: 5px;}\n",
       ".c3table tr:nth-child(even) {background: #f7f7f7 !important;}\n",
       ".c3table .ellipsis {background: rgba(0, 0, 0, .01);}\n",
       ".c3table .index {background: rgba(161, 195, 209, 0.25); margin: 10px; font-weight: 600;}\n",
       ".c3table .head_cell {background: rgba(161, 195, 209, 0.75); font-weight: bold; text-align: center;}\n",
       ".c3table caption {color: rgb(250, 250, 250); background: rgba(30, 140, 200, 1); padding: 3px; white-space: nowrap; caption-side: top;}\n",
       ".c3table .cell_title {font-weight: bold;}\n",
       ".c3col_left { text-align: left !important; display: block;}\n",
       ".c3col_right { text-align: right !important; display: block;}\n",
       ".c3col_center { text-align: center !important; display: block;}\n",
       "</style>\n",
       "\n",
       "<table>\n",
       "\n",
       "<caption>\n",
       "<span class=\"cell_title\">Standard Error of Pairwise Distances</span>\n",
       "</caption>\n",
       "<thead class=\"head_cell\">\n",
       "<th>Seq1 \\ Seq2</th><th>Galago</th><th>HowlerMon</th><th>Rhesus</th><th>Orangutan</th><th>Gorilla</th><th>Human</th><th>Chimpanzee</th>\n",
       "</thead>\n",
       "<tbody>\n",
       "<tr><td class=\"index\"><span class=\"c3col_left\">Galago</span></td><td><span class=\"c3col_left\">0</span></td><td><span class=\"c3col_left\">0.010274827058395896</span></td><td><span class=\"c3col_left\">0.009616307832648562</span></td><td><span class=\"c3col_left\">0.009535646532276787</span></td><td><span class=\"c3col_left\">0.009491382249540176</span></td><td><span class=\"c3col_left\">0.009615033091864917</span></td><td><span class=\"c3col_left\">0.009469268026590141</span></td></tr>\n",
       "<tr><td class=\"index\"><span class=\"c3col_left\">HowlerMon</span></td><td><span class=\"c3col_left\">0.010274827058395896</span></td><td><span class=\"c3col_left\">0</span></td><td><span class=\"c3col_left\">0.005411811712554772</span></td><td><span class=\"c3col_left\">0.0053348584951611175</span></td><td><span class=\"c3col_left\">0.005265612474694246</span></td><td><span class=\"c3col_left\">0.005406760238748984</span></td><td><span class=\"c3col_left\">0.005273572620183854</span></td></tr>\n",
       "<tr><td class=\"index\"><span class=\"c3col_left\">Rhesus</span></td><td><span class=\"c3col_left\">0.009616307832648562</span></td><td><span class=\"c3col_left\">0.005411811712554772</span></td><td><span class=\"c3col_left\">0</span></td><td><span class=\"c3col_left\">0.0039408549417865755</span></td><td><span class=\"c3col_left\">0.003852798161903095</span></td><td><span class=\"c3col_left\">0.004005045920100125</span></td><td><span class=\"c3col_left\">0.0038665597157698894</span></td></tr>\n",
       "<tr><td class=\"index\"><span class=\"c3col_left\">Orangutan</span></td><td><span class=\"c3col_left\">0.009535646532276787</span></td><td><span class=\"c3col_left\">0.0053348584951611175</span></td><td><span class=\"c3col_left\">0.0039408549417865755</span></td><td><span class=\"c3col_left\">0</span></td><td><span class=\"c3col_left\">0.0022291124743011375</span></td><td><span class=\"c3col_left\">0.0025151838791803655</span></td><td><span class=\"c3col_left\">0.0022606571679022955</span></td></tr>\n",
       "<tr><td class=\"index\"><span class=\"c3col_left\">Gorilla</span></td><td><span class=\"c3col_left\">0.009491382249540176</span></td><td><span class=\"c3col_left\">0.005265612474694246</span></td><td><span class=\"c3col_left\">0.003852798161903095</span></td><td><span class=\"c3col_left\">0.0022291124743011375</span></td><td><span class=\"c3col_left\">0</span></td><td><span class=\"c3col_left\">0.0017596919902326876</span></td><td><span class=\"c3col_left\">0.0013848543487237903</span></td></tr>\n",
       "<tr><td class=\"index\"><span class=\"c3col_left\">Human</span></td><td><span class=\"c3col_left\">0.009615033091864917</span></td><td><span class=\"c3col_left\">0.005406760238748984</span></td><td><span class=\"c3col_left\">0.004005045920100125</span></td><td><span class=\"c3col_left\">0.0025151838791803655</span></td><td><span class=\"c3col_left\">0.0017596919902326876</span></td><td><span class=\"c3col_left\">0</span></td><td><span class=\"c3col_left\">0.0017949285088691988</span></td></tr>\n",
       "<tr><td class=\"index\"><span class=\"c3col_left\">Chimpanzee</span></td><td><span class=\"c3col_left\">0.009469268026590141</span></td><td><span class=\"c3col_left\">0.005273572620183854</span></td><td><span class=\"c3col_left\">0.0038665597157698894</span></td><td><span class=\"c3col_left\">0.0022606571679022955</span></td><td><span class=\"c3col_left\">0.0013848543487237903</span></td><td><span class=\"c3col_left\">0.0017949285088691988</span></td><td><span class=\"c3col_left\">0</span></td></tr>\n",
       "</tbody>\n",
       "</table>\n",
       "<p>\n",
       "7 rows x 8 columns</p>\n",
       "</div>"
      ],
      "text/plain": [
       "Standard Error of Pairwise Distances\n",
       "============================================================================================\n",
       "Seq1 \\ Seq2    Galago    HowlerMon    Rhesus    Orangutan    Gorilla    Human     Chimpanzee\n",
       "--------------------------------------------------------------------------------------------\n",
       "Galago         0         0.0103       0.0096    0.0095       0.0095     0.0096    0.0095    \n",
       "HowlerMon      0.0103    0            0.0054    0.0053       0.0053     0.0054    0.0053    \n",
       "Rhesus         0.0096    0.0054       0         0.0039       0.0039     0.0040    0.0039    \n",
       "Orangutan      0.0095    0.0053       0.0039    0            0.0022     0.0025    0.0023    \n",
       "Gorilla        0.0095    0.0053       0.0039    0.0022       0          0.0018    0.0014    \n",
       "Human          0.0096    0.0054       0.0040    0.0025       0.0018     0         0.0018    \n",
       "Chimpanzee     0.0095    0.0053       0.0039    0.0023       0.0014     0.0018    0         \n",
       "--------------------------------------------------------------------------------------------\n",
       "\n",
       "7 rows x 8 columns"
      ]
     },
     "execution_count": 6,
     "metadata": {},
     "output_type": "execute_result"
    }
   ],
   "source": [
    "dist_calc.stderr"
   ]
  },
  {
   "cell_type": "code",
   "execution_count": 7,
   "id": "65267199",
   "metadata": {
    "execution": {
     "iopub.execute_input": "2023-12-15T00:07:59.858264Z",
     "iopub.status.busy": "2023-12-15T00:07:59.858198Z",
     "iopub.status.idle": "2023-12-15T00:08:00.156832Z",
     "shell.execute_reply": "2023-12-15T00:08:00.156532Z"
    }
   },
   "outputs": [
    {
     "data": {
      "text/html": [
       "\n",
       "<div class=\"c3table\">\n",
       "\n",
       "<style>\n",
       ".c3table table {margin: 10px 0;}\n",
       ".c3table tr:last-child {border-bottom: 1px solid #000;} \n",
       ".c3table tr > th {text-align: left; padding: 0 5px;}\n",
       ".c3table tr > td {text-align: left; padding: 5px;}\n",
       ".c3table tr:nth-child(even) {background: #f7f7f7 !important;}\n",
       ".c3table .ellipsis {background: rgba(0, 0, 0, .01);}\n",
       ".c3table .index {background: rgba(161, 195, 209, 0.25); margin: 10px; font-weight: 600;}\n",
       ".c3table .head_cell {background: rgba(161, 195, 209, 0.75); font-weight: bold; text-align: center;}\n",
       ".c3table caption {color: rgb(250, 250, 250); background: rgba(30, 140, 200, 1); padding: 3px; white-space: nowrap; caption-side: top;}\n",
       ".c3table .cell_title {font-weight: bold;}\n",
       ".c3col_left { text-align: left !important; display: block;}\n",
       ".c3col_right { text-align: right !important; display: block;}\n",
       ".c3col_center { text-align: center !important; display: block;}\n",
       "</style>\n",
       "\n",
       "<table>\n",
       "\n",
       "<thead class=\"head_cell\">\n",
       "<th>names</th><th>Chimpanzee</th><th>Galago</th><th>Gorilla</th><th>HowlerMon</th><th>Human</th><th>Orangutan</th><th>Rhesus</th>\n",
       "</thead>\n",
       "<tbody>\n",
       "<tr><td class=\"index\"><span class=\"c3col_left\">Chimpanzee</span></td><td><span class=\"c3col_right\">0.0000</span></td><td><span class=\"c3col_right\">0.1892</span></td><td><span class=\"c3col_right\">0.0054</span></td><td><span class=\"c3col_right\">0.0697</span></td><td><span class=\"c3col_right\">0.0089</span></td><td><span class=\"c3col_right\">0.0140</span></td><td><span class=\"c3col_right\">0.0395</span></td></tr>\n",
       "<tr><td class=\"index\"><span class=\"c3col_left\">Galago</span></td><td><span class=\"c3col_right\">0.1892</span></td><td><span class=\"c3col_right\">0.0000</span></td><td><span class=\"c3col_right\">0.1891</span></td><td><span class=\"c3col_right\">0.2112</span></td><td><span class=\"c3col_right\">0.1934</span></td><td><span class=\"c3col_right\">0.1915</span></td><td><span class=\"c3col_right\">0.1930</span></td></tr>\n",
       "<tr><td class=\"index\"><span class=\"c3col_left\">Gorilla</span></td><td><span class=\"c3col_right\">0.0054</span></td><td><span class=\"c3col_right\">0.1891</span></td><td><span class=\"c3col_right\">0.0000</span></td><td><span class=\"c3col_right\">0.0693</span></td><td><span class=\"c3col_right\">0.0086</span></td><td><span class=\"c3col_right\">0.0136</span></td><td><span class=\"c3col_right\">0.0391</span></td></tr>\n",
       "<tr><td class=\"index\"><span class=\"c3col_left\">HowlerMon</span></td><td><span class=\"c3col_right\">0.0697</span></td><td><span class=\"c3col_right\">0.2112</span></td><td><span class=\"c3col_right\">0.0693</span></td><td><span class=\"c3col_right\">0.0000</span></td><td><span class=\"c3col_right\">0.0729</span></td><td><span class=\"c3col_right\">0.0713</span></td><td><span class=\"c3col_right\">0.0729</span></td></tr>\n",
       "<tr><td class=\"index\"><span class=\"c3col_left\">Human</span></td><td><span class=\"c3col_right\">0.0089</span></td><td><span class=\"c3col_right\">0.1934</span></td><td><span class=\"c3col_right\">0.0086</span></td><td><span class=\"c3col_right\">0.0729</span></td><td><span class=\"c3col_right\">0.0000</span></td><td><span class=\"c3col_right\">0.0173</span></td><td><span class=\"c3col_right\">0.0421</span></td></tr>\n",
       "<tr><td class=\"index\"><span class=\"c3col_left\">Orangutan</span></td><td><span class=\"c3col_right\">0.0140</span></td><td><span class=\"c3col_right\">0.1915</span></td><td><span class=\"c3col_right\">0.0136</span></td><td><span class=\"c3col_right\">0.0713</span></td><td><span class=\"c3col_right\">0.0173</span></td><td><span class=\"c3col_right\">0.0000</span></td><td><span class=\"c3col_right\">0.0410</span></td></tr>\n",
       "<tr><td class=\"index\"><span class=\"c3col_left\">Rhesus</span></td><td><span class=\"c3col_right\">0.0395</span></td><td><span class=\"c3col_right\">0.1930</span></td><td><span class=\"c3col_right\">0.0391</span></td><td><span class=\"c3col_right\">0.0729</span></td><td><span class=\"c3col_right\">0.0421</span></td><td><span class=\"c3col_right\">0.0410</span></td><td><span class=\"c3col_right\">0.0000</span></td></tr>\n",
       "</tbody>\n",
       "</table>\n",
       "\n",
       "</div>"
      ],
      "text/plain": [
       "===========================================================================================\n",
       "names         Chimpanzee    Galago    Gorilla    HowlerMon     Human    Orangutan    Rhesus\n",
       "-------------------------------------------------------------------------------------------\n",
       "Chimpanzee        0.0000    0.1892     0.0054       0.0697    0.0089       0.0140    0.0395\n",
       "Galago            0.1892    0.0000     0.1891       0.2112    0.1934       0.1915    0.1930\n",
       "Gorilla           0.0054    0.1891     0.0000       0.0693    0.0086       0.0136    0.0391\n",
       "HowlerMon         0.0697    0.2112     0.0693       0.0000    0.0729       0.0713    0.0729\n",
       "Human             0.0089    0.1934     0.0086       0.0729    0.0000       0.0173    0.0421\n",
       "Orangutan         0.0140    0.1915     0.0136       0.0713    0.0173       0.0000    0.0410\n",
       "Rhesus            0.0395    0.1930     0.0391       0.0729    0.0421       0.0410    0.0000\n",
       "-------------------------------------------------------------------------------------------"
      ]
     },
     "execution_count": 7,
     "metadata": {},
     "output_type": "execute_result"
    }
   ],
   "source": [
    "from cogent3 import get_model, load_aligned_seqs\n",
    "from cogent3.evolve import distance\n",
    "\n",
    "aln = load_aligned_seqs(\"data/primate_brca1.fasta\", moltype=\"dna\")\n",
    "d = distance.EstimateDistances(aln, submodel=get_model(\"F81\"))\n",
    "d.run(show_progress=False)\n",
    "dists = d.get_pairwise_distances()\n",
    "dists"
   ]
  },
  {
   "cell_type": "code",
   "execution_count": 8,
   "id": "28485023",
   "metadata": {
    "execution": {
     "iopub.execute_input": "2023-12-15T00:08:00.158069Z",
     "iopub.status.busy": "2023-12-15T00:08:00.157998Z",
     "iopub.status.idle": "2023-12-15T00:08:00.163826Z",
     "shell.execute_reply": "2023-12-15T00:08:00.163621Z"
    }
   },
   "outputs": [
    {
     "data": {
      "text/plain": [
       "('Galago', 'HowlerMon')"
      ]
     },
     "execution_count": 8,
     "metadata": {},
     "output_type": "execute_result"
    }
   ],
   "source": [
    "from cogent3 import load_aligned_seqs\n",
    "\n",
    "aln = load_aligned_seqs(\"data/primate_brca1.fasta\", moltype=\"dna\")\n",
    "dists = aln.distance_matrix(calc=\"tn93\", show_progress=False)\n",
    "dists.max_pair()"
   ]
  },
  {
   "cell_type": "code",
   "execution_count": 9,
   "id": "9114c714",
   "metadata": {
    "execution": {
     "iopub.execute_input": "2023-12-15T00:08:00.164881Z",
     "iopub.status.busy": "2023-12-15T00:08:00.164819Z",
     "iopub.status.idle": "2023-12-15T00:08:00.166787Z",
     "shell.execute_reply": "2023-12-15T00:08:00.166578Z"
    }
   },
   "outputs": [
    {
     "data": {
      "text/plain": [
       "0.2156879978632928"
      ]
     },
     "execution_count": 9,
     "metadata": {},
     "output_type": "execute_result"
    }
   ],
   "source": [
    "dists[dists.max_pair()]"
   ]
  },
  {
   "cell_type": "code",
   "execution_count": 10,
   "id": "15bc822b",
   "metadata": {
    "execution": {
     "iopub.execute_input": "2023-12-15T00:08:00.168157Z",
     "iopub.status.busy": "2023-12-15T00:08:00.168075Z",
     "iopub.status.idle": "2023-12-15T00:08:00.174027Z",
     "shell.execute_reply": "2023-12-15T00:08:00.173767Z"
    }
   },
   "outputs": [
    {
     "data": {
      "text/plain": [
       "('Chimpanzee', 'Gorilla')"
      ]
     },
     "execution_count": 10,
     "metadata": {},
     "output_type": "execute_result"
    }
   ],
   "source": [
    "from cogent3 import load_aligned_seqs\n",
    "\n",
    "aln = load_aligned_seqs(\"data/primate_brca1.fasta\", moltype=\"dna\")\n",
    "dists = aln.distance_matrix(calc=\"tn93\", show_progress=False)\n",
    "dists.min_pair()"
   ]
  },
  {
   "cell_type": "code",
   "execution_count": 11,
   "id": "2bdbfb26",
   "metadata": {
    "execution": {
     "iopub.execute_input": "2023-12-15T00:08:00.175426Z",
     "iopub.status.busy": "2023-12-15T00:08:00.175349Z",
     "iopub.status.idle": "2023-12-15T00:08:00.177657Z",
     "shell.execute_reply": "2023-12-15T00:08:00.177377Z"
    }
   },
   "outputs": [
    {
     "data": {
      "text/plain": [
       "0.005354100636467117"
      ]
     },
     "execution_count": 11,
     "metadata": {},
     "output_type": "execute_result"
    }
   ],
   "source": [
    "dists[dists.min_pair()]"
   ]
  }
 ],
 "metadata": {
  "kernelspec": {
   "display_name": "Python 3 (ipykernel)",
   "language": "python",
   "name": "python3"
  },
  "language_info": {
   "codemirror_mode": {
    "name": "ipython",
    "version": 3
   },
   "file_extension": ".py",
   "mimetype": "text/x-python",
   "name": "python",
   "nbconvert_exporter": "python",
   "pygments_lexer": "ipython3",
   "version": "3.11.6"
  }
 },
 "nbformat": 4,
 "nbformat_minor": 5
}