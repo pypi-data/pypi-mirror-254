{
 "cells": [
  {
   "cell_type": "code",
   "execution_count": 1,
   "id": "bd6d7b2e",
   "metadata": {
    "execution": {
     "iopub.execute_input": "2023-12-15T00:07:53.182648Z",
     "iopub.status.busy": "2023-12-15T00:07:53.182276Z",
     "iopub.status.idle": "2023-12-15T00:07:53.200969Z",
     "shell.execute_reply": "2023-12-15T00:07:53.200230Z"
    }
   },
   "outputs": [],
   "source": [
    "import set_working_directory"
   ]
  },
  {
   "cell_type": "code",
   "execution_count": 2,
   "id": "3d4c61db",
   "metadata": {
    "execution": {
     "iopub.execute_input": "2023-12-15T00:07:53.204671Z",
     "iopub.status.busy": "2023-12-15T00:07:53.204367Z",
     "iopub.status.idle": "2023-12-15T00:07:54.354692Z",
     "shell.execute_reply": "2023-12-15T00:07:54.354375Z"
    }
   },
   "outputs": [
    {
     "name": "stdout",
     "output_type": "stream",
     "text": [
      "          /-Orangutan\n",
      "         |\n",
      "         |          /-Rhesus\n",
      "         |-edge.1--|\n",
      "-root----|         |          /-HowlerMon\n",
      "         |          \\edge.0--|\n",
      "         |                    \\-Galago\n",
      "         |\n",
      "         |          /-Chimpanzee\n",
      "          \\edge.2--|\n",
      "                   |          /-Gorilla\n",
      "                    \\edge.3--|\n",
      "                              \\-Human\n"
     ]
    }
   ],
   "source": [
    "from cogent3 import load_aligned_seqs\n",
    "\n",
    "aln = load_aligned_seqs(\"data/primate_brca1.fasta\", moltype=\"dna\")\n",
    "tree = aln.quick_tree(calc=\"TN93\", show_progress=False)\n",
    "tree = tree.balanced()  # purely for display\n",
    "print(tree.ascii_art())"
   ]
  },
  {
   "cell_type": "code",
   "execution_count": 3,
   "id": "70f22b9d",
   "metadata": {
    "execution": {
     "iopub.execute_input": "2023-12-15T00:07:54.356246Z",
     "iopub.status.busy": "2023-12-15T00:07:54.356104Z",
     "iopub.status.idle": "2023-12-15T00:07:54.578929Z",
     "shell.execute_reply": "2023-12-15T00:07:54.578694Z"
    }
   },
   "outputs": [],
   "source": [
    "tree = aln.quick_tree(calc=\"TN93\", bootstrap=100, show_progress=False)"
   ]
  },
  {
   "cell_type": "code",
   "execution_count": 4,
   "id": "6b99bc58",
   "metadata": {
    "execution": {
     "iopub.execute_input": "2023-12-15T00:07:54.580187Z",
     "iopub.status.busy": "2023-12-15T00:07:54.580114Z",
     "iopub.status.idle": "2023-12-15T00:07:54.586162Z",
     "shell.execute_reply": "2023-12-15T00:07:54.585939Z"
    }
   },
   "outputs": [
    {
     "name": "stdout",
     "output_type": "stream",
     "text": [
      "          /-Orangutan\n",
      "         |\n",
      "         |          /-Rhesus\n",
      "         |-edge.1--|\n",
      "-root----|         |          /-HowlerMon\n",
      "         |          \\edge.0--|\n",
      "         |                    \\-Galago\n",
      "         |\n",
      "         |          /-Chimpanzee\n",
      "          \\edge.2--|\n",
      "                   |          /-Gorilla\n",
      "                    \\edge.3--|\n",
      "                              \\-Human\n"
     ]
    }
   ],
   "source": [
    "from cogent3 import load_aligned_seqs\n",
    "\n",
    "aln = load_aligned_seqs(\"data/primate_brca1.fasta\", moltype=\"dna\")\n",
    "dists = aln.distance_matrix(calc=\"TN93\")\n",
    "tree = dists.quick_tree(show_progress=False)\n",
    "tree = tree.balanced()  # purely for display\n",
    "print(tree.ascii_art())"
   ]
  },
  {
   "cell_type": "code",
   "execution_count": 5,
   "id": "cf1b8e04",
   "metadata": {
    "execution": {
     "iopub.execute_input": "2023-12-15T00:07:54.587251Z",
     "iopub.status.busy": "2023-12-15T00:07:54.587182Z",
     "iopub.status.idle": "2023-12-15T00:07:54.593070Z",
     "shell.execute_reply": "2023-12-15T00:07:54.592849Z"
    }
   },
   "outputs": [
    {
     "name": "stdout",
     "output_type": "stream",
     "text": [
      "          /-Orangutan\n",
      "         |\n",
      "         |          /-Rhesus\n",
      "         |-edge.1--|\n",
      "-root----|         |          /-HowlerMon\n",
      "         |          \\edge.0--|\n",
      "         |                    \\-Galago\n",
      "         |\n",
      "         |          /-Chimpanzee\n",
      "          \\edge.2--|\n",
      "                   |          /-Gorilla\n",
      "                    \\edge.3--|\n",
      "                              \\-Human\n"
     ]
    }
   ],
   "source": [
    "from cogent3 import load_aligned_seqs\n",
    "from cogent3.phylo import nj\n",
    "\n",
    "aln = load_aligned_seqs(\"data/primate_brca1.fasta\", moltype=\"dna\")\n",
    "dists = aln.distance_matrix(calc=\"TN93\")\n",
    "tree = nj.nj(dists, show_progress=False)\n",
    "tree = tree.balanced()  # purely for display\n",
    "print(tree.ascii_art())"
   ]
  },
  {
   "cell_type": "code",
   "execution_count": 6,
   "id": "6f92b12c",
   "metadata": {
    "execution": {
     "iopub.execute_input": "2023-12-15T00:07:54.594275Z",
     "iopub.status.busy": "2023-12-15T00:07:54.594180Z",
     "iopub.status.idle": "2023-12-15T00:07:54.596230Z",
     "shell.execute_reply": "2023-12-15T00:07:54.595998Z"
    }
   },
   "outputs": [
    {
     "name": "stdout",
     "output_type": "stream",
     "text": [
      "          /-c\n",
      "         |\n",
      "-root----|--b\n",
      "         |\n",
      "          \\-a\n"
     ]
    }
   ],
   "source": [
    "from cogent3.phylo import nj\n",
    "\n",
    "dists = {(\"a\", \"b\"): 2.7, (\"c\", \"b\"): 2.33, (\"c\", \"a\"): 0.73}\n",
    "tree = nj.nj(dists, show_progress=False)\n",
    "print(tree.ascii_art())"
   ]
  },
  {
   "cell_type": "code",
   "execution_count": 7,
   "id": "ec2d9585",
   "metadata": {
    "execution": {
     "iopub.execute_input": "2023-12-15T00:07:54.597382Z",
     "iopub.status.busy": "2023-12-15T00:07:54.597317Z",
     "iopub.status.idle": "2023-12-15T00:07:54.767881Z",
     "shell.execute_reply": "2023-12-15T00:07:54.767283Z"
    }
   },
   "outputs": [],
   "source": [
    "from cogent3.phylo.least_squares import WLS\n",
    "from cogent3.util.deserialise import deserialise_object\n",
    "\n",
    "dists = deserialise_object(\"data/dists_for_phylo.json\")\n",
    "ls = WLS(dists)\n",
    "stat, tree = ls.trex(a=5, k=5, show_progress=False)"
   ]
  },
  {
   "cell_type": "code",
   "execution_count": 8,
   "id": "65555244",
   "metadata": {
    "execution": {
     "iopub.execute_input": "2023-12-15T00:07:54.771082Z",
     "iopub.status.busy": "2023-12-15T00:07:54.770723Z",
     "iopub.status.idle": "2023-12-15T00:07:54.779468Z",
     "shell.execute_reply": "2023-12-15T00:07:54.778969Z"
    }
   },
   "outputs": [],
   "source": [
    "from cogent3 import load_aligned_seqs\n",
    "from cogent3.evolve.models import F81\n",
    "from cogent3.phylo.maximum_likelihood import ML\n",
    "\n",
    "aln = load_aligned_seqs(\"data/primate_brca1.fasta\")\n",
    "ml = ML(F81(), aln)"
   ]
  }
 ],
 "metadata": {
  "kernelspec": {
   "display_name": "Python 3 (ipykernel)",
   "language": "python",
   "name": "python3"
  },
  "language_info": {
   "codemirror_mode": {
    "name": "ipython",
    "version": 3
   },
   "file_extension": ".py",
   "mimetype": "text/x-python",
   "name": "python",
   "nbconvert_exporter": "python",
   "pygments_lexer": "ipython3",
   "version": "3.11.6"
  }
 },
 "nbformat": 4,
 "nbformat_minor": 5
}