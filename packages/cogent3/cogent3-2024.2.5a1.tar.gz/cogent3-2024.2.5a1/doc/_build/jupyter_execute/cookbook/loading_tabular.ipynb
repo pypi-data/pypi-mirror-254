{
 "cells": [
  {
   "cell_type": "code",
   "execution_count": 1,
   "id": "2a380600",
   "metadata": {
    "execution": {
     "iopub.execute_input": "2023-12-15T00:08:49.094646Z",
     "iopub.status.busy": "2023-12-15T00:08:49.094186Z",
     "iopub.status.idle": "2023-12-15T00:08:49.110367Z",
     "shell.execute_reply": "2023-12-15T00:08:49.109853Z"
    }
   },
   "outputs": [],
   "source": [
    "import set_working_directory"
   ]
  },
  {
   "cell_type": "code",
   "execution_count": 2,
   "id": "814d89e2",
   "metadata": {
    "execution": {
     "iopub.execute_input": "2023-12-15T00:08:49.113243Z",
     "iopub.status.busy": "2023-12-15T00:08:49.113030Z",
     "iopub.status.idle": "2023-12-15T00:08:50.245451Z",
     "shell.execute_reply": "2023-12-15T00:08:50.245097Z"
    }
   },
   "outputs": [
    {
     "data": {
      "text/html": [
       "\n",
       "<div class=\"c3table\">\n",
       "\n",
       "<style>\n",
       ".c3table table {margin: 10px 0;}\n",
       ".c3table tr:last-child {border-bottom: 1px solid #000;} \n",
       ".c3table tr > th {text-align: left; padding: 0 5px;}\n",
       ".c3table tr > td {text-align: left; padding: 5px;}\n",
       ".c3table tr:nth-child(even) {background: #f7f7f7 !important;}\n",
       ".c3table .ellipsis {background: rgba(0, 0, 0, .01);}\n",
       ".c3table .index {background: rgba(161, 195, 209, 0.0); margin: 10px; font-weight: 600;}\n",
       ".c3table .head_cell {background: rgba(161, 195, 209, 0.75); font-weight: bold; text-align: center;}\n",
       ".c3table caption {color: rgb(250, 250, 250); background: rgba(30, 140, 200, 1); padding: 3px; white-space: nowrap; caption-side: top;}\n",
       ".c3table .cell_title {font-weight: bold;}\n",
       ".c3col_left { text-align: left !important; display: block;}\n",
       ".c3col_right { text-align: right !important; display: block;}\n",
       ".c3col_center { text-align: center !important; display: block;}\n",
       "</style>\n",
       "\n",
       "<table>\n",
       "\n",
       "<thead class=\"head_cell\">\n",
       "<th>Locus</th><th>Region</th><th>Ratio</th>\n",
       "</thead>\n",
       "<tbody>\n",
       "<tr><td><span class=\"c3col_left\">NP_003077</span></td><td><span class=\"c3col_left\">Con</span></td><td><span class=\"c3col_right\">2.5386</span></td></tr>\n",
       "<tr><td><span class=\"c3col_left\">NP_004893</span></td><td><span class=\"c3col_left\">Con</span></td><td><span class=\"c3col_right\">121351.4264</span></td></tr>\n",
       "<tr><td><span class=\"c3col_left\">NP_005079</span></td><td><span class=\"c3col_left\">Con</span></td><td><span class=\"c3col_right\">9516594.9789</span></td></tr>\n",
       "<tr><td><span class=\"c3col_left\">NP_005500</span></td><td><span class=\"c3col_left\">NonCon</span></td><td><span class=\"c3col_right\">0.0000</span></td></tr>\n",
       "<tr><td><span class=\"c3col_left\">NP_055852</span></td><td><span class=\"c3col_left\">NonCon</span></td><td><span class=\"c3col_right\">10933217.7090</span></td></tr>\n",
       "</tbody>\n",
       "</table>\n",
       "<p>\n",
       "5 rows x 3 columns</p>\n",
       "</div>"
      ],
      "text/plain": [
       "====================================\n",
       "Locus        Region            Ratio\n",
       "------------------------------------\n",
       "NP_003077    Con              2.5386\n",
       "NP_004893    Con         121351.4264\n",
       "NP_005079    Con        9516594.9789\n",
       "NP_005500    NonCon           0.0000\n",
       "NP_055852    NonCon    10933217.7090\n",
       "------------------------------------\n",
       "\n",
       "5 rows x 3 columns"
      ]
     },
     "execution_count": 2,
     "metadata": {},
     "output_type": "execute_result"
    }
   ],
   "source": [
    "from cogent3 import load_table\n",
    "\n",
    "table = load_table(\"data/stats.tsv\")\n",
    "table"
   ]
  },
  {
   "cell_type": "code",
   "execution_count": 3,
   "id": "7d503cc6",
   "metadata": {
    "execution": {
     "iopub.execute_input": "2023-12-15T00:08:50.246964Z",
     "iopub.status.busy": "2023-12-15T00:08:50.246842Z",
     "iopub.status.idle": "2023-12-15T00:08:50.679057Z",
     "shell.execute_reply": "2023-12-15T00:08:50.677899Z"
    }
   },
   "outputs": [],
   "source": [
    "from cogent3 import load_table\n",
    "\n",
    "table = load_table(\"https://raw.githubusercontent.com/cogent3/cogent3/develop/doc/data/stats.tsv\")"
   ]
  },
  {
   "cell_type": "code",
   "execution_count": 4,
   "id": "1b4bf77b",
   "metadata": {
    "execution": {
     "iopub.execute_input": "2023-12-15T00:08:50.685130Z",
     "iopub.status.busy": "2023-12-15T00:08:50.684613Z",
     "iopub.status.idle": "2023-12-15T00:08:50.693852Z",
     "shell.execute_reply": "2023-12-15T00:08:50.693163Z"
    }
   },
   "outputs": [
    {
     "data": {
      "text/html": [
       "\n",
       "<div class=\"c3table\">\n",
       "\n",
       "<style>\n",
       ".c3table table {margin: 10px 0;}\n",
       ".c3table tr:last-child {border-bottom: 1px solid #000;} \n",
       ".c3table tr > th {text-align: left; padding: 0 5px;}\n",
       ".c3table tr > td {text-align: left; padding: 5px;}\n",
       ".c3table tr:nth-child(even) {background: #f7f7f7 !important;}\n",
       ".c3table .ellipsis {background: rgba(0, 0, 0, .01);}\n",
       ".c3table .index {background: rgba(161, 195, 209, 0.0); margin: 10px; font-weight: 600;}\n",
       ".c3table .head_cell {background: rgba(161, 195, 209, 0.75); font-weight: bold; text-align: center;}\n",
       ".c3table caption {color: rgb(250, 250, 250); background: rgba(30, 140, 200, 1); padding: 3px; white-space: nowrap; caption-side: top;}\n",
       ".c3table .cell_title {font-weight: bold;}\n",
       ".c3col_left { text-align: left !important; display: block;}\n",
       ".c3col_right { text-align: right !important; display: block;}\n",
       ".c3col_center { text-align: center !important; display: block;}\n",
       "</style>\n",
       "\n",
       "<table>\n",
       "\n",
       "<thead class=\"head_cell\">\n",
       "<th>Locus</th><th>Region</th><th>Ratio</th>\n",
       "</thead>\n",
       "<tbody>\n",
       "<tr><td><span class=\"c3col_left\">NP_003077</span></td><td><span class=\"c3col_left\">Con</span></td><td><span class=\"c3col_right\">2.5386</span></td></tr>\n",
       "<tr><td><span class=\"c3col_left\">NP_004893</span></td><td><span class=\"c3col_left\">Con</span></td><td><span class=\"c3col_right\">121351.4264</span></td></tr>\n",
       "<tr><td><span class=\"c3col_left\">NP_005079</span></td><td><span class=\"c3col_left\">Con</span></td><td><span class=\"c3col_right\">9516594.9789</span></td></tr>\n",
       "<tr><td><span class=\"c3col_left\">NP_005500</span></td><td><span class=\"c3col_left\">NonCon</span></td><td><span class=\"c3col_right\">0.0000</span></td></tr>\n",
       "<tr><td><span class=\"c3col_left\">NP_055852</span></td><td><span class=\"c3col_left\">NonCon</span></td><td><span class=\"c3col_right\">10933217.7090</span></td></tr>\n",
       "</tbody>\n",
       "</table>\n",
       "<p>\n",
       "5 rows x 3 columns</p>\n",
       "</div>"
      ],
      "text/plain": [
       "====================================\n",
       "Locus        Region            Ratio\n",
       "------------------------------------\n",
       "NP_003077    Con              2.5386\n",
       "NP_004893    Con         121351.4264\n",
       "NP_005079    Con        9516594.9789\n",
       "NP_005500    NonCon           0.0000\n",
       "NP_055852    NonCon    10933217.7090\n",
       "------------------------------------\n",
       "\n",
       "5 rows x 3 columns"
      ]
     },
     "execution_count": 4,
     "metadata": {},
     "output_type": "execute_result"
    }
   ],
   "source": [
    "from cogent3 import load_table\n",
    "\n",
    "table = load_table(\"data/stats.tsv\", sep=\"\\t\")\n",
    "table"
   ]
  },
  {
   "cell_type": "code",
   "execution_count": 5,
   "id": "9d05498f",
   "metadata": {
    "execution": {
     "iopub.execute_input": "2023-12-15T00:08:50.696822Z",
     "iopub.status.busy": "2023-12-15T00:08:50.696576Z",
     "iopub.status.idle": "2023-12-15T00:08:50.704381Z",
     "shell.execute_reply": "2023-12-15T00:08:50.703386Z"
    }
   },
   "outputs": [
    {
     "data": {
      "text/plain": [
       "[['chr1',\n",
       "  '29214',\n",
       "  '29566',\n",
       "  'chr1.1',\n",
       "  '626',\n",
       "  '.',\n",
       "  '0.0724',\n",
       "  '3.9',\n",
       "  '-1',\n",
       "  '159'],\n",
       " ['chr1',\n",
       "  '89933',\n",
       "  '90118',\n",
       "  'chr1.2',\n",
       "  '511',\n",
       "  '.',\n",
       "  '0.0313',\n",
       "  '1.59',\n",
       "  '-1',\n",
       "  '94'],\n",
       " ['chr1',\n",
       "  '545979',\n",
       "  '546193',\n",
       "  'chr1.3',\n",
       "  '543',\n",
       "  '.',\n",
       "  '0.0428',\n",
       "  '2.23',\n",
       "  '-1',\n",
       "  '100'],\n",
       " ['chr1',\n",
       "  '713797',\n",
       "  '714639',\n",
       "  'chr1.4',\n",
       "  '1000',\n",
       "  '.',\n",
       "  '0.3215',\n",
       "  '16.0',\n",
       "  '-1',\n",
       "  '380']]"
      ]
     },
     "execution_count": 5,
     "metadata": {},
     "output_type": "execute_result"
    }
   ],
   "source": [
    "from cogent3.parse.table import load_delimited\n",
    "\n",
    "header, rows, title, legend = load_delimited(\"data/CerebellumDukeDNaseSeq.pk\", header=False, sep=\"\\t\")\n",
    "rows[:4]"
   ]
  },
  {
   "cell_type": "code",
   "execution_count": 6,
   "id": "2724c0d4",
   "metadata": {
    "execution": {
     "iopub.execute_input": "2023-12-15T00:08:50.707623Z",
     "iopub.status.busy": "2023-12-15T00:08:50.707379Z",
     "iopub.status.idle": "2023-12-15T00:08:50.713197Z",
     "shell.execute_reply": "2023-12-15T00:08:50.712762Z"
    }
   },
   "outputs": [
    {
     "data": {
      "text/plain": [
       "[['chr1',\n",
       "  '29214',\n",
       "  '29566',\n",
       "  'chr1.1',\n",
       "  '626',\n",
       "  '.',\n",
       "  '0.0724',\n",
       "  '3.9',\n",
       "  '-1',\n",
       "  '159'],\n",
       " ['chr1',\n",
       "  '89933',\n",
       "  '90118',\n",
       "  'chr1.2',\n",
       "  '511',\n",
       "  '.',\n",
       "  '0.0313',\n",
       "  '1.59',\n",
       "  '-1',\n",
       "  '94'],\n",
       " ['chr1',\n",
       "  '545979',\n",
       "  '546193',\n",
       "  'chr1.3',\n",
       "  '543',\n",
       "  '.',\n",
       "  '0.0428',\n",
       "  '2.23',\n",
       "  '-1',\n",
       "  '100'],\n",
       " ['chr1',\n",
       "  '713797',\n",
       "  '714639',\n",
       "  'chr1.4',\n",
       "  '1000',\n",
       "  '.',\n",
       "  '0.3215',\n",
       "  '16.0',\n",
       "  '-1',\n",
       "  '380']]"
      ]
     },
     "execution_count": 6,
     "metadata": {},
     "output_type": "execute_result"
    }
   ],
   "source": [
    "from cogent3.parse.table import FilteringParser\n",
    "\n",
    "reader = FilteringParser(with_header=False, sep=\"\\t\")\n",
    "rows = list(reader(\"data/CerebellumDukeDNaseSeq.pk\"))\n",
    "rows[:4]"
   ]
  },
  {
   "cell_type": "code",
   "execution_count": 7,
   "id": "93f135c6",
   "metadata": {
    "execution": {
     "iopub.execute_input": "2023-12-15T00:08:50.715448Z",
     "iopub.status.busy": "2023-12-15T00:08:50.715271Z",
     "iopub.status.idle": "2023-12-15T00:08:50.719946Z",
     "shell.execute_reply": "2023-12-15T00:08:50.719542Z"
    }
   },
   "outputs": [
    {
     "data": {
      "text/html": [
       "\n",
       "<div class=\"c3table\">\n",
       "\n",
       "<style>\n",
       ".c3table table {margin: 10px 0;}\n",
       ".c3table tr:last-child {border-bottom: 1px solid #000;} \n",
       ".c3table tr > th {text-align: left; padding: 0 5px;}\n",
       ".c3table tr > td {text-align: left; padding: 5px;}\n",
       ".c3table tr:nth-child(even) {background: #f7f7f7 !important;}\n",
       ".c3table .ellipsis {background: rgba(0, 0, 0, .01);}\n",
       ".c3table .index {background: rgba(161, 195, 209, 0.0); margin: 10px; font-weight: 600;}\n",
       ".c3table .head_cell {background: rgba(161, 195, 209, 0.75); font-weight: bold; text-align: center;}\n",
       ".c3table caption {color: rgb(250, 250, 250); background: rgba(30, 140, 200, 1); padding: 3px; white-space: nowrap; caption-side: top;}\n",
       ".c3table .cell_title {font-weight: bold;}\n",
       ".c3col_left { text-align: left !important; display: block;}\n",
       ".c3col_right { text-align: right !important; display: block;}\n",
       ".c3col_center { text-align: center !important; display: block;}\n",
       "</style>\n",
       "\n",
       "<table>\n",
       "\n",
       "<thead class=\"head_cell\">\n",
       "<th>Locus</th><th>Region</th><th>Ratio</th>\n",
       "</thead>\n",
       "<tbody>\n",
       "<tr><td><span class=\"c3col_left\">NP_003077</span></td><td><span class=\"c3col_left\">Con</span></td><td><span class=\"c3col_right\">2.5386</span></td></tr>\n",
       "<tr><td><span class=\"c3col_left\">NP_004893</span></td><td><span class=\"c3col_left\">Con</span></td><td><span class=\"c3col_right\">121351.4264</span></td></tr>\n",
       "</tbody>\n",
       "</table>\n",
       "<p>\n",
       "2 rows x 3 columns</p>\n",
       "</div>"
      ],
      "text/plain": [
       "==================================\n",
       "Locus        Region          Ratio\n",
       "----------------------------------\n",
       "NP_003077    Con            2.5386\n",
       "NP_004893    Con       121351.4264\n",
       "----------------------------------\n",
       "\n",
       "2 rows x 3 columns"
      ]
     },
     "execution_count": 7,
     "metadata": {},
     "output_type": "execute_result"
    }
   ],
   "source": [
    "from cogent3 import load_table\n",
    "\n",
    "table = load_table(\"data/stats.tsv\", limit=2)\n",
    "table"
   ]
  },
  {
   "cell_type": "code",
   "execution_count": 8,
   "id": "ef3d47eb",
   "metadata": {
    "execution": {
     "iopub.execute_input": "2023-12-15T00:08:50.721844Z",
     "iopub.status.busy": "2023-12-15T00:08:50.721682Z",
     "iopub.status.idle": "2023-12-15T00:08:50.726353Z",
     "shell.execute_reply": "2023-12-15T00:08:50.725993Z"
    }
   },
   "outputs": [
    {
     "data": {
      "text/html": [
       "\n",
       "<div class=\"c3table\">\n",
       "\n",
       "<style>\n",
       ".c3table table {margin: 10px 0;}\n",
       ".c3table tr:last-child {border-bottom: 1px solid #000;} \n",
       ".c3table tr > th {text-align: left; padding: 0 5px;}\n",
       ".c3table tr > td {text-align: left; padding: 5px;}\n",
       ".c3table tr:nth-child(even) {background: #f7f7f7 !important;}\n",
       ".c3table .ellipsis {background: rgba(0, 0, 0, .01);}\n",
       ".c3table .index {background: rgba(161, 195, 209, 0.0); margin: 10px; font-weight: 600;}\n",
       ".c3table .head_cell {background: rgba(161, 195, 209, 0.75); font-weight: bold; text-align: center;}\n",
       ".c3table caption {color: rgb(250, 250, 250); background: rgba(30, 140, 200, 1); padding: 3px; white-space: nowrap; caption-side: top;}\n",
       ".c3table .cell_title {font-weight: bold;}\n",
       ".c3col_left { text-align: left !important; display: block;}\n",
       ".c3col_right { text-align: right !important; display: block;}\n",
       ".c3col_center { text-align: center !important; display: block;}\n",
       "</style>\n",
       "\n",
       "<table>\n",
       "\n",
       "<thead class=\"head_cell\">\n",
       "<th>Locus</th><th>Region</th><th>Ratio</th>\n",
       "</thead>\n",
       "<tbody>\n",
       "<tr><td><span class=\"c3col_left\">NP_003077</span></td><td><span class=\"c3col_left\">Con</span></td><td><span class=\"c3col_right\">2.5</span></td></tr>\n",
       "<tr><td><span class=\"c3col_left\">NP_005500</span></td><td><span class=\"c3col_left\">NonCon</span></td><td><span class=\"c3col_right\">0.0</span></td></tr>\n",
       "</tbody>\n",
       "</table>\n",
       "<p>\n",
       "2 rows x 3 columns</p>\n",
       "</div>"
      ],
      "text/plain": [
       "============================\n",
       "Locus        Region    Ratio\n",
       "----------------------------\n",
       "NP_003077    Con         2.5\n",
       "NP_005500    NonCon      0.0\n",
       "----------------------------\n",
       "\n",
       "2 rows x 3 columns"
      ]
     },
     "execution_count": 8,
     "metadata": {},
     "output_type": "execute_result"
    }
   ],
   "source": [
    "from cogent3.parse.table import FilteringParser\n",
    "\n",
    "reader = FilteringParser(\n",
    "    lambda line: float(line[2]) <= 10, with_header=True, sep=\"\\t\"\n",
    ")\n",
    "table = load_table(\"data/stats.tsv\", reader=reader, digits=1)\n",
    "table"
   ]
  },
  {
   "cell_type": "code",
   "execution_count": 9,
   "id": "115b7cd4",
   "metadata": {
    "execution": {
     "iopub.execute_input": "2023-12-15T00:08:50.728196Z",
     "iopub.status.busy": "2023-12-15T00:08:50.728053Z",
     "iopub.status.idle": "2023-12-15T00:08:50.731877Z",
     "shell.execute_reply": "2023-12-15T00:08:50.731560Z"
    }
   },
   "outputs": [
    {
     "data": {
      "text/html": [
       "\n",
       "<div class=\"c3table\">\n",
       "\n",
       "<style>\n",
       ".c3table table {margin: 10px 0;}\n",
       ".c3table tr:last-child {border-bottom: 1px solid #000;} \n",
       ".c3table tr > th {text-align: left; padding: 0 5px;}\n",
       ".c3table tr > td {text-align: left; padding: 5px;}\n",
       ".c3table tr:nth-child(even) {background: #f7f7f7 !important;}\n",
       ".c3table .ellipsis {background: rgba(0, 0, 0, .01);}\n",
       ".c3table .index {background: rgba(161, 195, 209, 0.0); margin: 10px; font-weight: 600;}\n",
       ".c3table .head_cell {background: rgba(161, 195, 209, 0.75); font-weight: bold; text-align: center;}\n",
       ".c3table caption {color: rgb(250, 250, 250); background: rgba(30, 140, 200, 1); padding: 3px; white-space: nowrap; caption-side: top;}\n",
       ".c3table .cell_title {font-weight: bold;}\n",
       ".c3col_left { text-align: left !important; display: block;}\n",
       ".c3col_right { text-align: right !important; display: block;}\n",
       ".c3col_center { text-align: center !important; display: block;}\n",
       "</style>\n",
       "\n",
       "<table>\n",
       "\n",
       "<thead class=\"head_cell\">\n",
       "<th>Locus</th><th>Region</th><th>Ratio</th>\n",
       "</thead>\n",
       "<tbody>\n",
       "<tr><td><span class=\"c3col_left\">NP_004893</span></td><td><span class=\"c3col_left\">Con</span></td><td><span class=\"c3col_right\">121351.4</span></td></tr>\n",
       "<tr><td><span class=\"c3col_left\">NP_005079</span></td><td><span class=\"c3col_left\">Con</span></td><td><span class=\"c3col_right\">9516595.0</span></td></tr>\n",
       "<tr><td><span class=\"c3col_left\">NP_055852</span></td><td><span class=\"c3col_left\">NonCon</span></td><td><span class=\"c3col_right\">10933217.7</span></td></tr>\n",
       "</tbody>\n",
       "</table>\n",
       "<p>\n",
       "3 rows x 3 columns</p>\n",
       "</div>"
      ],
      "text/plain": [
       "=================================\n",
       "Locus        Region         Ratio\n",
       "---------------------------------\n",
       "NP_004893    Con         121351.4\n",
       "NP_005079    Con        9516595.0\n",
       "NP_055852    NonCon    10933217.7\n",
       "---------------------------------\n",
       "\n",
       "3 rows x 3 columns"
      ]
     },
     "execution_count": 9,
     "metadata": {},
     "output_type": "execute_result"
    }
   ],
   "source": [
    "reader = FilteringParser(\n",
    "    lambda line: float(line[2]) <= 10, with_header=True, sep=\"\\t\", negate=True\n",
    ")\n",
    "table = load_table(\"data/stats.tsv\", reader=reader, digits=1)\n",
    "table"
   ]
  },
  {
   "cell_type": "code",
   "execution_count": 10,
   "id": "b37c3949",
   "metadata": {
    "execution": {
     "iopub.execute_input": "2023-12-15T00:08:50.733564Z",
     "iopub.status.busy": "2023-12-15T00:08:50.733454Z",
     "iopub.status.idle": "2023-12-15T00:08:50.737189Z",
     "shell.execute_reply": "2023-12-15T00:08:50.736903Z"
    }
   },
   "outputs": [
    {
     "data": {
      "text/html": [
       "\n",
       "<div class=\"c3table\">\n",
       "\n",
       "<style>\n",
       ".c3table table {margin: 10px 0;}\n",
       ".c3table tr:last-child {border-bottom: 1px solid #000;} \n",
       ".c3table tr > th {text-align: left; padding: 0 5px;}\n",
       ".c3table tr > td {text-align: left; padding: 5px;}\n",
       ".c3table tr:nth-child(even) {background: #f7f7f7 !important;}\n",
       ".c3table .ellipsis {background: rgba(0, 0, 0, .01);}\n",
       ".c3table .index {background: rgba(161, 195, 209, 0.0); margin: 10px; font-weight: 600;}\n",
       ".c3table .head_cell {background: rgba(161, 195, 209, 0.75); font-weight: bold; text-align: center;}\n",
       ".c3table caption {color: rgb(250, 250, 250); background: rgba(30, 140, 200, 1); padding: 3px; white-space: nowrap; caption-side: top;}\n",
       ".c3table .cell_title {font-weight: bold;}\n",
       ".c3col_left { text-align: left !important; display: block;}\n",
       ".c3col_right { text-align: right !important; display: block;}\n",
       ".c3col_center { text-align: center !important; display: block;}\n",
       "</style>\n",
       "\n",
       "<table>\n",
       "\n",
       "<thead class=\"head_cell\">\n",
       "<th>Locus</th><th>Ratio</th>\n",
       "</thead>\n",
       "<tbody>\n",
       "<tr><td><span class=\"c3col_left\">NP_003077</span></td><td><span class=\"c3col_right\">2.5386</span></td></tr>\n",
       "<tr><td><span class=\"c3col_left\">NP_004893</span></td><td><span class=\"c3col_right\">121351.4264</span></td></tr>\n",
       "<tr><td><span class=\"c3col_left\">NP_005079</span></td><td><span class=\"c3col_right\">9516594.9789</span></td></tr>\n",
       "<tr><td><span class=\"c3col_left\">NP_005500</span></td><td><span class=\"c3col_right\">0.0000</span></td></tr>\n",
       "<tr><td><span class=\"c3col_left\">NP_055852</span></td><td><span class=\"c3col_right\">10933217.7090</span></td></tr>\n",
       "</tbody>\n",
       "</table>\n",
       "<p>\n",
       "5 rows x 2 columns</p>\n",
       "</div>"
      ],
      "text/plain": [
       "==========================\n",
       "Locus                Ratio\n",
       "--------------------------\n",
       "NP_003077           2.5386\n",
       "NP_004893      121351.4264\n",
       "NP_005079     9516594.9789\n",
       "NP_005500           0.0000\n",
       "NP_055852    10933217.7090\n",
       "--------------------------\n",
       "\n",
       "5 rows x 2 columns"
      ]
     },
     "execution_count": 10,
     "metadata": {},
     "output_type": "execute_result"
    }
   ],
   "source": [
    "from cogent3.parse.table import FilteringParser\n",
    "\n",
    "reader = FilteringParser(columns=[\"Locus\", \"Ratio\"], with_header=True, sep=\"\\t\")\n",
    "table = load_table(\"data/stats.tsv\", reader=reader)\n",
    "table"
   ]
  },
  {
   "cell_type": "code",
   "execution_count": 11,
   "id": "f710d738",
   "metadata": {
    "execution": {
     "iopub.execute_input": "2023-12-15T00:08:50.738737Z",
     "iopub.status.busy": "2023-12-15T00:08:50.738637Z",
     "iopub.status.idle": "2023-12-15T00:08:50.741979Z",
     "shell.execute_reply": "2023-12-15T00:08:50.741687Z"
    }
   },
   "outputs": [
    {
     "data": {
      "text/html": [
       "\n",
       "<div class=\"c3table\">\n",
       "\n",
       "<style>\n",
       ".c3table table {margin: 10px 0;}\n",
       ".c3table tr:last-child {border-bottom: 1px solid #000;} \n",
       ".c3table tr > th {text-align: left; padding: 0 5px;}\n",
       ".c3table tr > td {text-align: left; padding: 5px;}\n",
       ".c3table tr:nth-child(even) {background: #f7f7f7 !important;}\n",
       ".c3table .ellipsis {background: rgba(0, 0, 0, .01);}\n",
       ".c3table .index {background: rgba(161, 195, 209, 0.0); margin: 10px; font-weight: 600;}\n",
       ".c3table .head_cell {background: rgba(161, 195, 209, 0.75); font-weight: bold; text-align: center;}\n",
       ".c3table caption {color: rgb(250, 250, 250); background: rgba(30, 140, 200, 1); padding: 3px; white-space: nowrap; caption-side: top;}\n",
       ".c3table .cell_title {font-weight: bold;}\n",
       ".c3col_left { text-align: left !important; display: block;}\n",
       ".c3col_right { text-align: right !important; display: block;}\n",
       ".c3col_center { text-align: center !important; display: block;}\n",
       "</style>\n",
       "\n",
       "<table>\n",
       "\n",
       "<thead class=\"head_cell\">\n",
       "<th>Locus</th><th>Ratio</th>\n",
       "</thead>\n",
       "<tbody>\n",
       "<tr><td><span class=\"c3col_left\">NP_003077</span></td><td><span class=\"c3col_right\">2.5386</span></td></tr>\n",
       "<tr><td><span class=\"c3col_left\">NP_004893</span></td><td><span class=\"c3col_right\">121351.4264</span></td></tr>\n",
       "<tr><td><span class=\"c3col_left\">NP_005079</span></td><td><span class=\"c3col_right\">9516594.9789</span></td></tr>\n",
       "<tr><td><span class=\"c3col_left\">NP_005500</span></td><td><span class=\"c3col_right\">0.0000</span></td></tr>\n",
       "<tr><td><span class=\"c3col_left\">NP_055852</span></td><td><span class=\"c3col_right\">10933217.7090</span></td></tr>\n",
       "</tbody>\n",
       "</table>\n",
       "<p>\n",
       "5 rows x 2 columns</p>\n",
       "</div>"
      ],
      "text/plain": [
       "==========================\n",
       "Locus                Ratio\n",
       "--------------------------\n",
       "NP_003077           2.5386\n",
       "NP_004893      121351.4264\n",
       "NP_005079     9516594.9789\n",
       "NP_005500           0.0000\n",
       "NP_055852    10933217.7090\n",
       "--------------------------\n",
       "\n",
       "5 rows x 2 columns"
      ]
     },
     "execution_count": 11,
     "metadata": {},
     "output_type": "execute_result"
    }
   ],
   "source": [
    "from cogent3.parse.table import FilteringParser\n",
    "\n",
    "reader = FilteringParser(columns=[0, -1], with_header=True, sep=\"\\t\")\n",
    "table = load_table(\"data/stats.tsv\", reader=reader)\n",
    "table"
   ]
  },
  {
   "cell_type": "code",
   "execution_count": 12,
   "id": "04c9a1eb",
   "metadata": {
    "execution": {
     "iopub.execute_input": "2023-12-15T00:08:50.743478Z",
     "iopub.status.busy": "2023-12-15T00:08:50.743379Z",
     "iopub.status.idle": "2023-12-15T00:08:50.745665Z",
     "shell.execute_reply": "2023-12-15T00:08:50.745346Z"
    }
   },
   "outputs": [],
   "source": [
    "from cogent3.parse.table import FilteringParser\n",
    "\n",
    "reader = FilteringParser(with_header=True, sep=\"\\t\")\n",
    "data = list(reader(\"data/stats.tsv\"))"
   ]
  },
  {
   "cell_type": "code",
   "execution_count": 13,
   "id": "9f8c640d",
   "metadata": {
    "execution": {
     "iopub.execute_input": "2023-12-15T00:08:50.747038Z",
     "iopub.status.busy": "2023-12-15T00:08:50.746949Z",
     "iopub.status.idle": "2023-12-15T00:08:50.749251Z",
     "shell.execute_reply": "2023-12-15T00:08:50.748968Z"
    }
   },
   "outputs": [
    {
     "data": {
      "text/plain": [
       "[['Locus', 'Region', 'Ratio'], ['NP_003077', 'Con', '2.5386013224378985']]"
      ]
     },
     "execution_count": 13,
     "metadata": {},
     "output_type": "execute_result"
    }
   ],
   "source": [
    "data[:2]"
   ]
  },
  {
   "cell_type": "code",
   "execution_count": 14,
   "id": "542339d3",
   "metadata": {
    "execution": {
     "iopub.execute_input": "2023-12-15T00:08:50.750673Z",
     "iopub.status.busy": "2023-12-15T00:08:50.750564Z",
     "iopub.status.idle": "2023-12-15T00:08:50.753674Z",
     "shell.execute_reply": "2023-12-15T00:08:50.753428Z"
    }
   },
   "outputs": [
    {
     "data": {
      "text/html": [
       "\n",
       "<div class=\"c3table\">\n",
       "\n",
       "<style>\n",
       ".c3table table {margin: 10px 0;}\n",
       ".c3table tr:last-child {border-bottom: 1px solid #000;} \n",
       ".c3table tr > th {text-align: left; padding: 0 5px;}\n",
       ".c3table tr > td {text-align: left; padding: 5px;}\n",
       ".c3table tr:nth-child(even) {background: #f7f7f7 !important;}\n",
       ".c3table .ellipsis {background: rgba(0, 0, 0, .01);}\n",
       ".c3table .index {background: rgba(161, 195, 209, 0.0); margin: 10px; font-weight: 600;}\n",
       ".c3table .head_cell {background: rgba(161, 195, 209, 0.75); font-weight: bold; text-align: center;}\n",
       ".c3table caption {color: rgb(250, 250, 250); background: rgba(30, 140, 200, 1); padding: 3px; white-space: nowrap; caption-side: top;}\n",
       ".c3table .cell_title {font-weight: bold;}\n",
       ".c3col_left { text-align: left !important; display: block;}\n",
       ".c3col_right { text-align: right !important; display: block;}\n",
       ".c3col_center { text-align: center !important; display: block;}\n",
       "</style>\n",
       "\n",
       "<table>\n",
       "\n",
       "<thead class=\"head_cell\">\n",
       "<th>A</th><th>B</th><th>C</th>\n",
       "</thead>\n",
       "<tbody>\n",
       "<tr><td><span class=\"c3col_right\">0</span></td><td><span class=\"c3col_right\">1</span></td><td><span class=\"c3col_right\">2</span></td></tr>\n",
       "<tr><td><span class=\"c3col_right\">3</span></td><td><span class=\"c3col_right\">4</span></td><td><span class=\"c3col_right\">5</span></td></tr>\n",
       "<tr><td><span class=\"c3col_right\">6</span></td><td><span class=\"c3col_right\">7</span></td><td><span class=\"c3col_right\">8</span></td></tr>\n",
       "<tr><td><span class=\"c3col_right\">9</span></td><td><span class=\"c3col_right\">10</span></td><td><span class=\"c3col_right\">11</span></td></tr>\n",
       "</tbody>\n",
       "</table>\n",
       "<p>\n",
       "4 rows x 3 columns</p>\n",
       "</div>"
      ],
      "text/plain": [
       "=============\n",
       "A     B     C\n",
       "-------------\n",
       "0     1     2\n",
       "3     4     5\n",
       "6     7     8\n",
       "9    10    11\n",
       "-------------\n",
       "\n",
       "4 rows x 3 columns"
      ]
     },
     "execution_count": 14,
     "metadata": {},
     "output_type": "execute_result"
    }
   ],
   "source": [
    "from cogent3 import make_table\n",
    "\n",
    "header = [\"A\", \"B\", \"C\"]\n",
    "rows = [range(3), range(3, 6), range(6, 9), range(9, 12)]\n",
    "table = make_table(header=[\"A\", \"B\", \"C\"], data=rows)\n",
    "table"
   ]
  },
  {
   "cell_type": "code",
   "execution_count": 15,
   "id": "5d60fdc8",
   "metadata": {
    "execution": {
     "iopub.execute_input": "2023-12-15T00:08:50.755005Z",
     "iopub.status.busy": "2023-12-15T00:08:50.754928Z",
     "iopub.status.idle": "2023-12-15T00:08:50.757639Z",
     "shell.execute_reply": "2023-12-15T00:08:50.757388Z"
    }
   },
   "outputs": [
    {
     "data": {
      "text/html": [
       "\n",
       "<div class=\"c3table\">\n",
       "\n",
       "<style>\n",
       ".c3table table {margin: 10px 0;}\n",
       ".c3table tr:last-child {border-bottom: 1px solid #000;} \n",
       ".c3table tr > th {text-align: left; padding: 0 5px;}\n",
       ".c3table tr > td {text-align: left; padding: 5px;}\n",
       ".c3table tr:nth-child(even) {background: #f7f7f7 !important;}\n",
       ".c3table .ellipsis {background: rgba(0, 0, 0, .01);}\n",
       ".c3table .index {background: rgba(161, 195, 209, 0.0); margin: 10px; font-weight: 600;}\n",
       ".c3table .head_cell {background: rgba(161, 195, 209, 0.75); font-weight: bold; text-align: center;}\n",
       ".c3table caption {color: rgb(250, 250, 250); background: rgba(30, 140, 200, 1); padding: 3px; white-space: nowrap; caption-side: top;}\n",
       ".c3table .cell_title {font-weight: bold;}\n",
       ".c3col_left { text-align: left !important; display: block;}\n",
       ".c3col_right { text-align: right !important; display: block;}\n",
       ".c3col_center { text-align: center !important; display: block;}\n",
       "</style>\n",
       "\n",
       "<table>\n",
       "\n",
       "<thead class=\"head_cell\">\n",
       "<th>A</th><th>B</th><th>C</th>\n",
       "</thead>\n",
       "<tbody>\n",
       "<tr><td><span class=\"c3col_right\">0</span></td><td><span class=\"c3col_right\">1</span></td><td><span class=\"c3col_right\">2</span></td></tr>\n",
       "<tr><td><span class=\"c3col_right\">3</span></td><td><span class=\"c3col_right\">4</span></td><td><span class=\"c3col_right\">5</span></td></tr>\n",
       "<tr><td><span class=\"c3col_right\">6</span></td><td><span class=\"c3col_right\">7</span></td><td><span class=\"c3col_right\">8</span></td></tr>\n",
       "</tbody>\n",
       "</table>\n",
       "<p>\n",
       "3 rows x 3 columns</p>\n",
       "</div>"
      ],
      "text/plain": [
       "===========\n",
       "A    B    C\n",
       "-----------\n",
       "0    1    2\n",
       "3    4    5\n",
       "6    7    8\n",
       "-----------\n",
       "\n",
       "3 rows x 3 columns"
      ]
     },
     "execution_count": 15,
     "metadata": {},
     "output_type": "execute_result"
    }
   ],
   "source": [
    "from cogent3 import make_table\n",
    "\n",
    "data = dict(A=[0, 3, 6], B=[1, 4, 7], C=[2, 5, 8])\n",
    "table = make_table(data=data)\n",
    "table"
   ]
  },
  {
   "cell_type": "code",
   "execution_count": 16,
   "id": "d9a682d3",
   "metadata": {
    "execution": {
     "iopub.execute_input": "2023-12-15T00:08:50.758859Z",
     "iopub.status.busy": "2023-12-15T00:08:50.758784Z",
     "iopub.status.idle": "2023-12-15T00:08:50.761266Z",
     "shell.execute_reply": "2023-12-15T00:08:50.760982Z"
    }
   },
   "outputs": [
    {
     "data": {
      "text/html": [
       "\n",
       "<div class=\"c3table\">\n",
       "\n",
       "<style>\n",
       ".c3table table {margin: 10px 0;}\n",
       ".c3table tr:last-child {border-bottom: 1px solid #000;} \n",
       ".c3table tr > th {text-align: left; padding: 0 5px;}\n",
       ".c3table tr > td {text-align: left; padding: 5px;}\n",
       ".c3table tr:nth-child(even) {background: #f7f7f7 !important;}\n",
       ".c3table .ellipsis {background: rgba(0, 0, 0, .01);}\n",
       ".c3table .index {background: rgba(161, 195, 209, 0.0); margin: 10px; font-weight: 600;}\n",
       ".c3table .head_cell {background: rgba(161, 195, 209, 0.75); font-weight: bold; text-align: center;}\n",
       ".c3table caption {color: rgb(250, 250, 250); background: rgba(30, 140, 200, 1); padding: 3px; white-space: nowrap; caption-side: top;}\n",
       ".c3table .cell_title {font-weight: bold;}\n",
       ".c3col_left { text-align: left !important; display: block;}\n",
       ".c3col_right { text-align: right !important; display: block;}\n",
       ".c3col_center { text-align: center !important; display: block;}\n",
       "</style>\n",
       "\n",
       "<table>\n",
       "\n",
       "<thead class=\"head_cell\">\n",
       "<th>C</th><th>A</th><th>B</th>\n",
       "</thead>\n",
       "<tbody>\n",
       "<tr><td><span class=\"c3col_right\">2</span></td><td><span class=\"c3col_right\">0</span></td><td><span class=\"c3col_right\">1</span></td></tr>\n",
       "<tr><td><span class=\"c3col_right\">5</span></td><td><span class=\"c3col_right\">3</span></td><td><span class=\"c3col_right\">4</span></td></tr>\n",
       "<tr><td><span class=\"c3col_right\">8</span></td><td><span class=\"c3col_right\">6</span></td><td><span class=\"c3col_right\">7</span></td></tr>\n",
       "</tbody>\n",
       "</table>\n",
       "<p>\n",
       "3 rows x 3 columns</p>\n",
       "</div>"
      ],
      "text/plain": [
       "===========\n",
       "C    A    B\n",
       "-----------\n",
       "2    0    1\n",
       "5    3    4\n",
       "8    6    7\n",
       "-----------\n",
       "\n",
       "3 rows x 3 columns"
      ]
     },
     "execution_count": 16,
     "metadata": {},
     "output_type": "execute_result"
    }
   ],
   "source": [
    "table = make_table(header=[\"C\", \"A\", \"B\"], data=data)\n",
    "table"
   ]
  },
  {
   "cell_type": "code",
   "execution_count": 17,
   "id": "d8fc6c30",
   "metadata": {
    "execution": {
     "iopub.execute_input": "2023-12-15T00:08:50.762564Z",
     "iopub.status.busy": "2023-12-15T00:08:50.762484Z",
     "iopub.status.idle": "2023-12-15T00:08:50.765309Z",
     "shell.execute_reply": "2023-12-15T00:08:50.765046Z"
    }
   },
   "outputs": [
    {
     "data": {
      "text/html": [
       "\n",
       "<div class=\"c3table\">\n",
       "\n",
       "<style>\n",
       ".c3table table {margin: 10px 0;}\n",
       ".c3table tr:last-child {border-bottom: 1px solid #000;} \n",
       ".c3table tr > th {text-align: left; padding: 0 5px;}\n",
       ".c3table tr > td {text-align: left; padding: 5px;}\n",
       ".c3table tr:nth-child(even) {background: #f7f7f7 !important;}\n",
       ".c3table .ellipsis {background: rgba(0, 0, 0, .01);}\n",
       ".c3table .index {background: rgba(161, 195, 209, 0.25); margin: 10px; font-weight: 600;}\n",
       ".c3table .head_cell {background: rgba(161, 195, 209, 0.75); font-weight: bold; text-align: center;}\n",
       ".c3table caption {color: rgb(250, 250, 250); background: rgba(30, 140, 200, 1); padding: 3px; white-space: nowrap; caption-side: top;}\n",
       ".c3table .cell_title {font-weight: bold;}\n",
       ".c3col_left { text-align: left !important; display: block;}\n",
       ".c3col_right { text-align: right !important; display: block;}\n",
       ".c3col_center { text-align: center !important; display: block;}\n",
       "</style>\n",
       "\n",
       "<table>\n",
       "\n",
       "<thead class=\"head_cell\">\n",
       "<th>Locus</th><th>Region</th><th>Ratio</th>\n",
       "</thead>\n",
       "<tbody>\n",
       "<tr><td class=\"index\"><span class=\"c3col_left\">NP_055852</span></td><td><span class=\"c3col_left\">NonCon</span></td><td><span class=\"c3col_right\">10933217.7090</span></td></tr>\n",
       "</tbody>\n",
       "</table>\n",
       "<p>\n",
       "1 rows x 3 columns</p>\n",
       "</div>"
      ],
      "text/plain": [
       "====================================\n",
       "Locus        Region            Ratio\n",
       "------------------------------------\n",
       "NP_055852    NonCon    10933217.7090\n",
       "------------------------------------\n",
       "\n",
       "1 rows x 3 columns"
      ]
     },
     "execution_count": 17,
     "metadata": {},
     "output_type": "execute_result"
    }
   ],
   "source": [
    "table = load_table(\"data/stats.tsv\", index_name=\"Locus\")\n",
    "table[\"NP_055852\"]"
   ]
  },
  {
   "cell_type": "code",
   "execution_count": 18,
   "id": "718713cd",
   "metadata": {
    "execution": {
     "iopub.execute_input": "2023-12-15T00:08:50.766546Z",
     "iopub.status.busy": "2023-12-15T00:08:50.766469Z",
     "iopub.status.idle": "2023-12-15T00:08:50.768530Z",
     "shell.execute_reply": "2023-12-15T00:08:50.768282Z"
    }
   },
   "outputs": [
    {
     "data": {
      "text/plain": [
       "'NonCon'"
      ]
     },
     "execution_count": 18,
     "metadata": {},
     "output_type": "execute_result"
    }
   ],
   "source": [
    "table[\"NP_055852\", \"Region\"]"
   ]
  },
  {
   "cell_type": "code",
   "execution_count": 19,
   "id": "e55342eb",
   "metadata": {
    "execution": {
     "iopub.execute_input": "2023-12-15T00:08:50.769735Z",
     "iopub.status.busy": "2023-12-15T00:08:50.769666Z",
     "iopub.status.idle": "2023-12-15T00:08:52.433024Z",
     "shell.execute_reply": "2023-12-15T00:08:52.432804Z"
    }
   },
   "outputs": [
    {
     "data": {
      "text/html": [
       "\n",
       "<div class=\"c3table\">\n",
       "\n",
       "<style>\n",
       ".c3table table {margin: 10px 0;}\n",
       ".c3table tr:last-child {border-bottom: 1px solid #000;} \n",
       ".c3table tr > th {text-align: left; padding: 0 5px;}\n",
       ".c3table tr > td {text-align: left; padding: 5px;}\n",
       ".c3table tr:nth-child(even) {background: #f7f7f7 !important;}\n",
       ".c3table .ellipsis {background: rgba(0, 0, 0, .01);}\n",
       ".c3table .index {background: rgba(161, 195, 209, 0.0); margin: 10px; font-weight: 600;}\n",
       ".c3table .head_cell {background: rgba(161, 195, 209, 0.75); font-weight: bold; text-align: center;}\n",
       ".c3table caption {color: rgb(250, 250, 250); background: rgba(30, 140, 200, 1); padding: 3px; white-space: nowrap; caption-side: top;}\n",
       ".c3table .cell_title {font-weight: bold;}\n",
       ".c3col_left { text-align: left !important; display: block;}\n",
       ".c3col_right { text-align: right !important; display: block;}\n",
       ".c3col_center { text-align: center !important; display: block;}\n",
       "</style>\n",
       "\n",
       "<table>\n",
       "\n",
       "<thead class=\"head_cell\">\n",
       "<th>a</th><th>b</th>\n",
       "</thead>\n",
       "<tbody>\n",
       "<tr><td><span class=\"c3col_right\">0</span></td><td><span class=\"c3col_left\">a</span></td></tr>\n",
       "<tr><td><span class=\"c3col_right\">3</span></td><td><span class=\"c3col_left\">c</span></td></tr>\n",
       "</tbody>\n",
       "</table>\n",
       "<p>\n",
       "2 rows x 2 columns</p>\n",
       "</div>"
      ],
      "text/plain": [
       "======\n",
       "a    b\n",
       "------\n",
       "0    a\n",
       "3    c\n",
       "------\n",
       "\n",
       "2 rows x 2 columns"
      ]
     },
     "execution_count": 19,
     "metadata": {},
     "output_type": "execute_result"
    }
   ],
   "source": [
    "from pandas import DataFrame\n",
    "\n",
    "from cogent3 import make_table\n",
    "\n",
    "data = dict(a=[0, 3], b=[\"a\", \"c\"])\n",
    "df = DataFrame(data=data)\n",
    "table = make_table(data_frame=df)\n",
    "table"
   ]
  },
  {
   "cell_type": "code",
   "execution_count": 20,
   "id": "64b8adf5",
   "metadata": {
    "execution": {
     "iopub.execute_input": "2023-12-15T00:08:52.434283Z",
     "iopub.status.busy": "2023-12-15T00:08:52.434153Z",
     "iopub.status.idle": "2023-12-15T00:08:52.436350Z",
     "shell.execute_reply": "2023-12-15T00:08:52.436166Z"
    }
   },
   "outputs": [
    {
     "data": {
      "text/html": [
       "\n",
       "<div class=\"c3table\">\n",
       "\n",
       "<style>\n",
       ".c3table table {margin: 10px 0;}\n",
       ".c3table tr:last-child {border-bottom: 1px solid #000;} \n",
       ".c3table tr > th {text-align: left; padding: 0 5px;}\n",
       ".c3table tr > td {text-align: left; padding: 5px;}\n",
       ".c3table tr:nth-child(even) {background: #f7f7f7 !important;}\n",
       ".c3table .ellipsis {background: rgba(0, 0, 0, .01);}\n",
       ".c3table .index {background: rgba(161, 195, 209, 0.0); margin: 10px; font-weight: 600;}\n",
       ".c3table .head_cell {background: rgba(161, 195, 209, 0.75); font-weight: bold; text-align: center;}\n",
       ".c3table caption {color: rgb(250, 250, 250); background: rgba(30, 140, 200, 1); padding: 3px; white-space: nowrap; caption-side: top;}\n",
       ".c3table .cell_title {font-weight: bold;}\n",
       ".c3col_left { text-align: left !important; display: block;}\n",
       ".c3col_right { text-align: right !important; display: block;}\n",
       ".c3col_center { text-align: center !important; display: block;}\n",
       "</style>\n",
       "\n",
       "<table>\n",
       "\n",
       "<thead class=\"head_cell\">\n",
       "<th>a</th><th>b</th>\n",
       "</thead>\n",
       "<tbody>\n",
       "<tr><td><span class=\"c3col_right\">0</span></td><td><span class=\"c3col_left\">a</span></td></tr>\n",
       "<tr><td><span class=\"c3col_right\">3</span></td><td><span class=\"c3col_left\">c</span></td></tr>\n",
       "</tbody>\n",
       "</table>\n",
       "<p>\n",
       "2 rows x 2 columns</p>\n",
       "</div>"
      ],
      "text/plain": [
       "======\n",
       "a    b\n",
       "------\n",
       "0    a\n",
       "3    c\n",
       "------\n",
       "\n",
       "2 rows x 2 columns"
      ]
     },
     "execution_count": 20,
     "metadata": {},
     "output_type": "execute_result"
    }
   ],
   "source": [
    "from cogent3 import make_table\n",
    "\n",
    "table = make_table(header=[\"a\", \"b\"], data=[[0, \"a\"], [3, \"c\"]])\n",
    "table"
   ]
  },
  {
   "cell_type": "code",
   "execution_count": 21,
   "id": "b0be696a",
   "metadata": {
    "execution": {
     "iopub.execute_input": "2023-12-15T00:08:52.437393Z",
     "iopub.status.busy": "2023-12-15T00:08:52.437309Z",
     "iopub.status.idle": "2023-12-15T00:08:52.439438Z",
     "shell.execute_reply": "2023-12-15T00:08:52.439240Z"
    }
   },
   "outputs": [
    {
     "data": {
      "text/html": [
       "\n",
       "<div class=\"c3table\">\n",
       "\n",
       "<style>\n",
       ".c3table table {margin: 10px 0;}\n",
       ".c3table tr:last-child {border-bottom: 1px solid #000;} \n",
       ".c3table tr > th {text-align: left; padding: 0 5px;}\n",
       ".c3table tr > td {text-align: left; padding: 5px;}\n",
       ".c3table tr:nth-child(even) {background: #f7f7f7 !important;}\n",
       ".c3table .ellipsis {background: rgba(0, 0, 0, .01);}\n",
       ".c3table .index {background: rgba(161, 195, 209, 0.0); margin: 10px; font-weight: 600;}\n",
       ".c3table .head_cell {background: rgba(161, 195, 209, 0.75); font-weight: bold; text-align: center;}\n",
       ".c3table caption {color: rgb(250, 250, 250); background: rgba(30, 140, 200, 1); padding: 3px; white-space: nowrap; caption-side: top;}\n",
       ".c3table .cell_title {font-weight: bold;}\n",
       ".c3col_left { text-align: left !important; display: block;}\n",
       ".c3col_right { text-align: right !important; display: block;}\n",
       ".c3col_center { text-align: center !important; display: block;}\n",
       "</style>\n",
       "\n",
       "<table>\n",
       "\n",
       "<thead class=\"head_cell\">\n",
       "<th>a</th><th>b</th>\n",
       "</thead>\n",
       "<tbody>\n",
       "<tr><td><span class=\"c3col_right\">0</span></td><td><span class=\"c3col_left\">a</span></td></tr>\n",
       "<tr><td><span class=\"c3col_right\">3</span></td><td><span class=\"c3col_left\">c</span></td></tr>\n",
       "</tbody>\n",
       "</table>\n",
       "<p>\n",
       "2 rows x 2 columns</p>\n",
       "</div>"
      ],
      "text/plain": [
       "======\n",
       "a    b\n",
       "------\n",
       "0    a\n",
       "3    c\n",
       "------\n",
       "\n",
       "2 rows x 2 columns"
      ]
     },
     "execution_count": 21,
     "metadata": {},
     "output_type": "execute_result"
    }
   ],
   "source": [
    "from cogent3 import make_table\n",
    "\n",
    "data = dict(a=[0, 3], b=[\"a\", \"c\"])\n",
    "table = make_table(data=data)\n",
    "table"
   ]
  },
  {
   "cell_type": "code",
   "execution_count": 22,
   "id": "7766c97e",
   "metadata": {
    "execution": {
     "iopub.execute_input": "2023-12-15T00:08:52.440489Z",
     "iopub.status.busy": "2023-12-15T00:08:52.440412Z",
     "iopub.status.idle": "2023-12-15T00:08:52.442930Z",
     "shell.execute_reply": "2023-12-15T00:08:52.442735Z"
    }
   },
   "outputs": [
    {
     "data": {
      "text/html": [
       "\n",
       "<div class=\"c3table\">\n",
       "\n",
       "<style>\n",
       ".c3table table {margin: 10px 0;}\n",
       ".c3table tr:last-child {border-bottom: 1px solid #000;} \n",
       ".c3table tr > th {text-align: left; padding: 0 5px;}\n",
       ".c3table tr > td {text-align: left; padding: 5px;}\n",
       ".c3table tr:nth-child(even) {background: #f7f7f7 !important;}\n",
       ".c3table .ellipsis {background: rgba(0, 0, 0, .01);}\n",
       ".c3table .index {background: rgba(161, 195, 209, 0.0); margin: 10px; font-weight: 600;}\n",
       ".c3table .head_cell {background: rgba(161, 195, 209, 0.75); font-weight: bold; text-align: center;}\n",
       ".c3table caption {color: rgb(250, 250, 250); background: rgba(30, 140, 200, 1); padding: 3px; white-space: nowrap; caption-side: top;}\n",
       ".c3table .cell_title {font-weight: bold;}\n",
       ".c3col_left { text-align: left !important; display: block;}\n",
       ".c3col_right { text-align: right !important; display: block;}\n",
       ".c3col_center { text-align: center !important; display: block;}\n",
       "</style>\n",
       "\n",
       "<table>\n",
       "\n",
       "<thead class=\"head_cell\">\n",
       "<th>edge.parent</th><th>x</th><th>length</th>\n",
       "</thead>\n",
       "<tbody>\n",
       "<tr><td><span class=\"c3col_left\">root</span></td><td><span class=\"c3col_right\">1.0000</span></td><td><span class=\"c3col_right\">4.0000</span></td></tr>\n",
       "<tr><td><span class=\"c3col_left\">root</span></td><td><span class=\"c3col_right\">1.0000</span></td><td><span class=\"c3col_right\">4.0000</span></td></tr>\n",
       "<tr><td><span class=\"c3col_left\">root</span></td><td><span class=\"c3col_right\">1.0000</span></td><td><span class=\"c3col_right\">4.0000</span></td></tr>\n",
       "<tr><td><span class=\"c3col_left\">edge.0</span></td><td><span class=\"c3col_right\">1.0000</span></td><td><span class=\"c3col_right\">4.0000</span></td></tr>\n",
       "</tbody>\n",
       "</table>\n",
       "<p>\n",
       "4 rows x 3 columns</p>\n",
       "</div>"
      ],
      "text/plain": [
       "===============================\n",
       "edge.parent         x    length\n",
       "-------------------------------\n",
       "root           1.0000    4.0000\n",
       "root           1.0000    4.0000\n",
       "root           1.0000    4.0000\n",
       "edge.0         1.0000    4.0000\n",
       "-------------------------------\n",
       "\n",
       "4 rows x 3 columns"
      ]
     },
     "execution_count": 22,
     "metadata": {},
     "output_type": "execute_result"
    }
   ],
   "source": [
    "from cogent3 import make_table\n",
    "\n",
    "d2D = {\n",
    "    \"edge.parent\": {\n",
    "        \"NineBande\": \"root\",\n",
    "        \"edge.1\": \"root\",\n",
    "        \"DogFaced\": \"root\",\n",
    "        \"Human\": \"edge.0\",\n",
    "    },\n",
    "    \"x\": {\n",
    "        \"NineBande\": 1.0,\n",
    "        \"edge.1\": 1.0,\n",
    "        \"DogFaced\": 1.0,\n",
    "        \"Human\": 1.0,\n",
    "    },\n",
    "    \"length\": {\n",
    "        \"NineBande\": 4.0,\n",
    "        \"edge.1\": 4.0,\n",
    "        \"DogFaced\": 4.0,\n",
    "        \"Human\": 4.0,\n",
    "    },\n",
    "}\n",
    "table = make_table(\n",
    "    data=d2D,\n",
    ")\n",
    "table"
   ]
  },
  {
   "cell_type": "code",
   "execution_count": 23,
   "id": "35866f03",
   "metadata": {
    "execution": {
     "iopub.execute_input": "2023-12-15T00:08:52.443972Z",
     "iopub.status.busy": "2023-12-15T00:08:52.443905Z",
     "iopub.status.idle": "2023-12-15T00:08:52.446266Z",
     "shell.execute_reply": "2023-12-15T00:08:52.446043Z"
    }
   },
   "outputs": [
    {
     "data": {
      "text/html": [
       "\n",
       "<div class=\"c3table\">\n",
       "\n",
       "<style>\n",
       ".c3table table {margin: 10px 0;}\n",
       ".c3table tr:last-child {border-bottom: 1px solid #000;} \n",
       ".c3table tr > th {text-align: left; padding: 0 5px;}\n",
       ".c3table tr > td {text-align: left; padding: 5px;}\n",
       ".c3table tr:nth-child(even) {background: #f7f7f7 !important;}\n",
       ".c3table .ellipsis {background: rgba(0, 0, 0, .01);}\n",
       ".c3table .index {background: rgba(161, 195, 209, 0.0); margin: 10px; font-weight: 600;}\n",
       ".c3table .head_cell {background: rgba(161, 195, 209, 0.75); font-weight: bold; text-align: center;}\n",
       ".c3table caption {color: rgb(250, 250, 250); background: rgba(30, 140, 200, 1); padding: 3px; white-space: nowrap; caption-side: top;}\n",
       ".c3table .cell_title {font-weight: bold;}\n",
       ".c3col_left { text-align: left !important; display: block;}\n",
       ".c3col_right { text-align: right !important; display: block;}\n",
       ".c3col_center { text-align: center !important; display: block;}\n",
       "</style>\n",
       "\n",
       "<table>\n",
       "\n",
       "<thead class=\"head_cell\">\n",
       "<th>abcd</th><th>data</th>\n",
       "</thead>\n",
       "<tbody>\n",
       "<tr><td><span class=\"c3col_left\">range(1, 6)</span></td><td><span class=\"c3col_left\">0</span></td></tr>\n",
       "<tr><td><span class=\"c3col_left\">x</span></td><td><span class=\"c3col_left\">5.0</span></td></tr>\n",
       "<tr><td><span class=\"c3col_left\">y</span></td><td><span class=\"c3col_left\">None</span></td></tr>\n",
       "</tbody>\n",
       "</table>\n",
       "<p>\n",
       "3 rows x 2 columns</p>\n",
       "</div>"
      ],
      "text/plain": [
       "===================\n",
       "abcd           data\n",
       "-------------------\n",
       "range(1, 6)    0   \n",
       "x              5.0 \n",
       "y              None\n",
       "-------------------\n",
       "\n",
       "3 rows x 2 columns"
      ]
     },
     "execution_count": 23,
     "metadata": {},
     "output_type": "execute_result"
    }
   ],
   "source": [
    "from cogent3 import make_table\n",
    "\n",
    "table = make_table(\n",
    "    header=[\"abcd\", \"data\"],\n",
    "    data=[[range(1, 6), \"0\"], [\"x\", 5.0], [\"y\", None]],\n",
    "    missing_data=\"*\",\n",
    "    digits=1,\n",
    ")\n",
    "table"
   ]
  },
  {
   "cell_type": "code",
   "execution_count": 24,
   "id": "91f07d7b",
   "metadata": {
    "execution": {
     "iopub.execute_input": "2023-12-15T00:08:52.447377Z",
     "iopub.status.busy": "2023-12-15T00:08:52.447312Z",
     "iopub.status.idle": "2023-12-15T00:08:52.449265Z",
     "shell.execute_reply": "2023-12-15T00:08:52.449044Z"
    }
   },
   "outputs": [
    {
     "data": {
      "text/html": [
       "<p>\n",
       "0 rows x 0 columns</p>"
      ],
      "text/plain": [
       "0 rows x 0 columns"
      ]
     },
     "execution_count": 24,
     "metadata": {},
     "output_type": "execute_result"
    }
   ],
   "source": [
    "from cogent3 import make_table\n",
    "\n",
    "table = make_table()\n",
    "table"
   ]
  }
 ],
 "metadata": {
  "kernelspec": {
   "display_name": "Python 3 (ipykernel)",
   "language": "python",
   "name": "python3"
  },
  "language_info": {
   "codemirror_mode": {
    "name": "ipython",
    "version": 3
   },
   "file_extension": ".py",
   "mimetype": "text/x-python",
   "name": "python",
   "nbconvert_exporter": "python",
   "pygments_lexer": "ipython3",
   "version": "3.11.6"
  }
 },
 "nbformat": 4,
 "nbformat_minor": 5
}