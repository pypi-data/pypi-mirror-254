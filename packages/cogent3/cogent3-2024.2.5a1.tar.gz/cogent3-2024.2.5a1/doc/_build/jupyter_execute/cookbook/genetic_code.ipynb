{
 "cells": [
  {
   "cell_type": "code",
   "execution_count": 1,
   "id": "0a901e11",
   "metadata": {
    "execution": {
     "iopub.execute_input": "2023-12-15T00:08:43.505694Z",
     "iopub.status.busy": "2023-12-15T00:08:43.505054Z",
     "iopub.status.idle": "2023-12-15T00:08:44.637488Z",
     "shell.execute_reply": "2023-12-15T00:08:44.637199Z"
    }
   },
   "outputs": [
    {
     "data": {
      "text/html": [
       "<style>\n",
       ".c3align table {margin: 10px 0;}\n",
       ".c3align td { border: none !important; text-align: left !important; }\n",
       ".c3align tr:not(.num_row) td span {margin: 0 2px;}\n",
       ".c3align tr:nth-child(even) {background: #f7f7f7;}\n",
       ".c3align .num_row {background-color:rgba(161, 195, 209, 0.5) !important; border-top: solid 1px black; }\n",
       ".c3align .label { font-size: 12pt ; text-align: right !important; color: black !important; padding: 0 4px; display: table-cell !important; font-weight: normal !important; }\n",
       ".c3align .T_dna{font-family: \"Lucida Console\",monospace !important; font-size: 12pt !important; color: blue; }\n",
       ".c3align .C_dna{font-family: \"Lucida Console\",monospace !important; font-size: 12pt !important; color: black; }\n",
       ".c3align .A_dna{font-family: \"Lucida Console\",monospace !important; font-size: 12pt !important; color: #FF0102; }\n",
       ".c3align .G_dna{font-family: \"Lucida Console\",monospace !important; font-size: 12pt !important; color: green; }\n",
       ".c3align .terminal_ambig_dna{font-family: \"Lucida Console\",monospace !important; font-size: 12pt !important; color: gray; }\n",
       ".c3align .ambig_dna{font-family: \"Lucida Console\",monospace !important; font-size: 12pt !important; color: gray; }\n",
       "</style>\n",
       "<div class=\"c3align\">\n",
       "<table>\n",
       "<tr class=\"num_row\"><td></td><td><b>0</b></td></tr>\n",
       "<tr><td class=\"label\">s2</td><td><span class=\"A_dna\">A</span><span class=\"C_dna\">C</span><span class=\"T_dna\">T</span><span class=\"C_dna\">C</span><span class=\"A_dna\">A</span><span class=\"T_dna\">T</span><span class=\"G_dna\">G</span><span class=\"C_dna\">C</span><span class=\"C_dna\">C</span><span class=\"A_dna\">A</span><span class=\"A_dna\">A</span><span class=\"C_dna\">C</span><span class=\"T_dna\">T</span><span class=\"C_dna\">C</span><span class=\"A_dna\">A</span><span class=\"T_dna\">T</span><span class=\"T_dna\">T</span><span class=\"A_dna\">A</span><span class=\"C_dna\">C</span><span class=\"A_dna\">A</span><span class=\"G_dna\">G</span><span class=\"C_dna\">C</span><span class=\"A_dna\">A</span><span class=\"T_dna\">T</span><span class=\"G_dna\">G</span><span class=\"A_dna\">A</span><span class=\"G_dna\">G</span><span class=\"A_dna\">A</span><span class=\"A_dna\">A</span><span class=\"C_dna\">C</span><span class=\"A_dna\">A</span><span class=\"G_dna\">G</span><span class=\"C_dna\">C</span><span class=\"A_dna\">A</span><span class=\"G_dna\">G</span><span class=\"T_dna\">T</span></td></tr>\n",
       "<tr><td class=\"label\">s1</td><td><span class=\"G_dna\">G</span><span class=\"C_dna\">.</span><span class=\"T_dna\">.</span><span class=\"C_dna\">.</span><span class=\"A_dna\">.</span><span class=\"T_dna\">.</span><span class=\"G_dna\">.</span><span class=\"C_dna\">.</span><span class=\"C_dna\">.</span><span class=\"A_dna\">.</span><span class=\"G_dna\">G</span><span class=\"C_dna\">.</span><span class=\"T_dna\">.</span><span class=\"C_dna\">.</span><span class=\"T_dna\">T</span><span class=\"T_dna\">.</span><span class=\"T_dna\">.</span><span class=\"A_dna\">.</span><span class=\"C_dna\">.</span><span class=\"A_dna\">.</span><span class=\"G_dna\">.</span><span class=\"C_dna\">.</span><span class=\"A_dna\">.</span><span class=\"T_dna\">.</span><span class=\"G_dna\">.</span><span class=\"A_dna\">.</span><span class=\"G_dna\">.</span><span class=\"A_dna\">.</span><span class=\"A_dna\">.</span><span class=\"C_dna\">.</span><span class=\"A_dna\">.</span><span class=\"ambig_dna\">-</span><span class=\"ambig_dna\">-</span><span class=\"A_dna\">.</span><span class=\"G_dna\">.</span><span class=\"T_dna\">.</span></td></tr>\n",
       "<tr><td class=\"label\">s3</td><td><span class=\"A_dna\">.</span><span class=\"C_dna\">.</span><span class=\"T_dna\">.</span><span class=\"C_dna\">.</span><span class=\"A_dna\">.</span><span class=\"T_dna\">.</span><span class=\"G_dna\">.</span><span class=\"C_dna\">.</span><span class=\"C_dna\">.</span><span class=\"A_dna\">.</span><span class=\"G_dna\">G</span><span class=\"C_dna\">.</span><span class=\"T_dna\">.</span><span class=\"C_dna\">.</span><span class=\"A_dna\">.</span><span class=\"T_dna\">.</span><span class=\"T_dna\">.</span><span class=\"A_dna\">.</span><span class=\"C_dna\">.</span><span class=\"A_dna\">.</span><span class=\"G_dna\">.</span><span class=\"C_dna\">.</span><span class=\"A_dna\">.</span><span class=\"T_dna\">.</span><span class=\"G_dna\">.</span><span class=\"A_dna\">.</span><span class=\"G_dna\">.</span><span class=\"A_dna\">.</span><span class=\"A_dna\">.</span><span class=\"C_dna\">.</span><span class=\"A_dna\">.</span><span class=\"G_dna\">.</span><span class=\"C_dna\">.</span><span class=\"A_dna\">.</span><span class=\"G_dna\">.</span><span class=\"T_dna\">.</span></td></tr>\n",
       "<tr><td class=\"label\">s4</td><td><span class=\"A_dna\">.</span><span class=\"C_dna\">.</span><span class=\"T_dna\">.</span><span class=\"C_dna\">.</span><span class=\"A_dna\">.</span><span class=\"T_dna\">.</span><span class=\"G_dna\">.</span><span class=\"C_dna\">.</span><span class=\"C_dna\">.</span><span class=\"A_dna\">.</span><span class=\"G_dna\">G</span><span class=\"C_dna\">.</span><span class=\"T_dna\">.</span><span class=\"C_dna\">.</span><span class=\"A_dna\">.</span><span class=\"T_dna\">.</span><span class=\"T_dna\">.</span><span class=\"A_dna\">.</span><span class=\"C_dna\">.</span><span class=\"A_dna\">.</span><span class=\"G_dna\">.</span><span class=\"C_dna\">.</span><span class=\"A_dna\">.</span><span class=\"T_dna\">.</span><span class=\"G_dna\">.</span><span class=\"A_dna\">.</span><span class=\"G_dna\">.</span><span class=\"A_dna\">.</span><span class=\"A_dna\">.</span><span class=\"C_dna\">.</span><span class=\"A_dna\">.</span><span class=\"G_dna\">.</span><span class=\"C_dna\">.</span><span class=\"A_dna\">.</span><span class=\"G_dna\">.</span><span class=\"T_dna\">.</span></td></tr>\n",
       "<tr><td class=\"label\">s5</td><td><span class=\"A_dna\">.</span><span class=\"C_dna\">.</span><span class=\"T_dna\">.</span><span class=\"C_dna\">.</span><span class=\"A_dna\">.</span><span class=\"T_dna\">.</span><span class=\"G_dna\">.</span><span class=\"C_dna\">.</span><span class=\"C_dna\">.</span><span class=\"A_dna\">.</span><span class=\"G_dna\">G</span><span class=\"C_dna\">.</span><span class=\"T_dna\">.</span><span class=\"C_dna\">.</span><span class=\"A_dna\">.</span><span class=\"G_dna\">G</span><span class=\"T_dna\">.</span><span class=\"A_dna\">.</span><span class=\"C_dna\">.</span><span class=\"A_dna\">.</span><span class=\"G_dna\">.</span><span class=\"C_dna\">.</span><span class=\"A_dna\">.</span><span class=\"T_dna\">.</span><span class=\"G_dna\">.</span><span class=\"A_dna\">.</span><span class=\"G_dna\">.</span><span class=\"A_dna\">.</span><span class=\"A_dna\">.</span><span class=\"C_dna\">.</span><span class=\"A_dna\">.</span><span class=\"G_dna\">.</span><span class=\"C_dna\">.</span><span class=\"A_dna\">.</span><span class=\"G_dna\">.</span><span class=\"T_dna\">.</span></td></tr>\n",
       "</table>\n",
       "<p><i>5 x 36 dna alignment</i></p>\n",
       "</div>"
      ],
      "text/plain": [
       "5 x 36 alignment: s1[GCTCATGCCAG...], s2[ACTCATGCCAA...], s3[ACTCATGCCAG...], ..."
      ]
     },
     "execution_count": 1,
     "metadata": {},
     "output_type": "execute_result"
    }
   ],
   "source": [
    "from cogent3 import make_aligned_seqs\n",
    "\n",
    "data = {\n",
    "    \"s1\": \"GCTCATGCCAGCTCTTTACAGCATGAGAACA--AGT\",\n",
    "    \"s2\": \"ACTCATGCCAACTCATTACAGCATGAGAACAGCAGT\",\n",
    "    \"s3\": \"ACTCATGCCAGCTCATTACAGCATGAGAACAGCAGT\",\n",
    "    \"s4\": \"ACTCATGCCAGCTCATTACAGCATGAGAACAGCAGT\",\n",
    "    \"s5\": \"ACTCATGCCAGCTCAGTACAGCATGAGAACAGCAGT\",\n",
    "}\n",
    "\n",
    "nt_seqs = make_aligned_seqs(data=data, moltype=\"dna\")\n",
    "nt_seqs"
   ]
  },
  {
   "cell_type": "code",
   "execution_count": 2,
   "id": "8c7af6f2",
   "metadata": {
    "execution": {
     "iopub.execute_input": "2023-12-15T00:08:44.639040Z",
     "iopub.status.busy": "2023-12-15T00:08:44.638907Z",
     "iopub.status.idle": "2023-12-15T00:08:44.644534Z",
     "shell.execute_reply": "2023-12-15T00:08:44.644299Z"
    }
   },
   "outputs": [
    {
     "data": {
      "text/html": [
       "<style>\n",
       ".c3align table {margin: 10px 0;}\n",
       ".c3align td { border: none !important; text-align: left !important; }\n",
       ".c3align tr:not(.num_row) td span {margin: 0 2px;}\n",
       ".c3align tr:nth-child(even) {background: #f7f7f7;}\n",
       ".c3align .num_row {background-color:rgba(161, 195, 209, 0.5) !important; border-top: solid 1px black; }\n",
       ".c3align .label { font-size: 12pt ; text-align: right !important; color: black !important; padding: 0 4px; display: table-cell !important; font-weight: normal !important; }\n",
       ".c3align .A_protein{font-family: \"Lucida Console\",monospace !important; font-size: 12pt !important; color: #009999; }\n",
       ".c3align .C_protein{font-family: \"Lucida Console\",monospace !important; font-size: 12pt !important; color: orange; }\n",
       ".c3align .D_protein{font-family: \"Lucida Console\",monospace !important; font-size: 12pt !important; color: blue; }\n",
       ".c3align .E_protein{font-family: \"Lucida Console\",monospace !important; font-size: 12pt !important; color: blue; }\n",
       ".c3align .F_protein{font-family: \"Lucida Console\",monospace !important; font-size: 12pt !important; color: #ff6600; }\n",
       ".c3align .G_protein{font-family: \"Lucida Console\",monospace !important; font-size: 12pt !important; color: #009999; }\n",
       ".c3align .H_protein{font-family: \"Lucida Console\",monospace !important; font-size: 12pt !important; color: #FF0102; }\n",
       ".c3align .I_protein{font-family: \"Lucida Console\",monospace !important; font-size: 12pt !important; color: #009999; }\n",
       ".c3align .K_protein{font-family: \"Lucida Console\",monospace !important; font-size: 12pt !important; color: #FF0102; }\n",
       ".c3align .L_protein{font-family: \"Lucida Console\",monospace !important; font-size: 12pt !important; color: #009999; }\n",
       ".c3align .M_protein{font-family: \"Lucida Console\",monospace !important; font-size: 12pt !important; color: orange; }\n",
       ".c3align .N_protein{font-family: \"Lucida Console\",monospace !important; font-size: 12pt !important; color: #993300; }\n",
       ".c3align .P_protein{font-family: \"Lucida Console\",monospace !important; font-size: 12pt !important; color: #cc0099; }\n",
       ".c3align .Q_protein{font-family: \"Lucida Console\",monospace !important; font-size: 12pt !important; color: #993300; }\n",
       ".c3align .R_protein{font-family: \"Lucida Console\",monospace !important; font-size: 12pt !important; color: #FF0102; }\n",
       ".c3align .S_protein{font-family: \"Lucida Console\",monospace !important; font-size: 12pt !important; color: #009900; }\n",
       ".c3align .T_protein{font-family: \"Lucida Console\",monospace !important; font-size: 12pt !important; color: #009900; }\n",
       ".c3align .U_protein{font-family: \"Lucida Console\",monospace !important; font-size: 12pt !important; color: gray; }\n",
       ".c3align .V_protein{font-family: \"Lucida Console\",monospace !important; font-size: 12pt !important; color: #009999; }\n",
       ".c3align .W_protein{font-family: \"Lucida Console\",monospace !important; font-size: 12pt !important; color: #ff6600; }\n",
       ".c3align .Y_protein{font-family: \"Lucida Console\",monospace !important; font-size: 12pt !important; color: #ff6600; }\n",
       ".c3align .terminal_ambig_protein{font-family: \"Lucida Console\",monospace !important; font-size: 12pt !important; color: gray; }\n",
       ".c3align .ambig_protein{font-family: \"Lucida Console\",monospace !important; font-size: 12pt !important; color: gray; }\n",
       "</style>\n",
       "<div class=\"c3align\">\n",
       "<table>\n",
       "<tr class=\"num_row\"><td></td><td><b>0</b></td></tr>\n",
       "<tr><td class=\"label\">s2</td><td><span class=\"T_protein\">T</span><span class=\"H_protein\">H</span><span class=\"A_protein\">A</span><span class=\"N_protein\">N</span><span class=\"S_protein\">S</span><span class=\"L_protein\">L</span><span class=\"Q_protein\">Q</span><span class=\"H_protein\">H</span><span class=\"E_protein\">E</span><span class=\"N_protein\">N</span><span class=\"S_protein\">S</span><span class=\"S_protein\">S</span></td></tr>\n",
       "<tr><td class=\"label\">s1</td><td><span class=\"A_protein\">A</span><span class=\"H_protein\">.</span><span class=\"A_protein\">.</span><span class=\"S_protein\">S</span><span class=\"S_protein\">.</span><span class=\"L_protein\">.</span><span class=\"Q_protein\">.</span><span class=\"H_protein\">.</span><span class=\"E_protein\">.</span><span class=\"N_protein\">.</span><span class=\"ambig_protein\">?</span><span class=\"S_protein\">.</span></td></tr>\n",
       "<tr><td class=\"label\">s3</td><td><span class=\"T_protein\">.</span><span class=\"H_protein\">.</span><span class=\"A_protein\">.</span><span class=\"S_protein\">S</span><span class=\"S_protein\">.</span><span class=\"L_protein\">.</span><span class=\"Q_protein\">.</span><span class=\"H_protein\">.</span><span class=\"E_protein\">.</span><span class=\"N_protein\">.</span><span class=\"S_protein\">.</span><span class=\"S_protein\">.</span></td></tr>\n",
       "<tr><td class=\"label\">s4</td><td><span class=\"T_protein\">.</span><span class=\"H_protein\">.</span><span class=\"A_protein\">.</span><span class=\"S_protein\">S</span><span class=\"S_protein\">.</span><span class=\"L_protein\">.</span><span class=\"Q_protein\">.</span><span class=\"H_protein\">.</span><span class=\"E_protein\">.</span><span class=\"N_protein\">.</span><span class=\"S_protein\">.</span><span class=\"S_protein\">.</span></td></tr>\n",
       "<tr><td class=\"label\">s5</td><td><span class=\"T_protein\">.</span><span class=\"H_protein\">.</span><span class=\"A_protein\">.</span><span class=\"S_protein\">S</span><span class=\"S_protein\">.</span><span class=\"V_protein\">V</span><span class=\"Q_protein\">.</span><span class=\"H_protein\">.</span><span class=\"E_protein\">.</span><span class=\"N_protein\">.</span><span class=\"S_protein\">.</span><span class=\"S_protein\">.</span></td></tr>\n",
       "</table>\n",
       "<p><i>5 x 12 protein alignment</i></p>\n",
       "</div>"
      ],
      "text/plain": [
       "5 x 12 alignment: s1[AHASSLQHEN?...], s2[THANSLQHENS...], s3[THASSLQHENS...], ..."
      ]
     },
     "execution_count": 2,
     "metadata": {},
     "output_type": "execute_result"
    }
   ],
   "source": [
    "nt_seqs.get_translation(gc=1, incomplete_ok=True)"
   ]
  },
  {
   "cell_type": "code",
   "execution_count": 3,
   "id": "21d52769",
   "metadata": {
    "execution": {
     "iopub.execute_input": "2023-12-15T00:08:44.645732Z",
     "iopub.status.busy": "2023-12-15T00:08:44.645665Z",
     "iopub.status.idle": "2023-12-15T00:08:44.647661Z",
     "shell.execute_reply": "2023-12-15T00:08:44.647461Z"
    }
   },
   "outputs": [
    {
     "data": {
      "text/plain": [
       "'FAN'"
      ]
     },
     "execution_count": 3,
     "metadata": {},
     "output_type": "execute_result"
    }
   ],
   "source": [
    "from cogent3 import get_code\n",
    "\n",
    "standard_code = get_code(1)\n",
    "standard_code.translate(\"TTTGCAAAC\")"
   ]
  },
  {
   "cell_type": "code",
   "execution_count": 4,
   "id": "60071c34",
   "metadata": {
    "execution": {
     "iopub.execute_input": "2023-12-15T00:08:44.648782Z",
     "iopub.status.busy": "2023-12-15T00:08:44.648718Z",
     "iopub.status.idle": "2023-12-15T00:08:44.652526Z",
     "shell.execute_reply": "2023-12-15T00:08:44.652293Z"
    }
   },
   "outputs": [
    {
     "name": "stdout",
     "output_type": "stream",
     "text": [
      "['MLT*', 'C*HK', 'ANI', 'FMLA', 'LC*H', 'YVS']\n"
     ]
    }
   ],
   "source": [
    "from cogent3 import get_code, make_seq\n",
    "\n",
    "standard_code = get_code(1)\n",
    "seq = make_seq(\"ATGCTAACATAAA\", moltype=\"dna\")\n",
    "translations = standard_code.sixframes(seq)\n",
    "print(translations)"
   ]
  },
  {
   "cell_type": "code",
   "execution_count": 5,
   "id": "3eda2ce3",
   "metadata": {
    "execution": {
     "iopub.execute_input": "2023-12-15T00:08:44.653694Z",
     "iopub.status.busy": "2023-12-15T00:08:44.653626Z",
     "iopub.status.idle": "2023-12-15T00:08:44.655994Z",
     "shell.execute_reply": "2023-12-15T00:08:44.655760Z"
    }
   },
   "outputs": [
    {
     "data": {
      "text/plain": [
       "[9]"
      ]
     },
     "execution_count": 5,
     "metadata": {},
     "output_type": "execute_result"
    }
   ],
   "source": [
    "from cogent3 import get_code, make_seq\n",
    "\n",
    "standard_code = get_code(1)\n",
    "seq = make_seq(\"ATGCTAACATAAA\", moltype=\"dna\")\n",
    "stops_frame1 = standard_code.get_stop_indices(seq, start=0)\n",
    "stops_frame1"
   ]
  },
  {
   "cell_type": "code",
   "execution_count": 6,
   "id": "9370c304",
   "metadata": {
    "execution": {
     "iopub.execute_input": "2023-12-15T00:08:44.657105Z",
     "iopub.status.busy": "2023-12-15T00:08:44.657036Z",
     "iopub.status.idle": "2023-12-15T00:08:44.659205Z",
     "shell.execute_reply": "2023-12-15T00:08:44.658992Z"
    }
   },
   "outputs": [
    {
     "data": {
      "text/html": [
       "<style>\n",
       ".c3seq table {margin: 10px 0;}\n",
       ".c3seq td { border: none !important; text-align: left !important; }\n",
       ".c3seq tr:not(.num_row) td span {margin: 0 2px;}\n",
       ".c3seq tr:nth-child(even) {background: #f7f7f7;}\n",
       ".c3seq .num_row {background-color:rgba(161, 195, 209, 0.5) !important; border-top: solid 1px black; }\n",
       ".c3seq .label { font-size: 12pt ; text-align: right !important; color: black !important; padding: 0 4px; }\n",
       ".c3seq .T_dna{font-family: \"Lucida Console\",monospace !important; font-size: 12pt !important; color: blue; }\n",
       ".c3seq .C_dna{font-family: \"Lucida Console\",monospace !important; font-size: 12pt !important; color: black; }\n",
       ".c3seq .A_dna{font-family: \"Lucida Console\",monospace !important; font-size: 12pt !important; color: #FF0102; }\n",
       ".c3seq .G_dna{font-family: \"Lucida Console\",monospace !important; font-size: 12pt !important; color: green; }\n",
       ".c3seq .terminal_ambig_dna{font-family: \"Lucida Console\",monospace !important; font-size: 12pt !important; color: gray; }\n",
       ".c3seq .ambig_dna{font-family: \"Lucida Console\",monospace !important; font-size: 12pt !important; color: gray; }\n",
       "</style>\n",
       "<div class=\"c3seq\">\n",
       "<table>\n",
       "<tr class=\"num_row\"><td></td><td><b>0</b></td></tr>\n",
       "<tr><td class=\"label\">None</td><td><span class=\"T_dna\">T</span><span class=\"A_dna\">A</span><span class=\"A_dna\">A</span></td></tr>\n",
       "</table>\n",
       "<p><i>DnaSequence, length=3</i></p>\n",
       "</div>"
      ],
      "text/plain": [
       "DnaSequence(TAA)"
      ]
     },
     "execution_count": 6,
     "metadata": {},
     "output_type": "execute_result"
    }
   ],
   "source": [
    "stop_index = stops_frame1[0]\n",
    "seq[stop_index : stop_index + 3]"
   ]
  },
  {
   "cell_type": "code",
   "execution_count": 7,
   "id": "af0f7818",
   "metadata": {
    "execution": {
     "iopub.execute_input": "2023-12-15T00:08:44.660293Z",
     "iopub.status.busy": "2023-12-15T00:08:44.660229Z",
     "iopub.status.idle": "2023-12-15T00:08:44.662151Z",
     "shell.execute_reply": "2023-12-15T00:08:44.661924Z"
    }
   },
   "outputs": [
    {
     "data": {
      "text/plain": [
       "'F'"
      ]
     },
     "execution_count": 7,
     "metadata": {},
     "output_type": "execute_result"
    }
   ],
   "source": [
    "from cogent3 import get_code, make_seq\n",
    "\n",
    "standard_code = get_code(1)\n",
    "standard_code[\"TTT\"]"
   ]
  },
  {
   "cell_type": "code",
   "execution_count": 8,
   "id": "d0023798",
   "metadata": {
    "execution": {
     "iopub.execute_input": "2023-12-15T00:08:44.663252Z",
     "iopub.status.busy": "2023-12-15T00:08:44.663183Z",
     "iopub.status.idle": "2023-12-15T00:08:44.665106Z",
     "shell.execute_reply": "2023-12-15T00:08:44.664892Z"
    }
   },
   "outputs": [
    {
     "data": {
      "text/plain": [
       "['GCT', 'GCC', 'GCA', 'GCG']"
      ]
     },
     "execution_count": 8,
     "metadata": {},
     "output_type": "execute_result"
    }
   ],
   "source": [
    "standard_code[\"A\"]"
   ]
  },
  {
   "cell_type": "code",
   "execution_count": 9,
   "id": "3c87c9f2",
   "metadata": {
    "execution": {
     "iopub.execute_input": "2023-12-15T00:08:44.666189Z",
     "iopub.status.busy": "2023-12-15T00:08:44.666124Z",
     "iopub.status.idle": "2023-12-15T00:08:44.668010Z",
     "shell.execute_reply": "2023-12-15T00:08:44.667784Z"
    }
   },
   "outputs": [
    {
     "data": {
      "text/plain": [
       "'F'"
      ]
     },
     "execution_count": 9,
     "metadata": {},
     "output_type": "execute_result"
    }
   ],
   "source": [
    "from cogent3 import get_code\n",
    "\n",
    "standard_code = get_code(1)\n",
    "standard_code[\"TTT\"]"
   ]
  },
  {
   "cell_type": "code",
   "execution_count": 10,
   "id": "011232eb",
   "metadata": {
    "execution": {
     "iopub.execute_input": "2023-12-15T00:08:44.669084Z",
     "iopub.status.busy": "2023-12-15T00:08:44.669015Z",
     "iopub.status.idle": "2023-12-15T00:08:44.670966Z",
     "shell.execute_reply": "2023-12-15T00:08:44.670709Z"
    }
   },
   "outputs": [
    {
     "data": {
      "text/plain": [
       "['GCT', 'GCC', 'GCA', 'GCG']"
      ]
     },
     "execution_count": 10,
     "metadata": {},
     "output_type": "execute_result"
    }
   ],
   "source": [
    "from cogent3 import get_code\n",
    "\n",
    "standard_code = get_code(1)\n",
    "standard_code[\"A\"]"
   ]
  },
  {
   "cell_type": "code",
   "execution_count": 11,
   "id": "47f6a4fe",
   "metadata": {
    "execution": {
     "iopub.execute_input": "2023-12-15T00:08:44.672047Z",
     "iopub.status.busy": "2023-12-15T00:08:44.671985Z",
     "iopub.status.idle": "2023-12-15T00:08:44.673841Z",
     "shell.execute_reply": "2023-12-15T00:08:44.673626Z"
    }
   },
   "outputs": [
    {
     "data": {
      "text/plain": [
       "[['GCT', 'GCC', 'GCA', 'GCG'], ['TGT', 'TGC']]"
      ]
     },
     "execution_count": 11,
     "metadata": {},
     "output_type": "execute_result"
    }
   ],
   "source": [
    "targets = [\"A\", \"C\"]\n",
    "codons = [standard_code[aa] for aa in targets]\n",
    "codons"
   ]
  },
  {
   "cell_type": "code",
   "execution_count": 12,
   "id": "3bb9278e",
   "metadata": {
    "execution": {
     "iopub.execute_input": "2023-12-15T00:08:44.674886Z",
     "iopub.status.busy": "2023-12-15T00:08:44.674823Z",
     "iopub.status.idle": "2023-12-15T00:08:44.676597Z",
     "shell.execute_reply": "2023-12-15T00:08:44.676384Z"
    }
   },
   "outputs": [
    {
     "data": {
      "text/plain": [
       "['GCT', 'GCC', 'GCA', 'GCG', 'TGT', 'TGC']"
      ]
     },
     "execution_count": 12,
     "metadata": {},
     "output_type": "execute_result"
    }
   ],
   "source": [
    "flat_list = sum(codons, [])\n",
    "flat_list"
   ]
  },
  {
   "cell_type": "code",
   "execution_count": 13,
   "id": "ffba27d0",
   "metadata": {
    "execution": {
     "iopub.execute_input": "2023-12-15T00:08:44.677758Z",
     "iopub.status.busy": "2023-12-15T00:08:44.677680Z",
     "iopub.status.idle": "2023-12-15T00:08:44.679210Z",
     "shell.execute_reply": "2023-12-15T00:08:44.678988Z"
    }
   },
   "outputs": [
    {
     "name": "stdout",
     "output_type": "stream",
     "text": [
      "('TTT', 'TTC', 'TTA', 'TTG', 'TCT', 'TCC', 'TCA', 'TCG', 'TAT', 'TAC', 'TGT', 'TGC', 'TGG', 'CTT', 'CTC', 'CTA', 'CTG', 'CCT', 'CCC', 'CCA', 'CCG', 'CAT', 'CAC', 'CAA', 'CAG', 'CGT', 'CGC', 'CGA', 'CGG', 'ATT', 'ATC', 'ATA', 'ATG', 'ACT', 'ACC', 'ACA', 'ACG', 'AAT', 'AAC', 'AAA', 'AAG', 'AGT', 'AGC', 'AGA', 'AGG', 'GTT', 'GTC', 'GTA', 'GTG', 'GCT', 'GCC', 'GCA', 'GCG', 'GAT', 'GAC', 'GAA', 'GAG', 'GGT', 'GGC', 'GGA', 'GGG')\n"
     ]
    }
   ],
   "source": [
    "from cogent3 import get_code\n",
    "\n",
    "gc = get_code(1)\n",
    "alphabet = gc.get_alphabet()\n",
    "print(alphabet)"
   ]
  },
  {
   "cell_type": "code",
   "execution_count": 14,
   "id": "f32dd222",
   "metadata": {
    "execution": {
     "iopub.execute_input": "2023-12-15T00:08:44.680361Z",
     "iopub.status.busy": "2023-12-15T00:08:44.680296Z",
     "iopub.status.idle": "2023-12-15T00:08:44.682765Z",
     "shell.execute_reply": "2023-12-15T00:08:44.682549Z"
    }
   },
   "outputs": [
    {
     "data": {
      "text/plain": [
       "['ATG', 'CAC', 'TGG', 'TAA']"
      ]
     },
     "execution_count": 14,
     "metadata": {},
     "output_type": "execute_result"
    }
   ],
   "source": [
    "from cogent3 import make_seq\n",
    "\n",
    "my_seq = make_seq(\"ATGCACTGGTAA\", name=\"my_gene\", moltype=\"dna\")\n",
    "codons = my_seq.get_in_motif_size(3)\n",
    "codons"
   ]
  },
  {
   "cell_type": "code",
   "execution_count": 15,
   "id": "e6ff91e1",
   "metadata": {
    "execution": {
     "iopub.execute_input": "2023-12-15T00:08:44.683798Z",
     "iopub.status.busy": "2023-12-15T00:08:44.683737Z",
     "iopub.status.idle": "2023-12-15T00:08:44.686322Z",
     "shell.execute_reply": "2023-12-15T00:08:44.686106Z"
    }
   },
   "outputs": [
    {
     "data": {
      "text/html": [
       "<style>\n",
       ".c3seq table {margin: 10px 0;}\n",
       ".c3seq td { border: none !important; text-align: left !important; }\n",
       ".c3seq tr:not(.num_row) td span {margin: 0 2px;}\n",
       ".c3seq tr:nth-child(even) {background: #f7f7f7;}\n",
       ".c3seq .num_row {background-color:rgba(161, 195, 209, 0.5) !important; border-top: solid 1px black; }\n",
       ".c3seq .label { font-size: 12pt ; text-align: right !important; color: black !important; padding: 0 4px; }\n",
       ".c3seq .A_protein{font-family: \"Lucida Console\",monospace !important; font-size: 12pt !important; color: #009999; }\n",
       ".c3seq .C_protein{font-family: \"Lucida Console\",monospace !important; font-size: 12pt !important; color: orange; }\n",
       ".c3seq .D_protein{font-family: \"Lucida Console\",monospace !important; font-size: 12pt !important; color: blue; }\n",
       ".c3seq .E_protein{font-family: \"Lucida Console\",monospace !important; font-size: 12pt !important; color: blue; }\n",
       ".c3seq .F_protein{font-family: \"Lucida Console\",monospace !important; font-size: 12pt !important; color: #ff6600; }\n",
       ".c3seq .G_protein{font-family: \"Lucida Console\",monospace !important; font-size: 12pt !important; color: #009999; }\n",
       ".c3seq .H_protein{font-family: \"Lucida Console\",monospace !important; font-size: 12pt !important; color: #FF0102; }\n",
       ".c3seq .I_protein{font-family: \"Lucida Console\",monospace !important; font-size: 12pt !important; color: #009999; }\n",
       ".c3seq .K_protein{font-family: \"Lucida Console\",monospace !important; font-size: 12pt !important; color: #FF0102; }\n",
       ".c3seq .L_protein{font-family: \"Lucida Console\",monospace !important; font-size: 12pt !important; color: #009999; }\n",
       ".c3seq .M_protein{font-family: \"Lucida Console\",monospace !important; font-size: 12pt !important; color: orange; }\n",
       ".c3seq .N_protein{font-family: \"Lucida Console\",monospace !important; font-size: 12pt !important; color: #993300; }\n",
       ".c3seq .P_protein{font-family: \"Lucida Console\",monospace !important; font-size: 12pt !important; color: #cc0099; }\n",
       ".c3seq .Q_protein{font-family: \"Lucida Console\",monospace !important; font-size: 12pt !important; color: #993300; }\n",
       ".c3seq .R_protein{font-family: \"Lucida Console\",monospace !important; font-size: 12pt !important; color: #FF0102; }\n",
       ".c3seq .S_protein{font-family: \"Lucida Console\",monospace !important; font-size: 12pt !important; color: #009900; }\n",
       ".c3seq .T_protein{font-family: \"Lucida Console\",monospace !important; font-size: 12pt !important; color: #009900; }\n",
       ".c3seq .U_protein{font-family: \"Lucida Console\",monospace !important; font-size: 12pt !important; color: gray; }\n",
       ".c3seq .V_protein{font-family: \"Lucida Console\",monospace !important; font-size: 12pt !important; color: #009999; }\n",
       ".c3seq .W_protein{font-family: \"Lucida Console\",monospace !important; font-size: 12pt !important; color: #ff6600; }\n",
       ".c3seq .Y_protein{font-family: \"Lucida Console\",monospace !important; font-size: 12pt !important; color: #ff6600; }\n",
       ".c3seq .terminal_ambig_protein{font-family: \"Lucida Console\",monospace !important; font-size: 12pt !important; color: gray; }\n",
       ".c3seq .ambig_protein{font-family: \"Lucida Console\",monospace !important; font-size: 12pt !important; color: gray; }\n",
       "</style>\n",
       "<div class=\"c3seq\">\n",
       "<table>\n",
       "<tr class=\"num_row\"><td></td><td><b>0</b></td></tr>\n",
       "<tr><td class=\"label\">my_gene</td><td><span class=\"M_protein\">M</span><span class=\"H_protein\">H</span><span class=\"W_protein\">W</span></td></tr>\n",
       "</table>\n",
       "<p><i>ProteinSequence, length=3</i></p>\n",
       "</div>"
      ],
      "text/plain": [
       "ProteinSequence(MHW)"
      ]
     },
     "execution_count": 15,
     "metadata": {},
     "output_type": "execute_result"
    }
   ],
   "source": [
    "pep = my_seq.get_translation()\n",
    "pep"
   ]
  },
  {
   "cell_type": "code",
   "execution_count": 16,
   "id": "1c5af57e",
   "metadata": {
    "execution": {
     "iopub.execute_input": "2023-12-15T00:08:44.687412Z",
     "iopub.status.busy": "2023-12-15T00:08:44.687351Z",
     "iopub.status.idle": "2023-12-15T00:08:44.688785Z",
     "shell.execute_reply": "2023-12-15T00:08:44.688556Z"
    }
   },
   "outputs": [],
   "source": [
    "from cogent3.core.alphabet import AlphabetError"
   ]
  },
  {
   "cell_type": "code",
   "execution_count": 17,
   "id": "1e5bfd41",
   "metadata": {
    "execution": {
     "iopub.execute_input": "2023-12-15T00:08:44.689920Z",
     "iopub.status.busy": "2023-12-15T00:08:44.689858Z",
     "iopub.status.idle": "2023-12-15T00:08:44.691498Z",
     "shell.execute_reply": "2023-12-15T00:08:44.691292Z"
    }
   },
   "outputs": [],
   "source": [
    "from cogent3 import make_seq\n",
    "\n",
    "seq = make_seq(\"ATGTGATGGTAA\", name=\"s1\", moltype=\"dna\")"
   ]
  },
  {
   "cell_type": "code",
   "execution_count": 18,
   "id": "60f8e9ba",
   "metadata": {
    "execution": {
     "iopub.execute_input": "2023-12-15T00:08:44.692541Z",
     "iopub.status.busy": "2023-12-15T00:08:44.692455Z",
     "iopub.status.idle": "2023-12-15T00:08:44.877594Z",
     "shell.execute_reply": "2023-12-15T00:08:44.877338Z"
    }
   },
   "outputs": [
    {
     "ename": "AlphabetError",
     "evalue": "unresolvable codon 'TGA' in s1",
     "output_type": "error",
     "traceback": [
      "\u001b[0;31m---------------------------------------------------------------------------\u001b[0m",
      "\u001b[0;31mAlphabetError\u001b[0m                             Traceback (most recent call last)",
      "File \u001b[0;32m~/miniconda3/envs/c311/lib/python3.11/site-packages/cogent3/core/sequence.py:1774\u001b[0m, in \u001b[0;36mNucleicAcidSequence.get_translation\u001b[0;34m(self, gc, incomplete_ok, include_stop, trim_stop)\u001b[0m\n\u001b[1;32m   1773\u001b[0m \u001b[38;5;28;01mtry\u001b[39;00m:\n\u001b[0;32m-> 1774\u001b[0m     resolved \u001b[38;5;241m=\u001b[39m \u001b[43mmoltype\u001b[49m\u001b[38;5;241;43m.\u001b[39;49m\u001b[43mresolve_ambiguity\u001b[49m\u001b[43m(\u001b[49m\n\u001b[1;32m   1775\u001b[0m \u001b[43m        \u001b[49m\u001b[43morig_codon\u001b[49m\u001b[43m,\u001b[49m\u001b[43m \u001b[49m\u001b[43malphabet\u001b[49m\u001b[38;5;241;43m=\u001b[39;49m\u001b[43mcodon_alphabet\u001b[49m\n\u001b[1;32m   1776\u001b[0m \u001b[43m    \u001b[49m\u001b[43m)\u001b[49m\n\u001b[1;32m   1777\u001b[0m \u001b[38;5;28;01mexcept\u001b[39;00m AlphabetError:\n",
      "File \u001b[0;32m~/miniconda3/envs/c311/lib/python3.11/site-packages/cogent3/core/moltype.py:1335\u001b[0m, in \u001b[0;36mMolType.resolve_ambiguity\u001b[0;34m(self, ambig_motif, alphabet, allow_gap)\u001b[0m\n\u001b[1;32m   1334\u001b[0m \u001b[38;5;28;01mif\u001b[39;00m \u001b[38;5;129;01mnot\u001b[39;00m result:\n\u001b[0;32m-> 1335\u001b[0m     \u001b[38;5;28;01mraise\u001b[39;00m AlphabetError(ambig_motif)\n\u001b[1;32m   1337\u001b[0m \u001b[38;5;28;01mreturn\u001b[39;00m result\n",
      "\u001b[0;31mAlphabetError\u001b[0m: TGA",
      "\nDuring handling of the above exception, another exception occurred:\n",
      "\u001b[0;31mAlphabetError\u001b[0m                             Traceback (most recent call last)",
      "Cell \u001b[0;32mIn[18], line 1\u001b[0m\n\u001b[0;32m----> 1\u001b[0m pep \u001b[38;5;241m=\u001b[39m \u001b[43mseq\u001b[49m\u001b[38;5;241;43m.\u001b[39;49m\u001b[43mget_translation\u001b[49m\u001b[43m(\u001b[49m\u001b[43m)\u001b[49m\n",
      "File \u001b[0;32m~/miniconda3/envs/c311/lib/python3.11/site-packages/cogent3/core/sequence.py:1779\u001b[0m, in \u001b[0;36mNucleicAcidSequence.get_translation\u001b[0;34m(self, gc, incomplete_ok, include_stop, trim_stop)\u001b[0m\n\u001b[1;32m   1777\u001b[0m \u001b[38;5;28;01mexcept\u001b[39;00m AlphabetError:\n\u001b[1;32m   1778\u001b[0m     \u001b[38;5;28;01mif\u001b[39;00m \u001b[38;5;129;01mnot\u001b[39;00m incomplete_ok \u001b[38;5;129;01mor\u001b[39;00m \u001b[38;5;124m\"\u001b[39m\u001b[38;5;124m-\u001b[39m\u001b[38;5;124m\"\u001b[39m \u001b[38;5;129;01mnot\u001b[39;00m \u001b[38;5;129;01min\u001b[39;00m orig_codon:\n\u001b[0;32m-> 1779\u001b[0m         \u001b[38;5;28;01mraise\u001b[39;00m AlphabetError(\n\u001b[1;32m   1780\u001b[0m             \u001b[38;5;124mf\u001b[39m\u001b[38;5;124m\"\u001b[39m\u001b[38;5;124munresolvable codon \u001b[39m\u001b[38;5;132;01m{\u001b[39;00morig_codon\u001b[38;5;132;01m!r}\u001b[39;00m\u001b[38;5;124m in \u001b[39m\u001b[38;5;132;01m{\u001b[39;00m\u001b[38;5;28mself\u001b[39m\u001b[38;5;241m.\u001b[39mname\u001b[38;5;132;01m}\u001b[39;00m\u001b[38;5;124m\"\u001b[39m\n\u001b[1;32m   1781\u001b[0m         )\n\u001b[1;32m   1782\u001b[0m     resolved \u001b[38;5;241m=\u001b[39m (orig_codon,)\n\u001b[1;32m   1783\u001b[0m trans \u001b[38;5;241m=\u001b[39m []\n",
      "\u001b[0;31mAlphabetError\u001b[0m: unresolvable codon 'TGA' in s1"
     ]
    }
   ],
   "source": [
    "pep = seq.get_translation()"
   ]
  },
  {
   "cell_type": "code",
   "execution_count": 19,
   "id": "80052313",
   "metadata": {
    "execution": {
     "iopub.execute_input": "2023-12-15T00:08:44.878750Z",
     "iopub.status.busy": "2023-12-15T00:08:44.878681Z",
     "iopub.status.idle": "2023-12-15T00:08:44.881085Z",
     "shell.execute_reply": "2023-12-15T00:08:44.880877Z"
    }
   },
   "outputs": [
    {
     "data": {
      "text/html": [
       "<style>\n",
       ".c3seq table {margin: 10px 0;}\n",
       ".c3seq td { border: none !important; text-align: left !important; }\n",
       ".c3seq tr:not(.num_row) td span {margin: 0 2px;}\n",
       ".c3seq tr:nth-child(even) {background: #f7f7f7;}\n",
       ".c3seq .num_row {background-color:rgba(161, 195, 209, 0.5) !important; border-top: solid 1px black; }\n",
       ".c3seq .label { font-size: 12pt ; text-align: right !important; color: black !important; padding: 0 4px; }\n",
       ".c3seq .A_protein_with_stop{font-family: \"Lucida Console\",monospace !important; font-size: 12pt !important; color: #009999; }\n",
       ".c3seq .C_protein_with_stop{font-family: \"Lucida Console\",monospace !important; font-size: 12pt !important; color: orange; }\n",
       ".c3seq .D_protein_with_stop{font-family: \"Lucida Console\",monospace !important; font-size: 12pt !important; color: blue; }\n",
       ".c3seq .E_protein_with_stop{font-family: \"Lucida Console\",monospace !important; font-size: 12pt !important; color: blue; }\n",
       ".c3seq .F_protein_with_stop{font-family: \"Lucida Console\",monospace !important; font-size: 12pt !important; color: #ff6600; }\n",
       ".c3seq .G_protein_with_stop{font-family: \"Lucida Console\",monospace !important; font-size: 12pt !important; color: #009999; }\n",
       ".c3seq .H_protein_with_stop{font-family: \"Lucida Console\",monospace !important; font-size: 12pt !important; color: #FF0102; }\n",
       ".c3seq .I_protein_with_stop{font-family: \"Lucida Console\",monospace !important; font-size: 12pt !important; color: #009999; }\n",
       ".c3seq .K_protein_with_stop{font-family: \"Lucida Console\",monospace !important; font-size: 12pt !important; color: #FF0102; }\n",
       ".c3seq .L_protein_with_stop{font-family: \"Lucida Console\",monospace !important; font-size: 12pt !important; color: #009999; }\n",
       ".c3seq .M_protein_with_stop{font-family: \"Lucida Console\",monospace !important; font-size: 12pt !important; color: orange; }\n",
       ".c3seq .N_protein_with_stop{font-family: \"Lucida Console\",monospace !important; font-size: 12pt !important; color: #993300; }\n",
       ".c3seq .P_protein_with_stop{font-family: \"Lucida Console\",monospace !important; font-size: 12pt !important; color: #cc0099; }\n",
       ".c3seq .Q_protein_with_stop{font-family: \"Lucida Console\",monospace !important; font-size: 12pt !important; color: #993300; }\n",
       ".c3seq .R_protein_with_stop{font-family: \"Lucida Console\",monospace !important; font-size: 12pt !important; color: #FF0102; }\n",
       ".c3seq .S_protein_with_stop{font-family: \"Lucida Console\",monospace !important; font-size: 12pt !important; color: #009900; }\n",
       ".c3seq .T_protein_with_stop{font-family: \"Lucida Console\",monospace !important; font-size: 12pt !important; color: #009900; }\n",
       ".c3seq .U_protein_with_stop{font-family: \"Lucida Console\",monospace !important; font-size: 12pt !important; color: gray; }\n",
       ".c3seq .V_protein_with_stop{font-family: \"Lucida Console\",monospace !important; font-size: 12pt !important; color: #009999; }\n",
       ".c3seq .W_protein_with_stop{font-family: \"Lucida Console\",monospace !important; font-size: 12pt !important; color: #ff6600; }\n",
       ".c3seq .Y_protein_with_stop{font-family: \"Lucida Console\",monospace !important; font-size: 12pt !important; color: #ff6600; }\n",
       ".c3seq .*_protein_with_stop{font-family: \"Lucida Console\",monospace !important; font-size: 12pt !important; color: gray; }\n",
       ".c3seq .terminal_ambig_protein_with_stop{font-family: \"Lucida Console\",monospace !important; font-size: 12pt !important; color: gray; }\n",
       ".c3seq .ambig_protein_with_stop{font-family: \"Lucida Console\",monospace !important; font-size: 12pt !important; color: gray; }\n",
       "</style>\n",
       "<div class=\"c3seq\">\n",
       "<table>\n",
       "<tr class=\"num_row\"><td></td><td><b>0</b></td></tr>\n",
       "<tr><td class=\"label\">s1</td><td><span class=\"M_protein_with_stop\">M</span><span class=\"*_protein_with_stop\">*</span><span class=\"W_protein_with_stop\">W</span><span class=\"*_protein_with_stop\">*</span></td></tr>\n",
       "</table>\n",
       "<p><i>ProteinWithStopSequence, length=4</i></p>\n",
       "</div>"
      ],
      "text/plain": [
       "ProteinWithStopSequence(M*W*)"
      ]
     },
     "execution_count": 19,
     "metadata": {},
     "output_type": "execute_result"
    }
   ],
   "source": [
    "pep = seq.get_translation(include_stop=True)\n",
    "pep"
   ]
  }
 ],
 "metadata": {
  "kernelspec": {
   "display_name": "Python 3 (ipykernel)",
   "language": "python",
   "name": "python3"
  },
  "language_info": {
   "codemirror_mode": {
    "name": "ipython",
    "version": 3
   },
   "file_extension": ".py",
   "mimetype": "text/x-python",
   "name": "python",
   "nbconvert_exporter": "python",
   "pygments_lexer": "ipython3",
   "version": "3.11.6"
  }
 },
 "nbformat": 4,
 "nbformat_minor": 5
}