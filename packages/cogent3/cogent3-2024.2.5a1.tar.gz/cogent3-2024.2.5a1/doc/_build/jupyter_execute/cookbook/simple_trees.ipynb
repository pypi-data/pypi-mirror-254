{
 "cells": [
  {
   "cell_type": "code",
   "execution_count": 1,
   "id": "d8b85c99",
   "metadata": {
    "execution": {
     "iopub.execute_input": "2023-12-15T00:08:58.203920Z",
     "iopub.status.busy": "2023-12-15T00:08:58.203476Z",
     "iopub.status.idle": "2023-12-15T00:08:58.221052Z",
     "shell.execute_reply": "2023-12-15T00:08:58.220447Z"
    }
   },
   "outputs": [],
   "source": [
    "import set_working_directory"
   ]
  },
  {
   "cell_type": "code",
   "execution_count": 2,
   "id": "22d683bd",
   "metadata": {
    "execution": {
     "iopub.execute_input": "2023-12-15T00:08:58.224948Z",
     "iopub.status.busy": "2023-12-15T00:08:58.224568Z",
     "iopub.status.idle": "2023-12-15T00:08:59.362908Z",
     "shell.execute_reply": "2023-12-15T00:08:59.362588Z"
    }
   },
   "outputs": [
    {
     "name": "stdout",
     "output_type": "stream",
     "text": [
      "                              /-Human\n",
      "                    /edge.0--|\n",
      "          /edge.1--|          \\-HowlerMon\n",
      "         |         |\n",
      "         |          \\-Mouse\n",
      "-root----|\n",
      "         |--NineBande\n",
      "         |\n",
      "          \\-DogFaced\n"
     ]
    }
   ],
   "source": [
    "from cogent3 import load_tree\n",
    "\n",
    "tr = load_tree(\"data/test.tree\")\n",
    "print(tr.ascii_art())"
   ]
  },
  {
   "cell_type": "code",
   "execution_count": 3,
   "id": "b5229374",
   "metadata": {
    "execution": {
     "iopub.execute_input": "2023-12-15T00:08:59.364351Z",
     "iopub.status.busy": "2023-12-15T00:08:59.364247Z",
     "iopub.status.idle": "2023-12-15T00:08:59.366931Z",
     "shell.execute_reply": "2023-12-15T00:08:59.366736Z"
    }
   },
   "outputs": [],
   "source": [
    "from cogent3 import load_tree\n",
    "\n",
    "tr = load_tree(\"data/test.tree\")\n",
    "tr.write(\"data/temp.tree\")"
   ]
  },
  {
   "cell_type": "code",
   "execution_count": 4,
   "id": "e2dbd96f",
   "metadata": {
    "execution": {
     "iopub.execute_input": "2023-12-15T00:08:59.368057Z",
     "iopub.status.busy": "2023-12-15T00:08:59.367975Z",
     "iopub.status.idle": "2023-12-15T00:08:59.371010Z",
     "shell.execute_reply": "2023-12-15T00:08:59.370800Z"
    }
   },
   "outputs": [
    {
     "data": {
      "text/plain": [
       "['root', 'edge.1', 'edge.0', 'Human']"
      ]
     },
     "execution_count": 4,
     "metadata": {},
     "output_type": "execute_result"
    }
   ],
   "source": [
    "from cogent3 import load_tree\n",
    "\n",
    "tr = load_tree(\"data/test.tree\")\n",
    "names = tr.get_node_names()\n",
    "names[:4]"
   ]
  },
  {
   "cell_type": "code",
   "execution_count": 5,
   "id": "d6296450",
   "metadata": {
    "execution": {
     "iopub.execute_input": "2023-12-15T00:08:59.372081Z",
     "iopub.status.busy": "2023-12-15T00:08:59.372001Z",
     "iopub.status.idle": "2023-12-15T00:08:59.373834Z",
     "shell.execute_reply": "2023-12-15T00:08:59.373619Z"
    }
   },
   "outputs": [
    {
     "data": {
      "text/plain": [
       "Tree(\"Human;\")"
      ]
     },
     "execution_count": 5,
     "metadata": {},
     "output_type": "execute_result"
    }
   ],
   "source": [
    "names[4:]\n",
    "names_nodes = tr.get_nodes_dict()\n",
    "names_nodes[\"Human\"]"
   ]
  },
  {
   "cell_type": "code",
   "execution_count": 6,
   "id": "e162b497",
   "metadata": {
    "execution": {
     "iopub.execute_input": "2023-12-15T00:08:59.375029Z",
     "iopub.status.busy": "2023-12-15T00:08:59.374947Z",
     "iopub.status.idle": "2023-12-15T00:08:59.376825Z",
     "shell.execute_reply": "2023-12-15T00:08:59.376603Z"
    }
   },
   "outputs": [
    {
     "data": {
      "text/plain": [
       "Tree(\"Mouse;\")"
      ]
     },
     "execution_count": 6,
     "metadata": {},
     "output_type": "execute_result"
    }
   ],
   "source": [
    "tr.get_node_matching_name(\"Mouse\")"
   ]
  },
  {
   "cell_type": "code",
   "execution_count": 7,
   "id": "6f245868",
   "metadata": {
    "execution": {
     "iopub.execute_input": "2023-12-15T00:08:59.377970Z",
     "iopub.status.busy": "2023-12-15T00:08:59.377904Z",
     "iopub.status.idle": "2023-12-15T00:08:59.380176Z",
     "shell.execute_reply": "2023-12-15T00:08:59.379966Z"
    }
   },
   "outputs": [
    {
     "data": {
      "text/plain": [
       "'root'"
      ]
     },
     "execution_count": 7,
     "metadata": {},
     "output_type": "execute_result"
    }
   ],
   "source": [
    "from cogent3 import load_tree\n",
    "\n",
    "tr = load_tree(\"data/test.tree\")\n",
    "hu = tr.get_node_matching_name(\"Human\")\n",
    "tr.name"
   ]
  },
  {
   "cell_type": "code",
   "execution_count": 8,
   "id": "814904b2",
   "metadata": {
    "execution": {
     "iopub.execute_input": "2023-12-15T00:08:59.381312Z",
     "iopub.status.busy": "2023-12-15T00:08:59.381221Z",
     "iopub.status.idle": "2023-12-15T00:08:59.383106Z",
     "shell.execute_reply": "2023-12-15T00:08:59.382879Z"
    }
   },
   "outputs": [
    {
     "data": {
      "text/plain": [
       "'Human'"
      ]
     },
     "execution_count": 8,
     "metadata": {},
     "output_type": "execute_result"
    }
   ],
   "source": [
    "hu.name"
   ]
  },
  {
   "cell_type": "code",
   "execution_count": 9,
   "id": "dc708a26",
   "metadata": {
    "execution": {
     "iopub.execute_input": "2023-12-15T00:08:59.384224Z",
     "iopub.status.busy": "2023-12-15T00:08:59.384161Z",
     "iopub.status.idle": "2023-12-15T00:08:59.386440Z",
     "shell.execute_reply": "2023-12-15T00:08:59.386221Z"
    }
   },
   "outputs": [
    {
     "data": {
      "text/plain": [
       "cogent3.core.tree.PhyloNode"
      ]
     },
     "execution_count": 9,
     "metadata": {},
     "output_type": "execute_result"
    }
   ],
   "source": [
    "from cogent3 import load_tree\n",
    "\n",
    "tr = load_tree(\"data/test.tree\")\n",
    "nodes = tr.get_nodes_dict()\n",
    "hu = nodes[\"Human\"]\n",
    "type(hu)"
   ]
  },
  {
   "cell_type": "code",
   "execution_count": 10,
   "id": "ef689a8c",
   "metadata": {
    "execution": {
     "iopub.execute_input": "2023-12-15T00:08:59.387544Z",
     "iopub.status.busy": "2023-12-15T00:08:59.387474Z",
     "iopub.status.idle": "2023-12-15T00:08:59.389465Z",
     "shell.execute_reply": "2023-12-15T00:08:59.389192Z"
    }
   },
   "outputs": [
    {
     "data": {
      "text/plain": [
       "cogent3.core.tree.PhyloNode"
      ]
     },
     "execution_count": 10,
     "metadata": {},
     "output_type": "execute_result"
    }
   ],
   "source": [
    "type(tr)"
   ]
  },
  {
   "cell_type": "code",
   "execution_count": 11,
   "id": "c67a0a96",
   "metadata": {
    "execution": {
     "iopub.execute_input": "2023-12-15T00:08:59.390544Z",
     "iopub.status.busy": "2023-12-15T00:08:59.390481Z",
     "iopub.status.idle": "2023-12-15T00:08:59.392559Z",
     "shell.execute_reply": "2023-12-15T00:08:59.392323Z"
    }
   },
   "outputs": [
    {
     "name": "stdout",
     "output_type": "stream",
     "text": [
      "('root', Tree(\"(((Human,HowlerMon),Mouse),NineBande,DogFaced);\"))\n",
      "('edge.1', Tree(\"((Human,HowlerMon),Mouse);\"))\n",
      "('edge.0', Tree(\"(Human,HowlerMon);\"))\n",
      "('Human', Tree(\"Human;\"))\n",
      "('HowlerMon', Tree(\"HowlerMon;\"))\n",
      "('Mouse', Tree(\"Mouse;\"))\n",
      "('NineBande', Tree(\"NineBande;\"))\n",
      "('DogFaced', Tree(\"DogFaced;\"))\n"
     ]
    }
   ],
   "source": [
    "from cogent3 import load_tree\n",
    "\n",
    "tr = load_tree(\"data/test.tree\")\n",
    "nodes = tr.get_nodes_dict()\n",
    "for n in nodes.items():\n",
    "    print(n)"
   ]
  },
  {
   "cell_type": "code",
   "execution_count": 12,
   "id": "b436aa80",
   "metadata": {
    "execution": {
     "iopub.execute_input": "2023-12-15T00:08:59.393680Z",
     "iopub.status.busy": "2023-12-15T00:08:59.393611Z",
     "iopub.status.idle": "2023-12-15T00:08:59.395224Z",
     "shell.execute_reply": "2023-12-15T00:08:59.395003Z"
    }
   },
   "outputs": [
    {
     "name": "stdout",
     "output_type": "stream",
     "text": [
      "Human:0.0311054096183;\n",
      "HowlerMon:0.0415847131449;\n",
      "Mouse:0.277353608988;\n",
      "NineBande:0.0939768158209;\n",
      "DogFaced:0.113211053859;\n"
     ]
    }
   ],
   "source": [
    "for n in tr.iter_tips():\n",
    "    print(n)"
   ]
  },
  {
   "cell_type": "code",
   "execution_count": 13,
   "id": "ffbd0574",
   "metadata": {
    "execution": {
     "iopub.execute_input": "2023-12-15T00:08:59.396356Z",
     "iopub.status.busy": "2023-12-15T00:08:59.396292Z",
     "iopub.status.idle": "2023-12-15T00:08:59.398248Z",
     "shell.execute_reply": "2023-12-15T00:08:59.397989Z"
    }
   },
   "outputs": [
    {
     "name": "stdout",
     "output_type": "stream",
     "text": [
      "((Human,HowlerMon),Mouse);\n",
      "(Human,HowlerMon);\n"
     ]
    }
   ],
   "source": [
    "from cogent3 import load_tree\n",
    "\n",
    "tr = load_tree(\"data/test.tree\")\n",
    "for n in tr.iter_nontips():\n",
    "    print(n.get_newick())"
   ]
  },
  {
   "cell_type": "code",
   "execution_count": 14,
   "id": "43b1770b",
   "metadata": {
    "execution": {
     "iopub.execute_input": "2023-12-15T00:08:59.399276Z",
     "iopub.status.busy": "2023-12-15T00:08:59.399216Z",
     "iopub.status.idle": "2023-12-15T00:08:59.401145Z",
     "shell.execute_reply": "2023-12-15T00:08:59.400929Z"
    }
   },
   "outputs": [
    {
     "name": "stdout",
     "output_type": "stream",
     "text": [
      "edge.1\n",
      "edge.0\n",
      "Human\n"
     ]
    }
   ],
   "source": [
    "from cogent3 import load_tree\n",
    "\n",
    "tr = load_tree(\"data/test.tree\")\n",
    "edges = tr.get_connecting_edges(\"edge.1\", \"Human\")\n",
    "for edge in edges:\n",
    "    print(edge.name)"
   ]
  },
  {
   "cell_type": "code",
   "execution_count": 15,
   "id": "c88145ef",
   "metadata": {
    "execution": {
     "iopub.execute_input": "2023-12-15T00:08:59.402257Z",
     "iopub.status.busy": "2023-12-15T00:08:59.402190Z",
     "iopub.status.idle": "2023-12-15T00:08:59.404705Z",
     "shell.execute_reply": "2023-12-15T00:08:59.404460Z"
    }
   },
   "outputs": [
    {
     "data": {
      "text/plain": [
       "True"
      ]
     },
     "execution_count": 15,
     "metadata": {},
     "output_type": "execute_result"
    }
   ],
   "source": [
    "from cogent3 import load_tree\n",
    "\n",
    "tr = load_tree(\"data/test.tree\")\n",
    "nodes = tr.get_nodes_dict()\n",
    "hu = nodes[\"Human\"]\n",
    "mu = nodes[\"Mouse\"]\n",
    "hu.distance(mu)\n",
    "hu.is_tip()"
   ]
  },
  {
   "cell_type": "code",
   "execution_count": 16,
   "id": "772ff3f6",
   "metadata": {
    "execution": {
     "iopub.execute_input": "2023-12-15T00:08:59.405808Z",
     "iopub.status.busy": "2023-12-15T00:08:59.405747Z",
     "iopub.status.idle": "2023-12-15T00:08:59.408051Z",
     "shell.execute_reply": "2023-12-15T00:08:59.407816Z"
    }
   },
   "outputs": [
    {
     "data": {
      "text/plain": [
       "Tree(\"((Human,HowlerMon),Mouse);\")"
      ]
     },
     "execution_count": 16,
     "metadata": {},
     "output_type": "execute_result"
    }
   ],
   "source": [
    "from cogent3 import load_tree\n",
    "\n",
    "tr = load_tree(\"data/test.tree\")\n",
    "nodes = tr.get_nodes_dict()\n",
    "hu = nodes[\"Human\"]\n",
    "mu = nodes[\"Mouse\"]\n",
    "lca = hu.last_common_ancestor(mu)\n",
    "lca"
   ]
  },
  {
   "cell_type": "code",
   "execution_count": 17,
   "id": "341fecb6",
   "metadata": {
    "execution": {
     "iopub.execute_input": "2023-12-15T00:08:59.409144Z",
     "iopub.status.busy": "2023-12-15T00:08:59.409083Z",
     "iopub.status.idle": "2023-12-15T00:08:59.410770Z",
     "shell.execute_reply": "2023-12-15T00:08:59.410559Z"
    }
   },
   "outputs": [
    {
     "data": {
      "text/plain": [
       "cogent3.core.tree.PhyloNode"
      ]
     },
     "execution_count": 17,
     "metadata": {},
     "output_type": "execute_result"
    }
   ],
   "source": [
    "type(lca)"
   ]
  },
  {
   "cell_type": "code",
   "execution_count": 18,
   "id": "4aaf1685",
   "metadata": {
    "execution": {
     "iopub.execute_input": "2023-12-15T00:08:59.411816Z",
     "iopub.status.busy": "2023-12-15T00:08:59.411738Z",
     "iopub.status.idle": "2023-12-15T00:08:59.413719Z",
     "shell.execute_reply": "2023-12-15T00:08:59.413498Z"
    }
   },
   "outputs": [
    {
     "name": "stdout",
     "output_type": "stream",
     "text": [
      "edge.0\n",
      "edge.1\n",
      "root\n"
     ]
    }
   ],
   "source": [
    "from cogent3 import load_tree\n",
    "\n",
    "tr = load_tree(\"data/test.tree\")\n",
    "hu = tr.get_node_matching_name(\"Human\")\n",
    "for a in hu.ancestors():\n",
    "    print(a.name)"
   ]
  },
  {
   "cell_type": "code",
   "execution_count": 19,
   "id": "f7edaa12",
   "metadata": {
    "execution": {
     "iopub.execute_input": "2023-12-15T00:08:59.414860Z",
     "iopub.status.busy": "2023-12-15T00:08:59.414780Z",
     "iopub.status.idle": "2023-12-15T00:08:59.416897Z",
     "shell.execute_reply": "2023-12-15T00:08:59.416686Z"
    }
   },
   "outputs": [
    {
     "name": "stdout",
     "output_type": "stream",
     "text": [
      "Human\n",
      "HowlerMon\n",
      "Mouse\n",
      "edge.0\n"
     ]
    }
   ],
   "source": [
    "from cogent3 import load_tree\n",
    "\n",
    "tr = load_tree(\"data/test.tree\")\n",
    "node = tr.get_node_matching_name(\"edge.1\")\n",
    "children = list(node.iter_tips()) + list(node.iter_nontips())\n",
    "for child in children:\n",
    "    print(child.name)"
   ]
  },
  {
   "cell_type": "code",
   "execution_count": 20,
   "id": "0fef2c4a",
   "metadata": {
    "execution": {
     "iopub.execute_input": "2023-12-15T00:08:59.418003Z",
     "iopub.status.busy": "2023-12-15T00:08:59.417922Z",
     "iopub.status.idle": "2023-12-15T00:08:59.419754Z",
     "shell.execute_reply": "2023-12-15T00:08:59.419539Z"
    }
   },
   "outputs": [],
   "source": [
    "from cogent3 import load_tree\n",
    "\n",
    "tr = load_tree(\"data/test.tree\")\n",
    "dists = tr.get_distances()"
   ]
  },
  {
   "cell_type": "code",
   "execution_count": 21,
   "id": "b678c125",
   "metadata": {
    "execution": {
     "iopub.execute_input": "2023-12-15T00:08:59.420766Z",
     "iopub.status.busy": "2023-12-15T00:08:59.420707Z",
     "iopub.status.idle": "2023-12-15T00:08:59.422521Z",
     "shell.execute_reply": "2023-12-15T00:08:59.422297Z"
    }
   },
   "outputs": [
    {
     "name": "stdout",
     "output_type": "stream",
     "text": [
      "('Human', 'HowlerMon') 0.0726901227632\n",
      "('HowlerMon', 'Human') 0.0726901227632\n",
      "('Human', 'Mouse') 0.3467553610937\n",
      "('Mouse', 'Human') 0.3467553610937\n",
      "('Human', 'NineBande') 0.18310641816450002\n",
      "('NineBande', 'Human') 0.18310641816450002\n",
      "('Human', 'DogFaced') 0.2023406562026\n",
      "('DogFaced', 'Human') 0.2023406562026\n"
     ]
    }
   ],
   "source": [
    "human_dists = [names for names in dists if \"Human\" in names]\n",
    "for dist in human_dists:\n",
    "    print(dist, dists[dist])"
   ]
  },
  {
   "cell_type": "code",
   "execution_count": 22,
   "id": "e35125e0",
   "metadata": {
    "execution": {
     "iopub.execute_input": "2023-12-15T00:08:59.423586Z",
     "iopub.status.busy": "2023-12-15T00:08:59.423524Z",
     "iopub.status.idle": "2023-12-15T00:08:59.425776Z",
     "shell.execute_reply": "2023-12-15T00:08:59.425560Z"
    }
   },
   "outputs": [
    {
     "data": {
      "text/plain": [
       "(0.4102925130849, ('Mouse', 'DogFaced'))"
      ]
     },
     "execution_count": 22,
     "metadata": {},
     "output_type": "execute_result"
    }
   ],
   "source": [
    "from cogent3 import load_tree\n",
    "\n",
    "tr = load_tree(\"data/test.tree\")\n",
    "tr.max_tip_tip_distance()"
   ]
  },
  {
   "cell_type": "code",
   "execution_count": 23,
   "id": "3a890b06",
   "metadata": {
    "execution": {
     "iopub.execute_input": "2023-12-15T00:08:59.426922Z",
     "iopub.status.busy": "2023-12-15T00:08:59.426850Z",
     "iopub.status.idle": "2023-12-15T00:08:59.428946Z",
     "shell.execute_reply": "2023-12-15T00:08:59.428722Z"
    }
   },
   "outputs": [
    {
     "name": "stdout",
     "output_type": "stream",
     "text": [
      "HowlerMon:0.0415847131449;\n",
      "NineBande:0.0939768158209;\n"
     ]
    }
   ],
   "source": [
    "from cogent3 import load_tree\n",
    "\n",
    "tr = load_tree(\"data/test.tree\")\n",
    "hu = tr.get_node_matching_name(\"Human\")\n",
    "tips = hu.tips_within_distance(0.2)\n",
    "for t in tips:\n",
    "    print(t)"
   ]
  },
  {
   "cell_type": "code",
   "execution_count": 24,
   "id": "40389a81",
   "metadata": {
    "execution": {
     "iopub.execute_input": "2023-12-15T00:08:59.430047Z",
     "iopub.status.busy": "2023-12-15T00:08:59.429963Z",
     "iopub.status.idle": "2023-12-15T00:08:59.431988Z",
     "shell.execute_reply": "2023-12-15T00:08:59.431767Z"
    }
   },
   "outputs": [
    {
     "name": "stdout",
     "output_type": "stream",
     "text": [
      "          /-Human\n",
      "         |\n",
      "-root----|--HowlerMon\n",
      "         |\n",
      "         |          /-Mouse\n",
      "          \\edge.0--|\n",
      "                   |          /-NineBande\n",
      "                    \\edge.1--|\n",
      "                              \\-DogFaced\n"
     ]
    }
   ],
   "source": [
    "from cogent3 import load_tree\n",
    "\n",
    "tr = load_tree(\"data/test.tree\")\n",
    "print(tr.rooted_at(\"edge.0\").ascii_art())"
   ]
  },
  {
   "cell_type": "code",
   "execution_count": 25,
   "id": "cc4a5e40",
   "metadata": {
    "execution": {
     "iopub.execute_input": "2023-12-15T00:08:59.433038Z",
     "iopub.status.busy": "2023-12-15T00:08:59.432977Z",
     "iopub.status.idle": "2023-12-15T00:08:59.434983Z",
     "shell.execute_reply": "2023-12-15T00:08:59.434779Z"
    }
   },
   "outputs": [
    {
     "name": "stdout",
     "output_type": "stream",
     "text": [
      "          /-Mouse\n",
      "         |\n",
      "-root----|                    /-Human\n",
      "         |          /edge.0--|\n",
      "         |         |          \\-HowlerMon\n",
      "          \\edge.0.2|\n",
      "                   |          /-NineBande\n",
      "                    \\edge.1--|\n",
      "                              \\-DogFaced\n"
     ]
    }
   ],
   "source": [
    "from cogent3 import load_tree\n",
    "\n",
    "tr = load_tree(\"data/test.tree\")\n",
    "print(tr.root_at_midpoint().ascii_art())"
   ]
  },
  {
   "cell_type": "code",
   "execution_count": 26,
   "id": "62a1e422",
   "metadata": {
    "execution": {
     "iopub.execute_input": "2023-12-15T00:08:59.436067Z",
     "iopub.status.busy": "2023-12-15T00:08:59.435997Z",
     "iopub.status.idle": "2023-12-15T00:08:59.437620Z",
     "shell.execute_reply": "2023-12-15T00:08:59.437397Z"
    }
   },
   "outputs": [
    {
     "name": "stdout",
     "output_type": "stream",
     "text": [
      "                              /-Human\n",
      "                    /edge.0--|\n",
      "          /edge.1--|          \\-HowlerMon\n",
      "         |         |\n",
      "         |          \\-------- /-Mouse\n",
      "-root----|\n",
      "         |--NineBande\n",
      "         |\n",
      "          \\-DogFaced\n"
     ]
    }
   ],
   "source": [
    "print(tr.ascii_art())"
   ]
  },
  {
   "cell_type": "code",
   "execution_count": 27,
   "id": "c24a635a",
   "metadata": {
    "execution": {
     "iopub.execute_input": "2023-12-15T00:08:59.438682Z",
     "iopub.status.busy": "2023-12-15T00:08:59.438618Z",
     "iopub.status.idle": "2023-12-15T00:08:59.440513Z",
     "shell.execute_reply": "2023-12-15T00:08:59.440273Z"
    }
   },
   "outputs": [
    {
     "name": "stdout",
     "output_type": "stream",
     "text": [
      "                              /-Human\n",
      "                    /edge.0--|\n",
      "          /edge.1--|          \\-HowlerMon\n",
      "         |         |\n",
      "         |          \\-Mouse\n",
      "-root----|\n",
      "         |--NineBande\n",
      "         |\n",
      "          \\-DogFaced\n"
     ]
    }
   ],
   "source": [
    "from cogent3 import load_tree\n",
    "\n",
    "tr = load_tree(\"data/test.tree\")\n",
    "print(tr.ascii_art())"
   ]
  },
  {
   "cell_type": "code",
   "execution_count": 28,
   "id": "cd165fe7",
   "metadata": {
    "execution": {
     "iopub.execute_input": "2023-12-15T00:08:59.441591Z",
     "iopub.status.busy": "2023-12-15T00:08:59.441523Z",
     "iopub.status.idle": "2023-12-15T00:08:59.442997Z",
     "shell.execute_reply": "2023-12-15T00:08:59.442780Z"
    }
   },
   "outputs": [
    {
     "name": "stdout",
     "output_type": "stream",
     "text": [
      "                    /-Human\n",
      "          /edge.0--|\n",
      "         |          \\-HowlerMon\n",
      "         |\n",
      "-root----|--Mouse\n",
      "         |\n",
      "         |          /-NineBande\n",
      "          \\edge.1--|\n",
      "                    \\-DogFaced\n"
     ]
    }
   ],
   "source": [
    "print(tr.rooted_with_tip(\"Mouse\").ascii_art())"
   ]
  },
  {
   "cell_type": "code",
   "execution_count": 29,
   "id": "eac9b167",
   "metadata": {
    "execution": {
     "iopub.execute_input": "2023-12-15T00:08:59.444079Z",
     "iopub.status.busy": "2023-12-15T00:08:59.443991Z",
     "iopub.status.idle": "2023-12-15T00:08:59.446169Z",
     "shell.execute_reply": "2023-12-15T00:08:59.445936Z"
    }
   },
   "outputs": [
    {
     "data": {
      "text/plain": [
       "'(((Human,HowlerMon),Mouse),NineBande,DogFaced);'"
      ]
     },
     "execution_count": 29,
     "metadata": {},
     "output_type": "execute_result"
    }
   ],
   "source": [
    "from cogent3 import load_tree\n",
    "\n",
    "tr = load_tree(\"data/test.tree\")\n",
    "tr.get_newick()"
   ]
  },
  {
   "cell_type": "code",
   "execution_count": 30,
   "id": "e15b52d2",
   "metadata": {
    "execution": {
     "iopub.execute_input": "2023-12-15T00:08:59.447288Z",
     "iopub.status.busy": "2023-12-15T00:08:59.447195Z",
     "iopub.status.idle": "2023-12-15T00:08:59.448958Z",
     "shell.execute_reply": "2023-12-15T00:08:59.448740Z"
    }
   },
   "outputs": [
    {
     "data": {
      "text/plain": [
       "'(((Human:0.0311054096183,HowlerMon:0.0415847131449):0.0382963424874,Mouse:0.277353608988):0.0197278502379,NineBande:0.0939768158209,DogFaced:0.113211053859);'"
      ]
     },
     "execution_count": 30,
     "metadata": {},
     "output_type": "execute_result"
    }
   ],
   "source": [
    "tr.get_newick(with_distances=True)"
   ]
  },
  {
   "cell_type": "code",
   "execution_count": 31,
   "id": "ad59a7df",
   "metadata": {
    "execution": {
     "iopub.execute_input": "2023-12-15T00:08:59.450041Z",
     "iopub.status.busy": "2023-12-15T00:08:59.449958Z",
     "iopub.status.idle": "2023-12-15T00:08:59.451988Z",
     "shell.execute_reply": "2023-12-15T00:08:59.451764Z"
    }
   },
   "outputs": [
    {
     "name": "stdout",
     "output_type": "stream",
     "text": [
      "<?xml version=\"1.0\"?>\n",
      "<clade>\n",
      "  <clade>\n",
      "     <param><name>length</name><value>0.0197278502379</value></param>\n",
      "    <clade>\n",
      "       <param><name>length</name><value>0.0382963424874</value></param>\n",
      "      <clade>\n",
      "         <name>Human</name>\n",
      "         <param><name>length</name><value>0.0311054096183</value></param>\n",
      "      </clade>\n",
      "      <clade>\n",
      "         <name>HowlerMon</name>\n",
      "         <param><name>length</name><value>0.0415847131449</value></param>\n",
      "      </clade>\n",
      "    </clade>\n",
      "    <clade>\n",
      "       <name>Mouse</name>\n",
      "       <param><name>length</name><value>0.277353608988</value></param>\n",
      "    </clade>\n",
      "  </clade>\n",
      "  <clade>\n",
      "     <name>NineBande</name>\n",
      "     <param><name>length</name><value>0.0939768158209</value></param>\n",
      "  </clade>\n",
      "  <clade>\n",
      "     <name>DogFaced</name>\n",
      "     <param><name>length</name><value>0.113211053859</value></param>\n",
      "  </clade>\n",
      "</clade>\n"
     ]
    }
   ],
   "source": [
    "from cogent3 import load_tree\n",
    "\n",
    "tr = load_tree(\"data/test.tree\")\n",
    "xml = tr.get_xml()\n",
    "for line in xml.splitlines():\n",
    "    print(line)"
   ]
  },
  {
   "cell_type": "code",
   "execution_count": 32,
   "id": "5f6ca82c",
   "metadata": {
    "execution": {
     "iopub.execute_input": "2023-12-15T00:08:59.453046Z",
     "iopub.status.busy": "2023-12-15T00:08:59.452986Z",
     "iopub.status.idle": "2023-12-15T00:08:59.454937Z",
     "shell.execute_reply": "2023-12-15T00:08:59.454698Z"
    }
   },
   "outputs": [
    {
     "name": "stdout",
     "output_type": "stream",
     "text": [
      "                              /-Human\n",
      "                    /edge.0--|\n",
      "          /edge.1--|          \\-HowlerMon\n",
      "         |         |\n",
      "         |          \\-Mouse\n",
      "-root----|\n",
      "         |--NineBande\n",
      "         |\n",
      "          \\-DogFaced\n"
     ]
    }
   ],
   "source": [
    "from cogent3 import load_tree\n",
    "\n",
    "tr = load_tree(\"data/test.tree\")\n",
    "print(tr.ascii_art())"
   ]
  },
  {
   "cell_type": "code",
   "execution_count": 33,
   "id": "3f041c61",
   "metadata": {
    "execution": {
     "iopub.execute_input": "2023-12-15T00:08:59.456021Z",
     "iopub.status.busy": "2023-12-15T00:08:59.455935Z",
     "iopub.status.idle": "2023-12-15T00:08:59.457966Z",
     "shell.execute_reply": "2023-12-15T00:08:59.457747Z"
    }
   },
   "outputs": [
    {
     "name": "stdout",
     "output_type": "stream",
     "text": [
      "(((Human,HowlerMon),Mouse),NineBande,DogFaced);\n",
      "((Human,HowlerMon),Mouse);\n",
      "(Human,HowlerMon);\n",
      "Human;\n",
      "HowlerMon;\n",
      "Mouse;\n",
      "NineBande;\n",
      "DogFaced;\n"
     ]
    }
   ],
   "source": [
    "from cogent3 import load_tree\n",
    "\n",
    "tr = load_tree(\"data/test.tree\")\n",
    "for t in tr.preorder():\n",
    "    print(t.get_newick())"
   ]
  },
  {
   "cell_type": "code",
   "execution_count": 34,
   "id": "6294a698",
   "metadata": {
    "execution": {
     "iopub.execute_input": "2023-12-15T00:08:59.459017Z",
     "iopub.status.busy": "2023-12-15T00:08:59.458956Z",
     "iopub.status.idle": "2023-12-15T00:08:59.460989Z",
     "shell.execute_reply": "2023-12-15T00:08:59.460779Z"
    }
   },
   "outputs": [
    {
     "name": "stdout",
     "output_type": "stream",
     "text": [
      "Human;\n",
      "HowlerMon;\n",
      "(Human,HowlerMon);\n",
      "Mouse;\n",
      "((Human,HowlerMon),Mouse);\n",
      "NineBande;\n",
      "DogFaced;\n",
      "(((Human,HowlerMon),Mouse),NineBande,DogFaced);\n"
     ]
    }
   ],
   "source": [
    "from cogent3 import load_tree\n",
    "\n",
    "tr = load_tree(\"data/test.tree\")\n",
    "for t in tr.postorder():\n",
    "    print(t.get_newick())"
   ]
  },
  {
   "cell_type": "code",
   "execution_count": 35,
   "id": "af867ec7",
   "metadata": {
    "execution": {
     "iopub.execute_input": "2023-12-15T00:08:59.462063Z",
     "iopub.status.busy": "2023-12-15T00:08:59.462003Z",
     "iopub.status.idle": "2023-12-15T00:08:59.464262Z",
     "shell.execute_reply": "2023-12-15T00:08:59.464059Z"
    }
   },
   "outputs": [
    {
     "name": "stdout",
     "output_type": "stream",
     "text": [
      "['Human', 'HowlerMon', 'Mouse']\n",
      "          /-Human\n",
      "         |\n",
      "-root----|--HowlerMon\n",
      "         |\n",
      "          \\-Mouse\n",
      "['Human', 'HowlerMon']\n",
      "          /-Human\n",
      "-root----|\n",
      "          \\-HowlerMon\n"
     ]
    }
   ],
   "source": [
    "from cogent3 import load_tree\n",
    "\n",
    "tr = load_tree(\"data/test.tree\")\n",
    "for tip in tr.iter_nontips():\n",
    "    tip_names = tip.get_tip_names()\n",
    "    print(tip_names)\n",
    "    sub_tree = tr.get_sub_tree(tip_names)\n",
    "    print(sub_tree.ascii_art())"
   ]
  },
  {
   "cell_type": "code",
   "execution_count": 36,
   "id": "214892ac",
   "metadata": {
    "execution": {
     "iopub.execute_input": "2023-12-15T00:08:59.465368Z",
     "iopub.status.busy": "2023-12-15T00:08:59.465305Z",
     "iopub.status.idle": "2023-12-15T00:08:59.466902Z",
     "shell.execute_reply": "2023-12-15T00:08:59.466672Z"
    }
   },
   "outputs": [],
   "source": [
    "from cogent3.util.io import remove_files\n",
    "\n",
    "remove_files([\"data/temp.tree\", \"data/temp.pdf\"], error_on_missing=False)"
   ]
  },
  {
   "cell_type": "code",
   "execution_count": 37,
   "id": "df47d034",
   "metadata": {
    "execution": {
     "iopub.execute_input": "2023-12-15T00:08:59.467987Z",
     "iopub.status.busy": "2023-12-15T00:08:59.467920Z",
     "iopub.status.idle": "2023-12-15T00:08:59.469566Z",
     "shell.execute_reply": "2023-12-15T00:08:59.469360Z"
    }
   },
   "outputs": [
    {
     "name": "stdout",
     "output_type": "stream",
     "text": [
      "          /-B\n",
      "-F-------|\n",
      "          \\E------- /-D\n"
     ]
    }
   ],
   "source": [
    "from cogent3 import make_tree\n",
    "\n",
    "simple_tree_string = \"(B:0.2,(D:0.4)E:0.5)F;\"\n",
    "simple_tree = make_tree(simple_tree_string)\n",
    "print(simple_tree.ascii_art())"
   ]
  },
  {
   "cell_type": "code",
   "execution_count": 38,
   "id": "aae1fbcb",
   "metadata": {
    "execution": {
     "iopub.execute_input": "2023-12-15T00:08:59.470655Z",
     "iopub.status.busy": "2023-12-15T00:08:59.470573Z",
     "iopub.status.idle": "2023-12-15T00:08:59.472099Z",
     "shell.execute_reply": "2023-12-15T00:08:59.471880Z"
    }
   },
   "outputs": [
    {
     "name": "stdout",
     "output_type": "stream",
     "text": [
      "          /-B\n",
      "-F-------|\n",
      "          \\-D\n"
     ]
    }
   ],
   "source": [
    "simple_tree.prune()\n",
    "print(simple_tree.ascii_art())"
   ]
  },
  {
   "cell_type": "code",
   "execution_count": 39,
   "id": "c3517570",
   "metadata": {
    "execution": {
     "iopub.execute_input": "2023-12-15T00:08:59.473112Z",
     "iopub.status.busy": "2023-12-15T00:08:59.473032Z",
     "iopub.status.idle": "2023-12-15T00:08:59.474543Z",
     "shell.execute_reply": "2023-12-15T00:08:59.474295Z"
    }
   },
   "outputs": [
    {
     "name": "stdout",
     "output_type": "stream",
     "text": [
      "(B:0.2,D:0.9)F;\n"
     ]
    }
   ],
   "source": [
    "print(simple_tree)"
   ]
  },
  {
   "cell_type": "code",
   "execution_count": 40,
   "id": "df2920ab",
   "metadata": {
    "execution": {
     "iopub.execute_input": "2023-12-15T00:08:59.475607Z",
     "iopub.status.busy": "2023-12-15T00:08:59.475546Z",
     "iopub.status.idle": "2023-12-15T00:08:59.477397Z",
     "shell.execute_reply": "2023-12-15T00:08:59.477197Z"
    }
   },
   "outputs": [
    {
     "name": "stdout",
     "output_type": "stream",
     "text": [
      "(((Human,HowlerMon),Mouse),NineBande,DogFaced);\n"
     ]
    }
   ],
   "source": [
    "from cogent3 import load_tree\n",
    "\n",
    "tr1 = load_tree(\"data/test.tree\")\n",
    "print(tr1.get_newick())"
   ]
  },
  {
   "cell_type": "code",
   "execution_count": 41,
   "id": "c010a093",
   "metadata": {
    "execution": {
     "iopub.execute_input": "2023-12-15T00:08:59.478538Z",
     "iopub.status.busy": "2023-12-15T00:08:59.478468Z",
     "iopub.status.idle": "2023-12-15T00:08:59.480059Z",
     "shell.execute_reply": "2023-12-15T00:08:59.479842Z"
    }
   },
   "outputs": [
    {
     "name": "stdout",
     "output_type": "stream",
     "text": [
      "(((Human,HowlerMon),Mouse),NineBande,DogFaced);\n"
     ]
    }
   ],
   "source": [
    "tr2 = tr1.unrooted_deepcopy()\n",
    "print(tr2.get_newick())"
   ]
  },
  {
   "cell_type": "code",
   "execution_count": 42,
   "id": "5e80af04",
   "metadata": {
    "execution": {
     "iopub.execute_input": "2023-12-15T00:08:59.481121Z",
     "iopub.status.busy": "2023-12-15T00:08:59.481029Z",
     "iopub.status.idle": "2023-12-15T00:08:59.482714Z",
     "shell.execute_reply": "2023-12-15T00:08:59.482494Z"
    }
   },
   "outputs": [
    {
     "name": "stdout",
     "output_type": "stream",
     "text": [
      "          /-B\n",
      "         |\n",
      "         |--H\n",
      "-G-------|\n",
      "         |          /-C\n",
      "         |         |\n",
      "          \\F-------|--D\n",
      "                   |\n",
      "                    \\-E\n"
     ]
    }
   ],
   "source": [
    "from cogent3 import make_tree\n",
    "\n",
    "tree_string = \"(B:0.2,H:0.2,(C:0.3,D:0.4,E:0.1)F:0.5)G;\"\n",
    "tr = make_tree(tree_string)\n",
    "print(tr.ascii_art())"
   ]
  },
  {
   "cell_type": "code",
   "execution_count": 43,
   "id": "1a917ca0",
   "metadata": {
    "execution": {
     "iopub.execute_input": "2023-12-15T00:08:59.483723Z",
     "iopub.status.busy": "2023-12-15T00:08:59.483660Z",
     "iopub.status.idle": "2023-12-15T00:08:59.485280Z",
     "shell.execute_reply": "2023-12-15T00:08:59.485074Z"
    }
   },
   "outputs": [
    {
     "name": "stdout",
     "output_type": "stream",
     "text": [
      "          /-B\n",
      "-G-------|\n",
      "         |          /-H\n",
      "          \\--------|\n",
      "                   |          /-C\n",
      "                    \\F-------|\n",
      "                             |          /-D\n",
      "                              \\--------|\n",
      "                                        \\-E\n"
     ]
    }
   ],
   "source": [
    "print(tr.bifurcating().ascii_art())"
   ]
  },
  {
   "cell_type": "code",
   "execution_count": 44,
   "id": "b46ab769",
   "metadata": {
    "execution": {
     "iopub.execute_input": "2023-12-15T00:08:59.486360Z",
     "iopub.status.busy": "2023-12-15T00:08:59.486300Z",
     "iopub.status.idle": "2023-12-15T00:08:59.488188Z",
     "shell.execute_reply": "2023-12-15T00:08:59.487965Z"
    }
   },
   "outputs": [
    {
     "name": "stdout",
     "output_type": "stream",
     "text": [
      "                              /-Human\n",
      "                    /edge.0--|\n",
      "          /edge.1--|          \\-HowlerMon\n",
      "         |         |\n",
      "         |          \\-Mouse\n",
      "-root----|\n",
      "         |--NineBande\n",
      "         |\n",
      "          \\-DogFaced\n"
     ]
    }
   ],
   "source": [
    "from cogent3 import load_tree\n",
    "\n",
    "tr = load_tree(\"data/test.tree\")\n",
    "print(tr.ascii_art())"
   ]
  },
  {
   "cell_type": "code",
   "execution_count": 45,
   "id": "a4645793",
   "metadata": {
    "execution": {
     "iopub.execute_input": "2023-12-15T00:08:59.489210Z",
     "iopub.status.busy": "2023-12-15T00:08:59.489149Z",
     "iopub.status.idle": "2023-12-15T00:08:59.490715Z",
     "shell.execute_reply": "2023-12-15T00:08:59.490481Z"
    }
   },
   "outputs": [
    {
     "name": "stdout",
     "output_type": "stream",
     "text": [
      "                    /-Human\n",
      "          /edge.0--|\n",
      "         |          \\-HowlerMon\n",
      "         |\n",
      "-root----|--Mouse\n",
      "         |\n",
      "         |          /-NineBande\n",
      "          \\edge.1--|\n",
      "                    \\-DogFaced\n"
     ]
    }
   ],
   "source": [
    "print(tr.balanced().ascii_art())"
   ]
  },
  {
   "cell_type": "code",
   "execution_count": 46,
   "id": "7c16d4c1",
   "metadata": {
    "execution": {
     "iopub.execute_input": "2023-12-15T00:08:59.491782Z",
     "iopub.status.busy": "2023-12-15T00:08:59.491717Z",
     "iopub.status.idle": "2023-12-15T00:08:59.493720Z",
     "shell.execute_reply": "2023-12-15T00:08:59.493440Z"
    }
   },
   "outputs": [
    {
     "data": {
      "text/plain": [
       "True"
      ]
     },
     "execution_count": 46,
     "metadata": {},
     "output_type": "execute_result"
    }
   ],
   "source": [
    "from cogent3 import make_tree\n",
    "\n",
    "tr1 = make_tree(\"(B:0.2,(C:0.2,D:0.2)F:0.2)G;\")\n",
    "tr2 = make_tree(\"((C:0.1,D:0.1)F:0.1,B:0.1)G;\")\n",
    "tr1.same_topology(tr2)"
   ]
  },
  {
   "cell_type": "code",
   "execution_count": 47,
   "id": "ca28d925",
   "metadata": {
    "execution": {
     "iopub.execute_input": "2023-12-15T00:08:59.494801Z",
     "iopub.status.busy": "2023-12-15T00:08:59.494740Z",
     "iopub.status.idle": "2023-12-15T00:08:59.496791Z",
     "shell.execute_reply": "2023-12-15T00:08:59.496557Z"
    }
   },
   "outputs": [
    {
     "name": "stdout",
     "output_type": "stream",
     "text": [
      "Matching Cluster Distance: 10\n",
      "Rooted Robinson Foulds Distance: 6\n"
     ]
    }
   ],
   "source": [
    "# Distance metrics for rooted trees\n",
    "from cogent3 import make_tree\n",
    "\n",
    "tr1 = make_tree(treestring=\"(a,(b,(c,(d,e))));\")\n",
    "tr2 = make_tree(treestring=\"(e,(d,(c,(b,a))));\")\n",
    "\n",
    "mc_distance = tr1.tree_distance(tr2, method=\"matching_cluster\") # or method=\"mc\" or method=\"matching\"\n",
    "rooted_rf_distance = tr1.tree_distance(tr2, method=\"rooted_robinson_foulds\") # or method=\"rrf\" or method=\"rf\"\n",
    "\n",
    "print(\"Matching Cluster Distance:\", mc_distance)\n",
    "print(\"Rooted Robinson Foulds Distance:\", rooted_rf_distance)"
   ]
  },
  {
   "cell_type": "code",
   "execution_count": 48,
   "id": "354988dc",
   "metadata": {
    "execution": {
     "iopub.execute_input": "2023-12-15T00:08:59.497789Z",
     "iopub.status.busy": "2023-12-15T00:08:59.497729Z",
     "iopub.status.idle": "2023-12-15T00:08:59.499816Z",
     "shell.execute_reply": "2023-12-15T00:08:59.499585Z"
    }
   },
   "outputs": [
    {
     "name": "stdout",
     "output_type": "stream",
     "text": [
      "Lin-Rajan-Moret Distance: 3\n",
      "Unrooted Robinson Foulds Distance: 4\n"
     ]
    }
   ],
   "source": [
    "# Distance metrics for unrooted trees\n",
    "from cogent3 import make_tree\n",
    "\n",
    "tr1 = make_tree(treestring=\"(a,b,(c,(d,e)));\")\n",
    "tr2 = make_tree(treestring=\"((a,c),(b,d),e);\")\n",
    "\n",
    "lrm_distance = tr1.tree_distance(tr2, method=\"lin_rajan_moret\") # or method=\"lrm\" or method=\"matching\"\n",
    "unrooted_rf_distance = tr1.tree_distance(tr2, method=\"unrooted_robinson_foulds\") # or method=\"urf\" or method=\"rf\"\n",
    "\n",
    "print(\"Lin-Rajan-Moret Distance:\", lrm_distance)\n",
    "print(\"Unrooted Robinson Foulds Distance:\", unrooted_rf_distance)"
   ]
  },
  {
   "cell_type": "code",
   "execution_count": 49,
   "id": "46c72931",
   "metadata": {
    "execution": {
     "iopub.execute_input": "2023-12-15T00:08:59.500941Z",
     "iopub.status.busy": "2023-12-15T00:08:59.500879Z",
     "iopub.status.idle": "2023-12-15T00:08:59.502507Z",
     "shell.execute_reply": "2023-12-15T00:08:59.502292Z"
    }
   },
   "outputs": [
    {
     "name": "stdout",
     "output_type": "stream",
     "text": [
      "          /-B\n",
      "-G-------|\n",
      "         |          /-C\n",
      "          \\F-------|\n",
      "                    \\-D\n"
     ]
    }
   ],
   "source": [
    "from cogent3 import make_tree\n",
    "\n",
    "tr = make_tree(\"(B:0.2,(C:0.3,D:0.4)F:0.5)G;\")\n",
    "print(tr.ascii_art())"
   ]
  },
  {
   "cell_type": "code",
   "execution_count": 50,
   "id": "80f146e4",
   "metadata": {
    "execution": {
     "iopub.execute_input": "2023-12-15T00:08:59.503577Z",
     "iopub.status.busy": "2023-12-15T00:08:59.503499Z",
     "iopub.status.idle": "2023-12-15T00:08:59.505091Z",
     "shell.execute_reply": "2023-12-15T00:08:59.504878Z"
    }
   },
   "outputs": [
    {
     "name": "stdout",
     "output_type": "stream",
     "text": [
      "G 0.9\n",
      "B 0\n",
      "F 0.4\n",
      "C 0\n",
      "D 0\n"
     ]
    }
   ],
   "source": [
    "tr.set_tip_distances()\n",
    "for t in tr.preorder():\n",
    "    print(t.name, t.TipDistance)"
   ]
  },
  {
   "cell_type": "code",
   "execution_count": 51,
   "id": "2a29a827",
   "metadata": {
    "execution": {
     "iopub.execute_input": "2023-12-15T00:08:59.506135Z",
     "iopub.status.busy": "2023-12-15T00:08:59.506072Z",
     "iopub.status.idle": "2023-12-15T00:08:59.507722Z",
     "shell.execute_reply": "2023-12-15T00:08:59.507507Z"
    }
   },
   "outputs": [
    {
     "name": "stdout",
     "output_type": "stream",
     "text": [
      "(B:0.2,(C:0.3,D:0.4)F:0.5)G;\n"
     ]
    }
   ],
   "source": [
    "from cogent3 import make_tree\n",
    "\n",
    "tr = make_tree(\"(B:0.2,(C:0.3,D:0.4)F:0.5)G;\")\n",
    "print(tr)"
   ]
  },
  {
   "cell_type": "code",
   "execution_count": 52,
   "id": "e426d368",
   "metadata": {
    "execution": {
     "iopub.execute_input": "2023-12-15T00:08:59.508727Z",
     "iopub.status.busy": "2023-12-15T00:08:59.508667Z",
     "iopub.status.idle": "2023-12-15T00:08:59.510216Z",
     "shell.execute_reply": "2023-12-15T00:08:59.510000Z"
    }
   },
   "outputs": [
    {
     "name": "stdout",
     "output_type": "stream",
     "text": [
      "(B:22,(C:33,D:44)F:56)G;\n"
     ]
    }
   ],
   "source": [
    "tr.scale_branch_lengths()\n",
    "print(tr)"
   ]
  },
  {
   "cell_type": "code",
   "execution_count": 53,
   "id": "ff93fe3a",
   "metadata": {
    "execution": {
     "iopub.execute_input": "2023-12-15T00:08:59.511348Z",
     "iopub.status.busy": "2023-12-15T00:08:59.511288Z",
     "iopub.status.idle": "2023-12-15T00:08:59.513327Z",
     "shell.execute_reply": "2023-12-15T00:08:59.513080Z"
    }
   },
   "outputs": [
    {
     "name": "stdout",
     "output_type": "stream",
     "text": [
      "B [ 0. 10. 12.]\n",
      "C [10.  0.  6.]\n",
      "D [12.  6.  0.]\n"
     ]
    }
   ],
   "source": [
    "from cogent3 import make_tree\n",
    "\n",
    "tr = make_tree(\"(B:3,(C:2,D:4)F:5)G;\")\n",
    "d, tips = tr.tip_to_tip_distances()\n",
    "for i, t in enumerate(tips):\n",
    "    print(t.name, d[i])"
   ]
  },
  {
   "cell_type": "code",
   "execution_count": 54,
   "id": "ee299154",
   "metadata": {
    "execution": {
     "iopub.execute_input": "2023-12-15T00:08:59.514363Z",
     "iopub.status.busy": "2023-12-15T00:08:59.514302Z",
     "iopub.status.idle": "2023-12-15T00:08:59.516548Z",
     "shell.execute_reply": "2023-12-15T00:08:59.516326Z"
    }
   },
   "outputs": [
    {
     "data": {
      "text/plain": [
       "0.08352668213457076"
      ]
     },
     "execution_count": 54,
     "metadata": {},
     "output_type": "execute_result"
    }
   ],
   "source": [
    "from cogent3 import make_tree\n",
    "\n",
    "tr1 = make_tree(\"(B:2,(C:3,D:4)F:5)G;\")\n",
    "tr2 = make_tree(\"(C:2,(B:3,D:4)F:5)G;\")\n",
    "tr1.compare_by_tip_distances(tr2)"
   ]
  }
 ],
 "metadata": {
  "kernelspec": {
   "display_name": "Python 3 (ipykernel)",
   "language": "python",
   "name": "python3"
  },
  "language_info": {
   "codemirror_mode": {
    "name": "ipython",
    "version": 3
   },
   "file_extension": ".py",
   "mimetype": "text/x-python",
   "name": "python",
   "nbconvert_exporter": "python",
   "pygments_lexer": "ipython3",
   "version": "3.11.6"
  }
 },
 "nbformat": 4,
 "nbformat_minor": 5
}