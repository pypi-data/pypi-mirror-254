{
 "cells": [
  {
   "cell_type": "code",
   "execution_count": 1,
   "id": "9b962cd6",
   "metadata": {
    "execution": {
     "iopub.execute_input": "2023-12-15T00:08:01.341373Z",
     "iopub.status.busy": "2023-12-15T00:08:01.340966Z",
     "iopub.status.idle": "2023-12-15T00:08:01.357729Z",
     "shell.execute_reply": "2023-12-15T00:08:01.357178Z"
    }
   },
   "outputs": [],
   "source": [
    "import set_working_directory"
   ]
  },
  {
   "cell_type": "code",
   "execution_count": 2,
   "id": "949bcdf9",
   "metadata": {
    "execution": {
     "iopub.execute_input": "2023-12-15T00:08:01.360968Z",
     "iopub.status.busy": "2023-12-15T00:08:01.360705Z",
     "iopub.status.idle": "2023-12-15T00:08:02.499647Z",
     "shell.execute_reply": "2023-12-15T00:08:02.499322Z"
    }
   },
   "outputs": [
    {
     "data": {
      "text/html": [
       "\n",
       "<div class=\"c3table\">\n",
       "\n",
       "<style>\n",
       ".c3table table {margin: 10px 0;}\n",
       ".c3table tr:last-child {border-bottom: 1px solid #000;} \n",
       ".c3table tr > th {text-align: left; padding: 0 5px;}\n",
       ".c3table tr > td {text-align: left; padding: 5px;}\n",
       ".c3table tr:nth-child(even) {background: #f7f7f7 !important;}\n",
       ".c3table .ellipsis {background: rgba(0, 0, 0, .01);}\n",
       ".c3table .index {background: rgba(161, 195, 209, 0.0); margin: 10px; font-weight: 600;}\n",
       ".c3table .head_cell {background: rgba(161, 195, 209, 0.75); font-weight: bold; text-align: center;}\n",
       ".c3table caption {color: rgb(250, 250, 250); background: rgba(30, 140, 200, 1); padding: 3px; white-space: nowrap; caption-side: top;}\n",
       ".c3table .cell_title {font-weight: bold;}\n",
       ".c3col_left { text-align: left !important; display: block;}\n",
       ".c3col_right { text-align: right !important; display: block;}\n",
       ".c3col_center { text-align: center !important; display: block;}\n",
       "</style>\n",
       "\n",
       "<table>\n",
       "\n",
       "<caption>\n",
       "<span class=\"cell_title\">Specify a model using 'Abbreviation' (case sensitive).</span>\n",
       "</caption>\n",
       "<thead class=\"head_cell\">\n",
       "<th>Model Type</th><th>Abbreviation</th><th>Description</th>\n",
       "</thead>\n",
       "<tbody>\n",
       "<tr><td><span class=\"c3col_left\">nucleotide</span></td><td><span class=\"c3col_left\">BH</span></td><td><span class=\"c3col_left\">Barry and Hartigan Discrete Time substitution model Barry and Hartigan 1987. Biometrics 43: 261–76.</span></td></tr>\n",
       "<tr><td><span class=\"c3col_left\">nucleotide</span></td><td><span class=\"c3col_left\">DT</span></td><td><span class=\"c3col_left\">Discrete Time substitution model (non-stationary, non-reversible). motif_length=2 makes this a dinucleotide model, motif_length=3 a trinucleotide model.</span></td></tr>\n",
       "<tr><td><span class=\"c3col_left\">nucleotide</span></td><td><span class=\"c3col_left\">GN</span></td><td><span class=\"c3col_left\">General Markov Nucleotide (non-stationary, non-reversible). Kaehler, Yap, Zhang, Huttley, 2015, Sys Biol 64 (2): 281–93</span></td></tr>\n",
       "<tr><td><span class=\"c3col_left\">nucleotide</span></td><td><span class=\"c3col_left\">ssGN</span></td><td><span class=\"c3col_left\">strand-symmetric general Markov nucleotide (non-stationary, non-reversible). Kaehler, 2017, Journal of Theoretical Biology 420: 144–51</span></td></tr>\n",
       "<tr><td><span class=\"c3col_left\">nucleotide</span></td><td><span class=\"c3col_left\">K80</span></td><td><span class=\"c3col_left\">Kimura 1980</span></td></tr>\n",
       "<tr><td><span class=\"c3col_left\">nucleotide</span></td><td><span class=\"c3col_left\">JC69</span></td><td><span class=\"c3col_left\">Jukes and Cantor's 1969 model</span></td></tr>\n",
       "<tr><td><span class=\"c3col_left\">nucleotide</span></td><td><span class=\"c3col_left\">GTR</span></td><td><span class=\"c3col_left\">General Time Reversible nucleotide substitution model.</span></td></tr>\n",
       "<tr><td><span class=\"c3col_left\">nucleotide</span></td><td><span class=\"c3col_left\">TN93</span></td><td><span class=\"c3col_left\">Tamura and Nei 1993 model</span></td></tr>\n",
       "<tr><td><span class=\"c3col_left\">nucleotide</span></td><td><span class=\"c3col_left\">HKY85</span></td><td><span class=\"c3col_left\">Hasegawa, Kishino and Yano 1985 model</span></td></tr>\n",
       "<tr><td><span class=\"c3col_left\">nucleotide</span></td><td><span class=\"c3col_left\">F81</span></td><td><span class=\"c3col_left\">Felsenstein's 1981 model</span></td></tr>\n",
       "<tr><td><span class=\"c3col_left\">codon</span></td><td><span class=\"c3col_left\">CNFGTR</span></td><td><span class=\"c3col_left\">Conditional nucleotide frequency codon substitution model, GTR variant (with params analagous to the nucleotide GTR model). Yap, Lindsay, Easteal and Huttley, 2010, Mol Biol Evol 27: 726-734</span></td></tr>\n",
       "<tr><td><span class=\"c3col_left\">codon</span></td><td><span class=\"c3col_left\">CNFHKY</span></td><td><span class=\"c3col_left\">Conditional nucleotide frequency codon substitution model, HKY variant (with kappa, the ratio of transitions to transversions) Yap, Lindsay, Easteal and Huttley, 2010, Mol Biol Evol 27: 726-734</span></td></tr>\n",
       "<tr><td><span class=\"c3col_left\">codon</span></td><td><span class=\"c3col_left\">MG94HKY</span></td><td><span class=\"c3col_left\">Muse and Gaut 1994 codon substitution model, HKY variant (with kappa, the ratio of transitions to transversions) Muse and Gaut, 1994, Mol Biol Evol, 11, 715-24</span></td></tr>\n",
       "<tr><td><span class=\"c3col_left\">codon</span></td><td><span class=\"c3col_left\">MG94GTR</span></td><td><span class=\"c3col_left\">Muse and Gaut 1994 codon substitution model, GTR variant (with params analagous to the nucleotide GTR model) Muse and Gaut, 1994, Mol Biol Evol, 11, 715-24</span></td></tr>\n",
       "<tr><td><span class=\"c3col_left\">codon</span></td><td><span class=\"c3col_left\">GY94</span></td><td><span class=\"c3col_left\">Goldman and Yang 1994 codon substitution model. N Goldman and Z Yang, 1994, Mol Biol Evol, 11(5):725-36.</span></td></tr>\n",
       "<tr><td><span class=\"c3col_left\">codon</span></td><td><span class=\"c3col_left\">Y98</span></td><td><span class=\"c3col_left\">Yang's 1998 substitution model, a derivative of the GY94. Z Yang, 1998, Mol Biol Evol, 15(5):568-73</span></td></tr>\n",
       "<tr><td><span class=\"c3col_left\">codon</span></td><td><span class=\"c3col_left\">H04G</span></td><td><span class=\"c3col_left\">Huttley 2004 CpG substitution model. Includes a term for substitutions to or from CpG's. GA Huttley, 2004, Mol Biol Evol, 21(9):1760-8</span></td></tr>\n",
       "<tr><td><span class=\"c3col_left\">codon</span></td><td><span class=\"c3col_left\">H04GK</span></td><td><span class=\"c3col_left\">Huttley 2004 CpG substitution model. Includes a term for transition substitutions to or from CpG's. GA Huttley, 2004, Mol Biol Evol, 21(9):1760-8</span></td></tr>\n",
       "<tr><td><span class=\"c3col_left\">codon</span></td><td><span class=\"c3col_left\">H04GGK</span></td><td><span class=\"c3col_left\">Huttley 2004 CpG substitution model. Includes a general term for substitutions to or from CpG's and an adjustment for CpG transitions. GA Huttley, 2004, Mol Biol Evol, 21(9):1760-8</span></td></tr>\n",
       "<tr><td><span class=\"c3col_left\">codon</span></td><td><span class=\"c3col_left\">GNC</span></td><td><span class=\"c3col_left\">General Nucleotide Codon, a non-reversible codon model. Kaehler, Yap, Huttley, 2017, Gen Biol Evol 9(1): 134–49</span></td></tr>\n",
       "<tr><td><span class=\"c3col_left\">protein</span></td><td><span class=\"c3col_left\">DSO78</span></td><td><span class=\"c3col_left\">Dayhoff et al 1978 empirical protein model Dayhoff, MO, Schwartz RM, and Orcutt, BC. 1978 A model of evolutionary change in proteins. Pp. 345-352. Atlas of protein sequence and structure, Vol 5, Suppl. 3. National Biomedical Research Foundation, Washington D. C Matrix imported from PAML dayhoff.dat file</span></td></tr>\n",
       "<tr><td><span class=\"c3col_left\">protein</span></td><td><span class=\"c3col_left\">JTT92</span></td><td><span class=\"c3col_left\">Jones, Taylor and Thornton 1992 empirical protein model Jones DT, Taylor WR, Thornton JM. The rapid generation of mutation data matrices from protein sequences. Comput Appl Biosci. 1992 Jun;8(3):275-82. Matrix imported from PAML jones.dat file</span></td></tr>\n",
       "<tr><td><span class=\"c3col_left\">protein</span></td><td><span class=\"c3col_left\">AH96</span></td><td><span class=\"c3col_left\">Adachi and Hasegawa 1996 empirical model for mitochondrial proteins. Adachi J, Hasegawa M. Model of amino acid substitution in proteins encoded by mitochondrial DNA. J Mol Evol. 1996 Apr;42(4):459-68. Matrix imported from PAML mtREV24.dat file</span></td></tr>\n",
       "<tr><td><span class=\"c3col_left\">protein</span></td><td><span class=\"c3col_left\">AH96_mtmammals</span></td><td><span class=\"c3col_left\">Adachi and Hasegawa 1996 empirical model for mammalian mitochondrial proteins. Adachi J, Hasegawa M. Model of amino acid substitution in proteins encoded by mitochondrial DNA. J Mol Evol. 1996 Apr;42(4):459-68. Matrix imported from PAML mtmam.dat file</span></td></tr>\n",
       "<tr><td><span class=\"c3col_left\">protein</span></td><td><span class=\"c3col_left\">WG01</span></td><td><span class=\"c3col_left\">Whelan and Goldman 2001 empirical model for globular proteins. Whelan S, Goldman N. A general empirical model of protein evolution derived from multiple protein families using a maximum-likelihood approach. Mol Biol Evol. 2001 May;18(5):691-9. Matrix imported from PAML wag.dat file</span></td></tr>\n",
       "</tbody>\n",
       "</table>\n",
       "<p>\n",
       "25 rows x 3 columns</p>\n",
       "</div>"
      ],
      "text/plain": [
       "Specify a model using 'Abbreviation' (case sensitive).\n",
       "================================================================================================================================================================================================================================================================================================================================================\n",
       "Model Type    Abbreviation      Description                                                                                                                                                                                                                                                                                                     \n",
       "------------------------------------------------------------------------------------------------------------------------------------------------------------------------------------------------------------------------------------------------------------------------------------------------------------------------------------------------\n",
       "nucleotide    BH                Barry and Hartigan Discrete Time substitution model Barry and Hartigan 1987. Biometrics 43: 261–76.                                                                                                                                                                                                             \n",
       "nucleotide    DT                Discrete Time substitution model (non-stationary, non-reversible). motif_length=2 makes this a dinucleotide model, motif_length=3 a trinucleotide model.                                                                                                                                                        \n",
       "nucleotide    GN                General Markov Nucleotide (non-stationary, non-reversible). Kaehler, Yap, Zhang, Huttley, 2015, Sys Biol 64 (2): 281–93                                                                                                                                                                                         \n",
       "nucleotide    ssGN              strand-symmetric general Markov nucleotide (non-stationary, non-reversible). Kaehler, 2017, Journal of Theoretical Biology 420: 144–51                                                                                                                                                                          \n",
       "nucleotide    K80               Kimura 1980                                                                                                                                                                                                                                                                                                     \n",
       "nucleotide    JC69              Jukes and Cantor's 1969 model                                                                                                                                                                                                                                                                                   \n",
       "nucleotide    GTR               General Time Reversible nucleotide substitution model.                                                                                                                                                                                                                                                          \n",
       "nucleotide    TN93              Tamura and Nei 1993 model                                                                                                                                                                                                                                                                                       \n",
       "nucleotide    HKY85             Hasegawa, Kishino and Yano 1985 model                                                                                                                                                                                                                                                                           \n",
       "nucleotide    F81               Felsenstein's 1981 model                                                                                                                                                                                                                                                                                        \n",
       "codon         CNFGTR            Conditional nucleotide frequency codon substitution model, GTR variant (with params analagous to the nucleotide GTR model). Yap, Lindsay, Easteal and Huttley, 2010, Mol Biol Evol 27: 726-734                                                                                                                  \n",
       "codon         CNFHKY            Conditional nucleotide frequency codon substitution model, HKY variant (with kappa, the ratio of transitions to transversions) Yap, Lindsay, Easteal and Huttley, 2010, Mol Biol Evol 27: 726-734                                                                                                               \n",
       "codon         MG94HKY           Muse and Gaut 1994 codon substitution model, HKY variant (with kappa, the ratio of transitions to transversions) Muse and Gaut, 1994, Mol Biol Evol, 11, 715-24                                                                                                                                                 \n",
       "codon         MG94GTR           Muse and Gaut 1994 codon substitution model, GTR variant (with params analagous to the nucleotide GTR model) Muse and Gaut, 1994, Mol Biol Evol, 11, 715-24                                                                                                                                                     \n",
       "codon         GY94              Goldman and Yang 1994 codon substitution model. N Goldman and Z Yang, 1994, Mol Biol Evol, 11(5):725-36.                                                                                                                                                                                                        \n",
       "codon         Y98               Yang's 1998 substitution model, a derivative of the GY94. Z Yang, 1998, Mol Biol Evol, 15(5):568-73                                                                                                                                                                                                             \n",
       "codon         H04G              Huttley 2004 CpG substitution model. Includes a term for substitutions to or from CpG's. GA Huttley, 2004, Mol Biol Evol, 21(9):1760-8                                                                                                                                                                          \n",
       "codon         H04GK             Huttley 2004 CpG substitution model. Includes a term for transition substitutions to or from CpG's. GA Huttley, 2004, Mol Biol Evol, 21(9):1760-8                                                                                                                                                               \n",
       "codon         H04GGK            Huttley 2004 CpG substitution model. Includes a general term for substitutions to or from CpG's and an adjustment for CpG transitions. GA Huttley, 2004, Mol Biol Evol, 21(9):1760-8                                                                                                                            \n",
       "codon         GNC               General Nucleotide Codon, a non-reversible codon model. Kaehler, Yap, Huttley, 2017, Gen Biol Evol 9(1): 134–49                                                                                                                                                                                                 \n",
       "protein       DSO78             Dayhoff et al 1978 empirical protein model Dayhoff, MO, Schwartz RM, and Orcutt, BC. 1978 A model of evolutionary change in proteins. Pp. 345-352. Atlas of protein sequence and structure, Vol 5, Suppl. 3. National Biomedical Research Foundation, Washington D. C Matrix imported from PAML dayhoff.dat file\n",
       "protein       JTT92             Jones, Taylor and Thornton 1992 empirical protein model Jones DT, Taylor WR, Thornton JM. The rapid generation of mutation data matrices from protein sequences. Comput Appl Biosci. 1992 Jun;8(3):275-82. Matrix imported from PAML jones.dat file                                                             \n",
       "protein       AH96              Adachi and Hasegawa 1996 empirical model for mitochondrial proteins. Adachi J, Hasegawa M. Model of amino acid substitution in proteins encoded by mitochondrial DNA. J Mol Evol. 1996 Apr;42(4):459-68. Matrix imported from PAML mtREV24.dat file                                                             \n",
       "protein       AH96_mtmammals    Adachi and Hasegawa 1996 empirical model for mammalian mitochondrial proteins. Adachi J, Hasegawa M. Model of amino acid substitution in proteins encoded by mitochondrial DNA. J Mol Evol. 1996 Apr;42(4):459-68. Matrix imported from PAML mtmam.dat file                                                     \n",
       "protein       WG01              Whelan and Goldman 2001 empirical model for globular proteins. Whelan S, Goldman N. A general empirical model of protein evolution derived from multiple protein families using a maximum-likelihood approach. Mol Biol Evol. 2001 May;18(5):691-9. Matrix imported from PAML wag.dat file                      \n",
       "------------------------------------------------------------------------------------------------------------------------------------------------------------------------------------------------------------------------------------------------------------------------------------------------------------------------------------------------\n",
       "\n",
       "25 rows x 3 columns"
      ]
     },
     "execution_count": 2,
     "metadata": {},
     "output_type": "execute_result"
    }
   ],
   "source": [
    "from cogent3 import available_models\n",
    "\n",
    "available_models()"
   ]
  },
  {
   "cell_type": "code",
   "execution_count": 3,
   "id": "4d304ce5",
   "metadata": {
    "execution": {
     "iopub.execute_input": "2023-12-15T00:08:02.501061Z",
     "iopub.status.busy": "2023-12-15T00:08:02.500942Z",
     "iopub.status.idle": "2023-12-15T00:08:02.503253Z",
     "shell.execute_reply": "2023-12-15T00:08:02.503015Z"
    }
   },
   "outputs": [
    {
     "name": "stdout",
     "output_type": "stream",
     "text": [
      "TimeReversibleNucleotide(name='HKY85'; params=['kappa']; num_motifs=4; motifs=['T', 'C', 'A', 'G']))\n"
     ]
    }
   ],
   "source": [
    "from cogent3.evolve.models import get_model\n",
    "\n",
    "hky = get_model(\"HKY85\")\n",
    "print(hky)"
   ]
  },
  {
   "cell_type": "code",
   "execution_count": 4,
   "id": "2c0f299d",
   "metadata": {
    "execution": {
     "iopub.execute_input": "2023-12-15T00:08:02.504553Z",
     "iopub.status.busy": "2023-12-15T00:08:02.504457Z",
     "iopub.status.idle": "2023-12-15T00:08:02.506769Z",
     "shell.execute_reply": "2023-12-15T00:08:02.506531Z"
    }
   },
   "outputs": [
    {
     "name": "stdout",
     "output_type": "stream",
     "text": [
      "TimeReversibleNucleotide(name='GTR'; params=['A/C', 'A/G', 'A/T', 'C/G', 'C/T']; num_motifs=4; motifs=['T', 'C', 'A', 'G']))\n"
     ]
    }
   ],
   "source": [
    "from cogent3.evolve.models import get_model\n",
    "\n",
    "sub_mod = get_model(\"GTR\", with_rate=True, distribution=\"gamma\")\n",
    "print(sub_mod)"
   ]
  },
  {
   "cell_type": "code",
   "execution_count": 5,
   "id": "a374b20e",
   "metadata": {
    "execution": {
     "iopub.execute_input": "2023-12-15T00:08:02.507911Z",
     "iopub.status.busy": "2023-12-15T00:08:02.507830Z",
     "iopub.status.idle": "2023-12-15T00:08:02.758023Z",
     "shell.execute_reply": "2023-12-15T00:08:02.757396Z"
    }
   },
   "outputs": [
    {
     "name": "stdout",
     "output_type": "stream",
     "text": [
      "TimeReversibleCodon(name='CNFGTR'; params=['A/C', 'A/G', 'A/T', 'C/G', 'C/T', 'omega']; num_motifs=61; motifs=['TTT', 'TTC', 'TTA', 'TTG', 'TCT', 'TCC', 'TCA', 'TCG', 'TAT', 'TAC', 'TGT', 'TGC', 'TGG', 'CTT', 'CTC', 'CTA', 'CTG', 'CCT', 'CCC', 'CCA', 'CCG', 'CAT', 'CAC', 'CAA', 'CAG', 'CGT', 'CGC', 'CGA', 'CGG', 'ATT', 'ATC', 'ATA', 'ATG', 'ACT', 'ACC', 'ACA', 'ACG', 'AAT', 'AAC', 'AAA', 'AAG', 'AGT', 'AGC', 'AGA', 'AGG', 'GTT', 'GTC', 'GTA', 'GTG', 'GCT', 'GCC', 'GCA', 'GCG', 'GAT', 'GAC', 'GAA', 'GAG', 'GGT', 'GGC', 'GGA', 'GGG']))\n"
     ]
    }
   ],
   "source": [
    "from cogent3.evolve.models import get_model\n",
    "\n",
    "sub_mod = get_model(\"CNFGTR\", with_rate=True, distribution=\"gamma\")\n",
    "print(sub_mod)"
   ]
  },
  {
   "cell_type": "code",
   "execution_count": 6,
   "id": "7b4b4c7f",
   "metadata": {
    "execution": {
     "iopub.execute_input": "2023-12-15T00:08:02.760647Z",
     "iopub.status.busy": "2023-12-15T00:08:02.760431Z",
     "iopub.status.idle": "2023-12-15T00:08:02.764821Z",
     "shell.execute_reply": "2023-12-15T00:08:02.764015Z"
    }
   },
   "outputs": [
    {
     "name": "stdout",
     "output_type": "stream",
     "text": [
      "Empirical(name='JTT92'; num_motifs=20; motifs=['A', 'C', 'D', 'E', 'F', 'G', 'H', 'I', 'K', 'L', 'M', 'N', 'P', 'Q', 'R', 'S', 'T', 'V', 'W', 'Y']))\n"
     ]
    }
   ],
   "source": [
    "from cogent3.evolve.models import get_model\n",
    "\n",
    "sub_mod = get_model(\"JTT92\", with_rate=True, distribution=\"gamma\")\n",
    "print(sub_mod)"
   ]
  },
  {
   "cell_type": "code",
   "execution_count": 7,
   "id": "861a5d4a",
   "metadata": {
    "execution": {
     "iopub.execute_input": "2023-12-15T00:08:02.767154Z",
     "iopub.status.busy": "2023-12-15T00:08:02.766938Z",
     "iopub.status.idle": "2023-12-15T00:08:02.772838Z",
     "shell.execute_reply": "2023-12-15T00:08:02.772287Z"
    }
   },
   "outputs": [],
   "source": [
    "from cogent3 import make_tree\n",
    "from cogent3.evolve.models import get_model\n",
    "\n",
    "sub_mod = get_model(\"F81\")\n",
    "tree = make_tree(\"(a,b,(c,d))\")\n",
    "lf = sub_mod.make_likelihood_function(tree)"
   ]
  },
  {
   "cell_type": "code",
   "execution_count": 8,
   "id": "1cc0f89a",
   "metadata": {
    "execution": {
     "iopub.execute_input": "2023-12-15T00:08:02.775159Z",
     "iopub.status.busy": "2023-12-15T00:08:02.774964Z",
     "iopub.status.idle": "2023-12-15T00:08:02.798679Z",
     "shell.execute_reply": "2023-12-15T00:08:02.798166Z"
    }
   },
   "outputs": [],
   "source": [
    "from cogent3 import make_aligned_seqs, make_tree\n",
    "from cogent3.evolve.models import get_model\n",
    "\n",
    "sub_mod = get_model(\"F81\")\n",
    "tree = make_tree(\"(a,b,(c,d))\")\n",
    "lf = sub_mod.make_likelihood_function(tree)\n",
    "aln = make_aligned_seqs(\n",
    "    [(\"a\", \"ACGT\"), (\"b\", \"AC-T\"), (\"c\", \"ACGT\"), (\"d\", \"AC-T\")]\n",
    ")\n",
    "lf.set_alignment(aln)"
   ]
  },
  {
   "cell_type": "code",
   "execution_count": 9,
   "id": "129a8800",
   "metadata": {
    "execution": {
     "iopub.execute_input": "2023-12-15T00:08:02.801062Z",
     "iopub.status.busy": "2023-12-15T00:08:02.800891Z",
     "iopub.status.idle": "2023-12-15T00:08:02.804696Z",
     "shell.execute_reply": "2023-12-15T00:08:02.804263Z"
    }
   },
   "outputs": [
    {
     "name": "stdout",
     "output_type": "stream",
     "text": [
      "          /-Galago\n",
      "         |\n",
      "-root----|--HowlerMon\n",
      "         |\n",
      "         |          /-Rhesus\n",
      "          \\edge.3--|\n",
      "                   |          /-Orangutan\n",
      "                    \\edge.2--|\n",
      "                             |          /-Gorilla\n",
      "                              \\edge.1--|\n",
      "                                       |          /-Human\n",
      "                                        \\edge.0--|\n",
      "                                                  \\-Chimpanzee\n"
     ]
    }
   ],
   "source": [
    "from cogent3 import load_tree\n",
    "from cogent3.evolve.models import get_model\n",
    "\n",
    "tree = load_tree(\"data/primate_brca1.tree\")\n",
    "print(tree.ascii_art())"
   ]
  },
  {
   "cell_type": "code",
   "execution_count": 10,
   "id": "4a25bb1c",
   "metadata": {
    "execution": {
     "iopub.execute_input": "2023-12-15T00:08:02.806992Z",
     "iopub.status.busy": "2023-12-15T00:08:02.806841Z",
     "iopub.status.idle": "2023-12-15T00:08:03.098549Z",
     "shell.execute_reply": "2023-12-15T00:08:03.087010Z"
    }
   },
   "outputs": [],
   "source": [
    "sm = get_model(\"CNFGTR\")\n",
    "lf = sm.make_likelihood_function(tree, digits=2)\n",
    "lf.set_param_rule(\n",
    "    \"omega\",\n",
    "    tip_names=[\"Human\", \"Orangutan\"],\n",
    "    outgroup_name=\"Galago\",\n",
    "    clade=True,\n",
    "    init=0.5,\n",
    ")"
   ]
  },
  {
   "cell_type": "code",
   "execution_count": 11,
   "id": "6499e38f",
   "metadata": {
    "execution": {
     "iopub.execute_input": "2023-12-15T00:08:03.126771Z",
     "iopub.status.busy": "2023-12-15T00:08:03.122639Z",
     "iopub.status.idle": "2023-12-15T00:08:03.172652Z",
     "shell.execute_reply": "2023-12-15T00:08:03.146888Z"
    }
   },
   "outputs": [
    {
     "data": {
      "text/html": [
       "<h4>CNFGTR</h4>\n",
       "\n",
       "<p>number of free parameters = 78</p>\n",
       "\n",
       "<div class=\"c3table\">\n",
       "\n",
       "<style>\n",
       ".c3table table {margin: 10px 0;}\n",
       ".c3table tr:last-child {border-bottom: 1px solid #000;} \n",
       ".c3table tr > th {text-align: left; padding: 0 5px;}\n",
       ".c3table tr > td {text-align: left; padding: 5px;}\n",
       ".c3table tr:nth-child(even) {background: #f7f7f7 !important;}\n",
       ".c3table .ellipsis {background: rgba(0, 0, 0, .01);}\n",
       ".c3table .index {background: rgba(161, 195, 209, 0.0); margin: 10px; font-weight: 600;}\n",
       ".c3table .head_cell {background: rgba(161, 195, 209, 0.75); font-weight: bold; text-align: center;}\n",
       ".c3table caption {color: rgb(250, 250, 250); background: rgba(30, 140, 200, 1); padding: 3px; white-space: nowrap; caption-side: top;}\n",
       ".c3table .cell_title {font-weight: bold;}\n",
       ".c3col_left { text-align: left !important; display: block;}\n",
       ".c3col_right { text-align: right !important; display: block;}\n",
       ".c3col_center { text-align: center !important; display: block;}\n",
       "</style>\n",
       "\n",
       "<table>\n",
       "\n",
       "<caption>\n",
       "<span class=\"cell_title\">Global params</span>\n",
       "</caption>\n",
       "<thead class=\"head_cell\">\n",
       "<th>A/C</th><th>A/G</th><th>A/T</th><th>C/G</th><th>C/T</th>\n",
       "</thead>\n",
       "<tbody>\n",
       "<tr><td><span class=\"c3col_right\">1.00</span></td><td><span class=\"c3col_right\">1.00</span></td><td><span class=\"c3col_right\">1.00</span></td><td><span class=\"c3col_right\">1.00</span></td><td><span class=\"c3col_right\">1.00</span></td></tr>\n",
       "</tbody>\n",
       "</table>\n",
       "\n",
       "</div>\n",
       "\n",
       "<div class=\"c3table\">\n",
       "\n",
       "<style>\n",
       ".c3table table {margin: 10px 0;}\n",
       ".c3table tr:last-child {border-bottom: 1px solid #000;} \n",
       ".c3table tr > th {text-align: left; padding: 0 5px;}\n",
       ".c3table tr > td {text-align: left; padding: 5px;}\n",
       ".c3table tr:nth-child(even) {background: #f7f7f7 !important;}\n",
       ".c3table .ellipsis {background: rgba(0, 0, 0, .01);}\n",
       ".c3table .index {background: rgba(161, 195, 209, 0.0); margin: 10px; font-weight: 600;}\n",
       ".c3table .head_cell {background: rgba(161, 195, 209, 0.75); font-weight: bold; text-align: center;}\n",
       ".c3table caption {color: rgb(250, 250, 250); background: rgba(30, 140, 200, 1); padding: 3px; white-space: nowrap; caption-side: top;}\n",
       ".c3table .cell_title {font-weight: bold;}\n",
       ".c3col_left { text-align: left !important; display: block;}\n",
       ".c3col_right { text-align: right !important; display: block;}\n",
       ".c3col_center { text-align: center !important; display: block;}\n",
       "</style>\n",
       "\n",
       "<table>\n",
       "\n",
       "<caption>\n",
       "<span class=\"cell_title\">Edge params</span>\n",
       "</caption>\n",
       "<thead class=\"head_cell\">\n",
       "<th>edge</th><th>parent</th><th>length</th><th>omega</th>\n",
       "</thead>\n",
       "<tbody>\n",
       "<tr><td><span class=\"c3col_left\">Galago</span></td><td><span class=\"c3col_left\">root</span></td><td><span class=\"c3col_right\">1.00</span></td><td><span class=\"c3col_right\">1.00</span></td></tr>\n",
       "<tr><td><span class=\"c3col_left\">HowlerMon</span></td><td><span class=\"c3col_left\">root</span></td><td><span class=\"c3col_right\">1.00</span></td><td><span class=\"c3col_right\">1.00</span></td></tr>\n",
       "<tr><td><span class=\"c3col_left\">Rhesus</span></td><td><span class=\"c3col_left\">edge.3</span></td><td><span class=\"c3col_right\">1.00</span></td><td><span class=\"c3col_right\">1.00</span></td></tr>\n",
       "<tr><td><span class=\"c3col_left\">Orangutan</span></td><td><span class=\"c3col_left\">edge.2</span></td><td><span class=\"c3col_right\">1.00</span></td><td><span class=\"c3col_right\">0.50</span></td></tr>\n",
       "<tr><td><span class=\"c3col_left\">Gorilla</span></td><td><span class=\"c3col_left\">edge.1</span></td><td><span class=\"c3col_right\">1.00</span></td><td><span class=\"c3col_right\">0.50</span></td></tr>\n",
       "<tr><td><span class=\"c3col_left\">Human</span></td><td><span class=\"c3col_left\">edge.0</span></td><td><span class=\"c3col_right\">1.00</span></td><td><span class=\"c3col_right\">0.50</span></td></tr>\n",
       "<tr><td><span class=\"c3col_left\">Chimpanzee</span></td><td><span class=\"c3col_left\">edge.0</span></td><td><span class=\"c3col_right\">1.00</span></td><td><span class=\"c3col_right\">0.50</span></td></tr>\n",
       "<tr><td><span class=\"c3col_left\">edge.0</span></td><td><span class=\"c3col_left\">edge.1</span></td><td><span class=\"c3col_right\">1.00</span></td><td><span class=\"c3col_right\">0.50</span></td></tr>\n",
       "<tr><td><span class=\"c3col_left\">edge.1</span></td><td><span class=\"c3col_left\">edge.2</span></td><td><span class=\"c3col_right\">1.00</span></td><td><span class=\"c3col_right\">0.50</span></td></tr>\n",
       "<tr><td><span class=\"c3col_left\">edge.2</span></td><td><span class=\"c3col_left\">edge.3</span></td><td><span class=\"c3col_right\">1.00</span></td><td><span class=\"c3col_right\">1.00</span></td></tr>\n",
       "<tr><td><span class=\"c3col_left\">edge.3</span></td><td><span class=\"c3col_left\">root</span></td><td><span class=\"c3col_right\">1.00</span></td><td><span class=\"c3col_right\">1.00</span></td></tr>\n",
       "</tbody>\n",
       "</table>\n",
       "\n",
       "</div>\n",
       "\n",
       "<div class=\"c3table\">\n",
       "\n",
       "<style>\n",
       ".c3table table {margin: 10px 0;}\n",
       ".c3table tr:last-child {border-bottom: 1px solid #000;} \n",
       ".c3table tr > th {text-align: left; padding: 0 5px;}\n",
       ".c3table tr > td {text-align: left; padding: 5px;}\n",
       ".c3table tr:nth-child(even) {background: #f7f7f7 !important;}\n",
       ".c3table .ellipsis {background: rgba(0, 0, 0, .01);}\n",
       ".c3table .index {background: rgba(161, 195, 209, 0.0); margin: 10px; font-weight: 600;}\n",
       ".c3table .head_cell {background: rgba(161, 195, 209, 0.75); font-weight: bold; text-align: center;}\n",
       ".c3table caption {color: rgb(250, 250, 250); background: rgba(30, 140, 200, 1); padding: 3px; white-space: nowrap; caption-side: top;}\n",
       ".c3table .cell_title {font-weight: bold;}\n",
       ".c3col_left { text-align: left !important; display: block;}\n",
       ".c3col_right { text-align: right !important; display: block;}\n",
       ".c3col_center { text-align: center !important; display: block;}\n",
       "</style>\n",
       "\n",
       "<table>\n",
       "\n",
       "<caption>\n",
       "<span class=\"cell_title\">Motif params</span>\n",
       "</caption>\n",
       "<thead class=\"head_cell\">\n",
       "<th>AAA</th><th>AAC</th><th>AAG</th><th>AAT</th><th>ACA</th><th>ACC</th><th>ACG</th><th>ACT</th><th>AGA</th><th>AGC</th><th>AGG</th><th>AGT</th><th>ATA</th>\n",
       "</thead>\n",
       "<tbody>\n",
       "<tr><td><span class=\"c3col_right\">0.02</span></td><td><span class=\"c3col_right\">0.02</span></td><td><span class=\"c3col_right\">0.02</span></td><td><span class=\"c3col_right\">0.02</span></td><td><span class=\"c3col_right\">0.02</span></td><td><span class=\"c3col_right\">0.02</span></td><td><span class=\"c3col_right\">0.02</span></td><td><span class=\"c3col_right\">0.02</span></td><td><span class=\"c3col_right\">0.02</span></td><td><span class=\"c3col_right\">0.02</span></td><td><span class=\"c3col_right\">0.02</span></td><td><span class=\"c3col_right\">0.02</span></td><td><span class=\"c3col_right\">0.02</span></td></tr>\n",
       "</tbody>\n",
       "</table>\n",
       "\n",
       "<table>\n",
       "\n",
       "<caption>\n",
       "<span class=\"cell_title\">continuation</span>\n",
       "</caption>\n",
       "<thead class=\"head_cell\">\n",
       "<th>ATC</th><th>ATG</th><th>ATT</th><th>CAA</th><th>CAC</th><th>CAG</th><th>CAT</th><th>CCA</th><th>CCC</th><th>CCG</th><th>CCT</th><th>CGA</th><th>CGC</th>\n",
       "</thead>\n",
       "<tbody>\n",
       "<tr><td><span class=\"c3col_right\">0.02</span></td><td><span class=\"c3col_right\">0.02</span></td><td><span class=\"c3col_right\">0.02</span></td><td><span class=\"c3col_right\">0.02</span></td><td><span class=\"c3col_right\">0.02</span></td><td><span class=\"c3col_right\">0.02</span></td><td><span class=\"c3col_right\">0.02</span></td><td><span class=\"c3col_right\">0.02</span></td><td><span class=\"c3col_right\">0.02</span></td><td><span class=\"c3col_right\">0.02</span></td><td><span class=\"c3col_right\">0.02</span></td><td><span class=\"c3col_right\">0.02</span></td><td><span class=\"c3col_right\">0.02</span></td></tr>\n",
       "</tbody>\n",
       "</table>\n",
       "\n",
       "<table>\n",
       "\n",
       "<caption>\n",
       "<span class=\"cell_title\">continuation</span>\n",
       "</caption>\n",
       "<thead class=\"head_cell\">\n",
       "<th>CGG</th><th>CGT</th><th>CTA</th><th>CTC</th><th>CTG</th><th>CTT</th><th>GAA</th><th>GAC</th><th>GAG</th><th>GAT</th><th>GCA</th><th>GCC</th><th>GCG</th>\n",
       "</thead>\n",
       "<tbody>\n",
       "<tr><td><span class=\"c3col_right\">0.02</span></td><td><span class=\"c3col_right\">0.02</span></td><td><span class=\"c3col_right\">0.02</span></td><td><span class=\"c3col_right\">0.02</span></td><td><span class=\"c3col_right\">0.02</span></td><td><span class=\"c3col_right\">0.02</span></td><td><span class=\"c3col_right\">0.02</span></td><td><span class=\"c3col_right\">0.02</span></td><td><span class=\"c3col_right\">0.02</span></td><td><span class=\"c3col_right\">0.02</span></td><td><span class=\"c3col_right\">0.02</span></td><td><span class=\"c3col_right\">0.02</span></td><td><span class=\"c3col_right\">0.02</span></td></tr>\n",
       "</tbody>\n",
       "</table>\n",
       "\n",
       "<table>\n",
       "\n",
       "<caption>\n",
       "<span class=\"cell_title\">continuation</span>\n",
       "</caption>\n",
       "<thead class=\"head_cell\">\n",
       "<th>GCT</th><th>GGA</th><th>GGC</th><th>GGG</th><th>GGT</th><th>GTA</th><th>GTC</th><th>GTG</th><th>GTT</th><th>TAC</th><th>TAT</th><th>TCA</th><th>TCC</th>\n",
       "</thead>\n",
       "<tbody>\n",
       "<tr><td><span class=\"c3col_right\">0.02</span></td><td><span class=\"c3col_right\">0.02</span></td><td><span class=\"c3col_right\">0.02</span></td><td><span class=\"c3col_right\">0.02</span></td><td><span class=\"c3col_right\">0.02</span></td><td><span class=\"c3col_right\">0.02</span></td><td><span class=\"c3col_right\">0.02</span></td><td><span class=\"c3col_right\">0.02</span></td><td><span class=\"c3col_right\">0.02</span></td><td><span class=\"c3col_right\">0.02</span></td><td><span class=\"c3col_right\">0.02</span></td><td><span class=\"c3col_right\">0.02</span></td><td><span class=\"c3col_right\">0.02</span></td></tr>\n",
       "</tbody>\n",
       "</table>\n",
       "\n",
       "<table>\n",
       "\n",
       "<caption>\n",
       "<span class=\"cell_title\">continuation</span>\n",
       "</caption>\n",
       "<thead class=\"head_cell\">\n",
       "<th>TCG</th><th>TCT</th><th>TGC</th><th>TGG</th><th>TGT</th><th>TTA</th><th>TTC</th><th>TTG</th><th>TTT</th>\n",
       "</thead>\n",
       "<tbody>\n",
       "<tr><td><span class=\"c3col_right\">0.02</span></td><td><span class=\"c3col_right\">0.02</span></td><td><span class=\"c3col_right\">0.02</span></td><td><span class=\"c3col_right\">0.02</span></td><td><span class=\"c3col_right\">0.02</span></td><td><span class=\"c3col_right\">0.02</span></td><td><span class=\"c3col_right\">0.02</span></td><td><span class=\"c3col_right\">0.02</span></td><td><span class=\"c3col_right\">0.02</span></td></tr>\n",
       "</tbody>\n",
       "</table>\n",
       "\n",
       "</div>"
      ],
      "text/plain": [
       "CNFGTR\n",
       "number of free parameters = 78\n",
       "====================================\n",
       " A/C     A/G     A/T     C/G     C/T\n",
       "------------------------------------\n",
       "1.00    1.00    1.00    1.00    1.00\n",
       "------------------------------------\n",
       "=======================================\n",
       "edge          parent    length    omega\n",
       "---------------------------------------\n",
       "Galago        root        1.00     1.00\n",
       "HowlerMon     root        1.00     1.00\n",
       "Rhesus        edge.3      1.00     1.00\n",
       "Orangutan     edge.2      1.00     0.50\n",
       "Gorilla       edge.1      1.00     0.50\n",
       "Human         edge.0      1.00     0.50\n",
       "Chimpanzee    edge.0      1.00     0.50\n",
       "edge.0        edge.1      1.00     0.50\n",
       "edge.1        edge.2      1.00     0.50\n",
       "edge.2        edge.3      1.00     1.00\n",
       "edge.3        root        1.00     1.00\n",
       "---------------------------------------\n",
       "============================================================================\n",
       " AAA     AAC     AAG     AAT     ACA     ACC     ACG     ACT     AGA     AGC\n",
       "----------------------------------------------------------------------------\n",
       "0.02    0.02    0.02    0.02    0.02    0.02    0.02    0.02    0.02    0.02\n",
       "----------------------------------------------------------------------------\n",
       "\n",
       "continued: \n",
       "============================================================================\n",
       " AGG     AGT     ATA     ATC     ATG     ATT     CAA     CAC     CAG     CAT\n",
       "----------------------------------------------------------------------------\n",
       "0.02    0.02    0.02    0.02    0.02    0.02    0.02    0.02    0.02    0.02\n",
       "----------------------------------------------------------------------------\n",
       "\n",
       "continued: \n",
       "============================================================================\n",
       " CCA     CCC     CCG     CCT     CGA     CGC     CGG     CGT     CTA     CTC\n",
       "----------------------------------------------------------------------------\n",
       "0.02    0.02    0.02    0.02    0.02    0.02    0.02    0.02    0.02    0.02\n",
       "----------------------------------------------------------------------------\n",
       "\n",
       "continued: \n",
       "============================================================================\n",
       " CTG     CTT     GAA     GAC     GAG     GAT     GCA     GCC     GCG     GCT\n",
       "----------------------------------------------------------------------------\n",
       "0.02    0.02    0.02    0.02    0.02    0.02    0.02    0.02    0.02    0.02\n",
       "----------------------------------------------------------------------------\n",
       "\n",
       "continued: \n",
       "============================================================================\n",
       " GGA     GGC     GGG     GGT     GTA     GTC     GTG     GTT     TAC     TAT\n",
       "----------------------------------------------------------------------------\n",
       "0.02    0.02    0.02    0.02    0.02    0.02    0.02    0.02    0.02    0.02\n",
       "----------------------------------------------------------------------------\n",
       "\n",
       "continued: \n",
       "============================================================================\n",
       " TCA     TCC     TCG     TCT     TGC     TGG     TGT     TTA     TTC     TTG\n",
       "----------------------------------------------------------------------------\n",
       "0.02    0.02    0.02    0.02    0.02    0.02    0.02    0.02    0.02    0.02\n",
       "----------------------------------------------------------------------------\n",
       "\n",
       "continued: \n",
       "====\n",
       " TTT\n",
       "----\n",
       "0.02\n",
       "----"
      ]
     },
     "execution_count": 11,
     "metadata": {},
     "output_type": "execute_result"
    }
   ],
   "source": [
    "lf"
   ]
  },
  {
   "cell_type": "code",
   "execution_count": 12,
   "id": "245a1f86",
   "metadata": {
    "execution": {
     "iopub.execute_input": "2023-12-15T00:08:03.203571Z",
     "iopub.status.busy": "2023-12-15T00:08:03.202904Z",
     "iopub.status.idle": "2023-12-15T00:08:03.509004Z",
     "shell.execute_reply": "2023-12-15T00:08:03.492213Z"
    }
   },
   "outputs": [],
   "source": [
    "from cogent3 import load_tree\n",
    "from cogent3.evolve.models import get_model\n",
    "\n",
    "tree = load_tree(\"data/primate_brca1.tree\")\n",
    "sm = get_model(\"CNFGTR\")\n",
    "lf = sm.make_likelihood_function(tree, digits=2)\n",
    "lf.set_param_rule(\"omega\", is_constant=True)"
   ]
  },
  {
   "cell_type": "code",
   "execution_count": 13,
   "id": "735c3571",
   "metadata": {
    "execution": {
     "iopub.execute_input": "2023-12-15T00:08:03.543115Z",
     "iopub.status.busy": "2023-12-15T00:08:03.542532Z",
     "iopub.status.idle": "2023-12-15T00:08:03.824293Z",
     "shell.execute_reply": "2023-12-15T00:08:03.814139Z"
    }
   },
   "outputs": [],
   "source": [
    "from cogent3 import load_tree\n",
    "from cogent3.evolve.models import get_model\n",
    "\n",
    "tree = load_tree(\"data/primate_brca1.tree\")\n",
    "sm = get_model(\"CNFGTR\")\n",
    "lf = sm.make_likelihood_function(tree, digits=2)\n",
    "lf.set_param_rule(\"omega\", init=0.1)"
   ]
  },
  {
   "cell_type": "code",
   "execution_count": 14,
   "id": "40c19fa1",
   "metadata": {
    "execution": {
     "iopub.execute_input": "2023-12-15T00:08:03.854390Z",
     "iopub.status.busy": "2023-12-15T00:08:03.854292Z",
     "iopub.status.idle": "2023-12-15T00:08:04.125730Z",
     "shell.execute_reply": "2023-12-15T00:08:04.115238Z"
    }
   },
   "outputs": [],
   "source": [
    "from cogent3 import load_tree\n",
    "from cogent3.evolve.models import get_model\n",
    "\n",
    "tree = load_tree(\"data/primate_brca1.tree\")\n",
    "sm = get_model(\"CNFGTR\")\n",
    "lf = sm.make_likelihood_function(tree, digits=2)\n",
    "lf.set_param_rule(\"omega\", init=0.1, lower=1e-9, upper=20.0)"
   ]
  },
  {
   "cell_type": "code",
   "execution_count": 15,
   "id": "702d3920",
   "metadata": {
    "execution": {
     "iopub.execute_input": "2023-12-15T00:08:04.146206Z",
     "iopub.status.busy": "2023-12-15T00:08:04.146100Z",
     "iopub.status.idle": "2023-12-15T00:08:04.195750Z",
     "shell.execute_reply": "2023-12-15T00:08:04.176356Z"
    }
   },
   "outputs": [],
   "source": [
    "from cogent3 import load_tree\n",
    "from cogent3.evolve.models import get_model\n",
    "\n",
    "tree = load_tree(\"data/primate_brca1.tree\")\n",
    "sm = get_model(\"F81\")\n",
    "lf = sm.make_likelihood_function(tree)\n",
    "lf.set_param_rule(\"length\", upper=1.0)"
   ]
  },
  {
   "cell_type": "code",
   "execution_count": 16,
   "id": "274fd290",
   "metadata": {
    "execution": {
     "iopub.execute_input": "2023-12-15T00:08:04.216922Z",
     "iopub.status.busy": "2023-12-15T00:08:04.216831Z",
     "iopub.status.idle": "2023-12-15T00:08:04.256540Z",
     "shell.execute_reply": "2023-12-15T00:08:04.245935Z"
    }
   },
   "outputs": [],
   "source": [
    "from cogent3 import load_tree\n",
    "from cogent3.evolve.models import get_model\n",
    "\n",
    "sm = get_model(\"GTR\", with_rate=True, distribution=\"gamma\")\n",
    "tree = load_tree(\"data/primate_brca1.tree\")\n",
    "lf = sm.make_likelihood_function(tree, bins=4, digits=2)\n",
    "lf.set_param_rule(\"bprobs\", is_constant=True)"
   ]
  },
  {
   "cell_type": "code",
   "execution_count": 17,
   "id": "7205bbe4",
   "metadata": {
    "execution": {
     "iopub.execute_input": "2023-12-15T00:08:04.276695Z",
     "iopub.status.busy": "2023-12-15T00:08:04.276617Z",
     "iopub.status.idle": "2023-12-15T00:08:04.316842Z",
     "shell.execute_reply": "2023-12-15T00:08:04.306608Z"
    }
   },
   "outputs": [],
   "source": [
    "from cogent3 import load_tree\n",
    "from cogent3.evolve.models import get_model\n",
    "\n",
    "sm = get_model(\"GTR\", with_rate=True, distribution=\"gamma\")\n",
    "tree = load_tree(\"data/primate_brca1.tree\")\n",
    "lf = sm.make_likelihood_function(tree, bins=4, sites_independent=False, digits=2)\n",
    "lf.set_param_rule(\"bprobs\", is_constant=True)"
   ]
  },
  {
   "cell_type": "code",
   "execution_count": 18,
   "id": "2823f61e",
   "metadata": {
    "execution": {
     "iopub.execute_input": "2023-12-15T00:08:04.345161Z",
     "iopub.status.busy": "2023-12-15T00:08:04.345082Z",
     "iopub.status.idle": "2023-12-15T00:08:04.421665Z",
     "shell.execute_reply": "2023-12-15T00:08:04.421450Z"
    }
   },
   "outputs": [],
   "source": [
    "from cogent3 import load_aligned_seqs, load_tree\n",
    "from cogent3.evolve.models import get_model\n",
    "\n",
    "tree = load_tree(\"data/primate_brca1.tree\")\n",
    "aln = load_aligned_seqs(\"data/primate_brca1.fasta\")\n",
    "sm = get_model(\"F81\")\n",
    "lf = sm.make_likelihood_function(tree, digits=3, space=2)\n",
    "lf.set_alignment(aln)\n",
    "lf.optimise(show_progress=False)"
   ]
  },
  {
   "cell_type": "code",
   "execution_count": 19,
   "id": "1afdb97b",
   "metadata": {
    "execution": {
     "iopub.execute_input": "2023-12-15T00:08:04.423156Z",
     "iopub.status.busy": "2023-12-15T00:08:04.423082Z",
     "iopub.status.idle": "2023-12-15T00:08:04.465334Z",
     "shell.execute_reply": "2023-12-15T00:08:04.465042Z"
    }
   },
   "outputs": [],
   "source": [
    "lf.optimise(local=True, max_restarts=5, show_progress=False)"
   ]
  },
  {
   "cell_type": "code",
   "execution_count": 20,
   "id": "92080320",
   "metadata": {
    "execution": {
     "iopub.execute_input": "2023-12-15T00:08:04.466799Z",
     "iopub.status.busy": "2023-12-15T00:08:04.466725Z",
     "iopub.status.idle": "2023-12-15T00:08:05.078638Z",
     "shell.execute_reply": "2023-12-15T00:08:05.078330Z"
    }
   },
   "outputs": [],
   "source": [
    "lf.optimise(local=False, global_tolerance=1.0, show_progress=False)"
   ]
  },
  {
   "cell_type": "code",
   "execution_count": 21,
   "id": "125d005c",
   "metadata": {
    "execution": {
     "iopub.execute_input": "2023-12-15T00:08:05.080105Z",
     "iopub.status.busy": "2023-12-15T00:08:05.080028Z",
     "iopub.status.idle": "2023-12-15T00:08:05.121283Z",
     "shell.execute_reply": "2023-12-15T00:08:05.120970Z"
    }
   },
   "outputs": [],
   "source": [
    "lf.optimise(show_progress=False, max_restarts=5, tolerance=1e-8)"
   ]
  },
  {
   "cell_type": "code",
   "execution_count": 22,
   "id": "d989534c",
   "metadata": {
    "execution": {
     "iopub.execute_input": "2023-12-15T00:08:05.122505Z",
     "iopub.status.busy": "2023-12-15T00:08:05.122434Z",
     "iopub.status.idle": "2023-12-15T00:08:05.160897Z",
     "shell.execute_reply": "2023-12-15T00:08:05.160607Z"
    }
   },
   "outputs": [
    {
     "name": "stdout",
     "output_type": "stream",
     "text": [
      "FORCED EXIT from optimiser after 10 evaluations\n"
     ]
    }
   ],
   "source": [
    "from cogent3 import load_aligned_seqs, load_tree\n",
    "from cogent3.evolve.models import get_model\n",
    "\n",
    "tree = load_tree(\"data/primate_brca1.tree\")\n",
    "aln = load_aligned_seqs(\"data/primate_brca1.fasta\")\n",
    "sm = get_model(\"F81\")\n",
    "lf = sm.make_likelihood_function(tree, digits=3, space=2)\n",
    "lf.set_alignment(aln)\n",
    "try:\n",
    "    lf.optimise(\n",
    "        show_progress=False,\n",
    "        limit_action=\"raise\",\n",
    "        max_evaluations=10,\n",
    "        return_calculator=True,\n",
    "    )\n",
    "except ArithmeticError as err:\n",
    "    print(err)"
   ]
  },
  {
   "cell_type": "code",
   "execution_count": 23,
   "id": "6b83d271",
   "metadata": {
    "execution": {
     "iopub.execute_input": "2023-12-15T00:08:05.162244Z",
     "iopub.status.busy": "2023-12-15T00:08:05.162173Z",
     "iopub.status.idle": "2023-12-15T00:08:05.399551Z",
     "shell.execute_reply": "2023-12-15T00:08:05.399281Z"
    }
   },
   "outputs": [
    {
     "data": {
      "text/html": [
       "<h4>GTR</h4>\n",
       "<p>log-likelihood = -6992.7690</p>\n",
       "<p>number of free parameters = 16</p>\n",
       "\n",
       "<div class=\"c3table\">\n",
       "\n",
       "<style>\n",
       ".c3table table {margin: 10px 0;}\n",
       ".c3table tr:last-child {border-bottom: 1px solid #000;} \n",
       ".c3table tr > th {text-align: left; padding: 0 5px;}\n",
       ".c3table tr > td {text-align: left; padding: 5px;}\n",
       ".c3table tr:nth-child(even) {background: #f7f7f7 !important;}\n",
       ".c3table .ellipsis {background: rgba(0, 0, 0, .01);}\n",
       ".c3table .index {background: rgba(161, 195, 209, 0.0); margin: 10px; font-weight: 600;}\n",
       ".c3table .head_cell {background: rgba(161, 195, 209, 0.75); font-weight: bold; text-align: center;}\n",
       ".c3table caption {color: rgb(250, 250, 250); background: rgba(30, 140, 200, 1); padding: 3px; white-space: nowrap; caption-side: top;}\n",
       ".c3table .cell_title {font-weight: bold;}\n",
       ".c3col_left { text-align: left !important; display: block;}\n",
       ".c3col_right { text-align: right !important; display: block;}\n",
       ".c3col_center { text-align: center !important; display: block;}\n",
       "</style>\n",
       "\n",
       "<table>\n",
       "\n",
       "<caption>\n",
       "<span class=\"cell_title\">Global params</span>\n",
       "</caption>\n",
       "<thead class=\"head_cell\">\n",
       "<th>A/C</th><th>A/G</th><th>A/T</th><th>C/G</th><th>C/T</th>\n",
       "</thead>\n",
       "<tbody>\n",
       "<tr><td><span class=\"c3col_right\">1.2316</span></td><td><span class=\"c3col_right\">5.2534</span></td><td><span class=\"c3col_right\">0.9585</span></td><td><span class=\"c3col_right\">2.3159</span></td><td><span class=\"c3col_right\">5.9700</span></td></tr>\n",
       "</tbody>\n",
       "</table>\n",
       "\n",
       "</div>\n",
       "\n",
       "<div class=\"c3table\">\n",
       "\n",
       "<style>\n",
       ".c3table table {margin: 10px 0;}\n",
       ".c3table tr:last-child {border-bottom: 1px solid #000;} \n",
       ".c3table tr > th {text-align: left; padding: 0 5px;}\n",
       ".c3table tr > td {text-align: left; padding: 5px;}\n",
       ".c3table tr:nth-child(even) {background: #f7f7f7 !important;}\n",
       ".c3table .ellipsis {background: rgba(0, 0, 0, .01);}\n",
       ".c3table .index {background: rgba(161, 195, 209, 0.0); margin: 10px; font-weight: 600;}\n",
       ".c3table .head_cell {background: rgba(161, 195, 209, 0.75); font-weight: bold; text-align: center;}\n",
       ".c3table caption {color: rgb(250, 250, 250); background: rgba(30, 140, 200, 1); padding: 3px; white-space: nowrap; caption-side: top;}\n",
       ".c3table .cell_title {font-weight: bold;}\n",
       ".c3col_left { text-align: left !important; display: block;}\n",
       ".c3col_right { text-align: right !important; display: block;}\n",
       ".c3col_center { text-align: center !important; display: block;}\n",
       "</style>\n",
       "\n",
       "<table>\n",
       "\n",
       "<caption>\n",
       "<span class=\"cell_title\">Edge params</span>\n",
       "</caption>\n",
       "<thead class=\"head_cell\">\n",
       "<th>edge</th><th>parent</th><th>length</th>\n",
       "</thead>\n",
       "<tbody>\n",
       "<tr><td><span class=\"c3col_left\">Galago</span></td><td><span class=\"c3col_left\">root</span></td><td><span class=\"c3col_right\">0.1731</span></td></tr>\n",
       "<tr><td><span class=\"c3col_left\">HowlerMon</span></td><td><span class=\"c3col_left\">root</span></td><td><span class=\"c3col_right\">0.0449</span></td></tr>\n",
       "<tr><td><span class=\"c3col_left\">Rhesus</span></td><td><span class=\"c3col_left\">edge.3</span></td><td><span class=\"c3col_right\">0.0216</span></td></tr>\n",
       "<tr><td><span class=\"c3col_left\">Orangutan</span></td><td><span class=\"c3col_left\">edge.2</span></td><td><span class=\"c3col_right\">0.0077</span></td></tr>\n",
       "<tr><td><span class=\"c3col_left\">Gorilla</span></td><td><span class=\"c3col_left\">edge.1</span></td><td><span class=\"c3col_right\">0.0025</span></td></tr>\n",
       "<tr><td><span class=\"c3col_left\">Human</span></td><td><span class=\"c3col_left\">edge.0</span></td><td><span class=\"c3col_right\">0.0061</span></td></tr>\n",
       "<tr><td><span class=\"c3col_left\">Chimpanzee</span></td><td><span class=\"c3col_left\">edge.0</span></td><td><span class=\"c3col_right\">0.0028</span></td></tr>\n",
       "<tr><td><span class=\"c3col_left\">edge.0</span></td><td><span class=\"c3col_left\">edge.1</span></td><td><span class=\"c3col_right\">0.0000</span></td></tr>\n",
       "<tr><td><span class=\"c3col_left\">edge.1</span></td><td><span class=\"c3col_left\">edge.2</span></td><td><span class=\"c3col_right\">0.0034</span></td></tr>\n",
       "<tr><td><span class=\"c3col_left\">edge.2</span></td><td><span class=\"c3col_left\">edge.3</span></td><td><span class=\"c3col_right\">0.0120</span></td></tr>\n",
       "<tr><td><span class=\"c3col_left\">edge.3</span></td><td><span class=\"c3col_left\">root</span></td><td><span class=\"c3col_right\">0.0076</span></td></tr>\n",
       "</tbody>\n",
       "</table>\n",
       "\n",
       "</div>\n",
       "\n",
       "<div class=\"c3table\">\n",
       "\n",
       "<style>\n",
       ".c3table table {margin: 10px 0;}\n",
       ".c3table tr:last-child {border-bottom: 1px solid #000;} \n",
       ".c3table tr > th {text-align: left; padding: 0 5px;}\n",
       ".c3table tr > td {text-align: left; padding: 5px;}\n",
       ".c3table tr:nth-child(even) {background: #f7f7f7 !important;}\n",
       ".c3table .ellipsis {background: rgba(0, 0, 0, .01);}\n",
       ".c3table .index {background: rgba(161, 195, 209, 0.0); margin: 10px; font-weight: 600;}\n",
       ".c3table .head_cell {background: rgba(161, 195, 209, 0.75); font-weight: bold; text-align: center;}\n",
       ".c3table caption {color: rgb(250, 250, 250); background: rgba(30, 140, 200, 1); padding: 3px; white-space: nowrap; caption-side: top;}\n",
       ".c3table .cell_title {font-weight: bold;}\n",
       ".c3col_left { text-align: left !important; display: block;}\n",
       ".c3col_right { text-align: right !important; display: block;}\n",
       ".c3col_center { text-align: center !important; display: block;}\n",
       "</style>\n",
       "\n",
       "<table>\n",
       "\n",
       "<caption>\n",
       "<span class=\"cell_title\">Motif params</span>\n",
       "</caption>\n",
       "<thead class=\"head_cell\">\n",
       "<th>A</th><th>C</th><th>G</th><th>T</th>\n",
       "</thead>\n",
       "<tbody>\n",
       "<tr><td><span class=\"c3col_right\">0.3757</span></td><td><span class=\"c3col_right\">0.1742</span></td><td><span class=\"c3col_right\">0.2095</span></td><td><span class=\"c3col_right\">0.2406</span></td></tr>\n",
       "</tbody>\n",
       "</table>\n",
       "\n",
       "</div>"
      ],
      "text/plain": [
       "GTR\n",
       "log-likelihood = -6992.7690\n",
       "number of free parameters = 16\n",
       "==============================================\n",
       "   A/C       A/G       A/T       C/G       C/T\n",
       "----------------------------------------------\n",
       "1.2316    5.2534    0.9585    2.3159    5.9700\n",
       "----------------------------------------------\n",
       "==============================\n",
       "edge          parent    length\n",
       "------------------------------\n",
       "Galago        root      0.1731\n",
       "HowlerMon     root      0.0449\n",
       "Rhesus        edge.3    0.0216\n",
       "Orangutan     edge.2    0.0077\n",
       "Gorilla       edge.1    0.0025\n",
       "Human         edge.0    0.0061\n",
       "Chimpanzee    edge.0    0.0028\n",
       "edge.0        edge.1    0.0000\n",
       "edge.1        edge.2    0.0034\n",
       "edge.2        edge.3    0.0120\n",
       "edge.3        root      0.0076\n",
       "------------------------------\n",
       "====================================\n",
       "     A         C         G         T\n",
       "------------------------------------\n",
       "0.3757    0.1742    0.2095    0.2406\n",
       "------------------------------------"
      ]
     },
     "execution_count": 23,
     "metadata": {},
     "output_type": "execute_result"
    }
   ],
   "source": [
    "from cogent3 import load_aligned_seqs, load_tree\n",
    "from cogent3.evolve.models import get_model\n",
    "\n",
    "sm = get_model(\"GTR\")\n",
    "tree = load_tree(\"data/primate_brca1.tree\")\n",
    "lf = sm.make_likelihood_function(tree)\n",
    "aln = load_aligned_seqs(\"data/primate_brca1.fasta\")\n",
    "lf.set_alignment(aln)\n",
    "lf.optimise(local=True, show_progress=False)\n",
    "lf"
   ]
  },
  {
   "cell_type": "code",
   "execution_count": 24,
   "id": "429fcca5",
   "metadata": {
    "execution": {
     "iopub.execute_input": "2023-12-15T00:08:05.400962Z",
     "iopub.status.busy": "2023-12-15T00:08:05.400889Z",
     "iopub.status.idle": "2023-12-15T00:08:05.403252Z",
     "shell.execute_reply": "2023-12-15T00:08:05.403009Z"
    }
   },
   "outputs": [
    {
     "data": {
      "text/plain": [
       "-6992.7689942539355"
      ]
     },
     "execution_count": 24,
     "metadata": {},
     "output_type": "execute_result"
    }
   ],
   "source": [
    "lnL = lf.lnL\n",
    "lnL"
   ]
  },
  {
   "cell_type": "code",
   "execution_count": 25,
   "id": "66b6898d",
   "metadata": {
    "execution": {
     "iopub.execute_input": "2023-12-15T00:08:05.404766Z",
     "iopub.status.busy": "2023-12-15T00:08:05.404680Z",
     "iopub.status.idle": "2023-12-15T00:08:05.406885Z",
     "shell.execute_reply": "2023-12-15T00:08:05.406600Z"
    }
   },
   "outputs": [
    {
     "data": {
      "text/plain": [
       "16"
      ]
     },
     "execution_count": 25,
     "metadata": {},
     "output_type": "execute_result"
    }
   ],
   "source": [
    "nfp = lf.nfp\n",
    "nfp"
   ]
  },
  {
   "cell_type": "code",
   "execution_count": 26,
   "id": "99d34361",
   "metadata": {
    "execution": {
     "iopub.execute_input": "2023-12-15T00:08:05.408275Z",
     "iopub.status.busy": "2023-12-15T00:08:05.408193Z",
     "iopub.status.idle": "2023-12-15T00:08:05.410178Z",
     "shell.execute_reply": "2023-12-15T00:08:05.409962Z"
    }
   },
   "outputs": [
    {
     "data": {
      "text/plain": [
       "14017.537988507871"
      ]
     },
     "execution_count": 26,
     "metadata": {},
     "output_type": "execute_result"
    }
   ],
   "source": [
    "lf.get_aic()"
   ]
  },
  {
   "cell_type": "code",
   "execution_count": 27,
   "id": "5228106e",
   "metadata": {
    "execution": {
     "iopub.execute_input": "2023-12-15T00:08:05.411333Z",
     "iopub.status.busy": "2023-12-15T00:08:05.411259Z",
     "iopub.status.idle": "2023-12-15T00:08:05.413131Z",
     "shell.execute_reply": "2023-12-15T00:08:05.412919Z"
    }
   },
   "outputs": [
    {
     "data": {
      "text/plain": [
       "14017.732482608693"
      ]
     },
     "execution_count": 27,
     "metadata": {},
     "output_type": "execute_result"
    }
   ],
   "source": [
    "lf.get_aic(second_order=True)"
   ]
  },
  {
   "cell_type": "code",
   "execution_count": 28,
   "id": "1b93cba5",
   "metadata": {
    "execution": {
     "iopub.execute_input": "2023-12-15T00:08:05.414202Z",
     "iopub.status.busy": "2023-12-15T00:08:05.414145Z",
     "iopub.status.idle": "2023-12-15T00:08:05.416116Z",
     "shell.execute_reply": "2023-12-15T00:08:05.415912Z"
    }
   },
   "outputs": [
    {
     "data": {
      "text/plain": [
       "14112.615784310661"
      ]
     },
     "execution_count": 28,
     "metadata": {},
     "output_type": "execute_result"
    }
   ],
   "source": [
    "lf.get_bic()"
   ]
  },
  {
   "cell_type": "code",
   "execution_count": 29,
   "id": "a0765b3d",
   "metadata": {
    "execution": {
     "iopub.execute_input": "2023-12-15T00:08:05.417212Z",
     "iopub.status.busy": "2023-12-15T00:08:05.417146Z",
     "iopub.status.idle": "2023-12-15T00:08:05.419216Z",
     "shell.execute_reply": "2023-12-15T00:08:05.418949Z"
    }
   },
   "outputs": [
    {
     "data": {
      "text/plain": [
       "5.253424648110446"
      ]
     },
     "execution_count": 29,
     "metadata": {},
     "output_type": "execute_result"
    }
   ],
   "source": [
    "a_g = lf.get_param_value(\"A/G\")\n",
    "a_g"
   ]
  },
  {
   "cell_type": "code",
   "execution_count": 30,
   "id": "1c31ddc4",
   "metadata": {
    "execution": {
     "iopub.execute_input": "2023-12-15T00:08:05.420652Z",
     "iopub.status.busy": "2023-12-15T00:08:05.420575Z",
     "iopub.status.idle": "2023-12-15T00:08:05.422810Z",
     "shell.execute_reply": "2023-12-15T00:08:05.422530Z"
    }
   },
   "outputs": [
    {
     "data": {
      "text/plain": [
       "0.006060122551984432"
      ]
     },
     "execution_count": 30,
     "metadata": {},
     "output_type": "execute_result"
    }
   ],
   "source": [
    "human = lf.get_param_value(\"length\", \"Human\")\n",
    "human"
   ]
  },
  {
   "cell_type": "code",
   "execution_count": 31,
   "id": "ded1bccc",
   "metadata": {
    "execution": {
     "iopub.execute_input": "2023-12-15T00:08:05.424198Z",
     "iopub.status.busy": "2023-12-15T00:08:05.424115Z",
     "iopub.status.idle": "2023-12-15T00:08:05.426655Z",
     "shell.execute_reply": "2023-12-15T00:08:05.426390Z"
    }
   },
   "outputs": [
    {
     "data": {
      "text/html": [
       "\n",
       "<div class=\"c3table\">\n",
       "\n",
       "<style>\n",
       ".c3table table {margin: 10px 0;}\n",
       ".c3table tr:last-child {border-bottom: 1px solid #000;} \n",
       ".c3table tr > th {text-align: left; padding: 0 5px;}\n",
       ".c3table tr > td {text-align: left; padding: 5px;}\n",
       ".c3table tr:nth-child(even) {background: #f7f7f7 !important;}\n",
       ".c3table .ellipsis {background: rgba(0, 0, 0, .01);}\n",
       ".c3table .index {background: rgba(161, 195, 209, 0.0); margin: 10px; font-weight: 600;}\n",
       ".c3table .head_cell {background: rgba(161, 195, 209, 0.75); font-weight: bold; text-align: center;}\n",
       ".c3table caption {color: rgb(250, 250, 250); background: rgba(30, 140, 200, 1); padding: 3px; white-space: nowrap; caption-side: top;}\n",
       ".c3table .cell_title {font-weight: bold;}\n",
       ".c3col_left { text-align: left !important; display: block;}\n",
       ".c3col_right { text-align: right !important; display: block;}\n",
       ".c3col_center { text-align: center !important; display: block;}\n",
       "</style>\n",
       "\n",
       "<table>\n",
       "\n",
       "<thead class=\"head_cell\">\n",
       "<th>T</th><th>C</th><th>A</th><th>G</th>\n",
       "</thead>\n",
       "<tbody>\n",
       "<tr><td><span class=\"c3col_right\">0.2406</span></td><td><span class=\"c3col_right\">0.1742</span></td><td><span class=\"c3col_right\">0.3757</span></td><td><span class=\"c3col_right\">0.2095</span></td></tr>\n",
       "</tbody>\n",
       "</table>\n",
       "\n",
       "</div>"
      ],
      "text/plain": [
       "====================================\n",
       "     T         C         A         G\n",
       "------------------------------------\n",
       "0.2406    0.1742    0.3757    0.2095\n",
       "------------------------------------"
      ]
     },
     "execution_count": 31,
     "metadata": {},
     "output_type": "execute_result"
    }
   ],
   "source": [
    "mprobs = lf.get_motif_probs()\n",
    "mprobs"
   ]
  },
  {
   "cell_type": "code",
   "execution_count": 32,
   "id": "2d30818a",
   "metadata": {
    "execution": {
     "iopub.execute_input": "2023-12-15T00:08:05.428059Z",
     "iopub.status.busy": "2023-12-15T00:08:05.427972Z",
     "iopub.status.idle": "2023-12-15T00:08:05.430577Z",
     "shell.execute_reply": "2023-12-15T00:08:05.430363Z"
    }
   },
   "outputs": [
    {
     "data": {
      "text/html": [
       "\n",
       "<div class=\"c3table\">\n",
       "\n",
       "<style>\n",
       ".c3table table {margin: 10px 0;}\n",
       ".c3table tr:last-child {border-bottom: 1px solid #000;} \n",
       ".c3table tr > th {text-align: left; padding: 0 5px;}\n",
       ".c3table tr > td {text-align: left; padding: 5px;}\n",
       ".c3table tr:nth-child(even) {background: #f7f7f7 !important;}\n",
       ".c3table .ellipsis {background: rgba(0, 0, 0, .01);}\n",
       ".c3table .index {background: rgba(161, 195, 209, 0.0); margin: 10px; font-weight: 600;}\n",
       ".c3table .head_cell {background: rgba(161, 195, 209, 0.75); font-weight: bold; text-align: center;}\n",
       ".c3table caption {color: rgb(250, 250, 250); background: rgba(30, 140, 200, 1); padding: 3px; white-space: nowrap; caption-side: top;}\n",
       ".c3table .cell_title {font-weight: bold;}\n",
       ".c3col_left { text-align: left !important; display: block;}\n",
       ".c3col_right { text-align: right !important; display: block;}\n",
       ".c3col_center { text-align: center !important; display: block;}\n",
       "</style>\n",
       "\n",
       "<table>\n",
       "\n",
       "<caption>\n",
       "<span class=\"cell_title\">global params</span>\n",
       "</caption>\n",
       "<thead class=\"head_cell\">\n",
       "<th>A/C</th><th>A/G</th><th>A/T</th><th>C/G</th><th>C/T</th>\n",
       "</thead>\n",
       "<tbody>\n",
       "<tr><td><span class=\"c3col_right\">1.2316</span></td><td><span class=\"c3col_right\">5.2534</span></td><td><span class=\"c3col_right\">0.9585</span></td><td><span class=\"c3col_right\">2.3159</span></td><td><span class=\"c3col_right\">5.9700</span></td></tr>\n",
       "</tbody>\n",
       "</table>\n",
       "<p>\n",
       "1 rows x 5 columns</p>\n",
       "</div>"
      ],
      "text/plain": [
       "global params\n",
       "==============================================\n",
       "   A/C       A/G       A/T       C/G       C/T\n",
       "----------------------------------------------\n",
       "1.2316    5.2534    0.9585    2.3159    5.9700\n",
       "----------------------------------------------\n",
       "\n",
       "1 rows x 5 columns"
      ]
     },
     "execution_count": 32,
     "metadata": {},
     "output_type": "execute_result"
    }
   ],
   "source": [
    "tables = lf.get_statistics(with_motif_probs=True, with_titles=True)\n",
    "tables[0]  # just displaying the first"
   ]
  },
  {
   "cell_type": "code",
   "execution_count": 33,
   "id": "d10b04da",
   "metadata": {
    "execution": {
     "iopub.execute_input": "2023-12-15T00:08:05.431767Z",
     "iopub.status.busy": "2023-12-15T00:08:05.431684Z",
     "iopub.status.idle": "2023-12-15T00:08:05.503116Z",
     "shell.execute_reply": "2023-12-15T00:08:05.502905Z"
    }
   },
   "outputs": [
    {
     "data": {
      "text/html": [
       "<h4>Null Hypothesis</h4>\n",
       "<p>log-likelihood = -7177.4403</p>\n",
       "<p>number of free parameters = 10</p>\n",
       "\n",
       "<div class=\"c3table\">\n",
       "\n",
       "<style>\n",
       ".c3table table {margin: 10px 0;}\n",
       ".c3table tr:last-child {border-bottom: 1px solid #000;} \n",
       ".c3table tr > th {text-align: left; padding: 0 5px;}\n",
       ".c3table tr > td {text-align: left; padding: 5px;}\n",
       ".c3table tr:nth-child(even) {background: #f7f7f7 !important;}\n",
       ".c3table .ellipsis {background: rgba(0, 0, 0, .01);}\n",
       ".c3table .index {background: rgba(161, 195, 209, 0.0); margin: 10px; font-weight: 600;}\n",
       ".c3table .head_cell {background: rgba(161, 195, 209, 0.75); font-weight: bold; text-align: center;}\n",
       ".c3table caption {color: rgb(250, 250, 250); background: rgba(30, 140, 200, 1); padding: 3px; white-space: nowrap; caption-side: top;}\n",
       ".c3table .cell_title {font-weight: bold;}\n",
       ".c3col_left { text-align: left !important; display: block;}\n",
       ".c3col_right { text-align: right !important; display: block;}\n",
       ".c3col_center { text-align: center !important; display: block;}\n",
       "</style>\n",
       "\n",
       "<table>\n",
       "\n",
       "<caption>\n",
       "<span class=\"cell_title\">Edge params</span>\n",
       "</caption>\n",
       "<thead class=\"head_cell\">\n",
       "<th>edge</th><th>parent</th><th>length</th>\n",
       "</thead>\n",
       "<tbody>\n",
       "<tr><td><span class=\"c3col_left\">Galago</span></td><td><span class=\"c3col_left\">root</span></td><td><span class=\"c3col_right\">0.167</span></td></tr>\n",
       "<tr><td><span class=\"c3col_left\">HowlerMon</span></td><td><span class=\"c3col_left\">root</span></td><td><span class=\"c3col_right\">0.044</span></td></tr>\n",
       "<tr><td><span class=\"c3col_left\">Rhesus</span></td><td><span class=\"c3col_left\">edge.3</span></td><td><span class=\"c3col_right\">0.021</span></td></tr>\n",
       "<tr><td><span class=\"c3col_left\">Orangutan</span></td><td><span class=\"c3col_left\">edge.2</span></td><td><span class=\"c3col_right\">0.008</span></td></tr>\n",
       "<tr><td><span class=\"c3col_left\">Gorilla</span></td><td><span class=\"c3col_left\">edge.1</span></td><td><span class=\"c3col_right\">0.002</span></td></tr>\n",
       "<tr><td><span class=\"c3col_left\">Human</span></td><td><span class=\"c3col_left\">edge.0</span></td><td><span class=\"c3col_right\">0.004</span></td></tr>\n",
       "<tr><td><span class=\"c3col_left\">Chimpanzee</span></td><td><span class=\"c3col_left\">edge.0</span></td><td><span class=\"c3col_right\">0.004</span></td></tr>\n",
       "<tr><td><span class=\"c3col_left\">edge.0</span></td><td><span class=\"c3col_left\">edge.1</span></td><td><span class=\"c3col_right\">0.000</span></td></tr>\n",
       "<tr><td><span class=\"c3col_left\">edge.1</span></td><td><span class=\"c3col_left\">edge.2</span></td><td><span class=\"c3col_right\">0.003</span></td></tr>\n",
       "<tr><td><span class=\"c3col_left\">edge.2</span></td><td><span class=\"c3col_left\">edge.3</span></td><td><span class=\"c3col_right\">0.012</span></td></tr>\n",
       "<tr><td><span class=\"c3col_left\">edge.3</span></td><td><span class=\"c3col_left\">root</span></td><td><span class=\"c3col_right\">0.009</span></td></tr>\n",
       "</tbody>\n",
       "</table>\n",
       "\n",
       "</div>\n",
       "\n",
       "<div class=\"c3table\">\n",
       "\n",
       "<style>\n",
       ".c3table table {margin: 10px 0;}\n",
       ".c3table tr:last-child {border-bottom: 1px solid #000;} \n",
       ".c3table tr > th {text-align: left; padding: 0 5px;}\n",
       ".c3table tr > td {text-align: left; padding: 5px;}\n",
       ".c3table tr:nth-child(even) {background: #f7f7f7 !important;}\n",
       ".c3table .ellipsis {background: rgba(0, 0, 0, .01);}\n",
       ".c3table .index {background: rgba(161, 195, 209, 0.0); margin: 10px; font-weight: 600;}\n",
       ".c3table .head_cell {background: rgba(161, 195, 209, 0.75); font-weight: bold; text-align: center;}\n",
       ".c3table caption {color: rgb(250, 250, 250); background: rgba(30, 140, 200, 1); padding: 3px; white-space: nowrap; caption-side: top;}\n",
       ".c3table .cell_title {font-weight: bold;}\n",
       ".c3col_left { text-align: left !important; display: block;}\n",
       ".c3col_right { text-align: right !important; display: block;}\n",
       ".c3col_center { text-align: center !important; display: block;}\n",
       "</style>\n",
       "\n",
       "<table>\n",
       "\n",
       "<caption>\n",
       "<span class=\"cell_title\">Motif params</span>\n",
       "</caption>\n",
       "<thead class=\"head_cell\">\n",
       "<th>A</th><th>C</th><th>G</th><th>T</th>\n",
       "</thead>\n",
       "<tbody>\n",
       "<tr><td><span class=\"c3col_right\">0.376</span></td><td><span class=\"c3col_right\">0.174</span></td><td><span class=\"c3col_right\">0.209</span></td><td><span class=\"c3col_right\">0.241</span></td></tr>\n",
       "</tbody>\n",
       "</table>\n",
       "\n",
       "</div>"
      ],
      "text/plain": [
       "Null Hypothesis\n",
       "log-likelihood = -7177.4403\n",
       "number of free parameters = 10\n",
       "==========================\n",
       "edge        parent  length\n",
       "--------------------------\n",
       "Galago      root     0.167\n",
       "HowlerMon   root     0.044\n",
       "Rhesus      edge.3   0.021\n",
       "Orangutan   edge.2   0.008\n",
       "Gorilla     edge.1   0.002\n",
       "Human       edge.0   0.004\n",
       "Chimpanzee  edge.0   0.004\n",
       "edge.0      edge.1   0.000\n",
       "edge.1      edge.2   0.003\n",
       "edge.2      edge.3   0.012\n",
       "edge.3      root     0.009\n",
       "--------------------------\n",
       "==========================\n",
       "    A      C      G      T\n",
       "--------------------------\n",
       "0.376  0.174  0.209  0.241\n",
       "--------------------------"
      ]
     },
     "execution_count": 33,
     "metadata": {},
     "output_type": "execute_result"
    }
   ],
   "source": [
    "from cogent3 import load_aligned_seqs, load_tree\n",
    "from cogent3.evolve.models import get_model\n",
    "\n",
    "tree = load_tree(\"data/primate_brca1.tree\")\n",
    "aln = load_aligned_seqs(\"data/primate_brca1.fasta\")\n",
    "sm = get_model(\"F81\")\n",
    "lf = sm.make_likelihood_function(tree, digits=3, space=2)\n",
    "lf.set_alignment(aln)\n",
    "lf.set_param_rule(\n",
    "    \"length\",\n",
    "    tip_names=[\"Human\", \"Chimpanzee\"],\n",
    "    outgroup_name=\"Galago\",\n",
    "    clade=True,\n",
    "    is_independent=False,\n",
    ")\n",
    "lf.set_name(\"Null Hypothesis\")\n",
    "lf.optimise(local=True, show_progress=False)\n",
    "null_lnL = lf.lnL\n",
    "null_nfp = lf.nfp\n",
    "lf"
   ]
  },
  {
   "cell_type": "code",
   "execution_count": 34,
   "id": "07200b85",
   "metadata": {
    "execution": {
     "iopub.execute_input": "2023-12-15T00:08:05.504245Z",
     "iopub.status.busy": "2023-12-15T00:08:05.504182Z",
     "iopub.status.idle": "2023-12-15T00:08:05.555701Z",
     "shell.execute_reply": "2023-12-15T00:08:05.555387Z"
    }
   },
   "outputs": [
    {
     "data": {
      "text/html": [
       "<h4>Alt Hypothesis</h4>\n",
       "<p>log-likelihood = -7175.7756</p>\n",
       "<p>number of free parameters = 11</p>\n",
       "\n",
       "<div class=\"c3table\">\n",
       "\n",
       "<style>\n",
       ".c3table table {margin: 10px 0;}\n",
       ".c3table tr:last-child {border-bottom: 1px solid #000;} \n",
       ".c3table tr > th {text-align: left; padding: 0 5px;}\n",
       ".c3table tr > td {text-align: left; padding: 5px;}\n",
       ".c3table tr:nth-child(even) {background: #f7f7f7 !important;}\n",
       ".c3table .ellipsis {background: rgba(0, 0, 0, .01);}\n",
       ".c3table .index {background: rgba(161, 195, 209, 0.0); margin: 10px; font-weight: 600;}\n",
       ".c3table .head_cell {background: rgba(161, 195, 209, 0.75); font-weight: bold; text-align: center;}\n",
       ".c3table caption {color: rgb(250, 250, 250); background: rgba(30, 140, 200, 1); padding: 3px; white-space: nowrap; caption-side: top;}\n",
       ".c3table .cell_title {font-weight: bold;}\n",
       ".c3col_left { text-align: left !important; display: block;}\n",
       ".c3col_right { text-align: right !important; display: block;}\n",
       ".c3col_center { text-align: center !important; display: block;}\n",
       "</style>\n",
       "\n",
       "<table>\n",
       "\n",
       "<caption>\n",
       "<span class=\"cell_title\">Edge params</span>\n",
       "</caption>\n",
       "<thead class=\"head_cell\">\n",
       "<th>edge</th><th>parent</th><th>length</th>\n",
       "</thead>\n",
       "<tbody>\n",
       "<tr><td><span class=\"c3col_left\">Galago</span></td><td><span class=\"c3col_left\">root</span></td><td><span class=\"c3col_right\">0.167</span></td></tr>\n",
       "<tr><td><span class=\"c3col_left\">HowlerMon</span></td><td><span class=\"c3col_left\">root</span></td><td><span class=\"c3col_right\">0.044</span></td></tr>\n",
       "<tr><td><span class=\"c3col_left\">Rhesus</span></td><td><span class=\"c3col_left\">edge.3</span></td><td><span class=\"c3col_right\">0.021</span></td></tr>\n",
       "<tr><td><span class=\"c3col_left\">Orangutan</span></td><td><span class=\"c3col_left\">edge.2</span></td><td><span class=\"c3col_right\">0.008</span></td></tr>\n",
       "<tr><td><span class=\"c3col_left\">Gorilla</span></td><td><span class=\"c3col_left\">edge.1</span></td><td><span class=\"c3col_right\">0.002</span></td></tr>\n",
       "<tr><td><span class=\"c3col_left\">Human</span></td><td><span class=\"c3col_left\">edge.0</span></td><td><span class=\"c3col_right\">0.006</span></td></tr>\n",
       "<tr><td><span class=\"c3col_left\">Chimpanzee</span></td><td><span class=\"c3col_left\">edge.0</span></td><td><span class=\"c3col_right\">0.003</span></td></tr>\n",
       "<tr><td><span class=\"c3col_left\">edge.0</span></td><td><span class=\"c3col_left\">edge.1</span></td><td><span class=\"c3col_right\">0.000</span></td></tr>\n",
       "<tr><td><span class=\"c3col_left\">edge.1</span></td><td><span class=\"c3col_left\">edge.2</span></td><td><span class=\"c3col_right\">0.003</span></td></tr>\n",
       "<tr><td><span class=\"c3col_left\">edge.2</span></td><td><span class=\"c3col_left\">edge.3</span></td><td><span class=\"c3col_right\">0.012</span></td></tr>\n",
       "<tr><td><span class=\"c3col_left\">edge.3</span></td><td><span class=\"c3col_left\">root</span></td><td><span class=\"c3col_right\">0.009</span></td></tr>\n",
       "</tbody>\n",
       "</table>\n",
       "\n",
       "</div>\n",
       "\n",
       "<div class=\"c3table\">\n",
       "\n",
       "<style>\n",
       ".c3table table {margin: 10px 0;}\n",
       ".c3table tr:last-child {border-bottom: 1px solid #000;} \n",
       ".c3table tr > th {text-align: left; padding: 0 5px;}\n",
       ".c3table tr > td {text-align: left; padding: 5px;}\n",
       ".c3table tr:nth-child(even) {background: #f7f7f7 !important;}\n",
       ".c3table .ellipsis {background: rgba(0, 0, 0, .01);}\n",
       ".c3table .index {background: rgba(161, 195, 209, 0.0); margin: 10px; font-weight: 600;}\n",
       ".c3table .head_cell {background: rgba(161, 195, 209, 0.75); font-weight: bold; text-align: center;}\n",
       ".c3table caption {color: rgb(250, 250, 250); background: rgba(30, 140, 200, 1); padding: 3px; white-space: nowrap; caption-side: top;}\n",
       ".c3table .cell_title {font-weight: bold;}\n",
       ".c3col_left { text-align: left !important; display: block;}\n",
       ".c3col_right { text-align: right !important; display: block;}\n",
       ".c3col_center { text-align: center !important; display: block;}\n",
       "</style>\n",
       "\n",
       "<table>\n",
       "\n",
       "<caption>\n",
       "<span class=\"cell_title\">Motif params</span>\n",
       "</caption>\n",
       "<thead class=\"head_cell\">\n",
       "<th>A</th><th>C</th><th>G</th><th>T</th>\n",
       "</thead>\n",
       "<tbody>\n",
       "<tr><td><span class=\"c3col_right\">0.376</span></td><td><span class=\"c3col_right\">0.174</span></td><td><span class=\"c3col_right\">0.209</span></td><td><span class=\"c3col_right\">0.241</span></td></tr>\n",
       "</tbody>\n",
       "</table>\n",
       "\n",
       "</div>"
      ],
      "text/plain": [
       "Alt Hypothesis\n",
       "log-likelihood = -7175.7756\n",
       "number of free parameters = 11\n",
       "==========================\n",
       "edge        parent  length\n",
       "--------------------------\n",
       "Galago      root     0.167\n",
       "HowlerMon   root     0.044\n",
       "Rhesus      edge.3   0.021\n",
       "Orangutan   edge.2   0.008\n",
       "Gorilla     edge.1   0.002\n",
       "Human       edge.0   0.006\n",
       "Chimpanzee  edge.0   0.003\n",
       "edge.0      edge.1   0.000\n",
       "edge.1      edge.2   0.003\n",
       "edge.2      edge.3   0.012\n",
       "edge.3      root     0.009\n",
       "--------------------------\n",
       "==========================\n",
       "    A      C      G      T\n",
       "--------------------------\n",
       "0.376  0.174  0.209  0.241\n",
       "--------------------------"
      ]
     },
     "execution_count": 34,
     "metadata": {},
     "output_type": "execute_result"
    }
   ],
   "source": [
    "lf.set_param_rule(\"length\", is_independent=True)\n",
    "lf.set_name(\"Alt Hypothesis\")\n",
    "lf.optimise(local=True, show_progress=False)\n",
    "alt_lnL = lf.lnL\n",
    "alt_nfp = lf.nfp\n",
    "lf"
   ]
  },
  {
   "cell_type": "code",
   "execution_count": 35,
   "id": "843972e7",
   "metadata": {
    "execution": {
     "iopub.execute_input": "2023-12-15T00:08:05.557063Z",
     "iopub.status.busy": "2023-12-15T00:08:05.556988Z",
     "iopub.status.idle": "2023-12-15T00:08:05.559569Z",
     "shell.execute_reply": "2023-12-15T00:08:05.559285Z"
    }
   },
   "outputs": [
    {
     "name": "stdout",
     "output_type": "stream",
     "text": [
      "LR=3.3294 ; df=1; p=1.0000\n"
     ]
    }
   ],
   "source": [
    "from scipy.stats.distributions import chi2\n",
    "\n",
    "LR = 2 * (alt_lnL - null_lnL)  # the likelihood ratio statistic\n",
    "df = alt_nfp - null_nfp  # the test degrees of freedom\n",
    "p = chi2.sf(LR, df)\n",
    "print(f\"LR={LR:.4f} ; df={df}; p={df:.4f}\")"
   ]
  },
  {
   "cell_type": "code",
   "execution_count": 36,
   "id": "68983c28",
   "metadata": {
    "execution": {
     "iopub.execute_input": "2023-12-15T00:08:05.560886Z",
     "iopub.status.busy": "2023-12-15T00:08:05.560800Z",
     "iopub.status.idle": "2023-12-15T00:08:05.823566Z",
     "shell.execute_reply": "2023-12-15T00:08:05.823343Z"
    }
   },
   "outputs": [
    {
     "data": {
      "text/html": [
       "<style>\n",
       ".c3align table {margin: 10px 0;}\n",
       ".c3align td { border: none !important; text-align: left !important; }\n",
       ".c3align tr:not(.num_row) td span {margin: 0 2px;}\n",
       ".c3align tr:nth-child(even) {background: #f7f7f7;}\n",
       ".c3align .num_row {background-color:rgba(161, 195, 209, 0.5) !important; border-top: solid 1px black; }\n",
       ".c3align .label { font-size: 12pt ; text-align: right !important; color: black !important; padding: 0 4px; display: table-cell !important; font-weight: normal !important; }\n",
       ".c3align .T_dna{font-family: \"Lucida Console\",monospace !important; font-size: 12pt !important; color: blue; }\n",
       ".c3align .C_dna{font-family: \"Lucida Console\",monospace !important; font-size: 12pt !important; color: black; }\n",
       ".c3align .A_dna{font-family: \"Lucida Console\",monospace !important; font-size: 12pt !important; color: #FF0102; }\n",
       ".c3align .G_dna{font-family: \"Lucida Console\",monospace !important; font-size: 12pt !important; color: green; }\n",
       ".c3align .terminal_ambig_dna{font-family: \"Lucida Console\",monospace !important; font-size: 12pt !important; color: gray; }\n",
       ".c3align .ambig_dna{font-family: \"Lucida Console\",monospace !important; font-size: 12pt !important; color: gray; }\n",
       "</style>\n",
       "<div class=\"c3align\">\n",
       "<table>\n",
       "<tr class=\"num_row\"><td></td><td><b>0</b></td></tr>\n",
       "<tr><td class=\"label\">Chimpanzee</td><td><span class=\"A_dna\">A</span><span class=\"A_dna\">A</span><span class=\"A_dna\">A</span><span class=\"G_dna\">G</span><span class=\"G_dna\">G</span><span class=\"A_dna\">A</span><span class=\"G_dna\">G</span><span class=\"G_dna\">G</span><span class=\"T_dna\">T</span><span class=\"A_dna\">A</span><span class=\"C_dna\">C</span><span class=\"A_dna\">A</span><span class=\"T_dna\">T</span><span class=\"A_dna\">A</span><span class=\"A_dna\">A</span><span class=\"C_dna\">C</span><span class=\"A_dna\">A</span><span class=\"A_dna\">A</span><span class=\"A_dna\">A</span><span class=\"T_dna\">T</span><span class=\"T_dna\">T</span><span class=\"G_dna\">G</span><span class=\"A_dna\">A</span><span class=\"T_dna\">T</span><span class=\"C_dna\">C</span><span class=\"C_dna\">C</span><span class=\"A_dna\">A</span><span class=\"A_dna\">A</span><span class=\"A_dna\">A</span><span class=\"A_dna\">A</span><span class=\"A_dna\">A</span><span class=\"T_dna\">T</span><span class=\"T_dna\">T</span><span class=\"T_dna\">T</span><span class=\"T_dna\">T</span><span class=\"C_dna\">C</span><span class=\"T_dna\">T</span><span class=\"A_dna\">A</span><span class=\"C_dna\">C</span><span class=\"G_dna\">G</span><span class=\"G_dna\">G</span><span class=\"T_dna\">T</span><span class=\"C_dna\">C</span><span class=\"A_dna\">A</span><span class=\"G_dna\">G</span><span class=\"A_dna\">A</span><span class=\"G_dna\">G</span><span class=\"T_dna\">T</span><span class=\"A_dna\">A</span><span class=\"C_dna\">C</span><span class=\"A_dna\">A</span><span class=\"A_dna\">A</span><span class=\"C_dna\">C</span><span class=\"T_dna\">T</span><span class=\"C_dna\">C</span><span class=\"C_dna\">C</span><span class=\"A_dna\">A</span><span class=\"G_dna\">G</span><span class=\"A_dna\">A</span><span class=\"A_dna\">A</span></td></tr>\n",
       "<tr><td class=\"label\">Galago</td><td><span class=\"A_dna\">.</span><span class=\"A_dna\">.</span><span class=\"A_dna\">.</span><span class=\"G_dna\">.</span><span class=\"C_dna\">C</span><span class=\"A_dna\">.</span><span class=\"G_dna\">.</span><span class=\"G_dna\">.</span><span class=\"T_dna\">.</span><span class=\"A_dna\">.</span><span class=\"A_dna\">A</span><span class=\"A_dna\">.</span><span class=\"T_dna\">.</span><span class=\"C_dna\">C</span><span class=\"A_dna\">.</span><span class=\"C_dna\">.</span><span class=\"A_dna\">.</span><span class=\"A_dna\">.</span><span class=\"A_dna\">.</span><span class=\"T_dna\">.</span><span class=\"T_dna\">.</span><span class=\"T_dna\">T</span><span class=\"A_dna\">.</span><span class=\"T_dna\">.</span><span class=\"T_dna\">T</span><span class=\"C_dna\">.</span><span class=\"A_dna\">.</span><span class=\"A_dna\">.</span><span class=\"A_dna\">.</span><span class=\"T_dna\">T</span><span class=\"A_dna\">.</span><span class=\"T_dna\">.</span><span class=\"T_dna\">.</span><span class=\"T_dna\">.</span><span class=\"T_dna\">.</span><span class=\"C_dna\">.</span><span class=\"T_dna\">.</span><span class=\"T_dna\">T</span><span class=\"C_dna\">.</span><span class=\"G_dna\">.</span><span class=\"G_dna\">.</span><span class=\"C_dna\">C</span><span class=\"C_dna\">.</span><span class=\"A_dna\">.</span><span class=\"G_dna\">.</span><span class=\"A_dna\">.</span><span class=\"G_dna\">.</span><span class=\"T_dna\">.</span><span class=\"A_dna\">.</span><span class=\"C_dna\">.</span><span class=\"A_dna\">.</span><span class=\"C_dna\">C</span><span class=\"C_dna\">.</span><span class=\"T_dna\">.</span><span class=\"C_dna\">.</span><span class=\"C_dna\">.</span><span class=\"A_dna\">.</span><span class=\"G_dna\">.</span><span class=\"A_dna\">.</span><span class=\"A_dna\">.</span></td></tr>\n",
       "<tr><td class=\"label\">HowlerMon</td><td><span class=\"A_dna\">.</span><span class=\"A_dna\">.</span><span class=\"A_dna\">.</span><span class=\"G_dna\">.</span><span class=\"G_dna\">.</span><span class=\"A_dna\">.</span><span class=\"G_dna\">.</span><span class=\"G_dna\">.</span><span class=\"T_dna\">.</span><span class=\"A_dna\">.</span><span class=\"A_dna\">A</span><span class=\"A_dna\">.</span><span class=\"T_dna\">.</span><span class=\"A_dna\">.</span><span class=\"A_dna\">.</span><span class=\"C_dna\">.</span><span class=\"A_dna\">.</span><span class=\"A_dna\">.</span><span class=\"A_dna\">.</span><span class=\"T_dna\">.</span><span class=\"T_dna\">.</span><span class=\"G_dna\">.</span><span class=\"A_dna\">.</span><span class=\"T_dna\">.</span><span class=\"C_dna\">.</span><span class=\"A_dna\">A</span><span class=\"A_dna\">.</span><span class=\"A_dna\">.</span><span class=\"A_dna\">.</span><span class=\"G_dna\">G</span><span class=\"A_dna\">.</span><span class=\"T_dna\">.</span><span class=\"T_dna\">.</span><span class=\"T_dna\">.</span><span class=\"T_dna\">.</span><span class=\"C_dna\">.</span><span class=\"T_dna\">.</span><span class=\"A_dna\">.</span><span class=\"C_dna\">.</span><span class=\"G_dna\">.</span><span class=\"G_dna\">.</span><span class=\"T_dna\">.</span><span class=\"C_dna\">.</span><span class=\"A_dna\">.</span><span class=\"G_dna\">.</span><span class=\"A_dna\">.</span><span class=\"G_dna\">.</span><span class=\"T_dna\">.</span><span class=\"A_dna\">.</span><span class=\"C_dna\">.</span><span class=\"A_dna\">.</span><span class=\"C_dna\">C</span><span class=\"C_dna\">.</span><span class=\"T_dna\">.</span><span class=\"C_dna\">.</span><span class=\"C_dna\">.</span><span class=\"A_dna\">.</span><span class=\"G_dna\">.</span><span class=\"A_dna\">.</span><span class=\"A_dna\">.</span></td></tr>\n",
       "<tr><td class=\"label\">Rhesus</td><td><span class=\"A_dna\">.</span><span class=\"A_dna\">.</span><span class=\"A_dna\">.</span><span class=\"G_dna\">.</span><span class=\"G_dna\">.</span><span class=\"A_dna\">.</span><span class=\"G_dna\">.</span><span class=\"G_dna\">.</span><span class=\"T_dna\">.</span><span class=\"A_dna\">.</span><span class=\"A_dna\">A</span><span class=\"A_dna\">.</span><span class=\"T_dna\">.</span><span class=\"A_dna\">.</span><span class=\"A_dna\">.</span><span class=\"C_dna\">.</span><span class=\"A_dna\">.</span><span class=\"A_dna\">.</span><span class=\"A_dna\">.</span><span class=\"T_dna\">.</span><span class=\"T_dna\">.</span><span class=\"G_dna\">.</span><span class=\"A_dna\">.</span><span class=\"T_dna\">.</span><span class=\"C_dna\">.</span><span class=\"C_dna\">.</span><span class=\"A_dna\">.</span><span class=\"A_dna\">.</span><span class=\"A_dna\">.</span><span class=\"A_dna\">.</span><span class=\"C_dna\">C</span><span class=\"T_dna\">.</span><span class=\"T_dna\">.</span><span class=\"T_dna\">.</span><span class=\"T_dna\">.</span><span class=\"C_dna\">.</span><span class=\"T_dna\">.</span><span class=\"A_dna\">.</span><span class=\"C_dna\">.</span><span class=\"G_dna\">.</span><span class=\"G_dna\">.</span><span class=\"T_dna\">.</span><span class=\"C_dna\">.</span><span class=\"A_dna\">.</span><span class=\"G_dna\">.</span><span class=\"A_dna\">.</span><span class=\"G_dna\">.</span><span class=\"T_dna\">.</span><span class=\"A_dna\">.</span><span class=\"C_dna\">.</span><span class=\"A_dna\">.</span><span class=\"C_dna\">C</span><span class=\"C_dna\">.</span><span class=\"T_dna\">.</span><span class=\"C_dna\">.</span><span class=\"C_dna\">.</span><span class=\"A_dna\">.</span><span class=\"G_dna\">.</span><span class=\"A_dna\">.</span><span class=\"A_dna\">.</span></td></tr>\n",
       "<tr><td class=\"label\">Orangutan</td><td><span class=\"A_dna\">.</span><span class=\"A_dna\">.</span><span class=\"A_dna\">.</span><span class=\"G_dna\">.</span><span class=\"G_dna\">.</span><span class=\"A_dna\">.</span><span class=\"G_dna\">.</span><span class=\"G_dna\">.</span><span class=\"T_dna\">.</span><span class=\"A_dna\">.</span><span class=\"A_dna\">A</span><span class=\"A_dna\">.</span><span class=\"T_dna\">.</span><span class=\"A_dna\">.</span><span class=\"A_dna\">.</span><span class=\"C_dna\">.</span><span class=\"A_dna\">.</span><span class=\"A_dna\">.</span><span class=\"A_dna\">.</span><span class=\"T_dna\">.</span><span class=\"T_dna\">.</span><span class=\"G_dna\">.</span><span class=\"A_dna\">.</span><span class=\"T_dna\">.</span><span class=\"T_dna\">T</span><span class=\"C_dna\">.</span><span class=\"A_dna\">.</span><span class=\"A_dna\">.</span><span class=\"A_dna\">.</span><span class=\"A_dna\">.</span><span class=\"A_dna\">.</span><span class=\"T_dna\">.</span><span class=\"T_dna\">.</span><span class=\"T_dna\">.</span><span class=\"T_dna\">.</span><span class=\"C_dna\">.</span><span class=\"T_dna\">.</span><span class=\"A_dna\">.</span><span class=\"C_dna\">.</span><span class=\"G_dna\">.</span><span class=\"G_dna\">.</span><span class=\"T_dna\">.</span><span class=\"C_dna\">.</span><span class=\"A_dna\">.</span><span class=\"G_dna\">.</span><span class=\"A_dna\">.</span><span class=\"G_dna\">.</span><span class=\"T_dna\">.</span><span class=\"A_dna\">.</span><span class=\"C_dna\">.</span><span class=\"A_dna\">.</span><span class=\"A_dna\">.</span><span class=\"C_dna\">.</span><span class=\"T_dna\">.</span><span class=\"C_dna\">.</span><span class=\"C_dna\">.</span><span class=\"A_dna\">.</span><span class=\"G_dna\">.</span><span class=\"A_dna\">.</span><span class=\"A_dna\">.</span></td></tr>\n",
       "<tr><td class=\"label\">Gorilla</td><td><span class=\"A_dna\">.</span><span class=\"A_dna\">.</span><span class=\"A_dna\">.</span><span class=\"G_dna\">.</span><span class=\"G_dna\">.</span><span class=\"A_dna\">.</span><span class=\"G_dna\">.</span><span class=\"G_dna\">.</span><span class=\"T_dna\">.</span><span class=\"A_dna\">.</span><span class=\"C_dna\">.</span><span class=\"A_dna\">.</span><span class=\"T_dna\">.</span><span class=\"A_dna\">.</span><span class=\"A_dna\">.</span><span class=\"C_dna\">.</span><span class=\"A_dna\">.</span><span class=\"A_dna\">.</span><span class=\"A_dna\">.</span><span class=\"T_dna\">.</span><span class=\"T_dna\">.</span><span class=\"G_dna\">.</span><span class=\"A_dna\">.</span><span class=\"T_dna\">.</span><span class=\"C_dna\">.</span><span class=\"C_dna\">.</span><span class=\"A_dna\">.</span><span class=\"A_dna\">.</span><span class=\"A_dna\">.</span><span class=\"A_dna\">.</span><span class=\"A_dna\">.</span><span class=\"T_dna\">.</span><span class=\"T_dna\">.</span><span class=\"T_dna\">.</span><span class=\"T_dna\">.</span><span class=\"C_dna\">.</span><span class=\"T_dna\">.</span><span class=\"A_dna\">.</span><span class=\"C_dna\">.</span><span class=\"G_dna\">.</span><span class=\"G_dna\">.</span><span class=\"T_dna\">.</span><span class=\"C_dna\">.</span><span class=\"A_dna\">.</span><span class=\"G_dna\">.</span><span class=\"A_dna\">.</span><span class=\"G_dna\">.</span><span class=\"T_dna\">.</span><span class=\"A_dna\">.</span><span class=\"C_dna\">.</span><span class=\"A_dna\">.</span><span class=\"A_dna\">.</span><span class=\"C_dna\">.</span><span class=\"T_dna\">.</span><span class=\"C_dna\">.</span><span class=\"C_dna\">.</span><span class=\"A_dna\">.</span><span class=\"G_dna\">.</span><span class=\"A_dna\">.</span><span class=\"A_dna\">.</span></td></tr>\n",
       "<tr><td class=\"label\">Human</td><td><span class=\"A_dna\">.</span><span class=\"A_dna\">.</span><span class=\"A_dna\">.</span><span class=\"G_dna\">.</span><span class=\"G_dna\">.</span><span class=\"A_dna\">.</span><span class=\"G_dna\">.</span><span class=\"G_dna\">.</span><span class=\"T_dna\">.</span><span class=\"A_dna\">.</span><span class=\"C_dna\">.</span><span class=\"A_dna\">.</span><span class=\"T_dna\">.</span><span class=\"A_dna\">.</span><span class=\"A_dna\">.</span><span class=\"C_dna\">.</span><span class=\"A_dna\">.</span><span class=\"A_dna\">.</span><span class=\"A_dna\">.</span><span class=\"T_dna\">.</span><span class=\"T_dna\">.</span><span class=\"G_dna\">.</span><span class=\"A_dna\">.</span><span class=\"T_dna\">.</span><span class=\"C_dna\">.</span><span class=\"C_dna\">.</span><span class=\"A_dna\">.</span><span class=\"A_dna\">.</span><span class=\"A_dna\">.</span><span class=\"A_dna\">.</span><span class=\"A_dna\">.</span><span class=\"T_dna\">.</span><span class=\"T_dna\">.</span><span class=\"T_dna\">.</span><span class=\"T_dna\">.</span><span class=\"C_dna\">.</span><span class=\"T_dna\">.</span><span class=\"A_dna\">.</span><span class=\"C_dna\">.</span><span class=\"G_dna\">.</span><span class=\"G_dna\">.</span><span class=\"T_dna\">.</span><span class=\"C_dna\">.</span><span class=\"A_dna\">.</span><span class=\"G_dna\">.</span><span class=\"A_dna\">.</span><span class=\"G_dna\">.</span><span class=\"T_dna\">.</span><span class=\"A_dna\">.</span><span class=\"C_dna\">.</span><span class=\"A_dna\">.</span><span class=\"A_dna\">.</span><span class=\"C_dna\">.</span><span class=\"T_dna\">.</span><span class=\"C_dna\">.</span><span class=\"C_dna\">.</span><span class=\"A_dna\">.</span><span class=\"G_dna\">.</span><span class=\"A_dna\">.</span><span class=\"A_dna\">.</span></td></tr>\n",
       "</table>\n",
       "<p><i>7 x 60 dna alignment</i></p>\n",
       "</div>"
      ],
      "text/plain": [
       "7 x 60 alignment: Galago[AAAGCAGGTAA...], HowlerMon[AAAGGAGGTAA...], Rhesus[AAAGGAGGTAA...], ..."
      ]
     },
     "execution_count": 36,
     "metadata": {},
     "output_type": "execute_result"
    }
   ],
   "source": [
    "from cogent3 import load_aligned_seqs, load_tree\n",
    "from cogent3.evolve.models import get_model\n",
    "\n",
    "tree = load_tree(\"data/primate_brca1.tree\")\n",
    "aln = load_aligned_seqs(\"data/primate_brca1.fasta\")\n",
    "\n",
    "sm = get_model(\"F81\")\n",
    "lf = sm.make_likelihood_function(tree, digits=3, space=2)\n",
    "lf.set_alignment(aln)\n",
    "lf.set_param_rule(\n",
    "    \"length\",\n",
    "    tip_names=[\"Human\", \"Chimpanzee\"],\n",
    "    outgroup_name=\"Galago\",\n",
    "    clade=True,\n",
    "    is_independent=False,\n",
    ")\n",
    "lf.set_name(\"Null Hypothesis\")\n",
    "lf.optimise(local=True, show_progress=False)\n",
    "sim_aln = lf.simulate_alignment()\n",
    "sim_aln[:60]"
   ]
  },
  {
   "cell_type": "code",
   "execution_count": 37,
   "id": "93680f06",
   "metadata": {
    "execution": {
     "iopub.execute_input": "2023-12-15T00:08:05.824756Z",
     "iopub.status.busy": "2023-12-15T00:08:05.824685Z",
     "iopub.status.idle": "2023-12-15T00:08:05.945175Z",
     "shell.execute_reply": "2023-12-15T00:08:05.944966Z"
    }
   },
   "outputs": [
    {
     "name": "stdout",
     "output_type": "stream",
     "text": [
      "lo=3.78 ; mle=4.44 ; hi=5.22\n",
      "lo=0.00 ; mle=0.01 ; hi=0.01\n"
     ]
    }
   ],
   "source": [
    "from cogent3 import load_aligned_seqs, load_tree\n",
    "from cogent3.evolve.models import get_model\n",
    "\n",
    "tree = load_tree(\"data/primate_brca1.tree\")\n",
    "aln = load_aligned_seqs(\"data/primate_brca1.fasta\")\n",
    "sm = get_model(\"HKY85\")\n",
    "lf = sm.make_likelihood_function(tree)\n",
    "lf.set_alignment(aln)\n",
    "lf.optimise(local=True, show_progress=False)\n",
    "kappa_lo, kappa_mle, kappa_hi = lf.get_param_interval(\"kappa\")\n",
    "print(f\"lo={kappa_lo:.2f} ; mle={kappa_mle:.2f} ; hi={kappa_hi:.2f}\")\n",
    "human_lo, human_mle, human_hi = lf.get_param_interval(\"length\", \"Human\")\n",
    "print(f\"lo={human_lo:.2f} ; mle={human_mle:.2f} ; hi={human_hi:.2f}\")"
   ]
  },
  {
   "cell_type": "code",
   "execution_count": 38,
   "id": "686e4dc7",
   "metadata": {
    "execution": {
     "iopub.execute_input": "2023-12-15T00:08:05.946297Z",
     "iopub.status.busy": "2023-12-15T00:08:05.946232Z",
     "iopub.status.idle": "2023-12-15T00:08:05.956650Z",
     "shell.execute_reply": "2023-12-15T00:08:05.956358Z"
    }
   },
   "outputs": [
    {
     "data": {
      "text/plain": [
       "'{\"model\": {\"alphabet\": {\"motifset\": [\"T\", \"C\", \"A\", \"G\"], \"g'"
      ]
     },
     "execution_count": 38,
     "metadata": {},
     "output_type": "execute_result"
    }
   ],
   "source": [
    "from cogent3 import load_aligned_seqs, load_tree\n",
    "from cogent3.evolve.models import get_model\n",
    "\n",
    "aln = make_aligned_seqs(data=dict(a=\"ACGG\", b=\"ATAG\", c=\"ATGG\"))\n",
    "tree = make_tree(tip_names=aln.names)\n",
    "sm = get_model(\"F81\")\n",
    "lf = sm.make_likelihood_function(tree)\n",
    "lf.set_alignment(aln)\n",
    "json = lf.to_json()\n",
    "json[:60]  # just truncating the displayed string"
   ]
  },
  {
   "cell_type": "code",
   "execution_count": 39,
   "id": "453ea733",
   "metadata": {
    "execution": {
     "iopub.execute_input": "2023-12-15T00:08:05.957928Z",
     "iopub.status.busy": "2023-12-15T00:08:05.957863Z",
     "iopub.status.idle": "2023-12-15T00:08:05.964658Z",
     "shell.execute_reply": "2023-12-15T00:08:05.964415Z"
    }
   },
   "outputs": [
    {
     "data": {
      "text/html": [
       "<h4>F81</h4>\n",
       "<p>log-likelihood = -14.2727</p>\n",
       "<p>number of free parameters = 3</p>\n",
       "\n",
       "<div class=\"c3table\">\n",
       "\n",
       "<style>\n",
       ".c3table table {margin: 10px 0;}\n",
       ".c3table tr:last-child {border-bottom: 1px solid #000;} \n",
       ".c3table tr > th {text-align: left; padding: 0 5px;}\n",
       ".c3table tr > td {text-align: left; padding: 5px;}\n",
       ".c3table tr:nth-child(even) {background: #f7f7f7 !important;}\n",
       ".c3table .ellipsis {background: rgba(0, 0, 0, .01);}\n",
       ".c3table .index {background: rgba(161, 195, 209, 0.0); margin: 10px; font-weight: 600;}\n",
       ".c3table .head_cell {background: rgba(161, 195, 209, 0.75); font-weight: bold; text-align: center;}\n",
       ".c3table caption {color: rgb(250, 250, 250); background: rgba(30, 140, 200, 1); padding: 3px; white-space: nowrap; caption-side: top;}\n",
       ".c3table .cell_title {font-weight: bold;}\n",
       ".c3col_left { text-align: left !important; display: block;}\n",
       ".c3col_right { text-align: right !important; display: block;}\n",
       ".c3col_center { text-align: center !important; display: block;}\n",
       "</style>\n",
       "\n",
       "<table>\n",
       "\n",
       "<caption>\n",
       "<span class=\"cell_title\">Edge params</span>\n",
       "</caption>\n",
       "<thead class=\"head_cell\">\n",
       "<th>edge</th><th>parent</th><th>length</th>\n",
       "</thead>\n",
       "<tbody>\n",
       "<tr><td><span class=\"c3col_left\">a</span></td><td><span class=\"c3col_left\">root</span></td><td><span class=\"c3col_right\">1.0000</span></td></tr>\n",
       "<tr><td><span class=\"c3col_left\">b</span></td><td><span class=\"c3col_left\">root</span></td><td><span class=\"c3col_right\">1.0000</span></td></tr>\n",
       "<tr><td><span class=\"c3col_left\">c</span></td><td><span class=\"c3col_left\">root</span></td><td><span class=\"c3col_right\">1.0000</span></td></tr>\n",
       "</tbody>\n",
       "</table>\n",
       "\n",
       "</div>\n",
       "\n",
       "<div class=\"c3table\">\n",
       "\n",
       "<style>\n",
       ".c3table table {margin: 10px 0;}\n",
       ".c3table tr:last-child {border-bottom: 1px solid #000;} \n",
       ".c3table tr > th {text-align: left; padding: 0 5px;}\n",
       ".c3table tr > td {text-align: left; padding: 5px;}\n",
       ".c3table tr:nth-child(even) {background: #f7f7f7 !important;}\n",
       ".c3table .ellipsis {background: rgba(0, 0, 0, .01);}\n",
       ".c3table .index {background: rgba(161, 195, 209, 0.0); margin: 10px; font-weight: 600;}\n",
       ".c3table .head_cell {background: rgba(161, 195, 209, 0.75); font-weight: bold; text-align: center;}\n",
       ".c3table caption {color: rgb(250, 250, 250); background: rgba(30, 140, 200, 1); padding: 3px; white-space: nowrap; caption-side: top;}\n",
       ".c3table .cell_title {font-weight: bold;}\n",
       ".c3col_left { text-align: left !important; display: block;}\n",
       ".c3col_right { text-align: right !important; display: block;}\n",
       ".c3col_center { text-align: center !important; display: block;}\n",
       "</style>\n",
       "\n",
       "<table>\n",
       "\n",
       "<caption>\n",
       "<span class=\"cell_title\">Motif params</span>\n",
       "</caption>\n",
       "<thead class=\"head_cell\">\n",
       "<th>A</th><th>C</th><th>G</th><th>T</th>\n",
       "</thead>\n",
       "<tbody>\n",
       "<tr><td><span class=\"c3col_right\">0.3333</span></td><td><span class=\"c3col_right\">0.0833</span></td><td><span class=\"c3col_right\">0.4167</span></td><td><span class=\"c3col_right\">0.1667</span></td></tr>\n",
       "</tbody>\n",
       "</table>\n",
       "\n",
       "</div>"
      ],
      "text/plain": [
       "F81\n",
       "log-likelihood = -14.2727\n",
       "number of free parameters = 3\n",
       "========================\n",
       "edge    parent    length\n",
       "------------------------\n",
       "a       root      1.0000\n",
       "b       root      1.0000\n",
       "c       root      1.0000\n",
       "------------------------\n",
       "====================================\n",
       "     A         C         G         T\n",
       "------------------------------------\n",
       "0.3333    0.0833    0.4167    0.1667\n",
       "------------------------------------"
      ]
     },
     "execution_count": 39,
     "metadata": {},
     "output_type": "execute_result"
    }
   ],
   "source": [
    "from cogent3.util.deserialise import deserialise_object\n",
    "\n",
    "newlf = deserialise_object(json)\n",
    "newlf"
   ]
  },
  {
   "cell_type": "code",
   "execution_count": 40,
   "id": "2c22201f",
   "metadata": {
    "execution": {
     "iopub.execute_input": "2023-12-15T00:08:05.965750Z",
     "iopub.status.busy": "2023-12-15T00:08:05.965689Z",
     "iopub.status.idle": "2023-12-15T00:08:06.039058Z",
     "shell.execute_reply": "2023-12-15T00:08:06.038812Z"
    }
   },
   "outputs": [],
   "source": [
    "from cogent3 import load_aligned_seqs, load_tree\n",
    "from cogent3.evolve.models import get_model\n",
    "\n",
    "tree = load_tree(\"data/primate_brca1.tree\")\n",
    "aln = load_aligned_seqs(\"data/primate_brca1.fasta\")\n",
    "sm = get_model(\"F81\")\n",
    "lf = sm.make_likelihood_function(tree, digits=3, space=2)\n",
    "lf.set_alignment(aln)\n",
    "lf.optimise(show_progress=False)"
   ]
  },
  {
   "cell_type": "code",
   "execution_count": 41,
   "id": "f601cd73",
   "metadata": {
    "execution": {
     "iopub.execute_input": "2023-12-15T00:08:06.040439Z",
     "iopub.status.busy": "2023-12-15T00:08:06.040368Z",
     "iopub.status.idle": "2023-12-15T00:08:06.105090Z",
     "shell.execute_reply": "2023-12-15T00:08:06.104831Z"
    }
   },
   "outputs": [
    {
     "data": {
      "text/html": [
       "<style>\n",
       ".c3align table {margin: 10px 0;}\n",
       ".c3align td { border: none !important; text-align: left !important; }\n",
       ".c3align tr:not(.num_row) td span {margin: 0 2px;}\n",
       ".c3align tr:nth-child(even) {background: #f7f7f7;}\n",
       ".c3align .num_row {background-color:rgba(161, 195, 209, 0.5) !important; border-top: solid 1px black; }\n",
       ".c3align .label { font-size: 12pt ; text-align: right !important; color: black !important; padding: 0 4px; display: table-cell !important; font-weight: normal !important; }\n",
       ".c3align .T_dna{font-family: \"Lucida Console\",monospace !important; font-size: 12pt !important; color: blue; }\n",
       ".c3align .C_dna{font-family: \"Lucida Console\",monospace !important; font-size: 12pt !important; color: black; }\n",
       ".c3align .A_dna{font-family: \"Lucida Console\",monospace !important; font-size: 12pt !important; color: #FF0102; }\n",
       ".c3align .G_dna{font-family: \"Lucida Console\",monospace !important; font-size: 12pt !important; color: green; }\n",
       ".c3align .terminal_ambig_dna{font-family: \"Lucida Console\",monospace !important; font-size: 12pt !important; color: gray; }\n",
       ".c3align .ambig_dna{font-family: \"Lucida Console\",monospace !important; font-size: 12pt !important; color: gray; }\n",
       "</style>\n",
       "<div class=\"c3align\">\n",
       "<table>\n",
       "<tr class=\"num_row\"><td></td><td><b>0</b></td></tr>\n",
       "<tr><td class=\"label\">edge.0</td><td><span class=\"T_dna\">T</span><span class=\"G_dna\">G</span><span class=\"T_dna\">T</span><span class=\"G_dna\">G</span><span class=\"G_dna\">G</span><span class=\"C_dna\">C</span><span class=\"A_dna\">A</span><span class=\"C_dna\">C</span><span class=\"A_dna\">A</span><span class=\"A_dna\">A</span><span class=\"A_dna\">A</span><span class=\"T_dna\">T</span><span class=\"A_dna\">A</span><span class=\"C_dna\">C</span><span class=\"T_dna\">T</span><span class=\"C_dna\">C</span><span class=\"A_dna\">A</span><span class=\"T_dna\">T</span><span class=\"G_dna\">G</span><span class=\"C_dna\">C</span><span class=\"C_dna\">C</span><span class=\"A_dna\">A</span><span class=\"G_dna\">G</span><span class=\"C_dna\">C</span><span class=\"T_dna\">T</span><span class=\"C_dna\">C</span><span class=\"A_dna\">A</span><span class=\"T_dna\">T</span><span class=\"T_dna\">T</span><span class=\"A_dna\">A</span><span class=\"C_dna\">C</span><span class=\"A_dna\">A</span><span class=\"G_dna\">G</span><span class=\"C_dna\">C</span><span class=\"A_dna\">A</span><span class=\"T_dna\">T</span><span class=\"G_dna\">G</span><span class=\"A_dna\">A</span><span class=\"G_dna\">G</span><span class=\"A_dna\">A</span><span class=\"A_dna\">A</span><span class=\"C_dna\">C</span><span class=\"A_dna\">A</span><span class=\"G_dna\">G</span><span class=\"T_dna\">T</span><span class=\"T_dna\">T</span><span class=\"T_dna\">T</span><span class=\"A_dna\">A</span><span class=\"T_dna\">T</span><span class=\"T_dna\">T</span><span class=\"A_dna\">A</span><span class=\"C_dna\">C</span><span class=\"T_dna\">T</span><span class=\"C_dna\">C</span><span class=\"A_dna\">A</span><span class=\"C_dna\">C</span><span class=\"T_dna\">T</span><span class=\"A_dna\">A</span><span class=\"A_dna\">A</span><span class=\"A_dna\">A</span></td></tr>\n",
       "<tr><td class=\"label\">edge.1</td><td><span class=\"T_dna\">.</span><span class=\"G_dna\">.</span><span class=\"T_dna\">.</span><span class=\"G_dna\">.</span><span class=\"G_dna\">.</span><span class=\"C_dna\">.</span><span class=\"A_dna\">.</span><span class=\"C_dna\">.</span><span class=\"A_dna\">.</span><span class=\"A_dna\">.</span><span class=\"A_dna\">.</span><span class=\"T_dna\">.</span><span class=\"A_dna\">.</span><span class=\"C_dna\">.</span><span class=\"T_dna\">.</span><span class=\"C_dna\">.</span><span class=\"A_dna\">.</span><span class=\"T_dna\">.</span><span class=\"G_dna\">.</span><span class=\"C_dna\">.</span><span class=\"C_dna\">.</span><span class=\"A_dna\">.</span><span class=\"G_dna\">.</span><span class=\"C_dna\">.</span><span class=\"T_dna\">.</span><span class=\"C_dna\">.</span><span class=\"A_dna\">.</span><span class=\"T_dna\">.</span><span class=\"T_dna\">.</span><span class=\"A_dna\">.</span><span class=\"C_dna\">.</span><span class=\"A_dna\">.</span><span class=\"G_dna\">.</span><span class=\"C_dna\">.</span><span class=\"A_dna\">.</span><span class=\"T_dna\">.</span><span class=\"G_dna\">.</span><span class=\"A_dna\">.</span><span class=\"G_dna\">.</span><span class=\"A_dna\">.</span><span class=\"A_dna\">.</span><span class=\"C_dna\">.</span><span class=\"A_dna\">.</span><span class=\"G_dna\">.</span><span class=\"T_dna\">.</span><span class=\"T_dna\">.</span><span class=\"T_dna\">.</span><span class=\"A_dna\">.</span><span class=\"T_dna\">.</span><span class=\"T_dna\">.</span><span class=\"A_dna\">.</span><span class=\"C_dna\">.</span><span class=\"T_dna\">.</span><span class=\"C_dna\">.</span><span class=\"A_dna\">.</span><span class=\"C_dna\">.</span><span class=\"T_dna\">.</span><span class=\"A_dna\">.</span><span class=\"A_dna\">.</span><span class=\"A_dna\">.</span></td></tr>\n",
       "<tr><td class=\"label\">edge.2</td><td><span class=\"T_dna\">.</span><span class=\"G_dna\">.</span><span class=\"T_dna\">.</span><span class=\"G_dna\">.</span><span class=\"G_dna\">.</span><span class=\"C_dna\">.</span><span class=\"A_dna\">.</span><span class=\"C_dna\">.</span><span class=\"A_dna\">.</span><span class=\"A_dna\">.</span><span class=\"A_dna\">.</span><span class=\"T_dna\">.</span><span class=\"A_dna\">.</span><span class=\"C_dna\">.</span><span class=\"T_dna\">.</span><span class=\"C_dna\">.</span><span class=\"A_dna\">.</span><span class=\"T_dna\">.</span><span class=\"G_dna\">.</span><span class=\"C_dna\">.</span><span class=\"C_dna\">.</span><span class=\"A_dna\">.</span><span class=\"G_dna\">.</span><span class=\"C_dna\">.</span><span class=\"T_dna\">.</span><span class=\"C_dna\">.</span><span class=\"A_dna\">.</span><span class=\"T_dna\">.</span><span class=\"T_dna\">.</span><span class=\"A_dna\">.</span><span class=\"C_dna\">.</span><span class=\"A_dna\">.</span><span class=\"G_dna\">.</span><span class=\"C_dna\">.</span><span class=\"A_dna\">.</span><span class=\"T_dna\">.</span><span class=\"G_dna\">.</span><span class=\"A_dna\">.</span><span class=\"G_dna\">.</span><span class=\"A_dna\">.</span><span class=\"A_dna\">.</span><span class=\"C_dna\">.</span><span class=\"A_dna\">.</span><span class=\"G_dna\">.</span><span class=\"T_dna\">.</span><span class=\"T_dna\">.</span><span class=\"T_dna\">.</span><span class=\"A_dna\">.</span><span class=\"T_dna\">.</span><span class=\"T_dna\">.</span><span class=\"A_dna\">.</span><span class=\"C_dna\">.</span><span class=\"T_dna\">.</span><span class=\"C_dna\">.</span><span class=\"A_dna\">.</span><span class=\"C_dna\">.</span><span class=\"T_dna\">.</span><span class=\"A_dna\">.</span><span class=\"A_dna\">.</span><span class=\"A_dna\">.</span></td></tr>\n",
       "<tr><td class=\"label\">edge.3</td><td><span class=\"T_dna\">.</span><span class=\"G_dna\">.</span><span class=\"T_dna\">.</span><span class=\"G_dna\">.</span><span class=\"G_dna\">.</span><span class=\"C_dna\">.</span><span class=\"A_dna\">.</span><span class=\"C_dna\">.</span><span class=\"A_dna\">.</span><span class=\"A_dna\">.</span><span class=\"A_dna\">.</span><span class=\"T_dna\">.</span><span class=\"A_dna\">.</span><span class=\"C_dna\">.</span><span class=\"T_dna\">.</span><span class=\"C_dna\">.</span><span class=\"A_dna\">.</span><span class=\"T_dna\">.</span><span class=\"G_dna\">.</span><span class=\"C_dna\">.</span><span class=\"C_dna\">.</span><span class=\"A_dna\">.</span><span class=\"G_dna\">.</span><span class=\"C_dna\">.</span><span class=\"T_dna\">.</span><span class=\"C_dna\">.</span><span class=\"A_dna\">.</span><span class=\"T_dna\">.</span><span class=\"T_dna\">.</span><span class=\"A_dna\">.</span><span class=\"C_dna\">.</span><span class=\"A_dna\">.</span><span class=\"G_dna\">.</span><span class=\"C_dna\">.</span><span class=\"A_dna\">.</span><span class=\"T_dna\">.</span><span class=\"G_dna\">.</span><span class=\"A_dna\">.</span><span class=\"G_dna\">.</span><span class=\"A_dna\">.</span><span class=\"A_dna\">.</span><span class=\"C_dna\">.</span><span class=\"A_dna\">.</span><span class=\"G_dna\">.</span><span class=\"T_dna\">.</span><span class=\"T_dna\">.</span><span class=\"T_dna\">.</span><span class=\"G_dna\">G</span><span class=\"T_dna\">.</span><span class=\"T_dna\">.</span><span class=\"A_dna\">.</span><span class=\"C_dna\">.</span><span class=\"T_dna\">.</span><span class=\"C_dna\">.</span><span class=\"A_dna\">.</span><span class=\"C_dna\">.</span><span class=\"T_dna\">.</span><span class=\"A_dna\">.</span><span class=\"A_dna\">.</span><span class=\"A_dna\">.</span></td></tr>\n",
       "<tr><td class=\"label\">root</td><td><span class=\"T_dna\">.</span><span class=\"G_dna\">.</span><span class=\"T_dna\">.</span><span class=\"G_dna\">.</span><span class=\"G_dna\">.</span><span class=\"C_dna\">.</span><span class=\"A_dna\">.</span><span class=\"C_dna\">.</span><span class=\"A_dna\">.</span><span class=\"A_dna\">.</span><span class=\"A_dna\">.</span><span class=\"T_dna\">.</span><span class=\"A_dna\">.</span><span class=\"C_dna\">.</span><span class=\"T_dna\">.</span><span class=\"C_dna\">.</span><span class=\"A_dna\">.</span><span class=\"T_dna\">.</span><span class=\"G_dna\">.</span><span class=\"C_dna\">.</span><span class=\"C_dna\">.</span><span class=\"A_dna\">.</span><span class=\"G_dna\">.</span><span class=\"C_dna\">.</span><span class=\"T_dna\">.</span><span class=\"C_dna\">.</span><span class=\"A_dna\">.</span><span class=\"T_dna\">.</span><span class=\"T_dna\">.</span><span class=\"A_dna\">.</span><span class=\"C_dna\">.</span><span class=\"A_dna\">.</span><span class=\"G_dna\">.</span><span class=\"C_dna\">.</span><span class=\"A_dna\">.</span><span class=\"T_dna\">.</span><span class=\"G_dna\">.</span><span class=\"A_dna\">.</span><span class=\"G_dna\">.</span><span class=\"A_dna\">.</span><span class=\"A_dna\">.</span><span class=\"C_dna\">.</span><span class=\"A_dna\">.</span><span class=\"G_dna\">.</span><span class=\"T_dna\">.</span><span class=\"T_dna\">.</span><span class=\"T_dna\">.</span><span class=\"G_dna\">G</span><span class=\"T_dna\">.</span><span class=\"T_dna\">.</span><span class=\"A_dna\">.</span><span class=\"C_dna\">.</span><span class=\"T_dna\">.</span><span class=\"C_dna\">.</span><span class=\"A_dna\">.</span><span class=\"C_dna\">.</span><span class=\"T_dna\">.</span><span class=\"A_dna\">.</span><span class=\"A_dna\">.</span><span class=\"A_dna\">.</span></td></tr>\n",
       "</table>\n",
       "<p><i>5 x 60 dna alignment</i></p>\n",
       "</div>"
      ],
      "text/plain": [
       "5 x 60 alignment: edge.0[TGTGGCACAAA...], edge.1[TGTGGCACAAA...], edge.2[TGTGGCACAAA...], ..."
      ]
     },
     "execution_count": 41,
     "metadata": {},
     "output_type": "execute_result"
    }
   ],
   "source": [
    "ancestors = lf.likely_ancestral_seqs()\n",
    "ancestors[:60]"
   ]
  },
  {
   "cell_type": "code",
   "execution_count": 42,
   "id": "f42e8a3d",
   "metadata": {
    "execution": {
     "iopub.execute_input": "2023-12-15T00:08:06.106444Z",
     "iopub.status.busy": "2023-12-15T00:08:06.106334Z",
     "iopub.status.idle": "2023-12-15T00:08:06.111820Z",
     "shell.execute_reply": "2023-12-15T00:08:06.111557Z"
    }
   },
   "outputs": [
    {
     "data": {
      "text/html": [
       "\n",
       "<div class=\"c3table\">\n",
       "\n",
       "<style>\n",
       ".c3table table {margin: 10px 0;}\n",
       ".c3table tr:last-child {border-bottom: 1px solid #000;} \n",
       ".c3table tr > th {text-align: left; padding: 0 5px;}\n",
       ".c3table tr > td {text-align: left; padding: 5px;}\n",
       ".c3table tr:nth-child(even) {background: #f7f7f7 !important;}\n",
       ".c3table .ellipsis {background: rgba(0, 0, 0, .01);}\n",
       ".c3table .index {background: rgba(161, 195, 209, 0.25); margin: 10px; font-weight: 600;}\n",
       ".c3table .head_cell {background: rgba(161, 195, 209, 0.75); font-weight: bold; text-align: center;}\n",
       ".c3table caption {color: rgb(250, 250, 250); background: rgba(30, 140, 200, 1); padding: 3px; white-space: nowrap; caption-side: top;}\n",
       ".c3table .cell_title {font-weight: bold;}\n",
       ".c3col_left { text-align: left !important; display: block;}\n",
       ".c3col_right { text-align: right !important; display: block;}\n",
       ".c3col_center { text-align: center !important; display: block;}\n",
       "</style>\n",
       "\n",
       "<table>\n",
       "\n",
       "<thead class=\"head_cell\">\n",
       "<th></th><th>T</th><th>C</th><th>A</th><th>G</th>\n",
       "</thead>\n",
       "<tbody>\n",
       "<tr><td class=\"index\"><span class=\"c3col_right\">0</span></td><td><span class=\"c3col_right\">0.1816</span></td><td><span class=\"c3col_right\">0.0000</span></td><td><span class=\"c3col_right\">0.0000</span></td><td><span class=\"c3col_right\">0.0000</span></td></tr>\n",
       "<tr><td class=\"index\"><span class=\"c3col_right\">1</span></td><td><span class=\"c3col_right\">0.0000</span></td><td><span class=\"c3col_right\">0.0000</span></td><td><span class=\"c3col_right\">0.0000</span></td><td><span class=\"c3col_right\">0.1561</span></td></tr>\n",
       "<tr><td class=\"index\"><span class=\"c3col_right\">2</span></td><td><span class=\"c3col_right\">0.1816</span></td><td><span class=\"c3col_right\">0.0000</span></td><td><span class=\"c3col_right\">0.0000</span></td><td><span class=\"c3col_right\">0.0000</span></td></tr>\n",
       "<tr><td class=\"index\"><span class=\"c3col_right\">3</span></td><td><span class=\"c3col_right\">0.0000</span></td><td><span class=\"c3col_right\">0.0000</span></td><td><span class=\"c3col_right\">0.0000</span></td><td><span class=\"c3col_right\">0.1561</span></td></tr>\n",
       "<tr><td class=\"index\"><span class=\"c3col_right\">4</span></td><td><span class=\"c3col_right\">0.0000</span></td><td><span class=\"c3col_right\">0.0000</span></td><td><span class=\"c3col_right\">0.0000</span></td><td><span class=\"c3col_right\">0.1561</span></td></tr>\n",
       "</tbody>\n",
       "</table>\n",
       "\n",
       "</div>"
      ],
      "text/plain": [
       "=========================================\n",
       "          T         C         A         G\n",
       "-----------------------------------------\n",
       "0    0.1816    0.0000    0.0000    0.0000\n",
       "1    0.0000    0.0000    0.0000    0.1561\n",
       "2    0.1816    0.0000    0.0000    0.0000\n",
       "3    0.0000    0.0000    0.0000    0.1561\n",
       "4    0.0000    0.0000    0.0000    0.1561\n",
       "-----------------------------------------"
      ]
     },
     "execution_count": 42,
     "metadata": {},
     "output_type": "execute_result"
    }
   ],
   "source": [
    "ancestral_probs = lf.reconstruct_ancestral_seqs()\n",
    "ancestral_probs[\"root\"][:5]"
   ]
  }
 ],
 "metadata": {
  "kernelspec": {
   "display_name": "Python 3 (ipykernel)",
   "language": "python",
   "name": "python3"
  },
  "language_info": {
   "codemirror_mode": {
    "name": "ipython",
    "version": 3
   },
   "file_extension": ".py",
   "mimetype": "text/x-python",
   "name": "python",
   "nbconvert_exporter": "python",
   "pygments_lexer": "ipython3",
   "version": "3.11.6"
  }
 },
 "nbformat": 4,
 "nbformat_minor": 5
}