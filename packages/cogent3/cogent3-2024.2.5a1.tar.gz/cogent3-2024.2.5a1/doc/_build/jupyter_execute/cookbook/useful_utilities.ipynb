{
 "cells": [
  {
   "cell_type": "code",
   "execution_count": 1,
   "id": "081ddca3",
   "metadata": {
    "execution": {
     "iopub.execute_input": "2023-12-15T00:09:06.356830Z",
     "iopub.status.busy": "2023-12-15T00:09:06.356460Z",
     "iopub.status.idle": "2023-12-15T00:09:07.491325Z",
     "shell.execute_reply": "2023-12-15T00:09:07.491012Z"
    }
   },
   "outputs": [
    {
     "data": {
      "text/plain": [
       "2"
      ]
     },
     "execution_count": 1,
     "metadata": {},
     "output_type": "execute_result"
    }
   ],
   "source": [
    "from cogent3.util.union_dict import UnionDict\n",
    "\n",
    "data = UnionDict(a=2, b={\"c\": 24, \"d\": [25]})\n",
    "data.a"
   ]
  },
  {
   "cell_type": "code",
   "execution_count": 2,
   "id": "4bde299c",
   "metadata": {
    "execution": {
     "iopub.execute_input": "2023-12-15T00:09:07.492813Z",
     "iopub.status.busy": "2023-12-15T00:09:07.492683Z",
     "iopub.status.idle": "2023-12-15T00:09:07.494759Z",
     "shell.execute_reply": "2023-12-15T00:09:07.494531Z"
    }
   },
   "outputs": [
    {
     "data": {
      "text/plain": [
       "2"
      ]
     },
     "execution_count": 2,
     "metadata": {},
     "output_type": "execute_result"
    }
   ],
   "source": [
    "data[\"a\"]"
   ]
  },
  {
   "cell_type": "code",
   "execution_count": 3,
   "id": "ab0b9ac1",
   "metadata": {
    "execution": {
     "iopub.execute_input": "2023-12-15T00:09:07.495925Z",
     "iopub.status.busy": "2023-12-15T00:09:07.495838Z",
     "iopub.status.idle": "2023-12-15T00:09:07.497615Z",
     "shell.execute_reply": "2023-12-15T00:09:07.497384Z"
    }
   },
   "outputs": [
    {
     "data": {
      "text/plain": [
       "[25]"
      ]
     },
     "execution_count": 3,
     "metadata": {},
     "output_type": "execute_result"
    }
   ],
   "source": [
    "data.b.d"
   ]
  },
  {
   "cell_type": "code",
   "execution_count": 4,
   "id": "a36b50f8",
   "metadata": {
    "execution": {
     "iopub.execute_input": "2023-12-15T00:09:07.498768Z",
     "iopub.status.busy": "2023-12-15T00:09:07.498701Z",
     "iopub.status.idle": "2023-12-15T00:09:07.501022Z",
     "shell.execute_reply": "2023-12-15T00:09:07.500800Z"
    }
   },
   "outputs": [
    {
     "data": {
      "text/plain": [
       "{'c': 24, 'd': 25}"
      ]
     },
     "execution_count": 4,
     "metadata": {},
     "output_type": "execute_result"
    }
   ],
   "source": [
    "from cogent3.util.union_dict import UnionDict\n",
    "\n",
    "data = UnionDict(a=2, b={\"c\": 24, \"d\": [25]})\n",
    "data.b |= {\"d\": 25}\n",
    "data.b"
   ]
  },
  {
   "cell_type": "code",
   "execution_count": 5,
   "id": "d669940d",
   "metadata": {
    "execution": {
     "iopub.execute_input": "2023-12-15T00:09:07.502161Z",
     "iopub.status.busy": "2023-12-15T00:09:07.502095Z",
     "iopub.status.idle": "2023-12-15T00:09:07.503669Z",
     "shell.execute_reply": "2023-12-15T00:09:07.503437Z"
    }
   },
   "outputs": [],
   "source": [
    "data.b.union({\"d\": [25]})"
   ]
  },
  {
   "cell_type": "code",
   "execution_count": 6,
   "id": "fbf78fff",
   "metadata": {
    "execution": {
     "iopub.execute_input": "2023-12-15T00:09:07.504836Z",
     "iopub.status.busy": "2023-12-15T00:09:07.504766Z",
     "iopub.status.idle": "2023-12-15T00:09:07.506794Z",
     "shell.execute_reply": "2023-12-15T00:09:07.506581Z"
    }
   },
   "outputs": [
    {
     "data": {
      "text/plain": [
       "{'c': 24, 'd': [25]}"
      ]
     },
     "execution_count": 6,
     "metadata": {},
     "output_type": "execute_result"
    }
   ],
   "source": [
    "data.b\n",
    "{\"c\": 24, \"d\": [25]}"
   ]
  },
  {
   "cell_type": "code",
   "execution_count": 7,
   "id": "ce50209b",
   "metadata": {
    "execution": {
     "iopub.execute_input": "2023-12-15T00:09:07.507895Z",
     "iopub.status.busy": "2023-12-15T00:09:07.507826Z",
     "iopub.status.idle": "2023-12-15T00:09:07.609630Z",
     "shell.execute_reply": "2023-12-15T00:09:07.609412Z"
    }
   },
   "outputs": [
    {
     "ename": "KeyError",
     "evalue": "'k'",
     "output_type": "error",
     "traceback": [
      "\u001b[0;31m---------------------------------------------------------------------------\u001b[0m",
      "\u001b[0;31mKeyError\u001b[0m                                  Traceback (most recent call last)",
      "Cell \u001b[0;32mIn[7], line 4\u001b[0m\n\u001b[1;32m      1\u001b[0m \u001b[38;5;28;01mfrom\u001b[39;00m \u001b[38;5;21;01mcogent3\u001b[39;00m\u001b[38;5;21;01m.\u001b[39;00m\u001b[38;5;21;01mutil\u001b[39;00m\u001b[38;5;21;01m.\u001b[39;00m\u001b[38;5;21;01munion_dict\u001b[39;00m \u001b[38;5;28;01mimport\u001b[39;00m UnionDict\n\u001b[1;32m      3\u001b[0m data \u001b[38;5;241m=\u001b[39m UnionDict(a\u001b[38;5;241m=\u001b[39m\u001b[38;5;241m2\u001b[39m, b\u001b[38;5;241m=\u001b[39m{\u001b[38;5;124m\"\u001b[39m\u001b[38;5;124mc\u001b[39m\u001b[38;5;124m\"\u001b[39m: \u001b[38;5;241m24\u001b[39m, \u001b[38;5;124m\"\u001b[39m\u001b[38;5;124md\u001b[39m\u001b[38;5;124m\"\u001b[39m: [\u001b[38;5;241m25\u001b[39m]})\n\u001b[0;32m----> 4\u001b[0m \u001b[43mdata\u001b[49m\u001b[43m[\u001b[49m\u001b[38;5;124;43m\"\u001b[39;49m\u001b[38;5;124;43mk\u001b[39;49m\u001b[38;5;124;43m\"\u001b[39;49m\u001b[43m]\u001b[49m\n",
      "\u001b[0;31mKeyError\u001b[0m: 'k'"
     ]
    }
   ],
   "source": [
    "from cogent3.util.union_dict import UnionDict\n",
    "\n",
    "data = UnionDict(a=2, b={\"c\": 24, \"d\": [25]})\n",
    "data[\"k\"]"
   ]
  },
  {
   "cell_type": "code",
   "execution_count": 8,
   "id": "73f7d4b7",
   "metadata": {
    "execution": {
     "iopub.execute_input": "2023-12-15T00:09:07.610821Z",
     "iopub.status.busy": "2023-12-15T00:09:07.610746Z",
     "iopub.status.idle": "2023-12-15T00:09:07.625732Z",
     "shell.execute_reply": "2023-12-15T00:09:07.625498Z"
    }
   },
   "outputs": [
    {
     "ename": "AttributeError",
     "evalue": "'k' not a key or attribute",
     "output_type": "error",
     "traceback": [
      "\u001b[0;31m---------------------------------------------------------------------------\u001b[0m",
      "\u001b[0;31mAttributeError\u001b[0m                            Traceback (most recent call last)",
      "File \u001b[0;32m~/miniconda3/envs/c311/lib/python3.11/site-packages/cogent3/util/union_dict.py:36\u001b[0m, in \u001b[0;36mUnionDict.__getattr__\u001b[0;34m(self, item)\u001b[0m\n\u001b[1;32m     35\u001b[0m \u001b[38;5;28;01mtry\u001b[39;00m:\n\u001b[0;32m---> 36\u001b[0m     \u001b[38;5;28;01mreturn\u001b[39;00m \u001b[38;5;28;43msuper\u001b[39;49m\u001b[43m(\u001b[49m\u001b[43m)\u001b[49m\u001b[38;5;241;43m.\u001b[39;49m\u001b[38;5;21;43m__getattr__\u001b[39;49m(item)\n\u001b[1;32m     37\u001b[0m \u001b[38;5;28;01mexcept\u001b[39;00m \u001b[38;5;167;01mAttributeError\u001b[39;00m:\n",
      "\u001b[0;31mAttributeError\u001b[0m: 'super' object has no attribute '__getattr__'",
      "\nDuring handling of the above exception, another exception occurred:\n",
      "\u001b[0;31mAttributeError\u001b[0m                            Traceback (most recent call last)",
      "Cell \u001b[0;32mIn[8], line 1\u001b[0m\n\u001b[0;32m----> 1\u001b[0m \u001b[43mdata\u001b[49m\u001b[38;5;241;43m.\u001b[39;49m\u001b[43mk\u001b[49m\n",
      "File \u001b[0;32m~/miniconda3/envs/c311/lib/python3.11/site-packages/cogent3/util/union_dict.py:38\u001b[0m, in \u001b[0;36mUnionDict.__getattr__\u001b[0;34m(self, item)\u001b[0m\n\u001b[1;32m     36\u001b[0m     \u001b[38;5;28;01mreturn\u001b[39;00m \u001b[38;5;28msuper\u001b[39m()\u001b[38;5;241m.\u001b[39m\u001b[38;5;21m__getattr__\u001b[39m(item)\n\u001b[1;32m     37\u001b[0m \u001b[38;5;28;01mexcept\u001b[39;00m \u001b[38;5;167;01mAttributeError\u001b[39;00m:\n\u001b[0;32m---> 38\u001b[0m     \u001b[38;5;28;01mraise\u001b[39;00m \u001b[38;5;167;01mAttributeError\u001b[39;00m(\u001b[38;5;124mf\u001b[39m\u001b[38;5;124m\"\u001b[39m\u001b[38;5;124m'\u001b[39m\u001b[38;5;132;01m{\u001b[39;00mitem\u001b[38;5;132;01m}\u001b[39;00m\u001b[38;5;124m'\u001b[39m\u001b[38;5;124m not a key or attribute\u001b[39m\u001b[38;5;124m\"\u001b[39m)\n",
      "\u001b[0;31mAttributeError\u001b[0m: 'k' not a key or attribute"
     ]
    }
   ],
   "source": [
    "data.k"
   ]
  },
  {
   "cell_type": "code",
   "execution_count": 9,
   "id": "328be3fe",
   "metadata": {
    "execution": {
     "iopub.execute_input": "2023-12-15T00:09:07.626933Z",
     "iopub.status.busy": "2023-12-15T00:09:07.626868Z",
     "iopub.status.idle": "2023-12-15T00:09:07.628836Z",
     "shell.execute_reply": "2023-12-15T00:09:07.628594Z"
    }
   },
   "outputs": [],
   "source": [
    "import numpy\n",
    "\n",
    "def DiffOmega(omega):\n",
    "    def omega_from_S(S):\n",
    "        omega_est = S / (1 - numpy.e ** (-1 * S))\n",
    "        return abs(omega - omega_est) ** 2\n",
    "\n",
    "    return omega_from_S\n",
    "\n",
    "omega = 0.1\n",
    "f = DiffOmega(omega)"
   ]
  },
  {
   "cell_type": "code",
   "execution_count": 10,
   "id": "5a480b2f",
   "metadata": {
    "execution": {
     "iopub.execute_input": "2023-12-15T00:09:07.630038Z",
     "iopub.status.busy": "2023-12-15T00:09:07.629957Z",
     "iopub.status.idle": "2023-12-15T00:09:07.633183Z",
     "shell.execute_reply": "2023-12-15T00:09:07.632955Z"
    }
   },
   "outputs": [
    {
     "name": "stdout",
     "output_type": "stream",
     "text": [
      "S=-3.6150\n"
     ]
    }
   ],
   "source": [
    "from cogent3.maths.optimisers import maximise, minimise\n",
    "\n",
    "S = minimise(\n",
    "    f,  # the function\n",
    "    xinit=1.0,  # the initial value\n",
    "    bounds=(-100, 100),  # [lower,upper] bounds for the parameter\n",
    "    local=True,  # just local optimisation, not Simulated Annealing\n",
    "    show_progress=False,\n",
    ")\n",
    "assert 0.0 <= f(S) < 1e-6\n",
    "print(\"S=%.4f\" % S)"
   ]
  },
  {
   "cell_type": "code",
   "execution_count": 11,
   "id": "a91d5199",
   "metadata": {
    "execution": {
     "iopub.execute_input": "2023-12-15T00:09:07.634290Z",
     "iopub.status.busy": "2023-12-15T00:09:07.634223Z",
     "iopub.status.idle": "2023-12-15T00:09:07.640681Z",
     "shell.execute_reply": "2023-12-15T00:09:07.640446Z"
    }
   },
   "outputs": [
    {
     "ename": "TypeError",
     "evalue": "'int' object is not iterable",
     "output_type": "error",
     "traceback": [
      "\u001b[0;31m---------------------------------------------------------------------------\u001b[0m",
      "\u001b[0;31mTypeError\u001b[0m                                 Traceback (most recent call last)",
      "Cell \u001b[0;32mIn[11], line 4\u001b[0m\n\u001b[1;32m      1\u001b[0m \u001b[38;5;28;01mfrom\u001b[39;00m \u001b[38;5;21;01mcogent3\u001b[39;00m\u001b[38;5;21;01m.\u001b[39;00m\u001b[38;5;21;01mutil\u001b[39;00m\u001b[38;5;21;01m.\u001b[39;00m\u001b[38;5;21;01mmisc\u001b[39;00m \u001b[38;5;28;01mimport\u001b[39;00m iterable\n\u001b[1;32m      3\u001b[0m my_var \u001b[38;5;241m=\u001b[39m \u001b[38;5;241m10\u001b[39m\n\u001b[0;32m----> 4\u001b[0m \u001b[38;5;28;01mfor\u001b[39;00m i \u001b[38;5;129;01min\u001b[39;00m my_var:\n\u001b[1;32m      5\u001b[0m     \u001b[38;5;28mprint\u001b[39m(\u001b[38;5;124m\"\u001b[39m\u001b[38;5;124mwill not work\u001b[39m\u001b[38;5;124m\"\u001b[39m)\n\u001b[1;32m      7\u001b[0m \u001b[38;5;28;01mfor\u001b[39;00m i \u001b[38;5;129;01min\u001b[39;00m iterable(my_var):\n",
      "\u001b[0;31mTypeError\u001b[0m: 'int' object is not iterable"
     ]
    }
   ],
   "source": [
    "from cogent3.util.misc import iterable\n",
    "\n",
    "my_var = 10\n",
    "for i in my_var:\n",
    "    print(\"will not work\")\n",
    "\n",
    "for i in iterable(my_var):\n",
    "    print(i)"
   ]
  },
  {
   "cell_type": "code",
   "execution_count": 12,
   "id": "5cc36167",
   "metadata": {
    "execution": {
     "iopub.execute_input": "2023-12-15T00:09:07.641786Z",
     "iopub.status.busy": "2023-12-15T00:09:07.641721Z",
     "iopub.status.idle": "2023-12-15T00:09:07.643969Z",
     "shell.execute_reply": "2023-12-15T00:09:07.643750Z"
    }
   },
   "outputs": [
    {
     "name": "stdout",
     "output_type": "stream",
     "text": [
      " curry(foo,5)\n",
      "== curried from foo ==\n",
      " Some function\n"
     ]
    },
    {
     "data": {
      "text/plain": [
       "15"
      ]
     },
     "execution_count": 12,
     "metadata": {},
     "output_type": "execute_result"
    }
   ],
   "source": [
    "from cogent3.util.misc import curry\n",
    "\n",
    "def foo(x, y):\n",
    "    \"\"\"Some function\"\"\"\n",
    "    return x + y\n",
    "\n",
    "bar = curry(foo, 5)\n",
    "print(bar.__doc__)\n",
    "bar(10)"
   ]
  },
  {
   "cell_type": "code",
   "execution_count": 13,
   "id": "ec917e10",
   "metadata": {
    "execution": {
     "iopub.execute_input": "2023-12-15T00:09:07.645035Z",
     "iopub.status.busy": "2023-12-15T00:09:07.644967Z",
     "iopub.status.idle": "2023-12-15T00:09:07.647150Z",
     "shell.execute_reply": "2023-12-15T00:09:07.646925Z"
    }
   },
   "outputs": [
    {
     "data": {
      "text/plain": [
       "True"
      ]
     },
     "execution_count": 13,
     "metadata": {},
     "output_type": "execute_result"
    }
   ],
   "source": [
    "from cogent3.util.misc import is_iterable\n",
    "\n",
    "can_iter = [1, 2, 3, 4]\n",
    "cannot_iter = 1.234\n",
    "is_iterable(can_iter)"
   ]
  },
  {
   "cell_type": "code",
   "execution_count": 14,
   "id": "5846d0e3",
   "metadata": {
    "execution": {
     "iopub.execute_input": "2023-12-15T00:09:07.648247Z",
     "iopub.status.busy": "2023-12-15T00:09:07.648175Z",
     "iopub.status.idle": "2023-12-15T00:09:07.649978Z",
     "shell.execute_reply": "2023-12-15T00:09:07.649752Z"
    }
   },
   "outputs": [
    {
     "data": {
      "text/plain": [
       "False"
      ]
     },
     "execution_count": 14,
     "metadata": {},
     "output_type": "execute_result"
    }
   ],
   "source": [
    "is_iterable(cannot_iter)"
   ]
  },
  {
   "cell_type": "code",
   "execution_count": 15,
   "id": "77644d1d",
   "metadata": {
    "execution": {
     "iopub.execute_input": "2023-12-15T00:09:07.651069Z",
     "iopub.status.busy": "2023-12-15T00:09:07.651000Z",
     "iopub.status.idle": "2023-12-15T00:09:07.652944Z",
     "shell.execute_reply": "2023-12-15T00:09:07.652739Z"
    }
   },
   "outputs": [
    {
     "data": {
      "text/plain": [
       "True"
      ]
     },
     "execution_count": 15,
     "metadata": {},
     "output_type": "execute_result"
    }
   ],
   "source": [
    "from cogent3.util.misc import is_char\n",
    "\n",
    "class foo:\n",
    "    pass\n",
    "\n",
    "is_char(\"a\")"
   ]
  },
  {
   "cell_type": "code",
   "execution_count": 16,
   "id": "82fa6608",
   "metadata": {
    "execution": {
     "iopub.execute_input": "2023-12-15T00:09:07.654022Z",
     "iopub.status.busy": "2023-12-15T00:09:07.653940Z",
     "iopub.status.idle": "2023-12-15T00:09:07.655711Z",
     "shell.execute_reply": "2023-12-15T00:09:07.655486Z"
    }
   },
   "outputs": [
    {
     "data": {
      "text/plain": [
       "False"
      ]
     },
     "execution_count": 16,
     "metadata": {},
     "output_type": "execute_result"
    }
   ],
   "source": [
    "is_char(\"ab\")"
   ]
  },
  {
   "cell_type": "code",
   "execution_count": 17,
   "id": "a228148e",
   "metadata": {
    "execution": {
     "iopub.execute_input": "2023-12-15T00:09:07.656771Z",
     "iopub.status.busy": "2023-12-15T00:09:07.656688Z",
     "iopub.status.idle": "2023-12-15T00:09:07.658457Z",
     "shell.execute_reply": "2023-12-15T00:09:07.658245Z"
    }
   },
   "outputs": [
    {
     "data": {
      "text/plain": [
       "False"
      ]
     },
     "execution_count": 17,
     "metadata": {},
     "output_type": "execute_result"
    }
   ],
   "source": [
    "is_char(foo())"
   ]
  },
  {
   "cell_type": "code",
   "execution_count": 18,
   "id": "dcf0b84f",
   "metadata": {
    "execution": {
     "iopub.execute_input": "2023-12-15T00:09:07.659548Z",
     "iopub.status.busy": "2023-12-15T00:09:07.659469Z",
     "iopub.status.idle": "2023-12-15T00:09:07.661095Z",
     "shell.execute_reply": "2023-12-15T00:09:07.660880Z"
    }
   },
   "outputs": [],
   "source": [
    "from cogent3.util.misc import recursive_flatten\n",
    "\n",
    "l = [[[[1, 2], \"abcde\"], [5, 6]], [7, 8], [9, 10]]"
   ]
  },
  {
   "cell_type": "code",
   "execution_count": 19,
   "id": "3e2b907d",
   "metadata": {
    "execution": {
     "iopub.execute_input": "2023-12-15T00:09:07.662116Z",
     "iopub.status.busy": "2023-12-15T00:09:07.662054Z",
     "iopub.status.idle": "2023-12-15T00:09:07.663833Z",
     "shell.execute_reply": "2023-12-15T00:09:07.663616Z"
    }
   },
   "outputs": [
    {
     "data": {
      "text/plain": [
       "[1, 2, 'a', 'b', 'c', 'd', 'e', 5, 6, 7, 8, 9, 10]"
      ]
     },
     "execution_count": 19,
     "metadata": {},
     "output_type": "execute_result"
    }
   ],
   "source": [
    "recursive_flatten(l)"
   ]
  },
  {
   "cell_type": "code",
   "execution_count": 20,
   "id": "d82519b2",
   "metadata": {
    "execution": {
     "iopub.execute_input": "2023-12-15T00:09:07.664887Z",
     "iopub.status.busy": "2023-12-15T00:09:07.664826Z",
     "iopub.status.idle": "2023-12-15T00:09:07.666716Z",
     "shell.execute_reply": "2023-12-15T00:09:07.666491Z"
    }
   },
   "outputs": [
    {
     "data": {
      "text/plain": [
       "True"
      ]
     },
     "execution_count": 20,
     "metadata": {},
     "output_type": "execute_result"
    }
   ],
   "source": [
    "from cogent3.util.misc import not_list_tuple\n",
    "\n",
    "not_list_tuple(1)"
   ]
  },
  {
   "cell_type": "code",
   "execution_count": 21,
   "id": "d3d1d676",
   "metadata": {
    "execution": {
     "iopub.execute_input": "2023-12-15T00:09:07.667778Z",
     "iopub.status.busy": "2023-12-15T00:09:07.667716Z",
     "iopub.status.idle": "2023-12-15T00:09:07.669599Z",
     "shell.execute_reply": "2023-12-15T00:09:07.669368Z"
    }
   },
   "outputs": [
    {
     "data": {
      "text/plain": [
       "False"
      ]
     },
     "execution_count": 21,
     "metadata": {},
     "output_type": "execute_result"
    }
   ],
   "source": [
    "not_list_tuple([1])"
   ]
  },
  {
   "cell_type": "code",
   "execution_count": 22,
   "id": "8eee5981",
   "metadata": {
    "execution": {
     "iopub.execute_input": "2023-12-15T00:09:07.670707Z",
     "iopub.status.busy": "2023-12-15T00:09:07.670628Z",
     "iopub.status.idle": "2023-12-15T00:09:07.672321Z",
     "shell.execute_reply": "2023-12-15T00:09:07.672099Z"
    }
   },
   "outputs": [
    {
     "data": {
      "text/plain": [
       "True"
      ]
     },
     "execution_count": 22,
     "metadata": {},
     "output_type": "execute_result"
    }
   ],
   "source": [
    "not_list_tuple(\"ab\")"
   ]
  },
  {
   "cell_type": "code",
   "execution_count": 23,
   "id": "edec7bb2",
   "metadata": {
    "execution": {
     "iopub.execute_input": "2023-12-15T00:09:07.673344Z",
     "iopub.status.busy": "2023-12-15T00:09:07.673280Z",
     "iopub.status.idle": "2023-12-15T00:09:07.675328Z",
     "shell.execute_reply": "2023-12-15T00:09:07.675064Z"
    }
   },
   "outputs": [
    {
     "data": {
      "text/plain": [
       "{'A': 5, 'B': 6, 'C': 7, 'foo': 8, 42: 'life', 'a': 5, 'b': 6, 'c': 7}"
      ]
     },
     "execution_count": 23,
     "metadata": {},
     "output_type": "execute_result"
    }
   ],
   "source": [
    "from cogent3.util.misc import add_lowercase\n",
    "\n",
    "d = {\"A\": 5, \"B\": 6, \"C\": 7, \"foo\": 8, 42: \"life\"}\n",
    "add_lowercase(d)"
   ]
  },
  {
   "cell_type": "code",
   "execution_count": 24,
   "id": "01a038e5",
   "metadata": {
    "execution": {
     "iopub.execute_input": "2023-12-15T00:09:07.676362Z",
     "iopub.status.busy": "2023-12-15T00:09:07.676298Z",
     "iopub.status.idle": "2023-12-15T00:09:07.678499Z",
     "shell.execute_reply": "2023-12-15T00:09:07.678265Z"
    }
   },
   "outputs": [
    {
     "data": {
      "text/plain": [
       "1"
      ]
     },
     "execution_count": 24,
     "metadata": {},
     "output_type": "execute_result"
    }
   ],
   "source": [
    "from numpy import array\n",
    "\n",
    "from cogent3.util.misc import DistanceFromMatrix\n",
    "\n",
    "m = array([[1, 2, 3], [4, 5, 6], [7, 8, 9]])\n",
    "f = DistanceFromMatrix(m)\n",
    "f(0, 0)"
   ]
  },
  {
   "cell_type": "code",
   "execution_count": 25,
   "id": "19914616",
   "metadata": {
    "execution": {
     "iopub.execute_input": "2023-12-15T00:09:07.679584Z",
     "iopub.status.busy": "2023-12-15T00:09:07.679515Z",
     "iopub.status.idle": "2023-12-15T00:09:07.681309Z",
     "shell.execute_reply": "2023-12-15T00:09:07.681082Z"
    }
   },
   "outputs": [
    {
     "data": {
      "text/plain": [
       "6"
      ]
     },
     "execution_count": 25,
     "metadata": {},
     "output_type": "execute_result"
    }
   ],
   "source": [
    "f(1, 2)"
   ]
  },
  {
   "cell_type": "code",
   "execution_count": 26,
   "id": "eccdcabd",
   "metadata": {
    "execution": {
     "iopub.execute_input": "2023-12-15T00:09:07.682447Z",
     "iopub.status.busy": "2023-12-15T00:09:07.682368Z",
     "iopub.status.idle": "2023-12-15T00:09:07.684599Z",
     "shell.execute_reply": "2023-12-15T00:09:07.684397Z"
    }
   },
   "outputs": [
    {
     "data": {
      "text/plain": [
       "True"
      ]
     },
     "execution_count": 26,
     "metadata": {},
     "output_type": "execute_result"
    }
   ],
   "source": [
    "from cogent3.util.misc import ClassChecker\n",
    "\n",
    "class not_okay(object):\n",
    "    pass\n",
    "\n",
    "no = not_okay()\n",
    "\n",
    "class okay(object):\n",
    "    pass\n",
    "\n",
    "o = okay()\n",
    "\n",
    "class my_dict(dict):\n",
    "    pass\n",
    "\n",
    "md = my_dict()\n",
    "cc = ClassChecker(str, okay, dict)\n",
    "o in cc"
   ]
  },
  {
   "cell_type": "code",
   "execution_count": 27,
   "id": "c6eb1bf9",
   "metadata": {
    "execution": {
     "iopub.execute_input": "2023-12-15T00:09:07.685700Z",
     "iopub.status.busy": "2023-12-15T00:09:07.685624Z",
     "iopub.status.idle": "2023-12-15T00:09:07.687306Z",
     "shell.execute_reply": "2023-12-15T00:09:07.687098Z"
    }
   },
   "outputs": [
    {
     "data": {
      "text/plain": [
       "False"
      ]
     },
     "execution_count": 27,
     "metadata": {},
     "output_type": "execute_result"
    }
   ],
   "source": [
    "no in cc"
   ]
  },
  {
   "cell_type": "code",
   "execution_count": 28,
   "id": "2469b597",
   "metadata": {
    "execution": {
     "iopub.execute_input": "2023-12-15T00:09:07.688359Z",
     "iopub.status.busy": "2023-12-15T00:09:07.688290Z",
     "iopub.status.idle": "2023-12-15T00:09:07.690100Z",
     "shell.execute_reply": "2023-12-15T00:09:07.689901Z"
    }
   },
   "outputs": [
    {
     "data": {
      "text/plain": [
       "False"
      ]
     },
     "execution_count": 28,
     "metadata": {},
     "output_type": "execute_result"
    }
   ],
   "source": [
    "5 in cc"
   ]
  },
  {
   "cell_type": "code",
   "execution_count": 29,
   "id": "5ce1f32a",
   "metadata": {
    "execution": {
     "iopub.execute_input": "2023-12-15T00:09:07.691137Z",
     "iopub.status.busy": "2023-12-15T00:09:07.691073Z",
     "iopub.status.idle": "2023-12-15T00:09:07.692916Z",
     "shell.execute_reply": "2023-12-15T00:09:07.692692Z"
    }
   },
   "outputs": [
    {
     "data": {
      "text/plain": [
       "True"
      ]
     },
     "execution_count": 29,
     "metadata": {},
     "output_type": "execute_result"
    }
   ],
   "source": [
    "{\"a\": 5} in cc"
   ]
  },
  {
   "cell_type": "code",
   "execution_count": 30,
   "id": "8ba7c397",
   "metadata": {
    "execution": {
     "iopub.execute_input": "2023-12-15T00:09:07.694043Z",
     "iopub.status.busy": "2023-12-15T00:09:07.693981Z",
     "iopub.status.idle": "2023-12-15T00:09:07.695760Z",
     "shell.execute_reply": "2023-12-15T00:09:07.695556Z"
    }
   },
   "outputs": [
    {
     "data": {
      "text/plain": [
       "True"
      ]
     },
     "execution_count": 30,
     "metadata": {},
     "output_type": "execute_result"
    }
   ],
   "source": [
    "\"asasas\" in cc"
   ]
  },
  {
   "cell_type": "code",
   "execution_count": 31,
   "id": "488af131",
   "metadata": {
    "execution": {
     "iopub.execute_input": "2023-12-15T00:09:07.696813Z",
     "iopub.status.busy": "2023-12-15T00:09:07.696752Z",
     "iopub.status.idle": "2023-12-15T00:09:07.698565Z",
     "shell.execute_reply": "2023-12-15T00:09:07.698323Z"
    }
   },
   "outputs": [
    {
     "data": {
      "text/plain": [
       "True"
      ]
     },
     "execution_count": 31,
     "metadata": {},
     "output_type": "execute_result"
    }
   ],
   "source": [
    "md in cc"
   ]
  },
  {
   "cell_type": "code",
   "execution_count": 32,
   "id": "d75f476b",
   "metadata": {
    "execution": {
     "iopub.execute_input": "2023-12-15T00:09:07.699659Z",
     "iopub.status.busy": "2023-12-15T00:09:07.699597Z",
     "iopub.status.idle": "2023-12-15T00:09:07.701816Z",
     "shell.execute_reply": "2023-12-15T00:09:07.701593Z"
    }
   },
   "outputs": [
    {
     "data": {
      "text/plain": [
       "3"
      ]
     },
     "execution_count": 32,
     "metadata": {},
     "output_type": "execute_result"
    }
   ],
   "source": [
    "from cogent3.util.misc import Delegator\n",
    "\n",
    "class ListAndString(list, Delegator):\n",
    "    def __init__(self, items, string):\n",
    "        Delegator.__init__(self, string)\n",
    "        for i in items:\n",
    "            self.append(i)\n",
    "\n",
    "ls = ListAndString([1, 2, 3], \"ab_cd\")\n",
    "len(ls)"
   ]
  },
  {
   "cell_type": "code",
   "execution_count": 33,
   "id": "fc889b2d",
   "metadata": {
    "execution": {
     "iopub.execute_input": "2023-12-15T00:09:07.702837Z",
     "iopub.status.busy": "2023-12-15T00:09:07.702777Z",
     "iopub.status.idle": "2023-12-15T00:09:07.704494Z",
     "shell.execute_reply": "2023-12-15T00:09:07.704284Z"
    }
   },
   "outputs": [
    {
     "data": {
      "text/plain": [
       "1"
      ]
     },
     "execution_count": 33,
     "metadata": {},
     "output_type": "execute_result"
    }
   ],
   "source": [
    "ls[0]"
   ]
  },
  {
   "cell_type": "code",
   "execution_count": 34,
   "id": "e485bedb",
   "metadata": {
    "execution": {
     "iopub.execute_input": "2023-12-15T00:09:07.705520Z",
     "iopub.status.busy": "2023-12-15T00:09:07.705431Z",
     "iopub.status.idle": "2023-12-15T00:09:07.707186Z",
     "shell.execute_reply": "2023-12-15T00:09:07.706974Z"
    }
   },
   "outputs": [
    {
     "data": {
      "text/plain": [
       "'AB_CD'"
      ]
     },
     "execution_count": 34,
     "metadata": {},
     "output_type": "execute_result"
    }
   ],
   "source": [
    "ls.upper()"
   ]
  },
  {
   "cell_type": "code",
   "execution_count": 35,
   "id": "d0f4f114",
   "metadata": {
    "execution": {
     "iopub.execute_input": "2023-12-15T00:09:07.708264Z",
     "iopub.status.busy": "2023-12-15T00:09:07.708200Z",
     "iopub.status.idle": "2023-12-15T00:09:07.710023Z",
     "shell.execute_reply": "2023-12-15T00:09:07.709790Z"
    }
   },
   "outputs": [
    {
     "data": {
      "text/plain": [
       "['ab', 'cd']"
      ]
     },
     "execution_count": 35,
     "metadata": {},
     "output_type": "execute_result"
    }
   ],
   "source": [
    "ls.split(\"_\")"
   ]
  },
  {
   "cell_type": "code",
   "execution_count": 36,
   "id": "8abaac06",
   "metadata": {
    "execution": {
     "iopub.execute_input": "2023-12-15T00:09:07.711083Z",
     "iopub.status.busy": "2023-12-15T00:09:07.711021Z",
     "iopub.status.idle": "2023-12-15T00:09:07.712943Z",
     "shell.execute_reply": "2023-12-15T00:09:07.712741Z"
    }
   },
   "outputs": [
    {
     "data": {
      "text/plain": [
       "<cogent3.util.misc.FunctionWrapper at 0x292c15f10>"
      ]
     },
     "execution_count": 36,
     "metadata": {},
     "output_type": "execute_result"
    }
   ],
   "source": [
    "from cogent3.util.misc import FunctionWrapper\n",
    "\n",
    "f = FunctionWrapper(str)\n",
    "f"
   ]
  },
  {
   "cell_type": "code",
   "execution_count": 37,
   "id": "b0c987ec",
   "metadata": {
    "execution": {
     "iopub.execute_input": "2023-12-15T00:09:07.713970Z",
     "iopub.status.busy": "2023-12-15T00:09:07.713910Z",
     "iopub.status.idle": "2023-12-15T00:09:07.715846Z",
     "shell.execute_reply": "2023-12-15T00:09:07.715613Z"
    }
   },
   "outputs": [
    {
     "data": {
      "text/plain": [
       "'123'"
      ]
     },
     "execution_count": 37,
     "metadata": {},
     "output_type": "execute_result"
    }
   ],
   "source": [
    "f(123)"
   ]
  },
  {
   "cell_type": "code",
   "execution_count": 38,
   "id": "b72b5a80",
   "metadata": {
    "execution": {
     "iopub.execute_input": "2023-12-15T00:09:07.716908Z",
     "iopub.status.busy": "2023-12-15T00:09:07.716845Z",
     "iopub.status.idle": "2023-12-15T00:09:07.718277Z",
     "shell.execute_reply": "2023-12-15T00:09:07.718060Z"
    }
   },
   "outputs": [],
   "source": [
    "from cogent3.util.misc import ConstraintError"
   ]
  },
  {
   "cell_type": "code",
   "execution_count": 39,
   "id": "638c40af",
   "metadata": {
    "execution": {
     "iopub.execute_input": "2023-12-15T00:09:07.719358Z",
     "iopub.status.busy": "2023-12-15T00:09:07.719297Z",
     "iopub.status.idle": "2023-12-15T00:09:07.721344Z",
     "shell.execute_reply": "2023-12-15T00:09:07.721114Z"
    }
   },
   "outputs": [
    {
     "data": {
      "text/plain": [
       "{'a': 1, 'b': 2, 'c': 3}"
      ]
     },
     "execution_count": 39,
     "metadata": {},
     "output_type": "execute_result"
    }
   ],
   "source": [
    "from cogent3.util.misc import ConstrainedDict\n",
    "\n",
    "d = ConstrainedDict({\"a\": 1, \"b\": 2, \"c\": 3}, constraint=\"abc\")\n",
    "d"
   ]
  },
  {
   "cell_type": "code",
   "execution_count": 40,
   "id": "d9a6e9e0",
   "metadata": {
    "execution": {
     "iopub.execute_input": "2023-12-15T00:09:07.722391Z",
     "iopub.status.busy": "2023-12-15T00:09:07.722330Z",
     "iopub.status.idle": "2023-12-15T00:09:07.750517Z",
     "shell.execute_reply": "2023-12-15T00:09:07.750293Z"
    }
   },
   "outputs": [
    {
     "ename": "ConstraintError",
     "evalue": "Item 'd' not in constraint 'abc'",
     "output_type": "error",
     "traceback": [
      "\u001b[0;31m---------------------------------------------------------------------------\u001b[0m",
      "\u001b[0;31mConstraintError\u001b[0m                           Traceback (most recent call last)",
      "Cell \u001b[0;32mIn[40], line 1\u001b[0m\n\u001b[0;32m----> 1\u001b[0m \u001b[43md\u001b[49m\u001b[43m[\u001b[49m\u001b[38;5;124;43m\"\u001b[39;49m\u001b[38;5;124;43md\u001b[39;49m\u001b[38;5;124;43m\"\u001b[39;49m\u001b[43m]\u001b[49m \u001b[38;5;241m=\u001b[39m \u001b[38;5;241m5\u001b[39m\n",
      "File \u001b[0;32m~/miniconda3/envs/c311/lib/python3.11/site-packages/cogent3/util/misc.py:691\u001b[0m, in \u001b[0;36mConstrainedDict.__setitem__\u001b[0;34m(self, key, value)\u001b[0m\n\u001b[1;32m    689\u001b[0m \u001b[38;5;250m\u001b[39m\u001b[38;5;124;03m\"\"\"Sets self[key] to value if value in constraint.\"\"\"\u001b[39;00m\n\u001b[1;32m    690\u001b[0m \u001b[38;5;28;01mif\u001b[39;00m \u001b[38;5;129;01mnot\u001b[39;00m \u001b[38;5;28mself\u001b[39m\u001b[38;5;241m.\u001b[39mitem_is_valid(key):\n\u001b[0;32m--> 691\u001b[0m     \u001b[38;5;28;01mraise\u001b[39;00m ConstraintError(\u001b[38;5;124mf\u001b[39m\u001b[38;5;124m\"\u001b[39m\u001b[38;5;124mItem \u001b[39m\u001b[38;5;124m'\u001b[39m\u001b[38;5;132;01m{\u001b[39;00mkey\u001b[38;5;132;01m}\u001b[39;00m\u001b[38;5;124m'\u001b[39m\u001b[38;5;124m not in constraint \u001b[39m\u001b[38;5;124m'\u001b[39m\u001b[38;5;132;01m{\u001b[39;00m\u001b[38;5;28mself\u001b[39m\u001b[38;5;241m.\u001b[39mconstraint\u001b[38;5;132;01m}\u001b[39;00m\u001b[38;5;124m'\u001b[39m\u001b[38;5;124m\"\u001b[39m)\n\u001b[1;32m    692\u001b[0m key, value \u001b[38;5;241m=\u001b[39m \u001b[38;5;28mself\u001b[39m\u001b[38;5;241m.\u001b[39mmask(key), \u001b[38;5;28mself\u001b[39m\u001b[38;5;241m.\u001b[39mvalue_mask(value)\n\u001b[1;32m    693\u001b[0m \u001b[38;5;28mdict\u001b[39m\u001b[38;5;241m.\u001b[39m\u001b[38;5;21m__setitem__\u001b[39m(\u001b[38;5;28mself\u001b[39m, key, value)\n",
      "\u001b[0;31mConstraintError\u001b[0m: Item 'd' not in constraint 'abc'"
     ]
    }
   ],
   "source": [
    "d[\"d\"] = 5"
   ]
  }
 ],
 "metadata": {
  "kernelspec": {
   "display_name": "Python 3 (ipykernel)",
   "language": "python",
   "name": "python3"
  },
  "language_info": {
   "codemirror_mode": {
    "name": "ipython",
    "version": 3
   },
   "file_extension": ".py",
   "mimetype": "text/x-python",
   "name": "python",
   "nbconvert_exporter": "python",
   "pygments_lexer": "ipython3",
   "version": "3.11.6"
  }
 },
 "nbformat": 4,
 "nbformat_minor": 5
}