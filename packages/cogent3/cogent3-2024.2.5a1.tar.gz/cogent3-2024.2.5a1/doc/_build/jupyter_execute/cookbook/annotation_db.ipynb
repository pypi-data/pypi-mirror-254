{
 "cells": [
  {
   "cell_type": "code",
   "execution_count": 1,
   "id": "39cf2d78",
   "metadata": {
    "execution": {
     "iopub.execute_input": "2023-12-15T00:07:47.872578Z",
     "iopub.status.busy": "2023-12-15T00:07:47.872196Z",
     "iopub.status.idle": "2023-12-15T00:07:47.887931Z",
     "shell.execute_reply": "2023-12-15T00:07:47.887382Z"
    }
   },
   "outputs": [],
   "source": [
    "import set_working_directory"
   ]
  },
  {
   "cell_type": "code",
   "execution_count": 2,
   "id": "9e004661",
   "metadata": {
    "execution": {
     "iopub.execute_input": "2023-12-15T00:07:47.891081Z",
     "iopub.status.busy": "2023-12-15T00:07:47.890732Z",
     "iopub.status.idle": "2023-12-15T00:07:49.049710Z",
     "shell.execute_reply": "2023-12-15T00:07:49.049361Z"
    }
   },
   "outputs": [
    {
     "data": {
      "text/plain": [
       "BasicAnnotationDb(source=':memory:', total_records=0)"
      ]
     },
     "execution_count": 2,
     "metadata": {},
     "output_type": "execute_result"
    }
   ],
   "source": [
    "from cogent3.core.annotation_db import BasicAnnotationDb\n",
    "\n",
    "anno_db = BasicAnnotationDb()\n",
    "anno_db"
   ]
  },
  {
   "cell_type": "code",
   "execution_count": 3,
   "id": "29ee7201",
   "metadata": {
    "execution": {
     "iopub.execute_input": "2023-12-15T00:07:49.051198Z",
     "iopub.status.busy": "2023-12-15T00:07:49.051072Z",
     "iopub.status.idle": "2023-12-15T00:07:49.065463Z",
     "shell.execute_reply": "2023-12-15T00:07:49.065218Z"
    }
   },
   "outputs": [
    {
     "data": {
      "text/plain": [
       "GffAnnotationDb(source=':memory:', total_records=1169)"
      ]
     },
     "execution_count": 3,
     "metadata": {},
     "output_type": "execute_result"
    }
   ],
   "source": [
    "from cogent3 import load_annotations\n",
    "\n",
    "gff_db = load_annotations(path=\"data/mycoplasma-genitalium.gff\")\n",
    "gff_db"
   ]
  },
  {
   "cell_type": "code",
   "execution_count": 4,
   "id": "0eb0b379",
   "metadata": {
    "execution": {
     "iopub.execute_input": "2023-12-15T00:07:49.066765Z",
     "iopub.status.busy": "2023-12-15T00:07:49.066675Z",
     "iopub.status.idle": "2023-12-15T00:07:49.105475Z",
     "shell.execute_reply": "2023-12-15T00:07:49.105242Z"
    }
   },
   "outputs": [
    {
     "data": {
      "text/plain": [
       "GenbankAnnotationDb(seqid='NC_000908', source=':memory:', namer=None, total_records=1127)"
      ]
     },
     "execution_count": 4,
     "metadata": {},
     "output_type": "execute_result"
    }
   ],
   "source": [
    "from cogent3 import load_annotations\n",
    "\n",
    "gb_db = load_annotations(path=\"data/mycoplasma-genitalium.gb\")\n",
    "gb_db"
   ]
  },
  {
   "cell_type": "code",
   "execution_count": 5,
   "id": "52686226",
   "metadata": {
    "execution": {
     "iopub.execute_input": "2023-12-15T00:07:49.106621Z",
     "iopub.status.busy": "2023-12-15T00:07:49.106553Z",
     "iopub.status.idle": "2023-12-15T00:07:49.109172Z",
     "shell.execute_reply": "2023-12-15T00:07:49.108957Z"
    }
   },
   "outputs": [
    {
     "data": {
      "text/html": [
       "\n",
       "<div class=\"c3table\">\n",
       "\n",
       "<style>\n",
       ".c3table table {margin: 10px 0;}\n",
       ".c3table tr:last-child {border-bottom: 1px solid #000;} \n",
       ".c3table tr > th {text-align: left; padding: 0 5px;}\n",
       ".c3table tr > td {text-align: left; padding: 5px;}\n",
       ".c3table tr:nth-child(even) {background: #f7f7f7 !important;}\n",
       ".c3table .ellipsis {background: rgba(0, 0, 0, .01);}\n",
       ".c3table .index {background: rgba(161, 195, 209, 0.0); margin: 10px; font-weight: 600;}\n",
       ".c3table .head_cell {background: rgba(161, 195, 209, 0.75); font-weight: bold; text-align: center;}\n",
       ".c3table caption {color: rgb(250, 250, 250); background: rgba(30, 140, 200, 1); padding: 3px; white-space: nowrap; caption-side: top;}\n",
       ".c3table .cell_title {font-weight: bold;}\n",
       ".c3col_left { text-align: left !important; display: block;}\n",
       ".c3col_right { text-align: right !important; display: block;}\n",
       ".c3col_center { text-align: center !important; display: block;}\n",
       "</style>\n",
       "\n",
       "<table>\n",
       "\n",
       "<thead class=\"head_cell\">\n",
       "<th></th><th>count</th>\n",
       "</thead>\n",
       "<tbody>\n",
       "<tr><td><span class=\"c3col_left\">seqid('NC_000908.2')</span></td><td><span class=\"c3col_right\">1,169</span></td></tr>\n",
       "<tr><td><span class=\"c3col_left\">biotype('CDS')</span></td><td><span class=\"c3col_right\">521</span></td></tr>\n",
       "<tr><td><span class=\"c3col_left\">biotype('RNase_P_RNA')</span></td><td><span class=\"c3col_right\">1</span></td></tr>\n",
       "<tr><td><span class=\"c3col_left\">biotype('SRP_RNA')</span></td><td><span class=\"c3col_right\">1</span></td></tr>\n",
       "<tr><td><span class=\"c3col_left\">biotype('exon')</span></td><td><span class=\"c3col_right\">42</span></td></tr>\n",
       "<tr><td><span class=\"c3col_left\">biotype('gene')</span></td><td><span class=\"c3col_right\">546</span></td></tr>\n",
       "<tr><td><span class=\"c3col_left\">biotype('pseudogene')</span></td><td><span class=\"c3col_right\">17</span></td></tr>\n",
       "<tr><td><span class=\"c3col_left\">biotype('rRNA')</span></td><td><span class=\"c3col_right\">3</span></td></tr>\n",
       "<tr><td><span class=\"c3col_left\">biotype('region')</span></td><td><span class=\"c3col_right\">1</span></td></tr>\n",
       "<tr><td><span class=\"c3col_left\">biotype('tRNA')</span></td><td><span class=\"c3col_right\">36</span></td></tr>\n",
       "<tr><td><span class=\"c3col_left\">biotype('tmRNA')</span></td><td><span class=\"c3col_right\">1</span></td></tr>\n",
       "<tr><td><span class=\"c3col_left\">num_rows('gff')</span></td><td><span class=\"c3col_right\">1,169</span></td></tr>\n",
       "<tr><td><span class=\"c3col_left\">num_rows('user')</span></td><td><span class=\"c3col_right\">0</span></td></tr>\n",
       "</tbody>\n",
       "</table>\n",
       "<p>\n",
       "13 rows x 2 columns</p>\n",
       "</div>"
      ],
      "text/plain": [
       "===============================\n",
       "                          count\n",
       "-------------------------------\n",
       "seqid('NC_000908.2')      1,169\n",
       "biotype('CDS')              521\n",
       "biotype('RNase_P_RNA')        1\n",
       "biotype('SRP_RNA')            1\n",
       "biotype('exon')              42\n",
       "biotype('gene')             546\n",
       "biotype('pseudogene')        17\n",
       "biotype('rRNA')               3\n",
       "biotype('region')             1\n",
       "biotype('tRNA')              36\n",
       "biotype('tmRNA')              1\n",
       "num_rows('gff')           1,169\n",
       "num_rows('user')              0\n",
       "-------------------------------\n",
       "\n",
       "13 rows x 2 columns"
      ]
     },
     "execution_count": 5,
     "metadata": {},
     "output_type": "execute_result"
    }
   ],
   "source": [
    "summary = gff_db.describe\n",
    "summary"
   ]
  },
  {
   "cell_type": "code",
   "execution_count": 6,
   "id": "c2f66b98",
   "metadata": {
    "execution": {
     "iopub.execute_input": "2023-12-15T00:07:49.110385Z",
     "iopub.status.busy": "2023-12-15T00:07:49.110319Z",
     "iopub.status.idle": "2023-12-15T00:07:49.112843Z",
     "shell.execute_reply": "2023-12-15T00:07:49.112605Z"
    }
   },
   "outputs": [
    {
     "data": {
      "text/html": [
       "\n",
       "<div class=\"c3table\">\n",
       "\n",
       "<style>\n",
       ".c3table table {margin: 10px 0;}\n",
       ".c3table tr:last-child {border-bottom: 1px solid #000;} \n",
       ".c3table tr > th {text-align: left; padding: 0 5px;}\n",
       ".c3table tr > td {text-align: left; padding: 5px;}\n",
       ".c3table tr:nth-child(even) {background: #f7f7f7 !important;}\n",
       ".c3table .ellipsis {background: rgba(0, 0, 0, .01);}\n",
       ".c3table .index {background: rgba(161, 195, 209, 0.0); margin: 10px; font-weight: 600;}\n",
       ".c3table .head_cell {background: rgba(161, 195, 209, 0.75); font-weight: bold; text-align: center;}\n",
       ".c3table caption {color: rgb(250, 250, 250); background: rgba(30, 140, 200, 1); padding: 3px; white-space: nowrap; caption-side: top;}\n",
       ".c3table .cell_title {font-weight: bold;}\n",
       ".c3col_left { text-align: left !important; display: block;}\n",
       ".c3col_right { text-align: right !important; display: block;}\n",
       ".c3col_center { text-align: center !important; display: block;}\n",
       "</style>\n",
       "\n",
       "<table>\n",
       "\n",
       "<thead class=\"head_cell\">\n",
       "<th></th><th>count</th>\n",
       "</thead>\n",
       "<tbody>\n",
       "<tr><td><span class=\"c3col_left\">seqid('NC_000908')</span></td><td><span class=\"c3col_right\">1</span></td></tr>\n",
       "<tr><td><span class=\"c3col_left\">biotype('gene')</span></td><td><span class=\"c3col_right\">1</span></td></tr>\n",
       "<tr><td><span class=\"c3col_left\">num_rows('user')</span></td><td><span class=\"c3col_right\">1</span></td></tr>\n",
       "</tbody>\n",
       "</table>\n",
       "<p>\n",
       "3 rows x 2 columns</p>\n",
       "</div>"
      ],
      "text/plain": [
       "===========================\n",
       "                      count\n",
       "---------------------------\n",
       "seqid('NC_000908')        1\n",
       "biotype('gene')           1\n",
       "num_rows('user')          1\n",
       "---------------------------\n",
       "\n",
       "3 rows x 2 columns"
      ]
     },
     "execution_count": 6,
     "metadata": {},
     "output_type": "execute_result"
    }
   ],
   "source": [
    "anno_db.add_feature(\n",
    "    seqid=\"NC_000908\",\n",
    "    biotype=\"gene\",\n",
    "    name=\"interesting_gene\",\n",
    "    spans=[(1, 4)],\n",
    "    strand=\"+\",\n",
    ")\n",
    "anno_db.describe"
   ]
  },
  {
   "cell_type": "code",
   "execution_count": 7,
   "id": "389d3460",
   "metadata": {
    "execution": {
     "iopub.execute_input": "2023-12-15T00:07:49.114029Z",
     "iopub.status.busy": "2023-12-15T00:07:49.113954Z",
     "iopub.status.idle": "2023-12-15T00:07:49.116766Z",
     "shell.execute_reply": "2023-12-15T00:07:49.116553Z"
    }
   },
   "outputs": [
    {
     "data": {
      "text/html": [
       "\n",
       "<div class=\"c3table\">\n",
       "\n",
       "<style>\n",
       ".c3table table {margin: 10px 0;}\n",
       ".c3table tr:last-child {border-bottom: 1px solid #000;} \n",
       ".c3table tr > th {text-align: left; padding: 0 5px;}\n",
       ".c3table tr > td {text-align: left; padding: 5px;}\n",
       ".c3table tr:nth-child(even) {background: #f7f7f7 !important;}\n",
       ".c3table .ellipsis {background: rgba(0, 0, 0, .01);}\n",
       ".c3table .index {background: rgba(161, 195, 209, 0.0); margin: 10px; font-weight: 600;}\n",
       ".c3table .head_cell {background: rgba(161, 195, 209, 0.75); font-weight: bold; text-align: center;}\n",
       ".c3table caption {color: rgb(250, 250, 250); background: rgba(30, 140, 200, 1); padding: 3px; white-space: nowrap; caption-side: top;}\n",
       ".c3table .cell_title {font-weight: bold;}\n",
       ".c3col_left { text-align: left !important; display: block;}\n",
       ".c3col_right { text-align: right !important; display: block;}\n",
       ".c3col_center { text-align: center !important; display: block;}\n",
       "</style>\n",
       "\n",
       "<table>\n",
       "\n",
       "<thead class=\"head_cell\">\n",
       "<th></th><th>count</th>\n",
       "</thead>\n",
       "<tbody>\n",
       "<tr><td><span class=\"c3col_left\">num_rows('gff')</span></td><td><span class=\"c3col_right\">1,169</span></td></tr>\n",
       "<tr><td><span class=\"c3col_left\">num_rows('user')</span></td><td><span class=\"c3col_right\">1</span></td></tr>\n",
       "</tbody>\n",
       "</table>\n",
       "<p>\n",
       "2 rows x 2 columns</p>\n",
       "</div>"
      ],
      "text/plain": [
       "=========================\n",
       "                    count\n",
       "-------------------------\n",
       "num_rows('gff')     1,169\n",
       "num_rows('user')        1\n",
       "-------------------------\n",
       "\n",
       "2 rows x 2 columns"
      ]
     },
     "execution_count": 7,
     "metadata": {},
     "output_type": "execute_result"
    }
   ],
   "source": [
    "gff_db.add_feature(\n",
    "    seqid=\"seq1\",\n",
    "    biotype=\"gene\",\n",
    "    name=\"interesting_gene\",\n",
    "    spans=[(1, 4)],\n",
    "    strand=\"+\",\n",
    ")\n",
    "gff_db.describe[-2:, :]  # showing just last two rows"
   ]
  },
  {
   "cell_type": "code",
   "execution_count": 8,
   "id": "6dac8bac",
   "metadata": {
    "execution": {
     "iopub.execute_input": "2023-12-15T00:07:49.117830Z",
     "iopub.status.busy": "2023-12-15T00:07:49.117764Z",
     "iopub.status.idle": "2023-12-15T00:07:49.120061Z",
     "shell.execute_reply": "2023-12-15T00:07:49.119828Z"
    }
   },
   "outputs": [
    {
     "data": {
      "text/plain": [
       "[{'seqid': 'NC_000908',\n",
       "  'biotype': 'gene',\n",
       "  'spans': [(170011, 171529)],\n",
       "  'name': 'MG_RS00775',\n",
       "  'on_alignment': None,\n",
       "  'reversed': False}]"
      ]
     },
     "execution_count": 8,
     "metadata": {},
     "output_type": "execute_result"
    }
   ],
   "source": [
    "mg_16s = list(\n",
    "    gb_db.get_features_matching(\n",
    "        name=\"MG_RS00775\", biotype=\"gene\", seqid=\"NC_000908\"\n",
    "    )\n",
    ")\n",
    "mg_16s"
   ]
  },
  {
   "cell_type": "code",
   "execution_count": 9,
   "id": "114a5331",
   "metadata": {
    "execution": {
     "iopub.execute_input": "2023-12-15T00:07:49.121217Z",
     "iopub.status.busy": "2023-12-15T00:07:49.121150Z",
     "iopub.status.idle": "2023-12-15T00:07:49.123515Z",
     "shell.execute_reply": "2023-12-15T00:07:49.123313Z"
    }
   },
   "outputs": [
    {
     "data": {
      "text/plain": [
       "[{'seqid': 'NC_000908.2',\n",
       "  'biotype': 'pseudogene',\n",
       "  'spans': [(85561, 86589)],\n",
       "  'name': 'gene-MG_RS02910',\n",
       "  'on_alignment': None,\n",
       "  'reversed': False},\n",
       " {'seqid': 'NC_000908.2',\n",
       "  'biotype': 'pseudogene',\n",
       "  'spans': [(86784, 87549)],\n",
       "  'name': 'gene-MG_RS00385',\n",
       "  'on_alignment': None,\n",
       "  'reversed': False}]"
      ]
     },
     "execution_count": 9,
     "metadata": {},
     "output_type": "execute_result"
    }
   ],
   "source": [
    "pseudogenes = list(gff_db.get_features_matching(biotype=\"pseudogene\"))\n",
    "pseudogenes[:2]  # showing just the first two"
   ]
  },
  {
   "cell_type": "code",
   "execution_count": 10,
   "id": "5a427717",
   "metadata": {
    "execution": {
     "iopub.execute_input": "2023-12-15T00:07:49.124655Z",
     "iopub.status.busy": "2023-12-15T00:07:49.124593Z",
     "iopub.status.idle": "2023-12-15T00:07:49.127018Z",
     "shell.execute_reply": "2023-12-15T00:07:49.126800Z"
    }
   },
   "outputs": [
    {
     "data": {
      "text/plain": [
       "[{'seqid': 'NC_000908.2',\n",
       "  'biotype': 'CDS',\n",
       "  'spans': [(220606, 221563)],\n",
       "  'name': 'cds-WP_009886005.1',\n",
       "  'on_alignment': None,\n",
       "  'reversed': False},\n",
       " {'seqid': 'NC_000908.2',\n",
       "  'biotype': 'CDS',\n",
       "  'spans': [(221569, 225904)],\n",
       "  'name': 'cds-WP_010869366.1',\n",
       "  'on_alignment': None,\n",
       "  'reversed': False},\n",
       " {'seqid': 'NC_000908.2',\n",
       "  'biotype': 'CDS',\n",
       "  'spans': [(225914, 229067)],\n",
       "  'name': 'cds-WP_041593683.1',\n",
       "  'on_alignment': None,\n",
       "  'reversed': False}]"
      ]
     },
     "execution_count": 10,
     "metadata": {},
     "output_type": "execute_result"
    }
   ],
   "source": [
    "operon_cds = list(\n",
    "    gff_db.get_features_matching(start=220600, end=229067, biotype=\"CDS\")\n",
    ")\n",
    "operon_cds"
   ]
  },
  {
   "cell_type": "code",
   "execution_count": 11,
   "id": "7ffcd36c",
   "metadata": {
    "execution": {
     "iopub.execute_input": "2023-12-15T00:07:49.128132Z",
     "iopub.status.busy": "2023-12-15T00:07:49.128070Z",
     "iopub.status.idle": "2023-12-15T00:07:49.130627Z",
     "shell.execute_reply": "2023-12-15T00:07:49.130379Z"
    }
   },
   "outputs": [
    {
     "data": {
      "text/plain": [
       "{'seqid': 'NC_000908.2',\n",
       " 'source': 'Protein Homology',\n",
       " 'biotype': 'CDS',\n",
       " 'start': 685,\n",
       " 'end': 1828,\n",
       " 'score': '.',\n",
       " 'strand': '+',\n",
       " 'phase': '0',\n",
       " 'attributes': 'ID=cds-WP_009885562.1;Parent=gene-MG_RS00005;Dbxref=Genbank:WP_009885562.1;Name=WP_009885562.1;Ontology_term=GO:0006260,GO:0003887,GO:0009360;gbkey=CDS;gene=dnaN;go_component=DNA polymerase III complex|0009360||IEA;go_function=DNA-directed DNA polymerase activity|0003887||IEA;go_process=DNA replication|0006260||IEA;inference=COORDINATES: similar to AA sequence:RefSeq:WP_010874358.1;locus_tag=MG_RS00005;product=DNA polymerase III subunit beta;protein_id=WP_009885562.1;transl_table=4',\n",
       " 'comments': None,\n",
       " 'spans': array([[ 685, 1828]]),\n",
       " 'name': 'cds-WP_009885562.1',\n",
       " 'parent_id': 'gene-MG_RS00005'}"
      ]
     },
     "execution_count": 11,
     "metadata": {},
     "output_type": "execute_result"
    }
   ],
   "source": [
    "replication_records = list(\n",
    "    gff_db.get_records_matching(attributes=\"replication\", biotype=\"CDS\")\n",
    ")\n",
    "replication_records[0]  # showing just the first match"
   ]
  },
  {
   "cell_type": "code",
   "execution_count": 12,
   "id": "31035c20",
   "metadata": {
    "execution": {
     "iopub.execute_input": "2023-12-15T00:07:49.131767Z",
     "iopub.status.busy": "2023-12-15T00:07:49.131705Z",
     "iopub.status.idle": "2023-12-15T00:07:49.133682Z",
     "shell.execute_reply": "2023-12-15T00:07:49.133446Z"
    }
   },
   "outputs": [
    {
     "data": {
      "text/plain": [
       "563"
      ]
     },
     "execution_count": 12,
     "metadata": {},
     "output_type": "execute_result"
    }
   ],
   "source": [
    "gb_db.num_matches(biotype=\"gene\")"
   ]
  },
  {
   "cell_type": "code",
   "execution_count": 13,
   "id": "9963de46",
   "metadata": {
    "execution": {
     "iopub.execute_input": "2023-12-15T00:07:49.134798Z",
     "iopub.status.busy": "2023-12-15T00:07:49.134733Z",
     "iopub.status.idle": "2023-12-15T00:07:49.137386Z",
     "shell.execute_reply": "2023-12-15T00:07:49.137181Z"
    }
   },
   "outputs": [
    {
     "data": {
      "text/plain": [
       "561"
      ]
     },
     "execution_count": 13,
     "metadata": {},
     "output_type": "execute_result"
    }
   ],
   "source": [
    "total_genes = gb_db.count_distinct(biotype=\"gene\", name=True)\n",
    "single_copy = total_genes[total_genes.columns[\"count\"] == 1, :]\n",
    "len(single_copy)"
   ]
  },
  {
   "cell_type": "code",
   "execution_count": 14,
   "id": "278d9e24",
   "metadata": {
    "execution": {
     "iopub.execute_input": "2023-12-15T00:07:49.138461Z",
     "iopub.status.busy": "2023-12-15T00:07:49.138397Z",
     "iopub.status.idle": "2023-12-15T00:07:49.141295Z",
     "shell.execute_reply": "2023-12-15T00:07:49.141075Z"
    }
   },
   "outputs": [
    {
     "name": "stdout",
     "output_type": "stream",
     "text": [
      "total genes:  547\n",
      "single copy genes:  547\n"
     ]
    }
   ],
   "source": [
    "total_genes = gff_db.num_matches(biotype=\"gene\")\n",
    "print(\"total genes: \", total_genes)\n",
    "genes = gff_db.count_distinct(biotype=\"gene\", name=True)\n",
    "single_copy = genes[genes.columns[\"count\"] == 1, :]\n",
    "print(\"single copy genes: \", len(single_copy))"
   ]
  },
  {
   "cell_type": "code",
   "execution_count": 15,
   "id": "3d8d662a",
   "metadata": {
    "execution": {
     "iopub.execute_input": "2023-12-15T00:07:49.142383Z",
     "iopub.status.busy": "2023-12-15T00:07:49.142309Z",
     "iopub.status.idle": "2023-12-15T00:07:49.144418Z",
     "shell.execute_reply": "2023-12-15T00:07:49.144195Z"
    }
   },
   "outputs": [
    {
     "data": {
      "text/plain": [
       "[{'seqid': 'NC_000908.2',\n",
       "  'biotype': 'CDS',\n",
       "  'spans': [(9155, 9920)],\n",
       "  'name': 'cds-WP_009885556.1',\n",
       "  'on_alignment': None,\n",
       "  'reversed': False}]"
      ]
     },
     "execution_count": 15,
     "metadata": {},
     "output_type": "execute_result"
    }
   ],
   "source": [
    "children = list(gff_db.get_feature_children(name=\"gene-MG_RS00035\"))\n",
    "children"
   ]
  },
  {
   "cell_type": "code",
   "execution_count": 16,
   "id": "360436cf",
   "metadata": {
    "execution": {
     "iopub.execute_input": "2023-12-15T00:07:49.145554Z",
     "iopub.status.busy": "2023-12-15T00:07:49.145477Z",
     "iopub.status.idle": "2023-12-15T00:07:49.147630Z",
     "shell.execute_reply": "2023-12-15T00:07:49.147419Z"
    }
   },
   "outputs": [
    {
     "data": {
      "text/plain": [
       "[{'seqid': 'NC_000908.2',\n",
       "  'biotype': 'gene',\n",
       "  'spans': [(9155, 9920)],\n",
       "  'name': 'gene-MG_RS00035',\n",
       "  'on_alignment': None,\n",
       "  'reversed': False}]"
      ]
     },
     "execution_count": 16,
     "metadata": {},
     "output_type": "execute_result"
    }
   ],
   "source": [
    "parents = list(gff_db.get_feature_parent(name=\"cds-WP_009885556.1\"))\n",
    "parents"
   ]
  },
  {
   "cell_type": "code",
   "execution_count": 17,
   "id": "767bcbd8",
   "metadata": {
    "execution": {
     "iopub.execute_input": "2023-12-15T00:07:49.148743Z",
     "iopub.status.busy": "2023-12-15T00:07:49.148659Z",
     "iopub.status.idle": "2023-12-15T00:07:49.150492Z",
     "shell.execute_reply": "2023-12-15T00:07:49.150263Z"
    }
   },
   "outputs": [
    {
     "data": {
      "text/plain": [
       "True"
      ]
     },
     "execution_count": 17,
     "metadata": {},
     "output_type": "execute_result"
    }
   ],
   "source": [
    "gff_db.compatible(anno_db)"
   ]
  },
  {
   "cell_type": "code",
   "execution_count": 18,
   "id": "9d2c9d98",
   "metadata": {
    "execution": {
     "iopub.execute_input": "2023-12-15T00:07:49.151536Z",
     "iopub.status.busy": "2023-12-15T00:07:49.151458Z",
     "iopub.status.idle": "2023-12-15T00:07:49.153262Z",
     "shell.execute_reply": "2023-12-15T00:07:49.153053Z"
    }
   },
   "outputs": [
    {
     "data": {
      "text/plain": [
       "False"
      ]
     },
     "execution_count": 18,
     "metadata": {},
     "output_type": "execute_result"
    }
   ],
   "source": [
    "gff_db.compatible(gb_db)"
   ]
  },
  {
   "cell_type": "code",
   "execution_count": 19,
   "id": "03099393",
   "metadata": {
    "execution": {
     "iopub.execute_input": "2023-12-15T00:07:49.154350Z",
     "iopub.status.busy": "2023-12-15T00:07:49.154290Z",
     "iopub.status.idle": "2023-12-15T00:07:49.167012Z",
     "shell.execute_reply": "2023-12-15T00:07:49.166785Z"
    }
   },
   "outputs": [
    {
     "data": {
      "text/html": [
       "\n",
       "<div class=\"c3table\">\n",
       "\n",
       "<style>\n",
       ".c3table table {margin: 10px 0;}\n",
       ".c3table tr:last-child {border-bottom: 1px solid #000;} \n",
       ".c3table tr > th {text-align: left; padding: 0 5px;}\n",
       ".c3table tr > td {text-align: left; padding: 5px;}\n",
       ".c3table tr:nth-child(even) {background: #f7f7f7 !important;}\n",
       ".c3table .ellipsis {background: rgba(0, 0, 0, .01);}\n",
       ".c3table .index {background: rgba(161, 195, 209, 0.0); margin: 10px; font-weight: 600;}\n",
       ".c3table .head_cell {background: rgba(161, 195, 209, 0.75); font-weight: bold; text-align: center;}\n",
       ".c3table caption {color: rgb(250, 250, 250); background: rgba(30, 140, 200, 1); padding: 3px; white-space: nowrap; caption-side: top;}\n",
       ".c3table .cell_title {font-weight: bold;}\n",
       ".c3col_left { text-align: left !important; display: block;}\n",
       ".c3col_right { text-align: right !important; display: block;}\n",
       ".c3col_center { text-align: center !important; display: block;}\n",
       "</style>\n",
       "\n",
       "<table>\n",
       "\n",
       "<thead class=\"head_cell\">\n",
       "<th></th><th>count</th>\n",
       "</thead>\n",
       "<tbody>\n",
       "<tr><td><span class=\"c3col_left\">num_rows('gb')</span></td><td><span class=\"c3col_right\">1,127</span></td></tr>\n",
       "<tr><td><span class=\"c3col_left\">num_rows('user')</span></td><td><span class=\"c3col_right\">1</span></td></tr>\n",
       "</tbody>\n",
       "</table>\n",
       "<p>\n",
       "2 rows x 2 columns</p>\n",
       "</div>"
      ],
      "text/plain": [
       "=========================\n",
       "                    count\n",
       "-------------------------\n",
       "num_rows('gb')      1,127\n",
       "num_rows('user')        1\n",
       "-------------------------\n",
       "\n",
       "2 rows x 2 columns"
      ]
     },
     "execution_count": 19,
     "metadata": {},
     "output_type": "execute_result"
    }
   ],
   "source": [
    "union_db = gb_db.union(anno_db)\n",
    "union_db.describe[-2:, :]"
   ]
  },
  {
   "cell_type": "code",
   "execution_count": 20,
   "id": "8a2b0b3a",
   "metadata": {
    "execution": {
     "iopub.execute_input": "2023-12-15T00:07:49.168110Z",
     "iopub.status.busy": "2023-12-15T00:07:49.168048Z",
     "iopub.status.idle": "2023-12-15T00:07:49.170769Z",
     "shell.execute_reply": "2023-12-15T00:07:49.170554Z"
    }
   },
   "outputs": [
    {
     "data": {
      "text/html": [
       "\n",
       "<div class=\"c3table\">\n",
       "\n",
       "<style>\n",
       ".c3table table {margin: 10px 0;}\n",
       ".c3table tr:last-child {border-bottom: 1px solid #000;} \n",
       ".c3table tr > th {text-align: left; padding: 0 5px;}\n",
       ".c3table tr > td {text-align: left; padding: 5px;}\n",
       ".c3table tr:nth-child(even) {background: #f7f7f7 !important;}\n",
       ".c3table .ellipsis {background: rgba(0, 0, 0, .01);}\n",
       ".c3table .index {background: rgba(161, 195, 209, 0.0); margin: 10px; font-weight: 600;}\n",
       ".c3table .head_cell {background: rgba(161, 195, 209, 0.75); font-weight: bold; text-align: center;}\n",
       ".c3table caption {color: rgb(250, 250, 250); background: rgba(30, 140, 200, 1); padding: 3px; white-space: nowrap; caption-side: top;}\n",
       ".c3table .cell_title {font-weight: bold;}\n",
       ".c3col_left { text-align: left !important; display: block;}\n",
       ".c3col_right { text-align: right !important; display: block;}\n",
       ".c3col_center { text-align: center !important; display: block;}\n",
       "</style>\n",
       "\n",
       "<table>\n",
       "\n",
       "<thead class=\"head_cell\">\n",
       "<th></th><th>count</th>\n",
       "</thead>\n",
       "<tbody>\n",
       "<tr><td><span class=\"c3col_left\">num_rows('gff')</span></td><td><span class=\"c3col_right\">1,169</span></td></tr>\n",
       "<tr><td><span class=\"c3col_left\">num_rows('user')</span></td><td><span class=\"c3col_right\">2</span></td></tr>\n",
       "</tbody>\n",
       "</table>\n",
       "<p>\n",
       "2 rows x 2 columns</p>\n",
       "</div>"
      ],
      "text/plain": [
       "=========================\n",
       "                    count\n",
       "-------------------------\n",
       "num_rows('gff')     1,169\n",
       "num_rows('user')        2\n",
       "-------------------------\n",
       "\n",
       "2 rows x 2 columns"
      ]
     },
     "execution_count": 20,
     "metadata": {},
     "output_type": "execute_result"
    }
   ],
   "source": [
    "gff_db.update(anno_db)\n",
    "gff_db.describe[-2:, :]"
   ]
  },
  {
   "cell_type": "code",
   "execution_count": 21,
   "id": "1866fa2d",
   "metadata": {
    "execution": {
     "iopub.execute_input": "2023-12-15T00:07:49.171835Z",
     "iopub.status.busy": "2023-12-15T00:07:49.171770Z",
     "iopub.status.idle": "2023-12-15T00:07:49.175333Z",
     "shell.execute_reply": "2023-12-15T00:07:49.175136Z"
    }
   },
   "outputs": [
    {
     "data": {
      "text/plain": [
       "GenbankAnnotationDb(seqid='<multiple seqids>', source='m-genitalium-database.gbdb', namer=None, total_records=1)"
      ]
     },
     "execution_count": 21,
     "metadata": {},
     "output_type": "execute_result"
    }
   ],
   "source": [
    "from cogent3.core.annotation_db import GenbankAnnotationDb\n",
    "\n",
    "new_gb_db = GenbankAnnotationDb(source=\"m-genitalium-database.gbdb\", db=anno_db)\n",
    "new_gb_db"
   ]
  },
  {
   "cell_type": "code",
   "execution_count": 22,
   "id": "7000f2c3",
   "metadata": {
    "execution": {
     "iopub.execute_input": "2023-12-15T00:07:49.176377Z",
     "iopub.status.busy": "2023-12-15T00:07:49.176305Z",
     "iopub.status.idle": "2023-12-15T00:07:49.191389Z",
     "shell.execute_reply": "2023-12-15T00:07:49.191178Z"
    }
   },
   "outputs": [
    {
     "data": {
      "text/html": [
       "\n",
       "<div class=\"c3table\">\n",
       "\n",
       "<style>\n",
       ".c3table table {margin: 10px 0;}\n",
       ".c3table tr:last-child {border-bottom: 1px solid #000;} \n",
       ".c3table tr > th {text-align: left; padding: 0 5px;}\n",
       ".c3table tr > td {text-align: left; padding: 5px;}\n",
       ".c3table tr:nth-child(even) {background: #f7f7f7 !important;}\n",
       ".c3table .ellipsis {background: rgba(0, 0, 0, .01);}\n",
       ".c3table .index {background: rgba(161, 195, 209, 0.0); margin: 10px; font-weight: 600;}\n",
       ".c3table .head_cell {background: rgba(161, 195, 209, 0.75); font-weight: bold; text-align: center;}\n",
       ".c3table caption {color: rgb(250, 250, 250); background: rgba(30, 140, 200, 1); padding: 3px; white-space: nowrap; caption-side: top;}\n",
       ".c3table .cell_title {font-weight: bold;}\n",
       ".c3col_left { text-align: left !important; display: block;}\n",
       ".c3col_right { text-align: right !important; display: block;}\n",
       ".c3col_center { text-align: center !important; display: block;}\n",
       "</style>\n",
       "\n",
       "<table>\n",
       "\n",
       "<thead class=\"head_cell\">\n",
       "<th></th><th>count</th>\n",
       "</thead>\n",
       "<tbody>\n",
       "<tr><td><span class=\"c3col_left\">seqid('NC_000908.2')</span></td><td><span class=\"c3col_right\">521</span></td></tr>\n",
       "<tr><td><span class=\"c3col_left\">biotype('CDS')</span></td><td><span class=\"c3col_right\">521</span></td></tr>\n",
       "<tr><td><span class=\"c3col_left\">num_rows('gff')</span></td><td><span class=\"c3col_right\">521</span></td></tr>\n",
       "<tr><td><span class=\"c3col_left\">num_rows('user')</span></td><td><span class=\"c3col_right\">0</span></td></tr>\n",
       "</tbody>\n",
       "</table>\n",
       "<p>\n",
       "4 rows x 2 columns</p>\n",
       "</div>"
      ],
      "text/plain": [
       "=============================\n",
       "                        count\n",
       "-----------------------------\n",
       "seqid('NC_000908.2')      521\n",
       "biotype('CDS')            521\n",
       "num_rows('gff')           521\n",
       "num_rows('user')            0\n",
       "-----------------------------\n",
       "\n",
       "4 rows x 2 columns"
      ]
     },
     "execution_count": 22,
     "metadata": {},
     "output_type": "execute_result"
    }
   ],
   "source": [
    "from cogent3 import load_annotations\n",
    "\n",
    "gff_db = load_annotations(path=\"data/mycoplasma-genitalium.gff\")\n",
    "just_cds = gff_db.subset(biotype=\"CDS\")\n",
    "just_cds.describe"
   ]
  },
  {
   "cell_type": "code",
   "execution_count": 23,
   "id": "cf76eebc",
   "metadata": {
    "execution": {
     "iopub.execute_input": "2023-12-15T00:07:49.192497Z",
     "iopub.status.busy": "2023-12-15T00:07:49.192433Z",
     "iopub.status.idle": "2023-12-15T00:07:49.194811Z",
     "shell.execute_reply": "2023-12-15T00:07:49.194578Z"
    }
   },
   "outputs": [
    {
     "data": {
      "text/plain": [
       "BasicAnnotationDb(source=':memory:', total_records=1)"
      ]
     },
     "execution_count": 23,
     "metadata": {},
     "output_type": "execute_result"
    }
   ],
   "source": [
    "from cogent3 import make_seq\n",
    "\n",
    "seq1 = make_seq(\n",
    "    \"AAGAAGAAGACCCCCAAAAAAAAAATTTTTTTTTTAAAAAGGGAACCCT\",\n",
    "    name=\"NC_000908\",\n",
    "    moltype=\"dna\",\n",
    ")\n",
    "\n",
    "seq1.annotation_db = anno_db\n",
    "seq1.annotation_db"
   ]
  },
  {
   "cell_type": "code",
   "execution_count": 24,
   "id": "f71efc57",
   "metadata": {
    "execution": {
     "iopub.execute_input": "2023-12-15T00:07:49.195857Z",
     "iopub.status.busy": "2023-12-15T00:07:49.195794Z",
     "iopub.status.idle": "2023-12-15T00:07:49.238253Z",
     "shell.execute_reply": "2023-12-15T00:07:49.238037Z"
    }
   },
   "outputs": [
    {
     "data": {
      "text/plain": [
       "GenbankAnnotationDb(seqid='NC_000908', source=':memory:', namer=None, total_records=1127)"
      ]
     },
     "execution_count": 24,
     "metadata": {},
     "output_type": "execute_result"
    }
   ],
   "source": [
    "from cogent3 import load_seq\n",
    "\n",
    "gb_seq = load_seq(\"data/mycoplasma-genitalium.gb\")\n",
    "gb_seq.annotation_db"
   ]
  },
  {
   "cell_type": "code",
   "execution_count": 25,
   "id": "f104f002",
   "metadata": {
    "execution": {
     "iopub.execute_input": "2023-12-15T00:07:49.239393Z",
     "iopub.status.busy": "2023-12-15T00:07:49.239329Z",
     "iopub.status.idle": "2023-12-15T00:07:49.254019Z",
     "shell.execute_reply": "2023-12-15T00:07:49.253792Z"
    }
   },
   "outputs": [
    {
     "data": {
      "text/plain": [
       "GffAnnotationDb(source=':memory:', total_records=0)"
      ]
     },
     "execution_count": 25,
     "metadata": {},
     "output_type": "execute_result"
    }
   ],
   "source": [
    "gff_seq = load_seq(\n",
    "    \"data/mycoplasma-genitalium.fa\",\n",
    "    annotation_path=\"data/mycoplasma-genitalium.gff\",\n",
    ")\n",
    "gff_seq.annotation_db"
   ]
  },
  {
   "cell_type": "code",
   "execution_count": 26,
   "id": "7f07a7cb",
   "metadata": {
    "execution": {
     "iopub.execute_input": "2023-12-15T00:07:49.255107Z",
     "iopub.status.busy": "2023-12-15T00:07:49.255045Z",
     "iopub.status.idle": "2023-12-15T00:07:49.277633Z",
     "shell.execute_reply": "2023-12-15T00:07:49.277432Z"
    }
   },
   "outputs": [
    {
     "data": {
      "text/plain": [
       "GffAnnotationDb(source=':memory:', total_records=1169)"
      ]
     },
     "execution_count": 26,
     "metadata": {},
     "output_type": "execute_result"
    }
   ],
   "source": [
    "seq = load_seq(\n",
    "    \"data/mycoplasma-genitalium.fa\",\n",
    "    annotation_path=\"data/mycoplasma-genitalium.gff\",\n",
    "    label_to_name=lambda x: x.split()[0],\n",
    ")\n",
    "seq.annotation_db"
   ]
  },
  {
   "cell_type": "code",
   "execution_count": 27,
   "id": "02f1db9e",
   "metadata": {
    "execution": {
     "iopub.execute_input": "2023-12-15T00:07:49.278763Z",
     "iopub.status.busy": "2023-12-15T00:07:49.278695Z",
     "iopub.status.idle": "2023-12-15T00:07:49.280264Z",
     "shell.execute_reply": "2023-12-15T00:07:49.280039Z"
    }
   },
   "outputs": [],
   "source": [
    "import pathlib\n",
    "\n",
    "# clean up files\n",
    "\n",
    "path = pathlib.Path(\"m-genitalium-database.gbdb\")\n",
    "path.unlink()"
   ]
  }
 ],
 "metadata": {
  "kernelspec": {
   "display_name": "Python 3 (ipykernel)",
   "language": "python",
   "name": "python3"
  },
  "language_info": {
   "codemirror_mode": {
    "name": "ipython",
    "version": 3
   },
   "file_extension": ".py",
   "mimetype": "text/x-python",
   "name": "python",
   "nbconvert_exporter": "python",
   "pygments_lexer": "ipython3",
   "version": "3.11.6"
  }
 },
 "nbformat": 4,
 "nbformat_minor": 5
}