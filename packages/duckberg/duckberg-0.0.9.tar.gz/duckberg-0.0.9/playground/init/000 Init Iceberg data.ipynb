{
 "cells": [
  {
   "cell_type": "markdown",
   "id": "5fbde0a9-df35-421b-857f-a602e549c630",
   "metadata": {},
   "source": [
    "# Init Iceberg data\n",
    "This notebook is mostly inspired by [Tabular.io blog post](https://tabular.medium.com/pyiceberg-0-2-1-pyarrow-and-duckdb-79effbd1077f) about PyIceberg. By running this notebook you will init the Iceberg data you will be able to query by Duckberg afterwards."
   ]
  },
  {
   "cell_type": "markdown",
   "id": "85103497-6a96-4835-9371-e55c4c4bfd4f",
   "metadata": {},
   "source": [
    "### Create database nyc"
   ]
  },
  {
   "cell_type": "code",
   "execution_count": 1,
   "id": "00ea440f-d7ab-4768-8a4e-eb9f1904cec3",
   "metadata": {},
   "outputs": [],
   "source": [
    "result = spark.sql(\"CREATE DATABASE IF NOT EXISTS nyc;\")"
   ]
  },
  {
   "cell_type": "markdown",
   "id": "e5e5beb2-dee6-44a0-b797-74c3762e731a",
   "metadata": {},
   "source": [
    "### Create database nyc\n",
    "Create Iceberg table that is partitioned by `payment_type`"
   ]
  },
  {
   "cell_type": "code",
   "execution_count": 2,
   "id": "5e5310fd-1af1-49f0-b29a-31e15a9e6b73",
   "metadata": {},
   "outputs": [],
   "source": [
    "query = \"\"\"\n",
    "CREATE TABLE IF NOT EXISTS nyc.taxis (\n",
    "    VendorID              bigint,\n",
    "    tpep_pickup_datetime  timestamp,\n",
    "    tpep_dropoff_datetime timestamp,\n",
    "    passenger_count       double,\n",
    "    trip_distance         double,\n",
    "    RatecodeID            double,\n",
    "    store_and_fwd_flag    string,\n",
    "    PULocationID          bigint,\n",
    "    DOLocationID          bigint,\n",
    "    payment_type          bigint,\n",
    "    fare_amount           double,\n",
    "    extra                 double,\n",
    "    mta_tax               double,\n",
    "    tip_amount            double,\n",
    "    tolls_amount          double,\n",
    "    improvement_surcharge double,\n",
    "    total_amount          double,\n",
    "    congestion_surcharge  double,\n",
    "    airport_fee           double\n",
    ")\n",
    "USING iceberg\n",
    "PARTITIONED BY (payment_type)\n",
    "\"\"\"\n",
    "\n",
    "result = spark.sql(query)"
   ]
  },
  {
   "cell_type": "markdown",
   "id": "38b18da6-59c2-40b0-a1d5-35a49eb9ae65",
   "metadata": {},
   "source": [
    "### Load data into table"
   ]
  },
  {
   "cell_type": "code",
   "execution_count": 3,
   "id": "3b400ff6-7d74-4c12-9214-b7bf1d62119c",
   "metadata": {},
   "outputs": [
    {
     "name": "stderr",
     "output_type": "stream",
     "text": [
      "23/12/20 09:54:53 WARN SparkSession: Using an existing Spark session; only runtime SQL configurations will take effect.\n",
      "                                                                                \r"
     ]
    }
   ],
   "source": [
    "from pyspark.sql import SparkSession\n",
    "spark = SparkSession.builder.appName(\"Jupyter\").getOrCreate()\n",
    "\n",
    "for filename in [\n",
    "    \"yellow_tripdata_2022-01.parquet\",\n",
    "    \"yellow_tripdata_2022-02.parquet\",\n",
    "    \"yellow_tripdata_2022-03.parquet\",\n",
    "]:\n",
    "    df = spark.read.parquet(f\"/home/iceberg/data/{filename}\")\n",
    "    df.write.mode(\"append\").saveAsTable(\"nyc.taxis\")"
   ]
  }
 ],
 "metadata": {
  "kernelspec": {
   "display_name": "Python 3 (ipykernel)",
   "language": "python",
   "name": "python3"
  },
  "language_info": {
   "codemirror_mode": {
    "name": "ipython",
    "version": 3
   },
   "file_extension": ".py",
   "mimetype": "text/x-python",
   "name": "python",
   "nbconvert_exporter": "python",
   "pygments_lexer": "ipython3",
   "version": "3.9.18"
  }
 },
 "nbformat": 4,
 "nbformat_minor": 5
}
