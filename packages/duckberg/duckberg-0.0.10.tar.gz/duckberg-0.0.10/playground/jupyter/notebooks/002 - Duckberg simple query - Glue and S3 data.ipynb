{
 "cells": [
  {
   "cell_type": "markdown",
   "id": "f0e8782d-5cd5-4136-9b09-ef7f3fb2b9d9",
   "metadata": {},
   "source": [
    "### Prerequisities\n",
    "- be sure you have some Iceberg table in your AWS Glue catalog with some partitioned field that can be used for filtering\n",
    "- ensure you properly set all aws creds AWS_PROFILE, AWS_ACCESS_KEY_ID, AWS_SECRET_ACCESS_KEY, AWS_SESSION_TOKEN, AWS_DEFAULT_REGION. You can set it in the .env file or manually by"
   ]
  },
  {
   "cell_type": "code",
   "execution_count": null,
   "id": "ae384d62-ed38-4606-a533-d5c121a0052b",
   "metadata": {},
   "outputs": [],
   "source": [
    "# os.environ[\"AWS_DEFAULT_REGION\"] = \"\"\n",
    "# os.environ[\"AWS_ACCESS_KEY_ID\"] = \"\"\n",
    "# os.environ[\"AWS_SECRET_ACCESS_KEY\"] = \"\"\n",
    "# os.environ[\"AWS_SESSION_TOKEN\"] = "
   ]
  },
  {
   "cell_type": "code",
   "execution_count": 8,
   "id": "095e2644",
   "metadata": {
    "collapsed": false,
    "jupyter": {
     "outputs_hidden": false
    },
    "pycharm": {
     "name": "#%%\n"
    }
   },
   "outputs": [],
   "source": [
    "from duckberg import DuckBerg"
   ]
  },
  {
   "cell_type": "markdown",
   "id": "5e701460-b715-4f05-8ef0-3734095e220c",
   "metadata": {
    "pycharm": {
     "name": "#%% md\n"
    }
   },
   "source": [
    "## Init catalog config and connection properties"
   ]
  },
  {
   "cell_type": "code",
   "execution_count": 9,
   "id": "a341c51f",
   "metadata": {
    "collapsed": false,
    "jupyter": {
     "outputs_hidden": false
    },
    "pycharm": {
     "name": "#%%\n"
    }
   },
   "outputs": [],
   "source": [
    "catalog_config: dict[str, str] = {\n",
    "    \"type\": \"glue\",\n",
    "}\n",
    "\n",
    "catalog_name = \"default\""
   ]
  },
  {
   "cell_type": "markdown",
   "id": "6af6f2fc-7da6-4f86-9db1-2ee78b18bcc0",
   "metadata": {
    "pycharm": {
     "name": "#%% md\n"
    }
   },
   "source": [
    "## Duckberg initialisation"
   ]
  },
  {
   "cell_type": "code",
   "execution_count": 4,
   "id": "5ccbb8f3",
   "metadata": {
    "collapsed": false,
    "jupyter": {
     "outputs_hidden": false
    },
    "pycharm": {
     "name": "#%%\n"
    }
   },
   "outputs": [],
   "source": [
    "db = DuckBerg(\n",
    "    catalog_name=catalog_name, \n",
    "    catalog_config=catalog_config, \n",
    "    database_names=[\"slido_iceberg\"], \n",
    "    table_names=[\"datapi_questions_iceberg\"]\n",
    ")"
   ]
  },
  {
   "cell_type": "markdown",
   "id": "269cf9ae-9602-42b1-89ae-26a2d5b059c2",
   "metadata": {
    "pycharm": {
     "name": "#%% md\n"
    }
   },
   "source": [
    "## List tables"
   ]
  },
  {
   "cell_type": "code",
   "execution_count": 5,
   "id": "4eb89548",
   "metadata": {
    "collapsed": false,
    "jupyter": {
     "outputs_hidden": false
    },
    "pycharm": {
     "name": "#%%\n"
    }
   },
   "outputs": [
    {
     "data": {
      "text/plain": [
       "['slido_iceberg.datapi_questions_iceberg']"
      ]
     },
     "execution_count": 5,
     "metadata": {},
     "output_type": "execute_result"
    }
   ],
   "source": [
    "tables = db.list_tables()\n",
    "tables"
   ]
  },
  {
   "cell_type": "markdown",
   "id": "2eb896f2-60f4-4516-ad9b-e500d1df070a",
   "metadata": {
    "pycharm": {
     "name": "#%% md\n"
    }
   },
   "source": [
    "## List partitions\n",
    "To see what partitions you can use afterward in the partitions filters"
   ]
  },
  {
   "cell_type": "code",
   "execution_count": 6,
   "id": "0fc64b12",
   "metadata": {
    "collapsed": false,
    "jupyter": {
     "outputs_hidden": false
    },
    "pycharm": {
     "name": "#%%\n"
    }
   },
   "outputs": [
    {
     "data": {
      "text/plain": [
       "['organization_id']"
      ]
     },
     "execution_count": 6,
     "metadata": {},
     "output_type": "execute_result"
    }
   ],
   "source": [
    "partitions = db.list_partitions(table=\"slido_iceberg.datapi_questions_iceberg\")\n",
    "partitions"
   ]
  },
  {
   "cell_type": "markdown",
   "id": "8d878f78-6eef-4290-a37c-5e83472c8e5e",
   "metadata": {
    "pycharm": {
     "name": "#%% md\n"
    }
   },
   "source": [
    "## Query data - filter by partition\n",
    "With usage of partition filter to read data just from files we need."
   ]
  },
  {
   "cell_type": "code",
   "execution_count": 7,
   "id": "f267cd22",
   "metadata": {},
   "outputs": [
    {
     "name": "stderr",
     "output_type": "stream",
     "text": [
      "/opt/conda/lib/python3.11/site-packages/pyiceberg/avro/decoder.py:184: UserWarning: Falling back to pure Python Avro decoder, missing Cython implementation\n",
      "  warnings.warn(\"Falling back to pure Python Avro decoder, missing Cython implementation\")\n"
     ]
    },
    {
     "data": {
      "text/html": [
       "<div>\n",
       "<style scoped>\n",
       "    .dataframe tbody tr th:only-of-type {\n",
       "        vertical-align: middle;\n",
       "    }\n",
       "\n",
       "    .dataframe tbody tr th {\n",
       "        vertical-align: top;\n",
       "    }\n",
       "\n",
       "    .dataframe thead th {\n",
       "        text-align: right;\n",
       "    }\n",
       "</style>\n",
       "<table border=\"1\" class=\"dataframe\">\n",
       "  <thead>\n",
       "    <tr style=\"text-align: right;\">\n",
       "      <th></th>\n",
       "      <th>question_id</th>\n",
       "      <th>event_id</th>\n",
       "      <th>organization_id</th>\n",
       "      <th>event_owner_user_id</th>\n",
       "      <th>room_id</th>\n",
       "      <th>participant_id</th>\n",
       "      <th>text</th>\n",
       "      <th>status</th>\n",
       "      <th>is_anonymous</th>\n",
       "      <th>is_starred</th>\n",
       "      <th>score</th>\n",
       "      <th>upvotes</th>\n",
       "      <th>downvotes</th>\n",
       "      <th>created_date</th>\n",
       "      <th>highlighted_date</th>\n",
       "      <th>modified_date</th>\n",
       "    </tr>\n",
       "  </thead>\n",
       "  <tbody>\n",
       "    <tr>\n",
       "      <th>0</th>\n",
       "      <td>80770375</td>\n",
       "      <td>51c19ed0-6220-4f44-995f-79f7845f4f96</td>\n",
       "      <td>4ad6a753-3252-49bd-9f5d-adaa150ad58a</td>\n",
       "      <td>2afe351e-3821-4613-9bd6-24f185ec2b41</td>\n",
       "      <td>bc8dffe4-480f-4489-a53b-4d63ebc1d1c3</td>\n",
       "      <td>02B31DF75B166F02942342D3A59353860BB00B58</td>\n",
       "      <td>kumbaja</td>\n",
       "      <td>live</td>\n",
       "      <td>True</td>\n",
       "      <td>False</td>\n",
       "      <td>0</td>\n",
       "      <td>0</td>\n",
       "      <td>0</td>\n",
       "      <td>2024-01-17 09:15:41</td>\n",
       "      <td>NaT</td>\n",
       "      <td>2024-01-17 09:27:56.135</td>\n",
       "    </tr>\n",
       "  </tbody>\n",
       "</table>\n",
       "</div>"
      ],
      "text/plain": [
       "  question_id                              event_id  \\\n",
       "0    80770375  51c19ed0-6220-4f44-995f-79f7845f4f96   \n",
       "\n",
       "                        organization_id                   event_owner_user_id  \\\n",
       "0  4ad6a753-3252-49bd-9f5d-adaa150ad58a  2afe351e-3821-4613-9bd6-24f185ec2b41   \n",
       "\n",
       "                                room_id  \\\n",
       "0  bc8dffe4-480f-4489-a53b-4d63ebc1d1c3   \n",
       "\n",
       "                             participant_id     text status  is_anonymous  \\\n",
       "0  02B31DF75B166F02942342D3A59353860BB00B58  kumbaja   live          True   \n",
       "\n",
       "   is_starred  score  upvotes  downvotes        created_date highlighted_date  \\\n",
       "0       False      0        0          0 2024-01-17 09:15:41              NaT   \n",
       "\n",
       "            modified_date  \n",
       "0 2024-01-17 09:27:56.135  "
      ]
     },
     "execution_count": 7,
     "metadata": {},
     "output_type": "execute_result"
    }
   ],
   "source": [
    "query = \"SELECT * FROM 'slido_iceberg.datapi_questions_iceberg' WHERE organization_id='4ad6a753-3252-49bd-9f5d-adaa150ad58a'\"\n",
    "df = db.select(sql=query).read_pandas()\n",
    "df.head(10)"
   ]
  },
  {
   "cell_type": "markdown",
   "id": "40019f6b",
   "metadata": {},
   "source": [
    "### Query data - Old way"
   ]
  },
  {
   "cell_type": "code",
   "execution_count": 10,
   "id": "259c91d0-4988-40a4-9e6c-94a381e065c1",
   "metadata": {
    "pycharm": {
     "name": "#%%\n"
    }
   },
   "outputs": [
    {
     "name": "stderr",
     "output_type": "stream",
     "text": [
      "/opt/conda/lib/python3.11/site-packages/pyiceberg/avro/decoder.py:184: UserWarning: Falling back to pure Python Avro decoder, missing Cython implementation\n",
      "  warnings.warn(\"Falling back to pure Python Avro decoder, missing Cython implementation\")\n"
     ]
    },
    {
     "data": {
      "text/html": [
       "<div>\n",
       "<style scoped>\n",
       "    .dataframe tbody tr th:only-of-type {\n",
       "        vertical-align: middle;\n",
       "    }\n",
       "\n",
       "    .dataframe tbody tr th {\n",
       "        vertical-align: top;\n",
       "    }\n",
       "\n",
       "    .dataframe thead th {\n",
       "        text-align: right;\n",
       "    }\n",
       "</style>\n",
       "<table border=\"1\" class=\"dataframe\">\n",
       "  <thead>\n",
       "    <tr style=\"text-align: right;\">\n",
       "      <th></th>\n",
       "      <th>question_id</th>\n",
       "      <th>event_id</th>\n",
       "      <th>organization_id</th>\n",
       "      <th>event_owner_user_id</th>\n",
       "      <th>room_id</th>\n",
       "      <th>participant_id</th>\n",
       "      <th>text</th>\n",
       "      <th>status</th>\n",
       "      <th>is_anonymous</th>\n",
       "      <th>is_starred</th>\n",
       "      <th>score</th>\n",
       "      <th>upvotes</th>\n",
       "      <th>downvotes</th>\n",
       "      <th>created_date</th>\n",
       "      <th>highlighted_date</th>\n",
       "      <th>modified_date</th>\n",
       "    </tr>\n",
       "  </thead>\n",
       "  <tbody>\n",
       "    <tr>\n",
       "      <th>0</th>\n",
       "      <td>80770375</td>\n",
       "      <td>51c19ed0-6220-4f44-995f-79f7845f4f96</td>\n",
       "      <td>4ad6a753-3252-49bd-9f5d-adaa150ad58a</td>\n",
       "      <td>2afe351e-3821-4613-9bd6-24f185ec2b41</td>\n",
       "      <td>bc8dffe4-480f-4489-a53b-4d63ebc1d1c3</td>\n",
       "      <td>02B31DF75B166F02942342D3A59353860BB00B58</td>\n",
       "      <td>kumbaja</td>\n",
       "      <td>live</td>\n",
       "      <td>True</td>\n",
       "      <td>False</td>\n",
       "      <td>0</td>\n",
       "      <td>0</td>\n",
       "      <td>0</td>\n",
       "      <td>2024-01-17 09:15:41</td>\n",
       "      <td>NaT</td>\n",
       "      <td>2024-01-17 09:27:56.135</td>\n",
       "    </tr>\n",
       "  </tbody>\n",
       "</table>\n",
       "</div>"
      ],
      "text/plain": [
       "  question_id                              event_id  \\\n",
       "0    80770375  51c19ed0-6220-4f44-995f-79f7845f4f96   \n",
       "\n",
       "                        organization_id                   event_owner_user_id  \\\n",
       "0  4ad6a753-3252-49bd-9f5d-adaa150ad58a  2afe351e-3821-4613-9bd6-24f185ec2b41   \n",
       "\n",
       "                                room_id  \\\n",
       "0  bc8dffe4-480f-4489-a53b-4d63ebc1d1c3   \n",
       "\n",
       "                             participant_id     text status  is_anonymous  \\\n",
       "0  02B31DF75B166F02942342D3A59353860BB00B58  kumbaja   live          True   \n",
       "\n",
       "   is_starred  score  upvotes  downvotes        created_date highlighted_date  \\\n",
       "0       False      0        0          0 2024-01-17 09:15:41              NaT   \n",
       "\n",
       "            modified_date  \n",
       "0 2024-01-17 09:27:56.135  "
      ]
     },
     "execution_count": 10,
     "metadata": {},
     "output_type": "execute_result"
    }
   ],
   "source": [
    "query = \"SELECT * FROM 'slido_iceberg.datapi_questions_iceberg'\"\n",
    "df = db.select(sql=query, table=\"slido_iceberg.datapi_questions_iceberg\", partition_filter=\"organization_id='4ad6a753-3252-49bd-9f5d-adaa150ad58a'\").read_pandas()\n",
    "df.head(10)"
   ]
  }
 ],
 "metadata": {
  "kernelspec": {
   "display_name": "Python 3 (ipykernel)",
   "language": "python",
   "name": "python3"
  },
  "language_info": {
   "codemirror_mode": {
    "name": "ipython",
    "version": 3
   },
   "file_extension": ".py",
   "mimetype": "text/x-python",
   "name": "python",
   "nbconvert_exporter": "python",
   "pygments_lexer": "ipython3",
   "version": "3.11.6"
  }
 },
 "nbformat": 4,
 "nbformat_minor": 5
}
