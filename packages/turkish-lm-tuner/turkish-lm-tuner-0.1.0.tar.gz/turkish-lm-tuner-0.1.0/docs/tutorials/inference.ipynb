{
  "cells": [
    {
      "cell_type": "markdown",
      "source": [
        "# Inference with `turkish-lm-tuner`"
      ],
      "metadata": {
        "id": "JeY6-b1PObTg"
      }
    },
    {
      "cell_type": "markdown",
      "source": [
        "## Installation\n",
        "The library can be installed as follows:\n"
      ],
      "metadata": {
        "id": "Qzs86vgGNxMa"
      }
    },
    {
      "cell_type": "code",
      "source": [
        "!pip install git+https://github.com/boun-tabi-LMG/turkish-lm-tuner.git"
      ],
      "metadata": {
        "id": "Qt1tuXI_MP6a"
      },
      "execution_count": null,
      "outputs": []
    },
    {
      "cell_type": "markdown",
      "metadata": {
        "id": "H1T-mDIFWqQE"
      },
      "source": [
        "## How to use `turkish-lm-tuner` for inference\n",
        "\n",
        "`turkish-lm-tuner` allows easy inference on Turkish language models. It supports various tasks.\n",
        "\n",
        "There can be multiple available fine-tuned models for each task. Check out available models [here.](https://huggingface.co/boun-tabi-LMG)\n",
        "\n",
        "### Examples\n",
        "\n",
        "The following examples show how to use `turkish-lm-tuner` for inference with conditional generation models.\n"
      ]
    },
    {
      "cell_type": "markdown",
      "source": [
        "#### Text Generation"
      ],
      "metadata": {
        "id": "E62WwFMDOCpj"
      }
    },
    {
      "cell_type": "code",
      "source": [
        "from turkish_lm_tuner import TextPredictor\n",
        "predictor = TextPredictor(model_name='boun-tabi-LMG/TURNA', task='generation')\n",
        "predictor.predict('[S2S] Bir varmış, bir yokmuş, evvel zaman içinde, kalbur saman içinde, uzak diyarların birinde bir turna<EOS>')"
      ],
      "metadata": {
        "id": "enGIbwrRN7F5"
      },
      "execution_count": null,
      "outputs": []
    },
    {
      "cell_type": "markdown",
      "source": [
        "#### Named Entity Recognition"
      ],
      "metadata": {
        "id": "1ga8TmP6OABA"
      }
    },
    {
      "cell_type": "code",
      "source": [
        "from turkish_lm_tuner import TextPredictor\n",
        "predictor = TextPredictor(model_name='boun-tabi-LMG/turna_ner_milliyet', task='ner')\n",
        "predictor.predict('Ecevit, Irak hükümetinin de Ankara Büyükelçiliği için agreman istediğini belirtti.')"
      ],
      "metadata": {
        "id": "8GZ-YQlFN-hi"
      },
      "execution_count": null,
      "outputs": []
    },
    {
      "cell_type": "markdown",
      "source": [
        "#### Text Summarization"
      ],
      "metadata": {
        "id": "fmatSgmJOWTp"
      }
    },
    {
      "cell_type": "code",
      "source": [
        "from turkish_lm_tuner import TextPredictor\n",
        "predictor = TextPredictor(model_name='boun-tabi-LMG/turna_summarization_tr_news', task='summarization')\n",
        "predictor.predict('Kalp krizi geçirenlerin yaklaşık üçte birinin kısa bir süre önce grip atlattığı düşünülüyor. Peki grip virüsü ne yapıyor da kalp krizine yol açıyor? Karpuz şöyle açıkladı: Grip virüsü kanın yapışkanlığını veya pıhtılaşmasını artırıyor.')"
      ],
      "metadata": {
        "id": "_ivo7sbgXFxq"
      },
      "execution_count": null,
      "outputs": []
    },
    {
      "cell_type": "markdown",
      "source": [
        "#### Text Categorization\n"
      ],
      "metadata": {
        "id": "15i0u_j7R3e3"
      }
    },
    {
      "cell_type": "code",
      "source": [
        "from turkish_lm_tuner import TextPredictor\n",
        "predictor = TextPredictor(model_name='boun-tabi-LMG/turna_classification_ttc4900', task='categorization')\n",
        "predictor.predict('anadolu_efes e 18 lik star ! beko_basketbol_ligi nde iddialı bir kadroyla sezona giren anadolu_efes transfer harekatına devam ediyor avrupa basınında yer alan iddialara göre lacivert beyazlıların son hedefi kk zagreb de forma giyen 1994 doğumlu dario saric hırvat oyuncunun anadolu_efes ile kesin anlaşmaya vardığı iddia edilirken efes in bu transfer için kk zagreb e 550 bin euro ödeyeceği ifade edildi saric in sezon sonuna kadar şu anda kiralık olarak formasını giydiği kk split te kalacağı ve sezon sonunda anadolu_efes e katılacağı belirtildi hırvat basketbolunun gelecek vaadeden isimlerinden biri olarak gösterilen saric 2 05 boyunda ve kısa forvet pozisyonunda görev yapıyor yıldız basketbolcu 2012 18 yaş altı avrupa_basketbol_şampiyonasında hırvatistan ı şampiyonluğa taşımıştı final karşılaşmasında litvanya potasına 39 sayı bırakan saric turnuvayı 25 6 sayı 10 1 ribaund ve 3 3 asist ortalamasıyla tamamlamıştı')"
      ],
      "metadata": {
        "id": "8LDS7dAPR2b2"
      },
      "execution_count": null,
      "outputs": []
    },
    {
      "cell_type": "markdown",
      "source": [
        "#### Natural Language Inference"
      ],
      "metadata": {
        "id": "0ZdtTXfKTnJX"
      }
    },
    {
      "cell_type": "code",
      "source": [
        "from turkish_lm_tuner import TextPredictor\n",
        "predictor = TextPredictor(model_name='boun-tabi-LMG/turna_nli_nli_tr', task='nli')\n",
        "hypothesis = \"Temple Bar'da çok sanatçı var.\"\n",
        "premise = \"Temple Bar herhangi bir müzisyen veya sanatçıdan tamamen yoksundur.\"\n",
        "predictor.predict(f\"hipotez: {hypothesis} önerme: {premise}\")"
      ],
      "metadata": {
        "id": "PyArZhLATp2y"
      },
      "execution_count": null,
      "outputs": []
    },
    {
      "cell_type": "markdown",
      "source": [
        "#### Sentiment Classification\n",
        "\n",
        "Models for sentiment classification were fine-tuned on two separate datasets:\n",
        "- [Product Reviews](https://huggingface.co/datasets/turkish_product_reviews), which contains two labels: \"negatif\" and \"pozitif\"\n",
        "- [Tweet Sentiment](https://ieeexplore.ieee.org/document/8554037), which contains three labels: \"olumsuz\", \"nötr\", and \"olumlu\""
      ],
      "metadata": {
        "id": "3ncVZ4poTrWL"
      }
    },
    {
      "cell_type": "code",
      "source": [
        "from turkish_lm_tuner import TextPredictor\n",
        "predictor = TextPredictor(model_name='boun-tabi-LMG/turna_classification_17bintweet_sentiment', task='sentiment')\n",
        "predictor.predict('sonunda bugün kurtuldum senden')"
      ],
      "metadata": {
        "id": "a_pEu75UTw0e"
      },
      "execution_count": null,
      "outputs": []
    },
    {
      "cell_type": "code",
      "source": [
        "from turkish_lm_tuner import TextPredictor\n",
        "predictor = TextPredictor(model_name='boun-tabi-LMG/turna_classification_tr_product_reviews', task='sentiment')\n",
        "predictor.predict('Bu kadar iyi bir ürün kullanmadım!')"
      ],
      "metadata": {
        "id": "6SgUeohDUJ73"
      },
      "execution_count": null,
      "outputs": []
    },
    {
      "cell_type": "markdown",
      "source": [
        "#### Part-of-speech Tagging"
      ],
      "metadata": {
        "id": "dfngLbTmWm_F"
      }
    },
    {
      "cell_type": "code",
      "source": [
        "from turkish_lm_tuner import TextPredictor\n",
        "predictor = TextPredictor(model_name='boun-tabi-LMG/turna_pos_boun', task='pos_tagging')\n",
        "predictor.predict('Çünkü her kişinin bir başka yolu, bir başka yöntemi olmak gerektir.')"
      ],
      "metadata": {
        "id": "ALeDh3UcW8lp"
      },
      "execution_count": null,
      "outputs": []
    },
    {
      "cell_type": "markdown",
      "source": [
        "#### Text Paraphrasing"
      ],
      "metadata": {
        "id": "FO9IV2PaXJkL"
      }
    },
    {
      "cell_type": "code",
      "source": [
        "from turkish_lm_tuner import TextPredictor\n",
        "predictor = TextPredictor(model_name='boun-tabi-LMG/turna_paraphrasing_tatoeba', task='paraphrasing')\n",
        "predictor.predict('Kalp krizi geçirenlerin yaklaşık üçte birinin kısa bir süre önce grip atlattığı düşünülüyor. ')"
      ],
      "metadata": {
        "id": "GT68kbguXLq4"
      },
      "execution_count": null,
      "outputs": []
    },
    {
      "cell_type": "markdown",
      "source": [
        "#### News Title Generation"
      ],
      "metadata": {
        "id": "GeUiA8q2XaAw"
      }
    },
    {
      "cell_type": "code",
      "source": [
        "from turkish_lm_tuner import TextPredictor\n",
        "predictor = TextPredictor(model_name='boun-tabi-LMG/turna_title_generation_mlsum', task='title_generation')\n",
        "predictor.predict('Kalp krizi geçirenlerin yaklaşık üçte birinin kısa bir süre önce grip atlattığı düşünülüyor. Peki grip virüsü ne yapıyor da kalp krizine yol açıyor? Karpuz şöyle açıkladı: Grip virüsü kanın yapışkanlığını veya pıhtılaşmasını artırıyor.')"
      ],
      "metadata": {
        "id": "Q-RZtJJdXeJE"
      },
      "execution_count": null,
      "outputs": []
    },
    {
      "cell_type": "markdown",
      "source": [
        "#### Semantic Textual Similarity"
      ],
      "metadata": {
        "id": "qHnmClyhXr6B"
      }
    },
    {
      "cell_type": "code",
      "source": [
        "from turkish_lm_tuner import TextPredictor\n",
        "predictor = TextPredictor(model_name='boun-tabi-LMG/turna_semantic_similarity_stsb_tr', task='sts')\n",
        "first_text = \"Bugün okula gitmedim.\"\n",
        "second_text = \"Ben okula gitmedim bugün.\"\n",
        "predictor.predict(f\"ilk cümle: {first_text} ikinci cümle: {second_text}\")"
      ],
      "metadata": {
        "id": "wz6Eos6wXv8Q"
      },
      "execution_count": null,
      "outputs": []
    }
  ],
  "metadata": {
    "language_info": {
      "name": "python"
    },
    "colab": {
      "provenance": []
    },
    "kernelspec": {
      "name": "python3",
      "display_name": "Python 3"
    }
  },
  "nbformat": 4,
  "nbformat_minor": 0
}