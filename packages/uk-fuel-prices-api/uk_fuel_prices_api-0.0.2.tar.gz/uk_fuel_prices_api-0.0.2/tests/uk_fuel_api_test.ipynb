{
 "cells": [
  {
   "cell_type": "code",
   "execution_count": 1,
   "metadata": {},
   "outputs": [
    {
     "ename": "ModuleNotFoundError",
     "evalue": "No module named 'uk_fuel_prices_api'",
     "output_type": "error",
     "traceback": [
      "\u001b[1;31m---------------------------------------------------------------------------\u001b[0m",
      "\u001b[1;31mModuleNotFoundError\u001b[0m                       Traceback (most recent call last)",
      "Cell \u001b[1;32mIn[1], line 9\u001b[0m\n\u001b[0;32m      6\u001b[0m \u001b[38;5;28;01mif\u001b[39;00m module_path \u001b[38;5;129;01mnot\u001b[39;00m \u001b[38;5;129;01min\u001b[39;00m sys\u001b[38;5;241m.\u001b[39mpath:\n\u001b[0;32m      7\u001b[0m     sys\u001b[38;5;241m.\u001b[39mpath\u001b[38;5;241m.\u001b[39mappend(module_path\u001b[38;5;241m+\u001b[39m\u001b[38;5;124m\"\u001b[39m\u001b[38;5;130;01m\\\\\u001b[39;00m\u001b[38;5;124msrc\u001b[39m\u001b[38;5;130;01m\\\\\u001b[39;00m\u001b[38;5;124muk_fuel_price_api\u001b[39m\u001b[38;5;124m\"\u001b[39m)\n\u001b[1;32m----> 9\u001b[0m \u001b[38;5;28;01mfrom\u001b[39;00m \u001b[38;5;21;01muk_fuel_prices_api\u001b[39;00m \u001b[38;5;28;01mimport\u001b[39;00m UKFuelPricesApi\n\u001b[0;32m     10\u001b[0m api \u001b[38;5;241m=\u001b[39m UKFuelPricesApi()\n\u001b[0;32m     12\u001b[0m \u001b[38;5;28;01mawait\u001b[39;00m api\u001b[38;5;241m.\u001b[39mget_prices()\n",
      "\u001b[1;31mModuleNotFoundError\u001b[0m: No module named 'uk_fuel_prices_api'"
     ]
    }
   ],
   "source": [
    "# Initialise\n",
    "import sys\n",
    "import os\n",
    "\n",
    "module_path = os.path.abspath(os.path.join('..'))\n",
    "if module_path not in sys.path:\n",
    "    sys.path.append(module_path+\"\\\\src\\\\uk_fuel_price_api\")\n",
    "\n",
    "from uk_fuel_prices_api import UKFuelPricesApi\n",
    "api = UKFuelPricesApi()\n",
    "\n",
    "await api.get_prices()\n",
    "\n",
    "print(\"Ready\")\n",
    "#display(df.sample(n=3))"
   ]
  },
  {
   "cell_type": "code",
   "execution_count": null,
   "metadata": {},
   "outputs": [],
   "source": [
    "# api.search\n",
    "\n",
    "value = \"burnle\"\n",
    "\n",
    "display(api.search(value, 10))"
   ]
  },
  {
   "cell_type": "code",
   "execution_count": null,
   "metadata": {},
   "outputs": [],
   "source": [
    "# api.get_site_id\n",
    "\n",
    "id = 'gcw37q9jvpy1'\n",
    "\n",
    "display(api.get_site_id(id))\n",
    "display(api.get_site_id(id)['brand'][0])"
   ]
  },
  {
   "cell_type": "code",
   "execution_count": null,
   "metadata": {},
   "outputs": [],
   "source": [
    "# api.nearest\n",
    "\n",
    "my_lat = 53.483959\n",
    "my_lng = -2.244644\n",
    "\n",
    "stations = api.nearest(my_lat, my_lng, 10)\n",
    "\n",
    "display (stations)"
   ]
  },
  {
   "cell_type": "code",
   "execution_count": null,
   "metadata": {},
   "outputs": [],
   "source": [
    "# get_stations_list\n",
    "\n",
    "station_list = api.get_stations_options()\n",
    "\n",
    "print(station_list)"
   ]
  },
  {
   "cell_type": "code",
   "execution_count": null,
   "metadata": {},
   "outputs": [],
   "source": []
  }
 ],
 "metadata": {
  "kernelspec": {
   "display_name": ".venv",
   "language": "python",
   "name": "python3"
  },
  "language_info": {
   "codemirror_mode": {
    "name": "ipython",
    "version": 3
   },
   "file_extension": ".py",
   "mimetype": "text/x-python",
   "name": "python",
   "nbconvert_exporter": "python",
   "pygments_lexer": "ipython3",
   "version": "3.10.6"
  }
 },
 "nbformat": 4,
 "nbformat_minor": 2
}
